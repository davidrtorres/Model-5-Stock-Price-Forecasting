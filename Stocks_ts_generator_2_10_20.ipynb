{
 "cells": [
  {
   "cell_type": "code",
   "execution_count": 1,
   "metadata": {},
   "outputs": [
    {
     "name": "stderr",
     "output_type": "stream",
     "text": [
      "Using Theano backend.\n"
     ]
    }
   ],
   "source": [
    "import pandas as pd\n",
    "import numpy as np\n",
    "import matplotlib.pyplot as plt\n",
    "%matplotlib inline\n",
    "\n",
    "from sklearn.preprocessing import MinMaxScaler\n",
    "\n",
    "import math\n",
    "\n",
    "import plotly.express as px\n",
    "\n",
    "import pandas_datareader.data as web\n",
    "\n",
    "from keras.callbacks import EarlyStopping\n",
    "\n",
    "import keras\n",
    "from keras.models import load_model\n",
    "from keras.preprocessing.sequence import TimeseriesGenerator\n",
    "#from tensorflow import keras\n",
    "from keras.models import Sequential\n",
    "from keras.layers import Dense\n",
    "from keras.layers import LSTM\n",
    "from keras.layers import Dropout\n",
    "\n",
    "from sklearn.metrics import mean_squared_error"
   ]
  },
  {
   "cell_type": "code",
   "execution_count": 2,
   "metadata": {},
   "outputs": [],
   "source": [
    "def multiple_stock_data(ticker=None, start=None, end=None, plot=True, stock_value=None):\n",
    "    \n",
    "    try:\n",
    "        #stock = pdr.get_data_yahoo(ticker,start,end)\n",
    "        data = {}\n",
    "        for stock in ticker:\n",
    "            data = web.DataReader(stock,'yahoo',start,end)[stock_value]\n",
    "        df_1 = pd.DataFrame(data)#.reset_index()\n",
    "        if plot==True:\n",
    "            df_1.plot(figsize=(12,8))\n",
    "            plt.title(\"Stock Adjusted Price Historical Data\")\n",
    "            plt.xlabel('Dates')\n",
    "            plt.ylabel('Stock Prices')\n",
    "            plt.legend(bbox_to_anchor=(1.05,1),loc='upper left') \n",
    "        \n",
    "        return df_1\n",
    "     \n",
    "    except Exception as e:\n",
    "        print(\"Error occured:\", e)\n",
    "        #data = 'Incorrect Symbol'\n"
   ]
  },
  {
   "cell_type": "code",
   "execution_count": 3,
   "metadata": {},
   "outputs": [],
   "source": [
    "# df_1 = multiple_stock_data(ticker=[['GOOGL','AAPL','AMZN']], start='09-19-2015',end='09-19-2018',plot=True, stock_value='Adj Close')\n",
    "# df_1"
   ]
  },
  {
   "cell_type": "code",
   "execution_count": 4,
   "metadata": {},
   "outputs": [],
   "source": [
    "def single_stock_data(symbol, start,end,plot=True,stock_value='Adj Close'):\n",
    "    \n",
    "    try:\n",
    "        \n",
    "        df = web.DataReader(symbol,'yahoo', start, end)\n",
    "        df_single = pd.DataFrame(df)\n",
    "        print(\"Dataframe has {} rows and {} columns\".format(df_single.shape[0],df_single.shape[1]))\n",
    "        print()\n",
    "        if plot==True:\n",
    "            plt.figure(figsize=(12,8))\n",
    "            plt.plot(df_single[stock_value])\n",
    "            label_font = {'weight':'bold','size':18}\n",
    "            plt.xlabel('Date',fontdict=label_font)\n",
    "            plt.ylabel('Close Price USD ($)',fontdict=label_font)\n",
    "            plt.title(f'Historical {stock_value} Price for {symbol}',fontdict=label_font)\n",
    "            #plot = go.Scatter(x=df_single.index, y=df_single['Adj Close'])\n",
    "            \n",
    "        return df_single\n",
    "\n",
    "    except Exception as e:\n",
    "        print(\"Error occured:\", e)\n",
    "        #data = 'Incorrect Symbol'\n"
   ]
  },
  {
   "cell_type": "code",
   "execution_count": 5,
   "metadata": {},
   "outputs": [
    {
     "name": "stdout",
     "output_type": "stream",
     "text": [
      "Dataframe has 756 rows and 6 columns\n",
      "\n"
     ]
    },
    {
     "data": {
      "text/html": [
       "<div>\n",
       "<style scoped>\n",
       "    .dataframe tbody tr th:only-of-type {\n",
       "        vertical-align: middle;\n",
       "    }\n",
       "\n",
       "    .dataframe tbody tr th {\n",
       "        vertical-align: top;\n",
       "    }\n",
       "\n",
       "    .dataframe thead th {\n",
       "        text-align: right;\n",
       "    }\n",
       "</style>\n",
       "<table border=\"1\" class=\"dataframe\">\n",
       "  <thead>\n",
       "    <tr style=\"text-align: right;\">\n",
       "      <th></th>\n",
       "      <th>High</th>\n",
       "      <th>Low</th>\n",
       "      <th>Open</th>\n",
       "      <th>Close</th>\n",
       "      <th>Volume</th>\n",
       "      <th>Adj Close</th>\n",
       "    </tr>\n",
       "    <tr>\n",
       "      <th>Date</th>\n",
       "      <th></th>\n",
       "      <th></th>\n",
       "      <th></th>\n",
       "      <th></th>\n",
       "      <th></th>\n",
       "      <th></th>\n",
       "    </tr>\n",
       "  </thead>\n",
       "  <tbody>\n",
       "    <tr>\n",
       "      <th>2015-09-21</th>\n",
       "      <td>549.780029</td>\n",
       "      <td>539.590027</td>\n",
       "      <td>544.330017</td>\n",
       "      <td>548.390015</td>\n",
       "      <td>3283300</td>\n",
       "      <td>548.390015</td>\n",
       "    </tr>\n",
       "    <tr>\n",
       "      <th>2015-09-22</th>\n",
       "      <td>543.549988</td>\n",
       "      <td>532.659973</td>\n",
       "      <td>539.710022</td>\n",
       "      <td>538.400024</td>\n",
       "      <td>3841700</td>\n",
       "      <td>538.400024</td>\n",
       "    </tr>\n",
       "    <tr>\n",
       "      <th>2015-09-23</th>\n",
       "      <td>541.210022</td>\n",
       "      <td>534.000000</td>\n",
       "      <td>538.299988</td>\n",
       "      <td>536.070007</td>\n",
       "      <td>2237600</td>\n",
       "      <td>536.070007</td>\n",
       "    </tr>\n",
       "    <tr>\n",
       "      <th>2015-09-24</th>\n",
       "      <td>534.559998</td>\n",
       "      <td>522.869995</td>\n",
       "      <td>530.549988</td>\n",
       "      <td>533.750000</td>\n",
       "      <td>3501000</td>\n",
       "      <td>533.750000</td>\n",
       "    </tr>\n",
       "    <tr>\n",
       "      <th>2015-09-25</th>\n",
       "      <td>542.799988</td>\n",
       "      <td>521.400024</td>\n",
       "      <td>542.570007</td>\n",
       "      <td>524.250000</td>\n",
       "      <td>4031000</td>\n",
       "      <td>524.250000</td>\n",
       "    </tr>\n",
       "    <tr>\n",
       "      <th>...</th>\n",
       "      <td>...</td>\n",
       "      <td>...</td>\n",
       "      <td>...</td>\n",
       "      <td>...</td>\n",
       "      <td>...</td>\n",
       "      <td>...</td>\n",
       "    </tr>\n",
       "    <tr>\n",
       "      <th>2018-09-13</th>\n",
       "      <td>2008.760010</td>\n",
       "      <td>1982.030029</td>\n",
       "      <td>2000.000000</td>\n",
       "      <td>1989.869995</td>\n",
       "      <td>3621500</td>\n",
       "      <td>1989.869995</td>\n",
       "    </tr>\n",
       "    <tr>\n",
       "      <th>2018-09-14</th>\n",
       "      <td>1993.650024</td>\n",
       "      <td>1959.219971</td>\n",
       "      <td>1992.930054</td>\n",
       "      <td>1970.189941</td>\n",
       "      <td>3642000</td>\n",
       "      <td>1970.189941</td>\n",
       "    </tr>\n",
       "    <tr>\n",
       "      <th>2018-09-17</th>\n",
       "      <td>1956.819946</td>\n",
       "      <td>1887.410034</td>\n",
       "      <td>1954.729980</td>\n",
       "      <td>1908.030029</td>\n",
       "      <td>7050200</td>\n",
       "      <td>1908.030029</td>\n",
       "    </tr>\n",
       "    <tr>\n",
       "      <th>2018-09-18</th>\n",
       "      <td>1958.199951</td>\n",
       "      <td>1915.439941</td>\n",
       "      <td>1918.650024</td>\n",
       "      <td>1941.050049</td>\n",
       "      <td>4268700</td>\n",
       "      <td>1941.050049</td>\n",
       "    </tr>\n",
       "    <tr>\n",
       "      <th>2018-09-19</th>\n",
       "      <td>1940.829956</td>\n",
       "      <td>1904.900024</td>\n",
       "      <td>1940.500000</td>\n",
       "      <td>1926.420044</td>\n",
       "      <td>4056800</td>\n",
       "      <td>1926.420044</td>\n",
       "    </tr>\n",
       "  </tbody>\n",
       "</table>\n",
       "<p>756 rows × 6 columns</p>\n",
       "</div>"
      ],
      "text/plain": [
       "                   High          Low         Open        Close   Volume  \\\n",
       "Date                                                                      \n",
       "2015-09-21   549.780029   539.590027   544.330017   548.390015  3283300   \n",
       "2015-09-22   543.549988   532.659973   539.710022   538.400024  3841700   \n",
       "2015-09-23   541.210022   534.000000   538.299988   536.070007  2237600   \n",
       "2015-09-24   534.559998   522.869995   530.549988   533.750000  3501000   \n",
       "2015-09-25   542.799988   521.400024   542.570007   524.250000  4031000   \n",
       "...                 ...          ...          ...          ...      ...   \n",
       "2018-09-13  2008.760010  1982.030029  2000.000000  1989.869995  3621500   \n",
       "2018-09-14  1993.650024  1959.219971  1992.930054  1970.189941  3642000   \n",
       "2018-09-17  1956.819946  1887.410034  1954.729980  1908.030029  7050200   \n",
       "2018-09-18  1958.199951  1915.439941  1918.650024  1941.050049  4268700   \n",
       "2018-09-19  1940.829956  1904.900024  1940.500000  1926.420044  4056800   \n",
       "\n",
       "              Adj Close  \n",
       "Date                     \n",
       "2015-09-21   548.390015  \n",
       "2015-09-22   538.400024  \n",
       "2015-09-23   536.070007  \n",
       "2015-09-24   533.750000  \n",
       "2015-09-25   524.250000  \n",
       "...                 ...  \n",
       "2018-09-13  1989.869995  \n",
       "2018-09-14  1970.189941  \n",
       "2018-09-17  1908.030029  \n",
       "2018-09-18  1941.050049  \n",
       "2018-09-19  1926.420044  \n",
       "\n",
       "[756 rows x 6 columns]"
      ]
     },
     "execution_count": 5,
     "metadata": {},
     "output_type": "execute_result"
    },
    {
     "data": {
      "image/png": "[encoded data removed]",
      "text/plain": [
       "<Figure size 864x576 with 1 Axes>"
      ]
     },
     "metadata": {
      "needs_background": "light"
     },
     "output_type": "display_data"
    }
   ],
   "source": [
    "df = single_stock_data('AMZN', start='09-19-2015',end='09-19-2018',plot=True,stock_value='Adj Close')\n",
    "df"
   ]
  },
  {
   "cell_type": "code",
   "execution_count": 6,
   "metadata": {},
   "outputs": [],
   "source": [
    "df_1 = df['Adj Close']\n",
    "df_data = pd.DataFrame(df_1)#.values.astype('float32')"
   ]
  },
  {
   "cell_type": "code",
   "execution_count": 7,
   "metadata": {},
   "outputs": [
    {
     "data": {
      "text/html": [
       "<div>\n",
       "<style scoped>\n",
       "    .dataframe tbody tr th:only-of-type {\n",
       "        vertical-align: middle;\n",
       "    }\n",
       "\n",
       "    .dataframe tbody tr th {\n",
       "        vertical-align: top;\n",
       "    }\n",
       "\n",
       "    .dataframe thead th {\n",
       "        text-align: right;\n",
       "    }\n",
       "</style>\n",
       "<table border=\"1\" class=\"dataframe\">\n",
       "  <thead>\n",
       "    <tr style=\"text-align: right;\">\n",
       "      <th></th>\n",
       "      <th>Adj Close</th>\n",
       "    </tr>\n",
       "    <tr>\n",
       "      <th>Date</th>\n",
       "      <th></th>\n",
       "    </tr>\n",
       "  </thead>\n",
       "  <tbody>\n",
       "    <tr>\n",
       "      <th>2015-09-21</th>\n",
       "      <td>548.390015</td>\n",
       "    </tr>\n",
       "    <tr>\n",
       "      <th>2015-09-22</th>\n",
       "      <td>538.400024</td>\n",
       "    </tr>\n",
       "    <tr>\n",
       "      <th>2015-09-23</th>\n",
       "      <td>536.070007</td>\n",
       "    </tr>\n",
       "    <tr>\n",
       "      <th>2015-09-24</th>\n",
       "      <td>533.750000</td>\n",
       "    </tr>\n",
       "    <tr>\n",
       "      <th>2015-09-25</th>\n",
       "      <td>524.250000</td>\n",
       "    </tr>\n",
       "    <tr>\n",
       "      <th>...</th>\n",
       "      <td>...</td>\n",
       "    </tr>\n",
       "    <tr>\n",
       "      <th>2018-09-13</th>\n",
       "      <td>1989.869995</td>\n",
       "    </tr>\n",
       "    <tr>\n",
       "      <th>2018-09-14</th>\n",
       "      <td>1970.189941</td>\n",
       "    </tr>\n",
       "    <tr>\n",
       "      <th>2018-09-17</th>\n",
       "      <td>1908.030029</td>\n",
       "    </tr>\n",
       "    <tr>\n",
       "      <th>2018-09-18</th>\n",
       "      <td>1941.050049</td>\n",
       "    </tr>\n",
       "    <tr>\n",
       "      <th>2018-09-19</th>\n",
       "      <td>1926.420044</td>\n",
       "    </tr>\n",
       "  </tbody>\n",
       "</table>\n",
       "<p>756 rows × 1 columns</p>\n",
       "</div>"
      ],
      "text/plain": [
       "              Adj Close\n",
       "Date                   \n",
       "2015-09-21   548.390015\n",
       "2015-09-22   538.400024\n",
       "2015-09-23   536.070007\n",
       "2015-09-24   533.750000\n",
       "2015-09-25   524.250000\n",
       "...                 ...\n",
       "2018-09-13  1989.869995\n",
       "2018-09-14  1970.189941\n",
       "2018-09-17  1908.030029\n",
       "2018-09-18  1941.050049\n",
       "2018-09-19  1926.420044\n",
       "\n",
       "[756 rows x 1 columns]"
      ]
     },
     "execution_count": 7,
     "metadata": {},
     "output_type": "execute_result"
    }
   ],
   "source": [
    "df_data"
   ]
  },
  {
   "cell_type": "code",
   "execution_count": 8,
   "metadata": {},
   "outputs": [],
   "source": [
    "# df_data = pd.read_csv('data/amzn.csv',usecols=[4]).values.astype('float32')\n",
    "# df_data"
   ]
  },
  {
   "cell_type": "code",
   "execution_count": 9,
   "metadata": {},
   "outputs": [],
   "source": [
    "def delta_time_series(data):\n",
    "    data_1 = data.pct_change(1)\n",
    "    #return data[1:]- data[:-1]\n",
    "    data_1 = data_1.dropna()\n",
    "    return data_1"
   ]
  },
  {
   "cell_type": "code",
   "execution_count": 10,
   "metadata": {},
   "outputs": [
    {
     "data": {
      "text/html": [
       "<div>\n",
       "<style scoped>\n",
       "    .dataframe tbody tr th:only-of-type {\n",
       "        vertical-align: middle;\n",
       "    }\n",
       "\n",
       "    .dataframe tbody tr th {\n",
       "        vertical-align: top;\n",
       "    }\n",
       "\n",
       "    .dataframe thead th {\n",
       "        text-align: right;\n",
       "    }\n",
       "</style>\n",
       "<table border=\"1\" class=\"dataframe\">\n",
       "  <thead>\n",
       "    <tr style=\"text-align: right;\">\n",
       "      <th></th>\n",
       "      <th>Adj Close</th>\n",
       "    </tr>\n",
       "    <tr>\n",
       "      <th>Date</th>\n",
       "      <th></th>\n",
       "    </tr>\n",
       "  </thead>\n",
       "  <tbody>\n",
       "    <tr>\n",
       "      <th>2015-09-22</th>\n",
       "      <td>-0.018217</td>\n",
       "    </tr>\n",
       "    <tr>\n",
       "      <th>2015-09-23</th>\n",
       "      <td>-0.004328</td>\n",
       "    </tr>\n",
       "    <tr>\n",
       "      <th>2015-09-24</th>\n",
       "      <td>-0.004328</td>\n",
       "    </tr>\n",
       "    <tr>\n",
       "      <th>2015-09-25</th>\n",
       "      <td>-0.017799</td>\n",
       "    </tr>\n",
       "    <tr>\n",
       "      <th>2015-09-28</th>\n",
       "      <td>-0.038512</td>\n",
       "    </tr>\n",
       "    <tr>\n",
       "      <th>...</th>\n",
       "      <td>...</td>\n",
       "    </tr>\n",
       "    <tr>\n",
       "      <th>2018-09-13</th>\n",
       "      <td>-0.000065</td>\n",
       "    </tr>\n",
       "    <tr>\n",
       "      <th>2018-09-14</th>\n",
       "      <td>-0.009890</td>\n",
       "    </tr>\n",
       "    <tr>\n",
       "      <th>2018-09-17</th>\n",
       "      <td>-0.031550</td>\n",
       "    </tr>\n",
       "    <tr>\n",
       "      <th>2018-09-18</th>\n",
       "      <td>0.017306</td>\n",
       "    </tr>\n",
       "    <tr>\n",
       "      <th>2018-09-19</th>\n",
       "      <td>-0.007537</td>\n",
       "    </tr>\n",
       "  </tbody>\n",
       "</table>\n",
       "<p>755 rows × 1 columns</p>\n",
       "</div>"
      ],
      "text/plain": [
       "            Adj Close\n",
       "Date                 \n",
       "2015-09-22  -0.018217\n",
       "2015-09-23  -0.004328\n",
       "2015-09-24  -0.004328\n",
       "2015-09-25  -0.017799\n",
       "2015-09-28  -0.038512\n",
       "...               ...\n",
       "2018-09-13  -0.000065\n",
       "2018-09-14  -0.009890\n",
       "2018-09-17  -0.031550\n",
       "2018-09-18   0.017306\n",
       "2018-09-19  -0.007537\n",
       "\n",
       "[755 rows x 1 columns]"
      ]
     },
     "execution_count": 10,
     "metadata": {},
     "output_type": "execute_result"
    }
   ],
   "source": [
    "dataset_delta_AMAZN = delta_time_series(df_data)\n",
    "dataset_delta_AMAZN"
   ]
  },
  {
   "cell_type": "code",
   "execution_count": 11,
   "metadata": {},
   "outputs": [],
   "source": [
    "#df_data.shape"
   ]
  },
  {
   "cell_type": "code",
   "execution_count": 12,
   "metadata": {},
   "outputs": [],
   "source": [
    "def plot_delta(data):\n",
    "    plt.figure(figsize=(12,6))\n",
    "    plt.plot(delta_time_series(data))\n",
    "    plt.ylabel('close')\n",
    "    plt.show()"
   ]
  },
  {
   "cell_type": "code",
   "execution_count": 13,
   "metadata": {},
   "outputs": [
    {
     "data": {
      "image/png": "[encoded data removed]",
      "text/plain": [
       "<Figure size 864x432 with 1 Axes>"
      ]
     },
     "metadata": {
      "needs_background": "light"
     },
     "output_type": "display_data"
    }
   ],
   "source": [
    "plot_delta(df_data)"
   ]
  },
  {
   "cell_type": "code",
   "execution_count": 14,
   "metadata": {},
   "outputs": [],
   "source": [
    "def get_y_from_generator(gen):\n",
    "    '''\n",
    "    Get all targets y from a TimeseriesGenerator instance.\n",
    "    '''\n",
    "    y = None\n",
    "    for i in range(len(gen)):\n",
    "        batch_y = gen[i][1]\n",
    "        if y is None:\n",
    "            y = batch_y\n",
    "        else:\n",
    "            y = np.append(y, batch_y)\n",
    "    y = y.reshape((-1,1))\n",
    "    print(y.shape)\n",
    "    return y"
   ]
  },
  {
   "cell_type": "code",
   "execution_count": 15,
   "metadata": {},
   "outputs": [],
   "source": [
    "def binary_accuracy(a, b):\n",
    "    '''\n",
    "    Helper function to compute the match score of two \n",
    "    binary numpy arrays.\n",
    "    '''\n",
    "    assert len(a) == len(b)\n",
    "    return (a == b).sum() / len(a)"
   ]
  },
  {
   "cell_type": "code",
   "execution_count": 16,
   "metadata": {},
   "outputs": [],
   "source": [
    "# normalize the dataset\n",
    "scaler = MinMaxScaler(feature_range=(0, 1))\n",
    "dataset = scaler.fit_transform(dataset_delta_AMAZN)\n",
    "# split into train and test sets\n",
    "train_size = int(len(dataset) * 0.80)#0.67\n",
    "test_size = len(dataset) - train_size\n",
    "train, test = dataset[0:train_size,:], dataset[train_size:len(dataset),:]"
   ]
  },
  {
   "cell_type": "code",
   "execution_count": 17,
   "metadata": {},
   "outputs": [
    {
     "data": {
      "text/plain": [
       "((604, 1), (151, 1))"
      ]
     },
     "execution_count": 17,
     "metadata": {},
     "output_type": "execute_result"
    }
   ],
   "source": [
    "train.shape, test.shape, "
   ]
  },
  {
   "cell_type": "code",
   "execution_count": 18,
   "metadata": {},
   "outputs": [],
   "source": [
    "look_back = 3"
   ]
  },
  {
   "cell_type": "code",
   "execution_count": 19,
   "metadata": {},
   "outputs": [],
   "source": [
    "train_data_gen = TimeseriesGenerator(train, train,\n",
    "                               length=look_back, sampling_rate=1,stride=1,\n",
    "                               batch_size=3)"
   ]
  },
  {
   "cell_type": "code",
   "execution_count": 20,
   "metadata": {},
   "outputs": [],
   "source": [
    "test_data_gen = TimeseriesGenerator(test, test,\n",
    "                               length=look_back, sampling_rate=1,stride=1,\n",
    "                               batch_size=1)"
   ]
  },
  {
   "cell_type": "code",
   "execution_count": 21,
   "metadata": {},
   "outputs": [
    {
     "name": "stdout",
     "output_type": "stream",
     "text": [
      "Model: \"sequential_1\"\n",
      "_________________________________________________________________\n",
      "Layer (type)                 Output Shape              Param #   \n",
      "=================================================================\n",
      "lstm_1 (LSTM)                (None, 3, 50)             10400     \n",
      "_________________________________________________________________\n",
      "dropout_1 (Dropout)          (None, 3, 50)             0         \n",
      "_________________________________________________________________\n",
      "lstm_2 (LSTM)                (None, 3, 50)             20200     \n",
      "_________________________________________________________________\n",
      "dropout_2 (Dropout)          (None, 3, 50)             0         \n",
      "_________________________________________________________________\n",
      "lstm_3 (LSTM)                (None, 50)                20200     \n",
      "_________________________________________________________________\n",
      "dropout_3 (Dropout)          (None, 50)                0         \n",
      "_________________________________________________________________\n",
      "dense_1 (Dense)              (None, 25)                1275      \n",
      "_________________________________________________________________\n",
      "dense_2 (Dense)              (None, 1)                 26        \n",
      "=================================================================\n",
      "Total params: 52,101\n",
      "Trainable params: 52,101\n",
      "Non-trainable params: 0\n",
      "_________________________________________________________________\n"
     ]
    }
   ],
   "source": [
    "# model = Sequential()\n",
    "# model.add(LSTM(4, input_shape=(look_back, 1)))\n",
    "# model.add(Dense(1))\n",
    "# model.compile(loss='mean_squared_error', optimizer='adam')\n",
    "\n",
    "model = Sequential()\n",
    "\n",
    "model.add(LSTM(units = 50, return_sequences = True, input_shape=(look_back,1)))\n",
    "model.add(Dropout(0.2))\n",
    "\n",
    "model.add(LSTM(units = 50, return_sequences = True))\n",
    "model.add(Dropout(0.2))\n",
    "\n",
    "model.add(LSTM(units = 50, return_sequences = False))\n",
    "model.add(Dropout(0.2))\n",
    "\n",
    "model.add(Dense(units = 25))\n",
    "model.add(Dense(units = 1))\n",
    "\n",
    "model.compile(optimizer = 'adam', loss = 'mean_squared_error')\n",
    "\n",
    "model.summary()    "
   ]
  },
  {
   "cell_type": "code",
   "execution_count": 22,
   "metadata": {},
   "outputs": [
    {
     "name": "stdout",
     "output_type": "stream",
     "text": [
      "Epoch 1/100\n",
      "201/201 [==============================] - 2s 8ms/step - loss: 0.0120\n",
      "Epoch 2/100\n",
      "201/201 [==============================] - 2s 8ms/step - loss: 0.0072\n",
      "Epoch 3/100\n",
      "201/201 [==============================] - 2s 8ms/step - loss: 0.0070\n",
      "Epoch 4/100\n",
      "201/201 [==============================] - 2s 8ms/step - loss: 0.0067\n",
      "Epoch 5/100\n",
      "201/201 [==============================] - 2s 8ms/step - loss: 0.0070\n",
      "Epoch 6/100\n",
      "201/201 [==============================] - 2s 8ms/step - loss: 0.0067\n",
      "Epoch 7/100\n",
      "201/201 [==============================] - 2s 8ms/step - loss: 0.0068\n",
      "Epoch 8/100\n",
      "201/201 [==============================] - 2s 8ms/step - loss: 0.0067\n",
      "Epoch 9/100\n",
      "201/201 [==============================] - 2s 9ms/step - loss: 0.0067\n",
      "Epoch 10/100\n",
      "201/201 [==============================] - 2s 9ms/step - loss: 0.0066\n",
      "Epoch 11/100\n",
      "201/201 [==============================] - 2s 8ms/step - loss: 0.0065\n",
      "Epoch 12/100\n",
      "201/201 [==============================] - 2s 8ms/step - loss: 0.0066\n",
      "Epoch 13/100\n",
      "201/201 [==============================] - 2s 8ms/step - loss: 0.0064\n",
      "Epoch 14/100\n",
      "201/201 [==============================] - 2s 8ms/step - loss: 0.0066\n",
      "Epoch 15/100\n",
      "201/201 [==============================] - 2s 8ms/step - loss: 0.0067\n",
      "Epoch 16/100\n",
      "201/201 [==============================] - 2s 8ms/step - loss: 0.0066\n",
      "Epoch 17/100\n",
      "201/201 [==============================] - 2s 8ms/step - loss: 0.0066\n",
      "Epoch 18/100\n",
      "201/201 [==============================] - 2s 8ms/step - loss: 0.0067\n",
      "Epoch 19/100\n",
      "201/201 [==============================] - 2s 8ms/step - loss: 0.0066\n",
      "Epoch 20/100\n",
      "201/201 [==============================] - 2s 8ms/step - loss: 0.0066\n",
      "Epoch 21/100\n",
      "201/201 [==============================] - 2s 8ms/step - loss: 0.0067\n",
      "Epoch 22/100\n",
      "201/201 [==============================] - 2s 8ms/step - loss: 0.0066\n",
      "Epoch 23/100\n",
      "201/201 [==============================] - 2s 10ms/step - loss: 0.0066\n",
      "Epoch 24/100\n",
      "201/201 [==============================] - 2s 8ms/step - loss: 0.0067\n",
      "Epoch 25/100\n",
      "201/201 [==============================] - 2s 8ms/step - loss: 0.0066\n",
      "Epoch 26/100\n",
      "201/201 [==============================] - 2s 8ms/step - loss: 0.0066\n",
      "Epoch 27/100\n",
      "201/201 [==============================] - 2s 8ms/step - loss: 0.0066\n",
      "Epoch 28/100\n",
      "201/201 [==============================] - 2s 8ms/step - loss: 0.0065\n",
      "Epoch 29/100\n",
      "201/201 [==============================] - 2s 8ms/step - loss: 0.0066\n",
      "Epoch 30/100\n",
      "201/201 [==============================] - 2s 8ms/step - loss: 0.0065\n",
      "Epoch 31/100\n",
      "201/201 [==============================] - 2s 8ms/step - loss: 0.0065\n",
      "Epoch 32/100\n",
      "201/201 [==============================] - 2s 12ms/step - loss: 0.0065\n",
      "Epoch 33/100\n",
      "201/201 [==============================] - 2s 8ms/step - loss: 0.0068\n",
      "Epoch 34/100\n",
      "201/201 [==============================] - 2s 8ms/step - loss: 0.0065\n",
      "Epoch 35/100\n",
      "201/201 [==============================] - 2s 8ms/step - loss: 0.0065\n",
      "Epoch 36/100\n",
      "201/201 [==============================] - 2s 8ms/step - loss: 0.0067\n",
      "Epoch 37/100\n",
      "201/201 [==============================] - 2s 8ms/step - loss: 0.0066\n",
      "Epoch 38/100\n",
      "201/201 [==============================] - 2s 8ms/step - loss: 0.0065\n",
      "Epoch 39/100\n",
      "201/201 [==============================] - 2s 8ms/step - loss: 0.0065\n",
      "Epoch 40/100\n",
      "201/201 [==============================] - 2s 8ms/step - loss: 0.0065\n",
      "Epoch 41/100\n",
      "201/201 [==============================] - 2s 8ms/step - loss: 0.0066\n",
      "Epoch 42/100\n",
      "201/201 [==============================] - 2s 8ms/step - loss: 0.0065\n",
      "Epoch 43/100\n",
      "201/201 [==============================] - 2s 8ms/step - loss: 0.0066\n",
      "Epoch 44/100\n",
      "201/201 [==============================] - 2s 8ms/step - loss: 0.0065\n",
      "Epoch 45/100\n",
      "201/201 [==============================] - 2s 8ms/step - loss: 0.0067\n",
      "Epoch 46/100\n",
      "201/201 [==============================] - 2s 11ms/step - loss: 0.0065\n",
      "Epoch 47/100\n",
      "201/201 [==============================] - 2s 9ms/step - loss: 0.0065\n",
      "Epoch 48/100\n",
      "201/201 [==============================] - 2s 8ms/step - loss: 0.0067\n",
      "Epoch 49/100\n",
      "201/201 [==============================] - 2s 8ms/step - loss: 0.0065\n",
      "Epoch 50/100\n",
      "201/201 [==============================] - 2s 9ms/step - loss: 0.0066\n",
      "Epoch 51/100\n",
      "201/201 [==============================] - 2s 9ms/step - loss: 0.0066\n",
      "Epoch 52/100\n",
      "201/201 [==============================] - 2s 8ms/step - loss: 0.0065\n",
      "Epoch 53/100\n",
      "201/201 [==============================] - 2s 9ms/step - loss: 0.0066\n",
      "Epoch 54/100\n",
      "201/201 [==============================] - 2s 8ms/step - loss: 0.0065\n",
      "Epoch 55/100\n",
      "201/201 [==============================] - 2s 10ms/step - loss: 0.0067\n",
      "Epoch 56/100\n",
      "201/201 [==============================] - 3s 17ms/step - loss: 0.0065\n",
      "Epoch 57/100\n",
      "201/201 [==============================] - 2s 8ms/step - loss: 0.0067\n",
      "Epoch 58/100\n",
      "201/201 [==============================] - 2s 8ms/step - loss: 0.0066\n",
      "Epoch 59/100\n",
      "201/201 [==============================] - 2s 8ms/step - loss: 0.0065\n",
      "Epoch 60/100\n",
      "201/201 [==============================] - 2s 9ms/step - loss: 0.0065\n",
      "Epoch 61/100\n",
      "201/201 [==============================] - 3s 13ms/step - loss: 0.0065\n",
      "Epoch 62/100\n",
      "201/201 [==============================] - 2s 10ms/step - loss: 0.0065\n",
      "Epoch 63/100\n",
      "201/201 [==============================] - 2s 10ms/step - loss: 0.0065\n",
      "Epoch 64/100\n",
      "201/201 [==============================] - 2s 10ms/step - loss: 0.0067\n",
      "Epoch 65/100\n",
      "201/201 [==============================] - 2s 10ms/step - loss: 0.0065\n",
      "Epoch 66/100\n",
      "201/201 [==============================] - 2s 10ms/step - loss: 0.0065\n",
      "Epoch 67/100\n",
      "201/201 [==============================] - 2s 8ms/step - loss: 0.0065\n",
      "Epoch 68/100\n",
      "201/201 [==============================] - 2s 8ms/step - loss: 0.0064\n",
      "Epoch 69/100\n",
      "201/201 [==============================] - 2s 8ms/step - loss: 0.0065\n",
      "Epoch 70/100\n",
      "201/201 [==============================] - 2s 8ms/step - loss: 0.0064\n",
      "Epoch 71/100\n",
      "201/201 [==============================] - 2s 8ms/step - loss: 0.0066\n",
      "Epoch 72/100\n",
      "201/201 [==============================] - 2s 8ms/step - loss: 0.0065\n",
      "Epoch 73/100\n",
      "201/201 [==============================] - 2s 8ms/step - loss: 0.0066\n",
      "Epoch 74/100\n",
      "201/201 [==============================] - 2s 8ms/step - loss: 0.0066\n",
      "Epoch 75/100\n",
      "201/201 [==============================] - 2s 8ms/step - loss: 0.0065\n",
      "Epoch 76/100\n",
      "201/201 [==============================] - 2s 8ms/step - loss: 0.0065\n",
      "Epoch 77/100\n",
      "201/201 [==============================] - 2s 10ms/step - loss: 0.0066\n",
      "Epoch 78/100\n",
      "201/201 [==============================] - 2s 9ms/step - loss: 0.0065\n",
      "Epoch 79/100\n",
      "201/201 [==============================] - 2s 9ms/step - loss: 0.0065\n",
      "Epoch 80/100\n",
      "201/201 [==============================] - 3s 14ms/step - loss: 0.0066\n",
      "Epoch 81/100\n",
      "201/201 [==============================] - 3s 13ms/step - loss: 0.0065\n",
      "Epoch 82/100\n",
      "201/201 [==============================] - 3s 13ms/step - loss: 0.0065: \n",
      "Epoch 83/100\n",
      "201/201 [==============================] - 2s 9ms/step - loss: 0.0065\n",
      "Epoch 84/100\n",
      "201/201 [==============================] - 2s 10ms/step - loss: 0.0065\n",
      "Epoch 85/100\n",
      "201/201 [==============================] - 2s 9ms/step - loss: 0.0065\n",
      "Epoch 86/100\n",
      "201/201 [==============================] - 3s 13ms/step - loss: 0.0065\n",
      "Epoch 87/100\n",
      "201/201 [==============================] - 3s 13ms/step - loss: 0.0065\n",
      "Epoch 88/100\n",
      "201/201 [==============================] - 2s 11ms/step - loss: 0.0066\n",
      "Epoch 89/100\n",
      "201/201 [==============================] - 2s 10ms/step - loss: 0.0066: 0s - loss: \n",
      "Epoch 90/100\n",
      "201/201 [==============================] - 2s 11ms/step - loss: 0.0065\n",
      "Epoch 91/100\n",
      "201/201 [==============================] - 2s 8ms/step - loss: 0.0065\n",
      "Epoch 92/100\n",
      "201/201 [==============================] - 2s 11ms/step - loss: 0.0066\n",
      "Epoch 93/100\n",
      "201/201 [==============================] - 2s 10ms/step - loss: 0.0065\n",
      "Epoch 94/100\n",
      "201/201 [==============================] - 2s 9ms/step - loss: 0.0065\n",
      "Epoch 95/100\n",
      "201/201 [==============================] - 2s 10ms/step - loss: 0.0065\n",
      "Epoch 96/100\n",
      "201/201 [==============================] - 3s 13ms/step - loss: 0.0066\n",
      "Epoch 97/100\n",
      "201/201 [==============================] - 2s 11ms/step - loss: 0.0065\n",
      "Epoch 98/100\n",
      "201/201 [==============================] - 2s 12ms/step - loss: 0.0065\n",
      "Epoch 99/100\n"
     ]
    },
    {
     "name": "stdout",
     "output_type": "stream",
     "text": [
      "201/201 [==============================] - 2s 9ms/step - loss: 0.0065\n",
      "Epoch 100/100\n",
      "201/201 [==============================] - 2s 9ms/step - loss: 0.0065\n"
     ]
    }
   ],
   "source": [
    "history = model.fit_generator(train_data_gen, epochs=100).history"
   ]
  },
  {
   "cell_type": "code",
   "execution_count": 23,
   "metadata": {},
   "outputs": [
    {
     "data": {
      "text/plain": [
       "0.0011701465118676424"
      ]
     },
     "execution_count": 23,
     "metadata": {},
     "output_type": "execute_result"
    }
   ],
   "source": [
    "model.evaluate_generator(test_data_gen)"
   ]
  },
  {
   "cell_type": "code",
   "execution_count": 24,
   "metadata": {},
   "outputs": [
    {
     "data": {
      "text/plain": [
       "(601, 1)"
      ]
     },
     "execution_count": 24,
     "metadata": {},
     "output_type": "execute_result"
    }
   ],
   "source": [
    "trainPredict = model.predict_generator(train_data_gen)\n",
    "trainPredict.shape"
   ]
  },
  {
   "cell_type": "code",
   "execution_count": 25,
   "metadata": {},
   "outputs": [
    {
     "data": {
      "text/plain": [
       "(148, 1)"
      ]
     },
     "execution_count": 25,
     "metadata": {},
     "output_type": "execute_result"
    }
   ],
   "source": [
    "testPredict = model.predict_generator(test_data_gen)\n",
    "testPredict.shape"
   ]
  },
  {
   "cell_type": "code",
   "execution_count": 26,
   "metadata": {},
   "outputs": [],
   "source": [
    "# invert predictions, scale values back to real index/price range.\n",
    "trainPredict = scaler.inverse_transform(trainPredict)\n",
    "testPredict = scaler.inverse_transform(testPredict)"
   ]
  },
  {
   "cell_type": "code",
   "execution_count": 27,
   "metadata": {},
   "outputs": [
    {
     "name": "stdout",
     "output_type": "stream",
     "text": [
      "(601, 1)\n",
      "(148, 1)\n"
     ]
    }
   ],
   "source": [
    "trainY = get_y_from_generator(train_data_gen)\n",
    "testY = get_y_from_generator(test_data_gen)\n"
   ]
  },
  {
   "cell_type": "code",
   "execution_count": 28,
   "metadata": {},
   "outputs": [
    {
     "name": "stdout",
     "output_type": "stream",
     "text": [
      "(601, 1)\n",
      "(148, 1)\n"
     ]
    }
   ],
   "source": [
    "trainY = get_y_from_generator(train_data_gen)\n",
    "testY = get_y_from_generator(test_data_gen)"
   ]
  },
  {
   "cell_type": "code",
   "execution_count": 29,
   "metadata": {},
   "outputs": [
    {
     "name": "stdout",
     "output_type": "stream",
     "text": [
      "Train Score: 0.38 RMSE\n",
      "Test Score: 0.38 RMSE\n"
     ]
    }
   ],
   "source": [
    "# calculate root mean squared error\n",
    "trainScore = math.sqrt(mean_squared_error(trainY[:,0], trainPredict[:,0]))\n",
    "print('Train Score: %.2f RMSE' % (trainScore))\n",
    "testScore = math.sqrt(mean_squared_error(testY[:, 0], testPredict[:,0]))\n",
    "print('Test Score: %.2f RMSE' % (testScore))"
   ]
  },
  {
   "cell_type": "code",
   "execution_count": 30,
   "metadata": {},
   "outputs": [
    {
     "data": {
      "text/plain": [
       "(755, 1)"
      ]
     },
     "execution_count": 30,
     "metadata": {},
     "output_type": "execute_result"
    }
   ],
   "source": [
    "dataset = scaler.inverse_transform(dataset)\n",
    "dataset.shape"
   ]
  },
  {
   "cell_type": "code",
   "execution_count": 31,
   "metadata": {},
   "outputs": [],
   "source": [
    "# shift train predictions for plotting\n",
    "trainPredictPlot = np.empty_like(dataset)\n",
    "trainPredictPlot[:, :] = np.nan\n",
    "trainPredictPlot[look_back:len(trainPredict)+look_back, :] = trainPredict\n",
    "# Delta + previous close\n",
    "trainPredictPlot = trainPredictPlot + df_data[1:]\n",
    "# set empty values\n",
    "# trainPredictPlot[0:look_back, :] = np.nan\n",
    "# trainPredictPlot[len(trainPredict)+look_back:, :] = np.nan\n"
   ]
  },
  {
   "cell_type": "code",
   "execution_count": 32,
   "metadata": {},
   "outputs": [],
   "source": [
    "testPredictPlot = np.empty_like(dataset)\n",
    "testPredictPlot[:, :] = np.nan\n",
    "testPredictPlot[len(trainPredict)+(look_back*2):len(dataset), :] = testPredict\n",
    "\n",
    "# Delta + previous close\n",
    "testPredictPlot = testPredictPlot + df_data[1:]\n",
    "# set empty values\n",
    "# testPredictPlot[0:len(trainPredict)+(look_back*2), :] = np.nan\n",
    "# testPredictPlot[len(dataset):, :] = np.nan"
   ]
  },
  {
   "cell_type": "code",
   "execution_count": 33,
   "metadata": {},
   "outputs": [
    {
     "name": "stderr",
     "output_type": "stream",
     "text": [
      "No handles with labels found to put in legend.\n"
     ]
    },
    {
     "data": {
      "text/plain": [
       "<matplotlib.legend.Legend at 0x7fcde5125048>"
      ]
     },
     "execution_count": 33,
     "metadata": {},
     "output_type": "execute_result"
    },
    {
     "data": {
      "image/png": "[encoded data removed]",
      "text/plain": [
       "<Figure size 864x432 with 1 Axes>"
      ]
     },
     "metadata": {
      "needs_background": "light"
     },
     "output_type": "display_data"
    }
   ],
   "source": [
    "# plot baseline and predictions\n",
    "plt.figure(figsize=(12,6))\n",
    "plt.plot(dataset + df_data[1:])\n",
    "plt.plot(trainPredictPlot)\n",
    "plt.plot(testPredictPlot)\n",
    "plt.legend()\n",
    "#plt.show()\n"
   ]
  },
  {
   "cell_type": "code",
   "execution_count": 34,
   "metadata": {},
   "outputs": [
    {
     "data": {
      "image/png": "[encoded data removed]",
      "text/plain": [
       "<Figure size 432x288 with 1 Axes>"
      ]
     },
     "metadata": {
      "needs_background": "light"
     },
     "output_type": "display_data"
    }
   ],
   "source": [
    "# plot baseline and predictions\n",
    "plt.plot(dataset + df_data[:-1])\n",
    "plt.plot(trainPredictPlot)\n",
    "plt.plot(testPredictPlot)\n",
    "plt.show()"
   ]
  },
  {
   "cell_type": "code",
   "execution_count": null,
   "metadata": {},
   "outputs": [],
   "source": []
  }
 ],
 "metadata": {
  "kernelspec": {
   "display_name": "Python 3",
   "language": "python",
   "name": "python3"
  },
  "language_info": {
   "codemirror_mode": {
    "name": "ipython",
    "version": 3
   },
   "file_extension": ".py",
   "mimetype": "text/x-python",
   "name": "python",
   "nbconvert_exporter": "python",
   "pygments_lexer": "ipython3",
   "version": "3.6.9"
  },
  "toc": {
   "base_numbering": 1,
   "nav_menu": {},
   "number_sections": true,
   "sideBar": true,
   "skip_h1_title": false,
   "title_cell": "Table of Contents",
   "title_sidebar": "Contents",
   "toc_cell": false,
   "toc_position": {},
   "toc_section_display": true,
   "toc_window_display": false
  }
 },
 "nbformat": 4,
 "nbformat_minor": 4
}
