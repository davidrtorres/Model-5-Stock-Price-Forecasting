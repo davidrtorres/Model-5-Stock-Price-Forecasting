{
 "cells": [
  {
   "cell_type": "code",
   "execution_count": 1,
   "metadata": {},
   "outputs": [
    {
     "name": "stderr",
     "output_type": "stream",
     "text": [
      "Using Theano backend.\n"
     ]
    }
   ],
   "source": [
    "import pandas as pd\n",
    "import numpy as np\n",
    "import matplotlib.pyplot as plt\n",
    "%matplotlib inline\n",
    "\n",
    "from sklearn.preprocessing import MinMaxScaler\n",
    "\n",
    "import math\n",
    "\n",
    "import plotly.express as px\n",
    "\n",
    "import pandas_datareader.data as web\n",
    "\n",
    "from keras.callbacks import EarlyStopping\n",
    "\n",
    "import keras\n",
    "from keras.models import load_model\n",
    "from keras.preprocessing.sequence import TimeseriesGenerator\n",
    "#from tensorflow import keras\n",
    "from keras.models import Sequential\n",
    "from keras.layers import Dense\n",
    "from keras.layers import LSTM\n",
    "from keras.layers import Dropout\n",
    "\n",
    "from sklearn.metrics import mean_squared_error"
   ]
  },
  {
   "cell_type": "code",
   "execution_count": 2,
   "metadata": {},
   "outputs": [],
   "source": [
    "def multiple_stock_data(ticker=None, start=None, end=None, plot=True, stock_value=None):\n",
    "    \n",
    "    try:\n",
    "        #stock = pdr.get_data_yahoo(ticker,start,end)\n",
    "        data = {}\n",
    "        for stock in ticker:\n",
    "            data = web.DataReader(stock,'yahoo',start,end)[stock_value]\n",
    "        df_1 = pd.DataFrame(data)#.reset_index()\n",
    "        if plot==True:\n",
    "            df_1.plot(figsize=(12,8))\n",
    "            plt.title(\"Stock Adjusted Price Historical Data\")\n",
    "            plt.xlabel('Dates')\n",
    "            plt.ylabel('Stock Prices')\n",
    "            plt.legend(bbox_to_anchor=(1.05,1),loc='upper left') \n",
    "        \n",
    "        return df_1\n",
    "     \n",
    "    except Exception as e:\n",
    "        print(\"Error occured:\", e)\n",
    "        #data = 'Incorrect Symbol'\n"
   ]
  },
  {
   "cell_type": "code",
   "execution_count": 3,
   "metadata": {},
   "outputs": [],
   "source": [
    "# df_1 = multiple_stock_data(ticker=[['GOOGL','AAPL','AMZN']], start='09-19-2015',end='09-19-2018',plot=True, stock_value='Adj Close')\n",
    "# df_1"
   ]
  },
  {
   "cell_type": "code",
   "execution_count": 4,
   "metadata": {},
   "outputs": [],
   "source": [
    "def single_stock_data(symbol, start,end,plot=True,stock_value='Adj Close'):\n",
    "    \n",
    "    try:\n",
    "        \n",
    "        df = web.DataReader(symbol,'yahoo', start, end)\n",
    "        df_single = pd.DataFrame(df)\n",
    "        print(\"Dataframe has {} rows and {} columns\".format(df_single.shape[0],df_single.shape[1]))\n",
    "        print()\n",
    "        if plot==True:\n",
    "            plt.figure(figsize=(12,8))\n",
    "            plt.plot(df_single[stock_value])\n",
    "            label_font = {'weight':'bold','size':18}\n",
    "            plt.xlabel('Date',fontdict=label_font)\n",
    "            plt.ylabel('Close Price USD ($)',fontdict=label_font)\n",
    "            plt.title(f'Historical {stock_value} Price for {symbol}',fontdict=label_font)\n",
    "            #plot = go.Scatter(x=df_single.index, y=df_single['Adj Close'])\n",
    "            \n",
    "        return df_single\n",
    "\n",
    "    except Exception as e:\n",
    "        print(\"Error occured:\", e)\n",
    "        #data = 'Incorrect Symbol'\n"
   ]
  },
  {
   "cell_type": "markdown",
   "metadata": {},
   "source": [
    "## Forecasting\n",
    "### Long Short Term Memory (LSTM)"
   ]
  },
  {
   "cell_type": "code",
   "execution_count": 5,
   "metadata": {},
   "outputs": [
    {
     "name": "stdout",
     "output_type": "stream",
     "text": [
      "Dataframe has 1331 rows and 6 columns\n",
      "\n"
     ]
    },
    {
     "data": {
      "text/html": [
       "<div>\n",
       "<style scoped>\n",
       "    .dataframe tbody tr th:only-of-type {\n",
       "        vertical-align: middle;\n",
       "    }\n",
       "\n",
       "    .dataframe tbody tr th {\n",
       "        vertical-align: top;\n",
       "    }\n",
       "\n",
       "    .dataframe thead th {\n",
       "        text-align: right;\n",
       "    }\n",
       "</style>\n",
       "<table border=\"1\" class=\"dataframe\">\n",
       "  <thead>\n",
       "    <tr style=\"text-align: right;\">\n",
       "      <th></th>\n",
       "      <th>High</th>\n",
       "      <th>Low</th>\n",
       "      <th>Open</th>\n",
       "      <th>Close</th>\n",
       "      <th>Volume</th>\n",
       "      <th>Adj Close</th>\n",
       "    </tr>\n",
       "    <tr>\n",
       "      <th>Date</th>\n",
       "      <th></th>\n",
       "      <th></th>\n",
       "      <th></th>\n",
       "      <th></th>\n",
       "      <th></th>\n",
       "      <th></th>\n",
       "    </tr>\n",
       "  </thead>\n",
       "  <tbody>\n",
       "    <tr>\n",
       "      <th>2015-09-21</th>\n",
       "      <td>31.622391</td>\n",
       "      <td>30.588236</td>\n",
       "      <td>31.404175</td>\n",
       "      <td>30.759012</td>\n",
       "      <td>24985175.0</td>\n",
       "      <td>25.028662</td>\n",
       "    </tr>\n",
       "    <tr>\n",
       "      <th>2015-09-22</th>\n",
       "      <td>30.673624</td>\n",
       "      <td>30.208729</td>\n",
       "      <td>30.341557</td>\n",
       "      <td>30.607210</td>\n",
       "      <td>25600290.0</td>\n",
       "      <td>24.905140</td>\n",
       "    </tr>\n",
       "    <tr>\n",
       "      <th>2015-09-23</th>\n",
       "      <td>31.129032</td>\n",
       "      <td>30.540796</td>\n",
       "      <td>30.569260</td>\n",
       "      <td>30.948767</td>\n",
       "      <td>27534696.0</td>\n",
       "      <td>25.183067</td>\n",
       "    </tr>\n",
       "    <tr>\n",
       "      <th>2015-09-24</th>\n",
       "      <td>31.195446</td>\n",
       "      <td>30.426945</td>\n",
       "      <td>30.702087</td>\n",
       "      <td>31.024668</td>\n",
       "      <td>32109161.0</td>\n",
       "      <td>25.244823</td>\n",
       "    </tr>\n",
       "    <tr>\n",
       "      <th>2015-09-25</th>\n",
       "      <td>31.404175</td>\n",
       "      <td>30.028463</td>\n",
       "      <td>31.271347</td>\n",
       "      <td>30.256166</td>\n",
       "      <td>36388296.0</td>\n",
       "      <td>24.619493</td>\n",
       "    </tr>\n",
       "    <tr>\n",
       "      <th>...</th>\n",
       "      <td>...</td>\n",
       "      <td>...</td>\n",
       "      <td>...</td>\n",
       "      <td>...</td>\n",
       "      <td>...</td>\n",
       "      <td>...</td>\n",
       "    </tr>\n",
       "    <tr>\n",
       "      <th>2020-12-24</th>\n",
       "      <td>37.570000</td>\n",
       "      <td>37.180000</td>\n",
       "      <td>37.400002</td>\n",
       "      <td>37.270000</td>\n",
       "      <td>14790100.0</td>\n",
       "      <td>36.868916</td>\n",
       "    </tr>\n",
       "    <tr>\n",
       "      <th>2020-12-28</th>\n",
       "      <td>37.580002</td>\n",
       "      <td>36.680000</td>\n",
       "      <td>37.360001</td>\n",
       "      <td>36.820000</td>\n",
       "      <td>26993700.0</td>\n",
       "      <td>36.423756</td>\n",
       "    </tr>\n",
       "    <tr>\n",
       "      <th>2020-12-29</th>\n",
       "      <td>37.200001</td>\n",
       "      <td>36.790001</td>\n",
       "      <td>36.900002</td>\n",
       "      <td>37.049999</td>\n",
       "      <td>23152100.0</td>\n",
       "      <td>36.651279</td>\n",
       "    </tr>\n",
       "    <tr>\n",
       "      <th>2020-12-30</th>\n",
       "      <td>37.240002</td>\n",
       "      <td>36.700001</td>\n",
       "      <td>37.029999</td>\n",
       "      <td>36.740002</td>\n",
       "      <td>24889800.0</td>\n",
       "      <td>36.344620</td>\n",
       "    </tr>\n",
       "    <tr>\n",
       "      <th>2020-12-31</th>\n",
       "      <td>36.919998</td>\n",
       "      <td>36.290001</td>\n",
       "      <td>36.660000</td>\n",
       "      <td>36.810001</td>\n",
       "      <td>30755600.0</td>\n",
       "      <td>36.413868</td>\n",
       "    </tr>\n",
       "  </tbody>\n",
       "</table>\n",
       "<p>1331 rows × 6 columns</p>\n",
       "</div>"
      ],
      "text/plain": [
       "                 High        Low       Open      Close      Volume  Adj Close\n",
       "Date                                                                         \n",
       "2015-09-21  31.622391  30.588236  31.404175  30.759012  24985175.0  25.028662\n",
       "2015-09-22  30.673624  30.208729  30.341557  30.607210  25600290.0  24.905140\n",
       "2015-09-23  31.129032  30.540796  30.569260  30.948767  27534696.0  25.183067\n",
       "2015-09-24  31.195446  30.426945  30.702087  31.024668  32109161.0  25.244823\n",
       "2015-09-25  31.404175  30.028463  31.271347  30.256166  36388296.0  24.619493\n",
       "...               ...        ...        ...        ...         ...        ...\n",
       "2020-12-24  37.570000  37.180000  37.400002  37.270000  14790100.0  36.868916\n",
       "2020-12-28  37.580002  36.680000  37.360001  36.820000  26993700.0  36.423756\n",
       "2020-12-29  37.200001  36.790001  36.900002  37.049999  23152100.0  36.651279\n",
       "2020-12-30  37.240002  36.700001  37.029999  36.740002  24889800.0  36.344620\n",
       "2020-12-31  36.919998  36.290001  36.660000  36.810001  30755600.0  36.413868\n",
       "\n",
       "[1331 rows x 6 columns]"
      ]
     },
     "execution_count": 5,
     "metadata": {},
     "output_type": "execute_result"
    },
    {
     "data": {
      "image/png": "[encoded data removed]",
      "text/plain": [
       "<Figure size 864x576 with 1 Axes>"
      ]
     },
     "metadata": {
      "needs_background": "light"
     },
     "output_type": "display_data"
    }
   ],
   "source": [
    "df = single_stock_data('PFE', start='09-19-2015',end='2021',plot=True,stock_value='Adj Close')\n",
    "df"
   ]
  },
  {
   "cell_type": "code",
   "execution_count": 6,
   "metadata": {},
   "outputs": [],
   "source": [
    "df_1 = df['Adj Close']\n",
    "df_data = pd.DataFrame(df_1)#.values.astype('float32')"
   ]
  },
  {
   "cell_type": "code",
   "execution_count": 7,
   "metadata": {},
   "outputs": [
    {
     "data": {
      "text/html": [
       "<div>\n",
       "<style scoped>\n",
       "    .dataframe tbody tr th:only-of-type {\n",
       "        vertical-align: middle;\n",
       "    }\n",
       "\n",
       "    .dataframe tbody tr th {\n",
       "        vertical-align: top;\n",
       "    }\n",
       "\n",
       "    .dataframe thead th {\n",
       "        text-align: right;\n",
       "    }\n",
       "</style>\n",
       "<table border=\"1\" class=\"dataframe\">\n",
       "  <thead>\n",
       "    <tr style=\"text-align: right;\">\n",
       "      <th></th>\n",
       "      <th>Adj Close</th>\n",
       "    </tr>\n",
       "    <tr>\n",
       "      <th>Date</th>\n",
       "      <th></th>\n",
       "    </tr>\n",
       "  </thead>\n",
       "  <tbody>\n",
       "    <tr>\n",
       "      <th>2015-09-21</th>\n",
       "      <td>25.028662</td>\n",
       "    </tr>\n",
       "    <tr>\n",
       "      <th>2015-09-22</th>\n",
       "      <td>24.905140</td>\n",
       "    </tr>\n",
       "    <tr>\n",
       "      <th>2015-09-23</th>\n",
       "      <td>25.183067</td>\n",
       "    </tr>\n",
       "    <tr>\n",
       "      <th>2015-09-24</th>\n",
       "      <td>25.244823</td>\n",
       "    </tr>\n",
       "    <tr>\n",
       "      <th>2015-09-25</th>\n",
       "      <td>24.619493</td>\n",
       "    </tr>\n",
       "    <tr>\n",
       "      <th>...</th>\n",
       "      <td>...</td>\n",
       "    </tr>\n",
       "    <tr>\n",
       "      <th>2020-12-24</th>\n",
       "      <td>36.868916</td>\n",
       "    </tr>\n",
       "    <tr>\n",
       "      <th>2020-12-28</th>\n",
       "      <td>36.423756</td>\n",
       "    </tr>\n",
       "    <tr>\n",
       "      <th>2020-12-29</th>\n",
       "      <td>36.651279</td>\n",
       "    </tr>\n",
       "    <tr>\n",
       "      <th>2020-12-30</th>\n",
       "      <td>36.344620</td>\n",
       "    </tr>\n",
       "    <tr>\n",
       "      <th>2020-12-31</th>\n",
       "      <td>36.413868</td>\n",
       "    </tr>\n",
       "  </tbody>\n",
       "</table>\n",
       "<p>1331 rows × 1 columns</p>\n",
       "</div>"
      ],
      "text/plain": [
       "            Adj Close\n",
       "Date                 \n",
       "2015-09-21  25.028662\n",
       "2015-09-22  24.905140\n",
       "2015-09-23  25.183067\n",
       "2015-09-24  25.244823\n",
       "2015-09-25  24.619493\n",
       "...               ...\n",
       "2020-12-24  36.868916\n",
       "2020-12-28  36.423756\n",
       "2020-12-29  36.651279\n",
       "2020-12-30  36.344620\n",
       "2020-12-31  36.413868\n",
       "\n",
       "[1331 rows x 1 columns]"
      ]
     },
     "execution_count": 7,
     "metadata": {},
     "output_type": "execute_result"
    }
   ],
   "source": [
    "df_data"
   ]
  },
  {
   "cell_type": "code",
   "execution_count": 54,
   "metadata": {},
   "outputs": [
    {
     "data": {
      "text/plain": [
       "-0.00493522186683415"
      ]
     },
     "execution_count": 54,
     "metadata": {},
     "output_type": "execute_result"
    }
   ],
   "source": [
    "(24.905140 / 25.028662) -1"
   ]
  },
  {
   "cell_type": "code",
   "execution_count": 8,
   "metadata": {},
   "outputs": [],
   "source": [
    "# df_data = pd.read_csv('data/amzn.csv',usecols=[4]).values.astype('float32')\n",
    "# df_data"
   ]
  },
  {
   "cell_type": "code",
   "execution_count": 9,
   "metadata": {},
   "outputs": [],
   "source": [
    "def delta_time_series(data):\n",
    "    data_1 = data.pct_change(1)\n",
    "    data_1 = data_1.rename(columns={\"Adj Close\": \"Percent_Chg\"})\n",
    "    #return data[1:]- data[:-1]\n",
    "    data_1 = data_1.dropna()\n",
    "    return data_1"
   ]
  },
  {
   "cell_type": "code",
   "execution_count": 10,
   "metadata": {},
   "outputs": [
    {
     "data": {
      "text/html": [
       "<div>\n",
       "<style scoped>\n",
       "    .dataframe tbody tr th:only-of-type {\n",
       "        vertical-align: middle;\n",
       "    }\n",
       "\n",
       "    .dataframe tbody tr th {\n",
       "        vertical-align: top;\n",
       "    }\n",
       "\n",
       "    .dataframe thead th {\n",
       "        text-align: right;\n",
       "    }\n",
       "</style>\n",
       "<table border=\"1\" class=\"dataframe\">\n",
       "  <thead>\n",
       "    <tr style=\"text-align: right;\">\n",
       "      <th></th>\n",
       "      <th>Percent_Chg</th>\n",
       "    </tr>\n",
       "    <tr>\n",
       "      <th>Date</th>\n",
       "      <th></th>\n",
       "    </tr>\n",
       "  </thead>\n",
       "  <tbody>\n",
       "    <tr>\n",
       "      <th>2015-09-22</th>\n",
       "      <td>-0.004935</td>\n",
       "    </tr>\n",
       "    <tr>\n",
       "      <th>2015-09-23</th>\n",
       "      <td>0.011159</td>\n",
       "    </tr>\n",
       "    <tr>\n",
       "      <th>2015-09-24</th>\n",
       "      <td>0.002452</td>\n",
       "    </tr>\n",
       "    <tr>\n",
       "      <th>2015-09-25</th>\n",
       "      <td>-0.024771</td>\n",
       "    </tr>\n",
       "    <tr>\n",
       "      <th>2015-09-28</th>\n",
       "      <td>-0.033553</td>\n",
       "    </tr>\n",
       "    <tr>\n",
       "      <th>...</th>\n",
       "      <td>...</td>\n",
       "    </tr>\n",
       "    <tr>\n",
       "      <th>2020-12-24</th>\n",
       "      <td>-0.004541</td>\n",
       "    </tr>\n",
       "    <tr>\n",
       "      <th>2020-12-28</th>\n",
       "      <td>-0.012074</td>\n",
       "    </tr>\n",
       "    <tr>\n",
       "      <th>2020-12-29</th>\n",
       "      <td>0.006247</td>\n",
       "    </tr>\n",
       "    <tr>\n",
       "      <th>2020-12-30</th>\n",
       "      <td>-0.008367</td>\n",
       "    </tr>\n",
       "    <tr>\n",
       "      <th>2020-12-31</th>\n",
       "      <td>0.001905</td>\n",
       "    </tr>\n",
       "  </tbody>\n",
       "</table>\n",
       "<p>1330 rows × 1 columns</p>\n",
       "</div>"
      ],
      "text/plain": [
       "            Percent_Chg\n",
       "Date                   \n",
       "2015-09-22    -0.004935\n",
       "2015-09-23     0.011159\n",
       "2015-09-24     0.002452\n",
       "2015-09-25    -0.024771\n",
       "2015-09-28    -0.033553\n",
       "...                 ...\n",
       "2020-12-24    -0.004541\n",
       "2020-12-28    -0.012074\n",
       "2020-12-29     0.006247\n",
       "2020-12-30    -0.008367\n",
       "2020-12-31     0.001905\n",
       "\n",
       "[1330 rows x 1 columns]"
      ]
     },
     "execution_count": 10,
     "metadata": {},
     "output_type": "execute_result"
    }
   ],
   "source": [
    "dataset_delta_AMAZN = delta_time_series(df_data)\n",
    "dataset_delta_AMAZN"
   ]
  },
  {
   "cell_type": "code",
   "execution_count": 11,
   "metadata": {},
   "outputs": [],
   "source": [
    "#df_data.shape"
   ]
  },
  {
   "cell_type": "code",
   "execution_count": 57,
   "metadata": {},
   "outputs": [],
   "source": [
    "def plot_delta(data,symbol=None):\n",
    "    plt.figure(figsize=(12,6))\n",
    "    plt.plot(delta_time_series(data))\n",
    "    label_font = {'weight':'bold','size':18}\n",
    "    plt.title('Daily Percentage Price Change',fontdict=label_font)\n",
    "    plt.xlabel('Dates',fontdict=label_font)\n",
    "    plt.ylabel('close')\n",
    "    plt.show()"
   ]
  },
  {
   "cell_type": "code",
   "execution_count": 58,
   "metadata": {},
   "outputs": [
    {
     "data": {
      "image/png": "[encoded data removed]",
      "text/plain": [
       "<Figure size 864x432 with 1 Axes>"
      ]
     },
     "metadata": {
      "needs_background": "light"
     },
     "output_type": "display_data"
    }
   ],
   "source": [
    "plot_delta(df_data)"
   ]
  },
  {
   "cell_type": "code",
   "execution_count": 14,
   "metadata": {},
   "outputs": [],
   "source": [
    "def get_y_from_generator(gen):\n",
    "    '''\n",
    "    Get all targets y from a TimeseriesGenerator instance.\n",
    "    '''\n",
    "    y = None\n",
    "    for i in range(len(gen)):\n",
    "        batch_y = gen[i][1]\n",
    "        if y is None:\n",
    "            y = batch_y\n",
    "        else:\n",
    "            y = np.append(y, batch_y)\n",
    "    y = y.reshape((-1,1))\n",
    "    print(y.shape)\n",
    "    return y"
   ]
  },
  {
   "cell_type": "code",
   "execution_count": 15,
   "metadata": {},
   "outputs": [],
   "source": [
    "def binary_accuracy(a, b):\n",
    "    '''\n",
    "    Helper function to compute the match score of two \n",
    "    binary numpy arrays.\n",
    "    '''\n",
    "    assert len(a) == len(b)\n",
    "    return (a == b).sum() / len(a)"
   ]
  },
  {
   "cell_type": "code",
   "execution_count": 16,
   "metadata": {},
   "outputs": [],
   "source": [
    "# normalize the dataset\n",
    "scaler = MinMaxScaler(feature_range=(0, 1))\n",
    "dataset = scaler.fit_transform(dataset_delta_AMAZN)\n",
    "# split into train and test sets\n",
    "train_size = int(len(dataset) * 0.80)#0.67\n",
    "test_size = len(dataset) - train_size\n",
    "train, test = dataset[0:train_size,:], dataset[train_size:len(dataset),:]"
   ]
  },
  {
   "cell_type": "code",
   "execution_count": 17,
   "metadata": {},
   "outputs": [
    {
     "data": {
      "text/plain": [
       "((1064, 1), (266, 1))"
      ]
     },
     "execution_count": 17,
     "metadata": {},
     "output_type": "execute_result"
    }
   ],
   "source": [
    "train.shape, test.shape, "
   ]
  },
  {
   "cell_type": "code",
   "execution_count": 18,
   "metadata": {},
   "outputs": [],
   "source": [
    "look_back = 3"
   ]
  },
  {
   "cell_type": "code",
   "execution_count": 19,
   "metadata": {},
   "outputs": [],
   "source": [
    "train_data_gen = TimeseriesGenerator(train, train,\n",
    "                               length=look_back, sampling_rate=1,stride=1,\n",
    "                               batch_size=3)"
   ]
  },
  {
   "cell_type": "code",
   "execution_count": 20,
   "metadata": {},
   "outputs": [],
   "source": [
    "test_data_gen = TimeseriesGenerator(test, test,\n",
    "                               length=look_back, sampling_rate=1,stride=1,\n",
    "                               batch_size=1)"
   ]
  },
  {
   "cell_type": "code",
   "execution_count": 21,
   "metadata": {},
   "outputs": [
    {
     "name": "stdout",
     "output_type": "stream",
     "text": [
      "Model: \"sequential_1\"\n",
      "_________________________________________________________________\n",
      "Layer (type)                 Output Shape              Param #   \n",
      "=================================================================\n",
      "lstm_1 (LSTM)                (None, 3, 50)             10400     \n",
      "_________________________________________________________________\n",
      "dropout_1 (Dropout)          (None, 3, 50)             0         \n",
      "_________________________________________________________________\n",
      "lstm_2 (LSTM)                (None, 3, 50)             20200     \n",
      "_________________________________________________________________\n",
      "dropout_2 (Dropout)          (None, 3, 50)             0         \n",
      "_________________________________________________________________\n",
      "lstm_3 (LSTM)                (None, 50)                20200     \n",
      "_________________________________________________________________\n",
      "dropout_3 (Dropout)          (None, 50)                0         \n",
      "_________________________________________________________________\n",
      "dense_1 (Dense)              (None, 25)                1275      \n",
      "_________________________________________________________________\n",
      "dense_2 (Dense)              (None, 1)                 26        \n",
      "=================================================================\n",
      "Total params: 52,101\n",
      "Trainable params: 52,101\n",
      "Non-trainable params: 0\n",
      "_________________________________________________________________\n"
     ]
    }
   ],
   "source": [
    "# model = Sequential()\n",
    "# model.add(LSTM(4, input_shape=(look_back, 1)))\n",
    "# model.add(Dense(1))\n",
    "# model.compile(loss='mean_squared_error', optimizer='adam')\n",
    "\n",
    "model = Sequential()\n",
    "\n",
    "model.add(LSTM(units = 50, return_sequences = True, input_shape=(look_back,1)))\n",
    "model.add(Dropout(0.2))\n",
    "\n",
    "model.add(LSTM(units = 50, return_sequences = True))\n",
    "model.add(Dropout(0.2))\n",
    "\n",
    "model.add(LSTM(units = 50, return_sequences = False))\n",
    "model.add(Dropout(0.2))\n",
    "\n",
    "model.add(Dense(units = 25))\n",
    "model.add(Dense(units = 1))\n",
    "\n",
    "model.compile(optimizer = 'adam', loss = 'mean_squared_error')\n",
    "\n",
    "model.summary()    "
   ]
  },
  {
   "cell_type": "code",
   "execution_count": 22,
   "metadata": {},
   "outputs": [
    {
     "name": "stdout",
     "output_type": "stream",
     "text": [
      "Epoch 1/100\n",
      "354/354 [==============================] - 3s 8ms/step - loss: 0.0115\n",
      "Epoch 2/100\n",
      " 15/354 [>.............................] - ETA: 2s - loss: 0.0039"
     ]
    },
    {
     "name": "stderr",
     "output_type": "stream",
     "text": [
      "/Users/davidtorres/opt/anaconda3/envs/learn-env/lib/python3.6/site-packages/keras/callbacks/callbacks.py:846: RuntimeWarning:\n",
      "\n",
      "Early stopping conditioned on metric `val_loss` which is not available. Available metrics are: loss\n",
      "\n"
     ]
    },
    {
     "name": "stdout",
     "output_type": "stream",
     "text": [
      "354/354 [==============================] - 3s 8ms/step - loss: 0.0054\n",
      "Epoch 3/100\n",
      "354/354 [==============================] - 3s 7ms/step - loss: 0.0052\n",
      "Epoch 4/100\n",
      "354/354 [==============================] - 3s 8ms/step - loss: 0.0051\n",
      "Epoch 5/100\n",
      "354/354 [==============================] - 3s 7ms/step - loss: 0.0049\n",
      "Epoch 6/100\n",
      "354/354 [==============================] - 3s 7ms/step - loss: 0.0049\n",
      "Epoch 7/100\n",
      "354/354 [==============================] - 3s 7ms/step - loss: 0.0049\n",
      "Epoch 8/100\n",
      "354/354 [==============================] - 3s 7ms/step - loss: 0.0049\n",
      "Epoch 9/100\n",
      "354/354 [==============================] - 3s 7ms/step - loss: 0.0048\n",
      "Epoch 10/100\n",
      "354/354 [==============================] - 3s 7ms/step - loss: 0.0048\n",
      "Epoch 11/100\n",
      "354/354 [==============================] - 3s 8ms/step - loss: 0.0049\n",
      "Epoch 12/100\n",
      "354/354 [==============================] - 3s 8ms/step - loss: 0.0048\n",
      "Epoch 13/100\n",
      "354/354 [==============================] - 3s 8ms/step - loss: 0.0049\n",
      "Epoch 14/100\n",
      "354/354 [==============================] - 3s 8ms/step - loss: 0.0049\n",
      "Epoch 15/100\n",
      "354/354 [==============================] - 3s 7ms/step - loss: 0.0049\n",
      "Epoch 16/100\n",
      "354/354 [==============================] - 4s 11ms/step - loss: 0.0048\n",
      "Epoch 17/100\n",
      "354/354 [==============================] - 4s 11ms/step - loss: 0.0048\n",
      "Epoch 18/100\n",
      "354/354 [==============================] - 3s 8ms/step - loss: 0.0048\n",
      "Epoch 19/100\n",
      "354/354 [==============================] - 3s 8ms/step - loss: 0.0049\n",
      "Epoch 20/100\n",
      "354/354 [==============================] - 3s 8ms/step - loss: 0.0049\n",
      "Epoch 21/100\n",
      "354/354 [==============================] - 3s 9ms/step - loss: 0.0048\n",
      "Epoch 22/100\n",
      "354/354 [==============================] - 3s 8ms/step - loss: 0.0048\n",
      "Epoch 23/100\n",
      "354/354 [==============================] - 3s 9ms/step - loss: 0.0047\n",
      "Epoch 24/100\n",
      "354/354 [==============================] - 3s 8ms/step - loss: 0.0049\n",
      "Epoch 25/100\n",
      "354/354 [==============================] - 3s 9ms/step - loss: 0.0049\n",
      "Epoch 26/100\n",
      "354/354 [==============================] - 3s 8ms/step - loss: 0.0049\n",
      "Epoch 27/100\n",
      "354/354 [==============================] - 3s 8ms/step - loss: 0.0047\n",
      "Epoch 28/100\n",
      "354/354 [==============================] - 3s 8ms/step - loss: 0.0048\n",
      "Epoch 29/100\n",
      "354/354 [==============================] - 3s 8ms/step - loss: 0.0048\n",
      "Epoch 30/100\n",
      "354/354 [==============================] - 3s 8ms/step - loss: 0.0049\n",
      "Epoch 31/100\n",
      "354/354 [==============================] - 3s 8ms/step - loss: 0.0048\n",
      "Epoch 32/100\n",
      "354/354 [==============================] - 3s 8ms/step - loss: 0.0048\n",
      "Epoch 33/100\n",
      "354/354 [==============================] - 4s 10ms/step - loss: 0.0049\n",
      "Epoch 34/100\n",
      "354/354 [==============================] - 4s 10ms/step - loss: 0.0048\n",
      "Epoch 35/100\n",
      "354/354 [==============================] - 3s 8ms/step - loss: 0.0048\n",
      "Epoch 36/100\n",
      "354/354 [==============================] - 3s 8ms/step - loss: 0.0048\n",
      "Epoch 37/100\n",
      "354/354 [==============================] - 3s 8ms/step - loss: 0.0048\n",
      "Epoch 38/100\n",
      "354/354 [==============================] - 3s 8ms/step - loss: 0.0048\n",
      "Epoch 39/100\n",
      "354/354 [==============================] - 3s 8ms/step - loss: 0.0048\n",
      "Epoch 40/100\n",
      "354/354 [==============================] - 3s 8ms/step - loss: 0.0049\n",
      "Epoch 41/100\n",
      "354/354 [==============================] - 3s 8ms/step - loss: 0.0048\n",
      "Epoch 42/100\n",
      "354/354 [==============================] - 3s 8ms/step - loss: 0.0048\n",
      "Epoch 43/100\n",
      "354/354 [==============================] - 3s 8ms/step - loss: 0.0047\n",
      "Epoch 44/100\n",
      "354/354 [==============================] - 4s 11ms/step - loss: 0.0047: 0s - loss: 0\n",
      "Epoch 45/100\n",
      "354/354 [==============================] - 3s 8ms/step - loss: 0.0048\n",
      "Epoch 46/100\n",
      "354/354 [==============================] - 3s 9ms/step - loss: 0.0048\n",
      "Epoch 47/100\n",
      "354/354 [==============================] - 3s 10ms/step - loss: 0.0048\n",
      "Epoch 48/100\n",
      "354/354 [==============================] - 3s 8ms/step - loss: 0.0048\n",
      "Epoch 49/100\n",
      "354/354 [==============================] - 3s 8ms/step - loss: 0.0048\n",
      "Epoch 50/100\n",
      "354/354 [==============================] - 3s 9ms/step - loss: 0.0048\n",
      "Epoch 51/100\n",
      "354/354 [==============================] - 3s 9ms/step - loss: 0.0048\n",
      "Epoch 52/100\n",
      "354/354 [==============================] - 4s 12ms/step - loss: 0.0048\n",
      "Epoch 53/100\n",
      "354/354 [==============================] - 4s 12ms/step - loss: 0.0048\n",
      "Epoch 54/100\n",
      "354/354 [==============================] - 4s 10ms/step - loss: 0.0048\n",
      "Epoch 55/100\n",
      "354/354 [==============================] - 3s 9ms/step - loss: 0.0048\n",
      "Epoch 56/100\n",
      "354/354 [==============================] - 4s 10ms/step - loss: 0.0048\n",
      "Epoch 57/100\n",
      "354/354 [==============================] - 4s 11ms/step - loss: 0.0048\n",
      "Epoch 58/100\n",
      "354/354 [==============================] - 3s 9ms/step - loss: 0.0048\n",
      "Epoch 59/100\n",
      "354/354 [==============================] - 3s 8ms/step - loss: 0.0048\n",
      "Epoch 60/100\n",
      "354/354 [==============================] - 3s 8ms/step - loss: 0.0047\n",
      "Epoch 61/100\n",
      "354/354 [==============================] - 3s 8ms/step - loss: 0.0047\n",
      "Epoch 62/100\n",
      "354/354 [==============================] - 3s 8ms/step - loss: 0.0049\n",
      "Epoch 63/100\n",
      "354/354 [==============================] - 3s 8ms/step - loss: 0.0048\n",
      "Epoch 64/100\n",
      "354/354 [==============================] - 3s 8ms/step - loss: 0.0047\n",
      "Epoch 65/100\n",
      "354/354 [==============================] - 3s 8ms/step - loss: 0.0048\n",
      "Epoch 66/100\n",
      "354/354 [==============================] - 3s 8ms/step - loss: 0.0048\n",
      "Epoch 67/100\n",
      "354/354 [==============================] - 3s 8ms/step - loss: 0.0048\n",
      "Epoch 68/100\n",
      "354/354 [==============================] - 3s 9ms/step - loss: 0.0048\n",
      "Epoch 69/100\n",
      "354/354 [==============================] - 3s 9ms/step - loss: 0.0048\n",
      "Epoch 70/100\n",
      "354/354 [==============================] - 3s 8ms/step - loss: 0.0048\n",
      "Epoch 71/100\n",
      "354/354 [==============================] - 3s 8ms/step - loss: 0.0048\n",
      "Epoch 72/100\n",
      "354/354 [==============================] - 3s 8ms/step - loss: 0.0049\n",
      "Epoch 73/100\n",
      "354/354 [==============================] - 3s 8ms/step - loss: 0.0048\n",
      "Epoch 74/100\n",
      "354/354 [==============================] - 4s 11ms/step - loss: 0.0047\n",
      "Epoch 75/100\n",
      "354/354 [==============================] - 3s 9ms/step - loss: 0.0048\n",
      "Epoch 76/100\n",
      "354/354 [==============================] - 3s 8ms/step - loss: 0.0049\n",
      "Epoch 77/100\n",
      "354/354 [==============================] - 3s 8ms/step - loss: 0.0048\n",
      "Epoch 78/100\n",
      "354/354 [==============================] - 3s 8ms/step - loss: 0.0047\n",
      "Epoch 79/100\n",
      "354/354 [==============================] - 3s 8ms/step - loss: 0.0048\n",
      "Epoch 80/100\n",
      "354/354 [==============================] - 3s 9ms/step - loss: 0.0047\n",
      "Epoch 81/100\n",
      "354/354 [==============================] - 3s 10ms/step - loss: 0.0048\n",
      "Epoch 82/100\n",
      "354/354 [==============================] - 3s 8ms/step - loss: 0.0048\n",
      "Epoch 83/100\n",
      "354/354 [==============================] - 3s 8ms/step - loss: 0.0048\n",
      "Epoch 84/100\n",
      "354/354 [==============================] - 3s 8ms/step - loss: 0.0048\n",
      "Epoch 85/100\n",
      "354/354 [==============================] - 3s 8ms/step - loss: 0.0048\n",
      "Epoch 86/100\n",
      "354/354 [==============================] - 3s 8ms/step - loss: 0.0048\n",
      "Epoch 87/100\n",
      "354/354 [==============================] - 3s 9ms/step - loss: 0.0048\n",
      "Epoch 88/100\n",
      "354/354 [==============================] - 4s 10ms/step - loss: 0.0048\n",
      "Epoch 89/100\n",
      "354/354 [==============================] - 4s 10ms/step - loss: 0.0048\n",
      "Epoch 90/100\n",
      "354/354 [==============================] - 3s 8ms/step - loss: 0.0048\n",
      "Epoch 91/100\n",
      "354/354 [==============================] - 3s 9ms/step - loss: 0.0048\n",
      "Epoch 92/100\n",
      "354/354 [==============================] - 3s 8ms/step - loss: 0.0048\n",
      "Epoch 93/100\n",
      "354/354 [==============================] - 3s 9ms/step - loss: 0.0048\n",
      "Epoch 94/100\n",
      "354/354 [==============================] - 3s 8ms/step - loss: 0.0048\n",
      "Epoch 95/100\n",
      "354/354 [==============================] - 3s 9ms/step - loss: 0.0047\n",
      "Epoch 96/100\n",
      "354/354 [==============================] - 3s 9ms/step - loss: 0.0048\n",
      "Epoch 97/100\n",
      "354/354 [==============================] - 3s 8ms/step - loss: 0.0048\n",
      "Epoch 98/100\n",
      "354/354 [==============================] - 3s 8ms/step - loss: 0.0047\n",
      "Epoch 99/100\n",
      "354/354 [==============================] - 3s 8ms/step - loss: 0.0047\n",
      "Epoch 100/100\n"
     ]
    },
    {
     "name": "stdout",
     "output_type": "stream",
     "text": [
      "354/354 [==============================] - 3s 8ms/step - loss: 0.0048\n"
     ]
    }
   ],
   "source": [
    "early_stop = EarlyStopping(monitor='val_loss', patience=3)\n",
    "# hist = model.fit(X_train,y_train, epochs=10,batch_size=32,callbacks=[early_stop],validation_split=0.1)     \n",
    "hist = model.fit_generator(train_data_gen, epochs=100,callbacks=[early_stop])"
   ]
  },
  {
   "cell_type": "code",
   "execution_count": 23,
   "metadata": {},
   "outputs": [
    {
     "data": {
      "text/plain": [
       "7.938146882224828e-05"
      ]
     },
     "execution_count": 23,
     "metadata": {},
     "output_type": "execute_result"
    }
   ],
   "source": [
    "model.evaluate_generator(test_data_gen)"
   ]
  },
  {
   "cell_type": "code",
   "execution_count": 24,
   "metadata": {},
   "outputs": [
    {
     "data": {
      "text/plain": [
       "<matplotlib.axes._subplots.AxesSubplot at 0x7f97e25210f0>"
      ]
     },
     "execution_count": 24,
     "metadata": {},
     "output_type": "execute_result"
    },
    {
     "data": {
      "image/png": "[encoded data removed]",
      "text/plain": [
       "<Figure size 432x288 with 1 Axes>"
      ]
     },
     "metadata": {
      "needs_background": "light"
     },
     "output_type": "display_data"
    }
   ],
   "source": [
    "pd.DataFrame(hist.history).plot()"
   ]
  },
  {
   "cell_type": "code",
   "execution_count": 25,
   "metadata": {},
   "outputs": [],
   "source": [
    "def save_model():\n",
    "    model.save('model_parameters')\n",
    "    model_params = keras.models.load_model('model_parameters')\n",
    "    model_params.summary()\n",
    "\n",
    "    return model_params"
   ]
  },
  {
   "cell_type": "code",
   "execution_count": 26,
   "metadata": {},
   "outputs": [
    {
     "name": "stdout",
     "output_type": "stream",
     "text": [
      "Model: \"sequential_1\"\n",
      "_________________________________________________________________\n",
      "Layer (type)                 Output Shape              Param #   \n",
      "=================================================================\n",
      "lstm_1 (LSTM)                (None, 3, 50)             10400     \n",
      "_________________________________________________________________\n",
      "dropout_1 (Dropout)          (None, 3, 50)             0         \n",
      "_________________________________________________________________\n",
      "lstm_2 (LSTM)                (None, 3, 50)             20200     \n",
      "_________________________________________________________________\n",
      "dropout_2 (Dropout)          (None, 3, 50)             0         \n",
      "_________________________________________________________________\n",
      "lstm_3 (LSTM)                (None, 50)                20200     \n",
      "_________________________________________________________________\n",
      "dropout_3 (Dropout)          (None, 50)                0         \n",
      "_________________________________________________________________\n",
      "dense_1 (Dense)              (None, 25)                1275      \n",
      "_________________________________________________________________\n",
      "dense_2 (Dense)              (None, 1)                 26        \n",
      "=================================================================\n",
      "Total params: 52,101\n",
      "Trainable params: 52,101\n",
      "Non-trainable params: 0\n",
      "_________________________________________________________________\n"
     ]
    }
   ],
   "source": [
    "model_params = save_model()"
   ]
  },
  {
   "cell_type": "code",
   "execution_count": 27,
   "metadata": {},
   "outputs": [
    {
     "data": {
      "text/plain": [
       "(1061, 1)"
      ]
     },
     "execution_count": 27,
     "metadata": {},
     "output_type": "execute_result"
    }
   ],
   "source": [
    "trainPredict = model.predict_generator(train_data_gen)\n",
    "trainPredict.shape"
   ]
  },
  {
   "cell_type": "code",
   "execution_count": 28,
   "metadata": {},
   "outputs": [
    {
     "data": {
      "text/plain": [
       "(263, 1)"
      ]
     },
     "execution_count": 28,
     "metadata": {},
     "output_type": "execute_result"
    }
   ],
   "source": [
    "testPredict = model.predict_generator(test_data_gen)\n",
    "testPredict.shape"
   ]
  },
  {
   "cell_type": "code",
   "execution_count": 29,
   "metadata": {},
   "outputs": [],
   "source": [
    "# invert predictions, scale values back to real index/price range.\n",
    "trainPredict = scaler.inverse_transform(trainPredict)\n",
    "testPredict = scaler.inverse_transform(testPredict)"
   ]
  },
  {
   "cell_type": "code",
   "execution_count": 30,
   "metadata": {},
   "outputs": [
    {
     "name": "stdout",
     "output_type": "stream",
     "text": [
      "(1061, 1)\n",
      "(263, 1)\n"
     ]
    }
   ],
   "source": [
    "trainY = get_y_from_generator(train_data_gen)\n",
    "testY = get_y_from_generator(test_data_gen)\n"
   ]
  },
  {
   "cell_type": "code",
   "execution_count": 31,
   "metadata": {},
   "outputs": [
    {
     "name": "stdout",
     "output_type": "stream",
     "text": [
      "(1061, 1)\n",
      "(263, 1)\n"
     ]
    }
   ],
   "source": [
    "trainY = get_y_from_generator(train_data_gen)\n",
    "testY = get_y_from_generator(test_data_gen)"
   ]
  },
  {
   "cell_type": "code",
   "execution_count": 32,
   "metadata": {},
   "outputs": [
    {
     "name": "stdout",
     "output_type": "stream",
     "text": [
      "Train Score: 0.47 RMSE\n",
      "Test Score: 0.48 RMSE\n"
     ]
    }
   ],
   "source": [
    "# calculate root mean squared error\n",
    "trainScore = math.sqrt(mean_squared_error(trainY[:,0], trainPredict[:,0]))\n",
    "print('Train Score: %.2f RMSE' % (trainScore))\n",
    "testScore = math.sqrt(mean_squared_error(testY[:, 0], testPredict[:,0]))\n",
    "print('Test Score: %.2f RMSE' % (testScore))"
   ]
  },
  {
   "cell_type": "code",
   "execution_count": 33,
   "metadata": {},
   "outputs": [
    {
     "data": {
      "text/plain": [
       "(1330, 1)"
      ]
     },
     "execution_count": 33,
     "metadata": {},
     "output_type": "execute_result"
    }
   ],
   "source": [
    "dataset = scaler.inverse_transform(dataset)\n",
    "dataset.shape"
   ]
  },
  {
   "cell_type": "code",
   "execution_count": 34,
   "metadata": {},
   "outputs": [],
   "source": [
    "# shift train predictions for plotting\n",
    "trainPredictPlot = np.empty_like(dataset)\n",
    "trainPredictPlot[:, :] = np.nan\n",
    "trainPredictPlot[look_back:len(trainPredict)+look_back, :] = trainPredict\n",
    "# Delta + previous close\n",
    "trainPredictPlot = trainPredictPlot + df_data[1:]\n",
    "# set empty values\n",
    "# trainPredictPlot[0:look_back, :] = np.nan\n",
    "# trainPredictPlot[len(trainPredict)+look_back:, :] = np.nan\n"
   ]
  },
  {
   "cell_type": "code",
   "execution_count": 35,
   "metadata": {},
   "outputs": [],
   "source": [
    "testPredictPlot = np.empty_like(dataset)\n",
    "testPredictPlot[:, :] = np.nan\n",
    "testPredictPlot[len(trainPredict)+(look_back*2):len(dataset), :] = testPredict\n",
    "\n",
    "# Delta + previous close\n",
    "testPredictPlot = testPredictPlot + df_data[1:]\n",
    "# set empty values\n",
    "# testPredictPlot[0:len(trainPredict)+(look_back*2), :] = np.nan\n",
    "# testPredictPlot[len(dataset):, :] = np.nan"
   ]
  },
  {
   "cell_type": "code",
   "execution_count": 61,
   "metadata": {},
   "outputs": [
    {
     "data": {
      "text/plain": [
       "<matplotlib.legend.Legend at 0x7f97cd52eeb8>"
      ]
     },
     "execution_count": 61,
     "metadata": {},
     "output_type": "execute_result"
    },
    {
     "data": {
      "image/png": "[encoded data removed]",
      "text/plain": [
       "<Figure size 864x432 with 1 Axes>"
      ]
     },
     "metadata": {
      "needs_background": "light"
     },
     "output_type": "display_data"
    }
   ],
   "source": [
    "# plot baseline and predictions\n",
    "plt.figure(figsize=(12,6))\n",
    "plt.plot(dataset + df_data[1:])\n",
    "plt.plot(trainPredictPlot)\n",
    "plt.plot(testPredictPlot)\n",
    "plt.legend(['Valid','Train','Predictions'],loc='upper left')\n",
    "#plt.show()\n"
   ]
  },
  {
   "cell_type": "code",
   "execution_count": 37,
   "metadata": {},
   "outputs": [
    {
     "data": {
      "image/png": "[encoded data removed]",
      "text/plain": [
       "<Figure size 432x288 with 1 Axes>"
      ]
     },
     "metadata": {
      "needs_background": "light"
     },
     "output_type": "display_data"
    }
   ],
   "source": [
    "# plot baseline and predictions\n",
    "plt.plot(dataset + df_data[:-1])\n",
    "plt.plot(trainPredictPlot)\n",
    "plt.plot(testPredictPlot)\n",
    "plt.show()"
   ]
  },
  {
   "cell_type": "code",
   "execution_count": 42,
   "metadata": {},
   "outputs": [],
   "source": [
    "# def get_quote(new_df):\n",
    "#     #get last 60days closing values and convert datframe to an array\n",
    "#     last_60_days = new_df[-60:].values #converts to array\n",
    "#     #scale data\n",
    "#     last_60_days_scaled = scaler.transform(last_60_days)\n",
    "#     #create empty list\n",
    "#     x_test = []\n",
    "#     #append last 60 days to x_test\n",
    "#     x_test.append(last_60_days_scaled)\n",
    "#     #conert x_test to a numpy array\n",
    "#     x_test = np.array(x_test)\n",
    "#     # #reshape the data\n",
    "#     x_test = np.reshape(x_test, (x_test.shape[0],x_test.shape[1],1))\n",
    "#     #get the predicted scaled price\n",
    "#     pred_price = model.predict(x_test)\n",
    "#     #undo the scaling \n",
    "#     pred_price = scaler.inverse_transform(pred_price) \n",
    "#     #what model thinks predicted price will be for 12/18/2019\n",
    "#     #the actual prcie was $69.94\n",
    "#     #DAL: 58.58, 2021-1-11 40.19\n",
    "#     return pred_price    "
   ]
  },
  {
   "cell_type": "code",
   "execution_count": 44,
   "metadata": {},
   "outputs": [],
   "source": [
    "#get_quote(dataset)"
   ]
  },
  {
   "cell_type": "code",
   "execution_count": null,
   "metadata": {},
   "outputs": [],
   "source": []
  }
 ],
 "metadata": {
  "kernelspec": {
   "display_name": "Python 3",
   "language": "python",
   "name": "python3"
  },
  "language_info": {
   "codemirror_mode": {
    "name": "ipython",
    "version": 3
   },
   "file_extension": ".py",
   "mimetype": "text/x-python",
   "name": "python",
   "nbconvert_exporter": "python",
   "pygments_lexer": "ipython3",
   "version": "3.6.9"
  },
  "toc": {
   "base_numbering": 1,
   "nav_menu": {},
   "number_sections": true,
   "sideBar": true,
   "skip_h1_title": false,
   "title_cell": "Table of Contents",
   "title_sidebar": "Contents",
   "toc_cell": false,
   "toc_position": {},
   "toc_section_display": true,
   "toc_window_display": false
  }
 },
 "nbformat": 4,
 "nbformat_minor": 4
}
