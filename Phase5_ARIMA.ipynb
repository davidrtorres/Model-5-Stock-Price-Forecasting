{
 "cells": [
  {
   "cell_type": "code",
   "execution_count": 1,
   "metadata": {},
   "outputs": [
    {
     "name": "stderr",
     "output_type": "stream",
     "text": [
      "Using TensorFlow backend.\n"
     ]
    }
   ],
   "source": [
    "import pandas as pd\n",
    "import numpy as np\n",
    "import matplotlib.pyplot as plt\n",
    "%matplotlib inline\n",
    "\n",
    "from sklearn.preprocessing import MinMaxScaler\n",
    "\n",
    "import math\n",
    "\n",
    "import plotly.express as px\n",
    "\n",
    "import pandas_datareader.data as web\n",
    "\n",
    "from keras.callbacks import EarlyStopping\n",
    "\n",
    "import keras\n",
    "from keras.models import load_model\n",
    "from keras.preprocessing.sequence import TimeseriesGenerator\n",
    "#from tensorflow import keras\n",
    "from keras.models import Sequential\n",
    "from keras.layers import Dense\n",
    "from keras.layers import LSTM\n",
    "from keras.layers import Dropout\n",
    "\n",
    "from sklearn.metrics import mean_squared_error"
   ]
  },
  {
   "cell_type": "markdown",
   "metadata": {},
   "source": [
    "## Introduction\n",
    "Technical analysis is a trading discipline used to evaluate investments and identify trading opportunities in price trends and patterns from graphs.  Technical analysts believe past trading activity and price changes of a stock can be indicators of the security's future price movements.  The difference between \n",
    "technical analysis and fundamental analysis is that fundamental analysts focuses on a company's financials rather than historical price patterns or stock trends.  https://www.investopedia.com/terms/t/technicalanalysis.asp<br>\n",
    "This notebook will demonstrate how to perform a basic technical analysis of stock prices using Python code.  I will provide analysis and insights of stock prices that can be obtained from historical stock price data and corresponding graphs.  In addition, this notebook will demonstrate how algorithmic trading can be used to predict stock prices and how technical indicators can used with LTSM models.<br>\n",
    "I used the Pandas library DataReader to get the historical price stock data from Yahoo Finance API.  The library provides price and volume information regarding stocks. I will use mainly the Adjusted Closing Price ('Adj Close') from the datasets.<br>\n",
    "In addition, I will use the Long Short Term Memory (LSTM ) and SARIMA models to forecast the next day stock price.  I will use the calculations from the technical indicators for forecasting.  In addition, I will use  metrics to measure the performance of the models at predicting stock prices.  \n",
    "The data will consist of the following pharmaceutical companies that are developing  COVID-19 vaccines: \n",
    "* Pfizer (PFE),\n",
    "* Johnson & Johnson (JNJ)\n",
    "* Moderna (MRNA)\n",
    "* Novavax (NVAX) \n",
    "* BioNTech SE (BNTX)\n",
    "* MERCK & Co. (MRK)"
   ]
  },
  {
   "cell_type": "markdown",
   "metadata": {},
   "source": [
    "## Historical Stock Data"
   ]
  },
  {
   "cell_type": "markdown",
   "metadata": {},
   "source": [
    "### Multiple Stocks Data (multi_stocks)"
   ]
  },
  {
   "cell_type": "code",
   "execution_count": 2,
   "metadata": {},
   "outputs": [],
   "source": [
    "from datetime import date\n",
    "#today = date.today()\n",
    "today = '04-30-2021'\n",
    "def multiple_stock_data(ticker=None, start=None, end=None, plot=True, stock_value=None):\n",
    "    \n",
    "    try:\n",
    "        #stock = pdr.get_data_yahoo(ticker,start,end)\n",
    "        data = {}\n",
    "        for stock in ticker:\n",
    "            data = web.DataReader(stock,'yahoo',start,end)[stock_value]\n",
    "        df_1 = pd.DataFrame(data)#.reset_index()\n",
    "        if plot==True:\n",
    "            df_1.plot(figsize=(12,8))\n",
    "            label_font = {'weight':'bold','size':18}\n",
    "            plt.title(\"Historical Adjusted Price Data\",fontdict=label_font)\n",
    "            plt.xlabel('Dates')\n",
    "            plt.ylabel('Stocks Prices')\n",
    "            plt.legend(bbox_to_anchor=(1.05,1),loc='upper left') \n",
    "        \n",
    "        return df_1\n",
    "     \n",
    "    except Exception as e:\n",
    "        print(\"Error occured:\", e)\n",
    "        #data = 'Incorrect Symbol'\n"
   ]
  },
  {
   "cell_type": "code",
   "execution_count": 3,
   "metadata": {},
   "outputs": [
    {
     "data": {
      "text/html": [
       "<div>\n",
       "<style scoped>\n",
       "    .dataframe tbody tr th:only-of-type {\n",
       "        vertical-align: middle;\n",
       "    }\n",
       "\n",
       "    .dataframe tbody tr th {\n",
       "        vertical-align: top;\n",
       "    }\n",
       "\n",
       "    .dataframe thead th {\n",
       "        text-align: right;\n",
       "    }\n",
       "</style>\n",
       "<table border=\"1\" class=\"dataframe\">\n",
       "  <thead>\n",
       "    <tr style=\"text-align: right;\">\n",
       "      <th>Symbols</th>\n",
       "      <th>PFE</th>\n",
       "      <th>JNJ</th>\n",
       "      <th>NVAX</th>\n",
       "      <th>MRNA</th>\n",
       "      <th>AZN</th>\n",
       "      <th>BNTX</th>\n",
       "    </tr>\n",
       "    <tr>\n",
       "      <th>Date</th>\n",
       "      <th></th>\n",
       "      <th></th>\n",
       "      <th></th>\n",
       "      <th></th>\n",
       "      <th></th>\n",
       "      <th></th>\n",
       "    </tr>\n",
       "  </thead>\n",
       "  <tbody>\n",
       "    <tr>\n",
       "      <th>2017-01-03</th>\n",
       "      <td>26.393257</td>\n",
       "      <td>103.436539</td>\n",
       "      <td>25.400000</td>\n",
       "      <td>NaN</td>\n",
       "      <td>23.433638</td>\n",
       "      <td>NaN</td>\n",
       "    </tr>\n",
       "    <tr>\n",
       "      <th>2017-01-04</th>\n",
       "      <td>26.625195</td>\n",
       "      <td>103.266876</td>\n",
       "      <td>26.200001</td>\n",
       "      <td>NaN</td>\n",
       "      <td>23.619688</td>\n",
       "      <td>NaN</td>\n",
       "    </tr>\n",
       "    <tr>\n",
       "      <th>2017-01-05</th>\n",
       "      <td>26.881132</td>\n",
       "      <td>104.347321</td>\n",
       "      <td>26.400000</td>\n",
       "      <td>NaN</td>\n",
       "      <td>24.262403</td>\n",
       "      <td>NaN</td>\n",
       "    </tr>\n",
       "    <tr>\n",
       "      <th>2017-01-06</th>\n",
       "      <td>26.777161</td>\n",
       "      <td>103.847282</td>\n",
       "      <td>27.400000</td>\n",
       "      <td>NaN</td>\n",
       "      <td>24.042524</td>\n",
       "      <td>NaN</td>\n",
       "    </tr>\n",
       "    <tr>\n",
       "      <th>2017-01-09</th>\n",
       "      <td>26.769159</td>\n",
       "      <td>103.829422</td>\n",
       "      <td>28.400000</td>\n",
       "      <td>NaN</td>\n",
       "      <td>24.127094</td>\n",
       "      <td>NaN</td>\n",
       "    </tr>\n",
       "    <tr>\n",
       "      <th>...</th>\n",
       "      <td>...</td>\n",
       "      <td>...</td>\n",
       "      <td>...</td>\n",
       "      <td>...</td>\n",
       "      <td>...</td>\n",
       "      <td>...</td>\n",
       "    </tr>\n",
       "    <tr>\n",
       "      <th>2021-05-03</th>\n",
       "      <td>39.441368</td>\n",
       "      <td>165.210007</td>\n",
       "      <td>195.119995</td>\n",
       "      <td>186.020004</td>\n",
       "      <td>53.700001</td>\n",
       "      <td>208.899994</td>\n",
       "    </tr>\n",
       "    <tr>\n",
       "      <th>2021-05-04</th>\n",
       "      <td>39.560196</td>\n",
       "      <td>167.770004</td>\n",
       "      <td>180.669998</td>\n",
       "      <td>173.589996</td>\n",
       "      <td>52.930000</td>\n",
       "      <td>176.880005</td>\n",
       "    </tr>\n",
       "    <tr>\n",
       "      <th>2021-05-05</th>\n",
       "      <td>39.580002</td>\n",
       "      <td>167.070007</td>\n",
       "      <td>171.740005</td>\n",
       "      <td>162.839996</td>\n",
       "      <td>53.650002</td>\n",
       "      <td>170.770004</td>\n",
       "    </tr>\n",
       "    <tr>\n",
       "      <th>2021-05-06</th>\n",
       "      <td>39.189999</td>\n",
       "      <td>167.740005</td>\n",
       "      <td>172.520004</td>\n",
       "      <td>160.500000</td>\n",
       "      <td>53.480000</td>\n",
       "      <td>168.000000</td>\n",
       "    </tr>\n",
       "    <tr>\n",
       "      <th>2021-05-07</th>\n",
       "      <td>39.580002</td>\n",
       "      <td>168.500000</td>\n",
       "      <td>176.000000</td>\n",
       "      <td>163.149994</td>\n",
       "      <td>53.810001</td>\n",
       "      <td>183.710007</td>\n",
       "    </tr>\n",
       "  </tbody>\n",
       "</table>\n",
       "<p>1094 rows × 6 columns</p>\n",
       "</div>"
      ],
      "text/plain": [
       "Symbols           PFE         JNJ        NVAX        MRNA        AZN  \\\n",
       "Date                                                                   \n",
       "2017-01-03  26.393257  103.436539   25.400000         NaN  23.433638   \n",
       "2017-01-04  26.625195  103.266876   26.200001         NaN  23.619688   \n",
       "2017-01-05  26.881132  104.347321   26.400000         NaN  24.262403   \n",
       "2017-01-06  26.777161  103.847282   27.400000         NaN  24.042524   \n",
       "2017-01-09  26.769159  103.829422   28.400000         NaN  24.127094   \n",
       "...               ...         ...         ...         ...        ...   \n",
       "2021-05-03  39.441368  165.210007  195.119995  186.020004  53.700001   \n",
       "2021-05-04  39.560196  167.770004  180.669998  173.589996  52.930000   \n",
       "2021-05-05  39.580002  167.070007  171.740005  162.839996  53.650002   \n",
       "2021-05-06  39.189999  167.740005  172.520004  160.500000  53.480000   \n",
       "2021-05-07  39.580002  168.500000  176.000000  163.149994  53.810001   \n",
       "\n",
       "Symbols           BNTX  \n",
       "Date                    \n",
       "2017-01-03         NaN  \n",
       "2017-01-04         NaN  \n",
       "2017-01-05         NaN  \n",
       "2017-01-06         NaN  \n",
       "2017-01-09         NaN  \n",
       "...                ...  \n",
       "2021-05-03  208.899994  \n",
       "2021-05-04  176.880005  \n",
       "2021-05-05  170.770004  \n",
       "2021-05-06  168.000000  \n",
       "2021-05-07  183.710007  \n",
       "\n",
       "[1094 rows x 6 columns]"
      ]
     },
     "execution_count": 3,
     "metadata": {},
     "output_type": "execute_result"
    },
    {
     "data": {
      "image/png": "[encoded data removed]",
      "text/plain": [
       "<Figure size 864x576 with 1 Axes>"
      ]
     },
     "metadata": {
      "needs_background": "light"
     },
     "output_type": "display_data"
    }
   ],
   "source": [
    "multi_stock_data = multiple_stock_data(ticker=[['PFE','JNJ','NVAX','MRNA','AZN','BNTX']], start='2017',end='today',plot=True, stock_value='Adj Close')\n",
    "multi_stock_data"
   ]
  },
  {
   "cell_type": "code",
   "execution_count": 4,
   "metadata": {},
   "outputs": [],
   "source": [
    "multi_stock_data.to_csv('multi_pharm_data')"
   ]
  },
  {
   "cell_type": "code",
   "execution_count": 5,
   "metadata": {},
   "outputs": [],
   "source": [
    "#start='2017',end='today'\n",
    "multi_stocks = pd.read_csv('multi_pharm_data', parse_dates=True, index_col='Date')"
   ]
  },
  {
   "cell_type": "markdown",
   "metadata": {},
   "source": [
    "#### Multiple Stock Plot"
   ]
  },
  {
   "cell_type": "code",
   "execution_count": 6,
   "metadata": {},
   "outputs": [],
   "source": [
    "def multi_plot(df, stock_value=None):\n",
    "    #plt.figure(figsize=(12,8))\n",
    "    df.plot(figsize=(12,8))\n",
    "    label_font = {'weight':'bold','size':18}\n",
    "    plt.xlabel('Date',fontdict=label_font)\n",
    "    plt.ylabel(f'{stock_value} Price USD ($)',fontdict=label_font)\n",
    "    plt.title(f'Historical {stock_value} Price',fontdict=label_font)            "
   ]
  },
  {
   "cell_type": "code",
   "execution_count": 7,
   "metadata": {},
   "outputs": [
    {
     "data": {
      "image/png": "[encoded data removed]",
      "text/plain": [
       "<Figure size 864x576 with 1 Axes>"
      ]
     },
     "metadata": {
      "needs_background": "light"
     },
     "output_type": "display_data"
    }
   ],
   "source": [
    "multi_plot(multi_stocks, stock_value='Adj Close')"
   ]
  },
  {
   "cell_type": "code",
   "execution_count": 8,
   "metadata": {},
   "outputs": [
    {
     "data": {
      "text/html": [
       "<div>\n",
       "<style scoped>\n",
       "    .dataframe tbody tr th:only-of-type {\n",
       "        vertical-align: middle;\n",
       "    }\n",
       "\n",
       "    .dataframe tbody tr th {\n",
       "        vertical-align: top;\n",
       "    }\n",
       "\n",
       "    .dataframe thead th {\n",
       "        text-align: right;\n",
       "    }\n",
       "</style>\n",
       "<table border=\"1\" class=\"dataframe\">\n",
       "  <thead>\n",
       "    <tr style=\"text-align: right;\">\n",
       "      <th></th>\n",
       "      <th>PFE</th>\n",
       "      <th>JNJ</th>\n",
       "      <th>NVAX</th>\n",
       "      <th>MRNA</th>\n",
       "      <th>AZN</th>\n",
       "      <th>BNTX</th>\n",
       "    </tr>\n",
       "  </thead>\n",
       "  <tbody>\n",
       "    <tr>\n",
       "      <th>count</th>\n",
       "      <td>1094.000000</td>\n",
       "      <td>1094.000000</td>\n",
       "      <td>1094.000000</td>\n",
       "      <td>608.000000</td>\n",
       "      <td>1094.000000</td>\n",
       "      <td>397.000000</td>\n",
       "    </tr>\n",
       "    <tr>\n",
       "      <th>mean</th>\n",
       "      <td>32.708488</td>\n",
       "      <td>130.827380</td>\n",
       "      <td>48.151965</td>\n",
       "      <td>55.319581</td>\n",
       "      <td>39.002276</td>\n",
       "      <td>70.957431</td>\n",
       "    </tr>\n",
       "    <tr>\n",
       "      <th>std</th>\n",
       "      <td>3.689415</td>\n",
       "      <td>14.563264</td>\n",
       "      <td>57.195907</td>\n",
       "      <td>49.371516</td>\n",
       "      <td>9.269537</td>\n",
       "      <td>38.264637</td>\n",
       "    </tr>\n",
       "    <tr>\n",
       "      <th>min</th>\n",
       "      <td>24.913631</td>\n",
       "      <td>99.793396</td>\n",
       "      <td>3.690000</td>\n",
       "      <td>12.260000</td>\n",
       "      <td>22.596422</td>\n",
       "      <td>12.750000</td>\n",
       "    </tr>\n",
       "    <tr>\n",
       "      <th>25%</th>\n",
       "      <td>29.869446</td>\n",
       "      <td>120.387264</td>\n",
       "      <td>14.072500</td>\n",
       "      <td>18.114999</td>\n",
       "      <td>30.903034</td>\n",
       "      <td>38.580002</td>\n",
       "    </tr>\n",
       "    <tr>\n",
       "      <th>50%</th>\n",
       "      <td>33.083639</td>\n",
       "      <td>128.574722</td>\n",
       "      <td>27.600000</td>\n",
       "      <td>26.095000</td>\n",
       "      <td>36.707993</td>\n",
       "      <td>66.120003</td>\n",
       "    </tr>\n",
       "    <tr>\n",
       "      <th>75%</th>\n",
       "      <td>35.891665</td>\n",
       "      <td>141.196846</td>\n",
       "      <td>44.000000</td>\n",
       "      <td>72.569998</td>\n",
       "      <td>47.813596</td>\n",
       "      <td>100.389999</td>\n",
       "    </tr>\n",
       "    <tr>\n",
       "      <th>max</th>\n",
       "      <td>41.691181</td>\n",
       "      <td>169.423508</td>\n",
       "      <td>319.929993</td>\n",
       "      <td>186.020004</td>\n",
       "      <td>59.466022</td>\n",
       "      <td>208.899994</td>\n",
       "    </tr>\n",
       "  </tbody>\n",
       "</table>\n",
       "</div>"
      ],
      "text/plain": [
       "               PFE          JNJ         NVAX        MRNA          AZN  \\\n",
       "count  1094.000000  1094.000000  1094.000000  608.000000  1094.000000   \n",
       "mean     32.708488   130.827380    48.151965   55.319581    39.002276   \n",
       "std       3.689415    14.563264    57.195907   49.371516     9.269537   \n",
       "min      24.913631    99.793396     3.690000   12.260000    22.596422   \n",
       "25%      29.869446   120.387264    14.072500   18.114999    30.903034   \n",
       "50%      33.083639   128.574722    27.600000   26.095000    36.707993   \n",
       "75%      35.891665   141.196846    44.000000   72.569998    47.813596   \n",
       "max      41.691181   169.423508   319.929993  186.020004    59.466022   \n",
       "\n",
       "             BNTX  \n",
       "count  397.000000  \n",
       "mean    70.957431  \n",
       "std     38.264637  \n",
       "min     12.750000  \n",
       "25%     38.580002  \n",
       "50%     66.120003  \n",
       "75%    100.389999  \n",
       "max    208.899994  "
      ]
     },
     "execution_count": 8,
     "metadata": {},
     "output_type": "execute_result"
    }
   ],
   "source": [
    "multi_stocks.describe()"
   ]
  },
  {
   "cell_type": "markdown",
   "metadata": {},
   "source": [
    "### Single Stock Data (pfe_stock_data)"
   ]
  },
  {
   "cell_type": "code",
   "execution_count": 9,
   "metadata": {},
   "outputs": [],
   "source": [
    "def single_stock_data(symbol, start,end=None,plot=True,stock_value='Adj Close'):\n",
    "    \n",
    "    try:\n",
    "        \n",
    "        df = web.DataReader(symbol,'yahoo', start, end)\n",
    "        df_single = pd.DataFrame(df)\n",
    "        print(\"Dataframe has {} rows and {} columns\".format(df_single.shape[0],df_single.shape[1]))\n",
    "        print()\n",
    "        if plot==True:\n",
    "            plt.figure(figsize=(12,8))\n",
    "            plt.plot(df_single[stock_value])\n",
    "            label_font = {'weight':'bold','size':18}\n",
    "            plt.xlabel('Date',fontdict=label_font)\n",
    "            plt.ylabel('Close Price USD ($)',fontdict=label_font)\n",
    "            plt.title(f'Historical {stock_value} Price for {symbol}',fontdict=label_font)\n",
    "            #plot = go.Scatter(x=df_single.index, y=df_single['Adj Close'])\n",
    "            \n",
    "        return df_single\n",
    "        \n",
    "    except Exception as e:\n",
    "        #if inccorect symbol is inputted, error message displayed\n",
    "        print(\"Error occured/Incorrect Symbol:\", e)\n",
    "        #data = 'Incorrect Symbol'\n"
   ]
  },
  {
   "cell_type": "markdown",
   "metadata": {},
   "source": [
    "This is data for Pfizer."
   ]
  },
  {
   "cell_type": "code",
   "execution_count": 10,
   "metadata": {},
   "outputs": [
    {
     "name": "stdout",
     "output_type": "stream",
     "text": [
      "Dataframe has 1094 rows and 6 columns\n",
      "\n"
     ]
    },
    {
     "data": {
      "text/html": [
       "<div>\n",
       "<style scoped>\n",
       "    .dataframe tbody tr th:only-of-type {\n",
       "        vertical-align: middle;\n",
       "    }\n",
       "\n",
       "    .dataframe tbody tr th {\n",
       "        vertical-align: top;\n",
       "    }\n",
       "\n",
       "    .dataframe thead th {\n",
       "        text-align: right;\n",
       "    }\n",
       "</style>\n",
       "<table border=\"1\" class=\"dataframe\">\n",
       "  <thead>\n",
       "    <tr style=\"text-align: right;\">\n",
       "      <th></th>\n",
       "      <th>High</th>\n",
       "      <th>Low</th>\n",
       "      <th>Open</th>\n",
       "      <th>Close</th>\n",
       "      <th>Volume</th>\n",
       "      <th>Adj Close</th>\n",
       "    </tr>\n",
       "    <tr>\n",
       "      <th>Date</th>\n",
       "      <th></th>\n",
       "      <th></th>\n",
       "      <th></th>\n",
       "      <th></th>\n",
       "      <th></th>\n",
       "      <th></th>\n",
       "    </tr>\n",
       "  </thead>\n",
       "  <tbody>\n",
       "    <tr>\n",
       "      <th>2017-01-03</th>\n",
       "      <td>31.309298</td>\n",
       "      <td>30.920303</td>\n",
       "      <td>31.024668</td>\n",
       "      <td>31.309298</td>\n",
       "      <td>23391844.0</td>\n",
       "      <td>26.393257</td>\n",
       "    </tr>\n",
       "    <tr>\n",
       "      <th>2017-01-04</th>\n",
       "      <td>31.641365</td>\n",
       "      <td>31.337761</td>\n",
       "      <td>31.432638</td>\n",
       "      <td>31.584440</td>\n",
       "      <td>22753963.0</td>\n",
       "      <td>26.625195</td>\n",
       "    </tr>\n",
       "    <tr>\n",
       "      <th>2017-01-05</th>\n",
       "      <td>31.963947</td>\n",
       "      <td>31.423149</td>\n",
       "      <td>31.660341</td>\n",
       "      <td>31.888046</td>\n",
       "      <td>21083584.0</td>\n",
       "      <td>26.881132</td>\n",
       "    </tr>\n",
       "    <tr>\n",
       "      <th>2017-01-06</th>\n",
       "      <td>31.973434</td>\n",
       "      <td>31.631880</td>\n",
       "      <td>31.935484</td>\n",
       "      <td>31.764706</td>\n",
       "      <td>18418228.0</td>\n",
       "      <td>26.777161</td>\n",
       "    </tr>\n",
       "    <tr>\n",
       "      <th>2017-01-09</th>\n",
       "      <td>31.944971</td>\n",
       "      <td>31.669828</td>\n",
       "      <td>31.717268</td>\n",
       "      <td>31.755219</td>\n",
       "      <td>21559886.0</td>\n",
       "      <td>26.769159</td>\n",
       "    </tr>\n",
       "    <tr>\n",
       "      <th>...</th>\n",
       "      <td>...</td>\n",
       "      <td>...</td>\n",
       "      <td>...</td>\n",
       "      <td>...</td>\n",
       "      <td>...</td>\n",
       "      <td>...</td>\n",
       "    </tr>\n",
       "    <tr>\n",
       "      <th>2021-05-03</th>\n",
       "      <td>39.840000</td>\n",
       "      <td>38.959999</td>\n",
       "      <td>39.040001</td>\n",
       "      <td>39.830002</td>\n",
       "      <td>46638600.0</td>\n",
       "      <td>39.441368</td>\n",
       "    </tr>\n",
       "    <tr>\n",
       "      <th>2021-05-04</th>\n",
       "      <td>40.169998</td>\n",
       "      <td>39.430000</td>\n",
       "      <td>40.000000</td>\n",
       "      <td>39.950001</td>\n",
       "      <td>52802200.0</td>\n",
       "      <td>39.560196</td>\n",
       "    </tr>\n",
       "    <tr>\n",
       "      <th>2021-05-05</th>\n",
       "      <td>41.090000</td>\n",
       "      <td>38.930000</td>\n",
       "      <td>40.180000</td>\n",
       "      <td>39.970001</td>\n",
       "      <td>54348400.0</td>\n",
       "      <td>39.580002</td>\n",
       "    </tr>\n",
       "    <tr>\n",
       "      <th>2021-05-06</th>\n",
       "      <td>39.230000</td>\n",
       "      <td>37.959999</td>\n",
       "      <td>38.480000</td>\n",
       "      <td>39.189999</td>\n",
       "      <td>54944900.0</td>\n",
       "      <td>39.189999</td>\n",
       "    </tr>\n",
       "    <tr>\n",
       "      <th>2021-05-07</th>\n",
       "      <td>39.869999</td>\n",
       "      <td>39.049999</td>\n",
       "      <td>39.049999</td>\n",
       "      <td>39.580002</td>\n",
       "      <td>33795200.0</td>\n",
       "      <td>39.580002</td>\n",
       "    </tr>\n",
       "  </tbody>\n",
       "</table>\n",
       "<p>1094 rows × 6 columns</p>\n",
       "</div>"
      ],
      "text/plain": [
       "                 High        Low       Open      Close      Volume  Adj Close\n",
       "Date                                                                         \n",
       "2017-01-03  31.309298  30.920303  31.024668  31.309298  23391844.0  26.393257\n",
       "2017-01-04  31.641365  31.337761  31.432638  31.584440  22753963.0  26.625195\n",
       "2017-01-05  31.963947  31.423149  31.660341  31.888046  21083584.0  26.881132\n",
       "2017-01-06  31.973434  31.631880  31.935484  31.764706  18418228.0  26.777161\n",
       "2017-01-09  31.944971  31.669828  31.717268  31.755219  21559886.0  26.769159\n",
       "...               ...        ...        ...        ...         ...        ...\n",
       "2021-05-03  39.840000  38.959999  39.040001  39.830002  46638600.0  39.441368\n",
       "2021-05-04  40.169998  39.430000  40.000000  39.950001  52802200.0  39.560196\n",
       "2021-05-05  41.090000  38.930000  40.180000  39.970001  54348400.0  39.580002\n",
       "2021-05-06  39.230000  37.959999  38.480000  39.189999  54944900.0  39.189999\n",
       "2021-05-07  39.869999  39.049999  39.049999  39.580002  33795200.0  39.580002\n",
       "\n",
       "[1094 rows x 6 columns]"
      ]
     },
     "execution_count": 10,
     "metadata": {},
     "output_type": "execute_result"
    },
    {
     "data": {
      "image/png": "[encoded data removed]",
      "text/plain": [
       "<Figure size 864x576 with 1 Axes>"
      ]
     },
     "metadata": {
      "needs_background": "light"
     },
     "output_type": "display_data"
    }
   ],
   "source": [
    "start='01-01-2017'\n",
    "end='today'\n",
    "pfe_stock = single_stock_data('PFE', start= start,end='today',plot=True,stock_value='Adj Close')\n",
    "pfe_stock"
   ]
  },
  {
   "cell_type": "code",
   "execution_count": 11,
   "metadata": {},
   "outputs": [],
   "source": [
    "pfe_stock.to_csv('pfe_stock')\n",
    "pfe_stock_df = pd.read_csv('pfe_stock', parse_dates=True, index_col='Date')\n",
    "#single_stock['Close']['2015-04-01':'2015-12-01'].plot()\n",
    "pfe_stock_data = pfe_stock_df[['Close','Volume','Adj Close']]"
   ]
  },
  {
   "cell_type": "code",
   "execution_count": 12,
   "metadata": {},
   "outputs": [
    {
     "data": {
      "text/html": [
       "<div>\n",
       "<style scoped>\n",
       "    .dataframe tbody tr th:only-of-type {\n",
       "        vertical-align: middle;\n",
       "    }\n",
       "\n",
       "    .dataframe tbody tr th {\n",
       "        vertical-align: top;\n",
       "    }\n",
       "\n",
       "    .dataframe thead th {\n",
       "        text-align: right;\n",
       "    }\n",
       "</style>\n",
       "<table border=\"1\" class=\"dataframe\">\n",
       "  <thead>\n",
       "    <tr style=\"text-align: right;\">\n",
       "      <th></th>\n",
       "      <th>Close</th>\n",
       "      <th>Volume</th>\n",
       "      <th>Adj Close</th>\n",
       "    </tr>\n",
       "  </thead>\n",
       "  <tbody>\n",
       "    <tr>\n",
       "      <th>count</th>\n",
       "      <td>1094.000000</td>\n",
       "      <td>1.094000e+03</td>\n",
       "      <td>1094.000000</td>\n",
       "    </tr>\n",
       "    <tr>\n",
       "      <th>mean</th>\n",
       "      <td>35.641638</td>\n",
       "      <td>2.618101e+07</td>\n",
       "      <td>32.708488</td>\n",
       "    </tr>\n",
       "    <tr>\n",
       "      <th>std</th>\n",
       "      <td>3.271957</td>\n",
       "      <td>1.363625e+07</td>\n",
       "      <td>3.689415</td>\n",
       "    </tr>\n",
       "    <tr>\n",
       "      <th>min</th>\n",
       "      <td>27.030361</td>\n",
       "      <td>5.187683e+06</td>\n",
       "      <td>24.913631</td>\n",
       "    </tr>\n",
       "    <tr>\n",
       "      <th>25%</th>\n",
       "      <td>33.510108</td>\n",
       "      <td>1.830084e+07</td>\n",
       "      <td>29.869446</td>\n",
       "    </tr>\n",
       "    <tr>\n",
       "      <th>50%</th>\n",
       "      <td>34.924999</td>\n",
       "      <td>2.307854e+07</td>\n",
       "      <td>33.083639</td>\n",
       "    </tr>\n",
       "    <tr>\n",
       "      <th>75%</th>\n",
       "      <td>38.084350</td>\n",
       "      <td>2.966483e+07</td>\n",
       "      <td>35.891665</td>\n",
       "    </tr>\n",
       "    <tr>\n",
       "      <th>max</th>\n",
       "      <td>43.861481</td>\n",
       "      <td>2.301539e+08</td>\n",
       "      <td>41.691181</td>\n",
       "    </tr>\n",
       "  </tbody>\n",
       "</table>\n",
       "</div>"
      ],
      "text/plain": [
       "             Close        Volume    Adj Close\n",
       "count  1094.000000  1.094000e+03  1094.000000\n",
       "mean     35.641638  2.618101e+07    32.708488\n",
       "std       3.271957  1.363625e+07     3.689415\n",
       "min      27.030361  5.187683e+06    24.913631\n",
       "25%      33.510108  1.830084e+07    29.869446\n",
       "50%      34.924999  2.307854e+07    33.083639\n",
       "75%      38.084350  2.966483e+07    35.891665\n",
       "max      43.861481  2.301539e+08    41.691181"
      ]
     },
     "execution_count": 12,
     "metadata": {},
     "output_type": "execute_result"
    }
   ],
   "source": [
    "pfe_stock_data.describe()"
   ]
  },
  {
   "cell_type": "markdown",
   "metadata": {},
   "source": [
    "#### Single Stock Plot"
   ]
  },
  {
   "cell_type": "code",
   "execution_count": 13,
   "metadata": {},
   "outputs": [],
   "source": [
    "def single_plot(df,stock_value=None, stock_symbol=None):\n",
    "    df[stock_value].plot(figsize=(12,8))\n",
    "    label_font = {'weight':'bold','size':18}\n",
    "    plt.xlabel('Date',fontdict=label_font)\n",
    "    plt.ylabel(f'{stock_value} Price USD ($)',fontdict=label_font)\n",
    "    plt.title(f'{stock_symbol} {stock_value} History',fontdict=label_font)                "
   ]
  },
  {
   "cell_type": "code",
   "execution_count": 14,
   "metadata": {},
   "outputs": [
    {
     "data": {
      "image/png": "[encoded data removed]",
      "text/plain": [
       "<Figure size 864x576 with 1 Axes>"
      ]
     },
     "metadata": {
      "needs_background": "light"
     },
     "output_type": "display_data"
    }
   ],
   "source": [
    "single_plot(pfe_stock_data, stock_value='Close', stock_symbol='PFE')"
   ]
  },
  {
   "cell_type": "markdown",
   "metadata": {},
   "source": [
    "## Question 2: <br>Does the SARIMA algorithm perform better in predicting future stocks price with the Adj Close column or Technical Indicators ? \n",
    "This section focuses on using SARIMA models to predict future stock prices.  Autoregressive Integrated Moving Average, or ARIMA, is one of the most widely used forecasting methods for univariate time series data forecasting.  Although the method can handle data with a trend, it does not support time series with a seasonal component.  Seasonal Autoregressive Integrated Moving Average, SARIMA or Seasonal ARIMA, is an extension of ARIMA that explicitly supports univariate time series data with a seasonal component. https://machinelearningmastery.com/sarima-for-time-series-forecasting-in-python/\n",
    "\n",
    "I will be working with univariate time series datasets.  I have created various functions which make it easy to work with different datasets and get corresponding predictions and plots.  I am starting with Pfizer then I will run the model with BVAX for a comparison.<br>\n",
    "I created the function delta_data in order to add the calculations from the Techincal Indicators section to the stock dataset I obtained from Datareader.  I will be working with the columns Adj Close, MA_50 and Actual_Changes.\n",
    "\n",
    "Adj Close:\n",
    "<br>\n",
    "The data covers the time period 3/15/17 to 4/1/21.  I applied the describe function to the 'Adj Close' column which provides a quick statistical overview of the data.  The average price of the stock was \\\\$33.20.  Regarding price range, the lowest price it reached was \\\\$25.95 and the highest was \\\\$42.10.  The std was 3.497 so the data points generally didn't deviate that far from each other.<br>\n",
    "<br>\n",
    "\n",
    "To make the predictions I will be using One-Step Ahead forecasting and Dynamic Forecasting. One Step Ahead static and dynamic forecasts are similar. The difference is with their estimation procedures. Dynamic forecasts use the value of the previous forecasted value of the dependent variable to compute the next one. Static forecast use the actual value for each subsequent forecast."
   ]
  },
  {
   "cell_type": "code",
   "execution_count": 15,
   "metadata": {},
   "outputs": [],
   "source": [
    "#start='01-01-2019',end='today',\n",
    "#df_single = single_stock_data('PFE', start='01-01-2019',end='today',plot=True,stock_value='Adj Close')"
   ]
  },
  {
   "cell_type": "markdown",
   "metadata": {},
   "source": [
    "## Sarima Model"
   ]
  },
  {
   "cell_type": "code",
   "execution_count": 16,
   "metadata": {},
   "outputs": [],
   "source": [
    "import six\n",
    "import joblib\n",
    "import sys\n",
    "sys.modules['sklearn.externals.six'] = six\n",
    "sys.modules['sklearn.externals.joblib'] = joblib\n",
    "import pmdarima as pm\n",
    "from pmdarima import auto_arima\n",
    "\n",
    "import statsmodels.api as sm"
   ]
  },
  {
   "cell_type": "code",
   "execution_count": 17,
   "metadata": {},
   "outputs": [],
   "source": [
    "sarima_data = pfe_stock_data.copy()"
   ]
  },
  {
   "cell_type": "code",
   "execution_count": 18,
   "metadata": {},
   "outputs": [
    {
     "data": {
      "image/png": "[encoded data removed]",
      "text/plain": [
       "<Figure size 864x576 with 1 Axes>"
      ]
     },
     "metadata": {
      "needs_background": "light"
     },
     "output_type": "display_data"
    }
   ],
   "source": [
    "single_plot(pfe_stock_data, stock_value='Adj Close', stock_symbol='PFE')"
   ]
  },
  {
   "cell_type": "markdown",
   "metadata": {},
   "source": [
    "#### Delta_data"
   ]
  },
  {
   "cell_type": "code",
   "execution_count": 19,
   "metadata": {},
   "outputs": [],
   "source": [
    "def delta_data(data,col=None):\n",
    "    data['Actual_Changes'] = data[col] - data[col].shift(1)\n",
    "    data['Percent_Chg'] = data[col].pct_change(1)\n",
    "    data['MA_50'] = data[col].rolling(50).mean()\n",
    "    \n",
    "    data = data.dropna()\n",
    "    return data"
   ]
  },
  {
   "cell_type": "code",
   "execution_count": 20,
   "metadata": {},
   "outputs": [
    {
     "data": {
      "text/html": [
       "<div>\n",
       "<style scoped>\n",
       "    .dataframe tbody tr th:only-of-type {\n",
       "        vertical-align: middle;\n",
       "    }\n",
       "\n",
       "    .dataframe tbody tr th {\n",
       "        vertical-align: top;\n",
       "    }\n",
       "\n",
       "    .dataframe thead th {\n",
       "        text-align: right;\n",
       "    }\n",
       "</style>\n",
       "<table border=\"1\" class=\"dataframe\">\n",
       "  <thead>\n",
       "    <tr style=\"text-align: right;\">\n",
       "      <th></th>\n",
       "      <th>Close</th>\n",
       "      <th>Volume</th>\n",
       "      <th>Adj Close</th>\n",
       "      <th>Actual_Changes</th>\n",
       "      <th>Percent_Chg</th>\n",
       "      <th>MA_50</th>\n",
       "    </tr>\n",
       "    <tr>\n",
       "      <th>Date</th>\n",
       "      <th></th>\n",
       "      <th></th>\n",
       "      <th></th>\n",
       "      <th></th>\n",
       "      <th></th>\n",
       "      <th></th>\n",
       "    </tr>\n",
       "  </thead>\n",
       "  <tbody>\n",
       "    <tr>\n",
       "      <th>2017-03-15</th>\n",
       "      <td>32.855785</td>\n",
       "      <td>24279839.0</td>\n",
       "      <td>27.979099</td>\n",
       "      <td>0.331263</td>\n",
       "      <td>0.011982</td>\n",
       "      <td>26.540320</td>\n",
       "    </tr>\n",
       "    <tr>\n",
       "      <th>2017-03-16</th>\n",
       "      <td>32.666035</td>\n",
       "      <td>21816219.0</td>\n",
       "      <td>27.817513</td>\n",
       "      <td>-0.161587</td>\n",
       "      <td>-0.005775</td>\n",
       "      <td>26.568806</td>\n",
       "    </tr>\n",
       "    <tr>\n",
       "      <th>2017-03-17</th>\n",
       "      <td>32.561668</td>\n",
       "      <td>45736117.0</td>\n",
       "      <td>27.728630</td>\n",
       "      <td>-0.088882</td>\n",
       "      <td>-0.003195</td>\n",
       "      <td>26.590874</td>\n",
       "    </tr>\n",
       "    <tr>\n",
       "      <th>2017-03-20</th>\n",
       "      <td>32.618595</td>\n",
       "      <td>18435514.0</td>\n",
       "      <td>27.777109</td>\n",
       "      <td>0.048479</td>\n",
       "      <td>0.001748</td>\n",
       "      <td>26.608794</td>\n",
       "    </tr>\n",
       "    <tr>\n",
       "      <th>2017-03-21</th>\n",
       "      <td>32.495255</td>\n",
       "      <td>33083479.0</td>\n",
       "      <td>27.672075</td>\n",
       "      <td>-0.105034</td>\n",
       "      <td>-0.003781</td>\n",
       "      <td>26.626692</td>\n",
       "    </tr>\n",
       "    <tr>\n",
       "      <th>...</th>\n",
       "      <td>...</td>\n",
       "      <td>...</td>\n",
       "      <td>...</td>\n",
       "      <td>...</td>\n",
       "      <td>...</td>\n",
       "      <td>...</td>\n",
       "    </tr>\n",
       "    <tr>\n",
       "      <th>2021-05-03</th>\n",
       "      <td>39.830002</td>\n",
       "      <td>46638600.0</td>\n",
       "      <td>39.441368</td>\n",
       "      <td>1.168488</td>\n",
       "      <td>0.030530</td>\n",
       "      <td>35.873521</td>\n",
       "    </tr>\n",
       "    <tr>\n",
       "      <th>2021-05-04</th>\n",
       "      <td>39.950001</td>\n",
       "      <td>52802200.0</td>\n",
       "      <td>39.560196</td>\n",
       "      <td>0.118828</td>\n",
       "      <td>0.003013</td>\n",
       "      <td>35.986210</td>\n",
       "    </tr>\n",
       "    <tr>\n",
       "      <th>2021-05-05</th>\n",
       "      <td>39.970001</td>\n",
       "      <td>54348400.0</td>\n",
       "      <td>39.580002</td>\n",
       "      <td>0.019806</td>\n",
       "      <td>0.000501</td>\n",
       "      <td>36.106228</td>\n",
       "    </tr>\n",
       "    <tr>\n",
       "      <th>2021-05-06</th>\n",
       "      <td>39.189999</td>\n",
       "      <td>54944900.0</td>\n",
       "      <td>39.189999</td>\n",
       "      <td>-0.390003</td>\n",
       "      <td>-0.009854</td>\n",
       "      <td>36.221614</td>\n",
       "    </tr>\n",
       "    <tr>\n",
       "      <th>2021-05-07</th>\n",
       "      <td>39.580002</td>\n",
       "      <td>33795200.0</td>\n",
       "      <td>39.580002</td>\n",
       "      <td>0.390003</td>\n",
       "      <td>0.009952</td>\n",
       "      <td>36.343414</td>\n",
       "    </tr>\n",
       "  </tbody>\n",
       "</table>\n",
       "<p>1045 rows × 6 columns</p>\n",
       "</div>"
      ],
      "text/plain": [
       "                Close      Volume  Adj Close  Actual_Changes  Percent_Chg  \\\n",
       "Date                                                                        \n",
       "2017-03-15  32.855785  24279839.0  27.979099        0.331263     0.011982   \n",
       "2017-03-16  32.666035  21816219.0  27.817513       -0.161587    -0.005775   \n",
       "2017-03-17  32.561668  45736117.0  27.728630       -0.088882    -0.003195   \n",
       "2017-03-20  32.618595  18435514.0  27.777109        0.048479     0.001748   \n",
       "2017-03-21  32.495255  33083479.0  27.672075       -0.105034    -0.003781   \n",
       "...               ...         ...        ...             ...          ...   \n",
       "2021-05-03  39.830002  46638600.0  39.441368        1.168488     0.030530   \n",
       "2021-05-04  39.950001  52802200.0  39.560196        0.118828     0.003013   \n",
       "2021-05-05  39.970001  54348400.0  39.580002        0.019806     0.000501   \n",
       "2021-05-06  39.189999  54944900.0  39.189999       -0.390003    -0.009854   \n",
       "2021-05-07  39.580002  33795200.0  39.580002        0.390003     0.009952   \n",
       "\n",
       "                MA_50  \n",
       "Date                   \n",
       "2017-03-15  26.540320  \n",
       "2017-03-16  26.568806  \n",
       "2017-03-17  26.590874  \n",
       "2017-03-20  26.608794  \n",
       "2017-03-21  26.626692  \n",
       "...               ...  \n",
       "2021-05-03  35.873521  \n",
       "2021-05-04  35.986210  \n",
       "2021-05-05  36.106228  \n",
       "2021-05-06  36.221614  \n",
       "2021-05-07  36.343414  \n",
       "\n",
       "[1045 rows x 6 columns]"
      ]
     },
     "execution_count": 20,
     "metadata": {},
     "output_type": "execute_result"
    }
   ],
   "source": [
    "sarima_df = delta_data(sarima_data,col='Adj Close')#delta_time_series(multi_stocks, col='Adj Close')\n",
    "sarima_df"
   ]
  },
  {
   "cell_type": "code",
   "execution_count": 21,
   "metadata": {},
   "outputs": [
    {
     "data": {
      "text/html": [
       "<div>\n",
       "<style scoped>\n",
       "    .dataframe tbody tr th:only-of-type {\n",
       "        vertical-align: middle;\n",
       "    }\n",
       "\n",
       "    .dataframe tbody tr th {\n",
       "        vertical-align: top;\n",
       "    }\n",
       "\n",
       "    .dataframe thead th {\n",
       "        text-align: right;\n",
       "    }\n",
       "</style>\n",
       "<table border=\"1\" class=\"dataframe\">\n",
       "  <thead>\n",
       "    <tr style=\"text-align: right;\">\n",
       "      <th></th>\n",
       "      <th>Close</th>\n",
       "      <th>Volume</th>\n",
       "      <th>Adj Close</th>\n",
       "      <th>Actual_Changes</th>\n",
       "      <th>Percent_Chg</th>\n",
       "      <th>MA_50</th>\n",
       "    </tr>\n",
       "    <tr>\n",
       "      <th>Date</th>\n",
       "      <th></th>\n",
       "      <th></th>\n",
       "      <th></th>\n",
       "      <th></th>\n",
       "      <th></th>\n",
       "      <th></th>\n",
       "    </tr>\n",
       "  </thead>\n",
       "  <tbody>\n",
       "    <tr>\n",
       "      <th>2017-03-15</th>\n",
       "      <td>32.855785</td>\n",
       "      <td>24279839.0</td>\n",
       "      <td>27.979099</td>\n",
       "      <td>0.331263</td>\n",
       "      <td>0.011982</td>\n",
       "      <td>26.540320</td>\n",
       "    </tr>\n",
       "    <tr>\n",
       "      <th>2017-03-16</th>\n",
       "      <td>32.666035</td>\n",
       "      <td>21816219.0</td>\n",
       "      <td>27.817513</td>\n",
       "      <td>-0.161587</td>\n",
       "      <td>-0.005775</td>\n",
       "      <td>26.568806</td>\n",
       "    </tr>\n",
       "    <tr>\n",
       "      <th>2017-03-17</th>\n",
       "      <td>32.561668</td>\n",
       "      <td>45736117.0</td>\n",
       "      <td>27.728630</td>\n",
       "      <td>-0.088882</td>\n",
       "      <td>-0.003195</td>\n",
       "      <td>26.590874</td>\n",
       "    </tr>\n",
       "    <tr>\n",
       "      <th>2017-03-20</th>\n",
       "      <td>32.618595</td>\n",
       "      <td>18435514.0</td>\n",
       "      <td>27.777109</td>\n",
       "      <td>0.048479</td>\n",
       "      <td>0.001748</td>\n",
       "      <td>26.608794</td>\n",
       "    </tr>\n",
       "    <tr>\n",
       "      <th>2017-03-21</th>\n",
       "      <td>32.495255</td>\n",
       "      <td>33083479.0</td>\n",
       "      <td>27.672075</td>\n",
       "      <td>-0.105034</td>\n",
       "      <td>-0.003781</td>\n",
       "      <td>26.626692</td>\n",
       "    </tr>\n",
       "    <tr>\n",
       "      <th>...</th>\n",
       "      <td>...</td>\n",
       "      <td>...</td>\n",
       "      <td>...</td>\n",
       "      <td>...</td>\n",
       "      <td>...</td>\n",
       "      <td>...</td>\n",
       "    </tr>\n",
       "    <tr>\n",
       "      <th>2021-05-03</th>\n",
       "      <td>39.830002</td>\n",
       "      <td>46638600.0</td>\n",
       "      <td>39.441368</td>\n",
       "      <td>1.168488</td>\n",
       "      <td>0.030530</td>\n",
       "      <td>35.873521</td>\n",
       "    </tr>\n",
       "    <tr>\n",
       "      <th>2021-05-04</th>\n",
       "      <td>39.950001</td>\n",
       "      <td>52802200.0</td>\n",
       "      <td>39.560196</td>\n",
       "      <td>0.118828</td>\n",
       "      <td>0.003013</td>\n",
       "      <td>35.986210</td>\n",
       "    </tr>\n",
       "    <tr>\n",
       "      <th>2021-05-05</th>\n",
       "      <td>39.970001</td>\n",
       "      <td>54348400.0</td>\n",
       "      <td>39.580002</td>\n",
       "      <td>0.019806</td>\n",
       "      <td>0.000501</td>\n",
       "      <td>36.106228</td>\n",
       "    </tr>\n",
       "    <tr>\n",
       "      <th>2021-05-06</th>\n",
       "      <td>39.189999</td>\n",
       "      <td>54944900.0</td>\n",
       "      <td>39.189999</td>\n",
       "      <td>-0.390003</td>\n",
       "      <td>-0.009854</td>\n",
       "      <td>36.221614</td>\n",
       "    </tr>\n",
       "    <tr>\n",
       "      <th>2021-05-07</th>\n",
       "      <td>39.580002</td>\n",
       "      <td>33795200.0</td>\n",
       "      <td>39.580002</td>\n",
       "      <td>0.390003</td>\n",
       "      <td>0.009952</td>\n",
       "      <td>36.343414</td>\n",
       "    </tr>\n",
       "  </tbody>\n",
       "</table>\n",
       "<p>1045 rows × 6 columns</p>\n",
       "</div>"
      ],
      "text/plain": [
       "                Close      Volume  Adj Close  Actual_Changes  Percent_Chg  \\\n",
       "Date                                                                        \n",
       "2017-03-15  32.855785  24279839.0  27.979099        0.331263     0.011982   \n",
       "2017-03-16  32.666035  21816219.0  27.817513       -0.161587    -0.005775   \n",
       "2017-03-17  32.561668  45736117.0  27.728630       -0.088882    -0.003195   \n",
       "2017-03-20  32.618595  18435514.0  27.777109        0.048479     0.001748   \n",
       "2017-03-21  32.495255  33083479.0  27.672075       -0.105034    -0.003781   \n",
       "...               ...         ...        ...             ...          ...   \n",
       "2021-05-03  39.830002  46638600.0  39.441368        1.168488     0.030530   \n",
       "2021-05-04  39.950001  52802200.0  39.560196        0.118828     0.003013   \n",
       "2021-05-05  39.970001  54348400.0  39.580002        0.019806     0.000501   \n",
       "2021-05-06  39.189999  54944900.0  39.189999       -0.390003    -0.009854   \n",
       "2021-05-07  39.580002  33795200.0  39.580002        0.390003     0.009952   \n",
       "\n",
       "                MA_50  \n",
       "Date                   \n",
       "2017-03-15  26.540320  \n",
       "2017-03-16  26.568806  \n",
       "2017-03-17  26.590874  \n",
       "2017-03-20  26.608794  \n",
       "2017-03-21  26.626692  \n",
       "...               ...  \n",
       "2021-05-03  35.873521  \n",
       "2021-05-04  35.986210  \n",
       "2021-05-05  36.106228  \n",
       "2021-05-06  36.221614  \n",
       "2021-05-07  36.343414  \n",
       "\n",
       "[1045 rows x 6 columns]"
      ]
     },
     "execution_count": 21,
     "metadata": {},
     "output_type": "execute_result"
    }
   ],
   "source": [
    "sarima_df"
   ]
  },
  {
   "cell_type": "code",
   "execution_count": 22,
   "metadata": {},
   "outputs": [
    {
     "data": {
      "text/plain": [
       "count    1045.000000\n",
       "mean       32.999090\n",
       "std         3.510389\n",
       "min        25.699234\n",
       "25%        30.234791\n",
       "50%        33.425819\n",
       "75%        35.980194\n",
       "max        41.691181\n",
       "Name: Adj Close, dtype: float64"
      ]
     },
     "execution_count": 22,
     "metadata": {},
     "output_type": "execute_result"
    }
   ],
   "source": [
    "sarima_df['Adj Close'].describe()"
   ]
  },
  {
   "cell_type": "code",
   "execution_count": 23,
   "metadata": {},
   "outputs": [
    {
     "data": {
      "text/html": [
       "<div>\n",
       "<style scoped>\n",
       "    .dataframe tbody tr th:only-of-type {\n",
       "        vertical-align: middle;\n",
       "    }\n",
       "\n",
       "    .dataframe tbody tr th {\n",
       "        vertical-align: top;\n",
       "    }\n",
       "\n",
       "    .dataframe thead th {\n",
       "        text-align: right;\n",
       "    }\n",
       "</style>\n",
       "<table border=\"1\" class=\"dataframe\">\n",
       "  <thead>\n",
       "    <tr style=\"text-align: right;\">\n",
       "      <th></th>\n",
       "      <th>Close</th>\n",
       "      <th>Volume</th>\n",
       "      <th>Adj Close</th>\n",
       "      <th>Actual_Changes</th>\n",
       "      <th>Percent_Chg</th>\n",
       "      <th>MA_50</th>\n",
       "    </tr>\n",
       "  </thead>\n",
       "  <tbody>\n",
       "    <tr>\n",
       "      <th>count</th>\n",
       "      <td>1045.000000</td>\n",
       "      <td>1.045000e+03</td>\n",
       "      <td>1045.000000</td>\n",
       "      <td>1045.000000</td>\n",
       "      <td>1045.000000</td>\n",
       "      <td>1045.000000</td>\n",
       "    </tr>\n",
       "    <tr>\n",
       "      <th>mean</th>\n",
       "      <td>35.847197</td>\n",
       "      <td>2.613372e+07</td>\n",
       "      <td>32.999090</td>\n",
       "      <td>0.011418</td>\n",
       "      <td>0.000449</td>\n",
       "      <td>32.751853</td>\n",
       "    </tr>\n",
       "    <tr>\n",
       "      <th>std</th>\n",
       "      <td>3.196304</td>\n",
       "      <td>1.387090e+07</td>\n",
       "      <td>3.510389</td>\n",
       "      <td>0.478460</td>\n",
       "      <td>0.014556</td>\n",
       "      <td>3.305040</td>\n",
       "    </tr>\n",
       "    <tr>\n",
       "      <th>min</th>\n",
       "      <td>27.030361</td>\n",
       "      <td>5.187683e+06</td>\n",
       "      <td>25.699234</td>\n",
       "      <td>-2.487129</td>\n",
       "      <td>-0.077347</td>\n",
       "      <td>26.540320</td>\n",
       "    </tr>\n",
       "    <tr>\n",
       "      <th>25%</th>\n",
       "      <td>33.738140</td>\n",
       "      <td>1.809781e+07</td>\n",
       "      <td>30.234791</td>\n",
       "      <td>-0.180798</td>\n",
       "      <td>-0.005501</td>\n",
       "      <td>30.255774</td>\n",
       "    </tr>\n",
       "    <tr>\n",
       "      <th>50%</th>\n",
       "      <td>35.037952</td>\n",
       "      <td>2.272730e+07</td>\n",
       "      <td>33.425819</td>\n",
       "      <td>0.009903</td>\n",
       "      <td>0.000303</td>\n",
       "      <td>33.050429</td>\n",
       "    </tr>\n",
       "    <tr>\n",
       "      <th>75%</th>\n",
       "      <td>38.557877</td>\n",
       "      <td>2.955722e+07</td>\n",
       "      <td>35.980194</td>\n",
       "      <td>0.222145</td>\n",
       "      <td>0.006761</td>\n",
       "      <td>36.005223</td>\n",
       "    </tr>\n",
       "    <tr>\n",
       "      <th>max</th>\n",
       "      <td>43.861481</td>\n",
       "      <td>2.301539e+08</td>\n",
       "      <td>41.691181</td>\n",
       "      <td>2.602318</td>\n",
       "      <td>0.089607</td>\n",
       "      <td>37.742444</td>\n",
       "    </tr>\n",
       "  </tbody>\n",
       "</table>\n",
       "</div>"
      ],
      "text/plain": [
       "             Close        Volume    Adj Close  Actual_Changes  Percent_Chg  \\\n",
       "count  1045.000000  1.045000e+03  1045.000000     1045.000000  1045.000000   \n",
       "mean     35.847197  2.613372e+07    32.999090        0.011418     0.000449   \n",
       "std       3.196304  1.387090e+07     3.510389        0.478460     0.014556   \n",
       "min      27.030361  5.187683e+06    25.699234       -2.487129    -0.077347   \n",
       "25%      33.738140  1.809781e+07    30.234791       -0.180798    -0.005501   \n",
       "50%      35.037952  2.272730e+07    33.425819        0.009903     0.000303   \n",
       "75%      38.557877  2.955722e+07    35.980194        0.222145     0.006761   \n",
       "max      43.861481  2.301539e+08    41.691181        2.602318     0.089607   \n",
       "\n",
       "             MA_50  \n",
       "count  1045.000000  \n",
       "mean     32.751853  \n",
       "std       3.305040  \n",
       "min      26.540320  \n",
       "25%      30.255774  \n",
       "50%      33.050429  \n",
       "75%      36.005223  \n",
       "max      37.742444  "
      ]
     },
     "execution_count": 23,
     "metadata": {},
     "output_type": "execute_result"
    }
   ],
   "source": [
    "sarima_df.describe()"
   ]
  },
  {
   "cell_type": "markdown",
   "metadata": {},
   "source": [
    "##### Train/Test Split"
   ]
  },
  {
   "cell_type": "code",
   "execution_count": 24,
   "metadata": {},
   "outputs": [],
   "source": [
    "train = sarima_df[:int(0.8*(len(sarima_df)))]\n",
    "test = sarima_df[int(0.8*(len(sarima_df))):]"
   ]
  },
  {
   "cell_type": "code",
   "execution_count": 25,
   "metadata": {},
   "outputs": [
    {
     "data": {
      "text/plain": [
       "(1045, 836, 209)"
      ]
     },
     "execution_count": 25,
     "metadata": {},
     "output_type": "execute_result"
    }
   ],
   "source": [
    "len(sarima_df),len(train), len(test)"
   ]
  },
  {
   "cell_type": "code",
   "execution_count": 26,
   "metadata": {},
   "outputs": [
    {
     "data": {
      "text/html": [
       "<div>\n",
       "<style scoped>\n",
       "    .dataframe tbody tr th:only-of-type {\n",
       "        vertical-align: middle;\n",
       "    }\n",
       "\n",
       "    .dataframe tbody tr th {\n",
       "        vertical-align: top;\n",
       "    }\n",
       "\n",
       "    .dataframe thead th {\n",
       "        text-align: right;\n",
       "    }\n",
       "</style>\n",
       "<table border=\"1\" class=\"dataframe\">\n",
       "  <thead>\n",
       "    <tr style=\"text-align: right;\">\n",
       "      <th></th>\n",
       "      <th>Close</th>\n",
       "      <th>Volume</th>\n",
       "      <th>Adj Close</th>\n",
       "      <th>Actual_Changes</th>\n",
       "      <th>Percent_Chg</th>\n",
       "      <th>MA_50</th>\n",
       "    </tr>\n",
       "    <tr>\n",
       "      <th>Date</th>\n",
       "      <th></th>\n",
       "      <th></th>\n",
       "      <th></th>\n",
       "      <th></th>\n",
       "      <th></th>\n",
       "      <th></th>\n",
       "    </tr>\n",
       "  </thead>\n",
       "  <tbody>\n",
       "    <tr>\n",
       "      <th>2020-07-10</th>\n",
       "      <td>32.096775</td>\n",
       "      <td>24459019.0</td>\n",
       "      <td>30.820267</td>\n",
       "      <td>0.337082</td>\n",
       "      <td>0.011058</td>\n",
       "      <td>32.408542</td>\n",
       "    </tr>\n",
       "    <tr>\n",
       "      <th>2020-07-13</th>\n",
       "      <td>33.406071</td>\n",
       "      <td>56569129.0</td>\n",
       "      <td>32.077492</td>\n",
       "      <td>1.257225</td>\n",
       "      <td>0.040792</td>\n",
       "      <td>32.358044</td>\n",
       "    </tr>\n",
       "    <tr>\n",
       "      <th>2020-07-14</th>\n",
       "      <td>33.425049</td>\n",
       "      <td>32854129.0</td>\n",
       "      <td>32.095715</td>\n",
       "      <td>0.018223</td>\n",
       "      <td>0.000568</td>\n",
       "      <td>32.320900</td>\n",
       "    </tr>\n",
       "    <tr>\n",
       "      <th>2020-07-15</th>\n",
       "      <td>33.889942</td>\n",
       "      <td>26294454.0</td>\n",
       "      <td>32.542118</td>\n",
       "      <td>0.446404</td>\n",
       "      <td>0.013909</td>\n",
       "      <td>32.293044</td>\n",
       "    </tr>\n",
       "    <tr>\n",
       "      <th>2020-07-16</th>\n",
       "      <td>33.776093</td>\n",
       "      <td>18421812.0</td>\n",
       "      <td>32.432796</td>\n",
       "      <td>-0.109322</td>\n",
       "      <td>-0.003359</td>\n",
       "      <td>32.246946</td>\n",
       "    </tr>\n",
       "    <tr>\n",
       "      <th>...</th>\n",
       "      <td>...</td>\n",
       "      <td>...</td>\n",
       "      <td>...</td>\n",
       "      <td>...</td>\n",
       "      <td>...</td>\n",
       "      <td>...</td>\n",
       "    </tr>\n",
       "    <tr>\n",
       "      <th>2021-05-03</th>\n",
       "      <td>39.830002</td>\n",
       "      <td>46638600.0</td>\n",
       "      <td>39.441368</td>\n",
       "      <td>1.168488</td>\n",
       "      <td>0.030530</td>\n",
       "      <td>35.873521</td>\n",
       "    </tr>\n",
       "    <tr>\n",
       "      <th>2021-05-04</th>\n",
       "      <td>39.950001</td>\n",
       "      <td>52802200.0</td>\n",
       "      <td>39.560196</td>\n",
       "      <td>0.118828</td>\n",
       "      <td>0.003013</td>\n",
       "      <td>35.986210</td>\n",
       "    </tr>\n",
       "    <tr>\n",
       "      <th>2021-05-05</th>\n",
       "      <td>39.970001</td>\n",
       "      <td>54348400.0</td>\n",
       "      <td>39.580002</td>\n",
       "      <td>0.019806</td>\n",
       "      <td>0.000501</td>\n",
       "      <td>36.106228</td>\n",
       "    </tr>\n",
       "    <tr>\n",
       "      <th>2021-05-06</th>\n",
       "      <td>39.189999</td>\n",
       "      <td>54944900.0</td>\n",
       "      <td>39.189999</td>\n",
       "      <td>-0.390003</td>\n",
       "      <td>-0.009854</td>\n",
       "      <td>36.221614</td>\n",
       "    </tr>\n",
       "    <tr>\n",
       "      <th>2021-05-07</th>\n",
       "      <td>39.580002</td>\n",
       "      <td>33795200.0</td>\n",
       "      <td>39.580002</td>\n",
       "      <td>0.390003</td>\n",
       "      <td>0.009952</td>\n",
       "      <td>36.343414</td>\n",
       "    </tr>\n",
       "  </tbody>\n",
       "</table>\n",
       "<p>209 rows × 6 columns</p>\n",
       "</div>"
      ],
      "text/plain": [
       "                Close      Volume  Adj Close  Actual_Changes  Percent_Chg  \\\n",
       "Date                                                                        \n",
       "2020-07-10  32.096775  24459019.0  30.820267        0.337082     0.011058   \n",
       "2020-07-13  33.406071  56569129.0  32.077492        1.257225     0.040792   \n",
       "2020-07-14  33.425049  32854129.0  32.095715        0.018223     0.000568   \n",
       "2020-07-15  33.889942  26294454.0  32.542118        0.446404     0.013909   \n",
       "2020-07-16  33.776093  18421812.0  32.432796       -0.109322    -0.003359   \n",
       "...               ...         ...        ...             ...          ...   \n",
       "2021-05-03  39.830002  46638600.0  39.441368        1.168488     0.030530   \n",
       "2021-05-04  39.950001  52802200.0  39.560196        0.118828     0.003013   \n",
       "2021-05-05  39.970001  54348400.0  39.580002        0.019806     0.000501   \n",
       "2021-05-06  39.189999  54944900.0  39.189999       -0.390003    -0.009854   \n",
       "2021-05-07  39.580002  33795200.0  39.580002        0.390003     0.009952   \n",
       "\n",
       "                MA_50  \n",
       "Date                   \n",
       "2020-07-10  32.408542  \n",
       "2020-07-13  32.358044  \n",
       "2020-07-14  32.320900  \n",
       "2020-07-15  32.293044  \n",
       "2020-07-16  32.246946  \n",
       "...               ...  \n",
       "2021-05-03  35.873521  \n",
       "2021-05-04  35.986210  \n",
       "2021-05-05  36.106228  \n",
       "2021-05-06  36.221614  \n",
       "2021-05-07  36.343414  \n",
       "\n",
       "[209 rows x 6 columns]"
      ]
     },
     "execution_count": 26,
     "metadata": {},
     "output_type": "execute_result"
    }
   ],
   "source": [
    "test"
   ]
  },
  {
   "cell_type": "code",
   "execution_count": 27,
   "metadata": {},
   "outputs": [
    {
     "data": {
      "text/plain": [
       "count    209.000000\n",
       "mean      35.380223\n",
       "std        1.896044\n",
       "min       30.820267\n",
       "25%       34.000900\n",
       "50%       35.279617\n",
       "75%       36.068356\n",
       "max       41.691181\n",
       "Name: Adj Close, dtype: float64"
      ]
     },
     "execution_count": 27,
     "metadata": {},
     "output_type": "execute_result"
    }
   ],
   "source": [
    "test['Adj Close'].describe()"
   ]
  },
  {
   "cell_type": "markdown",
   "metadata": {},
   "source": [
    "##### Auto ARIMA Model Function"
   ]
  },
  {
   "cell_type": "code",
   "execution_count": 28,
   "metadata": {},
   "outputs": [],
   "source": [
    "def arima_model(df):\n",
    "    \"\"\"\n",
    "    df- dataframe\n",
    "    function is a gridsearch to get optimal p,d,qs and lowest AIC for the model.\n",
    "    q-is moving average\n",
    "    \"\"\"\n",
    "    autoarima_model = auto_arima(df, start_p = 0, start_q = 0, #start_q = 0\n",
    "                              test='adf',             # use adftest to find optimal 'd'\n",
    "                              max_p = 3, max_q = 3,   # maximum p and q\n",
    "                              m = 12,                  #frequency of series \n",
    "                              d = None,               # let model determine 'd', was 1\n",
    "                              seasonal = True, \n",
    "                              start_P=0, D=1, trace = False, #start  #trace= True\n",
    "                              error_action ='ignore',   # we don't want to know if an order does not work \n",
    "                              suppress_warnings = True,  # we don't want convergence warnings \n",
    "                              stepwise = True)           # set to stepwise  \n",
    "    \n",
    "    #print('\\n')\n",
    "    #display(autoarima_model.summary())\n",
    "    \n",
    "    return autoarima_model\n"
   ]
  },
  {
   "cell_type": "code",
   "execution_count": 29,
   "metadata": {},
   "outputs": [],
   "source": [
    "adj_close = 'Adj Close'\n",
    "ma_50 = 'MA_50'\n",
    "actual_changes = 'Actual_Changes'"
   ]
  },
  {
   "cell_type": "markdown",
   "metadata": {},
   "source": [
    "#### Pfizer / Adj Close"
   ]
  },
  {
   "cell_type": "markdown",
   "metadata": {},
   "source": [
    "##### Code to get PDQs and AIC"
   ]
  },
  {
   "cell_type": "code",
   "execution_count": null,
   "metadata": {},
   "outputs": [],
   "source": [
    "#for loop iterates to get the PDQs, Seasonal PDQs and AICS for each column\n",
    "arima_list = [['hist', 'pdq','seasonal_pdq','aic']] \n",
    "for col in sarima_df.columns:\n",
    "  zip_test_2 = arima_model(sarima_df[col])\n",
    "  arima_list.append([col,zip_test_2.order, zip_test_2.seasonal_order, zip_test_2.aic()])\n",
    "#result   \n",
    "output_df = pd.DataFrame(arima_list[1:],columns=arima_list[0]) \n",
    "output_df  "
   ]
  },
  {
   "cell_type": "code",
   "execution_count": null,
   "metadata": {},
   "outputs": [],
   "source": [
    "#function that fit SARIMA model\n",
    "def fit_ARIMA(df, order=None, seasonal_order=None):\n",
    "    \"\"\"\n",
    "    forecasting statsmodel SARIMAX model\n",
    "    \"\"\"\n",
    "    ARIMA_MODEL = sm.tsa.statespace.SARIMAX(df, \n",
    "                                        order=order, \n",
    "                                        seasonal_order=seasonal_order, \n",
    "                                        enforce_stationarity=False, \n",
    "                                        enforce_invertibility=False)\n",
    "\n",
    "    # Fit the model and print results\n",
    "    output = ARIMA_MODEL.fit()\n",
    "\n",
    "    #display / no tables 1\n",
    "    display(output.summary())\n",
    "    \n",
    "    print('\\n')\n",
    "    print('MODEL DIAGNOSTICS')\n",
    "    \n",
    "    output.plot_diagnostics(figsize=(15, 18));\n",
    "    plt.show()\n",
    "    \n",
    "    return output"
   ]
  },
  {
   "cell_type": "markdown",
   "metadata": {},
   "source": [
    "#### One Step Ahead Forecasting"
   ]
  },
  {
   "cell_type": "code",
   "execution_count": null,
   "metadata": {},
   "outputs": [],
   "source": [
    "#code for one-step ahead forecasting\n",
    "hist_type = adj_close #hist_type = 'Adj Close'\n",
    "hist_params= output_df[output_df['hist']==hist_type]\n",
    "hist_params.pdq.values[0]\n",
    "hist_params.seasonal_pdq.values[0]\n",
    "\n",
    "output_sarima = fit_ARIMA(sarima_df[hist_type],order=hist_params.pdq.values[0], seasonal_order= hist_params.seasonal_pdq.values[0] )\n",
    "# Get dynamic predictions with confidence intervals as above \n",
    "\n",
    "pred = output_sarima.get_prediction(start=pd.to_datetime('2020-06-05'), dynamic=False)\n",
    "pred_conf = pred.conf_int()"
   ]
  },
  {
   "cell_type": "markdown",
   "metadata": {},
   "source": [
    "##### One-Step Ahead Plot"
   ]
  },
  {
   "cell_type": "markdown",
   "metadata": {},
   "source": [
    "This plot pertains to the One Step Ahead Forecasting.  The green line in the plot represents the prediction. The green line has a shaded green area around it called the confidence intervals.  What are confidence intervals?  Confidence intervals are a range in values.  The default alpha of .05 returns a 95% confidence interval.  A 95% confidence interval represents that if we take an infinite number of samples from the population, calculate the interval each time, then in 95% of those intervals, the interval will contain the true population mean.   This represents the model’s uncertainty in the forecast.  <br> \n",
    "In this case, the confidence interval width is set at 95%, meaning we expect that this range will contain the actual value 95% of the time. Any time a prediction is made we must include a confidence interval.<br>\n",
    "The orange line represents the test set. We can tell from the plot that the model is performing pretty well because the green line follows the orange line closely.  When the RMSE metric is applied to the model to evaluate its performence we see that the model's performance was 0.54.  The average price of the stock was \\\\$33.22.  This means that in making the predictions the model was off 0.54.  The model did a pretty good job at forecasting the prediction.<br>"
   ]
  },
  {
   "cell_type": "code",
   "execution_count": null,
   "metadata": {},
   "outputs": [],
   "source": [
    "def one_step(train, test, one_adj_c, pred, pred_conf):\n",
    "    plt.figure(figsize=(12,6))\n",
    "    # Plot observed values\n",
    "\n",
    "    #ax = train['Adj Close']['2019':].plot(label='observed')\n",
    "    ax = train[one_adj_c ]['2019':].plot(label='observed')#\n",
    "    #test['Adj Close']['2019':].plot()#label='Test'\n",
    "    test[one_adj_c]['2019':].plot()#label='Test'\n",
    "    # Plot predicted values\n",
    "    pred.predicted_mean.plot(ax=ax, label='One-step ahead Forecast', alpha=0.9)\n",
    "\n",
    "    # Plot the range for confidence intervals\n",
    "    ax.fill_between(pred_conf.index,\n",
    "                    pred_conf.iloc[:, 0],\n",
    "                    pred_conf.iloc[:, 1], color='g', alpha=0.5)\n",
    "\n",
    "    # Set axes labels\n",
    "    ax.set_xlabel('Date')\n",
    "    ax.set_ylabel('Sale Price')\n",
    "    plt.legend()"
   ]
  },
  {
   "cell_type": "code",
   "execution_count": null,
   "metadata": {},
   "outputs": [],
   "source": [
    "one_step_forecast = one_step(train=train, test=test, one_adj_c= adj_close, pred=pred,pred_conf=pred_conf)"
   ]
  },
  {
   "cell_type": "markdown",
   "metadata": {},
   "source": [
    "##### Metrics Function for One-Step Ahead"
   ]
  },
  {
   "cell_type": "code",
   "execution_count": null,
   "metadata": {},
   "outputs": [],
   "source": [
    "def metric_func_one(pred, test, sarima_col):\n",
    "    # Get the real and predicted values\n",
    "    forecast = pred.predicted_mean\n",
    "    actual =test[sarima_col] #actual =test['Adj Close']['1996':], was RMSE 0.54\n",
    "\n",
    "    #root mean square error\n",
    "    mse = ((forecast - actual) ** 2).mean()\n",
    "    print('The Mean Squared Error of our forecasts is {}'.format(round(mse, 2)))\n",
    "    #np.sqrt(np.mean((predictions-targets)**2))\n",
    "    rmse = np.sqrt(np.mean((forecast - actual) ** 2))\n",
    "    print('The Root Mean Squared Error of our forecasts is {}'.format(round(rmse, 2)))\n",
    "    \n",
    "    return mse, rmse"
   ]
  },
  {
   "cell_type": "code",
   "execution_count": null,
   "metadata": {},
   "outputs": [],
   "source": [
    "one_mse_adj, one_rmse_adj = metric_func_one(pred, test, sarima_col= adj_close)"
   ]
  },
  {
   "cell_type": "code",
   "execution_count": null,
   "metadata": {},
   "outputs": [],
   "source": [
    "one_rmse_adj"
   ]
  },
  {
   "cell_type": "markdown",
   "metadata": {},
   "source": [
    "#### Dynamic Forecasting \n",
    "The average price for 'Adj Close' is \\\\$33.215.  The average price for the test set is \\\\$35.01.  The green line is the prediction.  It looks like the model predicted the price to be around \\\\$34.00.  It looks like the model did a pretty good job in making predictions because the predictions are close to the average price.  The below metric function shows that the model's performance was \\\\$2.71, so for the predictions the model was off \\\\$2.71.   "
   ]
  },
  {
   "cell_type": "code",
   "execution_count": null,
   "metadata": {},
   "outputs": [],
   "source": [
    "#dynamic forecasting\n",
    "history_type = adj_close #history_type = 'Adj Close'\n",
    "zip_params = output_df[output_df['hist']==history_type]\n",
    "zip_params.pdq.values[0]\n",
    "zip_params.seasonal_pdq.values[0]\n",
    "\n",
    "output_sarima = fit_ARIMA(sarima_df[history_type],order=zip_params.pdq.values[0] ,seasonal_order= zip_params.seasonal_pdq.values[0] )\n",
    "# Get dynamic predictions with confidence intervals as above \n",
    "pred_dynamic = output_sarima.get_prediction(start=pd.to_datetime('2020-06-05'), dynamic=True,full_results=True)\n",
    "pred_dynamic_conf = pred_dynamic.conf_int()"
   ]
  },
  {
   "cell_type": "markdown",
   "metadata": {},
   "source": [
    "##### Dynamic Forecasting Plot\n"
   ]
  },
  {
   "cell_type": "code",
   "execution_count": null,
   "metadata": {},
   "outputs": [],
   "source": [
    "def prediction_vis(pred_dynamic,pred_dynamic_conf,train, one_adj_c,test):\n",
    "    plt.figure(figsize=(12,6))\n",
    "    # Plot observed values\n",
    "\n",
    "    #ax = train['Adj Close']['2019':].plot(label='observed')\n",
    "    ax = train[one_adj_c]['2019':].plot(label='observed')#\n",
    "    #test['Adj Close']['2019':].plot()#label='Test'\n",
    "    test[one_adj_c]['2019':].plot()#label='Test'\n",
    "    # Plot predicted values\n",
    "    pred_dynamic.predicted_mean.plot(ax=ax, label='Dynamic Forecast', alpha=0.9)\n",
    "\n",
    "    # Plot the range for confidence intervals\n",
    "    ax.fill_between(pred_dynamic_conf.index,\n",
    "                    pred_dynamic_conf.iloc[:, 0],\n",
    "                    pred_dynamic_conf.iloc[:, 1], color='g', alpha=0.5)\n",
    "\n",
    "    # Set axes labels\n",
    "    ax.set_xlabel('Date')\n",
    "    ax.set_ylabel('Sale Price')\n",
    "    plt.legend()"
   ]
  },
  {
   "cell_type": "code",
   "execution_count": null,
   "metadata": {},
   "outputs": [],
   "source": [
    "prediction_visual_1 = prediction_vis(pred_dynamic=pred_dynamic,pred_dynamic_conf=pred_dynamic_conf,\n",
    "                                     train=train,test=test, one_adj_c= adj_close)#'Adj Close'"
   ]
  },
  {
   "cell_type": "markdown",
   "metadata": {},
   "source": [
    "##### Metrics Function for Dynamic Forecasting"
   ]
  },
  {
   "cell_type": "code",
   "execution_count": null,
   "metadata": {},
   "outputs": [],
   "source": [
    "def metric_func_dynamic(pred_dynamic, test, sarima_col):\n",
    "    # Get the real and predicted values\n",
    "    forecast = pred_dynamic.predicted_mean\n",
    "    actual = test[sarima_col]#['1996':] #history_type\n",
    "\n",
    "    # Compute the mean square error\n",
    "    mse = ((forecast - actual) ** 2).mean()\n",
    "    print('The Mean Squared Error of the forecast is {}'.format(round(mse, 2)))\n",
    "    #np.sqrt(np.mean((predictions-targets)**2))\n",
    "    rmse = np.sqrt(np.mean((forecast - actual) ** 2))\n",
    "    print('The Root Mean Squared Error of the forecast is {}'.format(round(rmse, 2)))\n",
    "    \n",
    "    return mse, rmse\n",
    "    "
   ]
  },
  {
   "cell_type": "code",
   "execution_count": null,
   "metadata": {},
   "outputs": [],
   "source": [
    "dyn_mse_adj,dyn_rmse_adj,  = metric_func_dynamic(pred_dynamic, test, sarima_col =adj_close)"
   ]
  },
  {
   "cell_type": "code",
   "execution_count": null,
   "metadata": {},
   "outputs": [],
   "source": [
    "dyn_rmse_adj"
   ]
  },
  {
   "cell_type": "markdown",
   "metadata": {},
   "source": [
    "#### Pfizer / One-Step / MA_50\n",
    "The model performed well in making predictions. The green line follows closely the orange line.  I applied the RMSE to the model and the result was 0.02."
   ]
  },
  {
   "cell_type": "code",
   "execution_count": null,
   "metadata": {},
   "outputs": [],
   "source": [
    "hist_type = ma_50 \n",
    "hist_params= output_df[output_df['hist']==hist_type]\n",
    "hist_params.pdq.values[0]\n",
    "hist_params.seasonal_pdq.values[0]\n",
    "\n",
    "output_sarima = fit_ARIMA(sarima_df[hist_type],order=hist_params.pdq.values[0], seasonal_order= hist_params.seasonal_pdq.values[0] )\n",
    "# Get dynamic predictions with confidence intervals as above \n",
    "\n",
    "pred = output_sarima.get_prediction(start=pd.to_datetime('2020-06-05'), dynamic=False)\n",
    "pred_conf = pred.conf_int()"
   ]
  },
  {
   "cell_type": "code",
   "execution_count": null,
   "metadata": {},
   "outputs": [],
   "source": [
    "one_step_forecast_1 = one_step(train=train, test=test, one_adj_c= ma_50, pred=pred,pred_conf=pred_conf)"
   ]
  },
  {
   "cell_type": "code",
   "execution_count": null,
   "metadata": {},
   "outputs": [],
   "source": [
    "metric_func_1 = metric_func_one(pred, test, ma_50)"
   ]
  },
  {
   "cell_type": "code",
   "execution_count": null,
   "metadata": {},
   "outputs": [],
   "source": [
    "test['MA_50']"
   ]
  },
  {
   "cell_type": "markdown",
   "metadata": {},
   "source": [
    "#### Pfizer/ Dynamic / MA_50\n",
    "The model doesn't appear to have performed as well with this column. The model's green line fluctuates betwee 36 and 33 but after 12/20 is predicting 34.  However, when evaluating the model's performane the predictions were off 1.72 so it still performed pretty well. "
   ]
  },
  {
   "cell_type": "code",
   "execution_count": null,
   "metadata": {},
   "outputs": [],
   "source": [
    "history_type = ma_50 #history_type = 'Adj Close'\n",
    "zip_params = output_df[output_df['hist']==history_type]\n",
    "zip_params.pdq.values[0]\n",
    "zip_params.seasonal_pdq.values[0]\n",
    "\n",
    "output_sarima = fit_ARIMA(sarima_df[history_type],order=zip_params.pdq.values[0] ,seasonal_order= zip_params.seasonal_pdq.values[0] )\n",
    "# Get dynamic predictions with confidence intervals as above \n",
    "pred_dynamic = output_sarima.get_prediction(start=pd.to_datetime('2020-06-05'), dynamic=True,full_results=True)\n",
    "pred_dynamic_conf = pred_dynamic.conf_int()"
   ]
  },
  {
   "cell_type": "code",
   "execution_count": null,
   "metadata": {},
   "outputs": [],
   "source": [
    "prediction_visual_1 = prediction_vis(pred_dynamic=pred_dynamic,pred_dynamic_conf=pred_dynamic_conf,\n",
    "                                     train=train,test=test,one_adj_c= 'MA_50')"
   ]
  },
  {
   "cell_type": "code",
   "execution_count": null,
   "metadata": {},
   "outputs": [],
   "source": [
    "metric_func_dynamic(pred_dynamic, test, ma_50)"
   ]
  },
  {
   "cell_type": "markdown",
   "metadata": {},
   "source": [
    "#### Pfizer / Actual_Changes\n",
    "The model's predictions are centered around 0. The confidence intervals indicate there's a quite a range of values in the test set.  The model's performance was 0.54.\n"
   ]
  },
  {
   "cell_type": "code",
   "execution_count": null,
   "metadata": {},
   "outputs": [],
   "source": [
    "hist_type = actual_changes  #hist_type = 'Adj Close'\n",
    "hist_params= output_df[output_df['hist']==hist_type]\n",
    "hist_params.pdq.values[0]\n",
    "hist_params.seasonal_pdq.values[0]\n",
    "\n",
    "output_sarima = fit_ARIMA(sarima_df[hist_type],order=hist_params.pdq.values[0], seasonal_order= hist_params.seasonal_pdq.values[0] )\n",
    "# Get dynamic predictions with confidence intervals as above \n",
    "\n",
    "pred = output_sarima.get_prediction(start=pd.to_datetime('2020-06-05'), dynamic=False)\n",
    "pred_conf = pred.conf_int()"
   ]
  },
  {
   "cell_type": "code",
   "execution_count": null,
   "metadata": {},
   "outputs": [],
   "source": [
    "one_step_forecast_2 = one_step(train=train, test=test, one_adj_c= actual_changes, pred=pred,pred_conf=pred_conf)"
   ]
  },
  {
   "cell_type": "code",
   "execution_count": null,
   "metadata": {},
   "outputs": [],
   "source": [
    "metric_func_2 = metric_func_one(pred, test, actual_changes)"
   ]
  },
  {
   "cell_type": "markdown",
   "metadata": {},
   "source": [
    "Regarding Dynamic Forecasting, the model's predictions were centered around 0. The confidence intervals have a large rang in possible values. "
   ]
  },
  {
   "cell_type": "code",
   "execution_count": null,
   "metadata": {},
   "outputs": [],
   "source": [
    "history_type = actual_changes  #history_type = 'Adj Close'\n",
    "zip_params = output_df[output_df['hist']==history_type]\n",
    "zip_params.pdq.values[0]\n",
    "zip_params.seasonal_pdq.values[0]\n",
    "\n",
    "output_sarima = fit_ARIMA(sarima_df[history_type],order=zip_params.pdq.values[0] ,seasonal_order= zip_params.seasonal_pdq.values[0] )\n",
    "# Get dynamic predictions with confidence intervals as above \n",
    "pred_dynamic = output_sarima.get_prediction(start=pd.to_datetime('2020-06-05'), dynamic=True,full_results=True)\n",
    "pred_dynamic_conf = pred_dynamic.conf_int()"
   ]
  },
  {
   "cell_type": "code",
   "execution_count": null,
   "metadata": {},
   "outputs": [],
   "source": [
    "prediction_visual_3 = prediction_vis(pred_dynamic=pred_dynamic,pred_dynamic_conf=pred_dynamic_conf,\n",
    "                                     train=train,test=test,one_adj_c= actual_changes)\n"
   ]
  },
  {
   "cell_type": "code",
   "execution_count": null,
   "metadata": {},
   "outputs": [],
   "source": [
    "metric_func_dynamic(pred_dynamic, test, actual_changes)"
   ]
  },
  {
   "cell_type": "markdown",
   "metadata": {},
   "source": [
    "#### BNTX "
   ]
  },
  {
   "cell_type": "code",
   "execution_count": null,
   "metadata": {},
   "outputs": [],
   "source": [
    "start='01-01-2017'\n",
    "end='today'\n",
    "bntx_stock = single_stock_data('BNTX', start= start,end='today',plot=True,stock_value='Adj Close')\n",
    "bntx_stock"
   ]
  },
  {
   "cell_type": "code",
   "execution_count": null,
   "metadata": {},
   "outputs": [],
   "source": [
    "bntx_stock['Adj Close'].describe()"
   ]
  },
  {
   "cell_type": "code",
   "execution_count": null,
   "metadata": {},
   "outputs": [],
   "source": [
    "bntx_df = delta_data(bntx_stock,col='Adj Close')\n",
    "train = bntx_df[:int(0.8*(len(bntx_df)))]\n",
    "test = bntx_df[int(0.8*(len(bntx_df))):]"
   ]
  },
  {
   "cell_type": "code",
   "execution_count": null,
   "metadata": {},
   "outputs": [],
   "source": [
    "train"
   ]
  },
  {
   "cell_type": "code",
   "execution_count": null,
   "metadata": {},
   "outputs": [],
   "source": [
    "test"
   ]
  },
  {
   "cell_type": "markdown",
   "metadata": {},
   "source": [
    "#### BNTX / Adj Close\n",
    "##### BNTX / One-Step Ahead\n",
    "The green line follows the orange line closely.  The model's performance was 3.91. "
   ]
  },
  {
   "cell_type": "code",
   "execution_count": null,
   "metadata": {},
   "outputs": [],
   "source": [
    "hist_type = adj_close #hist_type = 'Adj Close'\n",
    "hist_params= output_df[output_df['hist']==hist_type]\n",
    "hist_params.pdq.values[0]\n",
    "hist_params.seasonal_pdq.values[0]\n",
    "\n",
    "output_sarima = fit_ARIMA(bntx_df[hist_type],order=hist_params.pdq.values[0], seasonal_order= hist_params.seasonal_pdq.values[0] )\n",
    "# Get dynamic predictions with confidence intervals as above \n",
    "\n",
    "pred = output_sarima.get_prediction(start=pd.to_datetime('2021-01-05'), dynamic=False)\n",
    "pred_conf = pred.conf_int()"
   ]
  },
  {
   "cell_type": "code",
   "execution_count": null,
   "metadata": {},
   "outputs": [],
   "source": [
    "#blue actual\n",
    "#green line is forecast\n",
    "#orange-test \n",
    "#green shade confidence interval\n",
    "one_step_forecast_4 = one_step(train=train, test=test, one_adj_c= adj_close, pred=pred,pred_conf=pred_conf)"
   ]
  },
  {
   "cell_type": "code",
   "execution_count": null,
   "metadata": {},
   "outputs": [],
   "source": [
    "\n",
    "metric_func_one(pred, test, sarima_col= adj_close)"
   ]
  },
  {
   "cell_type": "code",
   "execution_count": null,
   "metadata": {},
   "outputs": [],
   "source": [
    "history_type = adj_close #history_type = 'Adj Close'\n",
    "zip_params = output_df[output_df['hist']==history_type]\n",
    "zip_params.pdq.values[0]\n",
    "zip_params.seasonal_pdq.values[0]\n",
    "\n",
    "output_sarima = fit_ARIMA(bntx_df[history_type],order=zip_params.pdq.values[0] ,seasonal_order= zip_params.seasonal_pdq.values[0] )\n",
    "# Get dynamic predictions with confidence intervals as above \n",
    "pred_dynamic = output_sarima.get_prediction(start=pd.to_datetime('2021-01-05'), dynamic=True,full_results=True)\n",
    "pred_dynamic_conf = pred_dynamic.conf_int()"
   ]
  },
  {
   "cell_type": "code",
   "execution_count": null,
   "metadata": {},
   "outputs": [],
   "source": [
    "#gren line is forcast\n",
    "#green shades gives more range for forecast\n",
    "#one_adj_c = 'Adj Close'\n",
    "# prediction_visual_3 = prediction_vis(pred_dynamic,pred_dynamic_conf,train, one_adj_c,test)\n",
    "# prediction_visual_3\n",
    "prediction_visual_4 = prediction_vis(pred_dynamic=pred_dynamic,pred_dynamic_conf=pred_dynamic_conf,\n",
    "                                     train=train,test=test,one_adj_c= adj_close)\n"
   ]
  },
  {
   "cell_type": "code",
   "execution_count": null,
   "metadata": {},
   "outputs": [],
   "source": [
    "metric_func_dynamic(pred_dynamic, test, adj_close)"
   ]
  },
  {
   "cell_type": "markdown",
   "metadata": {},
   "source": [
    "#### BNTX / MA_50"
   ]
  },
  {
   "cell_type": "code",
   "execution_count": null,
   "metadata": {},
   "outputs": [],
   "source": [
    "bntx_stock['MA_50'].describe()"
   ]
  },
  {
   "cell_type": "code",
   "execution_count": null,
   "metadata": {},
   "outputs": [],
   "source": [
    "#check\n",
    "hist_type = ma_50  #hist_type = 'Adj Close'\n",
    "hist_params= output_df[output_df['hist']==hist_type]\n",
    "hist_params.pdq.values[0]\n",
    "hist_params.seasonal_pdq.values[0]\n",
    "\n",
    "output_sarima = fit_ARIMA(sarima_df[hist_type],order=hist_params.pdq.values[0], seasonal_order= hist_params.seasonal_pdq.values[0] )\n",
    "# Get dynamic predictions with confidence intervals as above \n",
    "\n",
    "pred = output_sarima.get_prediction(start=pd.to_datetime('2021-01-05'), dynamic=False)\n",
    "pred_conf = pred.conf_int()"
   ]
  },
  {
   "cell_type": "code",
   "execution_count": null,
   "metadata": {},
   "outputs": [],
   "source": [
    "one_step_forecast_5 = one_step(train=train, test=test, one_adj_c= 'MA_50', pred=pred,pred_conf=pred_conf)#'MA_50'\n"
   ]
  },
  {
   "cell_type": "code",
   "execution_count": null,
   "metadata": {},
   "outputs": [],
   "source": [
    "metric_func_one(pred, test, ma_50)"
   ]
  },
  {
   "cell_type": "code",
   "execution_count": null,
   "metadata": {},
   "outputs": [],
   "source": [
    "history_type = ma_50 #history_type = 'Adj Close'\n",
    "zip_params = output_df[output_df['hist']==history_type]\n",
    "zip_params.pdq.values[0]\n",
    "zip_params.seasonal_pdq.values[0]\n",
    "\n",
    "output_sarima = fit_ARIMA(bntx_df[history_type],order=zip_params.pdq.values[0] ,seasonal_order= zip_params.seasonal_pdq.values[0] )\n",
    "# Get dynamic predictions with confidence intervals as above \n",
    "pred_dynamic = output_sarima.get_prediction(start=pd.to_datetime('2021-01-05'), dynamic=True,full_results=True)\n",
    "pred_dynamic_conf = pred_dynamic.conf_int()"
   ]
  },
  {
   "cell_type": "code",
   "execution_count": null,
   "metadata": {},
   "outputs": [],
   "source": [
    "prediction_visual_5 = prediction_vis(pred_dynamic=pred_dynamic,pred_dynamic_conf=pred_dynamic_conf,\n",
    "                                     train=train,test=test,one_adj_c= ma_50)\n"
   ]
  },
  {
   "cell_type": "code",
   "execution_count": null,
   "metadata": {},
   "outputs": [],
   "source": [
    "metric_func_dynamic(pred_dynamic, test, ma_50)"
   ]
  },
  {
   "cell_type": "markdown",
   "metadata": {},
   "source": [
    "#### BNTX / actual_changes"
   ]
  },
  {
   "cell_type": "code",
   "execution_count": null,
   "metadata": {},
   "outputs": [],
   "source": [
    "hist_type = actual_changes  \n",
    "hist_params= output_df[output_df['hist']==hist_type]\n",
    "hist_params.pdq.values[0]\n",
    "hist_params.seasonal_pdq.values[0]\n",
    "\n",
    "output_sarima = fit_ARIMA(sarima_df[hist_type],order=hist_params.pdq.values[0], seasonal_order= hist_params.seasonal_pdq.values[0] )\n",
    "# Get dynamic predictions with confidence intervals as above \n",
    "\n",
    "pred = output_sarima.get_prediction(start=pd.to_datetime('2021-01-05'), dynamic=False)\n",
    "pred_conf = pred.conf_int()"
   ]
  },
  {
   "cell_type": "code",
   "execution_count": null,
   "metadata": {},
   "outputs": [],
   "source": [
    "one_step_forecast_5 = one_step(train=train, test=test, one_adj_c= actual_changes, pred=pred,pred_conf=pred_conf)#'MA_50'\n"
   ]
  },
  {
   "cell_type": "code",
   "execution_count": null,
   "metadata": {},
   "outputs": [],
   "source": [
    "metric_func_one(pred, test, actual_changes)"
   ]
  },
  {
   "cell_type": "code",
   "execution_count": null,
   "metadata": {},
   "outputs": [],
   "source": [
    "history_type = actual_changes #history_type = 'Adj Close'\n",
    "zip_params = output_df[output_df['hist']==history_type]\n",
    "zip_params.pdq.values[0]\n",
    "zip_params.seasonal_pdq.values[0]\n",
    "\n",
    "output_sarima = fit_ARIMA(bntx_df[history_type],order=zip_params.pdq.values[0] ,seasonal_order= zip_params.seasonal_pdq.values[0] )\n",
    "# Get dynamic predictions with confidence intervals as above \n",
    "pred_dynamic = output_sarima.get_prediction(start=pd.to_datetime('2021-01-05'), dynamic=True,full_results=True)\n",
    "pred_dynamic_conf = pred_dynamic.conf_int()"
   ]
  },
  {
   "cell_type": "code",
   "execution_count": null,
   "metadata": {},
   "outputs": [],
   "source": [
    "prediction_visual_5 = prediction_vis(pred_dynamic=pred_dynamic,pred_dynamic_conf=pred_dynamic_conf,\n",
    "                                     train=train,test=test,one_adj_c= actual_changes)\n"
   ]
  },
  {
   "cell_type": "code",
   "execution_count": null,
   "metadata": {},
   "outputs": [],
   "source": [
    "metric_func_dynamic(pred_dynamic, test, actual_changes)"
   ]
  },
  {
   "cell_type": "code",
   "execution_count": null,
   "metadata": {},
   "outputs": [],
   "source": []
  }
 ],
 "metadata": {
  "kernelspec": {
   "display_name": "Python 3",
   "language": "python",
   "name": "python3"
  },
  "language_info": {
   "codemirror_mode": {
    "name": "ipython",
    "version": 3
   },
   "file_extension": ".py",
   "mimetype": "text/x-python",
   "name": "python",
   "nbconvert_exporter": "python",
   "pygments_lexer": "ipython3",
   "version": "3.6.9"
  },
  "toc": {
   "base_numbering": 1,
   "nav_menu": {},
   "number_sections": true,
   "sideBar": true,
   "skip_h1_title": false,
   "title_cell": "Table of Contents",
   "title_sidebar": "Contents",
   "toc_cell": false,
   "toc_position": {
    "height": "calc(100% - 180px)",
    "left": "10px",
    "top": "150px",
    "width": "273.188px"
   },
   "toc_section_display": true,
   "toc_window_display": false
  }
 },
 "nbformat": 4,
 "nbformat_minor": 4
}
