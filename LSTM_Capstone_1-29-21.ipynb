{
 "cells": [
  {
   "cell_type": "markdown",
   "metadata": {},
   "source": [
    "## **Introduction**\n",
    "The goal of this project is to to use the close price to predict the next day price. I will use the LSTM (Long Short Term memory) and ARIMA models to predict the next day price."
   ]
  },
  {
   "cell_type": "code",
   "execution_count": 1,
   "metadata": {},
   "outputs": [
    {
     "name": "stderr",
     "output_type": "stream",
     "text": [
      "Using Theano backend.\n"
     ]
    }
   ],
   "source": [
    "import pandas as pd\n",
    "import numpy as np\n",
    "import matplotlib.pyplot as plt\n",
    "%matplotlib inline\n",
    "\n",
    "from sklearn.preprocessing import MinMaxScaler\n",
    "\n",
    "import plotly.express as px\n",
    "\n",
    "import pandas_datareader.data as web\n",
    "\n",
    "from keras.callbacks import EarlyStopping\n",
    "\n",
    "import keras\n",
    "from keras.models import load_model\n",
    "\n",
    "#from tensorflow import keras\n",
    "from keras.models import Sequential\n",
    "from keras.layers import Dense\n",
    "from keras.layers import LSTM\n",
    "from keras.layers import Dropout\n",
    "\n",
    "from textblob import TextBlob \n",
    "from wordcloud import WordCloud \n",
    "\n",
    "import warnings\n",
    "warnings.filterwarnings('ignore')"
   ]
  },
  {
   "cell_type": "markdown",
   "metadata": {},
   "source": [
    "### **Stock Price Trend Analysis for Adjusted Closing Price**\n",
    "The closing price of a stock is the price of that stock at the close of the trading day. The adjusted closing price uses the closing price as a starting point, but it also takes into account factors such as dividends, stock splits and new stock offerings to determine a value. The adjusted closing price represents a more accurate reflection of a stock's value, since distributions and new offerings can alter the closing price.<br>"
   ]
  },
  {
   "cell_type": "code",
   "execution_count": 2,
   "metadata": {},
   "outputs": [],
   "source": [
    "\"\"\"\n",
    "Pfizer(PFE)   $51.75 billion.\n",
    "Roche(RO)    $50 billion.\n",
    "Novartis(NOVN) $47.45 billion.\n",
    "Merck(MRK)    $46.84 billion.\n",
    "GlaxoSmithKline(GSK) $43.54 billion.\n",
    "Johnson & Johnson(JNJ) $42.1 billion.\n",
    "\n",
    "Moderna (MRNA)\n",
    "Novavax (NVAX)\n",
    "\"\"\"\n",
    "def get_data_plot(ticker=None, start=None, end=None, plot=True, stock_value=None):\n",
    "    \n",
    "    try:\n",
    "        #stock = pdr.get_data_yahoo(ticker,start,end)\n",
    "        data = {}\n",
    "        for stock in ticker:\n",
    "            data = web.DataReader(stock,'yahoo',start,end)[stock_value]\n",
    "        df_1 = pd.DataFrame(data)#.reset_index()\n",
    "        if plot==True:\n",
    "            df_1.plot(figsize=(12,8))\n",
    "            plt.title(\"Stock Adjusted Price Historical Data\")\n",
    "            plt.xlabel('Dates')\n",
    "            plt.ylabel('Stock Prices')\n",
    "            plt.legend(bbox_to_anchor=(1.05,1),loc='upper left') \n",
    "#             plt.figure(figsize=(12,12))\n",
    "#             plt.plot(df_1)\n",
    "#             plt.title(\"Stock Adjusted Price Historical Data\")\n",
    "#             plt.xlabel('Dates')\n",
    "#             plt.ylabel('Stock Prices')\n",
    "#             plt.legend(bbox_to_anchor=(1.05,1),loc='upper left') \n",
    "        \n",
    "        return df_1\n",
    "     \n",
    "    except Exception as e:\n",
    "        print(\"Error occured:\", e)\n",
    "        #data = 'Incorrect Symbol'\n"
   ]
  },
  {
   "cell_type": "code",
   "execution_count": 3,
   "metadata": {},
   "outputs": [
    {
     "data": {
      "text/html": [
       "<div>\n",
       "<style scoped>\n",
       "    .dataframe tbody tr th:only-of-type {\n",
       "        vertical-align: middle;\n",
       "    }\n",
       "\n",
       "    .dataframe tbody tr th {\n",
       "        vertical-align: top;\n",
       "    }\n",
       "\n",
       "    .dataframe thead th {\n",
       "        text-align: right;\n",
       "    }\n",
       "</style>\n",
       "<table border=\"1\" class=\"dataframe\">\n",
       "  <thead>\n",
       "    <tr style=\"text-align: right;\">\n",
       "      <th>Symbols</th>\n",
       "      <th>PFE</th>\n",
       "      <th>JNJ</th>\n",
       "      <th>NVAX</th>\n",
       "      <th>MRNA</th>\n",
       "      <th>AZN</th>\n",
       "    </tr>\n",
       "    <tr>\n",
       "      <th>Date</th>\n",
       "      <th></th>\n",
       "      <th></th>\n",
       "      <th></th>\n",
       "      <th></th>\n",
       "      <th></th>\n",
       "    </tr>\n",
       "  </thead>\n",
       "  <tbody>\n",
       "    <tr>\n",
       "      <th>2019-01-02</th>\n",
       "      <td>37.603287</td>\n",
       "      <td>120.959183</td>\n",
       "      <td>39.400002</td>\n",
       "      <td>15.330000</td>\n",
       "      <td>35.559563</td>\n",
       "    </tr>\n",
       "    <tr>\n",
       "      <th>2019-01-03</th>\n",
       "      <td>36.551258</td>\n",
       "      <td>119.037086</td>\n",
       "      <td>40.799999</td>\n",
       "      <td>15.500000</td>\n",
       "      <td>36.058155</td>\n",
       "    </tr>\n",
       "    <tr>\n",
       "      <th>2019-01-04</th>\n",
       "      <td>37.385921</td>\n",
       "      <td>121.034927</td>\n",
       "      <td>42.799999</td>\n",
       "      <td>16.959999</td>\n",
       "      <td>36.857777</td>\n",
       "    </tr>\n",
       "    <tr>\n",
       "      <th>2019-01-07</th>\n",
       "      <td>37.585892</td>\n",
       "      <td>120.258514</td>\n",
       "      <td>45.200001</td>\n",
       "      <td>16.270000</td>\n",
       "      <td>36.481483</td>\n",
       "    </tr>\n",
       "    <tr>\n",
       "      <th>2019-01-08</th>\n",
       "      <td>37.759781</td>\n",
       "      <td>123.051704</td>\n",
       "      <td>46.000000</td>\n",
       "      <td>16.950001</td>\n",
       "      <td>35.870007</td>\n",
       "    </tr>\n",
       "    <tr>\n",
       "      <th>...</th>\n",
       "      <td>...</td>\n",
       "      <td>...</td>\n",
       "      <td>...</td>\n",
       "      <td>...</td>\n",
       "      <td>...</td>\n",
       "    </tr>\n",
       "    <tr>\n",
       "      <th>2020-12-24</th>\n",
       "      <td>36.868916</td>\n",
       "      <td>152.470001</td>\n",
       "      <td>129.339996</td>\n",
       "      <td>123.389999</td>\n",
       "      <td>48.520000</td>\n",
       "    </tr>\n",
       "    <tr>\n",
       "      <th>2020-12-28</th>\n",
       "      <td>36.423756</td>\n",
       "      <td>153.190002</td>\n",
       "      <td>116.849998</td>\n",
       "      <td>111.400002</td>\n",
       "      <td>49.380001</td>\n",
       "    </tr>\n",
       "    <tr>\n",
       "      <th>2020-12-29</th>\n",
       "      <td>36.651279</td>\n",
       "      <td>154.139999</td>\n",
       "      <td>120.269997</td>\n",
       "      <td>114.389999</td>\n",
       "      <td>49.900002</td>\n",
       "    </tr>\n",
       "    <tr>\n",
       "      <th>2020-12-30</th>\n",
       "      <td>36.344620</td>\n",
       "      <td>156.050003</td>\n",
       "      <td>118.959999</td>\n",
       "      <td>111.129997</td>\n",
       "      <td>50.180000</td>\n",
       "    </tr>\n",
       "    <tr>\n",
       "      <th>2020-12-31</th>\n",
       "      <td>36.413868</td>\n",
       "      <td>157.380005</td>\n",
       "      <td>111.510002</td>\n",
       "      <td>104.470001</td>\n",
       "      <td>49.990002</td>\n",
       "    </tr>\n",
       "  </tbody>\n",
       "</table>\n",
       "<p>505 rows × 5 columns</p>\n",
       "</div>"
      ],
      "text/plain": [
       "Symbols           PFE         JNJ        NVAX        MRNA        AZN\n",
       "Date                                                                \n",
       "2019-01-02  37.603287  120.959183   39.400002   15.330000  35.559563\n",
       "2019-01-03  36.551258  119.037086   40.799999   15.500000  36.058155\n",
       "2019-01-04  37.385921  121.034927   42.799999   16.959999  36.857777\n",
       "2019-01-07  37.585892  120.258514   45.200001   16.270000  36.481483\n",
       "2019-01-08  37.759781  123.051704   46.000000   16.950001  35.870007\n",
       "...               ...         ...         ...         ...        ...\n",
       "2020-12-24  36.868916  152.470001  129.339996  123.389999  48.520000\n",
       "2020-12-28  36.423756  153.190002  116.849998  111.400002  49.380001\n",
       "2020-12-29  36.651279  154.139999  120.269997  114.389999  49.900002\n",
       "2020-12-30  36.344620  156.050003  118.959999  111.129997  50.180000\n",
       "2020-12-31  36.413868  157.380005  111.510002  104.470001  49.990002\n",
       "\n",
       "[505 rows x 5 columns]"
      ]
     },
     "execution_count": 3,
     "metadata": {},
     "output_type": "execute_result"
    },
    {
     "data": {
      "image/png": "[encoded data removed]",
      "text/plain": [
       "<Figure size 864x576 with 1 Axes>"
      ]
     },
     "metadata": {
      "needs_background": "light"
     },
     "output_type": "display_data"
    }
   ],
   "source": [
    "df_1 = get_data_plot(ticker=[['PFE','JNJ','NVAX','MRNA','AZN']], start='2019',end='2021',plot=True, stock_value='Adj Close')\n",
    "df_1"
   ]
  },
  {
   "cell_type": "markdown",
   "metadata": {},
   "source": [
    "we will divide each of the rows in the DataFrame by the first row. This will enable comparison across stocks since all stock prices will be shown as a percentage difference over time. A value lower than 1 indicates that the stock price has declined compared to the base date (i.e. 2017–10–04). A value higher than 1 indicates that the price has gone up.<br>\n",
    "Since prices are shown as a percentage of the first data point, the graph is specially useful to compare price trends from different companies. For example, we can see that NVAX has experienced massive growth in the last few weeks while the other stock prices have been increasing steadily since 2018."
   ]
  },
  {
   "cell_type": "code",
   "execution_count": 4,
   "metadata": {},
   "outputs": [],
   "source": [
    "def data_plot(ticker, start=None, end=None, plot=True, stock_value=None):\n",
    "    \n",
    "    try:\n",
    "        #stock = pdr.get_data_yahoo(ticker,start,end)\n",
    "        data = {}\n",
    "        for stock in ticker:\n",
    "            data = web.DataReader(stock,'yahoo',start,end)[stock_value]\n",
    "        df_1 = pd.DataFrame(data)#.reset_index()\n",
    "        #divide all dataframe by first line of data to enable comparison\n",
    "        histprice = df_1/df_1.iloc[0]\n",
    "\n",
    "        if plot==True:\n",
    "            histprice.plot(figsize=(12,8))\n",
    "            plt.title(\"Stock Adjusted Price Historical Data\")\n",
    "            plt.xlabel('Dates')\n",
    "            plt.ylabel('Stock Prices')\n",
    "            plt.legend(bbox_to_anchor=(1.05,1),loc='upper left') \n",
    "        \n",
    "        return histprice\n",
    "     \n",
    "    except Exception as e:\n",
    "        print(\"Error occured:\", e)\n",
    "        #data = 'Incorrect Symbol'\n"
   ]
  },
  {
   "cell_type": "code",
   "execution_count": 5,
   "metadata": {},
   "outputs": [
    {
     "data": {
      "text/html": [
       "<div>\n",
       "<style scoped>\n",
       "    .dataframe tbody tr th:only-of-type {\n",
       "        vertical-align: middle;\n",
       "    }\n",
       "\n",
       "    .dataframe tbody tr th {\n",
       "        vertical-align: top;\n",
       "    }\n",
       "\n",
       "    .dataframe thead th {\n",
       "        text-align: right;\n",
       "    }\n",
       "</style>\n",
       "<table border=\"1\" class=\"dataframe\">\n",
       "  <thead>\n",
       "    <tr style=\"text-align: right;\">\n",
       "      <th>Symbols</th>\n",
       "      <th>PFE</th>\n",
       "      <th>JNJ</th>\n",
       "      <th>NVAX</th>\n",
       "      <th>MRNA</th>\n",
       "      <th>AZN</th>\n",
       "    </tr>\n",
       "    <tr>\n",
       "      <th>Date</th>\n",
       "      <th></th>\n",
       "      <th></th>\n",
       "      <th></th>\n",
       "      <th></th>\n",
       "      <th></th>\n",
       "    </tr>\n",
       "  </thead>\n",
       "  <tbody>\n",
       "    <tr>\n",
       "      <th>2019-01-02</th>\n",
       "      <td>1.000000</td>\n",
       "      <td>1.000000</td>\n",
       "      <td>1.000000</td>\n",
       "      <td>1.000000</td>\n",
       "      <td>1.000000</td>\n",
       "    </tr>\n",
       "    <tr>\n",
       "      <th>2019-01-03</th>\n",
       "      <td>0.972023</td>\n",
       "      <td>0.984110</td>\n",
       "      <td>1.035533</td>\n",
       "      <td>1.011089</td>\n",
       "      <td>1.014021</td>\n",
       "    </tr>\n",
       "    <tr>\n",
       "      <th>2019-01-04</th>\n",
       "      <td>0.994220</td>\n",
       "      <td>1.000626</td>\n",
       "      <td>1.086294</td>\n",
       "      <td>1.106327</td>\n",
       "      <td>1.036508</td>\n",
       "    </tr>\n",
       "    <tr>\n",
       "      <th>2019-01-07</th>\n",
       "      <td>0.999537</td>\n",
       "      <td>0.994207</td>\n",
       "      <td>1.147208</td>\n",
       "      <td>1.061318</td>\n",
       "      <td>1.025926</td>\n",
       "    </tr>\n",
       "    <tr>\n",
       "      <th>2019-01-08</th>\n",
       "      <td>1.004162</td>\n",
       "      <td>1.017299</td>\n",
       "      <td>1.167513</td>\n",
       "      <td>1.105675</td>\n",
       "      <td>1.008730</td>\n",
       "    </tr>\n",
       "    <tr>\n",
       "      <th>...</th>\n",
       "      <td>...</td>\n",
       "      <td>...</td>\n",
       "      <td>...</td>\n",
       "      <td>...</td>\n",
       "      <td>...</td>\n",
       "    </tr>\n",
       "    <tr>\n",
       "      <th>2020-12-24</th>\n",
       "      <td>0.980471</td>\n",
       "      <td>1.260508</td>\n",
       "      <td>3.282741</td>\n",
       "      <td>8.048924</td>\n",
       "      <td>1.364471</td>\n",
       "    </tr>\n",
       "    <tr>\n",
       "      <th>2020-12-28</th>\n",
       "      <td>0.968632</td>\n",
       "      <td>1.266460</td>\n",
       "      <td>2.965736</td>\n",
       "      <td>7.266797</td>\n",
       "      <td>1.388656</td>\n",
       "    </tr>\n",
       "    <tr>\n",
       "      <th>2020-12-29</th>\n",
       "      <td>0.974683</td>\n",
       "      <td>1.274314</td>\n",
       "      <td>3.052538</td>\n",
       "      <td>7.461840</td>\n",
       "      <td>1.403279</td>\n",
       "    </tr>\n",
       "    <tr>\n",
       "      <th>2020-12-30</th>\n",
       "      <td>0.966528</td>\n",
       "      <td>1.290105</td>\n",
       "      <td>3.019289</td>\n",
       "      <td>7.249184</td>\n",
       "      <td>1.411153</td>\n",
       "    </tr>\n",
       "    <tr>\n",
       "      <th>2020-12-31</th>\n",
       "      <td>0.968369</td>\n",
       "      <td>1.301100</td>\n",
       "      <td>2.830203</td>\n",
       "      <td>6.814742</td>\n",
       "      <td>1.405810</td>\n",
       "    </tr>\n",
       "  </tbody>\n",
       "</table>\n",
       "<p>505 rows × 5 columns</p>\n",
       "</div>"
      ],
      "text/plain": [
       "Symbols          PFE       JNJ      NVAX      MRNA       AZN\n",
       "Date                                                        \n",
       "2019-01-02  1.000000  1.000000  1.000000  1.000000  1.000000\n",
       "2019-01-03  0.972023  0.984110  1.035533  1.011089  1.014021\n",
       "2019-01-04  0.994220  1.000626  1.086294  1.106327  1.036508\n",
       "2019-01-07  0.999537  0.994207  1.147208  1.061318  1.025926\n",
       "2019-01-08  1.004162  1.017299  1.167513  1.105675  1.008730\n",
       "...              ...       ...       ...       ...       ...\n",
       "2020-12-24  0.980471  1.260508  3.282741  8.048924  1.364471\n",
       "2020-12-28  0.968632  1.266460  2.965736  7.266797  1.388656\n",
       "2020-12-29  0.974683  1.274314  3.052538  7.461840  1.403279\n",
       "2020-12-30  0.966528  1.290105  3.019289  7.249184  1.411153\n",
       "2020-12-31  0.968369  1.301100  2.830203  6.814742  1.405810\n",
       "\n",
       "[505 rows x 5 columns]"
      ]
     },
     "execution_count": 5,
     "metadata": {},
     "output_type": "execute_result"
    },
    {
     "data": {
      "image/png": "[encoded data removed]",
      "text/plain": [
       "<Figure size 864x576 with 1 Axes>"
      ]
     },
     "metadata": {
      "needs_background": "light"
     },
     "output_type": "display_data"
    }
   ],
   "source": [
    "df_2 = data_plot([['PFE','JNJ','NVAX','MRNA','AZN']], plot=True, start='2019',end='2021',stock_value='Adj Close')\n",
    "df_2"
   ]
  },
  {
   "cell_type": "code",
   "execution_count": 6,
   "metadata": {},
   "outputs": [],
   "source": [
    "#df_2.to_csv('pharma_stocks.csv')"
   ]
  },
  {
   "cell_type": "markdown",
   "metadata": {},
   "source": [
    "### Volume"
   ]
  },
  {
   "cell_type": "code",
   "execution_count": 7,
   "metadata": {},
   "outputs": [
    {
     "data": {
      "text/html": [
       "<div>\n",
       "<style scoped>\n",
       "    .dataframe tbody tr th:only-of-type {\n",
       "        vertical-align: middle;\n",
       "    }\n",
       "\n",
       "    .dataframe tbody tr th {\n",
       "        vertical-align: top;\n",
       "    }\n",
       "\n",
       "    .dataframe thead th {\n",
       "        text-align: right;\n",
       "    }\n",
       "</style>\n",
       "<table border=\"1\" class=\"dataframe\">\n",
       "  <thead>\n",
       "    <tr style=\"text-align: right;\">\n",
       "      <th></th>\n",
       "      <th>Date</th>\n",
       "      <th>PFE</th>\n",
       "      <th>JNJ</th>\n",
       "      <th>NVAX</th>\n",
       "      <th>MRNA</th>\n",
       "      <th>AZN</th>\n",
       "    </tr>\n",
       "  </thead>\n",
       "  <tbody>\n",
       "    <tr>\n",
       "      <th>0</th>\n",
       "      <td>2019-01-02</td>\n",
       "      <td>1.000000</td>\n",
       "      <td>1.000000</td>\n",
       "      <td>1.000000</td>\n",
       "      <td>1.000000</td>\n",
       "      <td>1.000000</td>\n",
       "    </tr>\n",
       "    <tr>\n",
       "      <th>1</th>\n",
       "      <td>2019-01-03</td>\n",
       "      <td>0.972023</td>\n",
       "      <td>0.984110</td>\n",
       "      <td>1.035533</td>\n",
       "      <td>1.011089</td>\n",
       "      <td>1.014021</td>\n",
       "    </tr>\n",
       "    <tr>\n",
       "      <th>2</th>\n",
       "      <td>2019-01-04</td>\n",
       "      <td>0.994220</td>\n",
       "      <td>1.000626</td>\n",
       "      <td>1.086294</td>\n",
       "      <td>1.106327</td>\n",
       "      <td>1.036508</td>\n",
       "    </tr>\n",
       "    <tr>\n",
       "      <th>3</th>\n",
       "      <td>2019-01-07</td>\n",
       "      <td>0.999537</td>\n",
       "      <td>0.994207</td>\n",
       "      <td>1.147208</td>\n",
       "      <td>1.061318</td>\n",
       "      <td>1.025926</td>\n",
       "    </tr>\n",
       "    <tr>\n",
       "      <th>4</th>\n",
       "      <td>2019-01-08</td>\n",
       "      <td>1.004162</td>\n",
       "      <td>1.017299</td>\n",
       "      <td>1.167513</td>\n",
       "      <td>1.105675</td>\n",
       "      <td>1.008730</td>\n",
       "    </tr>\n",
       "  </tbody>\n",
       "</table>\n",
       "</div>"
      ],
      "text/plain": [
       "         Date       PFE       JNJ      NVAX      MRNA       AZN\n",
       "0  2019-01-02  1.000000  1.000000  1.000000  1.000000  1.000000\n",
       "1  2019-01-03  0.972023  0.984110  1.035533  1.011089  1.014021\n",
       "2  2019-01-04  0.994220  1.000626  1.086294  1.106327  1.036508\n",
       "3  2019-01-07  0.999537  0.994207  1.147208  1.061318  1.025926\n",
       "4  2019-01-08  1.004162  1.017299  1.167513  1.105675  1.008730"
      ]
     },
     "execution_count": 7,
     "metadata": {},
     "output_type": "execute_result"
    }
   ],
   "source": [
    "pharma = pd.read_csv('pharma_stocks.csv')\n",
    "pharma.head()"
   ]
  },
  {
   "cell_type": "code",
   "execution_count": 8,
   "metadata": {},
   "outputs": [
    {
     "data": {
      "text/html": [
       "<div>\n",
       "<style scoped>\n",
       "    .dataframe tbody tr th:only-of-type {\n",
       "        vertical-align: middle;\n",
       "    }\n",
       "\n",
       "    .dataframe tbody tr th {\n",
       "        vertical-align: top;\n",
       "    }\n",
       "\n",
       "    .dataframe thead th {\n",
       "        text-align: right;\n",
       "    }\n",
       "</style>\n",
       "<table border=\"1\" class=\"dataframe\">\n",
       "  <thead>\n",
       "    <tr style=\"text-align: right;\">\n",
       "      <th>Symbols</th>\n",
       "      <th>PFE</th>\n",
       "      <th>JNJ</th>\n",
       "      <th>NVAX</th>\n",
       "      <th>MRNA</th>\n",
       "      <th>AZN</th>\n",
       "    </tr>\n",
       "    <tr>\n",
       "      <th>Date</th>\n",
       "      <th></th>\n",
       "      <th></th>\n",
       "      <th></th>\n",
       "      <th></th>\n",
       "      <th></th>\n",
       "    </tr>\n",
       "  </thead>\n",
       "  <tbody>\n",
       "    <tr>\n",
       "      <th>2020-11-02</th>\n",
       "      <td>21430666.0</td>\n",
       "      <td>7088000.0</td>\n",
       "      <td>1855200.0</td>\n",
       "      <td>4650300.0</td>\n",
       "      <td>5368800.0</td>\n",
       "    </tr>\n",
       "    <tr>\n",
       "      <th>2020-11-03</th>\n",
       "      <td>21636617.0</td>\n",
       "      <td>6363000.0</td>\n",
       "      <td>1818000.0</td>\n",
       "      <td>4366900.0</td>\n",
       "      <td>4156800.0</td>\n",
       "    </tr>\n",
       "    <tr>\n",
       "      <th>2020-11-04</th>\n",
       "      <td>40870536.0</td>\n",
       "      <td>10263500.0</td>\n",
       "      <td>2272300.0</td>\n",
       "      <td>5442100.0</td>\n",
       "      <td>7385800.0</td>\n",
       "    </tr>\n",
       "    <tr>\n",
       "      <th>2020-11-05</th>\n",
       "      <td>33926995.0</td>\n",
       "      <td>8016200.0</td>\n",
       "      <td>2233100.0</td>\n",
       "      <td>4449900.0</td>\n",
       "      <td>6660900.0</td>\n",
       "    </tr>\n",
       "    <tr>\n",
       "      <th>2020-11-06</th>\n",
       "      <td>23870676.0</td>\n",
       "      <td>5942500.0</td>\n",
       "      <td>1893100.0</td>\n",
       "      <td>5841000.0</td>\n",
       "      <td>3686300.0</td>\n",
       "    </tr>\n",
       "    <tr>\n",
       "      <th>2020-11-09</th>\n",
       "      <td>230153864.0</td>\n",
       "      <td>12351600.0</td>\n",
       "      <td>6586500.0</td>\n",
       "      <td>20266800.0</td>\n",
       "      <td>4381300.0</td>\n",
       "    </tr>\n",
       "    <tr>\n",
       "      <th>2020-11-10</th>\n",
       "      <td>80091668.0</td>\n",
       "      <td>7386500.0</td>\n",
       "      <td>6854400.0</td>\n",
       "      <td>10499400.0</td>\n",
       "      <td>5835800.0</td>\n",
       "    </tr>\n",
       "    <tr>\n",
       "      <th>2020-11-11</th>\n",
       "      <td>58980997.0</td>\n",
       "      <td>6382400.0</td>\n",
       "      <td>3986000.0</td>\n",
       "      <td>18576500.0</td>\n",
       "      <td>4069700.0</td>\n",
       "    </tr>\n",
       "    <tr>\n",
       "      <th>2020-11-12</th>\n",
       "      <td>46767877.0</td>\n",
       "      <td>4710300.0</td>\n",
       "      <td>4953400.0</td>\n",
       "      <td>21700100.0</td>\n",
       "      <td>2902900.0</td>\n",
       "    </tr>\n",
       "    <tr>\n",
       "      <th>2020-11-13</th>\n",
       "      <td>40175634.0</td>\n",
       "      <td>5893500.0</td>\n",
       "      <td>3731700.0</td>\n",
       "      <td>14121100.0</td>\n",
       "      <td>2900500.0</td>\n",
       "    </tr>\n",
       "    <tr>\n",
       "      <th>2020-11-16</th>\n",
       "      <td>75530167.0</td>\n",
       "      <td>6266400.0</td>\n",
       "      <td>6852900.0</td>\n",
       "      <td>70853100.0</td>\n",
       "      <td>5190500.0</td>\n",
       "    </tr>\n",
       "    <tr>\n",
       "      <th>2020-11-17</th>\n",
       "      <td>46984500.0</td>\n",
       "      <td>7297700.0</td>\n",
       "      <td>2920100.0</td>\n",
       "      <td>26172000.0</td>\n",
       "      <td>6451500.0</td>\n",
       "    </tr>\n",
       "    <tr>\n",
       "      <th>2020-11-18</th>\n",
       "      <td>63442700.0</td>\n",
       "      <td>6661000.0</td>\n",
       "      <td>2525200.0</td>\n",
       "      <td>21823500.0</td>\n",
       "      <td>4732300.0</td>\n",
       "    </tr>\n",
       "    <tr>\n",
       "      <th>2020-11-19</th>\n",
       "      <td>43261800.0</td>\n",
       "      <td>7987700.0</td>\n",
       "      <td>3249900.0</td>\n",
       "      <td>16002000.0</td>\n",
       "      <td>6768200.0</td>\n",
       "    </tr>\n",
       "    <tr>\n",
       "      <th>2020-11-20</th>\n",
       "      <td>60633800.0</td>\n",
       "      <td>6354900.0</td>\n",
       "      <td>2557300.0</td>\n",
       "      <td>15306300.0</td>\n",
       "      <td>4306000.0</td>\n",
       "    </tr>\n",
       "    <tr>\n",
       "      <th>2020-11-23</th>\n",
       "      <td>43673100.0</td>\n",
       "      <td>7318300.0</td>\n",
       "      <td>6548300.0</td>\n",
       "      <td>16359600.0</td>\n",
       "      <td>13670600.0</td>\n",
       "    </tr>\n",
       "    <tr>\n",
       "      <th>2020-11-24</th>\n",
       "      <td>42485300.0</td>\n",
       "      <td>11034800.0</td>\n",
       "      <td>3099200.0</td>\n",
       "      <td>12515300.0</td>\n",
       "      <td>8341400.0</td>\n",
       "    </tr>\n",
       "    <tr>\n",
       "      <th>2020-11-25</th>\n",
       "      <td>26955800.0</td>\n",
       "      <td>7594600.0</td>\n",
       "      <td>3794700.0</td>\n",
       "      <td>25850700.0</td>\n",
       "      <td>11660900.0</td>\n",
       "    </tr>\n",
       "    <tr>\n",
       "      <th>2020-11-27</th>\n",
       "      <td>25277000.0</td>\n",
       "      <td>3059000.0</td>\n",
       "      <td>11777400.0</td>\n",
       "      <td>43438500.0</td>\n",
       "      <td>14783200.0</td>\n",
       "    </tr>\n",
       "    <tr>\n",
       "      <th>2020-11-30</th>\n",
       "      <td>65425900.0</td>\n",
       "      <td>15663200.0</td>\n",
       "      <td>16386900.0</td>\n",
       "      <td>73203100.0</td>\n",
       "      <td>14725200.0</td>\n",
       "    </tr>\n",
       "    <tr>\n",
       "      <th>2020-12-01</th>\n",
       "      <td>72660800.0</td>\n",
       "      <td>9741300.0</td>\n",
       "      <td>12364600.0</td>\n",
       "      <td>125552300.0</td>\n",
       "      <td>13308200.0</td>\n",
       "    </tr>\n",
       "    <tr>\n",
       "      <th>2020-12-02</th>\n",
       "      <td>84347500.0</td>\n",
       "      <td>7745500.0</td>\n",
       "      <td>3969300.0</td>\n",
       "      <td>51217300.0</td>\n",
       "      <td>4953700.0</td>\n",
       "    </tr>\n",
       "    <tr>\n",
       "      <th>2020-12-03</th>\n",
       "      <td>68570100.0</td>\n",
       "      <td>7310500.0</td>\n",
       "      <td>3234300.0</td>\n",
       "      <td>38656500.0</td>\n",
       "      <td>7917100.0</td>\n",
       "    </tr>\n",
       "    <tr>\n",
       "      <th>2020-12-04</th>\n",
       "      <td>35368100.0</td>\n",
       "      <td>6747100.0</td>\n",
       "      <td>2181800.0</td>\n",
       "      <td>27704800.0</td>\n",
       "      <td>4685400.0</td>\n",
       "    </tr>\n",
       "    <tr>\n",
       "      <th>2020-12-07</th>\n",
       "      <td>48253700.0</td>\n",
       "      <td>6634700.0</td>\n",
       "      <td>3270700.0</td>\n",
       "      <td>31409800.0</td>\n",
       "      <td>6582900.0</td>\n",
       "    </tr>\n",
       "    <tr>\n",
       "      <th>2020-12-08</th>\n",
       "      <td>87039300.0</td>\n",
       "      <td>8339800.0</td>\n",
       "      <td>3744200.0</td>\n",
       "      <td>27738700.0</td>\n",
       "      <td>6707600.0</td>\n",
       "    </tr>\n",
       "    <tr>\n",
       "      <th>2020-12-09</th>\n",
       "      <td>86118500.0</td>\n",
       "      <td>8440100.0</td>\n",
       "      <td>5561800.0</td>\n",
       "      <td>40951700.0</td>\n",
       "      <td>7952400.0</td>\n",
       "    </tr>\n",
       "    <tr>\n",
       "      <th>2020-12-10</th>\n",
       "      <td>57749200.0</td>\n",
       "      <td>7392900.0</td>\n",
       "      <td>2473300.0</td>\n",
       "      <td>22060000.0</td>\n",
       "      <td>7566800.0</td>\n",
       "    </tr>\n",
       "    <tr>\n",
       "      <th>2020-12-11</th>\n",
       "      <td>60737000.0</td>\n",
       "      <td>5977400.0</td>\n",
       "      <td>6060800.0</td>\n",
       "      <td>22069900.0</td>\n",
       "      <td>3870000.0</td>\n",
       "    </tr>\n",
       "    <tr>\n",
       "      <th>2020-12-14</th>\n",
       "      <td>94809700.0</td>\n",
       "      <td>8547300.0</td>\n",
       "      <td>4690300.0</td>\n",
       "      <td>22467700.0</td>\n",
       "      <td>54898600.0</td>\n",
       "    </tr>\n",
       "    <tr>\n",
       "      <th>2020-12-15</th>\n",
       "      <td>66003300.0</td>\n",
       "      <td>7614700.0</td>\n",
       "      <td>2727200.0</td>\n",
       "      <td>36451300.0</td>\n",
       "      <td>22345300.0</td>\n",
       "    </tr>\n",
       "    <tr>\n",
       "      <th>2020-12-16</th>\n",
       "      <td>56515300.0</td>\n",
       "      <td>8486100.0</td>\n",
       "      <td>4096600.0</td>\n",
       "      <td>28476300.0</td>\n",
       "      <td>19333500.0</td>\n",
       "    </tr>\n",
       "    <tr>\n",
       "      <th>2020-12-17</th>\n",
       "      <td>52036400.0</td>\n",
       "      <td>9920300.0</td>\n",
       "      <td>5070800.0</td>\n",
       "      <td>32404500.0</td>\n",
       "      <td>13957200.0</td>\n",
       "    </tr>\n",
       "    <tr>\n",
       "      <th>2020-12-18</th>\n",
       "      <td>60259200.0</td>\n",
       "      <td>17137200.0</td>\n",
       "      <td>4237400.0</td>\n",
       "      <td>33157800.0</td>\n",
       "      <td>25875200.0</td>\n",
       "    </tr>\n",
       "    <tr>\n",
       "      <th>2020-12-21</th>\n",
       "      <td>40891800.0</td>\n",
       "      <td>7893400.0</td>\n",
       "      <td>2763300.0</td>\n",
       "      <td>23921000.0</td>\n",
       "      <td>13007200.0</td>\n",
       "    </tr>\n",
       "    <tr>\n",
       "      <th>2020-12-22</th>\n",
       "      <td>33634400.0</td>\n",
       "      <td>4699500.0</td>\n",
       "      <td>6363600.0</td>\n",
       "      <td>36035800.0</td>\n",
       "      <td>14221900.0</td>\n",
       "    </tr>\n",
       "    <tr>\n",
       "      <th>2020-12-23</th>\n",
       "      <td>36182000.0</td>\n",
       "      <td>4607300.0</td>\n",
       "      <td>6681400.0</td>\n",
       "      <td>41905000.0</td>\n",
       "      <td>11311000.0</td>\n",
       "    </tr>\n",
       "    <tr>\n",
       "      <th>2020-12-24</th>\n",
       "      <td>14790100.0</td>\n",
       "      <td>2114900.0</td>\n",
       "      <td>3690600.0</td>\n",
       "      <td>12720600.0</td>\n",
       "      <td>4931700.0</td>\n",
       "    </tr>\n",
       "    <tr>\n",
       "      <th>2020-12-28</th>\n",
       "      <td>26993700.0</td>\n",
       "      <td>3855500.0</td>\n",
       "      <td>4840500.0</td>\n",
       "      <td>31088200.0</td>\n",
       "      <td>15481900.0</td>\n",
       "    </tr>\n",
       "    <tr>\n",
       "      <th>2020-12-29</th>\n",
       "      <td>23152100.0</td>\n",
       "      <td>5212000.0</td>\n",
       "      <td>2919500.0</td>\n",
       "      <td>23718800.0</td>\n",
       "      <td>17308500.0</td>\n",
       "    </tr>\n",
       "    <tr>\n",
       "      <th>2020-12-30</th>\n",
       "      <td>24889800.0</td>\n",
       "      <td>5412800.0</td>\n",
       "      <td>2796200.0</td>\n",
       "      <td>23965500.0</td>\n",
       "      <td>14349100.0</td>\n",
       "    </tr>\n",
       "    <tr>\n",
       "      <th>2020-12-31</th>\n",
       "      <td>30755600.0</td>\n",
       "      <td>5098600.0</td>\n",
       "      <td>3580800.0</td>\n",
       "      <td>23299400.0</td>\n",
       "      <td>10560900.0</td>\n",
       "    </tr>\n",
       "  </tbody>\n",
       "</table>\n",
       "</div>"
      ],
      "text/plain": [
       "Symbols             PFE         JNJ        NVAX         MRNA         AZN\n",
       "Date                                                                    \n",
       "2020-11-02   21430666.0   7088000.0   1855200.0    4650300.0   5368800.0\n",
       "2020-11-03   21636617.0   6363000.0   1818000.0    4366900.0   4156800.0\n",
       "2020-11-04   40870536.0  10263500.0   2272300.0    5442100.0   7385800.0\n",
       "2020-11-05   33926995.0   8016200.0   2233100.0    4449900.0   6660900.0\n",
       "2020-11-06   23870676.0   5942500.0   1893100.0    5841000.0   3686300.0\n",
       "2020-11-09  230153864.0  12351600.0   6586500.0   20266800.0   4381300.0\n",
       "2020-11-10   80091668.0   7386500.0   6854400.0   10499400.0   5835800.0\n",
       "2020-11-11   58980997.0   6382400.0   3986000.0   18576500.0   4069700.0\n",
       "2020-11-12   46767877.0   4710300.0   4953400.0   21700100.0   2902900.0\n",
       "2020-11-13   40175634.0   5893500.0   3731700.0   14121100.0   2900500.0\n",
       "2020-11-16   75530167.0   6266400.0   6852900.0   70853100.0   5190500.0\n",
       "2020-11-17   46984500.0   7297700.0   2920100.0   26172000.0   6451500.0\n",
       "2020-11-18   63442700.0   6661000.0   2525200.0   21823500.0   4732300.0\n",
       "2020-11-19   43261800.0   7987700.0   3249900.0   16002000.0   6768200.0\n",
       "2020-11-20   60633800.0   6354900.0   2557300.0   15306300.0   4306000.0\n",
       "2020-11-23   43673100.0   7318300.0   6548300.0   16359600.0  13670600.0\n",
       "2020-11-24   42485300.0  11034800.0   3099200.0   12515300.0   8341400.0\n",
       "2020-11-25   26955800.0   7594600.0   3794700.0   25850700.0  11660900.0\n",
       "2020-11-27   25277000.0   3059000.0  11777400.0   43438500.0  14783200.0\n",
       "2020-11-30   65425900.0  15663200.0  16386900.0   73203100.0  14725200.0\n",
       "2020-12-01   72660800.0   9741300.0  12364600.0  125552300.0  13308200.0\n",
       "2020-12-02   84347500.0   7745500.0   3969300.0   51217300.0   4953700.0\n",
       "2020-12-03   68570100.0   7310500.0   3234300.0   38656500.0   7917100.0\n",
       "2020-12-04   35368100.0   6747100.0   2181800.0   27704800.0   4685400.0\n",
       "2020-12-07   48253700.0   6634700.0   3270700.0   31409800.0   6582900.0\n",
       "2020-12-08   87039300.0   8339800.0   3744200.0   27738700.0   6707600.0\n",
       "2020-12-09   86118500.0   8440100.0   5561800.0   40951700.0   7952400.0\n",
       "2020-12-10   57749200.0   7392900.0   2473300.0   22060000.0   7566800.0\n",
       "2020-12-11   60737000.0   5977400.0   6060800.0   22069900.0   3870000.0\n",
       "2020-12-14   94809700.0   8547300.0   4690300.0   22467700.0  54898600.0\n",
       "2020-12-15   66003300.0   7614700.0   2727200.0   36451300.0  22345300.0\n",
       "2020-12-16   56515300.0   8486100.0   4096600.0   28476300.0  19333500.0\n",
       "2020-12-17   52036400.0   9920300.0   5070800.0   32404500.0  13957200.0\n",
       "2020-12-18   60259200.0  17137200.0   4237400.0   33157800.0  25875200.0\n",
       "2020-12-21   40891800.0   7893400.0   2763300.0   23921000.0  13007200.0\n",
       "2020-12-22   33634400.0   4699500.0   6363600.0   36035800.0  14221900.0\n",
       "2020-12-23   36182000.0   4607300.0   6681400.0   41905000.0  11311000.0\n",
       "2020-12-24   14790100.0   2114900.0   3690600.0   12720600.0   4931700.0\n",
       "2020-12-28   26993700.0   3855500.0   4840500.0   31088200.0  15481900.0\n",
       "2020-12-29   23152100.0   5212000.0   2919500.0   23718800.0  17308500.0\n",
       "2020-12-30   24889800.0   5412800.0   2796200.0   23965500.0  14349100.0\n",
       "2020-12-31   30755600.0   5098600.0   3580800.0   23299400.0  10560900.0"
      ]
     },
     "execution_count": 8,
     "metadata": {},
     "output_type": "execute_result"
    },
    {
     "data": {
      "image/png": "[encoded data removed]",
      "text/plain": [
       "<Figure size 864x576 with 1 Axes>"
      ]
     },
     "metadata": {
      "needs_background": "light"
     },
     "output_type": "display_data"
    }
   ],
   "source": [
    "df_vol = get_data_plot(ticker=[['PFE','JNJ','NVAX','MRNA','AZN']], start='2020-11-01',end='2021',plot=True, stock_value='Volume')\n",
    "df_vol"
   ]
  },
  {
   "cell_type": "code",
   "execution_count": 9,
   "metadata": {},
   "outputs": [
    {
     "data": {
      "text/html": [
       "<div>\n",
       "<style scoped>\n",
       "    .dataframe tbody tr th:only-of-type {\n",
       "        vertical-align: middle;\n",
       "    }\n",
       "\n",
       "    .dataframe tbody tr th {\n",
       "        vertical-align: top;\n",
       "    }\n",
       "\n",
       "    .dataframe thead th {\n",
       "        text-align: right;\n",
       "    }\n",
       "</style>\n",
       "<table border=\"1\" class=\"dataframe\">\n",
       "  <thead>\n",
       "    <tr style=\"text-align: right;\">\n",
       "      <th></th>\n",
       "      <th>High</th>\n",
       "      <th>Low</th>\n",
       "      <th>Open</th>\n",
       "      <th>Close</th>\n",
       "      <th>Volume</th>\n",
       "      <th>Adj Close</th>\n",
       "      <th>Price Change</th>\n",
       "    </tr>\n",
       "    <tr>\n",
       "      <th>Date</th>\n",
       "      <th></th>\n",
       "      <th></th>\n",
       "      <th></th>\n",
       "      <th></th>\n",
       "      <th></th>\n",
       "      <th></th>\n",
       "      <th></th>\n",
       "    </tr>\n",
       "  </thead>\n",
       "  <tbody>\n",
       "    <tr>\n",
       "      <th>2018-12-10</th>\n",
       "      <td>19.438999</td>\n",
       "      <td>18.000000</td>\n",
       "      <td>18.900000</td>\n",
       "      <td>18.799999</td>\n",
       "      <td>4233300</td>\n",
       "      <td>18.799999</td>\n",
       "      <td>0.199999</td>\n",
       "    </tr>\n",
       "    <tr>\n",
       "      <th>2018-12-11</th>\n",
       "      <td>20.660000</td>\n",
       "      <td>17.990000</td>\n",
       "      <td>20.549999</td>\n",
       "      <td>18.010000</td>\n",
       "      <td>3435300</td>\n",
       "      <td>18.010000</td>\n",
       "      <td>-0.789999</td>\n",
       "    </tr>\n",
       "    <tr>\n",
       "      <th>2018-12-12</th>\n",
       "      <td>19.480000</td>\n",
       "      <td>18.020000</td>\n",
       "      <td>18.549999</td>\n",
       "      <td>18.680000</td>\n",
       "      <td>2590700</td>\n",
       "      <td>18.680000</td>\n",
       "      <td>0.670000</td>\n",
       "    </tr>\n",
       "    <tr>\n",
       "      <th>2018-12-13</th>\n",
       "      <td>19.290001</td>\n",
       "      <td>18.680000</td>\n",
       "      <td>19.250000</td>\n",
       "      <td>18.760000</td>\n",
       "      <td>1608600</td>\n",
       "      <td>18.760000</td>\n",
       "      <td>0.080000</td>\n",
       "    </tr>\n",
       "    <tr>\n",
       "      <th>2018-12-14</th>\n",
       "      <td>18.881001</td>\n",
       "      <td>18.250000</td>\n",
       "      <td>18.750000</td>\n",
       "      <td>18.320000</td>\n",
       "      <td>746300</td>\n",
       "      <td>18.320000</td>\n",
       "      <td>-0.440001</td>\n",
       "    </tr>\n",
       "    <tr>\n",
       "      <th>...</th>\n",
       "      <td>...</td>\n",
       "      <td>...</td>\n",
       "      <td>...</td>\n",
       "      <td>...</td>\n",
       "      <td>...</td>\n",
       "      <td>...</td>\n",
       "      <td>...</td>\n",
       "    </tr>\n",
       "    <tr>\n",
       "      <th>2020-12-24</th>\n",
       "      <td>129.699997</td>\n",
       "      <td>122.720001</td>\n",
       "      <td>125.940002</td>\n",
       "      <td>123.389999</td>\n",
       "      <td>12720600</td>\n",
       "      <td>123.389999</td>\n",
       "      <td>-6.949997</td>\n",
       "    </tr>\n",
       "    <tr>\n",
       "      <th>2020-12-28</th>\n",
       "      <td>122.879997</td>\n",
       "      <td>111.050003</td>\n",
       "      <td>120.040001</td>\n",
       "      <td>111.400002</td>\n",
       "      <td>31088200</td>\n",
       "      <td>111.400002</td>\n",
       "      <td>-11.989998</td>\n",
       "    </tr>\n",
       "    <tr>\n",
       "      <th>2020-12-29</th>\n",
       "      <td>116.250000</td>\n",
       "      <td>106.879997</td>\n",
       "      <td>107.795998</td>\n",
       "      <td>114.389999</td>\n",
       "      <td>23718800</td>\n",
       "      <td>114.389999</td>\n",
       "      <td>2.989998</td>\n",
       "    </tr>\n",
       "    <tr>\n",
       "      <th>2020-12-30</th>\n",
       "      <td>118.941002</td>\n",
       "      <td>108.800003</td>\n",
       "      <td>118.400002</td>\n",
       "      <td>111.129997</td>\n",
       "      <td>23965500</td>\n",
       "      <td>111.129997</td>\n",
       "      <td>-3.260002</td>\n",
       "    </tr>\n",
       "    <tr>\n",
       "      <th>2020-12-31</th>\n",
       "      <td>113.550003</td>\n",
       "      <td>102.660004</td>\n",
       "      <td>110.550003</td>\n",
       "      <td>104.470001</td>\n",
       "      <td>23299400</td>\n",
       "      <td>104.470001</td>\n",
       "      <td>-6.659996</td>\n",
       "    </tr>\n",
       "  </tbody>\n",
       "</table>\n",
       "<p>520 rows × 7 columns</p>\n",
       "</div>"
      ],
      "text/plain": [
       "                  High         Low        Open       Close    Volume  \\\n",
       "Date                                                                   \n",
       "2018-12-10   19.438999   18.000000   18.900000   18.799999   4233300   \n",
       "2018-12-11   20.660000   17.990000   20.549999   18.010000   3435300   \n",
       "2018-12-12   19.480000   18.020000   18.549999   18.680000   2590700   \n",
       "2018-12-13   19.290001   18.680000   19.250000   18.760000   1608600   \n",
       "2018-12-14   18.881001   18.250000   18.750000   18.320000    746300   \n",
       "...                ...         ...         ...         ...       ...   \n",
       "2020-12-24  129.699997  122.720001  125.940002  123.389999  12720600   \n",
       "2020-12-28  122.879997  111.050003  120.040001  111.400002  31088200   \n",
       "2020-12-29  116.250000  106.879997  107.795998  114.389999  23718800   \n",
       "2020-12-30  118.941002  108.800003  118.400002  111.129997  23965500   \n",
       "2020-12-31  113.550003  102.660004  110.550003  104.470001  23299400   \n",
       "\n",
       "             Adj Close  Price Change  \n",
       "Date                                  \n",
       "2018-12-10   18.799999      0.199999  \n",
       "2018-12-11   18.010000     -0.789999  \n",
       "2018-12-12   18.680000      0.670000  \n",
       "2018-12-13   18.760000      0.080000  \n",
       "2018-12-14   18.320000     -0.440001  \n",
       "...                ...           ...  \n",
       "2020-12-24  123.389999     -6.949997  \n",
       "2020-12-28  111.400002    -11.989998  \n",
       "2020-12-29  114.389999      2.989998  \n",
       "2020-12-30  111.129997     -3.260002  \n",
       "2020-12-31  104.470001     -6.659996  \n",
       "\n",
       "[520 rows x 7 columns]"
      ]
     },
     "execution_count": 9,
     "metadata": {},
     "output_type": "execute_result"
    }
   ],
   "source": [
    "data_aapl = web.DataReader('MRNA','yahoo','2018','2021')\n",
    "data_aapl['Price Change'] = data_aapl['Adj Close'].diff()\n",
    "data_aapl.dropna()"
   ]
  },
  {
   "cell_type": "code",
   "execution_count": null,
   "metadata": {},
   "outputs": [],
   "source": []
  },
  {
   "cell_type": "markdown",
   "metadata": {},
   "source": [
    "## 2  Daily Price Change"
   ]
  },
  {
   "cell_type": "code",
   "execution_count": null,
   "metadata": {},
   "outputs": [],
   "source": [
    "def diff_data_plot(ticker, plot=True):\n",
    " \n",
    "    try:\n",
    "        #stock = pdr.get_data_yahoo(ticker,start,end)\n",
    "        data = {}\n",
    "        for stock in ticker:\n",
    "            data = web.DataReader(stock,'yahoo','2018','2021')['Adj Close']\n",
    "        df_1 = pd.DataFrame(data)#.reset_index()\n",
    "        if plot==True:\n",
    "            df_1_diff = df_1.diff()\n",
    "            df_1_diff.plot(figsize=(12,8))\n",
    "            plt.title(\"Historical Stock Price Change\")\n",
    "            #plt.set(title=f'Housing Prices by Year - {zip_df.index.freq}')\n",
    "            plt.xlabel('Dates')\n",
    "            plt.ylabel('Stock Prices USD ($)')\n",
    "            plt.legend(bbox_to_anchor=(1.05,1),loc='upper left') \n",
    "        \n",
    "        return df_1_diff\n",
    "     \n",
    "    except Exception as e:\n",
    "        print(\"Error occured:\", e)\n",
    "        #data = 'Incorrect Symbol'\n",
    "            "
   ]
  },
  {
   "cell_type": "code",
   "execution_count": null,
   "metadata": {},
   "outputs": [],
   "source": [
    "diff_data_plot([['PFE','JNJ','NVAX','MRNA','AZN']], plot=True)\n",
    "diff_data_plot"
   ]
  },
  {
   "cell_type": "markdown",
   "metadata": {},
   "source": [
    "## Twitter/Sentiment Analysis\n",
    "Below are the twitter feeds regarding the pharmaceutical companies and corresponding sentiment analysis of the feeds.<br>"
   ]
  },
  {
   "cell_type": "code",
   "execution_count": null,
   "metadata": {},
   "outputs": [],
   "source": [
    "import json\n",
    "import re \n",
    "import tweepy \n",
    "from tweepy import OAuthHandler \n",
    "from textblob import TextBlob "
   ]
  },
  {
   "cell_type": "code",
   "execution_count": null,
   "metadata": {},
   "outputs": [],
   "source": [
    "with open('/Users/davidtorres/.secret/config_Mod_5.json') as file:\n",
    "    json_data = json.load(file)"
   ]
  },
  {
   "cell_type": "code",
   "execution_count": null,
   "metadata": {},
   "outputs": [],
   "source": [
    "authenticate = tweepy.OAuthHandler(json_data['consumer_key'],json_data['consumer_secret_key'])\n",
    "authenticate.set_access_token(json_data['access_token'], json_data['access_token_secret'])"
   ]
  },
  {
   "cell_type": "code",
   "execution_count": null,
   "metadata": {},
   "outputs": [],
   "source": [
    "api = tweepy.API(authenticate, wait_on_rate_limit= True)\n",
    "#api = tweepy.API(authenticate, wait_on_rate_limit= True)\n",
    "#api = tweepy.API(authenticate, wait_on_rate_limit= True)\n",
    "posts = api.user_timeline(screen_name='@JNJNEWS', count=100, lang='en', tweet_mode='extended')\n",
    "#tweets = api.user_timeline(screen_name='whoever', count=5, tweet_mode='extended')\n"
   ]
  },
  {
   "cell_type": "code",
   "execution_count": null,
   "metadata": {},
   "outputs": [],
   "source": []
  },
  {
   "cell_type": "code",
   "execution_count": null,
   "metadata": {},
   "outputs": [],
   "source": [
    "def get_tweets(posts):\n",
    "    tweet_list = []\n",
    "    for twt in posts:\n",
    "        tweet_list.append(twt._json)\n",
    "    tweet_data = pd.DataFrame.from_records(tweet_list)#tweet_df = tweet_data[['created_at','full_text']]\n",
    "    tweet_df = tweet_data[['created_at','full_text']]\n",
    "    tweet_df['Date'] = pd.to_datetime(tweet_df['created_at'])\n",
    "    tweet_df['Date'] = pd.to_datetime(tweet_df['Date'], format='%Y:%m:%d').dt.date\n",
    "    tweet_df.set_index([\"Date\"], inplace = True) \n",
    "    tweet_df.drop('created_at',axis=1,inplace=True)\n",
    "    return tweet_df"
   ]
  },
  {
   "cell_type": "code",
   "execution_count": null,
   "metadata": {},
   "outputs": [],
   "source": [
    "tweets_df = get_tweets(posts)\n",
    "tweets_df"
   ]
  },
  {
   "cell_type": "code",
   "execution_count": null,
   "metadata": {},
   "outputs": [],
   "source": [
    "#clean the text\n",
    "def cleanTxt(text):\n",
    "    text = re.sub(r'@[A-Za-z0-9]+','',text) #r-tells python that expression is a raw tring, once we find substitute fo empty string\n",
    "  #get rid of any hashtag or number sign\n",
    "    text = re.sub(r'#', '', text)\n",
    "    text = re.sub(r'RT[\\s]+','', text)  #retweets followed by 1 or more white spaces\n",
    "    #remove the hyper link\n",
    "    text = re.sub(r'https?:\\/\\/\\S+','', text)      #may have 0 or 1 s character\n",
    "    \n",
    "    return text"
   ]
  },
  {
   "cell_type": "code",
   "execution_count": null,
   "metadata": {},
   "outputs": [],
   "source": [
    "#cleaning hte text\n",
    "tweets_df['full_text'] = tweets_df['full_text'].apply(cleanTxt)"
   ]
  },
  {
   "cell_type": "code",
   "execution_count": null,
   "metadata": {},
   "outputs": [],
   "source": [
    "tweets_df"
   ]
  },
  {
   "cell_type": "code",
   "execution_count": null,
   "metadata": {},
   "outputs": [],
   "source": [
    "allWords = ' '.join([twts for twts in tweets_df['full_text']])\n",
    "wordCloud = WordCloud(width=700, height=500, random_state=21,max_font_size=110).generate(allWords)\n",
    "plt.imshow(wordCloud,interpolation='bilinear')"
   ]
  },
  {
   "cell_type": "code",
   "execution_count": null,
   "metadata": {},
   "outputs": [],
   "source": [
    "#get subjectivity (how subjective or opinated text is)and pularity (how postive or negative text is)\n",
    "def getSubjectivity(text):\n",
    "    return TextBlob(text).sentiment.subjectivity\n",
    "\n",
    "def getPolarity(text):\n",
    "    return TextBlob(text).sentiment.polarity"
   ]
  },
  {
   "cell_type": "code",
   "execution_count": null,
   "metadata": {},
   "outputs": [],
   "source": [
    "#create 2 new columns\n",
    "tweets_df['Subjectivity'] = tweets_df['full_text'].apply(getSubjectivity)\n",
    "tweets_df['Polarity'] = tweets_df['full_text'].apply(getPolarity)"
   ]
  },
  {
   "cell_type": "code",
   "execution_count": null,
   "metadata": {},
   "outputs": [],
   "source": [
    "def getAnalysis(score):\n",
    "    #function to calculate the negative, neutral and positve analysis\n",
    "    if score < 0:\n",
    "        return 'Negative'\n",
    "    elif score == 0:\n",
    "        return 'Neutral'\n",
    "    else:\n",
    "        return 'Positive'"
   ]
  },
  {
   "cell_type": "code",
   "execution_count": null,
   "metadata": {},
   "outputs": [],
   "source": [
    "#polarity is the score and going to apply the  function\n",
    "tweets_df['Analysis'] = tweets_df['Polarity'].apply(getAnalysis)"
   ]
  },
  {
   "cell_type": "code",
   "execution_count": null,
   "metadata": {},
   "outputs": [],
   "source": [
    "tweets_df.head()"
   ]
  },
  {
   "cell_type": "markdown",
   "metadata": {},
   "source": [
    "## Technical Indicators for Quantative Trading\n",
    "1. Simple Moving Average\n",
    "2. Average True Range"
   ]
  },
  {
   "cell_type": "markdown",
   "metadata": {},
   "source": [
    "### Simple Moving Average\n",
    "Simple Moving Average is one of the most common technical indicators.  SMA calculates the average of prices over a given interval of time and is used to determine the trend of the stock.<br>\n",
    "The most commonly used moving averages are the 5-day, 10-day, 20-day, 50-day, and the 200-day moving averages.<br>\n",
    "SMA takes hte prcie of stock over a certain number of periods and averages the price together. This is useful when trying to identify trends. Sometimres we can identify these trend changes when the SMA closing price drops over.  What this means for a ninvestor is that the closing price differes greatly frm the simple moving averageso it may be time to buy or sell as stock.<br>"
   ]
  },
  {
   "cell_type": "code",
   "execution_count": null,
   "metadata": {},
   "outputs": [],
   "source": [
    "df_sma = get_data_plot(['TSLA'], plot=True, start='2019',end='2021',stock_value='Adj Close')\n",
    "df_sma"
   ]
  },
  {
   "cell_type": "code",
   "execution_count": null,
   "metadata": {},
   "outputs": [],
   "source": [
    "\"\"\"\n",
    "program uses the 3 moving averages crossoever stategy to determine when to buy and sell stock. \n",
    "calculate 3 moving averages\n",
    "\"\"\"\n",
    "#short or fast exponential moving average\n",
    "shortEMA = df_sma['Adj Close'].ewm(span=5, adjust=False).mean()\n",
    "#calcualte middle/medium exponential moving average\n",
    "middleEMA = df_sma['Adj Close'].ewm(span=21, adjust=False).mean()\n",
    "#calculte long/slow exponential moving average\n",
    "longEMA= df_sma['Adj Close'].ewm(span=63, adjust=False).mean()"
   ]
  },
  {
   "cell_type": "code",
   "execution_count": null,
   "metadata": {},
   "outputs": [],
   "source": [
    "#visualize adj closing pprice and exponential moving averages"
   ]
  },
  {
   "cell_type": "code",
   "execution_count": null,
   "metadata": {},
   "outputs": [],
   "source": [
    "\"\"\"\n",
    "concerned w/crossing of exponential averages\n",
    "this strategy tells us when to buy and when to sell the stock\n",
    "\"\"\"\n",
    "pd.options.plotting.backend = \"plotly\"\n",
    "df_sma.plot(template='plotly_dark')\n",
    "\n",
    "plt.figure(figsize=(12,6))\n",
    "plt.plot(df_sma['Adj Close'],label='Adj Close',color='blue')\n",
    "plt.plot(shortEMA, label='Short/Fast',color='red')\n",
    "plt.plot(middleEMA,label='Middle',color='orange')\n",
    "plt.plot(longEMA,label='Long/slow',color='green')\n"
   ]
  },
  {
   "cell_type": "code",
   "execution_count": null,
   "metadata": {},
   "outputs": [],
   "source": [
    "pd.options.plotting.backend = \"plotly\"\n",
    "df_sma.plot(template='plotly_dark')\n",
    "# fig = px.line(df_sma, x=df_sma.index, y='Adj Close')\n",
    "# fig = px.line(shortEMA, x=shortEMA.index, y='Adj Close')\n",
    "# fig"
   ]
  },
  {
   "cell_type": "code",
   "execution_count": null,
   "metadata": {},
   "outputs": [],
   "source": [
    "shortEMA"
   ]
  },
  {
   "cell_type": "code",
   "execution_count": null,
   "metadata": {},
   "outputs": [],
   "source": [
    "import plotly.graph_objs as go"
   ]
  },
  {
   "cell_type": "code",
   "execution_count": null,
   "metadata": {},
   "outputs": [],
   "source": [
    "# fig = px.line(df_sma, x=df_sma.index, y='Adj Close')\n",
    "# fig.update_layout(title='Productivity, Europe' , showlegend=False)\n",
    "\n",
    "\n",
    "# # Plotly figure 2\n",
    "# fig2 = go.Figure(fig.add_traces(\n",
    "#                  data=px.line(shortEMA, x=shortEMA.index, y='Adj Close')))\n",
    "# fig2.update_layout(title='Productivity, Europe and America', showlegend=False)"
   ]
  },
  {
   "cell_type": "code",
   "execution_count": null,
   "metadata": {},
   "outputs": [],
   "source": [
    "#calculate when to buy and sell\n",
    "#add exponential moving averages to teh data set\n",
    "df_sma['Short'] = shortEMA\n",
    "df_sma['Middle'] = middleEMA\n",
    "df_sma['Long'] = longEMA"
   ]
  },
  {
   "cell_type": "code",
   "execution_count": null,
   "metadata": {},
   "outputs": [],
   "source": [
    "df_sma.head()"
   ]
  },
  {
   "cell_type": "code",
   "execution_count": null,
   "metadata": {},
   "outputs": [],
   "source": [
    "#create the function buy and sell stock\n",
    "def buy_sell_stock(data):\n",
    "    buy_list = []\n",
    "    sell_list = []\n",
    "    flag_long=False  #flags tell which portion of stratgy I'm in\n",
    "    flag_short=False\n",
    "    \n",
    "    for i in range(0,len(data)): #loop through and find all times that strategy applies\n",
    "        #when to buy stock\n",
    "        if data['Middle'][i] < data['Long'][i] and data['Short'][i] < data['Middle'][i] and flag_long == False and flag_short == False:\n",
    "            buy_list.append(data['Adj Close'][i])\n",
    "            sell_list.append(np.nan)\n",
    "            flag_short = True\n",
    "        #when to sell stock\n",
    "        elif flag_short == True and data['Short'][i] > data['Middle'][i]:\n",
    "            sell_list.append(data['Adj Close'][i])\n",
    "            buy_list.append(np.nan)\n",
    "            flag_short = False  \n",
    "                                 \n",
    "        elif data['Middle'][i] > data['Long'][i] and data['Short'][i] > data['Middle'][i] and flag_long == False and flag_short == False:\n",
    "            buy_list.append(data['Adj Close'][i])\n",
    "            sell_list.append(np.nan)\n",
    "            flag_long = True\n",
    "        #when to sell stock\n",
    "        elif flag_long == True and data['Short'][i] < data['Middle'][i]:\n",
    "            sell_list.append(data['Adj Close'][i])\n",
    "            buy_list.append(np.nan)\n",
    "            flag_long = False  \n",
    "        else:\n",
    "            buy_list.append(np.nan) \n",
    "            sell_list.append(np.nan) \n",
    "    return (buy_list,sell_list)                             "
   ]
  },
  {
   "cell_type": "code",
   "execution_count": null,
   "metadata": {},
   "outputs": [],
   "source": [
    "#add buy and sell signals to dataset\n",
    "df_sma['Buy'] = buy_sell_stock(df_sma)[0]\n",
    "df_sma['Sell'] = buy_sell_stock(df_sma)[1] #return index1"
   ]
  },
  {
   "cell_type": "code",
   "execution_count": null,
   "metadata": {},
   "outputs": [],
   "source": [
    "df_sma.head()"
   ]
  },
  {
   "cell_type": "code",
   "execution_count": null,
   "metadata": {},
   "outputs": [],
   "source": [
    "#visaully show stock buy and sell signals\n",
    "plt.figure(figsize=(12,6))\n",
    "plt.title('Buy and Sell Chart')\n",
    "plt.plot(df_sma['Adj Close'],label='Adj Close',color='blue',alpha=0.35)\n",
    "plt.plot(shortEMA, label='Short/Fast',color='red',alpha=0.35)\n",
    "plt.plot(middleEMA,label='Middle',color='orange',alpha=0.35)\n",
    "plt.plot(longEMA,label='Long/slow',color='green')\n",
    "plt.scatter(df_sma.index,df_sma['Buy'],color='green',marker='^',alpha=1) #show momentum stock going up\n",
    "plt.scatter(df_sma.index,df_sma['Sell'],color='red',marker='v',alpha=1) #show momentum stock going up\n"
   ]
  },
  {
   "cell_type": "code",
   "execution_count": null,
   "metadata": {},
   "outputs": [],
   "source": []
  },
  {
   "cell_type": "markdown",
   "metadata": {},
   "source": [
    "## **Forecasting**\n",
    "### Long Short Term Memory (LSTM)"
   ]
  },
  {
   "cell_type": "code",
   "execution_count": null,
   "metadata": {},
   "outputs": [],
   "source": [
    "def get_data(symbol, data_source,start,end):\n",
    "    df = web.DataReader(symbol,data_source, start, end) \n",
    "    #print('Dataset consisits of {} and {}'.format(df[0].shape,df[1].shape))\n",
    "    df_shape = df.shape\n",
    "    print('Dataframe consists of {} rows and {} columns'.format(df_shape[0],df_shape[1]))\n",
    "    \n",
    "    plt.figure(figsize=(12,8))\n",
    "    plt.plot(df['Adj Close'])\n",
    "    plt.xlabel('Date', fontsize=18)\n",
    "    plt.ylabel('Close Price USD ($)', fontsize=18)\n",
    "    return df"
   ]
  },
  {
   "cell_type": "code",
   "execution_count": null,
   "metadata": {},
   "outputs": [],
   "source": [
    "the_data = get_data('MRNA',data_source='yahoo', start='2019-01-01',end='2021-1-11')\n",
    "the_data"
   ]
  },
  {
   "cell_type": "code",
   "execution_count": null,
   "metadata": {},
   "outputs": [],
   "source": [
    "diff_df = the_data.copy()"
   ]
  },
  {
   "cell_type": "code",
   "execution_count": null,
   "metadata": {},
   "outputs": [],
   "source": [
    "#change in price for day\n",
    "#radio button or drop down\n",
    "the_data.diff()['Adj Close'].plot()"
   ]
  },
  {
   "cell_type": "code",
   "execution_count": null,
   "metadata": {},
   "outputs": [],
   "source": [
    "diff_df['Prct_Change'] = the_data.diff().dropna()['Adj Close']"
   ]
  },
  {
   "cell_type": "code",
   "execution_count": null,
   "metadata": {},
   "outputs": [],
   "source": [
    "diff_df.head()"
   ]
  },
  {
   "cell_type": "code",
   "execution_count": null,
   "metadata": {},
   "outputs": [],
   "source": [
    "#df = pd.read_csv('data/apple_2012_1_1-2019_12_17.csv', parse_dates=True, index_col=[0])\n",
    "\n",
    "#Get the stock quote \n",
    "#df = web.DataReader('TGT', data_source='yahoo', start='2016-01-01', end='2021-1-11') "
   ]
  },
  {
   "cell_type": "code",
   "execution_count": null,
   "metadata": {},
   "outputs": [],
   "source": [
    "#df = df.diff().dropna() #zip_df[11226].diff().dropna()"
   ]
  },
  {
   "cell_type": "code",
   "execution_count": null,
   "metadata": {},
   "outputs": [],
   "source": [
    "def preprocessing(df,percentage):\n",
    "    training_data_len = int(np.round(len(df) * percentage))\n",
    "    dataset = pd.DataFrame(df)\n",
    "    scaler = MinMaxScaler(feature_range = (0, 1))\n",
    "    scaled_data = scaler.fit_transform(dataset)\n",
    "    return training_data_len, dataset, scaler, scaled_data"
   ]
  },
  {
   "cell_type": "code",
   "execution_count": null,
   "metadata": {},
   "outputs": [],
   "source": [
    "#training_data_len, dataset, scaler, scaled_data = preprocessing(df['Close'], percentage=.8)\n",
    "training_data_len, dataset, scaler, scaled_data = preprocessing(the_data['Adj Close'], percentage=.8)"
   ]
  },
  {
   "cell_type": "code",
   "execution_count": null,
   "metadata": {},
   "outputs": [],
   "source": [
    "def create_sets(training_data_len):\n",
    "    #create training data set\n",
    "    train_data = scaled_data[0:training_data_len,:]\n",
    "    test_data = scaled_data[training_data_len -60:,:] #to 2003 which is end of dataset\n",
    "    #split data into X_train and y_train data sets\n",
    "    X_train = []\n",
    "    y_train = []\n",
    "    #create dataset X_test and y_test data sets\n",
    "    X_test = []\n",
    "    y_test = []    #dataset.iloc[training_data_len:, :]\n",
    "\n",
    "\n",
    "    for i in range(60, len(train_data)):\n",
    "        X_train.append(train_data[i-60:i])\n",
    "        y_train.append(train_data[i,0]) #will contain 61st value which will be at position 60\n",
    "\n",
    "    for i in range(60, len(test_data)):\n",
    "        X_test.append(test_data[i-60:i,0]) \n",
    "        y_test.append(test_data[i,0])\n",
    "        \n",
    "    X_train, y_train = np.array(X_train), np.array(y_train)  \n",
    "    X_test = np.array(X_test) #added\n",
    "    X_test = np.reshape(X_test,(X_test.shape[0],X_test.shape[1],1)) #added\n",
    "    y_test = np.array(y_test)\n",
    "        \n",
    "    return X_train, X_test, y_train, y_test    "
   ]
  },
  {
   "cell_type": "code",
   "execution_count": null,
   "metadata": {},
   "outputs": [],
   "source": [
    "X_train, X_test, y_train, y_test = create_sets(training_data_len)"
   ]
  },
  {
   "cell_type": "code",
   "execution_count": null,
   "metadata": {},
   "outputs": [],
   "source": [
    "#early_stop = EarlyStopping(monitor='val_loss', patience=2)\n",
    "\n",
    "def create_model(X_train, y_train):\n",
    "    model = Sequential()\n",
    "\n",
    "    model.add(LSTM(units = 50, return_sequences = True, input_shape=(X_train.shape[1],1)))\n",
    "    model.add(Dropout(0.2))\n",
    "\n",
    "    model.add(LSTM(units = 50, return_sequences = True))\n",
    "    model.add(Dropout(0.2))\n",
    "\n",
    "    model.add(LSTM(units = 50, return_sequences = False))\n",
    "    model.add(Dropout(0.2))\n",
    "\n",
    "    model.add(Dense(units = 25))\n",
    "    model.add(Dense(units = 1))\n",
    "\n",
    "    model.compile(optimizer = 'adam', loss = 'mean_squared_error')\n",
    "\n",
    "    model.summary()\n",
    "    \n",
    "    return model\n"
   ]
  },
  {
   "cell_type": "code",
   "execution_count": null,
   "metadata": {},
   "outputs": [],
   "source": [
    "\n",
    "model = create_model(X_train,y_train)"
   ]
  },
  {
   "cell_type": "code",
   "execution_count": null,
   "metadata": {},
   "outputs": [],
   "source": [
    "#callbacks=[early_stop]\n",
    "early_stop = EarlyStopping(monitor='val_loss', patience=2)\n",
    "model.fit(X_train,y_train, epochs=10,batch_size=32,callbacks=[early_stop])     "
   ]
  },
  {
   "cell_type": "code",
   "execution_count": null,
   "metadata": {},
   "outputs": [],
   "source": [
    "def save_model():\n",
    "    model.save('model_parameters')\n",
    "    model_params = keras.models.load_model('model_parameters')\n",
    "    model_params.summary()\n",
    "\n",
    "    return model_params"
   ]
  },
  {
   "cell_type": "code",
   "execution_count": null,
   "metadata": {
    "scrolled": false
   },
   "outputs": [],
   "source": [
    "model_params = save_model()"
   ]
  },
  {
   "cell_type": "code",
   "execution_count": null,
   "metadata": {},
   "outputs": [],
   "source": [
    "def make_prediction(model, X_test, y_test,training_data_len):\n",
    "    predictions = model.predict(X_test)\n",
    "    prediction_unscaled = scaler.inverse_transform(predictions) #unscaling the values\n",
    "    \n",
    "    y_test_unscaled = scaler.inverse_transform(y_test.reshape(-1,1)) #unscaling the values\n",
    "    \n",
    "    #this is in dollars\n",
    "    rmse_predictions = np.sqrt(np.mean(prediction_unscaled -y_test_unscaled)**2)\n",
    "    rmse_predictions\n",
    "    \n",
    "    predictions = pd.DataFrame(prediction_unscaled, columns=['Predictions'])\n",
    "    \n",
    "    train = dataset[:training_data_len]\n",
    "    valid = dataset[training_data_len:] #data from index training_data_len to \n",
    "    \n",
    "    valid.reset_index(inplace=True)\n",
    "    valid['Prediction'] = predictions['Predictions']\n",
    "    valid1 = valid.set_index('Date')\n",
    "    \n",
    "    plt.figure(figsize=(12,8))\n",
    "    plt.title('Model')\n",
    "    plt.xlabel('Label')\n",
    "    plt.ylabel('Close Price USD ($)')\n",
    "    plt.plot(train['Adj Close'])\n",
    "    #plt.plot(valid[['Close','Predictions']])\n",
    "    plt.plot(valid1['Adj Close'])\n",
    "    plt.plot(valid1['Prediction'])\n",
    "    # #valid[['Close','Predictions']].plot()\n",
    "    plt.legend(['Train','Valid','Predictions'],loc='lower right')\n",
    "    return rmse_predictions, valid1\n",
    "    "
   ]
  },
  {
   "cell_type": "code",
   "execution_count": null,
   "metadata": {},
   "outputs": [],
   "source": [
    "make_prediction(model, X_test,y_test, training_data_len )"
   ]
  },
  {
   "cell_type": "code",
   "execution_count": null,
   "metadata": {},
   "outputs": [],
   "source": [
    "from sklearn import metrics"
   ]
  },
  {
   "cell_type": "code",
   "execution_count": null,
   "metadata": {},
   "outputs": [],
   "source": [
    "\"\"\"\n",
    "blue-data model was trainined on \n",
    "orange-actual closing stock price for rest of days\n",
    "green-what model predcited values to be\n",
    "\n",
    "predict closing price fo TGT stock for 2021-1-11  199.10\n",
    "\n",
    "get the quote\n",
    "\"\"\"\n",
    "def get_quote(new_df):\n",
    "    #get last 60days closing values and convert datframe to an array\n",
    "    last_60_days = new_df[-60:].values #converts to array\n",
    "    #scale data\n",
    "    last_60_days_scaled = scaler.transform(last_60_days)\n",
    "    #create empty list\n",
    "    x_test = []\n",
    "    #append last 60 days to x_test\n",
    "    x_test.append(last_60_days_scaled)\n",
    "    #conert x_test to a numpy array\n",
    "    x_test = np.array(x_test)\n",
    "    # #reshape the data\n",
    "    x_test = np.reshape(x_test, (x_test.shape[0],x_test.shape[1],1))\n",
    "    #get the predicted scaled price\n",
    "    pred_price = model.predict(x_test)\n",
    "    #undo the scaling \n",
    "    pred_price = scaler.inverse_transform(pred_price) \n",
    "    #what model thinks predicted price will be for 12/18/2019\n",
    "    #the actual prcie was $69.94\n",
    "    #DAL: 58.58, 2021-1-11 40.19\n",
    "    return pred_price                    "
   ]
  },
  {
   "cell_type": "code",
   "execution_count": null,
   "metadata": {},
   "outputs": [],
   "source": [
    "get_quote(dataset)"
   ]
  },
  {
   "cell_type": "markdown",
   "metadata": {},
   "source": [
    "## New Model"
   ]
  },
  {
   "cell_type": "code",
   "execution_count": null,
   "metadata": {},
   "outputs": [],
   "source": [
    "# the_data = get_data('AMZN',data_source='yahoo', start='2016-01-01',end='2021-1-11')\n",
    "# the_data\n",
    "# df_1 = get_data_plot(['AZN'], plot=True, start='2019',end='2021',stock_value='Adj Close')\n",
    "# df_1\n",
    "the_data_1 = get_data('TGT',data_source='yahoo', start='2019-01-01',end='2021-1-11')\n",
    "the_data_1"
   ]
  },
  {
   "cell_type": "code",
   "execution_count": null,
   "metadata": {},
   "outputs": [],
   "source": [
    "training_data_len, dataset, scaler, scaled_data = preprocessing(the_data_1['Adj Close'], percentage=.8)"
   ]
  },
  {
   "cell_type": "code",
   "execution_count": null,
   "metadata": {},
   "outputs": [],
   "source": [
    "X_train, X_test, y_train, y_test = create_sets(training_data_len)"
   ]
  },
  {
   "cell_type": "code",
   "execution_count": null,
   "metadata": {},
   "outputs": [],
   "source": [
    "model_params.summary()"
   ]
  },
  {
   "cell_type": "code",
   "execution_count": null,
   "metadata": {},
   "outputs": [],
   "source": [
    "#model.fit(X_train,y_train, epochs=50,batch_size=32,callbacks=[early_stop])  "
   ]
  },
  {
   "cell_type": "code",
   "execution_count": null,
   "metadata": {},
   "outputs": [],
   "source": [
    "make_prediction(model_params, X_test,y_test, training_data_len )"
   ]
  },
  {
   "cell_type": "code",
   "execution_count": null,
   "metadata": {},
   "outputs": [],
   "source": [
    "get_quote(dataset)"
   ]
  },
  {
   "cell_type": "markdown",
   "metadata": {},
   "source": [
    "## SARIMA MODEL\n",
    "A time series is a sequence where we record a metric over regular intervals.  Forecasting is the future value that this sequence will take.<br>\n",
    "An ARIMA model is a forecasting algorithm that takes in previous past values to predict future values.  ARIMA models use past performance to predict future performance.  Based on its own lag and lag errors.  A SARIMA model is an ARIMA model with a seasonality component.<br>"
   ]
  },
  {
   "cell_type": "code",
   "execution_count": null,
   "metadata": {},
   "outputs": [],
   "source": [
    "\"\"\"\n",
    "ARIMA is a forecasting model based on idea that information of past values may be indicative of future values.\n",
    "ARIMA explains a ts based on its own past values, basically its own lags and lagged forecast errors.\n",
    "\"\"\"\n",
    "# df_2 = web.DataReader('MRNA','yahoo','2019','2021')\n",
    "# df_2\n",
    "# df_1 = get_data_plot(ticker='AMZN', start='2019',end='2021',plot=True, stock_value='Adj Close')\n",
    "# df_1\n",
    "# data_sarima = get_data('MRNA',data_source='yahoo', start='2019-01-01',end='2021-1-11')\n",
    "# data_sarima\n",
    "the_data_1"
   ]
  },
  {
   "cell_type": "code",
   "execution_count": null,
   "metadata": {},
   "outputs": [],
   "source": [
    "#type(df_2)"
   ]
  },
  {
   "cell_type": "code",
   "execution_count": null,
   "metadata": {},
   "outputs": [],
   "source": [
    "#df_data = df_2.copy()\n",
    "df_data = pd.DataFrame(the_data_1['Adj Close'])"
   ]
  },
  {
   "cell_type": "code",
   "execution_count": null,
   "metadata": {},
   "outputs": [],
   "source": [
    "df_data.head()"
   ]
  },
  {
   "cell_type": "code",
   "execution_count": null,
   "metadata": {},
   "outputs": [],
   "source": [
    "df_data.info()"
   ]
  },
  {
   "cell_type": "markdown",
   "metadata": {},
   "source": [
    "## Train Test Split"
   ]
  },
  {
   "cell_type": "code",
   "execution_count": null,
   "metadata": {},
   "outputs": [],
   "source": [
    "#training_data_len, dataset, scaler, scaled_data = preprocessing(df_data['Adj Close'], percentage=.8)\n",
    "n = int(len(df_data) * 0.8)\n",
    "train = df_data[:n]\n",
    "test = df_data[n:]"
   ]
  },
  {
   "cell_type": "code",
   "execution_count": null,
   "metadata": {},
   "outputs": [],
   "source": [
    "#1265\n",
    "len(train), len(test)"
   ]
  },
  {
   "cell_type": "code",
   "execution_count": null,
   "metadata": {},
   "outputs": [],
   "source": [
    "train.head()"
   ]
  },
  {
   "cell_type": "code",
   "execution_count": null,
   "metadata": {},
   "outputs": [],
   "source": [
    "plt.plot(df_data.index, df_data[\"Adj Close\"])"
   ]
  },
  {
   "cell_type": "code",
   "execution_count": null,
   "metadata": {},
   "outputs": [],
   "source": [
    "import six\n",
    "import joblib\n",
    "import sys\n",
    "sys.modules['sklearn.externals.six'] = six\n",
    "sys.modules['sklearn.externals.joblib'] = joblib\n",
    "import pmdarima as pm\n",
    "from pmdarima import auto_arima"
   ]
  },
  {
   "cell_type": "code",
   "execution_count": null,
   "metadata": {},
   "outputs": [],
   "source": [
    "\"\"\"\n",
    "Need to find optimal parameters so you can fit ARIMA model.\n",
    "Forecasting using optimal parameters\n",
    "\"\"\"\n",
    "def arima_model(df):\n",
    "    \"\"\"\n",
    "    df- dataframe\n",
    "    function is a gridsearch to get optimal p,d,qs and lowest AIC for the model.\n",
    "    q-is moving average\n",
    "    \"\"\"\n",
    "    autoarima_model = auto_arima(df, start_p = 0, start_q = 0, #start_q = 0\n",
    "                              test='adf',             # use adftest to find optimal 'd'\n",
    "                              max_p = 3, max_q = 3,   # maximum p and q\n",
    "                              m = 12,                  #frequency of series \n",
    "                              d = None,               # let model determine 'd', was 1\n",
    "                              seasonal = True, \n",
    "                              start_P=0, D=1, trace = False, #start  #trace= True\n",
    "                              error_action ='ignore',   # we don't want to know if an order does not work \n",
    "                              suppress_warnings = True,  # we don't want convergence warnings \n",
    "                              stepwise = True)           # set to stepwise  \n",
    "    \n",
    "    #print('\\n')\n",
    "    #display(autoarima_model.summary())\n",
    "    \n",
    "    return autoarima_model\n"
   ]
  },
  {
   "cell_type": "code",
   "execution_count": null,
   "metadata": {},
   "outputs": [],
   "source": [
    "train.shape, test.shape"
   ]
  },
  {
   "cell_type": "code",
   "execution_count": null,
   "metadata": {},
   "outputs": [],
   "source": [
    "stepwise_fit = arima_model(train['Adj Close'])"
   ]
  },
  {
   "cell_type": "code",
   "execution_count": null,
   "metadata": {},
   "outputs": [],
   "source": [
    "stepwise_fit.summary()"
   ]
  },
  {
   "cell_type": "code",
   "execution_count": null,
   "metadata": {},
   "outputs": [],
   "source": [
    "arima_list = [['zipcode', 'pdq','seasonal_pdq','aic']] \n",
    "for col in df_data.columns:\n",
    "  zip_test_2 = arima_model(df_data[col])\n",
    "  arima_list.append([col,zip_test_2.order, zip_test_2.seasonal_order, zip_test_2.aic()])\n",
    "#result   \n",
    "output_df = pd.DataFrame(arima_list[1:],columns=arima_list[0]) \n",
    "output_df  "
   ]
  },
  {
   "cell_type": "code",
   "execution_count": null,
   "metadata": {},
   "outputs": [],
   "source": [
    "import statsmodels.api as sm"
   ]
  },
  {
   "cell_type": "code",
   "execution_count": null,
   "metadata": {},
   "outputs": [],
   "source": [
    "def fit_ARIMA(df, order=None, seasonal_order=None):\n",
    "    \"\"\"\n",
    "    forecasting statsmodel SARIMAX model\n",
    "    \"\"\"\n",
    "    ARIMA_MODEL = sm.tsa.statespace.SARIMAX(df, \n",
    "                                        order=order, \n",
    "                                        seasonal_order=seasonal_order, \n",
    "                                        enforce_stationarity=False, \n",
    "                                        enforce_invertibility=False)\n",
    "\n",
    "    # Fit the model and print results\n",
    "    output = ARIMA_MODEL.fit()\n",
    "\n",
    "    #display / no tables 1\n",
    "    display(output.summary())\n",
    "    \n",
    "    print('\\n')\n",
    "    print('MODEL DIAGNOSTICS')\n",
    "    \n",
    "    output.plot_diagnostics(figsize=(15, 18));\n",
    "    plt.show()\n",
    "    \n",
    "    return output"
   ]
  },
  {
   "cell_type": "code",
   "execution_count": null,
   "metadata": {},
   "outputs": [],
   "source": [
    "train['Adj Close'][[0,-1]]"
   ]
  },
  {
   "cell_type": "code",
   "execution_count": null,
   "metadata": {},
   "outputs": [],
   "source": [
    "test['Adj Close'][[0,-1]]"
   ]
  },
  {
   "cell_type": "code",
   "execution_count": null,
   "metadata": {},
   "outputs": [],
   "source": [
    "test"
   ]
  },
  {
   "cell_type": "code",
   "execution_count": null,
   "metadata": {},
   "outputs": [],
   "source": [
    "current_zip = 'Adj Close'\n",
    "zip_params= output_df[output_df['zipcode']==current_zip]\n",
    "zip_params.pdq.values[0]\n",
    "zip_params.seasonal_pdq.values[0]\n",
    "\n",
    "output_sarima = fit_ARIMA(df_data[current_zip],order=zip_params.pdq.values[0], seasonal_order= zip_params.seasonal_pdq.values[0] )\n",
    "# Get dynamic predictions with confidence intervals as above \n",
    "\n",
    "pred = output_sarima.get_prediction(start=pd.to_datetime('2020-01-10'), dynamic=False)\n",
    "pred_conf = pred.conf_int()"
   ]
  },
  {
   "cell_type": "code",
   "execution_count": null,
   "metadata": {},
   "outputs": [],
   "source": [
    "from matplotlib.pylab import rcParams"
   ]
  },
  {
   "cell_type": "code",
   "execution_count": null,
   "metadata": {},
   "outputs": [],
   "source": [
    "\"\"\"\n",
    "\n",
    "ax = CO2['1990':].plot(label='observed')\n",
    "\n",
    "# Plot predicted values\n",
    "pred.predicted_mean.plot(ax=ax, label='One-step ahead Forecast', alpha=0.9)\n",
    "\n",
    "# Plot the range for confidence intervals\n",
    "ax.fill_between(pred_conf.index,\n",
    "                pred_conf.iloc[:, 0],\n",
    "                pred_conf.iloc[:, 1], color='g', alpha=0.5)\n",
    "\n",
    "# Set axes labels\n",
    "ax.set_xlabel('Date')\n",
    "ax.set_ylabel('CO2 Levels')\n",
    "plt.legend()\n",
    "\n",
    "plt.show()\n",
    "\n",
    "\n",
    "\"\"\"\n",
    "\n",
    "\n",
    "rcParams['figure.figsize'] = 15, 6\n",
    "#plt.figure(figsize=(12,5))\n",
    "# Plot observed values\n",
    "ax = train['Adj Close']['2019':].plot(label='observed')#\n",
    "test['Adj Close']['2019':].plot()#label='Test'\n",
    "# Plot predicted values\n",
    "pred.predicted_mean.plot(ax=ax, label='One-step ahead Forecast', alpha=0.9)\n",
    "\n",
    "# Plot the range for confidence intervals\n",
    "ax.fill_between(pred_conf.index,\n",
    "                pred_conf.iloc[:, 0],\n",
    "                pred_conf.iloc[:, 1], color='g', alpha=0.5)\n",
    "\n",
    "# Set axes labels\n",
    "ax.set_xlabel('Date')\n",
    "ax.set_ylabel('Sale Price')\n",
    "plt.legend()\n"
   ]
  },
  {
   "cell_type": "code",
   "execution_count": null,
   "metadata": {},
   "outputs": [],
   "source": [
    "# Get the real and predicted values\n",
    "forecasted_11238 = pred.predicted_mean\n",
    "truth_1128 =test['Adj Close']['1996':]\n",
    "\n",
    "# Compute the root mean square error\n",
    "mse = ((forecasted_11238 - truth_1128) ** 2).mean()\n",
    "print('The Mean Squared Error of our forecasts is {}'.format(round(mse, 2)))\n",
    "#np.sqrt(np.mean((predictions-targets)**2))\n",
    "rmse = np.sqrt(np.mean((forecasted_11238 - truth_1128) ** 2))\n",
    "print('The Root Mean Squared Error of our forecasts is {}'.format(round(rmse, 2)))"
   ]
  },
  {
   "cell_type": "code",
   "execution_count": null,
   "metadata": {},
   "outputs": [],
   "source": [
    "current_zip = 'Adj Close'\n",
    "zip_params = output_df[output_df['zipcode']==current_zip]\n",
    "zip_params.pdq.values[0]\n",
    "zip_params.seasonal_pdq.values[0]\n",
    "\n",
    "output_sarima = fit_ARIMA(df_data[current_zip],order=zip_params.pdq.values[0] ,seasonal_order= zip_params.seasonal_pdq.values[0] )\n",
    "# Get dynamic predictions with confidence intervals as above \n",
    "pred_dynamic = output_sarima.get_prediction(start=pd.to_datetime('2020-01-10'), dynamic=True,full_results=True)\n",
    "pred_dynamic_conf = pred_dynamic.conf_int()"
   ]
  },
  {
   "cell_type": "code",
   "execution_count": null,
   "metadata": {},
   "outputs": [],
   "source": [
    "def prediction_vis(pred_dynamic,pred_dynamic_conf, y):\n",
    "  # Plot the dynamic forecast with confidence intervals.\n",
    "  plt.figure(figsize=(12,5))\n",
    "  # Plot observed values\n",
    "  ax = y.plot(label='Observed')\n",
    "\n",
    "  # Plot predicted values\n",
    "  pred_dynamic.predicted_mean.plot(ax=ax, label='Dynamic Forecast', alpha=0.9)\n",
    "\n",
    "  # Plot the range for confidence intervals\n",
    "  ax.fill_between(pred_dynamic_conf.index,\n",
    "                  pred_dynamic_conf.iloc[:, 0],\n",
    "                  pred_dynamic_conf.iloc[:, 1], color='g', alpha=0.5)\n",
    "\n",
    "  # Set axes labels\n",
    "  ax.set_xlabel('Date')\n",
    "  ax.set_ylabel('Sale Price')\n",
    "  plt.legend()\n",
    "\n",
    "  return ax"
   ]
  },
  {
   "cell_type": "code",
   "execution_count": null,
   "metadata": {},
   "outputs": [],
   "source": [
    "prediction_visual = prediction_vis(pred_dynamic,pred_dynamic_conf,train[current_zip])\n",
    "prediction_visual"
   ]
  },
  {
   "cell_type": "code",
   "execution_count": null,
   "metadata": {},
   "outputs": [],
   "source": [
    "# Get the real and predicted values\n",
    "forecast_11238 = pred_dynamic.predicted_mean\n",
    "truth_11238 = train[current_zip]#['1996':]\n",
    "\n",
    "# Compute the mean square error\n",
    "mse = ((forecast_11238 - truth_11238) ** 2).mean()\n",
    "print('The Mean Squared Error of our forecasts is {}'.format(round(mse, 2)))\n",
    "#np.sqrt(np.mean((predictions-targets)**2))\n",
    "rmse = np.sqrt(np.mean((forecast_11238 - truth_11238) ** 2))\n",
    "print('The Root Mean Squared Error of our forecasts is {}'.format(round(rmse, 2)))"
   ]
  },
  {
   "cell_type": "code",
   "execution_count": null,
   "metadata": {},
   "outputs": [],
   "source": []
  }
 ],
 "metadata": {
  "kernelspec": {
   "display_name": "Python 3",
   "language": "python",
   "name": "python3"
  },
  "language_info": {
   "codemirror_mode": {
    "name": "ipython",
    "version": 3
   },
   "file_extension": ".py",
   "mimetype": "text/x-python",
   "name": "python",
   "nbconvert_exporter": "python",
   "pygments_lexer": "ipython3",
   "version": "3.6.9"
  },
  "toc": {
   "base_numbering": 1,
   "nav_menu": {},
   "number_sections": true,
   "sideBar": true,
   "skip_h1_title": false,
   "title_cell": "Table of Contents",
   "title_sidebar": "Contents",
   "toc_cell": false,
   "toc_position": {},
   "toc_section_display": true,
   "toc_window_display": true
  }
 },
 "nbformat": 4,
 "nbformat_minor": 4
}
