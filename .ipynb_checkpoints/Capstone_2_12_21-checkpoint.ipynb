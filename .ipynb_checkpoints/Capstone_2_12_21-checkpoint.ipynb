{
 "cells": [
  {
   "cell_type": "code",
   "execution_count": 1,
   "metadata": {},
   "outputs": [
    {
     "name": "stderr",
     "output_type": "stream",
     "text": [
      "Using Theano backend.\n"
     ]
    }
   ],
   "source": [
    "import pandas as pd\n",
    "import numpy as np\n",
    "import matplotlib.pyplot as plt\n",
    "%matplotlib inline\n",
    "\n",
    "from sklearn.preprocessing import MinMaxScaler\n",
    "\n",
    "import math\n",
    "\n",
    "import plotly.express as px\n",
    "\n",
    "import pandas_datareader.data as web\n",
    "\n",
    "from keras.callbacks import EarlyStopping\n",
    "\n",
    "import keras\n",
    "from keras.models import load_model\n",
    "from keras.preprocessing.sequence import TimeseriesGenerator\n",
    "#from tensorflow import keras\n",
    "from keras.models import Sequential\n",
    "from keras.layers import Dense\n",
    "from keras.layers import LSTM\n",
    "from keras.layers import Dropout\n",
    "\n",
    "from sklearn.metrics import mean_squared_error"
   ]
  },
  {
   "cell_type": "code",
   "execution_count": 2,
   "metadata": {},
   "outputs": [],
   "source": [
    "from datetime import date\n",
    "today = date.today()\n",
    "def multiple_stock_data(ticker=None, start=None, end=None, plot=True, stock_value=None):\n",
    "    \n",
    "    try:\n",
    "        #stock = pdr.get_data_yahoo(ticker,start,end)\n",
    "        data = {}\n",
    "        for stock in ticker:\n",
    "            data = web.DataReader(stock,'yahoo',start,end)[stock_value]\n",
    "        df_1 = pd.DataFrame(data)#.reset_index()\n",
    "        if plot==True:\n",
    "            df_1.plot(figsize=(12,8))\n",
    "            plt.title(\"Stock Adjusted Price Historical Data\")\n",
    "            plt.xlabel('Dates')\n",
    "            plt.ylabel('Stock Prices')\n",
    "            plt.legend(bbox_to_anchor=(1.05,1),loc='upper left') \n",
    "        \n",
    "        return df_1\n",
    "     \n",
    "    except Exception as e:\n",
    "        print(\"Error occured:\", e)\n",
    "        #data = 'Incorrect Symbol'\n"
   ]
  },
  {
   "cell_type": "code",
   "execution_count": 3,
   "metadata": {},
   "outputs": [],
   "source": [
    "def single_stock_data(symbol, start,end=None,plot=True,stock_value='Adj Close'):\n",
    "    \n",
    "    try:\n",
    "        \n",
    "        df = web.DataReader(symbol,'yahoo', start, end)\n",
    "        df_single = pd.DataFrame(df)\n",
    "        print(\"Dataframe has {} rows and {} columns\".format(df_single.shape[0],df_single.shape[1]))\n",
    "        print()\n",
    "        if plot==True:\n",
    "            plt.figure(figsize=(12,8))\n",
    "            plt.plot(df_single[stock_value])\n",
    "            label_font = {'weight':'bold','size':18}\n",
    "            plt.xlabel('Date',fontdict=label_font)\n",
    "            plt.ylabel('Close Price USD ($)',fontdict=label_font)\n",
    "            plt.title(f'Historical {stock_value} Price for {symbol}',fontdict=label_font)\n",
    "            #plot = go.Scatter(x=df_single.index, y=df_single['Adj Close'])\n",
    "            \n",
    "        return df_single\n",
    "\n",
    "    except Exception as e:\n",
    "        print(\"Error occured:\", e)\n",
    "        #data = 'Incorrect Symbol'\n"
   ]
  },
  {
   "cell_type": "markdown",
   "metadata": {},
   "source": [
    "## Forecasting\n",
    "### Long Short Term Memory (LSTM)"
   ]
  },
  {
   "cell_type": "code",
   "execution_count": 4,
   "metadata": {},
   "outputs": [
    {
     "name": "stdout",
     "output_type": "stream",
     "text": [
      "Dataframe has 534 rows and 6 columns\n",
      "\n"
     ]
    },
    {
     "data": {
      "text/html": [
       "<div>\n",
       "<style scoped>\n",
       "    .dataframe tbody tr th:only-of-type {\n",
       "        vertical-align: middle;\n",
       "    }\n",
       "\n",
       "    .dataframe tbody tr th {\n",
       "        vertical-align: top;\n",
       "    }\n",
       "\n",
       "    .dataframe thead th {\n",
       "        text-align: right;\n",
       "    }\n",
       "</style>\n",
       "<table border=\"1\" class=\"dataframe\">\n",
       "  <thead>\n",
       "    <tr style=\"text-align: right;\">\n",
       "      <th></th>\n",
       "      <th>High</th>\n",
       "      <th>Low</th>\n",
       "      <th>Open</th>\n",
       "      <th>Close</th>\n",
       "      <th>Volume</th>\n",
       "      <th>Adj Close</th>\n",
       "    </tr>\n",
       "    <tr>\n",
       "      <th>Date</th>\n",
       "      <th></th>\n",
       "      <th></th>\n",
       "      <th></th>\n",
       "      <th></th>\n",
       "      <th></th>\n",
       "      <th></th>\n",
       "    </tr>\n",
       "  </thead>\n",
       "  <tbody>\n",
       "    <tr>\n",
       "      <th>2019-01-02</th>\n",
       "      <td>41.271347</td>\n",
       "      <td>40.455406</td>\n",
       "      <td>40.910816</td>\n",
       "      <td>41.034157</td>\n",
       "      <td>26430315.0</td>\n",
       "      <td>37.603287</td>\n",
       "    </tr>\n",
       "    <tr>\n",
       "      <th>2019-01-03</th>\n",
       "      <td>41.119545</td>\n",
       "      <td>39.800758</td>\n",
       "      <td>41.024670</td>\n",
       "      <td>39.886147</td>\n",
       "      <td>28503533.0</td>\n",
       "      <td>36.551258</td>\n",
       "    </tr>\n",
       "    <tr>\n",
       "      <th>2019-01-04</th>\n",
       "      <td>41.129032</td>\n",
       "      <td>40.094875</td>\n",
       "      <td>40.265656</td>\n",
       "      <td>40.796963</td>\n",
       "      <td>27145348.0</td>\n",
       "      <td>37.385921</td>\n",
       "    </tr>\n",
       "    <tr>\n",
       "      <th>2019-01-07</th>\n",
       "      <td>41.385201</td>\n",
       "      <td>40.664139</td>\n",
       "      <td>40.863377</td>\n",
       "      <td>41.015179</td>\n",
       "      <td>20995469.0</td>\n",
       "      <td>37.585892</td>\n",
       "    </tr>\n",
       "    <tr>\n",
       "      <th>2019-01-08</th>\n",
       "      <td>41.461102</td>\n",
       "      <td>40.939278</td>\n",
       "      <td>41.328274</td>\n",
       "      <td>41.204933</td>\n",
       "      <td>19677231.0</td>\n",
       "      <td>37.759781</td>\n",
       "    </tr>\n",
       "    <tr>\n",
       "      <th>...</th>\n",
       "      <td>...</td>\n",
       "      <td>...</td>\n",
       "      <td>...</td>\n",
       "      <td>...</td>\n",
       "      <td>...</td>\n",
       "      <td>...</td>\n",
       "    </tr>\n",
       "    <tr>\n",
       "      <th>2021-02-08</th>\n",
       "      <td>35.009998</td>\n",
       "      <td>34.740002</td>\n",
       "      <td>34.959999</td>\n",
       "      <td>34.820000</td>\n",
       "      <td>31633900.0</td>\n",
       "      <td>34.820000</td>\n",
       "    </tr>\n",
       "    <tr>\n",
       "      <th>2021-02-09</th>\n",
       "      <td>35.060001</td>\n",
       "      <td>34.759998</td>\n",
       "      <td>34.799999</td>\n",
       "      <td>34.970001</td>\n",
       "      <td>30170200.0</td>\n",
       "      <td>34.970001</td>\n",
       "    </tr>\n",
       "    <tr>\n",
       "      <th>2021-02-10</th>\n",
       "      <td>35.080002</td>\n",
       "      <td>34.700001</td>\n",
       "      <td>35.000000</td>\n",
       "      <td>34.740002</td>\n",
       "      <td>29039900.0</td>\n",
       "      <td>34.740002</td>\n",
       "    </tr>\n",
       "    <tr>\n",
       "      <th>2021-02-11</th>\n",
       "      <td>34.810001</td>\n",
       "      <td>34.279999</td>\n",
       "      <td>34.799999</td>\n",
       "      <td>34.430000</td>\n",
       "      <td>30845500.0</td>\n",
       "      <td>34.430000</td>\n",
       "    </tr>\n",
       "    <tr>\n",
       "      <th>2021-02-12</th>\n",
       "      <td>34.950001</td>\n",
       "      <td>34.360001</td>\n",
       "      <td>34.439999</td>\n",
       "      <td>34.779999</td>\n",
       "      <td>15693315.0</td>\n",
       "      <td>34.779999</td>\n",
       "    </tr>\n",
       "  </tbody>\n",
       "</table>\n",
       "<p>534 rows × 6 columns</p>\n",
       "</div>"
      ],
      "text/plain": [
       "                 High        Low       Open      Close      Volume  Adj Close\n",
       "Date                                                                         \n",
       "2019-01-02  41.271347  40.455406  40.910816  41.034157  26430315.0  37.603287\n",
       "2019-01-03  41.119545  39.800758  41.024670  39.886147  28503533.0  36.551258\n",
       "2019-01-04  41.129032  40.094875  40.265656  40.796963  27145348.0  37.385921\n",
       "2019-01-07  41.385201  40.664139  40.863377  41.015179  20995469.0  37.585892\n",
       "2019-01-08  41.461102  40.939278  41.328274  41.204933  19677231.0  37.759781\n",
       "...               ...        ...        ...        ...         ...        ...\n",
       "2021-02-08  35.009998  34.740002  34.959999  34.820000  31633900.0  34.820000\n",
       "2021-02-09  35.060001  34.759998  34.799999  34.970001  30170200.0  34.970001\n",
       "2021-02-10  35.080002  34.700001  35.000000  34.740002  29039900.0  34.740002\n",
       "2021-02-11  34.810001  34.279999  34.799999  34.430000  30845500.0  34.430000\n",
       "2021-02-12  34.950001  34.360001  34.439999  34.779999  15693315.0  34.779999\n",
       "\n",
       "[534 rows x 6 columns]"
      ]
     },
     "execution_count": 4,
     "metadata": {},
     "output_type": "execute_result"
    },
    {
     "data": {
      "image/png": "[encoded data removed]",
      "text/plain": [
       "<Figure size 864x576 with 1 Axes>"
      ]
     },
     "metadata": {
      "needs_background": "light"
     },
     "output_type": "display_data"
    }
   ],
   "source": [
    "#start='01-01-2019',end='today',\n",
    "df = single_stock_data('PFE', start='01-01-2019',end='today',plot=True,stock_value='Adj Close')\n",
    "df"
   ]
  },
  {
   "cell_type": "code",
   "execution_count": 5,
   "metadata": {},
   "outputs": [],
   "source": [
    "df_1 = df['Adj Close']\n",
    "df_data = pd.DataFrame(df_1)#.values.astype('float32')"
   ]
  },
  {
   "cell_type": "code",
   "execution_count": 6,
   "metadata": {},
   "outputs": [
    {
     "data": {
      "text/html": [
       "<div>\n",
       "<style scoped>\n",
       "    .dataframe tbody tr th:only-of-type {\n",
       "        vertical-align: middle;\n",
       "    }\n",
       "\n",
       "    .dataframe tbody tr th {\n",
       "        vertical-align: top;\n",
       "    }\n",
       "\n",
       "    .dataframe thead th {\n",
       "        text-align: right;\n",
       "    }\n",
       "</style>\n",
       "<table border=\"1\" class=\"dataframe\">\n",
       "  <thead>\n",
       "    <tr style=\"text-align: right;\">\n",
       "      <th></th>\n",
       "      <th>Adj Close</th>\n",
       "    </tr>\n",
       "    <tr>\n",
       "      <th>Date</th>\n",
       "      <th></th>\n",
       "    </tr>\n",
       "  </thead>\n",
       "  <tbody>\n",
       "    <tr>\n",
       "      <th>2019-01-02</th>\n",
       "      <td>37.603287</td>\n",
       "    </tr>\n",
       "    <tr>\n",
       "      <th>2019-01-03</th>\n",
       "      <td>36.551258</td>\n",
       "    </tr>\n",
       "    <tr>\n",
       "      <th>2019-01-04</th>\n",
       "      <td>37.385921</td>\n",
       "    </tr>\n",
       "    <tr>\n",
       "      <th>2019-01-07</th>\n",
       "      <td>37.585892</td>\n",
       "    </tr>\n",
       "    <tr>\n",
       "      <th>2019-01-08</th>\n",
       "      <td>37.759781</td>\n",
       "    </tr>\n",
       "    <tr>\n",
       "      <th>...</th>\n",
       "      <td>...</td>\n",
       "    </tr>\n",
       "    <tr>\n",
       "      <th>2021-02-08</th>\n",
       "      <td>34.820000</td>\n",
       "    </tr>\n",
       "    <tr>\n",
       "      <th>2021-02-09</th>\n",
       "      <td>34.970001</td>\n",
       "    </tr>\n",
       "    <tr>\n",
       "      <th>2021-02-10</th>\n",
       "      <td>34.740002</td>\n",
       "    </tr>\n",
       "    <tr>\n",
       "      <th>2021-02-11</th>\n",
       "      <td>34.430000</td>\n",
       "    </tr>\n",
       "    <tr>\n",
       "      <th>2021-02-12</th>\n",
       "      <td>34.779999</td>\n",
       "    </tr>\n",
       "  </tbody>\n",
       "</table>\n",
       "<p>534 rows × 1 columns</p>\n",
       "</div>"
      ],
      "text/plain": [
       "            Adj Close\n",
       "Date                 \n",
       "2019-01-02  37.603287\n",
       "2019-01-03  36.551258\n",
       "2019-01-04  37.385921\n",
       "2019-01-07  37.585892\n",
       "2019-01-08  37.759781\n",
       "...               ...\n",
       "2021-02-08  34.820000\n",
       "2021-02-09  34.970001\n",
       "2021-02-10  34.740002\n",
       "2021-02-11  34.430000\n",
       "2021-02-12  34.779999\n",
       "\n",
       "[534 rows x 1 columns]"
      ]
     },
     "execution_count": 6,
     "metadata": {},
     "output_type": "execute_result"
    }
   ],
   "source": [
    "df_data"
   ]
  },
  {
   "cell_type": "code",
   "execution_count": 7,
   "metadata": {},
   "outputs": [
    {
     "data": {
      "text/plain": [
       "-0.00493522186683415"
      ]
     },
     "execution_count": 7,
     "metadata": {},
     "output_type": "execute_result"
    }
   ],
   "source": [
    "(24.905140 / 25.028662) -1"
   ]
  },
  {
   "cell_type": "code",
   "execution_count": 9,
   "metadata": {},
   "outputs": [],
   "source": [
    "def delta_time_series(data):\n",
    "    data_1 = data.pct_change(1)\n",
    "    data_1 = data_1.rename(columns={\"Adj Close\": \"Percent_Chg\"})\n",
    "    #return data[1:]- data[:-1]\n",
    "    data_1 = data_1.dropna()\n",
    "    return data_1"
   ]
  },
  {
   "cell_type": "code",
   "execution_count": 10,
   "metadata": {},
   "outputs": [
    {
     "data": {
      "text/html": [
       "<div>\n",
       "<style scoped>\n",
       "    .dataframe tbody tr th:only-of-type {\n",
       "        vertical-align: middle;\n",
       "    }\n",
       "\n",
       "    .dataframe tbody tr th {\n",
       "        vertical-align: top;\n",
       "    }\n",
       "\n",
       "    .dataframe thead th {\n",
       "        text-align: right;\n",
       "    }\n",
       "</style>\n",
       "<table border=\"1\" class=\"dataframe\">\n",
       "  <thead>\n",
       "    <tr style=\"text-align: right;\">\n",
       "      <th></th>\n",
       "      <th>Percent_Chg</th>\n",
       "    </tr>\n",
       "    <tr>\n",
       "      <th>Date</th>\n",
       "      <th></th>\n",
       "    </tr>\n",
       "  </thead>\n",
       "  <tbody>\n",
       "    <tr>\n",
       "      <th>2019-01-03</th>\n",
       "      <td>-0.027977</td>\n",
       "    </tr>\n",
       "    <tr>\n",
       "      <th>2019-01-04</th>\n",
       "      <td>0.022835</td>\n",
       "    </tr>\n",
       "    <tr>\n",
       "      <th>2019-01-07</th>\n",
       "      <td>0.005349</td>\n",
       "    </tr>\n",
       "    <tr>\n",
       "      <th>2019-01-08</th>\n",
       "      <td>0.004626</td>\n",
       "    </tr>\n",
       "    <tr>\n",
       "      <th>2019-01-09</th>\n",
       "      <td>-0.002072</td>\n",
       "    </tr>\n",
       "    <tr>\n",
       "      <th>...</th>\n",
       "      <td>...</td>\n",
       "    </tr>\n",
       "    <tr>\n",
       "      <th>2021-02-08</th>\n",
       "      <td>-0.002864</td>\n",
       "    </tr>\n",
       "    <tr>\n",
       "      <th>2021-02-09</th>\n",
       "      <td>0.004308</td>\n",
       "    </tr>\n",
       "    <tr>\n",
       "      <th>2021-02-10</th>\n",
       "      <td>-0.006577</td>\n",
       "    </tr>\n",
       "    <tr>\n",
       "      <th>2021-02-11</th>\n",
       "      <td>-0.008923</td>\n",
       "    </tr>\n",
       "    <tr>\n",
       "      <th>2021-02-12</th>\n",
       "      <td>0.010166</td>\n",
       "    </tr>\n",
       "  </tbody>\n",
       "</table>\n",
       "<p>533 rows × 1 columns</p>\n",
       "</div>"
      ],
      "text/plain": [
       "            Percent_Chg\n",
       "Date                   \n",
       "2019-01-03    -0.027977\n",
       "2019-01-04     0.022835\n",
       "2019-01-07     0.005349\n",
       "2019-01-08     0.004626\n",
       "2019-01-09    -0.002072\n",
       "...                 ...\n",
       "2021-02-08    -0.002864\n",
       "2021-02-09     0.004308\n",
       "2021-02-10    -0.006577\n",
       "2021-02-11    -0.008923\n",
       "2021-02-12     0.010166\n",
       "\n",
       "[533 rows x 1 columns]"
      ]
     },
     "execution_count": 10,
     "metadata": {},
     "output_type": "execute_result"
    }
   ],
   "source": [
    "dataset_delta_AMAZN = delta_time_series(df_data)\n",
    "dataset_delta_AMAZN"
   ]
  },
  {
   "cell_type": "code",
   "execution_count": 11,
   "metadata": {},
   "outputs": [],
   "source": [
    "#df_data.shape"
   ]
  },
  {
   "cell_type": "code",
   "execution_count": 12,
   "metadata": {},
   "outputs": [],
   "source": [
    "def plot_delta(data,symbol=None):\n",
    "    plt.figure(figsize=(12,6))\n",
    "    #plt.plot(delta_time_series(data))\n",
    "    plt.plot(data)\n",
    "    label_font = {'weight':'bold','size':18}\n",
    "    plt.title('Daily Percentage Price Change',fontdict=label_font)\n",
    "    plt.xlabel('Dates',fontdict=label_font)\n",
    "    plt.ylabel('close')\n",
    "    plt.show()"
   ]
  },
  {
   "cell_type": "code",
   "execution_count": 13,
   "metadata": {},
   "outputs": [
    {
     "data": {
      "image/png": "[encoded data removed]",
      "text/plain": [
       "<Figure size 864x432 with 1 Axes>"
      ]
     },
     "metadata": {
      "needs_background": "light"
     },
     "output_type": "display_data"
    }
   ],
   "source": [
    "plot_delta(dataset_delta_AMAZN)"
   ]
  },
  {
   "cell_type": "code",
   "execution_count": 14,
   "metadata": {},
   "outputs": [],
   "source": [
    "def get_y_from_generator(gen):\n",
    "    '''\n",
    "    Get all targets y from a TimeseriesGenerator instance.\n",
    "    '''\n",
    "    y = None\n",
    "    for i in range(len(gen)):\n",
    "        batch_y = gen[i][1]\n",
    "        if y is None:\n",
    "            y = batch_y\n",
    "        else:\n",
    "            y = np.append(y, batch_y)\n",
    "    y = y.reshape((-1,1))\n",
    "    print(y.shape)\n",
    "    return y"
   ]
  },
  {
   "cell_type": "code",
   "execution_count": 15,
   "metadata": {},
   "outputs": [],
   "source": [
    "def binary_accuracy(a, b):\n",
    "    '''\n",
    "    Helper function to compute the match score of two \n",
    "    binary numpy arrays.\n",
    "    '''\n",
    "    assert len(a) == len(b)\n",
    "    return (a == b).sum() / len(a)"
   ]
  },
  {
   "cell_type": "code",
   "execution_count": 16,
   "metadata": {},
   "outputs": [],
   "source": [
    "#train1, test = train_test_split(df_data, test_size= 0.15, random_state=42)\n",
    "#train, val = train_test_split(train1,test_size=0.15,random_state=42)"
   ]
  },
  {
   "cell_type": "code",
   "execution_count": 17,
   "metadata": {},
   "outputs": [],
   "source": [
    "# #  normalize the dataset\n",
    "# scaler = MinMaxScaler(feature_range=(0, 1))\n",
    "# train_scaled = scaler.fit_transform(train)\n",
    "# val_scaled = scaler.transform(val)\n",
    "# test_scaled = scaler.transform(test)"
   ]
  },
  {
   "cell_type": "code",
   "execution_count": 18,
   "metadata": {},
   "outputs": [],
   "source": [
    "# normalize the dataset\n",
    "scaler = MinMaxScaler(feature_range=(0, 1))\n",
    "dataset = scaler.fit_transform(dataset_delta_AMAZN)\n",
    "# split into train and test sets\n",
    "train_size = int(len(dataset) * 0.80)#0.67\n",
    "test_size = len(dataset) - train_size\n",
    "train, test = dataset[0:train_size,:], dataset[train_size:len(dataset),:]"
   ]
  },
  {
   "cell_type": "code",
   "execution_count": 19,
   "metadata": {},
   "outputs": [
    {
     "data": {
      "text/plain": [
       "((426, 1), (107, 1))"
      ]
     },
     "execution_count": 19,
     "metadata": {},
     "output_type": "execute_result"
    }
   ],
   "source": [
    "train.shape, test.shape, "
   ]
  },
  {
   "cell_type": "code",
   "execution_count": 20,
   "metadata": {},
   "outputs": [],
   "source": [
    "look_back = 3"
   ]
  },
  {
   "cell_type": "code",
   "execution_count": 21,
   "metadata": {},
   "outputs": [],
   "source": [
    "train_data_gen = TimeseriesGenerator(train, train,\n",
    "                               length=look_back, sampling_rate=1,stride=1,\n",
    "                               batch_size=3)"
   ]
  },
  {
   "cell_type": "code",
   "execution_count": 22,
   "metadata": {},
   "outputs": [],
   "source": [
    "val_data_gen = TimeseriesGenerator(test, test,\n",
    "                               length=look_back, sampling_rate=1,stride=1,\n",
    "                               batch_size=3)"
   ]
  },
  {
   "cell_type": "code",
   "execution_count": 23,
   "metadata": {},
   "outputs": [],
   "source": [
    "test_data_gen = TimeseriesGenerator(test, test,\n",
    "                               length=look_back, sampling_rate=1,stride=1,\n",
    "                               batch_size=1)"
   ]
  },
  {
   "cell_type": "code",
   "execution_count": 24,
   "metadata": {},
   "outputs": [
    {
     "name": "stdout",
     "output_type": "stream",
     "text": [
      "Model: \"sequential_1\"\n",
      "_________________________________________________________________\n",
      "Layer (type)                 Output Shape              Param #   \n",
      "=================================================================\n",
      "lstm_1 (LSTM)                (None, 3, 50)             10400     \n",
      "_________________________________________________________________\n",
      "dropout_1 (Dropout)          (None, 3, 50)             0         \n",
      "_________________________________________________________________\n",
      "lstm_2 (LSTM)                (None, 3, 50)             20200     \n",
      "_________________________________________________________________\n",
      "dropout_2 (Dropout)          (None, 3, 50)             0         \n",
      "_________________________________________________________________\n",
      "lstm_3 (LSTM)                (None, 50)                20200     \n",
      "_________________________________________________________________\n",
      "dropout_3 (Dropout)          (None, 50)                0         \n",
      "_________________________________________________________________\n",
      "dense_1 (Dense)              (None, 25)                1275      \n",
      "_________________________________________________________________\n",
      "dense_2 (Dense)              (None, 1)                 26        \n",
      "=================================================================\n",
      "Total params: 52,101\n",
      "Trainable params: 52,101\n",
      "Non-trainable params: 0\n",
      "_________________________________________________________________\n"
     ]
    }
   ],
   "source": [
    "# model = Sequential()\n",
    "# model.add(LSTM(4, input_shape=(look_back, 1)))\n",
    "# model.add(Dense(1))\n",
    "# model.compile(loss='mean_squared_error', optimizer='adam')\n",
    "\n",
    "model = Sequential()\n",
    "\n",
    "model.add(LSTM(units = 50, return_sequences = True, input_shape=(look_back,1)))\n",
    "model.add(Dropout(0.2))\n",
    "\n",
    "model.add(LSTM(units = 50, return_sequences = True))\n",
    "model.add(Dropout(0.2))\n",
    "\n",
    "model.add(LSTM(units = 50, return_sequences = False))\n",
    "model.add(Dropout(0.2))\n",
    "\n",
    "model.add(Dense(units = 25))\n",
    "model.add(Dense(units = 1))\n",
    "\n",
    "model.compile(optimizer = 'adam', loss = 'mean_squared_error')\n",
    "\n",
    "model.summary()    "
   ]
  },
  {
   "cell_type": "code",
   "execution_count": null,
   "metadata": {},
   "outputs": [],
   "source": [
    "early_stop = EarlyStopping(monitor='val_loss', patience=3)\n",
    "# hist = model.fit(X_train,y_train, epochs=10,batch_size=32,callbacks=[early_stop],validation_split=0.1)     \n",
    "hist = model.fit_generator(train_data_gen, epochs=50,validation_data=val_data_gen,callbacks=[early_stop])"
   ]
  },
  {
   "cell_type": "code",
   "execution_count": null,
   "metadata": {},
   "outputs": [],
   "source": [
    "model.evaluate_generator(test_data_gen)"
   ]
  },
  {
   "cell_type": "code",
   "execution_count": null,
   "metadata": {},
   "outputs": [],
   "source": [
    "pd.DataFrame(hist.history).plot()"
   ]
  },
  {
   "cell_type": "code",
   "execution_count": null,
   "metadata": {},
   "outputs": [],
   "source": [
    "def save_model():\n",
    "    model.save('model_parameters')\n",
    "    model_params = keras.models.load_model('model_parameters')\n",
    "    model_params.summary()\n",
    "\n",
    "    return model_params"
   ]
  },
  {
   "cell_type": "code",
   "execution_count": null,
   "metadata": {},
   "outputs": [],
   "source": [
    "model_params = save_model()"
   ]
  },
  {
   "cell_type": "code",
   "execution_count": null,
   "metadata": {},
   "outputs": [],
   "source": [
    "trainPredict = model.predict_generator(train_data_gen)\n",
    "trainPredict.shape"
   ]
  },
  {
   "cell_type": "code",
   "execution_count": null,
   "metadata": {},
   "outputs": [],
   "source": [
    "testPredict = model.predict_generator(test_data_gen)\n",
    "testPredict.shape"
   ]
  },
  {
   "cell_type": "code",
   "execution_count": null,
   "metadata": {},
   "outputs": [],
   "source": [
    "# invert predictions, scale values back to real index/price range.\n",
    "trainPredict = scaler.inverse_transform(trainPredict)\n",
    "testPredict = scaler.inverse_transform(testPredict)"
   ]
  },
  {
   "cell_type": "code",
   "execution_count": null,
   "metadata": {},
   "outputs": [],
   "source": [
    "trainY = get_y_from_generator(train_data_gen)\n",
    "testY = get_y_from_generator(test_data_gen)"
   ]
  },
  {
   "cell_type": "code",
   "execution_count": null,
   "metadata": {},
   "outputs": [],
   "source": [
    "# calculate root mean squared error\n",
    "trainScore = math.sqrt(mean_squared_error(trainY[:,0], trainPredict[:,0]))\n",
    "print('Train Score: %.2f RMSE' % (trainScore))\n",
    "testScore = math.sqrt(mean_squared_error(testY[:, 0], testPredict[:,0]))\n",
    "print('Test Score: %.2f RMSE' % (testScore))"
   ]
  },
  {
   "cell_type": "code",
   "execution_count": null,
   "metadata": {},
   "outputs": [],
   "source": [
    "dataset = scaler.inverse_transform(dataset)\n",
    "dataset.shape"
   ]
  },
  {
   "cell_type": "code",
   "execution_count": null,
   "metadata": {},
   "outputs": [],
   "source": [
    "# shift train predictions for plotting\n",
    "trainPredictPlot = np.empty_like(dataset)\n",
    "trainPredictPlot[:, :] = np.nan\n",
    "trainPredictPlot[look_back:len(trainPredict)+look_back, :] = trainPredict\n",
    "# Delta + previous close\n",
    "trainPredictPlot = trainPredictPlot + df_data[1:]\n",
    "# set empty values\n",
    "# trainPredictPlot[0:look_back, :] = np.nan\n",
    "# trainPredictPlot[len(trainPredict)+look_back:, :] = np.nan\n"
   ]
  },
  {
   "cell_type": "code",
   "execution_count": null,
   "metadata": {},
   "outputs": [],
   "source": [
    "testPredictPlot = np.empty_like(dataset)\n",
    "testPredictPlot[:, :] = np.nan\n",
    "testPredictPlot[len(trainPredict)+(look_back*2):len(dataset), :] = testPredict\n",
    "\n",
    "# Delta + previous close\n",
    "testPredictPlot = testPredictPlot + df_data[1:]\n",
    "# set empty values\n",
    "# testPredictPlot[0:len(trainPredict)+(look_back*2), :] = np.nan\n",
    "# testPredictPlot[len(dataset):, :] = np.nan"
   ]
  },
  {
   "cell_type": "code",
   "execution_count": null,
   "metadata": {},
   "outputs": [],
   "source": [
    "# plot baseline and predictions\n",
    "plt.figure(figsize=(12,6))\n",
    "plt.plot(dataset + df_data[1:])\n",
    "plt.plot(trainPredictPlot)\n",
    "plt.plot(testPredictPlot)\n",
    "plt.legend(['Valid','Train','Predictions'],loc='upper left')\n",
    "#plt.show()\n"
   ]
  },
  {
   "cell_type": "code",
   "execution_count": null,
   "metadata": {},
   "outputs": [],
   "source": [
    "# plot baseline and predictions\n",
    "plt.plot(dataset + df_data[:-1])\n",
    "plt.plot(trainPredictPlot)\n",
    "plt.plot(testPredictPlot)\n",
    "plt.show()"
   ]
  },
  {
   "cell_type": "code",
   "execution_count": null,
   "metadata": {},
   "outputs": [],
   "source": [
    "# def get_quote(new_df):\n",
    "#     #get last 60days closing values and convert datframe to an array\n",
    "#     last_60_days = new_df[-60:].values #converts to array\n",
    "#     #scale data\n",
    "#     last_60_days_scaled = scaler.transform(last_60_days)\n",
    "#     #create empty list\n",
    "#     x_test = []\n",
    "#     #append last 60 days to x_test\n",
    "#     x_test.append(last_60_days_scaled)\n",
    "#     #conert x_test to a numpy array\n",
    "#     x_test = np.array(x_test)\n",
    "#     # #reshape the data\n",
    "#     x_test = np.reshape(x_test, (x_test.shape[0],x_test.shape[1],1))\n",
    "#     #get the predicted scaled price\n",
    "#     pred_price = model.predict(x_test)\n",
    "#     #undo the scaling \n",
    "#     pred_price = scaler.inverse_transform(pred_price) \n",
    "#     #what model thinks predicted price will be for 12/18/2019\n",
    "#     #the actual prcie was $69.94\n",
    "#     #DAL: 58.58, 2021-1-11 40.19\n",
    "#     return pred_price    "
   ]
  },
  {
   "cell_type": "code",
   "execution_count": null,
   "metadata": {},
   "outputs": [],
   "source": [
    "#get_quote(dataset)"
   ]
  },
  {
   "cell_type": "markdown",
   "metadata": {},
   "source": [
    "### Multi-Series Forecasting"
   ]
  },
  {
   "cell_type": "code",
   "execution_count": null,
   "metadata": {},
   "outputs": [],
   "source": [
    "df_multi = multiple_stock_data(ticker=[['PFE','JNJ','NVAX','MRNA','AZN']], start='12-31-2018',end='today',plot=True, stock_value='Adj Close');\n",
    "df_multi #;"
   ]
  },
  {
   "cell_type": "code",
   "execution_count": null,
   "metadata": {},
   "outputs": [],
   "source": [
    "len(df_multi), len(dataset_delta_AMAZN)"
   ]
  },
  {
   "cell_type": "code",
   "execution_count": null,
   "metadata": {},
   "outputs": [],
   "source": [
    "dataset_x = delta_time_series(df_multi)\n",
    "dataset_x "
   ]
  },
  {
   "cell_type": "code",
   "execution_count": null,
   "metadata": {},
   "outputs": [],
   "source": [
    "dataset_y= delta_time_series(dataset_delta_AMAZN)\n",
    "dataset_y "
   ]
  },
  {
   "cell_type": "code",
   "execution_count": null,
   "metadata": {},
   "outputs": [],
   "source": [
    "# normalize the dataset\n",
    "scaler_multi = MinMaxScaler(feature_range=(0, 1))\n",
    "scaler_multi.fit_transform(dataset_x.reshape(-1, 1))\n",
    "dataset_x = scaler_multi.transform(dataset_x)\n",
    "dataset_y = scaler_multi.transform(dataset_y)\n",
    "# split into train and test sets\n",
    "train_size = int(len(dataset_x) * 0.67)\n",
    "test_size = len(dataset_x) - train_size\n",
    "train_x, test_x = dataset_x[0:train_size,:], dataset_x[train_size:len(dataset_x),:]\n",
    "train_y, test_y = dataset_y[0:train_size,:], dataset_y[train_size:len(dataset_y),:]"
   ]
  },
  {
   "cell_type": "code",
   "execution_count": null,
   "metadata": {},
   "outputs": [],
   "source": [
    "train_x.shape,train_y.shape, test_x.shape, test_y.shape"
   ]
  },
  {
   "cell_type": "code",
   "execution_count": null,
   "metadata": {},
   "outputs": [],
   "source": [
    "train_data_gen = TimeseriesGenerator(train_x, train_y,\n",
    "                               length=look_back, sampling_rate=1,stride=1,\n",
    "                               batch_size=3)"
   ]
  },
  {
   "cell_type": "code",
   "execution_count": null,
   "metadata": {},
   "outputs": [],
   "source": [
    "test_data_gen = TimeseriesGenerator(test_x, test_y,\n",
    "                               length=look_back, sampling_rate=1,stride=1,\n",
    "                               batch_size=1)"
   ]
  },
  {
   "cell_type": "code",
   "execution_count": null,
   "metadata": {},
   "outputs": [],
   "source": []
  }
 ],
 "metadata": {
  "kernelspec": {
   "display_name": "Python 3",
   "language": "python",
   "name": "python3"
  },
  "language_info": {
   "codemirror_mode": {
    "name": "ipython",
    "version": 3
   },
   "file_extension": ".py",
   "mimetype": "text/x-python",
   "name": "python",
   "nbconvert_exporter": "python",
   "pygments_lexer": "ipython3",
   "version": "3.6.9"
  },
  "toc": {
   "base_numbering": 1,
   "nav_menu": {},
   "number_sections": true,
   "sideBar": true,
   "skip_h1_title": false,
   "title_cell": "Table of Contents",
   "title_sidebar": "Contents",
   "toc_cell": false,
   "toc_position": {},
   "toc_section_display": true,
   "toc_window_display": false
  }
 },
 "nbformat": 4,
 "nbformat_minor": 4
}
