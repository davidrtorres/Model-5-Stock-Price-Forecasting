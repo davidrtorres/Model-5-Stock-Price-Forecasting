{
 "cells": [
  {
   "cell_type": "code",
   "execution_count": 1,
   "metadata": {},
   "outputs": [
    {
     "name": "stderr",
     "output_type": "stream",
     "text": [
      "Using Theano backend.\n"
     ]
    }
   ],
   "source": [
    "import pandas as pd\n",
    "import numpy as np\n",
    "import matplotlib.pyplot as plt\n",
    "%matplotlib inline\n",
    "\n",
    "from sklearn.preprocessing import MinMaxScaler\n",
    "\n",
    "import pandas_datareader.data as web\n",
    "\n",
    "from keras.models import Sequential\n",
    "from keras.layers import Dense\n",
    "from keras.layers import LSTM\n",
    "from keras.layers import Dropout\n",
    "\n",
    "import warnings\n",
    "warnings.filterwarnings('ignore')"
   ]
  },
  {
   "cell_type": "code",
   "execution_count": 2,
   "metadata": {},
   "outputs": [],
   "source": [
    "#print(keras.__version__)"
   ]
  },
  {
   "cell_type": "code",
   "execution_count": 3,
   "metadata": {},
   "outputs": [],
   "source": [
    "def stockplotter(ticker):\n",
    "    try:\n",
    "        #stock = pdr.get_data_yahoo(ticker,start,end)\n",
    "        data = {}\n",
    "        for stock in ticker:\n",
    "            data = web.DataReader(stock,'yahoo','2018','2021')['Adj Close']\n",
    "        df_1 = pd.DataFrame(data)#.reset_index()\n",
    "        \n",
    "        df_1.plot(figsize=(12,8))\n",
    "        plt.title(\"Housing Price Trends \")\n",
    "        #plt.set(title=f'Housing Prices by Year - {zip_df.index.freq}')\n",
    "        plt.xlabel('Year')\n",
    "        plt.ylabel('Home Prices')\n",
    "        plt.legend(bbox_to_anchor=(1.05,1),loc='upper left') \n",
    "        \n",
    "        return df_1\n",
    "     \n",
    "    except Exception as e:\n",
    "        print(\"Error occured:\", e)\n",
    "        #data = 'Incorrect Symbol'\n"
   ]
  },
  {
   "cell_type": "code",
   "execution_count": 4,
   "metadata": {},
   "outputs": [
    {
     "data": {
      "text/html": [
       "<div>\n",
       "<style scoped>\n",
       "    .dataframe tbody tr th:only-of-type {\n",
       "        vertical-align: middle;\n",
       "    }\n",
       "\n",
       "    .dataframe tbody tr th {\n",
       "        vertical-align: top;\n",
       "    }\n",
       "\n",
       "    .dataframe thead th {\n",
       "        text-align: right;\n",
       "    }\n",
       "</style>\n",
       "<table border=\"1\" class=\"dataframe\">\n",
       "  <thead>\n",
       "    <tr style=\"text-align: right;\">\n",
       "      <th>Symbols</th>\n",
       "      <th>AAPL</th>\n",
       "      <th>GOOGL</th>\n",
       "      <th>AMZN</th>\n",
       "      <th>MSFT</th>\n",
       "      <th>DAL</th>\n",
       "    </tr>\n",
       "    <tr>\n",
       "      <th>Date</th>\n",
       "      <th></th>\n",
       "      <th></th>\n",
       "      <th></th>\n",
       "      <th></th>\n",
       "      <th></th>\n",
       "    </tr>\n",
       "  </thead>\n",
       "  <tbody>\n",
       "    <tr>\n",
       "      <th>2018-01-02</th>\n",
       "      <td>41.442081</td>\n",
       "      <td>1073.209961</td>\n",
       "      <td>1189.010010</td>\n",
       "      <td>82.383636</td>\n",
       "      <td>53.520050</td>\n",
       "    </tr>\n",
       "    <tr>\n",
       "      <th>2018-01-03</th>\n",
       "      <td>41.434864</td>\n",
       "      <td>1091.520020</td>\n",
       "      <td>1204.199951</td>\n",
       "      <td>82.767044</td>\n",
       "      <td>52.529640</td>\n",
       "    </tr>\n",
       "    <tr>\n",
       "      <th>2018-01-04</th>\n",
       "      <td>41.627323</td>\n",
       "      <td>1095.760010</td>\n",
       "      <td>1209.589966</td>\n",
       "      <td>83.495522</td>\n",
       "      <td>52.529640</td>\n",
       "    </tr>\n",
       "    <tr>\n",
       "      <th>2018-01-05</th>\n",
       "      <td>42.101261</td>\n",
       "      <td>1110.290039</td>\n",
       "      <td>1229.140015</td>\n",
       "      <td>84.530701</td>\n",
       "      <td>52.793751</td>\n",
       "    </tr>\n",
       "    <tr>\n",
       "      <th>2018-01-08</th>\n",
       "      <td>41.944889</td>\n",
       "      <td>1114.209961</td>\n",
       "      <td>1246.869995</td>\n",
       "      <td>84.616966</td>\n",
       "      <td>51.576958</td>\n",
       "    </tr>\n",
       "    <tr>\n",
       "      <th>...</th>\n",
       "      <td>...</td>\n",
       "      <td>...</td>\n",
       "      <td>...</td>\n",
       "      <td>...</td>\n",
       "      <td>...</td>\n",
       "    </tr>\n",
       "    <tr>\n",
       "      <th>2020-12-24</th>\n",
       "      <td>131.970001</td>\n",
       "      <td>1734.160034</td>\n",
       "      <td>3172.689941</td>\n",
       "      <td>222.750000</td>\n",
       "      <td>39.730000</td>\n",
       "    </tr>\n",
       "    <tr>\n",
       "      <th>2020-12-28</th>\n",
       "      <td>136.690002</td>\n",
       "      <td>1773.959961</td>\n",
       "      <td>3283.959961</td>\n",
       "      <td>224.960007</td>\n",
       "      <td>40.150002</td>\n",
       "    </tr>\n",
       "    <tr>\n",
       "      <th>2020-12-29</th>\n",
       "      <td>134.869995</td>\n",
       "      <td>1757.760010</td>\n",
       "      <td>3322.000000</td>\n",
       "      <td>224.149994</td>\n",
       "      <td>40.029999</td>\n",
       "    </tr>\n",
       "    <tr>\n",
       "      <th>2020-12-30</th>\n",
       "      <td>133.720001</td>\n",
       "      <td>1736.250000</td>\n",
       "      <td>3285.850098</td>\n",
       "      <td>221.679993</td>\n",
       "      <td>40.560001</td>\n",
       "    </tr>\n",
       "    <tr>\n",
       "      <th>2020-12-31</th>\n",
       "      <td>132.690002</td>\n",
       "      <td>1752.640015</td>\n",
       "      <td>3256.929932</td>\n",
       "      <td>222.419998</td>\n",
       "      <td>40.209999</td>\n",
       "    </tr>\n",
       "  </tbody>\n",
       "</table>\n",
       "<p>756 rows × 5 columns</p>\n",
       "</div>"
      ],
      "text/plain": [
       "Symbols           AAPL        GOOGL         AMZN        MSFT        DAL\n",
       "Date                                                                   \n",
       "2018-01-02   41.442081  1073.209961  1189.010010   82.383636  53.520050\n",
       "2018-01-03   41.434864  1091.520020  1204.199951   82.767044  52.529640\n",
       "2018-01-04   41.627323  1095.760010  1209.589966   83.495522  52.529640\n",
       "2018-01-05   42.101261  1110.290039  1229.140015   84.530701  52.793751\n",
       "2018-01-08   41.944889  1114.209961  1246.869995   84.616966  51.576958\n",
       "...                ...          ...          ...         ...        ...\n",
       "2020-12-24  131.970001  1734.160034  3172.689941  222.750000  39.730000\n",
       "2020-12-28  136.690002  1773.959961  3283.959961  224.960007  40.150002\n",
       "2020-12-29  134.869995  1757.760010  3322.000000  224.149994  40.029999\n",
       "2020-12-30  133.720001  1736.250000  3285.850098  221.679993  40.560001\n",
       "2020-12-31  132.690002  1752.640015  3256.929932  222.419998  40.209999\n",
       "\n",
       "[756 rows x 5 columns]"
      ]
     },
     "execution_count": 4,
     "metadata": {},
     "output_type": "execute_result"
    },
    {
     "data": {
      "image/png": "[encoded data removed]",
      "text/plain": [
       "<Figure size 864x576 with 1 Axes>"
      ]
     },
     "metadata": {
      "needs_background": "light"
     },
     "output_type": "display_data"
    }
   ],
   "source": [
    "#df_1 = stockplotter(['XYZC'])\n",
    "df_1 = stockplotter([['AAPL','GOOGL','AMZN','MSFT','DAL']])\n",
    "df_1"
   ]
  },
  {
   "cell_type": "code",
   "execution_count": 5,
   "metadata": {},
   "outputs": [],
   "source": [
    "# ## List of symbols to grab\n",
    "# symbols = ['FB','AAPL','GOOGL','AMZN','MSFT']\n",
    "# data = {}\n",
    "# for stock in symbols:\n",
    "#     data[stock] = web.DataReader(stock,'yahoo','2018','2021')['Adj Close']\n",
    "# df_1 = pd.DataFrame(data)#.reset_index()\n",
    "# df_1"
   ]
  },
  {
   "cell_type": "code",
   "execution_count": 6,
   "metadata": {},
   "outputs": [
    {
     "data": {
      "text/plain": [
       "<matplotlib.legend.Legend at 0x7f86c890bd30>"
      ]
     },
     "execution_count": 6,
     "metadata": {},
     "output_type": "execute_result"
    },
    {
     "data": {
      "image/png": "[encoded data removed]",
      "text/plain": [
       "<Figure size 864x576 with 1 Axes>"
      ]
     },
     "metadata": {
      "needs_background": "light"
     },
     "output_type": "display_data"
    }
   ],
   "source": [
    "df_1.plot(figsize=(12,8))\n",
    "plt.title(\"Stock Adj Close Price Trends \")\n",
    "#plt.set(title=f'Housing Prices by Year - {zip_df.index.freq}')\n",
    "plt.xlabel('Year')\n",
    "plt.ylabel('Prices')\n",
    "plt.legend(bbox_to_anchor=(1.05,1),loc='upper left')"
   ]
  },
  {
   "cell_type": "code",
   "execution_count": 7,
   "metadata": {},
   "outputs": [],
   "source": [
    "#df = pd.read_csv('data/apple_2012_1_1-2019_12_17.csv', parse_dates=True, index_col=[0])\n",
    "\n",
    "#Get the stock quote \n",
    "df = web.DataReader('TSLA', data_source='yahoo', start='2016-01-01', end='2021-1-11') "
   ]
  },
  {
   "cell_type": "code",
   "execution_count": 8,
   "metadata": {},
   "outputs": [
    {
     "data": {
      "text/html": [
       "<div>\n",
       "<style scoped>\n",
       "    .dataframe tbody tr th:only-of-type {\n",
       "        vertical-align: middle;\n",
       "    }\n",
       "\n",
       "    .dataframe tbody tr th {\n",
       "        vertical-align: top;\n",
       "    }\n",
       "\n",
       "    .dataframe thead th {\n",
       "        text-align: right;\n",
       "    }\n",
       "</style>\n",
       "<table border=\"1\" class=\"dataframe\">\n",
       "  <thead>\n",
       "    <tr style=\"text-align: right;\">\n",
       "      <th></th>\n",
       "      <th>High</th>\n",
       "      <th>Low</th>\n",
       "      <th>Open</th>\n",
       "      <th>Close</th>\n",
       "      <th>Volume</th>\n",
       "      <th>Adj Close</th>\n",
       "    </tr>\n",
       "    <tr>\n",
       "      <th>Date</th>\n",
       "      <th></th>\n",
       "      <th></th>\n",
       "      <th></th>\n",
       "      <th></th>\n",
       "      <th></th>\n",
       "      <th></th>\n",
       "    </tr>\n",
       "  </thead>\n",
       "  <tbody>\n",
       "    <tr>\n",
       "      <th>2016-01-04</th>\n",
       "      <td>46.276001</td>\n",
       "      <td>43.799999</td>\n",
       "      <td>46.144001</td>\n",
       "      <td>44.681999</td>\n",
       "      <td>34135500.0</td>\n",
       "      <td>44.681999</td>\n",
       "    </tr>\n",
       "    <tr>\n",
       "      <th>2016-01-05</th>\n",
       "      <td>45.377998</td>\n",
       "      <td>44.000000</td>\n",
       "      <td>45.271999</td>\n",
       "      <td>44.686001</td>\n",
       "      <td>15934000.0</td>\n",
       "      <td>44.686001</td>\n",
       "    </tr>\n",
       "    <tr>\n",
       "      <th>2016-01-06</th>\n",
       "      <td>44.009998</td>\n",
       "      <td>43.195999</td>\n",
       "      <td>44.000000</td>\n",
       "      <td>43.807999</td>\n",
       "      <td>18895500.0</td>\n",
       "      <td>43.807999</td>\n",
       "    </tr>\n",
       "    <tr>\n",
       "      <th>2016-01-07</th>\n",
       "      <td>43.688000</td>\n",
       "      <td>42.734001</td>\n",
       "      <td>42.838001</td>\n",
       "      <td>43.130001</td>\n",
       "      <td>17771500.0</td>\n",
       "      <td>43.130001</td>\n",
       "    </tr>\n",
       "    <tr>\n",
       "      <th>2016-01-08</th>\n",
       "      <td>44.088001</td>\n",
       "      <td>42.153999</td>\n",
       "      <td>43.571999</td>\n",
       "      <td>42.200001</td>\n",
       "      <td>18140500.0</td>\n",
       "      <td>42.200001</td>\n",
       "    </tr>\n",
       "  </tbody>\n",
       "</table>\n",
       "</div>"
      ],
      "text/plain": [
       "                 High        Low       Open      Close      Volume  Adj Close\n",
       "Date                                                                         \n",
       "2016-01-04  46.276001  43.799999  46.144001  44.681999  34135500.0  44.681999\n",
       "2016-01-05  45.377998  44.000000  45.271999  44.686001  15934000.0  44.686001\n",
       "2016-01-06  44.009998  43.195999  44.000000  43.807999  18895500.0  43.807999\n",
       "2016-01-07  43.688000  42.734001  42.838001  43.130001  17771500.0  43.130001\n",
       "2016-01-08  44.088001  42.153999  43.571999  42.200001  18140500.0  42.200001"
      ]
     },
     "execution_count": 8,
     "metadata": {},
     "output_type": "execute_result"
    }
   ],
   "source": [
    "df.head()"
   ]
  },
  {
   "cell_type": "code",
   "execution_count": 9,
   "metadata": {},
   "outputs": [
    {
     "data": {
      "text/plain": [
       "(1265, 6)"
      ]
     },
     "execution_count": 9,
     "metadata": {},
     "output_type": "execute_result"
    }
   ],
   "source": [
    "df.shape"
   ]
  },
  {
   "cell_type": "code",
   "execution_count": 10,
   "metadata": {},
   "outputs": [
    {
     "data": {
      "text/plain": [
       "Text(0, 0.5, 'Close Price USD ($)')"
      ]
     },
     "execution_count": 10,
     "metadata": {},
     "output_type": "execute_result"
    },
    {
     "data": {
      "image/png": "[encoded data removed]",
      "text/plain": [
       "<Figure size 864x576 with 1 Axes>"
      ]
     },
     "metadata": {
      "needs_background": "light"
     },
     "output_type": "display_data"
    }
   ],
   "source": [
    "plt.figure(figsize=(12,8))\n",
    "plt.plot(df['Close'])\n",
    "plt.xlabel('Date', fontsize=18)\n",
    "plt.ylabel('Close Price USD ($)', fontsize=18)"
   ]
  },
  {
   "cell_type": "code",
   "execution_count": 11,
   "metadata": {},
   "outputs": [],
   "source": [
    "#df = df.diff().dropna() #zip_df[11226].diff().dropna()"
   ]
  },
  {
   "cell_type": "code",
   "execution_count": 12,
   "metadata": {},
   "outputs": [],
   "source": [
    "dataset = df['Close']\n",
    "# dataset = data.values"
   ]
  },
  {
   "cell_type": "code",
   "execution_count": 13,
   "metadata": {},
   "outputs": [],
   "source": [
    "def preprocessing(df,percentage):\n",
    "    training_data_len = int(np.round(len(df) * percentage))\n",
    "    dataset = pd.DataFrame(df)\n",
    "    scaler = MinMaxScaler(feature_range = (0, 1))\n",
    "    scaled_data = scaler.fit_transform(dataset)\n",
    "    return training_data_len, dataset, scaler, scaled_data"
   ]
  },
  {
   "cell_type": "code",
   "execution_count": 14,
   "metadata": {},
   "outputs": [],
   "source": [
    "training_data_len, dataset, scaler, scaled_data = preprocessing(dataset, percentage=.8)"
   ]
  },
  {
   "cell_type": "code",
   "execution_count": 15,
   "metadata": {},
   "outputs": [],
   "source": [
    "#training_data_len = int(np.round(len(dataset) * .8))"
   ]
  },
  {
   "cell_type": "code",
   "execution_count": 16,
   "metadata": {},
   "outputs": [
    {
     "data": {
      "text/plain": [
       "1012"
      ]
     },
     "execution_count": 16,
     "metadata": {},
     "output_type": "execute_result"
    }
   ],
   "source": [
    "training_data_len"
   ]
  },
  {
   "cell_type": "code",
   "execution_count": 17,
   "metadata": {},
   "outputs": [],
   "source": [
    "def create_sets(training_data_len):\n",
    "    #create training data set\n",
    "    train_data = scaled_data[0:training_data_len,:]\n",
    "    test_data = scaled_data[training_data_len -60:,:] #to 2003 which is end of dataset\n",
    "    #split data into X_train and y_train data sets\n",
    "    X_train = []\n",
    "    y_train = []\n",
    "    #create dataset X_test and y_test data sets\n",
    "    X_test = []\n",
    "    y_test = []    #dataset.iloc[training_data_len:, :]\n",
    "\n",
    "\n",
    "    for i in range(60, len(train_data)):\n",
    "        X_train.append(train_data[i-60:i])\n",
    "        y_train.append(train_data[i,0]) #will contain 61st value which will be at position 60\n",
    "\n",
    "    for i in range(60, len(test_data)):\n",
    "        X_test.append(test_data[i-60:i,0]) \n",
    "        y_test.append(test_data[i,0])\n",
    "        \n",
    "    X_train, y_train = np.array(X_train), np.array(y_train)    \n",
    "        \n",
    "    return X_train, X_test, y_train, y_test    "
   ]
  },
  {
   "cell_type": "code",
   "execution_count": 18,
   "metadata": {},
   "outputs": [],
   "source": [
    "X_train, X_test, y_train, y_test = create_sets(training_data_len)"
   ]
  },
  {
   "cell_type": "code",
   "execution_count": 19,
   "metadata": {},
   "outputs": [
    {
     "data": {
      "text/plain": [
       "60"
      ]
     },
     "execution_count": 19,
     "metadata": {},
     "output_type": "execute_result"
    }
   ],
   "source": [
    "len(X_train[0])"
   ]
  },
  {
   "cell_type": "code",
   "execution_count": 20,
   "metadata": {},
   "outputs": [
    {
     "data": {
      "text/plain": [
       "array([[[0.01873401],\n",
       "        [0.01873871],\n",
       "        [0.01770733],\n",
       "        ...,\n",
       "        [0.02034334],\n",
       "        [0.0203128 ],\n",
       "        [0.01955159]],\n",
       "\n",
       "       [[0.01873871],\n",
       "        [0.01770733],\n",
       "        [0.01691089],\n",
       "        ...,\n",
       "        [0.0203128 ],\n",
       "        [0.01955159],\n",
       "        [0.02022822]],\n",
       "\n",
       "       [[0.01770733],\n",
       "        [0.01691089],\n",
       "        [0.01581842],\n",
       "        ...,\n",
       "        [0.01955159],\n",
       "        [0.02022822],\n",
       "        [0.02206544]],\n",
       "\n",
       "       ...,\n",
       "\n",
       "       [[0.02374525],\n",
       "        [0.02448531],\n",
       "        [0.0266162 ],\n",
       "        ...,\n",
       "        [0.06733107],\n",
       "        [0.07032654],\n",
       "        [0.07233057]],\n",
       "\n",
       "       [[0.02448531],\n",
       "        [0.0266162 ],\n",
       "        [0.02683469],\n",
       "        ...,\n",
       "        [0.07032654],\n",
       "        [0.07233057],\n",
       "        [0.07644669]],\n",
       "\n",
       "       [[0.0266162 ],\n",
       "        [0.02683469],\n",
       "        [0.02727168],\n",
       "        ...,\n",
       "        [0.07233057],\n",
       "        [0.07644669],\n",
       "        [0.08186908]]])"
      ]
     },
     "execution_count": 20,
     "metadata": {},
     "output_type": "execute_result"
    }
   ],
   "source": [
    "X_train"
   ]
  },
  {
   "cell_type": "code",
   "execution_count": 21,
   "metadata": {},
   "outputs": [
    {
     "data": {
      "text/plain": [
       "(952, 60, 1)"
      ]
     },
     "execution_count": 21,
     "metadata": {},
     "output_type": "execute_result"
    }
   ],
   "source": [
    "X_train.shape"
   ]
  },
  {
   "cell_type": "code",
   "execution_count": 22,
   "metadata": {},
   "outputs": [],
   "source": [
    "\n",
    "model = Sequential()\n",
    "\n",
    "model.add(LSTM(units = 50, return_sequences = True, input_shape=(X_train.shape[1],1)))\n",
    "model.add(Dropout(0.2))\n",
    "\n",
    "model.add(LSTM(units = 50, return_sequences = True))\n",
    "model.add(Dropout(0.2))\n",
    "\n",
    "model.add(LSTM(units = 50, return_sequences = False))\n",
    "model.add(Dropout(0.2))\n",
    "\n",
    "model.add(Dense(units = 25))\n",
    "model.add(Dense(units = 1))\n",
    "\n",
    "model.compile(optimizer = 'adam', loss = 'mean_squared_error')\n"
   ]
  },
  {
   "cell_type": "code",
   "execution_count": 23,
   "metadata": {},
   "outputs": [
    {
     "name": "stdout",
     "output_type": "stream",
     "text": [
      "Model: \"sequential_1\"\n",
      "_________________________________________________________________\n",
      "Layer (type)                 Output Shape              Param #   \n",
      "=================================================================\n",
      "lstm_1 (LSTM)                (None, 60, 50)            10400     \n",
      "_________________________________________________________________\n",
      "dropout_1 (Dropout)          (None, 60, 50)            0         \n",
      "_________________________________________________________________\n",
      "lstm_2 (LSTM)                (None, 60, 50)            20200     \n",
      "_________________________________________________________________\n",
      "dropout_2 (Dropout)          (None, 60, 50)            0         \n",
      "_________________________________________________________________\n",
      "lstm_3 (LSTM)                (None, 50)                20200     \n",
      "_________________________________________________________________\n",
      "dropout_3 (Dropout)          (None, 50)                0         \n",
      "_________________________________________________________________\n",
      "dense_1 (Dense)              (None, 25)                1275      \n",
      "_________________________________________________________________\n",
      "dense_2 (Dense)              (None, 1)                 26        \n",
      "=================================================================\n",
      "Total params: 52,101\n",
      "Trainable params: 52,101\n",
      "Non-trainable params: 0\n",
      "_________________________________________________________________\n"
     ]
    }
   ],
   "source": [
    "model.summary()"
   ]
  },
  {
   "cell_type": "code",
   "execution_count": 24,
   "metadata": {},
   "outputs": [
    {
     "name": "stdout",
     "output_type": "stream",
     "text": [
      "Epoch 1/50\n",
      "952/952 [==============================] - 3s 4ms/step - loss: 2.3142e-04\n",
      "Epoch 2/50\n",
      "952/952 [==============================] - 3s 4ms/step - loss: 5.3669e-05\n",
      "Epoch 3/50\n",
      "952/952 [==============================] - 3s 4ms/step - loss: 4.4473e-05\n",
      "Epoch 4/50\n",
      "952/952 [==============================] - 3s 4ms/step - loss: 3.6095e-05\n",
      "Epoch 5/50\n",
      "952/952 [==============================] - 3s 4ms/step - loss: 3.1335e-05\n",
      "Epoch 6/50\n",
      "952/952 [==============================] - 3s 4ms/step - loss: 2.8907e-05\n",
      "Epoch 7/50\n",
      "952/952 [==============================] - 3s 4ms/step - loss: 2.9533e-05\n",
      "Epoch 8/50\n",
      "952/952 [==============================] - 4s 4ms/step - loss: 2.7738e-05\n",
      "Epoch 9/50\n",
      "952/952 [==============================] - 4s 4ms/step - loss: 2.5673e-05\n",
      "Epoch 10/50\n",
      "952/952 [==============================] - 4s 4ms/step - loss: 3.2170e-05\n",
      "Epoch 11/50\n",
      "952/952 [==============================] - 3s 4ms/step - loss: 2.9710e-05\n",
      "Epoch 12/50\n",
      "952/952 [==============================] - 4s 4ms/step - loss: 3.6464e-05\n",
      "Epoch 13/50\n",
      "952/952 [==============================] - 4s 5ms/step - loss: 2.4903e-05\n",
      "Epoch 14/50\n",
      "952/952 [==============================] - 5s 5ms/step - loss: 2.0067e-05\n",
      "Epoch 15/50\n",
      "952/952 [==============================] - 4s 4ms/step - loss: 1.9969e-05\n",
      "Epoch 16/50\n",
      "952/952 [==============================] - 4s 4ms/step - loss: 1.8744e-05\n",
      "Epoch 17/50\n",
      "952/952 [==============================] - 4s 4ms/step - loss: 2.1880e-05\n",
      "Epoch 18/50\n",
      "952/952 [==============================] - 3s 4ms/step - loss: 1.8669e-05\n",
      "Epoch 19/50\n",
      "952/952 [==============================] - 3s 4ms/step - loss: 2.0414e-05\n",
      "Epoch 20/50\n",
      "952/952 [==============================] - 3s 4ms/step - loss: 2.1542e-05\n",
      "Epoch 21/50\n",
      "952/952 [==============================] - 3s 4ms/step - loss: 1.7588e-05\n",
      "Epoch 22/50\n",
      "952/952 [==============================] - 3s 4ms/step - loss: 1.8970e-05\n",
      "Epoch 23/50\n",
      "952/952 [==============================] - 3s 4ms/step - loss: 1.9016e-05\n",
      "Epoch 24/50\n",
      "952/952 [==============================] - 4s 4ms/step - loss: 1.8173e-05\n",
      "Epoch 25/50\n",
      "952/952 [==============================] - 4s 4ms/step - loss: 1.7383e-05\n",
      "Epoch 26/50\n",
      "952/952 [==============================] - 4s 4ms/step - loss: 1.5703e-05\n",
      "Epoch 27/50\n",
      "952/952 [==============================] - 4s 5ms/step - loss: 1.6234e-05\n",
      "Epoch 28/50\n",
      "952/952 [==============================] - 4s 4ms/step - loss: 1.7514e-05\n",
      "Epoch 29/50\n",
      "952/952 [==============================] - 5s 5ms/step - loss: 1.5773e-05\n",
      "Epoch 30/50\n",
      "952/952 [==============================] - 3s 4ms/step - loss: 1.7072e-05\n",
      "Epoch 31/50\n",
      "952/952 [==============================] - 3s 4ms/step - loss: 1.6155e-05\n",
      "Epoch 32/50\n",
      "952/952 [==============================] - 3s 4ms/step - loss: 1.4367e-05\n",
      "Epoch 33/50\n",
      "952/952 [==============================] - 3s 4ms/step - loss: 1.4534e-05\n",
      "Epoch 34/50\n",
      "952/952 [==============================] - 4s 4ms/step - loss: 1.4117e-05\n",
      "Epoch 35/50\n",
      "952/952 [==============================] - 3s 4ms/step - loss: 1.5715e-05\n",
      "Epoch 36/50\n",
      "952/952 [==============================] - 3s 4ms/step - loss: 2.1916e-05\n",
      "Epoch 37/50\n",
      "952/952 [==============================] - 4s 4ms/step - loss: 1.7819e-05\n",
      "Epoch 38/50\n",
      "952/952 [==============================] - 4s 4ms/step - loss: 1.3273e-05\n",
      "Epoch 39/50\n",
      "952/952 [==============================] - 4s 4ms/step - loss: 1.5889e-05\n",
      "Epoch 40/50\n",
      "952/952 [==============================] - 3s 4ms/step - loss: 1.3243e-05\n",
      "Epoch 41/50\n",
      "952/952 [==============================] - 3s 4ms/step - loss: 1.4297e-05\n",
      "Epoch 42/50\n",
      "952/952 [==============================] - 3s 4ms/step - loss: 1.3944e-05\n",
      "Epoch 43/50\n",
      "952/952 [==============================] - 3s 4ms/step - loss: 1.4791e-05\n",
      "Epoch 44/50\n",
      "952/952 [==============================] - 4s 4ms/step - loss: 1.2873e-05\n",
      "Epoch 45/50\n",
      "952/952 [==============================] - 3s 4ms/step - loss: 1.2343e-05\n",
      "Epoch 46/50\n",
      "952/952 [==============================] - 3s 4ms/step - loss: 1.2382e-05\n",
      "Epoch 47/50\n",
      "952/952 [==============================] - 4s 4ms/step - loss: 1.4045e-05\n",
      "Epoch 48/50\n",
      "952/952 [==============================] - 3s 4ms/step - loss: 1.4189e-05\n",
      "Epoch 49/50\n",
      "952/952 [==============================] - 4s 5ms/step - loss: 1.5884e-05\n",
      "Epoch 50/50\n",
      "952/952 [==============================] - 4s 4ms/step - loss: 1.5881e-05\n"
     ]
    },
    {
     "data": {
      "text/plain": [
       "<keras.callbacks.callbacks.History at 0x7f86b37a8320>"
      ]
     },
     "execution_count": 24,
     "metadata": {},
     "output_type": "execute_result"
    }
   ],
   "source": [
    "#train the model\n",
    "#model checkpoint save_weights_only=True\n",
    "#fresh_model.load_weights  load_model\n",
    "#model.save(), load_model('')\n",
    "model.fit(X_train,y_train, epochs=50, batch_size=32 ) "
   ]
  },
  {
   "cell_type": "code",
   "execution_count": 25,
   "metadata": {},
   "outputs": [
    {
     "data": {
      "text/plain": [
       "'/Users/davidtorres/Flatiron_041320/Model_5/dsc-capstone-project-v2-onl01-dtsc-pt-041320'"
      ]
     },
     "execution_count": 25,
     "metadata": {},
     "output_type": "execute_result"
    }
   ],
   "source": [
    "pwd"
   ]
  },
  {
   "cell_type": "code",
   "execution_count": 26,
   "metadata": {},
   "outputs": [],
   "source": [
    "#model.save('best_model_parameters.h5')"
   ]
  },
  {
   "cell_type": "code",
   "execution_count": 27,
   "metadata": {},
   "outputs": [],
   "source": [
    "# from tensorflow import keras\n",
    "# from keras.models import load_model"
   ]
  },
  {
   "cell_type": "code",
   "execution_count": 28,
   "metadata": {},
   "outputs": [],
   "source": [
    "# #model_params = keras.models.load_model(best_model)\n",
    "# model1 = load_model('best_model_parameters.h5')\n",
    "\n",
    "# # summarize model.\n",
    "# model1.summary()"
   ]
  },
  {
   "cell_type": "code",
   "execution_count": null,
   "metadata": {},
   "outputs": [],
   "source": []
  },
  {
   "cell_type": "code",
   "execution_count": null,
   "metadata": {},
   "outputs": [],
   "source": []
  },
  {
   "cell_type": "code",
   "execution_count": 29,
   "metadata": {},
   "outputs": [],
   "source": [
    "#convert data to a numpy array\n",
    "X_test = np.array(X_test)"
   ]
  },
  {
   "cell_type": "code",
   "execution_count": 30,
   "metadata": {},
   "outputs": [
    {
     "data": {
      "text/plain": [
       "(253, 60)"
      ]
     },
     "execution_count": 30,
     "metadata": {},
     "output_type": "execute_result"
    }
   ],
   "source": [
    "X_test.shape"
   ]
  },
  {
   "cell_type": "code",
   "execution_count": 31,
   "metadata": {},
   "outputs": [],
   "source": [
    "#number of rows, number of timeseteps, number of features\n",
    "X_test = np.reshape(X_test,(X_test.shape[0],X_test.shape[1],1))"
   ]
  },
  {
   "cell_type": "code",
   "execution_count": 32,
   "metadata": {},
   "outputs": [
    {
     "data": {
      "text/plain": [
       "(253, 60, 1)"
      ]
     },
     "execution_count": 32,
     "metadata": {},
     "output_type": "execute_result"
    }
   ],
   "source": [
    "X_test.shape"
   ]
  },
  {
   "cell_type": "code",
   "execution_count": 33,
   "metadata": {},
   "outputs": [],
   "source": [
    "#get models predicted price values for X_test dataset\n",
    "#want predcitions to contain same values as y_test dataset once we inverse_transform\n",
    "#getting predcitiosn off of X_test\n",
    "predictions = model.predict(X_test)\n",
    "predictions = scaler.inverse_transform(predictions) #unscaling the values"
   ]
  },
  {
   "cell_type": "code",
   "execution_count": 34,
   "metadata": {},
   "outputs": [
    {
     "data": {
      "text/plain": [
       "array([[ 89.55462 ],\n",
       "       [ 91.05814 ],\n",
       "       [ 93.186554],\n",
       "       [ 96.01967 ],\n",
       "       [ 98.03676 ],\n",
       "       [ 98.7409  ],\n",
       "       [ 98.35939 ],\n",
       "       [ 98.73712 ],\n",
       "       [100.5754  ],\n",
       "       [103.10528 ],\n",
       "       [105.15399 ],\n",
       "       [106.100494],\n",
       "       [106.44467 ],\n",
       "       [106.963165],\n",
       "       [109.70039 ],\n",
       "       [113.88969 ],\n",
       "       [122.47062 ],\n",
       "       [136.18758 ],\n",
       "       [145.06946 ],\n",
       "       [148.17644 ],\n",
       "       [147.1919  ],\n",
       "       [145.10883 ],\n",
       "       [143.36035 ],\n",
       "       [142.07837 ],\n",
       "       [142.57785 ],\n",
       "       [144.11104 ],\n",
       "       [147.86755 ],\n",
       "       [154.49411 ],\n",
       "       [161.03545 ],\n",
       "       [165.84026 ],\n",
       "       [166.13727 ],\n",
       "       [162.12488 ],\n",
       "       [155.69995 ],\n",
       "       [145.95897 ],\n",
       "       [135.6035  ],\n",
       "       [129.99617 ],\n",
       "       [129.23195 ],\n",
       "       [131.58968 ],\n",
       "       [134.19809 ],\n",
       "       [135.30154 ],\n",
       "       [131.77191 ],\n",
       "       [127.03318 ],\n",
       "       [122.741104],\n",
       "       [117.2202  ],\n",
       "       [111.23342 ],\n",
       "       [102.720436],\n",
       "       [ 93.49804 ],\n",
       "       [ 83.57235 ],\n",
       "       [ 77.46575 ],\n",
       "       [ 75.54922 ],\n",
       "       [ 76.728485],\n",
       "       [ 81.771545],\n",
       "       [ 89.4486  ],\n",
       "       [ 96.58795 ],\n",
       "       [101.005554],\n",
       "       [102.17255 ],\n",
       "       [101.85377 ],\n",
       "       [ 99.48962 ],\n",
       "       [ 95.2564  ],\n",
       "       [ 91.60254 ],\n",
       "       [ 90.62475 ],\n",
       "       [ 92.72704 ],\n",
       "       [ 96.38106 ],\n",
       "       [100.818474],\n",
       "       [107.47069 ],\n",
       "       [116.45647 ],\n",
       "       [125.78128 ],\n",
       "       [133.68633 ],\n",
       "       [139.23459 ],\n",
       "       [141.90343 ],\n",
       "       [140.18663 ],\n",
       "       [137.5273  ],\n",
       "       [134.48228 ],\n",
       "       [132.52739 ],\n",
       "       [134.38689 ],\n",
       "       [137.55807 ],\n",
       "       [141.55638 ],\n",
       "       [144.59966 ],\n",
       "       [143.44801 ],\n",
       "       [141.65056 ],\n",
       "       [140.73325 ],\n",
       "       [141.2558  ],\n",
       "       [142.51128 ],\n",
       "       [145.19862 ],\n",
       "       [148.05783 ],\n",
       "       [150.1922  ],\n",
       "       [150.71574 ],\n",
       "       [150.48987 ],\n",
       "       [149.88092 ],\n",
       "       [149.71866 ],\n",
       "       [149.78305 ],\n",
       "       [150.17952 ],\n",
       "       [151.13101 ],\n",
       "       [151.89354 ],\n",
       "       [152.34532 ],\n",
       "       [152.56857 ],\n",
       "       [152.13712 ],\n",
       "       [152.35165 ],\n",
       "       [155.32278 ],\n",
       "       [159.10764 ],\n",
       "       [162.33125 ],\n",
       "       [163.7372  ],\n",
       "       [164.34898 ],\n",
       "       [166.79404 ],\n",
       "       [169.94914 ],\n",
       "       [175.6035  ],\n",
       "       [180.11496 ],\n",
       "       [181.13791 ],\n",
       "       [181.47548 ],\n",
       "       [181.54608 ],\n",
       "       [181.82388 ],\n",
       "       [182.65343 ],\n",
       "       [183.58966 ],\n",
       "       [184.10568 ],\n",
       "       [184.462   ],\n",
       "       [183.30495 ],\n",
       "       [182.1437  ],\n",
       "       [180.58224 ],\n",
       "       [180.74678 ],\n",
       "       [184.71048 ],\n",
       "       [191.8577  ],\n",
       "       [202.4484  ],\n",
       "       [218.6824  ],\n",
       "       [236.08397 ],\n",
       "       [249.18782 ],\n",
       "       [257.29904 ],\n",
       "       [265.9828  ],\n",
       "       [272.60214 ],\n",
       "       [276.83295 ],\n",
       "       [279.7378  ],\n",
       "       [279.89105 ],\n",
       "       [278.13028 ],\n",
       "       [280.61493 ],\n",
       "       [283.6171  ],\n",
       "       [286.50284 ],\n",
       "       [286.01736 ],\n",
       "       [279.87323 ],\n",
       "       [275.51685 ],\n",
       "       [272.24188 ],\n",
       "       [270.8706  ],\n",
       "       [270.6586  ],\n",
       "       [269.1356  ],\n",
       "       [268.64215 ],\n",
       "       [269.391   ],\n",
       "       [270.71124 ],\n",
       "       [272.16983 ],\n",
       "       [272.10562 ],\n",
       "       [269.71353 ],\n",
       "       [264.77405 ],\n",
       "       [265.46112 ],\n",
       "       [272.96152 ],\n",
       "       [284.1225  ],\n",
       "       [301.00183 ],\n",
       "       [320.08908 ],\n",
       "       [335.88544 ],\n",
       "       [349.95578 ],\n",
       "       [362.21945 ],\n",
       "       [369.77988 ],\n",
       "       [372.85406 ],\n",
       "       [377.05392 ],\n",
       "       [384.86948 ],\n",
       "       [392.7719  ],\n",
       "       [407.82666 ],\n",
       "       [421.56802 ],\n",
       "       [425.83572 ],\n",
       "       [415.66687 ],\n",
       "       [400.09946 ],\n",
       "       [371.0692  ],\n",
       "       [344.33408 ],\n",
       "       [327.75305 ],\n",
       "       [321.83322 ],\n",
       "       [331.36493 ],\n",
       "       [354.12747 ],\n",
       "       [378.65656 ],\n",
       "       [394.67877 ],\n",
       "       [404.25754 ],\n",
       "       [409.94656 ],\n",
       "       [408.43335 ],\n",
       "       [394.86087 ],\n",
       "       [377.06546 ],\n",
       "       [364.773   ],\n",
       "       [361.9094  ],\n",
       "       [365.26855 ],\n",
       "       [372.70746 ],\n",
       "       [384.04938 ],\n",
       "       [390.04626 ],\n",
       "       [392.04166 ],\n",
       "       [389.70844 ],\n",
       "       [387.1414  ],\n",
       "       [385.70853 ],\n",
       "       [386.72464 ],\n",
       "       [390.5413  ],\n",
       "       [396.02197 ],\n",
       "       [403.67667 ],\n",
       "       [409.17194 ],\n",
       "       [410.0719  ],\n",
       "       [406.24237 ],\n",
       "       [398.8695  ],\n",
       "       [391.1294  ],\n",
       "       [385.69504 ],\n",
       "       [382.19717 ],\n",
       "       [380.35965 ],\n",
       "       [380.57294 ],\n",
       "       [378.92517 ],\n",
       "       [376.69244 ],\n",
       "       [370.999   ],\n",
       "       [366.01068 ],\n",
       "       [367.10306 ],\n",
       "       [371.94516 ],\n",
       "       [380.4757  ],\n",
       "       [388.17026 ],\n",
       "       [391.67944 ],\n",
       "       [389.6941  ],\n",
       "       [385.7955  ],\n",
       "       [381.20544 ],\n",
       "       [376.65982 ],\n",
       "       [372.9991  ],\n",
       "       [376.31293 ],\n",
       "       [391.63763 ],\n",
       "       [413.9423  ],\n",
       "       [433.57352 ],\n",
       "       [451.6365  ],\n",
       "       [471.1462  ],\n",
       "       [491.3287  ],\n",
       "       [509.7639  ],\n",
       "       [520.27454 ],\n",
       "       [525.78687 ],\n",
       "       [525.2265  ],\n",
       "       [524.86755 ],\n",
       "       [526.61646 ],\n",
       "       [536.3515  ],\n",
       "       [551.19684 ],\n",
       "       [558.51685 ],\n",
       "       [561.5465  ],\n",
       "       [559.52246 ],\n",
       "       [559.5882  ],\n",
       "       [561.0877  ],\n",
       "       [561.31085 ],\n",
       "       [565.5712  ],\n",
       "       [578.5682  ],\n",
       "       [587.96313 ],\n",
       "       [589.85333 ],\n",
       "       [587.342   ],\n",
       "       [585.8353  ],\n",
       "       [586.41626 ],\n",
       "       [588.5879  ],\n",
       "       [595.7022  ],\n",
       "       [606.68225 ],\n",
       "       [621.4424  ],\n",
       "       [636.53143 ],\n",
       "       [651.67267 ],\n",
       "       [673.1679  ],\n",
       "       [704.9994  ]], dtype=float32)"
      ]
     },
     "execution_count": 34,
     "metadata": {},
     "output_type": "execute_result"
    }
   ],
   "source": [
    "predictions"
   ]
  },
  {
   "cell_type": "code",
   "execution_count": 35,
   "metadata": {},
   "outputs": [
    {
     "data": {
      "text/plain": [
       "272.73202770992884"
      ]
     },
     "execution_count": 35,
     "metadata": {},
     "output_type": "execute_result"
    }
   ],
   "source": [
    "#evaluate model w/RMSE\n",
    "rmse = np.sqrt(np.mean(predictions-y_test)**2)\n",
    "rmse"
   ]
  },
  {
   "cell_type": "code",
   "execution_count": 36,
   "metadata": {},
   "outputs": [],
   "source": [
    "predictions = pd.DataFrame(predictions, columns=['Predictions'])"
   ]
  },
  {
   "cell_type": "code",
   "execution_count": 37,
   "metadata": {},
   "outputs": [],
   "source": [
    "train = dataset[:training_data_len]\n",
    "valid = dataset[training_data_len:] #data from index training_data_len to "
   ]
  },
  {
   "cell_type": "code",
   "execution_count": 38,
   "metadata": {},
   "outputs": [
    {
     "data": {
      "text/plain": [
       "(253, 253)"
      ]
     },
     "execution_count": 38,
     "metadata": {},
     "output_type": "execute_result"
    }
   ],
   "source": [
    "len(predictions), len(valid)"
   ]
  },
  {
   "cell_type": "code",
   "execution_count": 39,
   "metadata": {},
   "outputs": [],
   "source": [
    "valid.reset_index(inplace=True)"
   ]
  },
  {
   "cell_type": "code",
   "execution_count": 40,
   "metadata": {},
   "outputs": [
    {
     "data": {
      "text/html": [
       "<div>\n",
       "<style scoped>\n",
       "    .dataframe tbody tr th:only-of-type {\n",
       "        vertical-align: middle;\n",
       "    }\n",
       "\n",
       "    .dataframe tbody tr th {\n",
       "        vertical-align: top;\n",
       "    }\n",
       "\n",
       "    .dataframe thead th {\n",
       "        text-align: right;\n",
       "    }\n",
       "</style>\n",
       "<table border=\"1\" class=\"dataframe\">\n",
       "  <thead>\n",
       "    <tr style=\"text-align: right;\">\n",
       "      <th></th>\n",
       "      <th>Date</th>\n",
       "      <th>Close</th>\n",
       "    </tr>\n",
       "  </thead>\n",
       "  <tbody>\n",
       "    <tr>\n",
       "      <th>0</th>\n",
       "      <td>2020-01-10</td>\n",
       "      <td>95.629997</td>\n",
       "    </tr>\n",
       "    <tr>\n",
       "      <th>1</th>\n",
       "      <td>2020-01-13</td>\n",
       "      <td>104.972000</td>\n",
       "    </tr>\n",
       "    <tr>\n",
       "      <th>2</th>\n",
       "      <td>2020-01-14</td>\n",
       "      <td>107.584000</td>\n",
       "    </tr>\n",
       "    <tr>\n",
       "      <th>3</th>\n",
       "      <td>2020-01-15</td>\n",
       "      <td>103.699997</td>\n",
       "    </tr>\n",
       "    <tr>\n",
       "      <th>4</th>\n",
       "      <td>2020-01-16</td>\n",
       "      <td>102.697998</td>\n",
       "    </tr>\n",
       "  </tbody>\n",
       "</table>\n",
       "</div>"
      ],
      "text/plain": [
       "        Date       Close\n",
       "0 2020-01-10   95.629997\n",
       "1 2020-01-13  104.972000\n",
       "2 2020-01-14  107.584000\n",
       "3 2020-01-15  103.699997\n",
       "4 2020-01-16  102.697998"
      ]
     },
     "execution_count": 40,
     "metadata": {},
     "output_type": "execute_result"
    }
   ],
   "source": [
    "valid.head()"
   ]
  },
  {
   "cell_type": "code",
   "execution_count": 41,
   "metadata": {},
   "outputs": [
    {
     "data": {
      "text/html": [
       "<div>\n",
       "<style scoped>\n",
       "    .dataframe tbody tr th:only-of-type {\n",
       "        vertical-align: middle;\n",
       "    }\n",
       "\n",
       "    .dataframe tbody tr th {\n",
       "        vertical-align: top;\n",
       "    }\n",
       "\n",
       "    .dataframe thead th {\n",
       "        text-align: right;\n",
       "    }\n",
       "</style>\n",
       "<table border=\"1\" class=\"dataframe\">\n",
       "  <thead>\n",
       "    <tr style=\"text-align: right;\">\n",
       "      <th></th>\n",
       "      <th>Predictions</th>\n",
       "    </tr>\n",
       "  </thead>\n",
       "  <tbody>\n",
       "    <tr>\n",
       "      <th>0</th>\n",
       "      <td>89.554619</td>\n",
       "    </tr>\n",
       "    <tr>\n",
       "      <th>1</th>\n",
       "      <td>91.058144</td>\n",
       "    </tr>\n",
       "    <tr>\n",
       "      <th>2</th>\n",
       "      <td>93.186554</td>\n",
       "    </tr>\n",
       "    <tr>\n",
       "      <th>3</th>\n",
       "      <td>96.019669</td>\n",
       "    </tr>\n",
       "    <tr>\n",
       "      <th>4</th>\n",
       "      <td>98.036758</td>\n",
       "    </tr>\n",
       "  </tbody>\n",
       "</table>\n",
       "</div>"
      ],
      "text/plain": [
       "   Predictions\n",
       "0    89.554619\n",
       "1    91.058144\n",
       "2    93.186554\n",
       "3    96.019669\n",
       "4    98.036758"
      ]
     },
     "execution_count": 41,
     "metadata": {},
     "output_type": "execute_result"
    }
   ],
   "source": [
    "predictions.head()"
   ]
  },
  {
   "cell_type": "code",
   "execution_count": 42,
   "metadata": {},
   "outputs": [],
   "source": [
    "valid['Prediction'] = predictions['Predictions']"
   ]
  },
  {
   "cell_type": "code",
   "execution_count": 43,
   "metadata": {},
   "outputs": [],
   "source": [
    "valid1 = valid.set_index('Date')"
   ]
  },
  {
   "cell_type": "code",
   "execution_count": 44,
   "metadata": {},
   "outputs": [
    {
     "data": {
      "text/html": [
       "<div>\n",
       "<style scoped>\n",
       "    .dataframe tbody tr th:only-of-type {\n",
       "        vertical-align: middle;\n",
       "    }\n",
       "\n",
       "    .dataframe tbody tr th {\n",
       "        vertical-align: top;\n",
       "    }\n",
       "\n",
       "    .dataframe thead th {\n",
       "        text-align: right;\n",
       "    }\n",
       "</style>\n",
       "<table border=\"1\" class=\"dataframe\">\n",
       "  <thead>\n",
       "    <tr style=\"text-align: right;\">\n",
       "      <th></th>\n",
       "      <th>Close</th>\n",
       "      <th>Prediction</th>\n",
       "    </tr>\n",
       "    <tr>\n",
       "      <th>Date</th>\n",
       "      <th></th>\n",
       "      <th></th>\n",
       "    </tr>\n",
       "  </thead>\n",
       "  <tbody>\n",
       "    <tr>\n",
       "      <th>2020-01-10</th>\n",
       "      <td>95.629997</td>\n",
       "      <td>89.554619</td>\n",
       "    </tr>\n",
       "    <tr>\n",
       "      <th>2020-01-13</th>\n",
       "      <td>104.972000</td>\n",
       "      <td>91.058144</td>\n",
       "    </tr>\n",
       "    <tr>\n",
       "      <th>2020-01-14</th>\n",
       "      <td>107.584000</td>\n",
       "      <td>93.186554</td>\n",
       "    </tr>\n",
       "    <tr>\n",
       "      <th>2020-01-15</th>\n",
       "      <td>103.699997</td>\n",
       "      <td>96.019669</td>\n",
       "    </tr>\n",
       "    <tr>\n",
       "      <th>2020-01-16</th>\n",
       "      <td>102.697998</td>\n",
       "      <td>98.036758</td>\n",
       "    </tr>\n",
       "  </tbody>\n",
       "</table>\n",
       "</div>"
      ],
      "text/plain": [
       "                 Close  Prediction\n",
       "Date                              \n",
       "2020-01-10   95.629997   89.554619\n",
       "2020-01-13  104.972000   91.058144\n",
       "2020-01-14  107.584000   93.186554\n",
       "2020-01-15  103.699997   96.019669\n",
       "2020-01-16  102.697998   98.036758"
      ]
     },
     "execution_count": 44,
     "metadata": {},
     "output_type": "execute_result"
    }
   ],
   "source": [
    "valid1.head()"
   ]
  },
  {
   "cell_type": "code",
   "execution_count": 45,
   "metadata": {},
   "outputs": [
    {
     "data": {
      "text/plain": [
       "<matplotlib.legend.Legend at 0x7f86baed8550>"
      ]
     },
     "execution_count": 45,
     "metadata": {},
     "output_type": "execute_result"
    },
    {
     "data": {
      "image/png": "[encoded data removed]",
      "text/plain": [
       "<Figure size 864x576 with 1 Axes>"
      ]
     },
     "metadata": {
      "needs_background": "light"
     },
     "output_type": "display_data"
    }
   ],
   "source": [
    "\"\"\"\n",
    "blue-data model was trainined on \n",
    "orange-actual closing stock price for rest of days\n",
    "green-what model predcited values to be\n",
    "\"\"\"\n",
    "\n",
    "# train = dataset[:training_data_len]\n",
    "# valid = dataset[training_data_len:] #data from index training_data_len to \n",
    "# valid['Predictions'] = predictions\n",
    "plt.figure(figsize=(12,8))\n",
    "plt.title('Model')\n",
    "plt.xlabel('Label')\n",
    "plt.ylabel('Close Price USD ($)')\n",
    "plt.plot(train['Close'])\n",
    "#plt.plot(valid[['Close','Predictions']])\n",
    "plt.plot(valid1['Close'])\n",
    "plt.plot(valid1['Prediction'])\n",
    "# #valid[['Close','Predictions']].plot()\n",
    "plt.legend(['Train','Valid','Predictions'],loc='lower right')"
   ]
  },
  {
   "cell_type": "code",
   "execution_count": 46,
   "metadata": {},
   "outputs": [
    {
     "data": {
      "text/html": [
       "<div>\n",
       "<style scoped>\n",
       "    .dataframe tbody tr th:only-of-type {\n",
       "        vertical-align: middle;\n",
       "    }\n",
       "\n",
       "    .dataframe tbody tr th {\n",
       "        vertical-align: top;\n",
       "    }\n",
       "\n",
       "    .dataframe thead th {\n",
       "        text-align: right;\n",
       "    }\n",
       "</style>\n",
       "<table border=\"1\" class=\"dataframe\">\n",
       "  <thead>\n",
       "    <tr style=\"text-align: right;\">\n",
       "      <th></th>\n",
       "      <th>Close</th>\n",
       "    </tr>\n",
       "    <tr>\n",
       "      <th>Date</th>\n",
       "      <th></th>\n",
       "    </tr>\n",
       "  </thead>\n",
       "  <tbody>\n",
       "    <tr>\n",
       "      <th>2021-01-05</th>\n",
       "      <td>735.109985</td>\n",
       "    </tr>\n",
       "    <tr>\n",
       "      <th>2021-01-06</th>\n",
       "      <td>755.979980</td>\n",
       "    </tr>\n",
       "    <tr>\n",
       "      <th>2021-01-07</th>\n",
       "      <td>816.039978</td>\n",
       "    </tr>\n",
       "    <tr>\n",
       "      <th>2021-01-08</th>\n",
       "      <td>880.020020</td>\n",
       "    </tr>\n",
       "    <tr>\n",
       "      <th>2021-01-11</th>\n",
       "      <td>811.190002</td>\n",
       "    </tr>\n",
       "  </tbody>\n",
       "</table>\n",
       "</div>"
      ],
      "text/plain": [
       "                 Close\n",
       "Date                  \n",
       "2021-01-05  735.109985\n",
       "2021-01-06  755.979980\n",
       "2021-01-07  816.039978\n",
       "2021-01-08  880.020020\n",
       "2021-01-11  811.190002"
      ]
     },
     "execution_count": 46,
     "metadata": {},
     "output_type": "execute_result"
    }
   ],
   "source": [
    "dataset.tail()"
   ]
  },
  {
   "cell_type": "code",
   "execution_count": 47,
   "metadata": {},
   "outputs": [],
   "source": [
    "\"\"\"\n",
    "predict closing price fo apple stock for 12/18/2019\n",
    "\n",
    "get the quote\n",
    "\"\"\"\n",
    "def get_quote(new_df):\n",
    "    #get last 60days closing values and convert datframe to an array\n",
    "    last_60_days = new_df[-60:].values #converts to array\n",
    "    #scale data\n",
    "    last_60_days_scaled = scaler.transform(last_60_days)\n",
    "    #realreate empty list\n",
    "    x_test = []\n",
    "    #append last 60 days to x_test\n",
    "    x_test.append(last_60_days_scaled)\n",
    "    #conert x_test to a numpy array\n",
    "    x_test = np.array(x_test)\n",
    "    # #reshape the data\n",
    "    x_test = np.reshape(x_test, (x_test.shape[0],x_test.shape[1],1))\n",
    "    #get the predcited scaled price\n",
    "    pred_price = model.predict(x_test)\n",
    "    #undo the scaling \n",
    "    pred_price = scaler.inverse_transform(pred_price) \n",
    "    #what model thinks predicted price will be for 12/18/2019\n",
    "    #the actual prcie was $69.94\n",
    "    #DAL: 58.58, 2021-1-11 40.19\n",
    "    return pred_price                    "
   ]
  },
  {
   "cell_type": "code",
   "execution_count": 48,
   "metadata": {},
   "outputs": [
    {
     "data": {
      "text/plain": [
       "array([[727.5992]], dtype=float32)"
      ]
     },
     "execution_count": 48,
     "metadata": {},
     "output_type": "execute_result"
    }
   ],
   "source": [
    "get_quote(dataset)"
   ]
  }
 ],
 "metadata": {
  "kernelspec": {
   "display_name": "Python 3",
   "language": "python",
   "name": "python3"
  },
  "language_info": {
   "codemirror_mode": {
    "name": "ipython",
    "version": 3
   },
   "file_extension": ".py",
   "mimetype": "text/x-python",
   "name": "python",
   "nbconvert_exporter": "python",
   "pygments_lexer": "ipython3",
   "version": "3.6.9"
  },
  "toc": {
   "base_numbering": 1,
   "nav_menu": {},
   "number_sections": true,
   "sideBar": true,
   "skip_h1_title": false,
   "title_cell": "Table of Contents",
   "title_sidebar": "Contents",
   "toc_cell": false,
   "toc_position": {},
   "toc_section_display": true,
   "toc_window_display": false
  }
 },
 "nbformat": 4,
 "nbformat_minor": 4
}
