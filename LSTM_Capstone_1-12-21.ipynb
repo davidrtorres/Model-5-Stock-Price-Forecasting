{
 "cells": [
  {
   "cell_type": "code",
   "execution_count": 51,
   "metadata": {},
   "outputs": [],
   "source": [
    "import pandas as pd\n",
    "import numpy as np\n",
    "import matplotlib.pyplot as plt\n",
    "%matplotlib inline\n",
    "\n",
    "from sklearn.preprocessing import MinMaxScaler\n",
    "\n",
    "import pandas_datareader.data as web\n",
    "\n",
    "from keras.models import Sequential\n",
    "from keras.layers import Dense\n",
    "from keras.layers import LSTM\n",
    "from keras.layers import Dropout\n",
    "\n",
    "import warnings\n",
    "warnings.filterwarnings('ignore')"
   ]
  },
  {
   "cell_type": "code",
   "execution_count": 52,
   "metadata": {},
   "outputs": [
    {
     "name": "stdout",
     "output_type": "stream",
     "text": [
      "2.1.3-tf\n"
     ]
    }
   ],
   "source": [
    "print(keras.__version__)"
   ]
  },
  {
   "cell_type": "code",
   "execution_count": 53,
   "metadata": {},
   "outputs": [],
   "source": [
    "def stockplotter(ticker):\n",
    "    try:\n",
    "        #stock = pdr.get_data_yahoo(ticker,start,end)\n",
    "        data = {}\n",
    "        for stock in ticker:\n",
    "            data = web.DataReader(stock,'yahoo','2018','2021')['Adj Close']\n",
    "        df_1 = pd.DataFrame(data)#.reset_index()\n",
    "        \n",
    "        df_1.plot(figsize=(12,8))\n",
    "        plt.title(\"Housing Price Trends \")\n",
    "        #plt.set(title=f'Housing Prices by Year - {zip_df.index.freq}')\n",
    "        plt.xlabel('Year')\n",
    "        plt.ylabel('Home Prices')\n",
    "        plt.legend(bbox_to_anchor=(1.05,1),loc='upper left') \n",
    "        \n",
    "        return df_1\n",
    "     \n",
    "    except Exception as e:\n",
    "        print(\"Error occured:\", e)\n",
    "        #data = 'Incorrect Symbol'\n"
   ]
  },
  {
   "cell_type": "code",
   "execution_count": 54,
   "metadata": {},
   "outputs": [
    {
     "data": {
      "text/html": [
       "<div>\n",
       "<style scoped>\n",
       "    .dataframe tbody tr th:only-of-type {\n",
       "        vertical-align: middle;\n",
       "    }\n",
       "\n",
       "    .dataframe tbody tr th {\n",
       "        vertical-align: top;\n",
       "    }\n",
       "\n",
       "    .dataframe thead th {\n",
       "        text-align: right;\n",
       "    }\n",
       "</style>\n",
       "<table border=\"1\" class=\"dataframe\">\n",
       "  <thead>\n",
       "    <tr style=\"text-align: right;\">\n",
       "      <th>Symbols</th>\n",
       "      <th>AAPL</th>\n",
       "      <th>GOOGL</th>\n",
       "      <th>AMZN</th>\n",
       "      <th>MSFT</th>\n",
       "      <th>DAL</th>\n",
       "    </tr>\n",
       "    <tr>\n",
       "      <th>Date</th>\n",
       "      <th></th>\n",
       "      <th></th>\n",
       "      <th></th>\n",
       "      <th></th>\n",
       "      <th></th>\n",
       "    </tr>\n",
       "  </thead>\n",
       "  <tbody>\n",
       "    <tr>\n",
       "      <th>2018-01-02</th>\n",
       "      <td>41.442081</td>\n",
       "      <td>1073.209961</td>\n",
       "      <td>1189.010010</td>\n",
       "      <td>82.383636</td>\n",
       "      <td>53.520050</td>\n",
       "    </tr>\n",
       "    <tr>\n",
       "      <th>2018-01-03</th>\n",
       "      <td>41.434864</td>\n",
       "      <td>1091.520020</td>\n",
       "      <td>1204.199951</td>\n",
       "      <td>82.767044</td>\n",
       "      <td>52.529640</td>\n",
       "    </tr>\n",
       "    <tr>\n",
       "      <th>2018-01-04</th>\n",
       "      <td>41.627323</td>\n",
       "      <td>1095.760010</td>\n",
       "      <td>1209.589966</td>\n",
       "      <td>83.495522</td>\n",
       "      <td>52.529640</td>\n",
       "    </tr>\n",
       "    <tr>\n",
       "      <th>2018-01-05</th>\n",
       "      <td>42.101261</td>\n",
       "      <td>1110.290039</td>\n",
       "      <td>1229.140015</td>\n",
       "      <td>84.530701</td>\n",
       "      <td>52.793751</td>\n",
       "    </tr>\n",
       "    <tr>\n",
       "      <th>2018-01-08</th>\n",
       "      <td>41.944889</td>\n",
       "      <td>1114.209961</td>\n",
       "      <td>1246.869995</td>\n",
       "      <td>84.616966</td>\n",
       "      <td>51.576958</td>\n",
       "    </tr>\n",
       "    <tr>\n",
       "      <th>...</th>\n",
       "      <td>...</td>\n",
       "      <td>...</td>\n",
       "      <td>...</td>\n",
       "      <td>...</td>\n",
       "      <td>...</td>\n",
       "    </tr>\n",
       "    <tr>\n",
       "      <th>2020-12-24</th>\n",
       "      <td>131.970001</td>\n",
       "      <td>1734.160034</td>\n",
       "      <td>3172.689941</td>\n",
       "      <td>222.750000</td>\n",
       "      <td>39.730000</td>\n",
       "    </tr>\n",
       "    <tr>\n",
       "      <th>2020-12-28</th>\n",
       "      <td>136.690002</td>\n",
       "      <td>1773.959961</td>\n",
       "      <td>3283.959961</td>\n",
       "      <td>224.960007</td>\n",
       "      <td>40.150002</td>\n",
       "    </tr>\n",
       "    <tr>\n",
       "      <th>2020-12-29</th>\n",
       "      <td>134.869995</td>\n",
       "      <td>1757.760010</td>\n",
       "      <td>3322.000000</td>\n",
       "      <td>224.149994</td>\n",
       "      <td>40.029999</td>\n",
       "    </tr>\n",
       "    <tr>\n",
       "      <th>2020-12-30</th>\n",
       "      <td>133.720001</td>\n",
       "      <td>1736.250000</td>\n",
       "      <td>3285.850098</td>\n",
       "      <td>221.679993</td>\n",
       "      <td>40.560001</td>\n",
       "    </tr>\n",
       "    <tr>\n",
       "      <th>2020-12-31</th>\n",
       "      <td>132.690002</td>\n",
       "      <td>1752.640015</td>\n",
       "      <td>3256.929932</td>\n",
       "      <td>222.419998</td>\n",
       "      <td>40.209999</td>\n",
       "    </tr>\n",
       "  </tbody>\n",
       "</table>\n",
       "<p>756 rows × 5 columns</p>\n",
       "</div>"
      ],
      "text/plain": [
       "Symbols           AAPL        GOOGL         AMZN        MSFT        DAL\n",
       "Date                                                                   \n",
       "2018-01-02   41.442081  1073.209961  1189.010010   82.383636  53.520050\n",
       "2018-01-03   41.434864  1091.520020  1204.199951   82.767044  52.529640\n",
       "2018-01-04   41.627323  1095.760010  1209.589966   83.495522  52.529640\n",
       "2018-01-05   42.101261  1110.290039  1229.140015   84.530701  52.793751\n",
       "2018-01-08   41.944889  1114.209961  1246.869995   84.616966  51.576958\n",
       "...                ...          ...          ...         ...        ...\n",
       "2020-12-24  131.970001  1734.160034  3172.689941  222.750000  39.730000\n",
       "2020-12-28  136.690002  1773.959961  3283.959961  224.960007  40.150002\n",
       "2020-12-29  134.869995  1757.760010  3322.000000  224.149994  40.029999\n",
       "2020-12-30  133.720001  1736.250000  3285.850098  221.679993  40.560001\n",
       "2020-12-31  132.690002  1752.640015  3256.929932  222.419998  40.209999\n",
       "\n",
       "[756 rows x 5 columns]"
      ]
     },
     "execution_count": 54,
     "metadata": {},
     "output_type": "execute_result"
    },
    {
     "data": {
      "image/png": "[encoded data removed]",
      "text/plain": [
       "<Figure size 864x576 with 1 Axes>"
      ]
     },
     "metadata": {
      "needs_background": "light"
     },
     "output_type": "display_data"
    }
   ],
   "source": [
    "#df_1 = stockplotter(['XYZC'])\n",
    "df_1 = stockplotter([['AAPL','GOOGL','AMZN','MSFT','DAL']])\n",
    "df_1"
   ]
  },
  {
   "cell_type": "code",
   "execution_count": 55,
   "metadata": {},
   "outputs": [],
   "source": [
    "# ## List of symbols to grab\n",
    "# symbols = ['FB','AAPL','GOOGL','AMZN','MSFT']\n",
    "# data = {}\n",
    "# for stock in symbols:\n",
    "#     data[stock] = web.DataReader(stock,'yahoo','2018','2021')['Adj Close']\n",
    "# df_1 = pd.DataFrame(data)#.reset_index()\n",
    "# df_1"
   ]
  },
  {
   "cell_type": "code",
   "execution_count": 104,
   "metadata": {},
   "outputs": [
    {
     "data": {
      "text/plain": [
       "<matplotlib.legend.Legend at 0x7f836ccbd6d8>"
      ]
     },
     "execution_count": 104,
     "metadata": {},
     "output_type": "execute_result"
    },
    {
     "data": {
      "image/png": "[encoded data removed]",
      "text/plain": [
       "<Figure size 864x576 with 1 Axes>"
      ]
     },
     "metadata": {
      "needs_background": "light"
     },
     "output_type": "display_data"
    }
   ],
   "source": [
    "df_1.plot(figsize=(12,8))\n",
    "plt.title(\"Stock Adj Close Price Trends \")\n",
    "#plt.set(title=f'Housing Prices by Year - {zip_df.index.freq}')\n",
    "plt.xlabel('Year')\n",
    "plt.ylabel('Prices')\n",
    "plt.legend(bbox_to_anchor=(1.05,1),loc='upper left')"
   ]
  },
  {
   "cell_type": "code",
   "execution_count": 105,
   "metadata": {},
   "outputs": [],
   "source": [
    "#df = pd.read_csv('data/apple_2012_1_1-2019_12_17.csv', parse_dates=True, index_col=[0])\n",
    "\n",
    "#Get the stock quote \n",
    "df = web.DataReader('TSLA', data_source='yahoo', start='2016-01-01', end='2021-1-11') "
   ]
  },
  {
   "cell_type": "code",
   "execution_count": 106,
   "metadata": {},
   "outputs": [
    {
     "data": {
      "text/html": [
       "<div>\n",
       "<style scoped>\n",
       "    .dataframe tbody tr th:only-of-type {\n",
       "        vertical-align: middle;\n",
       "    }\n",
       "\n",
       "    .dataframe tbody tr th {\n",
       "        vertical-align: top;\n",
       "    }\n",
       "\n",
       "    .dataframe thead th {\n",
       "        text-align: right;\n",
       "    }\n",
       "</style>\n",
       "<table border=\"1\" class=\"dataframe\">\n",
       "  <thead>\n",
       "    <tr style=\"text-align: right;\">\n",
       "      <th></th>\n",
       "      <th>High</th>\n",
       "      <th>Low</th>\n",
       "      <th>Open</th>\n",
       "      <th>Close</th>\n",
       "      <th>Volume</th>\n",
       "      <th>Adj Close</th>\n",
       "    </tr>\n",
       "    <tr>\n",
       "      <th>Date</th>\n",
       "      <th></th>\n",
       "      <th></th>\n",
       "      <th></th>\n",
       "      <th></th>\n",
       "      <th></th>\n",
       "      <th></th>\n",
       "    </tr>\n",
       "  </thead>\n",
       "  <tbody>\n",
       "    <tr>\n",
       "      <th>2016-01-04</th>\n",
       "      <td>46.276001</td>\n",
       "      <td>43.799999</td>\n",
       "      <td>46.144001</td>\n",
       "      <td>44.681999</td>\n",
       "      <td>34135500.0</td>\n",
       "      <td>44.681999</td>\n",
       "    </tr>\n",
       "    <tr>\n",
       "      <th>2016-01-05</th>\n",
       "      <td>45.377998</td>\n",
       "      <td>44.000000</td>\n",
       "      <td>45.271999</td>\n",
       "      <td>44.686001</td>\n",
       "      <td>15934000.0</td>\n",
       "      <td>44.686001</td>\n",
       "    </tr>\n",
       "    <tr>\n",
       "      <th>2016-01-06</th>\n",
       "      <td>44.009998</td>\n",
       "      <td>43.195999</td>\n",
       "      <td>44.000000</td>\n",
       "      <td>43.807999</td>\n",
       "      <td>18895500.0</td>\n",
       "      <td>43.807999</td>\n",
       "    </tr>\n",
       "    <tr>\n",
       "      <th>2016-01-07</th>\n",
       "      <td>43.688000</td>\n",
       "      <td>42.734001</td>\n",
       "      <td>42.838001</td>\n",
       "      <td>43.130001</td>\n",
       "      <td>17771500.0</td>\n",
       "      <td>43.130001</td>\n",
       "    </tr>\n",
       "    <tr>\n",
       "      <th>2016-01-08</th>\n",
       "      <td>44.088001</td>\n",
       "      <td>42.153999</td>\n",
       "      <td>43.571999</td>\n",
       "      <td>42.200001</td>\n",
       "      <td>18140500.0</td>\n",
       "      <td>42.200001</td>\n",
       "    </tr>\n",
       "  </tbody>\n",
       "</table>\n",
       "</div>"
      ],
      "text/plain": [
       "                 High        Low       Open      Close      Volume  Adj Close\n",
       "Date                                                                         \n",
       "2016-01-04  46.276001  43.799999  46.144001  44.681999  34135500.0  44.681999\n",
       "2016-01-05  45.377998  44.000000  45.271999  44.686001  15934000.0  44.686001\n",
       "2016-01-06  44.009998  43.195999  44.000000  43.807999  18895500.0  43.807999\n",
       "2016-01-07  43.688000  42.734001  42.838001  43.130001  17771500.0  43.130001\n",
       "2016-01-08  44.088001  42.153999  43.571999  42.200001  18140500.0  42.200001"
      ]
     },
     "execution_count": 106,
     "metadata": {},
     "output_type": "execute_result"
    }
   ],
   "source": [
    "df.head()"
   ]
  },
  {
   "cell_type": "code",
   "execution_count": 107,
   "metadata": {},
   "outputs": [
    {
     "data": {
      "text/plain": [
       "(1265, 6)"
      ]
     },
     "execution_count": 107,
     "metadata": {},
     "output_type": "execute_result"
    }
   ],
   "source": [
    "df.shape"
   ]
  },
  {
   "cell_type": "code",
   "execution_count": 108,
   "metadata": {},
   "outputs": [
    {
     "data": {
      "text/plain": [
       "Text(0, 0.5, 'Close Price USD ($)')"
      ]
     },
     "execution_count": 108,
     "metadata": {},
     "output_type": "execute_result"
    },
    {
     "data": {
      "image/png": "[encoded data removed]",
      "text/plain": [
       "<Figure size 864x576 with 1 Axes>"
      ]
     },
     "metadata": {
      "needs_background": "light"
     },
     "output_type": "display_data"
    }
   ],
   "source": [
    "plt.figure(figsize=(12,8))\n",
    "plt.plot(df['Close'])\n",
    "plt.xlabel('Date', fontsize=18)\n",
    "plt.ylabel('Close Price USD ($)', fontsize=18)"
   ]
  },
  {
   "cell_type": "code",
   "execution_count": 109,
   "metadata": {},
   "outputs": [],
   "source": [
    "#df = df.diff().dropna() #zip_df[11226].diff().dropna()"
   ]
  },
  {
   "cell_type": "code",
   "execution_count": 110,
   "metadata": {},
   "outputs": [],
   "source": [
    "dataset = df['Adj Close']\n",
    "# dataset = data.values"
   ]
  },
  {
   "cell_type": "code",
   "execution_count": 111,
   "metadata": {},
   "outputs": [],
   "source": [
    "def preprocessing(df,percentage):\n",
    "    training_data_len = int(np.round(len(df) * percentage))\n",
    "    dataset = pd.DataFrame(df)\n",
    "    scaler = MinMaxScaler(feature_range = (0, 1))\n",
    "    scaled_data = scaler.fit_transform(dataset)\n",
    "    return training_data_len, dataset, scaler, scaled_data"
   ]
  },
  {
   "cell_type": "code",
   "execution_count": 112,
   "metadata": {},
   "outputs": [],
   "source": [
    "training_data_len, dataset, scaler, scaled_data = preprocessing(dataset, percentage=.8)"
   ]
  },
  {
   "cell_type": "code",
   "execution_count": 113,
   "metadata": {},
   "outputs": [],
   "source": [
    "#training_data_len = int(np.round(len(dataset) * .8))"
   ]
  },
  {
   "cell_type": "code",
   "execution_count": 114,
   "metadata": {},
   "outputs": [
    {
     "data": {
      "text/plain": [
       "1012"
      ]
     },
     "execution_count": 114,
     "metadata": {},
     "output_type": "execute_result"
    }
   ],
   "source": [
    "training_data_len"
   ]
  },
  {
   "cell_type": "code",
   "execution_count": 115,
   "metadata": {},
   "outputs": [],
   "source": [
    "def create_sets(training_data_len):\n",
    "    #create training data set\n",
    "    train_data = scaled_data[0:training_data_len,:]\n",
    "    test_data = scaled_data[training_data_len -60:,:] #to 2003 which is end of dataset\n",
    "    #split data into X_train and y_train data sets\n",
    "    X_train = []\n",
    "    y_train = []\n",
    "    #create dataset X_test and y_test data sets\n",
    "    X_test = []\n",
    "    y_test = []    #dataset.iloc[training_data_len:, :]\n",
    "\n",
    "\n",
    "    for i in range(60, len(train_data)):\n",
    "        X_train.append(train_data[i-60:i])\n",
    "        y_train.append(train_data[i,0]) #will contain 61st value which will be at position 60\n",
    "\n",
    "    for i in range(60, len(test_data)):\n",
    "        X_test.append(test_data[i-60:i,0]) \n",
    "        y_test.append(test_data[i,0])\n",
    "        \n",
    "    X_train, y_train = np.array(X_train), np.array(y_train)    \n",
    "        \n",
    "    return X_train, X_test, y_train, y_test    "
   ]
  },
  {
   "cell_type": "code",
   "execution_count": 116,
   "metadata": {},
   "outputs": [],
   "source": [
    "X_train, X_test, y_train, y_test = create_sets(training_data_len)"
   ]
  },
  {
   "cell_type": "code",
   "execution_count": 117,
   "metadata": {},
   "outputs": [
    {
     "data": {
      "text/plain": [
       "60"
      ]
     },
     "execution_count": 117,
     "metadata": {},
     "output_type": "execute_result"
    }
   ],
   "source": [
    "len(X_train[0])"
   ]
  },
  {
   "cell_type": "code",
   "execution_count": 118,
   "metadata": {},
   "outputs": [
    {
     "data": {
      "text/plain": [
       "array([[[0.01873401],\n",
       "        [0.01873871],\n",
       "        [0.01770733],\n",
       "        ...,\n",
       "        [0.02034334],\n",
       "        [0.0203128 ],\n",
       "        [0.01955159]],\n",
       "\n",
       "       [[0.01873871],\n",
       "        [0.01770733],\n",
       "        [0.01691089],\n",
       "        ...,\n",
       "        [0.0203128 ],\n",
       "        [0.01955159],\n",
       "        [0.02022822]],\n",
       "\n",
       "       [[0.01770733],\n",
       "        [0.01691089],\n",
       "        [0.01581842],\n",
       "        ...,\n",
       "        [0.01955159],\n",
       "        [0.02022822],\n",
       "        [0.02206544]],\n",
       "\n",
       "       ...,\n",
       "\n",
       "       [[0.02374525],\n",
       "        [0.02448531],\n",
       "        [0.0266162 ],\n",
       "        ...,\n",
       "        [0.06733107],\n",
       "        [0.07032654],\n",
       "        [0.07233057]],\n",
       "\n",
       "       [[0.02448531],\n",
       "        [0.0266162 ],\n",
       "        [0.02683469],\n",
       "        ...,\n",
       "        [0.07032654],\n",
       "        [0.07233057],\n",
       "        [0.07644669]],\n",
       "\n",
       "       [[0.0266162 ],\n",
       "        [0.02683469],\n",
       "        [0.02727168],\n",
       "        ...,\n",
       "        [0.07233057],\n",
       "        [0.07644669],\n",
       "        [0.08186908]]])"
      ]
     },
     "execution_count": 118,
     "metadata": {},
     "output_type": "execute_result"
    }
   ],
   "source": [
    "X_train"
   ]
  },
  {
   "cell_type": "code",
   "execution_count": 119,
   "metadata": {},
   "outputs": [
    {
     "data": {
      "text/plain": [
       "(952, 60, 1)"
      ]
     },
     "execution_count": 119,
     "metadata": {},
     "output_type": "execute_result"
    }
   ],
   "source": [
    "X_train.shape"
   ]
  },
  {
   "cell_type": "code",
   "execution_count": 120,
   "metadata": {},
   "outputs": [],
   "source": [
    "\n",
    "model = Sequential()\n",
    "\n",
    "model.add(LSTM(units = 50, return_sequences = True, input_shape=(X_train.shape[1],1)))\n",
    "model.add(Dropout(0.2))\n",
    "\n",
    "model.add(LSTM(units = 50, return_sequences = True))\n",
    "model.add(Dropout(0.2))\n",
    "\n",
    "model.add(LSTM(units = 50, return_sequences = False))\n",
    "model.add(Dropout(0.2))\n",
    "\n",
    "model.add(Dense(units = 25))\n",
    "model.add(Dense(units = 1))\n",
    "\n",
    "model.compile(optimizer = 'adam', loss = 'mean_squared_error')\n"
   ]
  },
  {
   "cell_type": "code",
   "execution_count": 121,
   "metadata": {},
   "outputs": [
    {
     "name": "stdout",
     "output_type": "stream",
     "text": [
      "_________________________________________________________________\n",
      "Layer (type)                 Output Shape              Param #   \n",
      "=================================================================\n",
      "lstm_7 (LSTM)                (None, 60, 50)            10400     \n",
      "_________________________________________________________________\n",
      "dropout_7 (Dropout)          (None, 60, 50)            0         \n",
      "_________________________________________________________________\n",
      "lstm_8 (LSTM)                (None, 60, 50)            20200     \n",
      "_________________________________________________________________\n",
      "dropout_8 (Dropout)          (None, 60, 50)            0         \n",
      "_________________________________________________________________\n",
      "lstm_9 (LSTM)                (None, 50)                20200     \n",
      "_________________________________________________________________\n",
      "dropout_9 (Dropout)          (None, 50)                0         \n",
      "_________________________________________________________________\n",
      "dense_5 (Dense)              (None, 25)                1275      \n",
      "_________________________________________________________________\n",
      "dense_6 (Dense)              (None, 1)                 26        \n",
      "=================================================================\n",
      "Total params: 52,101\n",
      "Trainable params: 52,101\n",
      "Non-trainable params: 0\n",
      "_________________________________________________________________\n"
     ]
    }
   ],
   "source": [
    "model.summary()"
   ]
  },
  {
   "cell_type": "code",
   "execution_count": 122,
   "metadata": {},
   "outputs": [
    {
     "name": "stdout",
     "output_type": "stream",
     "text": [
      "Epoch 1/50\n",
      "952/952 [==============================] - 9s 9ms/step - loss: 2.3013e-04\n",
      "Epoch 2/50\n",
      "952/952 [==============================] - 6s 6ms/step - loss: 6.6443e-05\n",
      "Epoch 3/50\n",
      "952/952 [==============================] - 6s 6ms/step - loss: 3.8625e-05\n",
      "Epoch 4/50\n",
      "952/952 [==============================] - 6s 6ms/step - loss: 3.5106e-05\n",
      "Epoch 5/50\n",
      "952/952 [==============================] - 6s 6ms/step - loss: 3.3854e-05\n",
      "Epoch 6/50\n",
      "952/952 [==============================] - 6s 6ms/step - loss: 2.7992e-05\n",
      "Epoch 7/50\n",
      "952/952 [==============================] - 6s 6ms/step - loss: 2.8739e-05\n",
      "Epoch 8/50\n",
      "952/952 [==============================] - 6s 6ms/step - loss: 2.5901e-05\n",
      "Epoch 9/50\n",
      "952/952 [==============================] - 6s 6ms/step - loss: 2.3191e-05\n",
      "Epoch 10/50\n",
      "952/952 [==============================] - 6s 6ms/step - loss: 2.1954e-05\n",
      "Epoch 11/50\n",
      "952/952 [==============================] - 6s 6ms/step - loss: 2.2173e-05\n",
      "Epoch 12/50\n",
      "952/952 [==============================] - 6s 6ms/step - loss: 2.2136e-05\n",
      "Epoch 13/50\n",
      "952/952 [==============================] - 6s 6ms/step - loss: 2.3310e-05\n",
      "Epoch 14/50\n",
      "952/952 [==============================] - 6s 6ms/step - loss: 2.2909e-05\n",
      "Epoch 15/50\n",
      "952/952 [==============================] - 6s 6ms/step - loss: 2.2148e-05\n",
      "Epoch 16/50\n",
      "952/952 [==============================] - 6s 6ms/step - loss: 2.6829e-05\n",
      "Epoch 17/50\n",
      "952/952 [==============================] - 6s 6ms/step - loss: 1.9494e-05\n",
      "Epoch 18/50\n",
      "952/952 [==============================] - 6s 6ms/step - loss: 2.1368e-05\n",
      "Epoch 19/50\n",
      "952/952 [==============================] - 6s 6ms/step - loss: 1.6579e-05\n",
      "Epoch 20/50\n",
      "952/952 [==============================] - 6s 6ms/step - loss: 1.8115e-05\n",
      "Epoch 21/50\n",
      "952/952 [==============================] - 8s 8ms/step - loss: 1.6449e-05\n",
      "Epoch 22/50\n",
      "952/952 [==============================] - 6s 6ms/step - loss: 2.0627e-05\n",
      "Epoch 23/50\n",
      "952/952 [==============================] - 6s 6ms/step - loss: 1.8960e-05\n",
      "Epoch 24/50\n",
      "952/952 [==============================] - 6s 6ms/step - loss: 1.7660e-05\n",
      "Epoch 25/50\n",
      "952/952 [==============================] - 6s 6ms/step - loss: 1.5999e-05\n",
      "Epoch 26/50\n",
      "952/952 [==============================] - 6s 6ms/step - loss: 1.5554e-05\n",
      "Epoch 27/50\n",
      "952/952 [==============================] - 6s 6ms/step - loss: 1.5046e-05\n",
      "Epoch 28/50\n",
      "952/952 [==============================] - 6s 6ms/step - loss: 1.3895e-05\n",
      "Epoch 29/50\n",
      "952/952 [==============================] - 6s 6ms/step - loss: 1.5626e-05\n",
      "Epoch 30/50\n",
      "952/952 [==============================] - 6s 6ms/step - loss: 1.4708e-05\n",
      "Epoch 31/50\n",
      "952/952 [==============================] - 6s 6ms/step - loss: 1.8766e-05\n",
      "Epoch 32/50\n",
      "952/952 [==============================] - 6s 6ms/step - loss: 1.9659e-05\n",
      "Epoch 33/50\n",
      "952/952 [==============================] - 6s 6ms/step - loss: 1.6004e-05\n",
      "Epoch 34/50\n",
      "952/952 [==============================] - 6s 6ms/step - loss: 1.4566e-05\n",
      "Epoch 35/50\n",
      "952/952 [==============================] - 6s 6ms/step - loss: 1.4323e-05\n",
      "Epoch 36/50\n",
      "952/952 [==============================] - 6s 6ms/step - loss: 1.4333e-05\n",
      "Epoch 37/50\n",
      "952/952 [==============================] - 6s 6ms/step - loss: 1.2528e-05\n",
      "Epoch 38/50\n",
      "952/952 [==============================] - 6s 6ms/step - loss: 1.4275e-05\n",
      "Epoch 39/50\n",
      "952/952 [==============================] - 6s 6ms/step - loss: 1.2378e-05\n",
      "Epoch 40/50\n",
      "952/952 [==============================] - 6s 6ms/step - loss: 1.3580e-05\n",
      "Epoch 41/50\n",
      "952/952 [==============================] - 6s 6ms/step - loss: 1.2986e-05\n",
      "Epoch 42/50\n",
      "952/952 [==============================] - 6s 6ms/step - loss: 1.2089e-05\n",
      "Epoch 43/50\n",
      "952/952 [==============================] - 6s 6ms/step - loss: 1.3890e-05\n",
      "Epoch 44/50\n",
      "952/952 [==============================] - 6s 6ms/step - loss: 1.2751e-05\n",
      "Epoch 45/50\n",
      "952/952 [==============================] - 6s 6ms/step - loss: 1.2774e-05\n",
      "Epoch 46/50\n",
      "952/952 [==============================] - 6s 6ms/step - loss: 1.2478e-05\n",
      "Epoch 47/50\n",
      "952/952 [==============================] - 8s 9ms/step - loss: 1.3439e-05\n",
      "Epoch 48/50\n",
      "952/952 [==============================] - 6s 7ms/step - loss: 1.4626e-05\n",
      "Epoch 49/50\n",
      "952/952 [==============================] - 6s 6ms/step - loss: 1.2704e-05\n",
      "Epoch 50/50\n",
      "952/952 [==============================] - 6s 6ms/step - loss: 1.2535e-05\n"
     ]
    },
    {
     "data": {
      "text/plain": [
       "<keras.callbacks.History at 0x7f836caee358>"
      ]
     },
     "execution_count": 122,
     "metadata": {},
     "output_type": "execute_result"
    }
   ],
   "source": [
    "#train the model\n",
    "#model checkpoint save_weights_only=True\n",
    "#fresh_model.load_weights  load_model\n",
    "#model.save(), load_model('')\n",
    "model.fit(X_train,y_train, epochs=50, batch_size=32 ) "
   ]
  },
  {
   "cell_type": "code",
   "execution_count": 123,
   "metadata": {},
   "outputs": [
    {
     "data": {
      "text/plain": [
       "'/Users/davidtorres/Flatiron_041320/Model_5/dsc-capstone-project-v2-onl01-dtsc-pt-041320'"
      ]
     },
     "execution_count": 123,
     "metadata": {},
     "output_type": "execute_result"
    }
   ],
   "source": [
    "pwd"
   ]
  },
  {
   "cell_type": "code",
   "execution_count": 124,
   "metadata": {},
   "outputs": [],
   "source": [
    "model.save('best_model_parameters.h5')"
   ]
  },
  {
   "cell_type": "code",
   "execution_count": 125,
   "metadata": {},
   "outputs": [],
   "source": [
    "from tensorflow import keras\n",
    "from keras.models import load_model"
   ]
  },
  {
   "cell_type": "code",
   "execution_count": 126,
   "metadata": {},
   "outputs": [
    {
     "name": "stdout",
     "output_type": "stream",
     "text": [
      "_________________________________________________________________\n",
      "Layer (type)                 Output Shape              Param #   \n",
      "=================================================================\n",
      "lstm_7 (LSTM)                (None, 60, 50)            10400     \n",
      "_________________________________________________________________\n",
      "dropout_7 (Dropout)          (None, 60, 50)            0         \n",
      "_________________________________________________________________\n",
      "lstm_8 (LSTM)                (None, 60, 50)            20200     \n",
      "_________________________________________________________________\n",
      "dropout_8 (Dropout)          (None, 60, 50)            0         \n",
      "_________________________________________________________________\n",
      "lstm_9 (LSTM)                (None, 50)                20200     \n",
      "_________________________________________________________________\n",
      "dropout_9 (Dropout)          (None, 50)                0         \n",
      "_________________________________________________________________\n",
      "dense_5 (Dense)              (None, 25)                1275      \n",
      "_________________________________________________________________\n",
      "dense_6 (Dense)              (None, 1)                 26        \n",
      "=================================================================\n",
      "Total params: 52,101\n",
      "Trainable params: 52,101\n",
      "Non-trainable params: 0\n",
      "_________________________________________________________________\n"
     ]
    }
   ],
   "source": [
    "#model_params = keras.models.load_model(best_model)\n",
    "model1 = load_model('best_model_parameters.h5')\n",
    "\n",
    "# summarize model.\n",
    "model1.summary()"
   ]
  },
  {
   "cell_type": "code",
   "execution_count": null,
   "metadata": {},
   "outputs": [],
   "source": []
  },
  {
   "cell_type": "code",
   "execution_count": null,
   "metadata": {},
   "outputs": [],
   "source": []
  },
  {
   "cell_type": "code",
   "execution_count": 127,
   "metadata": {},
   "outputs": [],
   "source": [
    "#convert data to a numpy array\n",
    "X_test = np.array(X_test)"
   ]
  },
  {
   "cell_type": "code",
   "execution_count": 128,
   "metadata": {},
   "outputs": [
    {
     "data": {
      "text/plain": [
       "(253, 60)"
      ]
     },
     "execution_count": 128,
     "metadata": {},
     "output_type": "execute_result"
    }
   ],
   "source": [
    "X_test.shape"
   ]
  },
  {
   "cell_type": "code",
   "execution_count": 129,
   "metadata": {},
   "outputs": [],
   "source": [
    "#number of rows, number of timeseteps, number of features\n",
    "X_test = np.reshape(X_test,(X_test.shape[0],X_test.shape[1],1))"
   ]
  },
  {
   "cell_type": "code",
   "execution_count": 130,
   "metadata": {},
   "outputs": [
    {
     "data": {
      "text/plain": [
       "(253, 60, 1)"
      ]
     },
     "execution_count": 130,
     "metadata": {},
     "output_type": "execute_result"
    }
   ],
   "source": [
    "X_test.shape"
   ]
  },
  {
   "cell_type": "code",
   "execution_count": 131,
   "metadata": {},
   "outputs": [],
   "source": [
    "#get models predicted price values for X_test dataset\n",
    "#want predcitions to contain same values as y_test dataset once we inverse_transform\n",
    "#getting predcitiosn off of X_test\n",
    "predictions = model.predict(X_test)\n",
    "predictions = scaler.inverse_transform(predictions) #unscaling the values"
   ]
  },
  {
   "cell_type": "code",
   "execution_count": 132,
   "metadata": {},
   "outputs": [
    {
     "data": {
      "text/plain": [
       "array([[ 93.60594 ],\n",
       "       [ 95.00903 ],\n",
       "       [ 97.24516 ],\n",
       "       [100.30011 ],\n",
       "       [102.34515 ],\n",
       "       [102.91404 ],\n",
       "       [102.3648  ],\n",
       "       [102.85775 ],\n",
       "       [105.04147 ],\n",
       "       [107.88274 ],\n",
       "       [110.03238 ],\n",
       "       [110.88932 ],\n",
       "       [111.147606],\n",
       "       [111.71017 ],\n",
       "       [114.881   ],\n",
       "       [119.54739 ],\n",
       "       [129.12231 ],\n",
       "       [144.22466 ],\n",
       "       [153.03389 ],\n",
       "       [155.32574 ],\n",
       "       [153.5249  ],\n",
       "       [151.13126 ],\n",
       "       [149.50041 ],\n",
       "       [148.49303 ],\n",
       "       [149.50606 ],\n",
       "       [151.49669 ],\n",
       "       [155.86989 ],\n",
       "       [163.29852 ],\n",
       "       [170.24307 ],\n",
       "       [175.02324 ],\n",
       "       [174.65959 ],\n",
       "       [169.74773 ],\n",
       "       [162.62013 ],\n",
       "       [152.06589 ],\n",
       "       [141.23358 ],\n",
       "       [136.11836 ],\n",
       "       [136.23407 ],\n",
       "       [139.32602 ],\n",
       "       [142.13063 ],\n",
       "       [142.93266 ],\n",
       "       [138.40202 ],\n",
       "       [132.94879 ],\n",
       "       [128.35046 ],\n",
       "       [122.41336 ],\n",
       "       [116.06328 ],\n",
       "       [106.85312 ],\n",
       "       [ 97.0582  ],\n",
       "       [ 86.59437 ],\n",
       "       [ 80.6607  ],\n",
       "       [ 79.269615],\n",
       "       [ 80.943855],\n",
       "       [ 86.61122 ],\n",
       "       [ 94.82321 ],\n",
       "       [102.01258 ],\n",
       "       [105.988144],\n",
       "       [106.48104 ],\n",
       "       [105.72075 ],\n",
       "       [102.940956],\n",
       "       [ 98.31959 ],\n",
       "       [ 94.65873 ],\n",
       "       [ 94.14721 ],\n",
       "       [ 96.95873 ],\n",
       "       [101.16431 ],\n",
       "       [105.964714],\n",
       "       [113.15901 ],\n",
       "       [122.82606 ],\n",
       "       [132.60786 ],\n",
       "       [140.62599 ],\n",
       "       [146.02374 ],\n",
       "       [148.36794 ],\n",
       "       [146.0027  ],\n",
       "       [143.10843 ],\n",
       "       [140.0612  ],\n",
       "       [138.39883 ],\n",
       "       [141.08742 ],\n",
       "       [144.87466 ],\n",
       "       [149.30421 ],\n",
       "       [152.40741 ],\n",
       "       [150.62169 ],\n",
       "       [148.48509 ],\n",
       "       [147.60793 ],\n",
       "       [148.4138  ],\n",
       "       [149.92392 ],\n",
       "       [152.96489 ],\n",
       "       [156.01663 ],\n",
       "       [158.13618 ],\n",
       "       [158.41983 ],\n",
       "       [158.01012 ],\n",
       "       [157.30452 ],\n",
       "       [157.2163  ],\n",
       "       [157.38193 ],\n",
       "       [157.89977 ],\n",
       "       [159.01408 ],\n",
       "       [159.83131 ],\n",
       "       [160.27107 ],\n",
       "       [160.4687  ],\n",
       "       [159.93361 ],\n",
       "       [160.22717 ],\n",
       "       [163.71515 ],\n",
       "       [167.88695 ],\n",
       "       [171.21965 ],\n",
       "       [172.41588 ],\n",
       "       [172.86618 ],\n",
       "       [175.62753 ],\n",
       "       [179.12206 ],\n",
       "       [185.44102 ],\n",
       "       [190.14842 ],\n",
       "       [190.77216 ],\n",
       "       [190.93842 ],\n",
       "       [191.00667 ],\n",
       "       [191.42383 ],\n",
       "       [192.49513 ],\n",
       "       [193.62486 ],\n",
       "       [194.20956 ],\n",
       "       [194.61531 ],\n",
       "       [193.2565  ],\n",
       "       [192.03038 ],\n",
       "       [190.38162 ],\n",
       "       [190.80023 ],\n",
       "       [195.52231 ],\n",
       "       [203.56093 ],\n",
       "       [215.19066 ],\n",
       "       [232.99794 ],\n",
       "       [251.52187 ],\n",
       "       [264.67874 ],\n",
       "       [272.32947 ],\n",
       "       [281.38446 ],\n",
       "       [288.27393 ],\n",
       "       [292.66504 ],\n",
       "       [295.84204 ],\n",
       "       [296.0051  ],\n",
       "       [294.2304  ],\n",
       "       [297.75656 ],\n",
       "       [301.5346  ],\n",
       "       [304.93402 ],\n",
       "       [304.21228 ],\n",
       "       [297.036   ],\n",
       "       [292.59164 ],\n",
       "       [289.46057 ],\n",
       "       [288.44528 ],\n",
       "       [288.51855 ],\n",
       "       [286.7863  ],\n",
       "       [286.28394 ],\n",
       "       [287.1573  ],\n",
       "       [288.5573  ],\n",
       "       [290.01776 ],\n",
       "       [289.6375  ],\n",
       "       [286.65167 ],\n",
       "       [280.94946 ],\n",
       "       [282.26932 ],\n",
       "       [291.25977 ],\n",
       "       [303.7795  ],\n",
       "       [322.44742 ],\n",
       "       [342.9986  ],\n",
       "       [359.22308 ],\n",
       "       [373.67862 ],\n",
       "       [386.36655 ],\n",
       "       [393.8468  ],\n",
       "       [396.64743 ],\n",
       "       [401.52698 ],\n",
       "       [410.88818 ],\n",
       "       [420.01657 ],\n",
       "       [437.57294 ],\n",
       "       [452.73267 ],\n",
       "       [456.34042 ],\n",
       "       [443.52182 ],\n",
       "       [426.02792 ],\n",
       "       [393.61557 ],\n",
       "       [365.6234  ],\n",
       "       [349.99396 ],\n",
       "       [345.9968  ],\n",
       "       [358.7804  ],\n",
       "       [385.11398 ],\n",
       "       [411.40024 ],\n",
       "       [426.61023 ],\n",
       "       [434.79373 ],\n",
       "       [439.407   ],\n",
       "       [436.33432 ],\n",
       "       [419.99036 ],\n",
       "       [400.27646 ],\n",
       "       [388.1632  ],\n",
       "       [387.0869  ],\n",
       "       [392.32687 ],\n",
       "       [401.31348 ],\n",
       "       [414.09338 ],\n",
       "       [419.7556  ],\n",
       "       [420.93744 ],\n",
       "       [417.50256 ],\n",
       "       [414.47787 ],\n",
       "       [413.1083  ],\n",
       "       [414.66357 ],\n",
       "       [419.3079  ],\n",
       "       [425.55392 ],\n",
       "       [434.09726 ],\n",
       "       [439.7316  ],\n",
       "       [439.98285 ],\n",
       "       [435.10226 ],\n",
       "       [426.66965 ],\n",
       "       [418.40692 ],\n",
       "       [413.13678 ],\n",
       "       [409.9889  ],\n",
       "       [408.50247 ],\n",
       "       [409.13263 ],\n",
       "       [407.17392 ],\n",
       "       [404.55142 ],\n",
       "       [397.86102 ],\n",
       "       [392.38376 ],\n",
       "       [394.23907 ],\n",
       "       [399.99713 ],\n",
       "       [409.58264 ],\n",
       "       [417.60028 ],\n",
       "       [420.5257  ],\n",
       "       [417.3207  ],\n",
       "       [412.59787 ],\n",
       "       [407.5592  ],\n",
       "       [402.8374  ],\n",
       "       [399.24423 ],\n",
       "       [403.89746 ],\n",
       "       [422.18103 ],\n",
       "       [447.35486 ],\n",
       "       [468.09918 ],\n",
       "       [486.88336 ],\n",
       "       [507.67804 ],\n",
       "       [529.3726  ],\n",
       "       [549.04224 ],\n",
       "       [559.41925 ],\n",
       "       [564.7738  ],\n",
       "       [563.698   ],\n",
       "       [563.8643  ],\n",
       "       [566.8839  ],\n",
       "       [579.42914 ],\n",
       "       [597.19226 ],\n",
       "       [604.8255  ],\n",
       "       [607.6591  ],\n",
       "       [604.90826 ],\n",
       "       [605.4336  ],\n",
       "       [607.70575 ],\n",
       "       [608.23364 ],\n",
       "       [613.69226 ],\n",
       "       [629.32196 ],\n",
       "       [639.42236 ],\n",
       "       [640.3646  ],\n",
       "       [636.7449  ],\n",
       "       [635.12616 ],\n",
       "       [636.23596 ],\n",
       "       [639.1249  ],\n",
       "       [647.7983  ],\n",
       "       [660.5492  ],\n",
       "       [677.2836  ],\n",
       "       [693.8056  ],\n",
       "       [710.19617 ],\n",
       "       [734.3946  ],\n",
       "       [770.7133  ]], dtype=float32)"
      ]
     },
     "execution_count": 132,
     "metadata": {},
     "output_type": "execute_result"
    }
   ],
   "source": [
    "predictions"
   ]
  },
  {
   "cell_type": "code",
   "execution_count": 133,
   "metadata": {},
   "outputs": [
    {
     "data": {
      "text/plain": [
       "291.5101853022198"
      ]
     },
     "execution_count": 133,
     "metadata": {},
     "output_type": "execute_result"
    }
   ],
   "source": [
    "#evaluate model w/RMSE\n",
    "rmse = np.sqrt(np.mean(predictions-y_test)**2)\n",
    "rmse"
   ]
  },
  {
   "cell_type": "code",
   "execution_count": 134,
   "metadata": {},
   "outputs": [],
   "source": [
    "predictions = pd.DataFrame(predictions, columns=['Predictions'])"
   ]
  },
  {
   "cell_type": "code",
   "execution_count": 135,
   "metadata": {},
   "outputs": [],
   "source": [
    "train = dataset[:training_data_len]\n",
    "valid = dataset[training_data_len:] #data from index training_data_len to "
   ]
  },
  {
   "cell_type": "code",
   "execution_count": 136,
   "metadata": {},
   "outputs": [
    {
     "data": {
      "text/plain": [
       "(253, 253)"
      ]
     },
     "execution_count": 136,
     "metadata": {},
     "output_type": "execute_result"
    }
   ],
   "source": [
    "len(predictions), len(valid)"
   ]
  },
  {
   "cell_type": "code",
   "execution_count": 137,
   "metadata": {},
   "outputs": [],
   "source": [
    "valid.reset_index(inplace=True)"
   ]
  },
  {
   "cell_type": "code",
   "execution_count": 138,
   "metadata": {},
   "outputs": [
    {
     "data": {
      "text/html": [
       "<div>\n",
       "<style scoped>\n",
       "    .dataframe tbody tr th:only-of-type {\n",
       "        vertical-align: middle;\n",
       "    }\n",
       "\n",
       "    .dataframe tbody tr th {\n",
       "        vertical-align: top;\n",
       "    }\n",
       "\n",
       "    .dataframe thead th {\n",
       "        text-align: right;\n",
       "    }\n",
       "</style>\n",
       "<table border=\"1\" class=\"dataframe\">\n",
       "  <thead>\n",
       "    <tr style=\"text-align: right;\">\n",
       "      <th></th>\n",
       "      <th>Date</th>\n",
       "      <th>Adj Close</th>\n",
       "    </tr>\n",
       "  </thead>\n",
       "  <tbody>\n",
       "    <tr>\n",
       "      <th>0</th>\n",
       "      <td>2020-01-10</td>\n",
       "      <td>95.629997</td>\n",
       "    </tr>\n",
       "    <tr>\n",
       "      <th>1</th>\n",
       "      <td>2020-01-13</td>\n",
       "      <td>104.972000</td>\n",
       "    </tr>\n",
       "    <tr>\n",
       "      <th>2</th>\n",
       "      <td>2020-01-14</td>\n",
       "      <td>107.584000</td>\n",
       "    </tr>\n",
       "    <tr>\n",
       "      <th>3</th>\n",
       "      <td>2020-01-15</td>\n",
       "      <td>103.699997</td>\n",
       "    </tr>\n",
       "    <tr>\n",
       "      <th>4</th>\n",
       "      <td>2020-01-16</td>\n",
       "      <td>102.697998</td>\n",
       "    </tr>\n",
       "  </tbody>\n",
       "</table>\n",
       "</div>"
      ],
      "text/plain": [
       "        Date   Adj Close\n",
       "0 2020-01-10   95.629997\n",
       "1 2020-01-13  104.972000\n",
       "2 2020-01-14  107.584000\n",
       "3 2020-01-15  103.699997\n",
       "4 2020-01-16  102.697998"
      ]
     },
     "execution_count": 138,
     "metadata": {},
     "output_type": "execute_result"
    }
   ],
   "source": [
    "valid.head()"
   ]
  },
  {
   "cell_type": "code",
   "execution_count": 139,
   "metadata": {},
   "outputs": [
    {
     "data": {
      "text/html": [
       "<div>\n",
       "<style scoped>\n",
       "    .dataframe tbody tr th:only-of-type {\n",
       "        vertical-align: middle;\n",
       "    }\n",
       "\n",
       "    .dataframe tbody tr th {\n",
       "        vertical-align: top;\n",
       "    }\n",
       "\n",
       "    .dataframe thead th {\n",
       "        text-align: right;\n",
       "    }\n",
       "</style>\n",
       "<table border=\"1\" class=\"dataframe\">\n",
       "  <thead>\n",
       "    <tr style=\"text-align: right;\">\n",
       "      <th></th>\n",
       "      <th>Predictions</th>\n",
       "    </tr>\n",
       "  </thead>\n",
       "  <tbody>\n",
       "    <tr>\n",
       "      <th>0</th>\n",
       "      <td>93.605942</td>\n",
       "    </tr>\n",
       "    <tr>\n",
       "      <th>1</th>\n",
       "      <td>95.009033</td>\n",
       "    </tr>\n",
       "    <tr>\n",
       "      <th>2</th>\n",
       "      <td>97.245163</td>\n",
       "    </tr>\n",
       "    <tr>\n",
       "      <th>3</th>\n",
       "      <td>100.300110</td>\n",
       "    </tr>\n",
       "    <tr>\n",
       "      <th>4</th>\n",
       "      <td>102.345154</td>\n",
       "    </tr>\n",
       "  </tbody>\n",
       "</table>\n",
       "</div>"
      ],
      "text/plain": [
       "   Predictions\n",
       "0    93.605942\n",
       "1    95.009033\n",
       "2    97.245163\n",
       "3   100.300110\n",
       "4   102.345154"
      ]
     },
     "execution_count": 139,
     "metadata": {},
     "output_type": "execute_result"
    }
   ],
   "source": [
    "predictions.head()"
   ]
  },
  {
   "cell_type": "code",
   "execution_count": 140,
   "metadata": {},
   "outputs": [],
   "source": [
    "valid['Prediction'] = predictions['Predictions']"
   ]
  },
  {
   "cell_type": "code",
   "execution_count": 141,
   "metadata": {},
   "outputs": [],
   "source": [
    "valid1 = valid.set_index('Date')"
   ]
  },
  {
   "cell_type": "code",
   "execution_count": 142,
   "metadata": {},
   "outputs": [
    {
     "data": {
      "text/html": [
       "<div>\n",
       "<style scoped>\n",
       "    .dataframe tbody tr th:only-of-type {\n",
       "        vertical-align: middle;\n",
       "    }\n",
       "\n",
       "    .dataframe tbody tr th {\n",
       "        vertical-align: top;\n",
       "    }\n",
       "\n",
       "    .dataframe thead th {\n",
       "        text-align: right;\n",
       "    }\n",
       "</style>\n",
       "<table border=\"1\" class=\"dataframe\">\n",
       "  <thead>\n",
       "    <tr style=\"text-align: right;\">\n",
       "      <th></th>\n",
       "      <th>Adj Close</th>\n",
       "      <th>Prediction</th>\n",
       "    </tr>\n",
       "    <tr>\n",
       "      <th>Date</th>\n",
       "      <th></th>\n",
       "      <th></th>\n",
       "    </tr>\n",
       "  </thead>\n",
       "  <tbody>\n",
       "    <tr>\n",
       "      <th>2020-01-10</th>\n",
       "      <td>95.629997</td>\n",
       "      <td>93.605942</td>\n",
       "    </tr>\n",
       "    <tr>\n",
       "      <th>2020-01-13</th>\n",
       "      <td>104.972000</td>\n",
       "      <td>95.009033</td>\n",
       "    </tr>\n",
       "    <tr>\n",
       "      <th>2020-01-14</th>\n",
       "      <td>107.584000</td>\n",
       "      <td>97.245163</td>\n",
       "    </tr>\n",
       "    <tr>\n",
       "      <th>2020-01-15</th>\n",
       "      <td>103.699997</td>\n",
       "      <td>100.300110</td>\n",
       "    </tr>\n",
       "    <tr>\n",
       "      <th>2020-01-16</th>\n",
       "      <td>102.697998</td>\n",
       "      <td>102.345154</td>\n",
       "    </tr>\n",
       "  </tbody>\n",
       "</table>\n",
       "</div>"
      ],
      "text/plain": [
       "             Adj Close  Prediction\n",
       "Date                              \n",
       "2020-01-10   95.629997   93.605942\n",
       "2020-01-13  104.972000   95.009033\n",
       "2020-01-14  107.584000   97.245163\n",
       "2020-01-15  103.699997  100.300110\n",
       "2020-01-16  102.697998  102.345154"
      ]
     },
     "execution_count": 142,
     "metadata": {},
     "output_type": "execute_result"
    }
   ],
   "source": [
    "valid1.head()"
   ]
  },
  {
   "cell_type": "code",
   "execution_count": 143,
   "metadata": {},
   "outputs": [
    {
     "ename": "KeyError",
     "evalue": "'Close'",
     "output_type": "error",
     "traceback": [
      "\u001b[0;31m---------------------------------------------------------------------------\u001b[0m",
      "\u001b[0;31mKeyError\u001b[0m                                  Traceback (most recent call last)",
      "\u001b[0;32m~/opt/anaconda3/envs/learn-env/lib/python3.6/site-packages/pandas/core/indexes/base.py\u001b[0m in \u001b[0;36mget_loc\u001b[0;34m(self, key, method, tolerance)\u001b[0m\n\u001b[1;32m   2897\u001b[0m             \u001b[0;32mtry\u001b[0m\u001b[0;34m:\u001b[0m\u001b[0;34m\u001b[0m\u001b[0;34m\u001b[0m\u001b[0m\n\u001b[0;32m-> 2898\u001b[0;31m                 \u001b[0;32mreturn\u001b[0m \u001b[0mself\u001b[0m\u001b[0;34m.\u001b[0m\u001b[0m_engine\u001b[0m\u001b[0;34m.\u001b[0m\u001b[0mget_loc\u001b[0m\u001b[0;34m(\u001b[0m\u001b[0mcasted_key\u001b[0m\u001b[0;34m)\u001b[0m\u001b[0;34m\u001b[0m\u001b[0;34m\u001b[0m\u001b[0m\n\u001b[0m\u001b[1;32m   2899\u001b[0m             \u001b[0;32mexcept\u001b[0m \u001b[0mKeyError\u001b[0m \u001b[0;32mas\u001b[0m \u001b[0merr\u001b[0m\u001b[0;34m:\u001b[0m\u001b[0;34m\u001b[0m\u001b[0;34m\u001b[0m\u001b[0m\n",
      "\u001b[0;32mpandas/_libs/index.pyx\u001b[0m in \u001b[0;36mpandas._libs.index.IndexEngine.get_loc\u001b[0;34m()\u001b[0m\n",
      "\u001b[0;32mpandas/_libs/index.pyx\u001b[0m in \u001b[0;36mpandas._libs.index.IndexEngine.get_loc\u001b[0;34m()\u001b[0m\n",
      "\u001b[0;32mpandas/_libs/hashtable_class_helper.pxi\u001b[0m in \u001b[0;36mpandas._libs.hashtable.PyObjectHashTable.get_item\u001b[0;34m()\u001b[0m\n",
      "\u001b[0;32mpandas/_libs/hashtable_class_helper.pxi\u001b[0m in \u001b[0;36mpandas._libs.hashtable.PyObjectHashTable.get_item\u001b[0;34m()\u001b[0m\n",
      "\u001b[0;31mKeyError\u001b[0m: 'Close'",
      "\nThe above exception was the direct cause of the following exception:\n",
      "\u001b[0;31mKeyError\u001b[0m                                  Traceback (most recent call last)",
      "\u001b[0;32m<ipython-input-143-d44ee07a7603>\u001b[0m in \u001b[0;36m<module>\u001b[0;34m\u001b[0m\n\u001b[1;32m     12\u001b[0m \u001b[0mplt\u001b[0m\u001b[0;34m.\u001b[0m\u001b[0mxlabel\u001b[0m\u001b[0;34m(\u001b[0m\u001b[0;34m'Label'\u001b[0m\u001b[0;34m)\u001b[0m\u001b[0;34m\u001b[0m\u001b[0;34m\u001b[0m\u001b[0m\n\u001b[1;32m     13\u001b[0m \u001b[0mplt\u001b[0m\u001b[0;34m.\u001b[0m\u001b[0mylabel\u001b[0m\u001b[0;34m(\u001b[0m\u001b[0;34m'Close Price USD ($)'\u001b[0m\u001b[0;34m)\u001b[0m\u001b[0;34m\u001b[0m\u001b[0;34m\u001b[0m\u001b[0m\n\u001b[0;32m---> 14\u001b[0;31m \u001b[0mplt\u001b[0m\u001b[0;34m.\u001b[0m\u001b[0mplot\u001b[0m\u001b[0;34m(\u001b[0m\u001b[0mtrain\u001b[0m\u001b[0;34m[\u001b[0m\u001b[0;34m'Close'\u001b[0m\u001b[0;34m]\u001b[0m\u001b[0;34m)\u001b[0m\u001b[0;34m\u001b[0m\u001b[0;34m\u001b[0m\u001b[0m\n\u001b[0m\u001b[1;32m     15\u001b[0m \u001b[0;31m#plt.plot(valid[['Close','Predictions']])\u001b[0m\u001b[0;34m\u001b[0m\u001b[0;34m\u001b[0m\u001b[0;34m\u001b[0m\u001b[0m\n\u001b[1;32m     16\u001b[0m \u001b[0mplt\u001b[0m\u001b[0;34m.\u001b[0m\u001b[0mplot\u001b[0m\u001b[0;34m(\u001b[0m\u001b[0mvalid1\u001b[0m\u001b[0;34m[\u001b[0m\u001b[0;34m'Close'\u001b[0m\u001b[0;34m]\u001b[0m\u001b[0;34m)\u001b[0m\u001b[0;34m\u001b[0m\u001b[0;34m\u001b[0m\u001b[0m\n",
      "\u001b[0;32m~/opt/anaconda3/envs/learn-env/lib/python3.6/site-packages/pandas/core/frame.py\u001b[0m in \u001b[0;36m__getitem__\u001b[0;34m(self, key)\u001b[0m\n\u001b[1;32m   2904\u001b[0m             \u001b[0;32mif\u001b[0m \u001b[0mself\u001b[0m\u001b[0;34m.\u001b[0m\u001b[0mcolumns\u001b[0m\u001b[0;34m.\u001b[0m\u001b[0mnlevels\u001b[0m \u001b[0;34m>\u001b[0m \u001b[0;36m1\u001b[0m\u001b[0;34m:\u001b[0m\u001b[0;34m\u001b[0m\u001b[0;34m\u001b[0m\u001b[0m\n\u001b[1;32m   2905\u001b[0m                 \u001b[0;32mreturn\u001b[0m \u001b[0mself\u001b[0m\u001b[0;34m.\u001b[0m\u001b[0m_getitem_multilevel\u001b[0m\u001b[0;34m(\u001b[0m\u001b[0mkey\u001b[0m\u001b[0;34m)\u001b[0m\u001b[0;34m\u001b[0m\u001b[0;34m\u001b[0m\u001b[0m\n\u001b[0;32m-> 2906\u001b[0;31m             \u001b[0mindexer\u001b[0m \u001b[0;34m=\u001b[0m \u001b[0mself\u001b[0m\u001b[0;34m.\u001b[0m\u001b[0mcolumns\u001b[0m\u001b[0;34m.\u001b[0m\u001b[0mget_loc\u001b[0m\u001b[0;34m(\u001b[0m\u001b[0mkey\u001b[0m\u001b[0;34m)\u001b[0m\u001b[0;34m\u001b[0m\u001b[0;34m\u001b[0m\u001b[0m\n\u001b[0m\u001b[1;32m   2907\u001b[0m             \u001b[0;32mif\u001b[0m \u001b[0mis_integer\u001b[0m\u001b[0;34m(\u001b[0m\u001b[0mindexer\u001b[0m\u001b[0;34m)\u001b[0m\u001b[0;34m:\u001b[0m\u001b[0;34m\u001b[0m\u001b[0;34m\u001b[0m\u001b[0m\n\u001b[1;32m   2908\u001b[0m                 \u001b[0mindexer\u001b[0m \u001b[0;34m=\u001b[0m \u001b[0;34m[\u001b[0m\u001b[0mindexer\u001b[0m\u001b[0;34m]\u001b[0m\u001b[0;34m\u001b[0m\u001b[0;34m\u001b[0m\u001b[0m\n",
      "\u001b[0;32m~/opt/anaconda3/envs/learn-env/lib/python3.6/site-packages/pandas/core/indexes/base.py\u001b[0m in \u001b[0;36mget_loc\u001b[0;34m(self, key, method, tolerance)\u001b[0m\n\u001b[1;32m   2898\u001b[0m                 \u001b[0;32mreturn\u001b[0m \u001b[0mself\u001b[0m\u001b[0;34m.\u001b[0m\u001b[0m_engine\u001b[0m\u001b[0;34m.\u001b[0m\u001b[0mget_loc\u001b[0m\u001b[0;34m(\u001b[0m\u001b[0mcasted_key\u001b[0m\u001b[0;34m)\u001b[0m\u001b[0;34m\u001b[0m\u001b[0;34m\u001b[0m\u001b[0m\n\u001b[1;32m   2899\u001b[0m             \u001b[0;32mexcept\u001b[0m \u001b[0mKeyError\u001b[0m \u001b[0;32mas\u001b[0m \u001b[0merr\u001b[0m\u001b[0;34m:\u001b[0m\u001b[0;34m\u001b[0m\u001b[0;34m\u001b[0m\u001b[0m\n\u001b[0;32m-> 2900\u001b[0;31m                 \u001b[0;32mraise\u001b[0m \u001b[0mKeyError\u001b[0m\u001b[0;34m(\u001b[0m\u001b[0mkey\u001b[0m\u001b[0;34m)\u001b[0m \u001b[0;32mfrom\u001b[0m \u001b[0merr\u001b[0m\u001b[0;34m\u001b[0m\u001b[0;34m\u001b[0m\u001b[0m\n\u001b[0m\u001b[1;32m   2901\u001b[0m \u001b[0;34m\u001b[0m\u001b[0m\n\u001b[1;32m   2902\u001b[0m         \u001b[0;32mif\u001b[0m \u001b[0mtolerance\u001b[0m \u001b[0;32mis\u001b[0m \u001b[0;32mnot\u001b[0m \u001b[0;32mNone\u001b[0m\u001b[0;34m:\u001b[0m\u001b[0;34m\u001b[0m\u001b[0;34m\u001b[0m\u001b[0m\n",
      "\u001b[0;31mKeyError\u001b[0m: 'Close'"
     ]
    },
    {
     "data": {
      "image/png": "[encoded data removed]",
      "text/plain": [
       "<Figure size 864x576 with 1 Axes>"
      ]
     },
     "metadata": {
      "needs_background": "light"
     },
     "output_type": "display_data"
    }
   ],
   "source": [
    "\"\"\"\n",
    "blue-data model was trainined on \n",
    "orange-actual closing stock price for rest of days\n",
    "green-what model predcited values to be\n",
    "\"\"\"\n",
    "\n",
    "# train = dataset[:training_data_len]\n",
    "# valid = dataset[training_data_len:] #data from index training_data_len to \n",
    "# valid['Predictions'] = predictions\n",
    "plt.figure(figsize=(12,8))\n",
    "plt.title('Model')\n",
    "plt.xlabel('Label')\n",
    "plt.ylabel('Close Price USD ($)')\n",
    "plt.plot(train['Close'])\n",
    "#plt.plot(valid[['Close','Predictions']])\n",
    "plt.plot(valid1['Close'])\n",
    "plt.plot(valid1['Prediction'])\n",
    "# #valid[['Close','Predictions']].plot()\n",
    "plt.legend(['Train','Valid','Predictions'],loc='lower right')"
   ]
  },
  {
   "cell_type": "code",
   "execution_count": null,
   "metadata": {},
   "outputs": [],
   "source": [
    "dataset.tail()"
   ]
  },
  {
   "cell_type": "code",
   "execution_count": null,
   "metadata": {},
   "outputs": [],
   "source": [
    "\"\"\"\n",
    "predict closing price fo apple stock for 12/18/2019\n",
    "\n",
    "get the quote\n",
    "\"\"\"\n",
    "def get_quote(new_df):\n",
    "    #get last 60days closing values and convert datframe to an array\n",
    "    last_60_days = new_df[-60:].values #converts to array\n",
    "    #scale data\n",
    "    last_60_days_scaled = scaler.transform(last_60_days)\n",
    "    #realreate empty list\n",
    "    x_test = []\n",
    "    #append last 60 days to x_test\n",
    "    x_test.append(last_60_days_scaled)\n",
    "    #conert x_test to a numpy array\n",
    "    x_test = np.array(x_test)\n",
    "    # #reshape the data\n",
    "    x_test = np.reshape(x_test, (x_test.shape[0],x_test.shape[1],1))\n",
    "    #get the predcited scaled price\n",
    "    pred_price = model.predict(x_test)\n",
    "    #undo the scaling \n",
    "    pred_price = scaler.inverse_transform(pred_price) \n",
    "    #what model thinks predicted price will be for 12/18/2019\n",
    "    #the actual prcie was $69.94\n",
    "    #DAL: 58.58, 2021-1-11 40.19\n",
    "    return pred_price                    "
   ]
  },
  {
   "cell_type": "code",
   "execution_count": null,
   "metadata": {},
   "outputs": [],
   "source": [
    "get_quote(dataset)"
   ]
  }
 ],
 "metadata": {
  "kernelspec": {
   "display_name": "Python 3",
   "language": "python",
   "name": "python3"
  },
  "language_info": {
   "codemirror_mode": {
    "name": "ipython",
    "version": 3
   },
   "file_extension": ".py",
   "mimetype": "text/x-python",
   "name": "python",
   "nbconvert_exporter": "python",
   "pygments_lexer": "ipython3",
   "version": "3.6.9"
  },
  "toc": {
   "base_numbering": 1,
   "nav_menu": {},
   "number_sections": true,
   "sideBar": true,
   "skip_h1_title": false,
   "title_cell": "Table of Contents",
   "title_sidebar": "Contents",
   "toc_cell": false,
   "toc_position": {},
   "toc_section_display": true,
   "toc_window_display": false
  }
 },
 "nbformat": 4,
 "nbformat_minor": 4
}
