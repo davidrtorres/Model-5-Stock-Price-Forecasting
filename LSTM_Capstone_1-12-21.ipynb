{
 "cells": [
  {
   "cell_type": "code",
   "execution_count": 44,
   "metadata": {},
   "outputs": [],
   "source": [
    "import pandas as pd\n",
    "import numpy as np\n",
    "import matplotlib.pyplot as plt\n",
    "%matplotlib inline\n",
    "\n",
    "from sklearn.preprocessing import MinMaxScaler\n",
    "\n",
    "import pandas_datareader.data as web\n",
    "\n",
    "from keras.models import Sequential\n",
    "from keras.layers import Dense\n",
    "from keras.layers import LSTM\n",
    "from keras.layers import Dropout\n",
    "\n",
    "import warnings\n",
    "warnings.filterwarnings('ignore')"
   ]
  },
  {
   "cell_type": "code",
   "execution_count": 45,
   "metadata": {},
   "outputs": [
    {
     "data": {
      "text/html": [
       "<div>\n",
       "<style scoped>\n",
       "    .dataframe tbody tr th:only-of-type {\n",
       "        vertical-align: middle;\n",
       "    }\n",
       "\n",
       "    .dataframe tbody tr th {\n",
       "        vertical-align: top;\n",
       "    }\n",
       "\n",
       "    .dataframe thead th {\n",
       "        text-align: right;\n",
       "    }\n",
       "</style>\n",
       "<table border=\"1\" class=\"dataframe\">\n",
       "  <thead>\n",
       "    <tr style=\"text-align: right;\">\n",
       "      <th></th>\n",
       "      <th>FB</th>\n",
       "      <th>AAPL</th>\n",
       "      <th>GOOGL</th>\n",
       "      <th>AMZN</th>\n",
       "      <th>MSFT</th>\n",
       "    </tr>\n",
       "    <tr>\n",
       "      <th>Date</th>\n",
       "      <th></th>\n",
       "      <th></th>\n",
       "      <th></th>\n",
       "      <th></th>\n",
       "      <th></th>\n",
       "    </tr>\n",
       "  </thead>\n",
       "  <tbody>\n",
       "    <tr>\n",
       "      <th>2018-01-02</th>\n",
       "      <td>181.419998</td>\n",
       "      <td>41.442081</td>\n",
       "      <td>1073.209961</td>\n",
       "      <td>1189.010010</td>\n",
       "      <td>82.383636</td>\n",
       "    </tr>\n",
       "    <tr>\n",
       "      <th>2018-01-03</th>\n",
       "      <td>184.669998</td>\n",
       "      <td>41.434864</td>\n",
       "      <td>1091.520020</td>\n",
       "      <td>1204.199951</td>\n",
       "      <td>82.767044</td>\n",
       "    </tr>\n",
       "    <tr>\n",
       "      <th>2018-01-04</th>\n",
       "      <td>184.330002</td>\n",
       "      <td>41.627323</td>\n",
       "      <td>1095.760010</td>\n",
       "      <td>1209.589966</td>\n",
       "      <td>83.495522</td>\n",
       "    </tr>\n",
       "    <tr>\n",
       "      <th>2018-01-05</th>\n",
       "      <td>186.850006</td>\n",
       "      <td>42.101261</td>\n",
       "      <td>1110.290039</td>\n",
       "      <td>1229.140015</td>\n",
       "      <td>84.530701</td>\n",
       "    </tr>\n",
       "    <tr>\n",
       "      <th>2018-01-08</th>\n",
       "      <td>188.279999</td>\n",
       "      <td>41.944889</td>\n",
       "      <td>1114.209961</td>\n",
       "      <td>1246.869995</td>\n",
       "      <td>84.616966</td>\n",
       "    </tr>\n",
       "    <tr>\n",
       "      <th>...</th>\n",
       "      <td>...</td>\n",
       "      <td>...</td>\n",
       "      <td>...</td>\n",
       "      <td>...</td>\n",
       "      <td>...</td>\n",
       "    </tr>\n",
       "    <tr>\n",
       "      <th>2020-12-24</th>\n",
       "      <td>267.399994</td>\n",
       "      <td>131.970001</td>\n",
       "      <td>1734.160034</td>\n",
       "      <td>3172.689941</td>\n",
       "      <td>222.750000</td>\n",
       "    </tr>\n",
       "    <tr>\n",
       "      <th>2020-12-28</th>\n",
       "      <td>277.000000</td>\n",
       "      <td>136.690002</td>\n",
       "      <td>1773.959961</td>\n",
       "      <td>3283.959961</td>\n",
       "      <td>224.960007</td>\n",
       "    </tr>\n",
       "    <tr>\n",
       "      <th>2020-12-29</th>\n",
       "      <td>276.779999</td>\n",
       "      <td>134.869995</td>\n",
       "      <td>1757.760010</td>\n",
       "      <td>3322.000000</td>\n",
       "      <td>224.149994</td>\n",
       "    </tr>\n",
       "    <tr>\n",
       "      <th>2020-12-30</th>\n",
       "      <td>271.869995</td>\n",
       "      <td>133.720001</td>\n",
       "      <td>1736.250000</td>\n",
       "      <td>3285.850098</td>\n",
       "      <td>221.679993</td>\n",
       "    </tr>\n",
       "    <tr>\n",
       "      <th>2020-12-31</th>\n",
       "      <td>273.160004</td>\n",
       "      <td>132.690002</td>\n",
       "      <td>1752.640015</td>\n",
       "      <td>3256.929932</td>\n",
       "      <td>222.419998</td>\n",
       "    </tr>\n",
       "  </tbody>\n",
       "</table>\n",
       "<p>756 rows × 5 columns</p>\n",
       "</div>"
      ],
      "text/plain": [
       "                    FB        AAPL        GOOGL         AMZN        MSFT\n",
       "Date                                                                    \n",
       "2018-01-02  181.419998   41.442081  1073.209961  1189.010010   82.383636\n",
       "2018-01-03  184.669998   41.434864  1091.520020  1204.199951   82.767044\n",
       "2018-01-04  184.330002   41.627323  1095.760010  1209.589966   83.495522\n",
       "2018-01-05  186.850006   42.101261  1110.290039  1229.140015   84.530701\n",
       "2018-01-08  188.279999   41.944889  1114.209961  1246.869995   84.616966\n",
       "...                ...         ...          ...          ...         ...\n",
       "2020-12-24  267.399994  131.970001  1734.160034  3172.689941  222.750000\n",
       "2020-12-28  277.000000  136.690002  1773.959961  3283.959961  224.960007\n",
       "2020-12-29  276.779999  134.869995  1757.760010  3322.000000  224.149994\n",
       "2020-12-30  271.869995  133.720001  1736.250000  3285.850098  221.679993\n",
       "2020-12-31  273.160004  132.690002  1752.640015  3256.929932  222.419998\n",
       "\n",
       "[756 rows x 5 columns]"
      ]
     },
     "execution_count": 45,
     "metadata": {},
     "output_type": "execute_result"
    }
   ],
   "source": [
    "## List of symbols to grab\n",
    "symbols = ['FB','AAPL','GOOGL','AMZN','MSFT']\n",
    "data = {}\n",
    "for stock in symbols:\n",
    "    data[stock] = web.DataReader(stock,'yahoo','2018','2021')['Adj Close']\n",
    "df_1 = pd.DataFrame(data)#.reset_index()\n",
    "df_1"
   ]
  },
  {
   "cell_type": "code",
   "execution_count": 46,
   "metadata": {},
   "outputs": [
    {
     "data": {
      "text/plain": [
       "<matplotlib.legend.Legend at 0x7fed182d5c18>"
      ]
     },
     "execution_count": 46,
     "metadata": {},
     "output_type": "execute_result"
    },
    {
     "data": {
      "image/png": "[encoded data removed]",
      "text/plain": [
       "<Figure size 864x576 with 1 Axes>"
      ]
     },
     "metadata": {
      "needs_background": "light"
     },
     "output_type": "display_data"
    }
   ],
   "source": [
    "df_1.plot(figsize=(12,8))\n",
    "plt.title(\"Housing Price Trends \")\n",
    "#plt.set(title=f'Housing Prices by Year - {zip_df.index.freq}')\n",
    "plt.xlabel('Year')\n",
    "plt.ylabel('Home Prices')\n",
    "plt.legend(bbox_to_anchor=(1.05,1),loc='upper left')"
   ]
  },
  {
   "cell_type": "code",
   "execution_count": 3,
   "metadata": {},
   "outputs": [],
   "source": [
    "#df = pd.read_csv('data/apple_2012_1_1-2019_12_17.csv', parse_dates=True, index_col=[0])\n",
    "\n",
    "#Get the stock quote \n",
    "df = web.DataReader('DAL', data_source='yahoo', start='2016-01-01', end='2021-1-11') "
   ]
  },
  {
   "cell_type": "code",
   "execution_count": 4,
   "metadata": {},
   "outputs": [
    {
     "data": {
      "text/html": [
       "<div>\n",
       "<style scoped>\n",
       "    .dataframe tbody tr th:only-of-type {\n",
       "        vertical-align: middle;\n",
       "    }\n",
       "\n",
       "    .dataframe tbody tr th {\n",
       "        vertical-align: top;\n",
       "    }\n",
       "\n",
       "    .dataframe thead th {\n",
       "        text-align: right;\n",
       "    }\n",
       "</style>\n",
       "<table border=\"1\" class=\"dataframe\">\n",
       "  <thead>\n",
       "    <tr style=\"text-align: right;\">\n",
       "      <th></th>\n",
       "      <th>High</th>\n",
       "      <th>Low</th>\n",
       "      <th>Open</th>\n",
       "      <th>Close</th>\n",
       "      <th>Volume</th>\n",
       "      <th>Adj Close</th>\n",
       "    </tr>\n",
       "    <tr>\n",
       "      <th>Date</th>\n",
       "      <th></th>\n",
       "      <th></th>\n",
       "      <th></th>\n",
       "      <th></th>\n",
       "      <th></th>\n",
       "      <th></th>\n",
       "    </tr>\n",
       "  </thead>\n",
       "  <tbody>\n",
       "    <tr>\n",
       "      <th>2016-01-04</th>\n",
       "      <td>49.419998</td>\n",
       "      <td>48.299999</td>\n",
       "      <td>49.419998</td>\n",
       "      <td>48.660000</td>\n",
       "      <td>12323200.0</td>\n",
       "      <td>44.223190</td>\n",
       "    </tr>\n",
       "    <tr>\n",
       "      <th>2016-01-05</th>\n",
       "      <td>49.750000</td>\n",
       "      <td>47.040001</td>\n",
       "      <td>49.310001</td>\n",
       "      <td>48.570000</td>\n",
       "      <td>14557200.0</td>\n",
       "      <td>44.141399</td>\n",
       "    </tr>\n",
       "    <tr>\n",
       "      <th>2016-01-06</th>\n",
       "      <td>49.299999</td>\n",
       "      <td>47.630001</td>\n",
       "      <td>47.790001</td>\n",
       "      <td>48.930000</td>\n",
       "      <td>10375900.0</td>\n",
       "      <td>44.468582</td>\n",
       "    </tr>\n",
       "    <tr>\n",
       "      <th>2016-01-07</th>\n",
       "      <td>48.680000</td>\n",
       "      <td>46.740002</td>\n",
       "      <td>48.389999</td>\n",
       "      <td>47.000000</td>\n",
       "      <td>11301100.0</td>\n",
       "      <td>42.714558</td>\n",
       "    </tr>\n",
       "    <tr>\n",
       "      <th>2016-01-08</th>\n",
       "      <td>48.950001</td>\n",
       "      <td>46.490002</td>\n",
       "      <td>47.480000</td>\n",
       "      <td>46.610001</td>\n",
       "      <td>10850300.0</td>\n",
       "      <td>42.360115</td>\n",
       "    </tr>\n",
       "  </tbody>\n",
       "</table>\n",
       "</div>"
      ],
      "text/plain": [
       "                 High        Low       Open      Close      Volume  Adj Close\n",
       "Date                                                                         \n",
       "2016-01-04  49.419998  48.299999  49.419998  48.660000  12323200.0  44.223190\n",
       "2016-01-05  49.750000  47.040001  49.310001  48.570000  14557200.0  44.141399\n",
       "2016-01-06  49.299999  47.630001  47.790001  48.930000  10375900.0  44.468582\n",
       "2016-01-07  48.680000  46.740002  48.389999  47.000000  11301100.0  42.714558\n",
       "2016-01-08  48.950001  46.490002  47.480000  46.610001  10850300.0  42.360115"
      ]
     },
     "execution_count": 4,
     "metadata": {},
     "output_type": "execute_result"
    }
   ],
   "source": [
    "df.head()"
   ]
  },
  {
   "cell_type": "code",
   "execution_count": 5,
   "metadata": {},
   "outputs": [
    {
     "data": {
      "text/plain": [
       "(1265, 6)"
      ]
     },
     "execution_count": 5,
     "metadata": {},
     "output_type": "execute_result"
    }
   ],
   "source": [
    "df.shape"
   ]
  },
  {
   "cell_type": "code",
   "execution_count": 6,
   "metadata": {},
   "outputs": [
    {
     "data": {
      "text/plain": [
       "Text(0, 0.5, 'Close Price USD ($)')"
      ]
     },
     "execution_count": 6,
     "metadata": {},
     "output_type": "execute_result"
    },
    {
     "data": {
      "image/png": "[encoded data removed]",
      "text/plain": [
       "<Figure size 864x576 with 1 Axes>"
      ]
     },
     "metadata": {
      "needs_background": "light"
     },
     "output_type": "display_data"
    }
   ],
   "source": [
    "plt.figure(figsize=(12,8))\n",
    "plt.plot(df['Close'])\n",
    "plt.xlabel('Date', fontsize=18)\n",
    "plt.ylabel('Close Price USD ($)', fontsize=18)"
   ]
  },
  {
   "cell_type": "code",
   "execution_count": 7,
   "metadata": {},
   "outputs": [],
   "source": [
    "#df = df.diff().dropna() #zip_df[11226].diff().dropna()"
   ]
  },
  {
   "cell_type": "code",
   "execution_count": 8,
   "metadata": {},
   "outputs": [],
   "source": [
    "dataset = df['Close']\n",
    "# dataset = data.values"
   ]
  },
  {
   "cell_type": "code",
   "execution_count": 9,
   "metadata": {},
   "outputs": [],
   "source": [
    "def preprocessing(df,percentage):\n",
    "    training_data_len = int(np.round(len(df) * percentage))\n",
    "    dataset = pd.DataFrame(df)\n",
    "    scaler = MinMaxScaler(feature_range = (0, 1))\n",
    "    scaled_data = scaler.fit_transform(dataset)\n",
    "    return training_data_len, dataset, scaler, scaled_data"
   ]
  },
  {
   "cell_type": "code",
   "execution_count": 10,
   "metadata": {},
   "outputs": [],
   "source": [
    "training_data_len, dataset, scaler, scaled_data = preprocessing(dataset, percentage=.8)"
   ]
  },
  {
   "cell_type": "code",
   "execution_count": 11,
   "metadata": {},
   "outputs": [],
   "source": [
    "#training_data_len = int(np.round(len(dataset) * .8))"
   ]
  },
  {
   "cell_type": "code",
   "execution_count": 12,
   "metadata": {},
   "outputs": [
    {
     "data": {
      "text/plain": [
       "1012"
      ]
     },
     "execution_count": 12,
     "metadata": {},
     "output_type": "execute_result"
    }
   ],
   "source": [
    "training_data_len"
   ]
  },
  {
   "cell_type": "code",
   "execution_count": 13,
   "metadata": {},
   "outputs": [],
   "source": [
    "#dataset = pd.DataFrame(dataset)"
   ]
  },
  {
   "cell_type": "code",
   "execution_count": 14,
   "metadata": {},
   "outputs": [],
   "source": [
    "# from sklearn.preprocessing import MinMaxScaler\n",
    "\n",
    "# scaler = MinMaxScaler(feature_range = (0, 1))\n",
    "# scaled_data = scaler.fit_transform(dataset)\n",
    "# scaled_data"
   ]
  },
  {
   "cell_type": "code",
   "execution_count": 15,
   "metadata": {},
   "outputs": [],
   "source": [
    "def create_sets(training_data_len):\n",
    "    #create training data set\n",
    "    train_data = scaled_data[0:training_data_len,:]\n",
    "    test_data = scaled_data[training_data_len -60:,:] #to 2003 which is end of dataset\n",
    "    #split data into X_train and y_train data sets\n",
    "    X_train = []\n",
    "    y_train = []\n",
    "    #create dataset X_test and y_test data sets\n",
    "    X_test = []\n",
    "    y_test = []    #dataset.iloc[training_data_len:, :]\n",
    "\n",
    "\n",
    "    for i in range(60, len(train_data)):\n",
    "        X_train.append(train_data[i-60:i])\n",
    "        y_train.append(train_data[i,0]) #will contain 61st value which will be at position 60\n",
    "\n",
    "    for i in range(60, len(test_data)):\n",
    "        X_test.append(test_data[i-60:i,0]) \n",
    "        y_test.append(test_data[i,0])\n",
    "        \n",
    "    X_train, y_train = np.array(X_train), np.array(y_train)    \n",
    "        \n",
    "    return X_train, X_test, y_train, y_test    "
   ]
  },
  {
   "cell_type": "code",
   "execution_count": 16,
   "metadata": {},
   "outputs": [],
   "source": [
    "X_train, X_test, y_train, y_test = create_sets(training_data_len)"
   ]
  },
  {
   "cell_type": "code",
   "execution_count": 17,
   "metadata": {},
   "outputs": [
    {
     "data": {
      "text/plain": [
       "60"
      ]
     },
     "execution_count": 17,
     "metadata": {},
     "output_type": "execute_result"
    }
   ],
   "source": [
    "len(X_train[0])"
   ]
  },
  {
   "cell_type": "code",
   "execution_count": 18,
   "metadata": {},
   "outputs": [],
   "source": [
    "#convert X_train and y_train to numpy array\n",
    "#move above\n",
    "\n",
    "#X_train, y_train = np.array(X_train), np.array(y_train)"
   ]
  },
  {
   "cell_type": "code",
   "execution_count": 19,
   "metadata": {},
   "outputs": [
    {
     "data": {
      "text/plain": [
       "array([[[0.6702297 ],\n",
       "        [0.66818284],\n",
       "        [0.67637026],\n",
       "        ...,\n",
       "        [0.65976804],\n",
       "        [0.68091883],\n",
       "        [0.6854674 ]],\n",
       "\n",
       "       [[0.66818284],\n",
       "        [0.67637026],\n",
       "        [0.63247669],\n",
       "        ...,\n",
       "        [0.68091883],\n",
       "        [0.6854674 ],\n",
       "        [0.67068456]],\n",
       "\n",
       "       [[0.67637026],\n",
       "        [0.63247669],\n",
       "        [0.62360702],\n",
       "        ...,\n",
       "        [0.6854674 ],\n",
       "        [0.67068456],\n",
       "        [0.63270408]],\n",
       "\n",
       "       ...,\n",
       "\n",
       "       [[0.77120761],\n",
       "        [0.76779624],\n",
       "        [0.76870597],\n",
       "        ...,\n",
       "        [0.90629977],\n",
       "        [0.88401186],\n",
       "        [0.87491471]],\n",
       "\n",
       "       [[0.76779624],\n",
       "        [0.76870597],\n",
       "        [0.78348873],\n",
       "        ...,\n",
       "        [0.88401186],\n",
       "        [0.87491471],\n",
       "        [0.87377759]],\n",
       "\n",
       "       [[0.76870597],\n",
       "        [0.78348873],\n",
       "        [0.77279959],\n",
       "        ...,\n",
       "        [0.87491471],\n",
       "        [0.87377759],\n",
       "        [0.90197859]]])"
      ]
     },
     "execution_count": 19,
     "metadata": {},
     "output_type": "execute_result"
    }
   ],
   "source": [
    "X_train"
   ]
  },
  {
   "cell_type": "code",
   "execution_count": 20,
   "metadata": {},
   "outputs": [
    {
     "data": {
      "text/plain": [
       "(952, 60, 1)"
      ]
     },
     "execution_count": 20,
     "metadata": {},
     "output_type": "execute_result"
    }
   ],
   "source": [
    "X_train.shape"
   ]
  },
  {
   "cell_type": "code",
   "execution_count": 21,
   "metadata": {},
   "outputs": [],
   "source": [
    "\n",
    "model = Sequential()\n",
    "\n",
    "model.add(LSTM(units = 50, return_sequences = True, input_shape=(X_train.shape[1],1)))\n",
    "model.add(Dropout(0.2))\n",
    "\n",
    "model.add(LSTM(units = 50, return_sequences = True))\n",
    "model.add(Dropout(0.2))\n",
    "\n",
    "model.add(LSTM(units = 50, return_sequences = False))\n",
    "model.add(Dropout(0.2))\n",
    "\n",
    "model.add(Dense(units = 25))\n",
    "model.add(Dense(units = 1))\n",
    "\n",
    "model.compile(optimizer = 'adam', loss = 'mean_squared_error')\n"
   ]
  },
  {
   "cell_type": "code",
   "execution_count": 22,
   "metadata": {},
   "outputs": [
    {
     "name": "stdout",
     "output_type": "stream",
     "text": [
      "_________________________________________________________________\n",
      "Layer (type)                 Output Shape              Param #   \n",
      "=================================================================\n",
      "lstm_1 (LSTM)                (None, 60, 50)            10400     \n",
      "_________________________________________________________________\n",
      "dropout_1 (Dropout)          (None, 60, 50)            0         \n",
      "_________________________________________________________________\n",
      "lstm_2 (LSTM)                (None, 60, 50)            20200     \n",
      "_________________________________________________________________\n",
      "dropout_2 (Dropout)          (None, 60, 50)            0         \n",
      "_________________________________________________________________\n",
      "lstm_3 (LSTM)                (None, 50)                20200     \n",
      "_________________________________________________________________\n",
      "dropout_3 (Dropout)          (None, 50)                0         \n",
      "_________________________________________________________________\n",
      "dense_1 (Dense)              (None, 25)                1275      \n",
      "_________________________________________________________________\n",
      "dense_2 (Dense)              (None, 1)                 26        \n",
      "=================================================================\n",
      "Total params: 52,101\n",
      "Trainable params: 52,101\n",
      "Non-trainable params: 0\n",
      "_________________________________________________________________\n"
     ]
    }
   ],
   "source": [
    "model.summary()"
   ]
  },
  {
   "cell_type": "code",
   "execution_count": 23,
   "metadata": {},
   "outputs": [
    {
     "name": "stdout",
     "output_type": "stream",
     "text": [
      "Epoch 1/50\n",
      "952/952 [==============================] - 7s 8ms/step - loss: 0.0895\n",
      "Epoch 2/50\n",
      "952/952 [==============================] - 6s 6ms/step - loss: 0.0113\n",
      "Epoch 3/50\n",
      "952/952 [==============================] - 6s 6ms/step - loss: 0.0089\n",
      "Epoch 4/50\n",
      "952/952 [==============================] - 6s 6ms/step - loss: 0.0076\n",
      "Epoch 5/50\n",
      "952/952 [==============================] - 6s 6ms/step - loss: 0.0072\n",
      "Epoch 6/50\n",
      "952/952 [==============================] - 6s 6ms/step - loss: 0.0058\n",
      "Epoch 7/50\n",
      "952/952 [==============================] - 6s 6ms/step - loss: 0.0061\n",
      "Epoch 8/50\n",
      "952/952 [==============================] - 6s 6ms/step - loss: 0.0060\n",
      "Epoch 9/50\n",
      "952/952 [==============================] - 6s 6ms/step - loss: 0.0061\n",
      "Epoch 10/50\n",
      "952/952 [==============================] - 6s 6ms/step - loss: 0.0054\n",
      "Epoch 11/50\n",
      "952/952 [==============================] - 6s 6ms/step - loss: 0.0050\n",
      "Epoch 12/50\n",
      "952/952 [==============================] - 6s 6ms/step - loss: 0.0050\n",
      "Epoch 13/50\n",
      "952/952 [==============================] - 6s 6ms/step - loss: 0.0052\n",
      "Epoch 14/50\n",
      "952/952 [==============================] - 6s 6ms/step - loss: 0.0045\n",
      "Epoch 15/50\n",
      "952/952 [==============================] - 6s 6ms/step - loss: 0.0044\n",
      "Epoch 16/50\n",
      "952/952 [==============================] - 6s 6ms/step - loss: 0.0042\n",
      "Epoch 17/50\n",
      "952/952 [==============================] - 6s 6ms/step - loss: 0.0041\n",
      "Epoch 18/50\n",
      "952/952 [==============================] - 6s 6ms/step - loss: 0.0037\n",
      "Epoch 19/50\n",
      "952/952 [==============================] - 6s 6ms/step - loss: 0.0038\n",
      "Epoch 20/50\n",
      "952/952 [==============================] - 6s 6ms/step - loss: 0.0035\n",
      "Epoch 21/50\n",
      "952/952 [==============================] - 6s 6ms/step - loss: 0.0040\n",
      "Epoch 22/50\n",
      "952/952 [==============================] - 6s 6ms/step - loss: 0.0039\n",
      "Epoch 23/50\n",
      "952/952 [==============================] - 6s 6ms/step - loss: 0.0031\n",
      "Epoch 24/50\n",
      "952/952 [==============================] - 6s 6ms/step - loss: 0.0034\n",
      "Epoch 25/50\n",
      "952/952 [==============================] - 6s 6ms/step - loss: 0.0034\n",
      "Epoch 26/50\n",
      "952/952 [==============================] - 6s 6ms/step - loss: 0.0029\n",
      "Epoch 27/50\n",
      "952/952 [==============================] - 6s 6ms/step - loss: 0.0030\n",
      "Epoch 28/50\n",
      "952/952 [==============================] - 7s 7ms/step - loss: 0.0031\n",
      "Epoch 29/50\n",
      "952/952 [==============================] - 6s 6ms/step - loss: 0.0025\n",
      "Epoch 30/50\n",
      "952/952 [==============================] - 6s 6ms/step - loss: 0.0024\n",
      "Epoch 31/50\n",
      "952/952 [==============================] - 6s 6ms/step - loss: 0.0022\n",
      "Epoch 32/50\n",
      "952/952 [==============================] - 6s 6ms/step - loss: 0.0023\n",
      "Epoch 33/50\n",
      "952/952 [==============================] - 7s 7ms/step - loss: 0.0022\n",
      "Epoch 34/50\n",
      "952/952 [==============================] - 7s 7ms/step - loss: 0.0025\n",
      "Epoch 35/50\n",
      "952/952 [==============================] - 6s 6ms/step - loss: 0.0022\n",
      "Epoch 36/50\n",
      "952/952 [==============================] - 6s 7ms/step - loss: 0.0020\n",
      "Epoch 37/50\n",
      "952/952 [==============================] - 6s 6ms/step - loss: 0.0020\n",
      "Epoch 38/50\n",
      "952/952 [==============================] - 6s 6ms/step - loss: 0.0018\n",
      "Epoch 39/50\n",
      "952/952 [==============================] - 6s 7ms/step - loss: 0.0018\n",
      "Epoch 40/50\n",
      "952/952 [==============================] - 7s 8ms/step - loss: 0.0017\n",
      "Epoch 41/50\n",
      "952/952 [==============================] - 6s 6ms/step - loss: 0.0016\n",
      "Epoch 42/50\n",
      "952/952 [==============================] - 6s 6ms/step - loss: 0.0016\n",
      "Epoch 43/50\n",
      "952/952 [==============================] - 6s 6ms/step - loss: 0.0017\n",
      "Epoch 44/50\n",
      "952/952 [==============================] - 6s 6ms/step - loss: 0.0017\n",
      "Epoch 45/50\n",
      "952/952 [==============================] - 6s 6ms/step - loss: 0.0016\n",
      "Epoch 46/50\n",
      "952/952 [==============================] - 6s 6ms/step - loss: 0.0016\n",
      "Epoch 47/50\n",
      "952/952 [==============================] - 6s 6ms/step - loss: 0.0016\n",
      "Epoch 48/50\n",
      "952/952 [==============================] - 6s 6ms/step - loss: 0.0016\n",
      "Epoch 49/50\n",
      "952/952 [==============================] - 6s 6ms/step - loss: 0.0014\n",
      "Epoch 50/50\n",
      "952/952 [==============================] - 6s 6ms/step - loss: 0.0014\n"
     ]
    },
    {
     "data": {
      "text/plain": [
       "<keras.callbacks.History at 0x7fed182d5a90>"
      ]
     },
     "execution_count": 23,
     "metadata": {},
     "output_type": "execute_result"
    }
   ],
   "source": [
    "#train the model\n",
    "model.fit(X_train,y_train, epochs=50, batch_size=32 ) "
   ]
  },
  {
   "cell_type": "code",
   "execution_count": 24,
   "metadata": {},
   "outputs": [],
   "source": [
    "#convert data to a numpy array\n",
    "X_test = np.array(X_test)"
   ]
  },
  {
   "cell_type": "code",
   "execution_count": 25,
   "metadata": {},
   "outputs": [
    {
     "data": {
      "text/plain": [
       "(253, 60)"
      ]
     },
     "execution_count": 25,
     "metadata": {},
     "output_type": "execute_result"
    }
   ],
   "source": [
    "X_test.shape"
   ]
  },
  {
   "cell_type": "code",
   "execution_count": 26,
   "metadata": {},
   "outputs": [],
   "source": [
    "#number of rows, number of timeseteps, number of features\n",
    "X_test = np.reshape(X_test,(X_test.shape[0],X_test.shape[1],1))"
   ]
  },
  {
   "cell_type": "code",
   "execution_count": 27,
   "metadata": {},
   "outputs": [
    {
     "data": {
      "text/plain": [
       "(253, 60, 1)"
      ]
     },
     "execution_count": 27,
     "metadata": {},
     "output_type": "execute_result"
    }
   ],
   "source": [
    "X_test.shape"
   ]
  },
  {
   "cell_type": "code",
   "execution_count": 28,
   "metadata": {},
   "outputs": [],
   "source": [
    "#get models predicted price values for X_test dataset\n",
    "#want predcitions to contain same values as y_test dataset once we inverse_transform\n",
    "#getting predcitiosn off of X_test\n",
    "predictions = model.predict(X_test)\n",
    "predictions = scaler.inverse_transform(predictions) #unscaling the values"
   ]
  },
  {
   "cell_type": "code",
   "execution_count": 29,
   "metadata": {},
   "outputs": [
    {
     "data": {
      "text/plain": [
       "array([[57.408516],\n",
       "       [57.52528 ],\n",
       "       [57.789448],\n",
       "       [58.28613 ],\n",
       "       [58.96437 ],\n",
       "       [59.72788 ],\n",
       "       [60.47031 ],\n",
       "       [60.963284],\n",
       "       [61.09125 ],\n",
       "       [60.940876],\n",
       "       [60.508507],\n",
       "       [59.745316],\n",
       "       [58.82595 ],\n",
       "       [57.860226],\n",
       "       [57.009132],\n",
       "       [56.26856 ],\n",
       "       [55.692837],\n",
       "       [55.450882],\n",
       "       [55.619576],\n",
       "       [56.065548],\n",
       "       [56.6221  ],\n",
       "       [57.14527 ],\n",
       "       [57.62553 ],\n",
       "       [58.095966],\n",
       "       [58.50747 ],\n",
       "       [58.804935],\n",
       "       [58.956554],\n",
       "       [58.9557  ],\n",
       "       [58.824703],\n",
       "       [58.57214 ],\n",
       "       [57.973545],\n",
       "       [56.836517],\n",
       "       [55.22415 ],\n",
       "       [53.30266 ],\n",
       "       [51.210423],\n",
       "       [49.26337 ],\n",
       "       [47.617184],\n",
       "       [46.534657],\n",
       "       [45.825123],\n",
       "       [45.441803],\n",
       "       [45.16306 ],\n",
       "       [45.037704],\n",
       "       [44.87451 ],\n",
       "       [44.03459 ],\n",
       "       [42.801064],\n",
       "       [41.2997  ],\n",
       "       [39.484486],\n",
       "       [37.035423],\n",
       "       [34.018192],\n",
       "       [30.755985],\n",
       "       [27.651726],\n",
       "       [25.238497],\n",
       "       [23.944038],\n",
       "       [23.815153],\n",
       "       [24.503046],\n",
       "       [25.592604],\n",
       "       [26.759403],\n",
       "       [27.521563],\n",
       "       [27.665825],\n",
       "       [27.23397 ],\n",
       "       [26.390156],\n",
       "       [25.331614],\n",
       "       [24.289858],\n",
       "       [23.46856 ],\n",
       "       [22.87782 ],\n",
       "       [22.565668],\n",
       "       [22.496313],\n",
       "       [22.51542 ],\n",
       "       [22.618748],\n",
       "       [22.749384],\n",
       "       [22.839752],\n",
       "       [22.830778],\n",
       "       [22.720726],\n",
       "       [22.533377],\n",
       "       [22.290808],\n",
       "       [22.145603],\n",
       "       [22.31704 ],\n",
       "       [22.74147 ],\n",
       "       [23.207026],\n",
       "       [23.502405],\n",
       "       [23.515745],\n",
       "       [23.226383],\n",
       "       [22.74635 ],\n",
       "       [22.246378],\n",
       "       [21.787405],\n",
       "       [21.351376],\n",
       "       [20.857277],\n",
       "       [20.305006],\n",
       "       [19.72556 ],\n",
       "       [19.308414],\n",
       "       [19.117308],\n",
       "       [19.18905 ],\n",
       "       [19.503971],\n",
       "       [19.960009],\n",
       "       [20.625355],\n",
       "       [21.494934],\n",
       "       [22.44031 ],\n",
       "       [23.315027],\n",
       "       [24.084044],\n",
       "       [24.732792],\n",
       "       [25.36791 ],\n",
       "       [26.236876],\n",
       "       [27.45613 ],\n",
       "       [29.10308 ],\n",
       "       [30.844118],\n",
       "       [32.25452 ],\n",
       "       [32.88347 ],\n",
       "       [32.89714 ],\n",
       "       [32.51228 ],\n",
       "       [31.977627],\n",
       "       [31.419514],\n",
       "       [30.925243],\n",
       "       [30.464603],\n",
       "       [30.02971 ],\n",
       "       [29.656187],\n",
       "       [29.231709],\n",
       "       [28.784428],\n",
       "       [28.295332],\n",
       "       [27.891861],\n",
       "       [27.599846],\n",
       "       [27.399797],\n",
       "       [27.2757  ],\n",
       "       [27.254044],\n",
       "       [27.242758],\n",
       "       [27.201475],\n",
       "       [27.045992],\n",
       "       [26.858444],\n",
       "       [26.677113],\n",
       "       [26.48399 ],\n",
       "       [26.426727],\n",
       "       [26.464216],\n",
       "       [26.540524],\n",
       "       [26.571785],\n",
       "       [26.54377 ],\n",
       "       [26.4563  ],\n",
       "       [26.357687],\n",
       "       [26.228788],\n",
       "       [26.047268],\n",
       "       [25.849913],\n",
       "       [25.653805],\n",
       "       [25.430758],\n",
       "       [25.187353],\n",
       "       [24.95693 ],\n",
       "       [24.789194],\n",
       "       [24.745235],\n",
       "       [24.860598],\n",
       "       [25.11448 ],\n",
       "       [25.579441],\n",
       "       [26.235104],\n",
       "       [26.962091],\n",
       "       [27.631718],\n",
       "       [28.182983],\n",
       "       [28.533833],\n",
       "       [28.653608],\n",
       "       [28.578304],\n",
       "       [28.367796],\n",
       "       [28.066929],\n",
       "       [27.876532],\n",
       "       [27.883732],\n",
       "       [28.068346],\n",
       "       [28.422565],\n",
       "       [28.957235],\n",
       "       [29.53907 ],\n",
       "       [30.060888],\n",
       "       [30.491081],\n",
       "       [30.8202  ],\n",
       "       [31.082819],\n",
       "       [31.340567],\n",
       "       [31.557104],\n",
       "       [31.714806],\n",
       "       [31.805376],\n",
       "       [31.903715],\n",
       "       [32.07574 ],\n",
       "       [32.386536],\n",
       "       [32.774914],\n",
       "       [33.10491 ],\n",
       "       [33.130493],\n",
       "       [32.84721 ],\n",
       "       [32.304848],\n",
       "       [31.581474],\n",
       "       [30.83538 ],\n",
       "       [30.269316],\n",
       "       [29.912764],\n",
       "       [29.745989],\n",
       "       [29.75879 ],\n",
       "       [29.946665],\n",
       "       [30.274874],\n",
       "       [30.623404],\n",
       "       [30.985752],\n",
       "       [31.370924],\n",
       "       [31.764374],\n",
       "       [32.12529 ],\n",
       "       [32.37009 ],\n",
       "       [32.476307],\n",
       "       [32.435287],\n",
       "       [32.286964],\n",
       "       [32.081753],\n",
       "       [31.892653],\n",
       "       [31.726282],\n",
       "       [31.723015],\n",
       "       [31.921787],\n",
       "       [32.152405],\n",
       "       [32.249165],\n",
       "       [32.108047],\n",
       "       [31.818644],\n",
       "       [31.462626],\n",
       "       [31.08239 ],\n",
       "       [30.761364],\n",
       "       [30.50986 ],\n",
       "       [30.422112],\n",
       "       [30.472176],\n",
       "       [30.941566],\n",
       "       [31.849419],\n",
       "       [32.921898],\n",
       "       [33.904106],\n",
       "       [34.789948],\n",
       "       [35.649044],\n",
       "       [36.43856 ],\n",
       "       [37.127354],\n",
       "       [37.682858],\n",
       "       [38.03672 ],\n",
       "       [38.292854],\n",
       "       [38.660107],\n",
       "       [39.173107],\n",
       "       [39.760433],\n",
       "       [40.28298 ],\n",
       "       [40.64782 ],\n",
       "       [40.90641 ],\n",
       "       [41.213333],\n",
       "       [41.558105],\n",
       "       [41.902798],\n",
       "       [42.213524],\n",
       "       [42.444466],\n",
       "       [42.615932],\n",
       "       [42.679806],\n",
       "       [42.568512],\n",
       "       [42.3824  ],\n",
       "       [42.13974 ],\n",
       "       [41.878387],\n",
       "       [41.60619 ],\n",
       "       [41.3111  ],\n",
       "       [40.935047],\n",
       "       [40.584488],\n",
       "       [40.286037],\n",
       "       [40.08478 ],\n",
       "       [39.981834],\n",
       "       [39.99689 ],\n",
       "       [40.087658],\n",
       "       [40.118004],\n",
       "       [40.101486],\n",
       "       [40.111965],\n",
       "       [40.16248 ],\n",
       "       [40.23142 ]], dtype=float32)"
      ]
     },
     "execution_count": 29,
     "metadata": {},
     "output_type": "execute_result"
    }
   ],
   "source": [
    "predictions"
   ]
  },
  {
   "cell_type": "code",
   "execution_count": 30,
   "metadata": {},
   "outputs": [
    {
     "data": {
      "text/plain": [
       "34.164054077489666"
      ]
     },
     "execution_count": 30,
     "metadata": {},
     "output_type": "execute_result"
    }
   ],
   "source": [
    "#evaluate model w/RMSE\n",
    "rmse = np.sqrt(np.mean(predictions-y_test)**2)\n",
    "rmse"
   ]
  },
  {
   "cell_type": "code",
   "execution_count": 31,
   "metadata": {},
   "outputs": [],
   "source": [
    "predictions = pd.DataFrame(predictions, columns=['Predictions'])"
   ]
  },
  {
   "cell_type": "code",
   "execution_count": 32,
   "metadata": {},
   "outputs": [],
   "source": [
    "train = dataset[:training_data_len]\n",
    "valid = dataset[training_data_len:] #data from index training_data_len to "
   ]
  },
  {
   "cell_type": "code",
   "execution_count": 33,
   "metadata": {},
   "outputs": [
    {
     "data": {
      "text/plain": [
       "(253, 253)"
      ]
     },
     "execution_count": 33,
     "metadata": {},
     "output_type": "execute_result"
    }
   ],
   "source": [
    "len(predictions), len(valid)"
   ]
  },
  {
   "cell_type": "code",
   "execution_count": 34,
   "metadata": {},
   "outputs": [],
   "source": [
    "valid.reset_index(inplace=True)"
   ]
  },
  {
   "cell_type": "code",
   "execution_count": 35,
   "metadata": {},
   "outputs": [
    {
     "data": {
      "text/html": [
       "<div>\n",
       "<style scoped>\n",
       "    .dataframe tbody tr th:only-of-type {\n",
       "        vertical-align: middle;\n",
       "    }\n",
       "\n",
       "    .dataframe tbody tr th {\n",
       "        vertical-align: top;\n",
       "    }\n",
       "\n",
       "    .dataframe thead th {\n",
       "        text-align: right;\n",
       "    }\n",
       "</style>\n",
       "<table border=\"1\" class=\"dataframe\">\n",
       "  <thead>\n",
       "    <tr style=\"text-align: right;\">\n",
       "      <th></th>\n",
       "      <th>Date</th>\n",
       "      <th>Close</th>\n",
       "    </tr>\n",
       "  </thead>\n",
       "  <tbody>\n",
       "    <tr>\n",
       "      <th>0</th>\n",
       "      <td>2020-01-10</td>\n",
       "      <td>59.240002</td>\n",
       "    </tr>\n",
       "    <tr>\n",
       "      <th>1</th>\n",
       "      <td>2020-01-13</td>\n",
       "      <td>59.490002</td>\n",
       "    </tr>\n",
       "    <tr>\n",
       "      <th>2</th>\n",
       "      <td>2020-01-14</td>\n",
       "      <td>61.450001</td>\n",
       "    </tr>\n",
       "    <tr>\n",
       "      <th>3</th>\n",
       "      <td>2020-01-15</td>\n",
       "      <td>61.619999</td>\n",
       "    </tr>\n",
       "    <tr>\n",
       "      <th>4</th>\n",
       "      <td>2020-01-16</td>\n",
       "      <td>61.880001</td>\n",
       "    </tr>\n",
       "  </tbody>\n",
       "</table>\n",
       "</div>"
      ],
      "text/plain": [
       "        Date      Close\n",
       "0 2020-01-10  59.240002\n",
       "1 2020-01-13  59.490002\n",
       "2 2020-01-14  61.450001\n",
       "3 2020-01-15  61.619999\n",
       "4 2020-01-16  61.880001"
      ]
     },
     "execution_count": 35,
     "metadata": {},
     "output_type": "execute_result"
    }
   ],
   "source": [
    "valid.head()"
   ]
  },
  {
   "cell_type": "code",
   "execution_count": 36,
   "metadata": {},
   "outputs": [
    {
     "data": {
      "text/html": [
       "<div>\n",
       "<style scoped>\n",
       "    .dataframe tbody tr th:only-of-type {\n",
       "        vertical-align: middle;\n",
       "    }\n",
       "\n",
       "    .dataframe tbody tr th {\n",
       "        vertical-align: top;\n",
       "    }\n",
       "\n",
       "    .dataframe thead th {\n",
       "        text-align: right;\n",
       "    }\n",
       "</style>\n",
       "<table border=\"1\" class=\"dataframe\">\n",
       "  <thead>\n",
       "    <tr style=\"text-align: right;\">\n",
       "      <th></th>\n",
       "      <th>Predictions</th>\n",
       "    </tr>\n",
       "  </thead>\n",
       "  <tbody>\n",
       "    <tr>\n",
       "      <th>0</th>\n",
       "      <td>57.408516</td>\n",
       "    </tr>\n",
       "    <tr>\n",
       "      <th>1</th>\n",
       "      <td>57.525280</td>\n",
       "    </tr>\n",
       "    <tr>\n",
       "      <th>2</th>\n",
       "      <td>57.789448</td>\n",
       "    </tr>\n",
       "    <tr>\n",
       "      <th>3</th>\n",
       "      <td>58.286129</td>\n",
       "    </tr>\n",
       "    <tr>\n",
       "      <th>4</th>\n",
       "      <td>58.964371</td>\n",
       "    </tr>\n",
       "  </tbody>\n",
       "</table>\n",
       "</div>"
      ],
      "text/plain": [
       "   Predictions\n",
       "0    57.408516\n",
       "1    57.525280\n",
       "2    57.789448\n",
       "3    58.286129\n",
       "4    58.964371"
      ]
     },
     "execution_count": 36,
     "metadata": {},
     "output_type": "execute_result"
    }
   ],
   "source": [
    "predictions.head()"
   ]
  },
  {
   "cell_type": "code",
   "execution_count": 37,
   "metadata": {},
   "outputs": [],
   "source": [
    "valid['Prediction'] = predictions['Predictions']"
   ]
  },
  {
   "cell_type": "code",
   "execution_count": 38,
   "metadata": {},
   "outputs": [],
   "source": [
    "valid1 = valid.set_index('Date')"
   ]
  },
  {
   "cell_type": "code",
   "execution_count": 39,
   "metadata": {},
   "outputs": [
    {
     "data": {
      "text/html": [
       "<div>\n",
       "<style scoped>\n",
       "    .dataframe tbody tr th:only-of-type {\n",
       "        vertical-align: middle;\n",
       "    }\n",
       "\n",
       "    .dataframe tbody tr th {\n",
       "        vertical-align: top;\n",
       "    }\n",
       "\n",
       "    .dataframe thead th {\n",
       "        text-align: right;\n",
       "    }\n",
       "</style>\n",
       "<table border=\"1\" class=\"dataframe\">\n",
       "  <thead>\n",
       "    <tr style=\"text-align: right;\">\n",
       "      <th></th>\n",
       "      <th>Close</th>\n",
       "      <th>Prediction</th>\n",
       "    </tr>\n",
       "    <tr>\n",
       "      <th>Date</th>\n",
       "      <th></th>\n",
       "      <th></th>\n",
       "    </tr>\n",
       "  </thead>\n",
       "  <tbody>\n",
       "    <tr>\n",
       "      <th>2020-01-10</th>\n",
       "      <td>59.240002</td>\n",
       "      <td>57.408516</td>\n",
       "    </tr>\n",
       "    <tr>\n",
       "      <th>2020-01-13</th>\n",
       "      <td>59.490002</td>\n",
       "      <td>57.525280</td>\n",
       "    </tr>\n",
       "    <tr>\n",
       "      <th>2020-01-14</th>\n",
       "      <td>61.450001</td>\n",
       "      <td>57.789448</td>\n",
       "    </tr>\n",
       "    <tr>\n",
       "      <th>2020-01-15</th>\n",
       "      <td>61.619999</td>\n",
       "      <td>58.286129</td>\n",
       "    </tr>\n",
       "    <tr>\n",
       "      <th>2020-01-16</th>\n",
       "      <td>61.880001</td>\n",
       "      <td>58.964371</td>\n",
       "    </tr>\n",
       "  </tbody>\n",
       "</table>\n",
       "</div>"
      ],
      "text/plain": [
       "                Close  Prediction\n",
       "Date                             \n",
       "2020-01-10  59.240002   57.408516\n",
       "2020-01-13  59.490002   57.525280\n",
       "2020-01-14  61.450001   57.789448\n",
       "2020-01-15  61.619999   58.286129\n",
       "2020-01-16  61.880001   58.964371"
      ]
     },
     "execution_count": 39,
     "metadata": {},
     "output_type": "execute_result"
    }
   ],
   "source": [
    "valid1.head()"
   ]
  },
  {
   "cell_type": "code",
   "execution_count": 40,
   "metadata": {},
   "outputs": [
    {
     "data": {
      "text/plain": [
       "<matplotlib.legend.Legend at 0x7fecfe643b38>"
      ]
     },
     "execution_count": 40,
     "metadata": {},
     "output_type": "execute_result"
    },
    {
     "data": {
      "image/png": "[encoded data removed]",
      "text/plain": [
       "<Figure size 864x576 with 1 Axes>"
      ]
     },
     "metadata": {
      "needs_background": "light"
     },
     "output_type": "display_data"
    }
   ],
   "source": [
    "\"\"\"\n",
    "blue-data model was trainined on \n",
    "orange-actual closing stock price for rest of days\n",
    "green-what model predcited values to be\n",
    "\"\"\"\n",
    "\n",
    "# train = dataset[:training_data_len]\n",
    "# valid = dataset[training_data_len:] #data from index training_data_len to \n",
    "# valid['Predictions'] = predictions\n",
    "plt.figure(figsize=(12,8))\n",
    "plt.title('Model')\n",
    "plt.xlabel('Label')\n",
    "plt.ylabel('Close Price USD ($)')\n",
    "plt.plot(train['Close'])\n",
    "#plt.plot(valid[['Close','Predictions']])\n",
    "plt.plot(valid1['Close'])\n",
    "plt.plot(valid1['Prediction'])\n",
    "# #valid[['Close','Predictions']].plot()\n",
    "plt.legend(['Train','Valid','Predictions'],loc='lower right')"
   ]
  },
  {
   "cell_type": "code",
   "execution_count": 41,
   "metadata": {},
   "outputs": [
    {
     "data": {
      "text/html": [
       "<div>\n",
       "<style scoped>\n",
       "    .dataframe tbody tr th:only-of-type {\n",
       "        vertical-align: middle;\n",
       "    }\n",
       "\n",
       "    .dataframe tbody tr th {\n",
       "        vertical-align: top;\n",
       "    }\n",
       "\n",
       "    .dataframe thead th {\n",
       "        text-align: right;\n",
       "    }\n",
       "</style>\n",
       "<table border=\"1\" class=\"dataframe\">\n",
       "  <thead>\n",
       "    <tr style=\"text-align: right;\">\n",
       "      <th></th>\n",
       "      <th>Close</th>\n",
       "    </tr>\n",
       "    <tr>\n",
       "      <th>Date</th>\n",
       "      <th></th>\n",
       "    </tr>\n",
       "  </thead>\n",
       "  <tbody>\n",
       "    <tr>\n",
       "      <th>2021-01-05</th>\n",
       "      <td>39.549999</td>\n",
       "    </tr>\n",
       "    <tr>\n",
       "      <th>2021-01-06</th>\n",
       "      <td>40.380001</td>\n",
       "    </tr>\n",
       "    <tr>\n",
       "      <th>2021-01-07</th>\n",
       "      <td>40.230000</td>\n",
       "    </tr>\n",
       "    <tr>\n",
       "      <th>2021-01-08</th>\n",
       "      <td>40.020000</td>\n",
       "    </tr>\n",
       "    <tr>\n",
       "      <th>2021-01-11</th>\n",
       "      <td>39.410000</td>\n",
       "    </tr>\n",
       "  </tbody>\n",
       "</table>\n",
       "</div>"
      ],
      "text/plain": [
       "                Close\n",
       "Date                 \n",
       "2021-01-05  39.549999\n",
       "2021-01-06  40.380001\n",
       "2021-01-07  40.230000\n",
       "2021-01-08  40.020000\n",
       "2021-01-11  39.410000"
      ]
     },
     "execution_count": 41,
     "metadata": {},
     "output_type": "execute_result"
    }
   ],
   "source": [
    "dataset.tail()"
   ]
  },
  {
   "cell_type": "code",
   "execution_count": 42,
   "metadata": {},
   "outputs": [],
   "source": [
    "\"\"\"\n",
    "predict closing price fo apple stock for 12/18/2019\n",
    "\n",
    "get the quote\n",
    "\"\"\"\n",
    "def get_quote(new_df):\n",
    "    #get last 60days closing values and convert datframe to an array\n",
    "    last_60_days = new_df[-60:].values #converts to array\n",
    "    #scale data\n",
    "    last_60_days_scaled = scaler.transform(last_60_days)\n",
    "    #realreate empty list\n",
    "    x_test = []\n",
    "    #append last 60 days to x_test\n",
    "    x_test.append(last_60_days_scaled)\n",
    "    #conert x_test to a numpy array\n",
    "    x_test = np.array(x_test)\n",
    "    # #reshape the data\n",
    "    x_test = np.reshape(x_test, (x_test.shape[0],x_test.shape[1],1))\n",
    "    #get the predcited scaled price\n",
    "    pred_price = model.predict(x_test)\n",
    "    #undo the scaling \n",
    "    pred_price = scaler.inverse_transform(pred_price) \n",
    "    #what model thinks predicted price will be for 12/18/2019\n",
    "    #the actual prcie was $69.94\n",
    "    #DAL: 58.58, 2021-1-11 40.19\n",
    "    return pred_price                    "
   ]
  },
  {
   "cell_type": "code",
   "execution_count": 43,
   "metadata": {},
   "outputs": [
    {
     "data": {
      "text/plain": [
       "array([[40.261333]], dtype=float32)"
      ]
     },
     "execution_count": 43,
     "metadata": {},
     "output_type": "execute_result"
    }
   ],
   "source": [
    "get_quote(dataset)"
   ]
  }
 ],
 "metadata": {
  "kernelspec": {
   "display_name": "Python 3",
   "language": "python",
   "name": "python3"
  },
  "language_info": {
   "codemirror_mode": {
    "name": "ipython",
    "version": 3
   },
   "file_extension": ".py",
   "mimetype": "text/x-python",
   "name": "python",
   "nbconvert_exporter": "python",
   "pygments_lexer": "ipython3",
   "version": "3.6.9"
  },
  "toc": {
   "base_numbering": 1,
   "nav_menu": {},
   "number_sections": true,
   "sideBar": true,
   "skip_h1_title": false,
   "title_cell": "Table of Contents",
   "title_sidebar": "Contents",
   "toc_cell": false,
   "toc_position": {},
   "toc_section_display": true,
   "toc_window_display": false
  }
 },
 "nbformat": 4,
 "nbformat_minor": 4
}
