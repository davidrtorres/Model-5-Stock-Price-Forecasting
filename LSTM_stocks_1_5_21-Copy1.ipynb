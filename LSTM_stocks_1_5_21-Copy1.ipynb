{
 "cells": [
  {
   "cell_type": "code",
   "execution_count": 1,
   "metadata": {},
   "outputs": [],
   "source": [
    "import pandas as pd\n",
    "import numpy as np\n",
    "import matplotlib.pyplot as plt\n",
    "%matplotlib inline"
   ]
  },
  {
   "cell_type": "code",
   "execution_count": 2,
   "metadata": {},
   "outputs": [
    {
     "data": {
      "text/plain": [
       "'\\nsequence data-data tht comes in a particular order\\n'"
      ]
     },
     "execution_count": 2,
     "metadata": {},
     "output_type": "execute_result"
    }
   ],
   "source": [
    "\"\"\"\n",
    "sequence data-data tht comes in a particular order\n",
    "\"\"\"\n",
    "#df_1 = pd.read_csv('apple_stock.csv', parse_dates=True, index_col=[0])"
   ]
  },
  {
   "cell_type": "code",
   "execution_count": 3,
   "metadata": {},
   "outputs": [],
   "source": [
    "#df_1.head()"
   ]
  },
  {
   "cell_type": "code",
   "execution_count": 4,
   "metadata": {},
   "outputs": [],
   "source": [
    "df_1 = pd.read_csv('apple_2012_1_1-2019_12_17.csv', parse_dates=True, index_col=[0])"
   ]
  },
  {
   "cell_type": "code",
   "execution_count": 5,
   "metadata": {},
   "outputs": [],
   "source": [
    "apple_training = df_1['2012-1-1':'2018-1-1']"
   ]
  },
  {
   "cell_type": "code",
   "execution_count": 6,
   "metadata": {},
   "outputs": [
    {
     "data": {
      "text/html": [
       "<div>\n",
       "<style scoped>\n",
       "    .dataframe tbody tr th:only-of-type {\n",
       "        vertical-align: middle;\n",
       "    }\n",
       "\n",
       "    .dataframe tbody tr th {\n",
       "        vertical-align: top;\n",
       "    }\n",
       "\n",
       "    .dataframe thead th {\n",
       "        text-align: right;\n",
       "    }\n",
       "</style>\n",
       "<table border=\"1\" class=\"dataframe\">\n",
       "  <thead>\n",
       "    <tr style=\"text-align: right;\">\n",
       "      <th></th>\n",
       "      <th>High</th>\n",
       "      <th>Low</th>\n",
       "      <th>Open</th>\n",
       "      <th>Close</th>\n",
       "      <th>Volume</th>\n",
       "      <th>Adj Close</th>\n",
       "    </tr>\n",
       "    <tr>\n",
       "      <th>Date</th>\n",
       "      <th></th>\n",
       "      <th></th>\n",
       "      <th></th>\n",
       "      <th></th>\n",
       "      <th></th>\n",
       "      <th></th>\n",
       "    </tr>\n",
       "  </thead>\n",
       "  <tbody>\n",
       "    <tr>\n",
       "      <th>2012-01-03</th>\n",
       "      <td>14.732142</td>\n",
       "      <td>14.607142</td>\n",
       "      <td>14.621428</td>\n",
       "      <td>14.686786</td>\n",
       "      <td>302220800.0</td>\n",
       "      <td>12.669562</td>\n",
       "    </tr>\n",
       "    <tr>\n",
       "      <th>2012-01-04</th>\n",
       "      <td>14.810000</td>\n",
       "      <td>14.617143</td>\n",
       "      <td>14.642858</td>\n",
       "      <td>14.765715</td>\n",
       "      <td>260022000.0</td>\n",
       "      <td>12.737655</td>\n",
       "    </tr>\n",
       "    <tr>\n",
       "      <th>2012-01-05</th>\n",
       "      <td>14.948215</td>\n",
       "      <td>14.738214</td>\n",
       "      <td>14.819643</td>\n",
       "      <td>14.929643</td>\n",
       "      <td>271269600.0</td>\n",
       "      <td>12.879071</td>\n",
       "    </tr>\n",
       "    <tr>\n",
       "      <th>2012-01-06</th>\n",
       "      <td>15.098214</td>\n",
       "      <td>14.972143</td>\n",
       "      <td>14.991786</td>\n",
       "      <td>15.085714</td>\n",
       "      <td>318292800.0</td>\n",
       "      <td>13.013705</td>\n",
       "    </tr>\n",
       "    <tr>\n",
       "      <th>2012-01-09</th>\n",
       "      <td>15.276786</td>\n",
       "      <td>15.048214</td>\n",
       "      <td>15.196428</td>\n",
       "      <td>15.061786</td>\n",
       "      <td>394024400.0</td>\n",
       "      <td>12.993064</td>\n",
       "    </tr>\n",
       "  </tbody>\n",
       "</table>\n",
       "</div>"
      ],
      "text/plain": [
       "                 High        Low       Open      Close       Volume  Adj Close\n",
       "Date                                                                          \n",
       "2012-01-03  14.732142  14.607142  14.621428  14.686786  302220800.0  12.669562\n",
       "2012-01-04  14.810000  14.617143  14.642858  14.765715  260022000.0  12.737655\n",
       "2012-01-05  14.948215  14.738214  14.819643  14.929643  271269600.0  12.879071\n",
       "2012-01-06  15.098214  14.972143  14.991786  15.085714  318292800.0  13.013705\n",
       "2012-01-09  15.276786  15.048214  15.196428  15.061786  394024400.0  12.993064"
      ]
     },
     "execution_count": 6,
     "metadata": {},
     "output_type": "execute_result"
    }
   ],
   "source": [
    "apple_training.head()"
   ]
  },
  {
   "cell_type": "code",
   "execution_count": 7,
   "metadata": {},
   "outputs": [],
   "source": [
    "apple_training_processed = apple_training['Close']"
   ]
  },
  {
   "cell_type": "code",
   "execution_count": 8,
   "metadata": {},
   "outputs": [],
   "source": [
    "df = pd.DataFrame(apple_training_processed)"
   ]
  },
  {
   "cell_type": "code",
   "execution_count": 9,
   "metadata": {},
   "outputs": [
    {
     "name": "stdout",
     "output_type": "stream",
     "text": [
      "(1509, 1)\n",
      "301.8\n"
     ]
    }
   ],
   "source": [
    "print(df.shape)\n",
    "print(len(df) *0.2) "
   ]
  },
  {
   "cell_type": "markdown",
   "metadata": {},
   "source": [
    "## Train Test Split"
   ]
  },
  {
   "cell_type": "code",
   "execution_count": 10,
   "metadata": {},
   "outputs": [
    {
     "data": {
      "text/plain": [
       "((1207, 1), (302, 1))"
      ]
     },
     "execution_count": 10,
     "metadata": {},
     "output_type": "execute_result"
    }
   ],
   "source": [
    "test_percent = 0.2 \n",
    "len(df) * test_percent\n",
    "test_point = np.round(len(df) * test_percent)\n",
    "test_ind = int(len(df) - test_point)\n",
    "train = df.iloc[:test_ind]\n",
    "test = df.iloc[test_ind:] #test_ind point and go to end\n",
    "train.shape, test.shape"
   ]
  },
  {
   "cell_type": "markdown",
   "metadata": {},
   "source": [
    "## Normalize Data"
   ]
  },
  {
   "cell_type": "code",
   "execution_count": 11,
   "metadata": {},
   "outputs": [],
   "source": [
    "#nned to scale label b/c it's being fed back into neuron\n",
    "from sklearn.preprocessing import MinMaxScaler\n",
    "\n",
    "scaler = MinMaxScaler(feature_range = (0, 1))\n",
    "scaler.fit_transform(train)\n",
    "scaled_train = scaler.transform(train)\n",
    "scaled_test = scaler.transform(test)"
   ]
  },
  {
   "cell_type": "code",
   "execution_count": 12,
   "metadata": {},
   "outputs": [
    {
     "name": "stderr",
     "output_type": "stream",
     "text": [
      "Using TensorFlow backend.\n"
     ]
    }
   ],
   "source": [
    "from keras.models import Sequential\n",
    "from keras.layers import Dense\n",
    "from keras.layers import LSTM\n",
    "from keras.layers import Dropout"
   ]
  },
  {
   "cell_type": "code",
   "execution_count": 13,
   "metadata": {},
   "outputs": [],
   "source": [
    "# df.plot(figsize=(12,8));\n",
    "# plt.title('Closing Price History');\n",
    "# plt.ylabel('Closnig Price USD ($)')"
   ]
  },
  {
   "cell_type": "markdown",
   "metadata": {},
   "source": [
    "## Create TimeSeriesGenerator"
   ]
  },
  {
   "cell_type": "code",
   "execution_count": 14,
   "metadata": {},
   "outputs": [],
   "source": [
    "\"\"\"\n",
    "take train batches and tansform them into sequences\n",
    "\n",
    "\n",
    "\"\"\"\n",
    "from keras.preprocessing.sequence import TimeseriesGenerator"
   ]
  },
  {
   "cell_type": "code",
   "execution_count": 15,
   "metadata": {},
   "outputs": [],
   "source": [
    "\"\"\"\n",
    "-take training data and create batches for training purposes off of it\n",
    "-it generates batches for sequence data\n",
    "\n",
    "-length-lenght of output sequences. Number of time steps.\n",
    "-batch_size -number of time series sample in each batch\n",
    "\n",
    "-how many sequences per batch?\n",
    "\n",
    "forecasting technique-predcit a timestep ahead.  Then incorporate our prediction into the next sequence we predcit off of\n",
    "    You're forecasting on forecasts\n",
    "\n",
    "\n",
    "length of batch needs to be less than lenght of test set\n",
    "can't feed in a batch of 151 days and get a predicton on 152nd day\n",
    "batches need to be shortd than 151\n",
    "\n",
    "We'll pas in 1 at a time\n",
    "test=400\n",
    "create for training data\n",
    "\"\"\"\n",
    "length = 60   #length of output sequences in the number of timestep. # of timeseries samples in each batch\n",
    "batch_size = 32 #how many time series samples are we returning in each batch\n",
    "\n",
    "generator = TimeseriesGenerator(scaled_train, scaled_train, length=length, batch_size=batch_size)#batch_size-1 array for X and 1 value for y\n",
    "                                                                                         #if this were 2, you'd get 2 sets for X and 2 for y"
   ]
  },
  {
   "cell_type": "code",
   "execution_count": 16,
   "metadata": {},
   "outputs": [
    {
     "data": {
      "text/plain": [
       "1207"
      ]
     },
     "execution_count": 16,
     "metadata": {},
     "output_type": "execute_result"
    }
   ],
   "source": [
    "len(scaled_train)"
   ]
  },
  {
   "cell_type": "code",
   "execution_count": 17,
   "metadata": {},
   "outputs": [
    {
     "data": {
      "text/plain": [
       "36"
      ]
     },
     "execution_count": 17,
     "metadata": {},
     "output_type": "execute_result"
    }
   ],
   "source": [
    "\"\"\"\n",
    "generator object is going to geneate batches for us\n",
    "ie. if length =2, then 1207-2 = 1205\n",
    "ie, if length=60, thrn 1207-60=1147\n",
    "\"\"\"\n",
    "len(generator)"
   ]
  },
  {
   "cell_type": "markdown",
   "metadata": {},
   "source": [
    "## Create the Model"
   ]
  },
  {
   "cell_type": "code",
   "execution_count": 18,
   "metadata": {},
   "outputs": [],
   "source": [
    "from keras.models import Sequential\n",
    "from keras.layers import Dense, LSTM, Dropout"
   ]
  },
  {
   "cell_type": "code",
   "execution_count": 19,
   "metadata": {},
   "outputs": [],
   "source": [
    "\n",
    "n_features = 1\n",
    "\n",
    "model = Sequential()\n",
    "\n",
    "model.add(LSTM(units = 50, return_sequences = True, input_shape=(length, n_features)))\n",
    "model.add(Dropout(0.2))\n",
    "\n",
    "model.add(LSTM(units = 50, return_sequences = True))\n",
    "model.add(Dropout(0.2))\n",
    "\n",
    "model.add(LSTM(units = 50, return_sequences = False))\n",
    "model.add(Dropout(0.2))\n",
    "\n",
    "model.add(Dense(units = 25))\n",
    "model.add(Dense(units = 1))\n",
    "\n",
    "model.compile(optimizer = 'adam', loss = 'mean_squared_error')\n"
   ]
  },
  {
   "cell_type": "code",
   "execution_count": 20,
   "metadata": {},
   "outputs": [
    {
     "name": "stdout",
     "output_type": "stream",
     "text": [
      "_________________________________________________________________\n",
      "Layer (type)                 Output Shape              Param #   \n",
      "=================================================================\n",
      "lstm_1 (LSTM)                (None, 60, 50)            10400     \n",
      "_________________________________________________________________\n",
      "dropout_1 (Dropout)          (None, 60, 50)            0         \n",
      "_________________________________________________________________\n",
      "lstm_2 (LSTM)                (None, 60, 50)            20200     \n",
      "_________________________________________________________________\n",
      "dropout_2 (Dropout)          (None, 60, 50)            0         \n",
      "_________________________________________________________________\n",
      "lstm_3 (LSTM)                (None, 50)                20200     \n",
      "_________________________________________________________________\n",
      "dropout_3 (Dropout)          (None, 50)                0         \n",
      "_________________________________________________________________\n",
      "dense_1 (Dense)              (None, 25)                1275      \n",
      "_________________________________________________________________\n",
      "dense_2 (Dense)              (None, 1)                 26        \n",
      "=================================================================\n",
      "Total params: 52,101\n",
      "Trainable params: 52,101\n",
      "Non-trainable params: 0\n",
      "_________________________________________________________________\n"
     ]
    }
   ],
   "source": [
    "model.summary()"
   ]
  },
  {
   "cell_type": "code",
   "execution_count": 21,
   "metadata": {},
   "outputs": [],
   "source": [
    "from keras.callbacks import EarlyStopping"
   ]
  },
  {
   "cell_type": "code",
   "execution_count": 22,
   "metadata": {},
   "outputs": [],
   "source": [
    "early_stop = EarlyStopping(monitor='val_loss', patience=2)"
   ]
  },
  {
   "cell_type": "code",
   "execution_count": 23,
   "metadata": {},
   "outputs": [
    {
     "data": {
      "text/plain": [
       "(302, 60)"
      ]
     },
     "execution_count": 23,
     "metadata": {},
     "output_type": "execute_result"
    }
   ],
   "source": [
    "len(scaled_test), length"
   ]
  },
  {
   "cell_type": "code",
   "execution_count": 24,
   "metadata": {},
   "outputs": [],
   "source": [
    "#create generator for scaled_test/validation set\n",
    "#lenght of batches must be at lest 1 shorter than scaled_test data\n",
    "#length = 300\n",
    "\n",
    "validation_generator = TimeseriesGenerator(scaled_test, scaled_test, length=length, batch_size=batch_size)"
   ]
  },
  {
   "cell_type": "code",
   "execution_count": 25,
   "metadata": {},
   "outputs": [
    {
     "name": "stdout",
     "output_type": "stream",
     "text": [
      "Epoch 1/50\n",
      "36/36 [==============================] - 9s 255ms/step - loss: 0.0352 - val_loss: 0.1239\n",
      "Epoch 2/50\n",
      "36/36 [==============================] - 9s 259ms/step - loss: 0.0094 - val_loss: 0.0138\n",
      "Epoch 3/50\n",
      "36/36 [==============================] - 8s 209ms/step - loss: 0.0112 - val_loss: 0.0355\n",
      "Epoch 4/50\n",
      "36/36 [==============================] - 8s 214ms/step - loss: 0.0081 - val_loss: 0.0174\n"
     ]
    },
    {
     "data": {
      "text/plain": [
       "<keras.callbacks.History at 0x7fcd3cb89518>"
      ]
     },
     "execution_count": 25,
     "metadata": {},
     "output_type": "execute_result"
    }
   ],
   "source": [
    "model.fit_generator(generator, epochs=50, validation_data=validation_generator,callbacks=[early_stop] ) #,callbacks=[early_stop]"
   ]
  },
  {
   "cell_type": "code",
   "execution_count": 26,
   "metadata": {},
   "outputs": [],
   "source": [
    "losses = pd.DataFrame(model.history.history)"
   ]
  },
  {
   "cell_type": "code",
   "execution_count": 27,
   "metadata": {},
   "outputs": [
    {
     "data": {
      "text/plain": [
       "<AxesSubplot:>"
      ]
     },
     "execution_count": 27,
     "metadata": {},
     "output_type": "execute_result"
    },
    {
     "data": {
      "image/png": "[encoded data removed]",
      "text/plain": [
       "<Figure size 432x288 with 1 Axes>"
      ]
     },
     "metadata": {
      "needs_background": "light"
     },
     "output_type": "display_data"
    }
   ],
   "source": [
    "losses.plot()"
   ]
  },
  {
   "cell_type": "markdown",
   "metadata": {},
   "source": [
    "### Evaluate on Test Data\n",
    "Forecast predictions for the test data range(-- days of the entire dataset).<br>\n",
    "Final result will be DataFrame with 2 columns, true test values and the predictions.<br>"
   ]
  },
  {
   "cell_type": "code",
   "execution_count": 28,
   "metadata": {},
   "outputs": [],
   "source": [
    "\"\"\"\n",
    "evaluate test predictions\n",
    "\"\"\"\n",
    "\n",
    "test_predictions = []\n",
    "\n",
    "#last 60 days of train set to predcit 1 day in the future, which is 1st point in test set\n",
    "#ie 24, would be last 24 days of training data. 24 days to predict 1 day into the future\n",
    "first_eval_batch = scaled_train[-length:] #should be in last batch if training data\n",
    "#change 1\n",
    "# 1 time series per batch(batch_size), length, n_features=1\n",
    "current_batch = first_eval_batch.reshape((1,length, n_features)) #reshape to correct format. 1 item per batch\n",
    "\n",
    "for i in range(len(test)): #only forecasting on test set\n",
    "    #get hte predcition 1 timestamp ahead.\n",
    "    current_pred = model.predict(current_batch)[0] #to be current prediction\n",
    "    \n",
    "    test_predictions.append(current_pred) #take current_pred and append to list\n",
    "    #in order to keep predicintg into future need to move current batch forward 1 timestep\n",
    "    #gets rid of 1st item and replaces it with current prediction all the way to the very end\n",
    "    #drops 1st value in current_batch\n",
    "    #append curent predcition value. Moves current_batch 1 value into the future\n",
    "    #true forecast is predciting off predictions\n",
    "    #1-grab everythin but index 0\n",
    "    current_batch = np.append(current_batch[:,1:,:],[[current_pred]], axis=1)\n"
   ]
  },
  {
   "cell_type": "code",
   "execution_count": 29,
   "metadata": {},
   "outputs": [],
   "source": [
    "#current_batch.shape"
   ]
  },
  {
   "cell_type": "code",
   "execution_count": 30,
   "metadata": {},
   "outputs": [],
   "source": [
    "true_predictions = scaler.inverse_transform(test_predictions)"
   ]
  },
  {
   "cell_type": "code",
   "execution_count": 31,
   "metadata": {},
   "outputs": [
    {
     "name": "stderr",
     "output_type": "stream",
     "text": [
      "/Users/davidtorres/opt/anaconda3/envs/learn-env/lib/python3.6/site-packages/ipykernel_launcher.py:1: SettingWithCopyWarning: \n",
      "A value is trying to be set on a copy of a slice from a DataFrame.\n",
      "Try using .loc[row_indexer,col_indexer] = value instead\n",
      "\n",
      "See the caveats in the documentation: https://pandas.pydata.org/pandas-docs/stable/user_guide/indexing.html#returning-a-view-versus-a-copy\n",
      "  \"\"\"Entry point for launching an IPython kernel.\n"
     ]
    }
   ],
   "source": [
    "test['LSTM Predictions'] = true_predictions"
   ]
  },
  {
   "cell_type": "code",
   "execution_count": 32,
   "metadata": {},
   "outputs": [
    {
     "data": {
      "text/html": [
       "<div>\n",
       "<style scoped>\n",
       "    .dataframe tbody tr th:only-of-type {\n",
       "        vertical-align: middle;\n",
       "    }\n",
       "\n",
       "    .dataframe tbody tr th {\n",
       "        vertical-align: top;\n",
       "    }\n",
       "\n",
       "    .dataframe thead th {\n",
       "        text-align: right;\n",
       "    }\n",
       "</style>\n",
       "<table border=\"1\" class=\"dataframe\">\n",
       "  <thead>\n",
       "    <tr style=\"text-align: right;\">\n",
       "      <th></th>\n",
       "      <th>Close</th>\n",
       "      <th>LSTM Predictions</th>\n",
       "    </tr>\n",
       "    <tr>\n",
       "      <th>Date</th>\n",
       "      <th></th>\n",
       "      <th></th>\n",
       "    </tr>\n",
       "  </thead>\n",
       "  <tbody>\n",
       "    <tr>\n",
       "      <th>2016-10-19</th>\n",
       "      <td>29.280001</td>\n",
       "      <td>29.202742</td>\n",
       "    </tr>\n",
       "    <tr>\n",
       "      <th>2016-10-20</th>\n",
       "      <td>29.264999</td>\n",
       "      <td>29.275372</td>\n",
       "    </tr>\n",
       "    <tr>\n",
       "      <th>2016-10-21</th>\n",
       "      <td>29.150000</td>\n",
       "      <td>29.344336</td>\n",
       "    </tr>\n",
       "    <tr>\n",
       "      <th>2016-10-24</th>\n",
       "      <td>29.412500</td>\n",
       "      <td>29.409014</td>\n",
       "    </tr>\n",
       "    <tr>\n",
       "      <th>2016-10-25</th>\n",
       "      <td>29.562500</td>\n",
       "      <td>29.469519</td>\n",
       "    </tr>\n",
       "    <tr>\n",
       "      <th>2016-10-26</th>\n",
       "      <td>28.897499</td>\n",
       "      <td>29.526310</td>\n",
       "    </tr>\n",
       "    <tr>\n",
       "      <th>2016-10-27</th>\n",
       "      <td>28.620001</td>\n",
       "      <td>29.579980</td>\n",
       "    </tr>\n",
       "    <tr>\n",
       "      <th>2016-10-28</th>\n",
       "      <td>28.430000</td>\n",
       "      <td>29.631118</td>\n",
       "    </tr>\n",
       "    <tr>\n",
       "      <th>2016-10-31</th>\n",
       "      <td>28.385000</td>\n",
       "      <td>29.680237</td>\n",
       "    </tr>\n",
       "    <tr>\n",
       "      <th>2016-11-01</th>\n",
       "      <td>27.872499</td>\n",
       "      <td>29.727777</td>\n",
       "    </tr>\n",
       "    <tr>\n",
       "      <th>2016-11-02</th>\n",
       "      <td>27.897499</td>\n",
       "      <td>29.774054</td>\n",
       "    </tr>\n",
       "    <tr>\n",
       "      <th>2016-11-03</th>\n",
       "      <td>27.457500</td>\n",
       "      <td>29.819316</td>\n",
       "    </tr>\n",
       "    <tr>\n",
       "      <th>2016-11-04</th>\n",
       "      <td>27.209999</td>\n",
       "      <td>29.863728</td>\n",
       "    </tr>\n",
       "    <tr>\n",
       "      <th>2016-11-07</th>\n",
       "      <td>27.602501</td>\n",
       "      <td>29.907414</td>\n",
       "    </tr>\n",
       "    <tr>\n",
       "      <th>2016-11-08</th>\n",
       "      <td>27.764999</td>\n",
       "      <td>29.950440</td>\n",
       "    </tr>\n",
       "    <tr>\n",
       "      <th>2016-11-09</th>\n",
       "      <td>27.719999</td>\n",
       "      <td>29.992852</td>\n",
       "    </tr>\n",
       "    <tr>\n",
       "      <th>2016-11-10</th>\n",
       "      <td>26.947500</td>\n",
       "      <td>30.034680</td>\n",
       "    </tr>\n",
       "    <tr>\n",
       "      <th>2016-11-11</th>\n",
       "      <td>27.107500</td>\n",
       "      <td>30.075935</td>\n",
       "    </tr>\n",
       "    <tr>\n",
       "      <th>2016-11-14</th>\n",
       "      <td>26.427500</td>\n",
       "      <td>30.116625</td>\n",
       "    </tr>\n",
       "    <tr>\n",
       "      <th>2016-11-15</th>\n",
       "      <td>26.777500</td>\n",
       "      <td>30.156748</td>\n",
       "    </tr>\n",
       "    <tr>\n",
       "      <th>2016-11-16</th>\n",
       "      <td>27.497499</td>\n",
       "      <td>30.196307</td>\n",
       "    </tr>\n",
       "    <tr>\n",
       "      <th>2016-11-17</th>\n",
       "      <td>27.487499</td>\n",
       "      <td>30.235306</td>\n",
       "    </tr>\n",
       "    <tr>\n",
       "      <th>2016-11-18</th>\n",
       "      <td>27.514999</td>\n",
       "      <td>30.273737</td>\n",
       "    </tr>\n",
       "    <tr>\n",
       "      <th>2016-11-21</th>\n",
       "      <td>27.932501</td>\n",
       "      <td>30.311604</td>\n",
       "    </tr>\n",
       "    <tr>\n",
       "      <th>2016-11-22</th>\n",
       "      <td>27.950001</td>\n",
       "      <td>30.348911</td>\n",
       "    </tr>\n",
       "  </tbody>\n",
       "</table>\n",
       "</div>"
      ],
      "text/plain": [
       "                Close  LSTM Predictions\n",
       "Date                                   \n",
       "2016-10-19  29.280001         29.202742\n",
       "2016-10-20  29.264999         29.275372\n",
       "2016-10-21  29.150000         29.344336\n",
       "2016-10-24  29.412500         29.409014\n",
       "2016-10-25  29.562500         29.469519\n",
       "2016-10-26  28.897499         29.526310\n",
       "2016-10-27  28.620001         29.579980\n",
       "2016-10-28  28.430000         29.631118\n",
       "2016-10-31  28.385000         29.680237\n",
       "2016-11-01  27.872499         29.727777\n",
       "2016-11-02  27.897499         29.774054\n",
       "2016-11-03  27.457500         29.819316\n",
       "2016-11-04  27.209999         29.863728\n",
       "2016-11-07  27.602501         29.907414\n",
       "2016-11-08  27.764999         29.950440\n",
       "2016-11-09  27.719999         29.992852\n",
       "2016-11-10  26.947500         30.034680\n",
       "2016-11-11  27.107500         30.075935\n",
       "2016-11-14  26.427500         30.116625\n",
       "2016-11-15  26.777500         30.156748\n",
       "2016-11-16  27.497499         30.196307\n",
       "2016-11-17  27.487499         30.235306\n",
       "2016-11-18  27.514999         30.273737\n",
       "2016-11-21  27.932501         30.311604\n",
       "2016-11-22  27.950001         30.348911"
      ]
     },
     "execution_count": 32,
     "metadata": {},
     "output_type": "execute_result"
    }
   ],
   "source": [
    "\"\"\"\n",
    "true and predictions\n",
    "\"\"\"\n",
    "test.head(25)"
   ]
  },
  {
   "cell_type": "code",
   "execution_count": 33,
   "metadata": {},
   "outputs": [
    {
     "data": {
      "text/plain": [
       "<AxesSubplot:xlabel='Date'>"
      ]
     },
     "execution_count": 33,
     "metadata": {},
     "output_type": "execute_result"
    },
    {
     "data": {
      "image/png": "[encoded data removed]",
      "text/plain": [
       "<Figure size 864x576 with 1 Axes>"
      ]
     },
     "metadata": {
      "needs_background": "light"
     },
     "output_type": "display_data"
    }
   ],
   "source": [
    "\"\"\"\n",
    "blue is what we know true values for\n",
    "\"\"\"\n",
    "test['Close'].plot(figsize=(12,8))\n",
    "test['LSTM Predictions'].plot()"
   ]
  },
  {
   "cell_type": "markdown",
   "metadata": {},
   "source": [
    "#### Calculate RMSE"
   ]
  },
  {
   "cell_type": "code",
   "execution_count": 34,
   "metadata": {},
   "outputs": [],
   "source": [
    "from sklearn.metrics import mean_squared_error"
   ]
  },
  {
   "cell_type": "code",
   "execution_count": 35,
   "metadata": {},
   "outputs": [
    {
     "data": {
      "text/plain": [
       "5.967637217179834"
      ]
     },
     "execution_count": 35,
     "metadata": {},
     "output_type": "execute_result"
    }
   ],
   "source": [
    "#how accurate model predicts reponse\n",
    "rmse = np.sqrt(mean_squared_error(test['Close'],test['LSTM Predictions']))\n",
    "rmse"
   ]
  },
  {
   "cell_type": "markdown",
   "metadata": {},
   "source": [
    "## Forecast into Unknown Future"
   ]
  },
  {
   "cell_type": "code",
   "execution_count": 43,
   "metadata": {},
   "outputs": [],
   "source": [
    "\"\"\"\n",
    "full dataframe transformed\n",
    "\"\"\"\n",
    "full_scaler = MinMaxScaler()\n",
    "scaled_full_data = full_scaler.fit_transform(df)"
   ]
  },
  {
   "cell_type": "code",
   "execution_count": 44,
   "metadata": {},
   "outputs": [],
   "source": [
    "generator = TimeseriesGenerator(scaled_full_data, scaled_full_data, length=length, batch_size=batch_size)"
   ]
  },
  {
   "cell_type": "code",
   "execution_count": 45,
   "metadata": {},
   "outputs": [],
   "source": [
    "\n",
    "n_features = 1\n",
    "\n",
    "model = Sequential()\n",
    "\n",
    "model.add(LSTM(units = 50, return_sequences = True, input_shape=(length, n_features)))\n",
    "model.add(Dropout(0.2))\n",
    "\n",
    "model.add(LSTM(units = 50, return_sequences = True))\n",
    "model.add(Dropout(0.2))\n",
    "\n",
    "model.add(LSTM(units = 50, return_sequences = False))\n",
    "model.add(Dropout(0.2))\n",
    "\n",
    "model.add(Dense(units = 25))\n",
    "model.add(Dense(units = 1))\n",
    "\n",
    "model.compile(optimizer = 'adam', loss = 'mean_squared_error')\n"
   ]
  },
  {
   "cell_type": "code",
   "execution_count": 46,
   "metadata": {},
   "outputs": [
    {
     "name": "stdout",
     "output_type": "stream",
     "text": [
      "Epoch 1/50\n",
      "41/41 [==============================] - 36s 874ms/step - loss: 0.0391\n",
      "Epoch 2/50\n",
      "41/41 [==============================] - 32s 774ms/step - loss: 0.0040\n",
      "Epoch 3/50\n",
      "41/41 [==============================] - 33s 813ms/step - loss: 0.0045\n",
      "Epoch 4/50\n",
      "41/41 [==============================] - 30s 743ms/step - loss: 0.0034\n",
      "Epoch 5/50\n",
      "41/41 [==============================] - 30s 743ms/step - loss: 0.0034\n",
      "Epoch 6/50\n",
      "41/41 [==============================] - 33s 806ms/step - loss: 0.0052\n",
      "Epoch 7/50\n",
      "41/41 [==============================] - 32s 791ms/step - loss: 0.0042\n",
      "Epoch 8/50\n",
      "41/41 [==============================] - 34s 833ms/step - loss: 0.0027\n",
      "Epoch 9/50\n",
      "41/41 [==============================] - 29s 704ms/step - loss: 0.0035\n",
      "Epoch 10/50\n",
      "41/41 [==============================] - 33s 805ms/step - loss: 0.0027\n",
      "Epoch 11/50\n",
      "41/41 [==============================] - 33s 811ms/step - loss: 0.0028\n",
      "Epoch 12/50\n",
      "41/41 [==============================] - 42s 1s/step - loss: 0.0037\n",
      "Epoch 13/50\n",
      "41/41 [==============================] - 31s 760ms/step - loss: 0.0022\n",
      "Epoch 14/50\n",
      "41/41 [==============================] - 34s 823ms/step - loss: 0.0022\n",
      "Epoch 15/50\n",
      "41/41 [==============================] - 32s 779ms/step - loss: 0.0029\n",
      "Epoch 16/50\n",
      "41/41 [==============================] - 35s 843ms/step - loss: 0.0023\n",
      "Epoch 17/50\n",
      "41/41 [==============================] - 32s 785ms/step - loss: 0.0024\n",
      "Epoch 18/50\n",
      "41/41 [==============================] - 32s 787ms/step - loss: 0.0026\n",
      "Epoch 19/50\n",
      "41/41 [==============================] - 30s 727ms/step - loss: 0.0021\n",
      "Epoch 20/50\n",
      "41/41 [==============================] - 29s 707ms/step - loss: 0.0021\n",
      "Epoch 21/50\n",
      "41/41 [==============================] - 31s 748ms/step - loss: 0.0018\n",
      "Epoch 22/50\n",
      "41/41 [==============================] - 31s 751ms/step - loss: 0.0020\n",
      "Epoch 23/50\n",
      "41/41 [==============================] - 31s 759ms/step - loss: 0.0018\n",
      "Epoch 24/50\n",
      "41/41 [==============================] - 28s 690ms/step - loss: 0.0019\n",
      "Epoch 25/50\n",
      "41/41 [==============================] - 28s 694ms/step - loss: 0.0019\n",
      "Epoch 26/50\n",
      "41/41 [==============================] - 32s 789ms/step - loss: 0.0026\n",
      "Epoch 27/50\n",
      "41/41 [==============================] - 35s 856ms/step - loss: 0.0030\n",
      "Epoch 28/50\n",
      "41/41 [==============================] - 36s 874ms/step - loss: 0.0015\n",
      "Epoch 29/50\n",
      "41/41 [==============================] - 31s 756ms/step - loss: 0.0022\n",
      "Epoch 30/50\n",
      "41/41 [==============================] - 30s 743ms/step - loss: 0.0019\n",
      "Epoch 31/50\n",
      "41/41 [==============================] - 31s 755ms/step - loss: 0.0015\n",
      "Epoch 32/50\n",
      "41/41 [==============================] - 32s 776ms/step - loss: 0.0016\n",
      "Epoch 33/50\n",
      "41/41 [==============================] - 30s 739ms/step - loss: 0.0017\n",
      "Epoch 34/50\n",
      "41/41 [==============================] - 34s 825ms/step - loss: 0.0029\n",
      "Epoch 35/50\n",
      "41/41 [==============================] - 33s 796ms/step - loss: 0.0020\n",
      "Epoch 36/50\n",
      "41/41 [==============================] - 39s 945ms/step - loss: 0.0038\n",
      "Epoch 37/50\n",
      "41/41 [==============================] - 34s 833ms/step - loss: 0.0027\n",
      "Epoch 38/50\n",
      "41/41 [==============================] - 31s 758ms/step - loss: 0.0014\n",
      "Epoch 39/50\n",
      "41/41 [==============================] - 28s 678ms/step - loss: 0.0018\n",
      "Epoch 40/50\n",
      "41/41 [==============================] - 28s 683ms/step - loss: 0.0015\n",
      "Epoch 41/50\n",
      "41/41 [==============================] - 28s 690ms/step - loss: 0.0025\n",
      "Epoch 42/50\n",
      "41/41 [==============================] - 31s 745ms/step - loss: 0.0019\n",
      "Epoch 43/50\n",
      "41/41 [==============================] - 35s 861ms/step - loss: 0.0031\n",
      "Epoch 44/50\n",
      "41/41 [==============================] - 33s 815ms/step - loss: 0.0020\n",
      "Epoch 45/50\n",
      "41/41 [==============================] - 30s 742ms/step - loss: 0.0015\n",
      "Epoch 46/50\n",
      "41/41 [==============================] - 30s 741ms/step - loss: 0.0015\n",
      "Epoch 47/50\n",
      "41/41 [==============================] - 28s 691ms/step - loss: 0.0012\n",
      "Epoch 48/50\n",
      "41/41 [==============================] - 28s 690ms/step - loss: 0.0012\n",
      "Epoch 49/50\n",
      "41/41 [==============================] - 29s 704ms/step - loss: 0.0018\n",
      "Epoch 50/50\n",
      "41/41 [==============================] - 29s 710ms/step - loss: 0.0015\n"
     ]
    },
    {
     "data": {
      "text/plain": [
       "<keras.callbacks.History at 0x7fcd2af0cfd0>"
      ]
     },
     "execution_count": 46,
     "metadata": {},
     "output_type": "execute_result"
    }
   ],
   "source": [
    "model.fit_generator(generator, epochs=50)"
   ]
  },
  {
   "cell_type": "code",
   "execution_count": 59,
   "metadata": {},
   "outputs": [],
   "source": [
    "forecast = []\n",
    "periods = 60 #forecasting off predeiciotns, adding in more predictions\n",
    "             #forecast length should be the same as test length\n",
    "            #should equal intial batch length\n",
    "\n",
    "first_eval_batch = scaled_full_data[-length:]\n",
    "current_batch = first_eval_batch.reshape((1, length, n_features))\n",
    "\n",
    "for i in range(periods):\n",
    "    current_pred = model.predict(current_batch)[0] #to be current prediction\n",
    "    \n",
    "    forecast.append(current_pred) #take current_pred and append to list\n",
    "    #in order to keep predicintg into future need to move current batch forward 1 timestep\n",
    "    #gets rid of 1st item and replaces it with current prediction all the way to the very end\n",
    "    current_batch = np.append(current_batch[:,1:,:],[[current_pred]], axis=1)\n"
   ]
  },
  {
   "cell_type": "code",
   "execution_count": 60,
   "metadata": {},
   "outputs": [],
   "source": [
    "#inverse scale \n",
    "forecast = scaler.inverse_transform(forecast)"
   ]
  },
  {
   "cell_type": "code",
   "execution_count": 61,
   "metadata": {},
   "outputs": [
    {
     "data": {
      "text/html": [
       "<div>\n",
       "<style scoped>\n",
       "    .dataframe tbody tr th:only-of-type {\n",
       "        vertical-align: middle;\n",
       "    }\n",
       "\n",
       "    .dataframe tbody tr th {\n",
       "        vertical-align: top;\n",
       "    }\n",
       "\n",
       "    .dataframe thead th {\n",
       "        text-align: right;\n",
       "    }\n",
       "</style>\n",
       "<table border=\"1\" class=\"dataframe\">\n",
       "  <thead>\n",
       "    <tr style=\"text-align: right;\">\n",
       "      <th></th>\n",
       "      <th>Close</th>\n",
       "    </tr>\n",
       "    <tr>\n",
       "      <th>Date</th>\n",
       "      <th></th>\n",
       "    </tr>\n",
       "  </thead>\n",
       "  <tbody>\n",
       "    <tr>\n",
       "      <th>2012-01-03</th>\n",
       "      <td>14.686786</td>\n",
       "    </tr>\n",
       "    <tr>\n",
       "      <th>2012-01-04</th>\n",
       "      <td>14.765715</td>\n",
       "    </tr>\n",
       "    <tr>\n",
       "      <th>2012-01-05</th>\n",
       "      <td>14.929643</td>\n",
       "    </tr>\n",
       "    <tr>\n",
       "      <th>2012-01-06</th>\n",
       "      <td>15.085714</td>\n",
       "    </tr>\n",
       "    <tr>\n",
       "      <th>2012-01-09</th>\n",
       "      <td>15.061786</td>\n",
       "    </tr>\n",
       "    <tr>\n",
       "      <th>...</th>\n",
       "      <td>...</td>\n",
       "    </tr>\n",
       "    <tr>\n",
       "      <th>2017-12-22</th>\n",
       "      <td>43.752499</td>\n",
       "    </tr>\n",
       "    <tr>\n",
       "      <th>2017-12-26</th>\n",
       "      <td>42.642502</td>\n",
       "    </tr>\n",
       "    <tr>\n",
       "      <th>2017-12-27</th>\n",
       "      <td>42.650002</td>\n",
       "    </tr>\n",
       "    <tr>\n",
       "      <th>2017-12-28</th>\n",
       "      <td>42.770000</td>\n",
       "    </tr>\n",
       "    <tr>\n",
       "      <th>2017-12-29</th>\n",
       "      <td>42.307499</td>\n",
       "    </tr>\n",
       "  </tbody>\n",
       "</table>\n",
       "<p>1509 rows × 1 columns</p>\n",
       "</div>"
      ],
      "text/plain": [
       "                Close\n",
       "Date                 \n",
       "2012-01-03  14.686786\n",
       "2012-01-04  14.765715\n",
       "2012-01-05  14.929643\n",
       "2012-01-06  15.085714\n",
       "2012-01-09  15.061786\n",
       "...               ...\n",
       "2017-12-22  43.752499\n",
       "2017-12-26  42.642502\n",
       "2017-12-27  42.650002\n",
       "2017-12-28  42.770000\n",
       "2017-12-29  42.307499\n",
       "\n",
       "[1509 rows x 1 columns]"
      ]
     },
     "execution_count": 61,
     "metadata": {},
     "output_type": "execute_result"
    }
   ],
   "source": [
    "df"
   ]
  },
  {
   "cell_type": "code",
   "execution_count": 62,
   "metadata": {},
   "outputs": [
    {
     "data": {
      "text/plain": [
       "array([[32.05548322],\n",
       "       [31.92575189],\n",
       "       [31.7947849 ],\n",
       "       [31.66574043],\n",
       "       [31.53966315],\n",
       "       [31.41669226],\n",
       "       [31.296646  ],\n",
       "       [31.17928504],\n",
       "       [31.06437354],\n",
       "       [30.95172626],\n",
       "       [30.84117177],\n",
       "       [30.73255016],\n",
       "       [30.62572105],\n",
       "       [30.52054984],\n",
       "       [30.41691457],\n",
       "       [30.3147094 ],\n",
       "       [30.21382732],\n",
       "       [30.11419586],\n",
       "       [30.01573448],\n",
       "       [29.91838564],\n",
       "       [29.82209413],\n",
       "       [29.72681854],\n",
       "       [29.63251743],\n",
       "       [29.53916204],\n",
       "       [29.44672362],\n",
       "       [29.35517915],\n",
       "       [29.26450793],\n",
       "       [29.17468464],\n",
       "       [29.08570353],\n",
       "       [28.99754043],\n",
       "       [28.91017465],\n",
       "       [28.82360503],\n",
       "       [28.73780855],\n",
       "       [28.65277257],\n",
       "       [28.56848557],\n",
       "       [28.48493491],\n",
       "       [28.40209872],\n",
       "       [28.31998045],\n",
       "       [28.23855594],\n",
       "       [28.157816  ],\n",
       "       [28.07774795],\n",
       "       [27.99834031],\n",
       "       [27.91958385],\n",
       "       [27.84146364],\n",
       "       [27.7639716 ],\n",
       "       [27.6870951 ],\n",
       "       [27.61082492],\n",
       "       [27.5351507 ],\n",
       "       [27.4600621 ],\n",
       "       [27.38554992],\n",
       "       [27.31160493],\n",
       "       [27.2382168 ],\n",
       "       [27.16537861],\n",
       "       [27.09307887],\n",
       "       [27.02131067],\n",
       "       [26.95006825],\n",
       "       [26.87933782],\n",
       "       [26.80911591],\n",
       "       [26.73939449],\n",
       "       [26.67016663]])"
      ]
     },
     "execution_count": 62,
     "metadata": {},
     "output_type": "execute_result"
    }
   ],
   "source": [
    "#going into 2020\n",
    "forecast"
   ]
  },
  {
   "cell_type": "code",
   "execution_count": 63,
   "metadata": {},
   "outputs": [],
   "source": [
    "#len(forecast)"
   ]
  },
  {
   "cell_type": "code",
   "execution_count": 68,
   "metadata": {},
   "outputs": [],
   "source": [
    "#build forecast index\n",
    "#forecasting off predictions\n",
    "#period should be equal to intial batch ength\n",
    "forecast_index = pd.date_range(start='2019-01-18',periods=periods, freq='B')"
   ]
  },
  {
   "cell_type": "code",
   "execution_count": 69,
   "metadata": {},
   "outputs": [
    {
     "data": {
      "text/plain": [
       "DatetimeIndex(['2019-01-18', '2019-01-21', '2019-01-22', '2019-01-23',\n",
       "               '2019-01-24', '2019-01-25', '2019-01-28', '2019-01-29',\n",
       "               '2019-01-30', '2019-01-31', '2019-02-01', '2019-02-04',\n",
       "               '2019-02-05', '2019-02-06', '2019-02-07', '2019-02-08',\n",
       "               '2019-02-11', '2019-02-12', '2019-02-13', '2019-02-14',\n",
       "               '2019-02-15', '2019-02-18', '2019-02-19', '2019-02-20',\n",
       "               '2019-02-21', '2019-02-22', '2019-02-25', '2019-02-26',\n",
       "               '2019-02-27', '2019-02-28', '2019-03-01', '2019-03-04',\n",
       "               '2019-03-05', '2019-03-06', '2019-03-07', '2019-03-08',\n",
       "               '2019-03-11', '2019-03-12', '2019-03-13', '2019-03-14',\n",
       "               '2019-03-15', '2019-03-18', '2019-03-19', '2019-03-20',\n",
       "               '2019-03-21', '2019-03-22', '2019-03-25', '2019-03-26',\n",
       "               '2019-03-27', '2019-03-28', '2019-03-29', '2019-04-01',\n",
       "               '2019-04-02', '2019-04-03', '2019-04-04', '2019-04-05',\n",
       "               '2019-04-08', '2019-04-09', '2019-04-10', '2019-04-11'],\n",
       "              dtype='datetime64[ns]', freq='B')"
      ]
     },
     "execution_count": 69,
     "metadata": {},
     "output_type": "execute_result"
    }
   ],
   "source": [
    "forecast_index"
   ]
  },
  {
   "cell_type": "code",
   "execution_count": 70,
   "metadata": {},
   "outputs": [],
   "source": [
    "forecast_df = pd.DataFrame(data=forecast,index=forecast_index, columns=['Forecast'])"
   ]
  },
  {
   "cell_type": "code",
   "execution_count": 71,
   "metadata": {},
   "outputs": [
    {
     "data": {
      "text/plain": [
       "<AxesSubplot:>"
      ]
     },
     "execution_count": 71,
     "metadata": {},
     "output_type": "execute_result"
    },
    {
     "data": {
      "image/png": "[encoded data removed]",
      "text/plain": [
       "<Figure size 432x288 with 1 Axes>"
      ]
     },
     "metadata": {
      "needs_background": "light"
     },
     "output_type": "display_data"
    }
   ],
   "source": [
    "forecast_df.plot()"
   ]
  },
  {
   "cell_type": "code",
   "execution_count": 72,
   "metadata": {},
   "outputs": [],
   "source": [
    "# ax=df.plot()\n",
    "# forecast_df.plot(ax=ax)"
   ]
  },
  {
   "cell_type": "code",
   "execution_count": 73,
   "metadata": {},
   "outputs": [
    {
     "data": {
      "text/plain": [
       "<AxesSubplot:xlabel='Date'>"
      ]
     },
     "execution_count": 73,
     "metadata": {},
     "output_type": "execute_result"
    },
    {
     "data": {
      "image/png": "[encoded data removed]",
      "text/plain": [
       "<Figure size 432x288 with 1 Axes>"
      ]
     },
     "metadata": {
      "needs_background": "light"
     },
     "output_type": "display_data"
    }
   ],
   "source": [
    "ax=df.plot()\n",
    "forecast_df.plot(ax=ax)\n",
    "#plt.xlim('2019-12-18','2020-04-01')"
   ]
  },
  {
   "cell_type": "code",
   "execution_count": null,
   "metadata": {},
   "outputs": [],
   "source": []
  }
 ],
 "metadata": {
  "kernelspec": {
   "display_name": "Python 3",
   "language": "python",
   "name": "python3"
  },
  "language_info": {
   "codemirror_mode": {
    "name": "ipython",
    "version": 3
   },
   "file_extension": ".py",
   "mimetype": "text/x-python",
   "name": "python",
   "nbconvert_exporter": "python",
   "pygments_lexer": "ipython3",
   "version": "3.6.9"
  },
  "toc": {
   "base_numbering": 1,
   "nav_menu": {},
   "number_sections": true,
   "sideBar": true,
   "skip_h1_title": false,
   "title_cell": "Table of Contents",
   "title_sidebar": "Contents",
   "toc_cell": false,
   "toc_position": {},
   "toc_section_display": true,
   "toc_window_display": false
  }
 },
 "nbformat": 4,
 "nbformat_minor": 4
}
