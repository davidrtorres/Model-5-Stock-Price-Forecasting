{
 "cells": [
  {
   "cell_type": "code",
   "execution_count": 1,
   "metadata": {},
   "outputs": [
    {
     "name": "stderr",
     "output_type": "stream",
     "text": [
      "Using Theano backend.\n"
     ]
    }
   ],
   "source": [
    "import pandas as pd\n",
    "import numpy as np\n",
    "import matplotlib.pyplot as plt\n",
    "%matplotlib inline\n",
    "\n",
    "from sklearn.preprocessing import MinMaxScaler\n",
    "\n",
    "import math\n",
    "\n",
    "import plotly.express as px\n",
    "\n",
    "import pandas_datareader.data as web\n",
    "\n",
    "from keras.callbacks import EarlyStopping\n",
    "\n",
    "import keras\n",
    "from keras.models import load_model\n",
    "from keras.preprocessing.sequence import TimeseriesGenerator\n",
    "#from tensorflow import keras\n",
    "from keras.models import Sequential\n",
    "from keras.layers import Dense\n",
    "from keras.layers import LSTM\n",
    "from keras.layers import Dropout\n",
    "\n",
    "from sklearn.metrics import mean_squared_error"
   ]
  },
  {
   "cell_type": "markdown",
   "metadata": {},
   "source": [
    "## Introduction\n",
    "Technical analysis is a trading discipline used to evaluate investments and identify trading opportunities in price trends and patterns from graphs.  Technical analysts believe past trading activity and price changes of a stock can be valuable indicators of the security's future price movements.  The difference bewteen \n",
    "technical analysis and fundamental analysis is that fundamental analyats focuses on a company's financials rather than historical price patterns or stock trends.\n",
    "This notebook will demonstrate how to perform a very basic technical analysis of stock prices using Python code.  I will provide analysis and insights of stock prices that can be obtained from historical stock data and corresponding graphs.  In addition, this notebook will demonstrate how algorithmic trading can be used to predict stock prices and how technical indicators can used with LTSM models.  <br>\n",
    "I obtained historical stock data by using the Pandas library DataReader.  The library provides price and volumne information regarding stocks. I will use mainly the Closing Pricefrom the datasets.<br>\n",
    "I will examine how Long Short Term Memory (LSTM ) and SARIMA models can be used to forecast the next day stock price.  I will use key metrics to measure the performance of the models at predicting stock prices. \n",
    "My analysis will focus the following pharmaceutical companies that are developing a COVID-19 vaccine: \n",
    "* Pfizer(PFE),\n",
    "* Johnson & Johnson(JNJ)\n",
    "* Moderna (MRNA)\n",
    "* Novavax (NVAX) \n",
    "* BioNTech SE(BNTX)\n",
    "* MERCK & Co.(MRK)"
   ]
  },
  {
   "cell_type": "markdown",
   "metadata": {},
   "source": [
    "\n",
    "### Question 1: \n",
    "Can technical indicators provide enough information to make a decision of when to buy and sell stocks?  A question to consider is what type of investment is being sought?  Are you looking for short investments with high returns or long term investment with consistent returns.<br>\n",
    "**Model 1** is a historical price change analysis.<br>\n",
    "Will use Moving Averages, prices changes and MACD to analyze price trends.  \n",
    "### Question 2:\n",
    "How well can historical data  and algorithms predict future stocks prices?  I will contrast the performance of predictions of LSTM models and LTSM models with technical indicators.  Is there a differnce in the RMSE metrics when comparing models?<br>\n",
    "**Model 1** I will use a LTSM Neural Network to make a price prediction with only historical price data.<br>\n",
    "**Model 2** LTSM model with technical indicators to predict and graph future stock prices.<br>\n",
    "### Question 3:\n",
    "Which trading algorithms LTSM or ARIMA performs better at predicting stocks prices?  \n",
    "**Model 1** is an ARIMA model.<br>\n",
    "### Question 4:\n",
    "Is there a relationship between tweets put out by the pharmaceutical companies and the fluctuation in their stock prices.<br>\n",
    "\n",
    "\n"
   ]
  },
  {
   "cell_type": "markdown",
   "metadata": {},
   "source": [
    "## Get the Historical Stock Data"
   ]
  },
  {
   "cell_type": "markdown",
   "metadata": {},
   "source": [
    "### Multiple Stocks Data"
   ]
  },
  {
   "cell_type": "code",
   "execution_count": 2,
   "metadata": {},
   "outputs": [],
   "source": [
    "from datetime import date\n",
    "today = date.today()\n",
    "def multiple_stock_data(ticker=None, start=None, end=None, plot=True, stock_value=None):\n",
    "    \n",
    "    try:\n",
    "        #stock = pdr.get_data_yahoo(ticker,start,end)\n",
    "        data = {}\n",
    "        for stock in ticker:\n",
    "            data = web.DataReader(stock,'yahoo',start,end)[stock_value]\n",
    "        df_1 = pd.DataFrame(data)#.reset_index()\n",
    "        if plot==True:\n",
    "            df_1.plot(figsize=(12,8))\n",
    "            plt.title(\"HistoricL Stock Adjusted Price Data\")\n",
    "            plt.xlabel('Dates')\n",
    "            plt.ylabel('Stock Prices')\n",
    "            plt.legend(bbox_to_anchor=(1.05,1),loc='upper left') \n",
    "        \n",
    "        return df_1\n",
    "     \n",
    "    except Exception as e:\n",
    "        print(\"Error occured:\", e)\n",
    "        #data = 'Incorrect Symbol'\n"
   ]
  },
  {
   "cell_type": "code",
   "execution_count": 3,
   "metadata": {},
   "outputs": [],
   "source": [
    "# multi_stock_data = multiple_stock_data(ticker=[['PFE','JNJ','NVAX','MRNA','AZN','BNTX']], start='2017',end='today',plot=True, stock_value='Adj Close')\n",
    "# multi_stock_data;"
   ]
  },
  {
   "cell_type": "code",
   "execution_count": 4,
   "metadata": {},
   "outputs": [],
   "source": [
    "#multi_stock_data.to_csv('multi_pharm_data')"
   ]
  },
  {
   "cell_type": "code",
   "execution_count": 5,
   "metadata": {},
   "outputs": [],
   "source": [
    "#start='2017',end='today'\n",
    "multi_stocks = pd.read_csv('multi_pharm_data', parse_dates=True, index_col='Date')\n",
    "#multi_stocks"
   ]
  },
  {
   "cell_type": "code",
   "execution_count": 6,
   "metadata": {},
   "outputs": [],
   "source": [
    "def get_multi_plot(df, stock_value=None):\n",
    "    #plt.figure(figsize=(12,8))\n",
    "    df.plot(figsize=(12,8))\n",
    "    label_font = {'weight':'bold','size':18}\n",
    "    plt.xlabel('Date',fontdict=label_font)\n",
    "    plt.ylabel('Close Price USD ($)',fontdict=label_font)\n",
    "    plt.title(f'Historical {stock_value} Price',fontdict=label_font)\n",
    "            #plot = go.Scatter(x=df_single.index, y=df_single['Adj Close'])\n",
    "            \n",
    "    return df\n",
    "    "
   ]
  },
  {
   "cell_type": "code",
   "execution_count": 7,
   "metadata": {},
   "outputs": [
    {
     "data": {
      "text/html": [
       "<div>\n",
       "<style scoped>\n",
       "    .dataframe tbody tr th:only-of-type {\n",
       "        vertical-align: middle;\n",
       "    }\n",
       "\n",
       "    .dataframe tbody tr th {\n",
       "        vertical-align: top;\n",
       "    }\n",
       "\n",
       "    .dataframe thead th {\n",
       "        text-align: right;\n",
       "    }\n",
       "</style>\n",
       "<table border=\"1\" class=\"dataframe\">\n",
       "  <thead>\n",
       "    <tr style=\"text-align: right;\">\n",
       "      <th></th>\n",
       "      <th>PFE</th>\n",
       "      <th>JNJ</th>\n",
       "      <th>NVAX</th>\n",
       "      <th>MRNA</th>\n",
       "      <th>AZN</th>\n",
       "      <th>BNTX</th>\n",
       "    </tr>\n",
       "    <tr>\n",
       "      <th>Date</th>\n",
       "      <th></th>\n",
       "      <th></th>\n",
       "      <th></th>\n",
       "      <th></th>\n",
       "      <th></th>\n",
       "      <th></th>\n",
       "    </tr>\n",
       "  </thead>\n",
       "  <tbody>\n",
       "    <tr>\n",
       "      <th>2017-01-03</th>\n",
       "      <td>26.653324</td>\n",
       "      <td>104.081535</td>\n",
       "      <td>25.400000</td>\n",
       "      <td>NaN</td>\n",
       "      <td>23.886580</td>\n",
       "      <td>NaN</td>\n",
       "    </tr>\n",
       "    <tr>\n",
       "      <th>2017-01-04</th>\n",
       "      <td>26.887548</td>\n",
       "      <td>103.910828</td>\n",
       "      <td>26.200001</td>\n",
       "      <td>NaN</td>\n",
       "      <td>24.076221</td>\n",
       "      <td>NaN</td>\n",
       "    </tr>\n",
       "    <tr>\n",
       "      <th>2017-01-05</th>\n",
       "      <td>27.146002</td>\n",
       "      <td>104.998009</td>\n",
       "      <td>26.400000</td>\n",
       "      <td>NaN</td>\n",
       "      <td>24.731359</td>\n",
       "      <td>NaN</td>\n",
       "    </tr>\n",
       "    <tr>\n",
       "      <th>2017-01-06</th>\n",
       "      <td>27.041008</td>\n",
       "      <td>104.494850</td>\n",
       "      <td>27.400000</td>\n",
       "      <td>NaN</td>\n",
       "      <td>24.507233</td>\n",
       "      <td>NaN</td>\n",
       "    </tr>\n",
       "    <tr>\n",
       "      <th>2017-01-09</th>\n",
       "      <td>27.032928</td>\n",
       "      <td>104.476868</td>\n",
       "      <td>28.400000</td>\n",
       "      <td>NaN</td>\n",
       "      <td>24.593435</td>\n",
       "      <td>NaN</td>\n",
       "    </tr>\n",
       "    <tr>\n",
       "      <th>...</th>\n",
       "      <td>...</td>\n",
       "      <td>...</td>\n",
       "      <td>...</td>\n",
       "      <td>...</td>\n",
       "      <td>...</td>\n",
       "      <td>...</td>\n",
       "    </tr>\n",
       "    <tr>\n",
       "      <th>2021-02-08</th>\n",
       "      <td>34.820000</td>\n",
       "      <td>164.919998</td>\n",
       "      <td>319.929993</td>\n",
       "      <td>185.979996</td>\n",
       "      <td>50.060001</td>\n",
       "      <td>119.500000</td>\n",
       "    </tr>\n",
       "    <tr>\n",
       "      <th>2021-02-09</th>\n",
       "      <td>34.970001</td>\n",
       "      <td>166.270004</td>\n",
       "      <td>315.869995</td>\n",
       "      <td>179.520004</td>\n",
       "      <td>50.410000</td>\n",
       "      <td>117.529999</td>\n",
       "    </tr>\n",
       "    <tr>\n",
       "      <th>2021-02-10</th>\n",
       "      <td>34.740002</td>\n",
       "      <td>166.809998</td>\n",
       "      <td>298.359985</td>\n",
       "      <td>179.339996</td>\n",
       "      <td>49.970001</td>\n",
       "      <td>119.349998</td>\n",
       "    </tr>\n",
       "    <tr>\n",
       "      <th>2021-02-11</th>\n",
       "      <td>34.430000</td>\n",
       "      <td>166.059998</td>\n",
       "      <td>298.260010</td>\n",
       "      <td>183.440002</td>\n",
       "      <td>50.090000</td>\n",
       "      <td>118.029999</td>\n",
       "    </tr>\n",
       "    <tr>\n",
       "      <th>2021-02-12</th>\n",
       "      <td>34.720001</td>\n",
       "      <td>166.580002</td>\n",
       "      <td>289.760010</td>\n",
       "      <td>183.740005</td>\n",
       "      <td>51.689999</td>\n",
       "      <td>117.559998</td>\n",
       "    </tr>\n",
       "  </tbody>\n",
       "</table>\n",
       "<p>1036 rows × 6 columns</p>\n",
       "</div>"
      ],
      "text/plain": [
       "                  PFE         JNJ        NVAX        MRNA        AZN  \\\n",
       "Date                                                                   \n",
       "2017-01-03  26.653324  104.081535   25.400000         NaN  23.886580   \n",
       "2017-01-04  26.887548  103.910828   26.200001         NaN  24.076221   \n",
       "2017-01-05  27.146002  104.998009   26.400000         NaN  24.731359   \n",
       "2017-01-06  27.041008  104.494850   27.400000         NaN  24.507233   \n",
       "2017-01-09  27.032928  104.476868   28.400000         NaN  24.593435   \n",
       "...               ...         ...         ...         ...        ...   \n",
       "2021-02-08  34.820000  164.919998  319.929993  185.979996  50.060001   \n",
       "2021-02-09  34.970001  166.270004  315.869995  179.520004  50.410000   \n",
       "2021-02-10  34.740002  166.809998  298.359985  179.339996  49.970001   \n",
       "2021-02-11  34.430000  166.059998  298.260010  183.440002  50.090000   \n",
       "2021-02-12  34.720001  166.580002  289.760010  183.740005  51.689999   \n",
       "\n",
       "                  BNTX  \n",
       "Date                    \n",
       "2017-01-03         NaN  \n",
       "2017-01-04         NaN  \n",
       "2017-01-05         NaN  \n",
       "2017-01-06         NaN  \n",
       "2017-01-09         NaN  \n",
       "...                ...  \n",
       "2021-02-08  119.500000  \n",
       "2021-02-09  117.529999  \n",
       "2021-02-10  119.349998  \n",
       "2021-02-11  118.029999  \n",
       "2021-02-12  117.559998  \n",
       "\n",
       "[1036 rows x 6 columns]"
      ]
     },
     "execution_count": 7,
     "metadata": {},
     "output_type": "execute_result"
    },
    {
     "data": {
      "image/png": "[encoded data removed]",
      "text/plain": [
       "<Figure size 864x576 with 1 Axes>"
      ]
     },
     "metadata": {
      "needs_background": "light"
     },
     "output_type": "display_data"
    }
   ],
   "source": [
    "get_multi_plot(multi_stocks)"
   ]
  },
  {
   "cell_type": "markdown",
   "metadata": {},
   "source": [
    "### Single Stock Data"
   ]
  },
  {
   "cell_type": "code",
   "execution_count": 8,
   "metadata": {},
   "outputs": [],
   "source": [
    "def single_stock_data(symbol, start,end=None,plot=True,stock_value='Adj Close'):\n",
    "    \n",
    "    try:\n",
    "        \n",
    "        df = web.DataReader(symbol,'yahoo', start, end)\n",
    "        df_single = pd.DataFrame(df)\n",
    "        print(\"Dataframe has {} rows and {} columns\".format(df_single.shape[0],df_single.shape[1]))\n",
    "        print()\n",
    "        if plot==True:\n",
    "            plt.figure(figsize=(12,8))\n",
    "            plt.plot(df_single[stock_value])\n",
    "            label_font = {'weight':'bold','size':18}\n",
    "            plt.xlabel('Date',fontdict=label_font)\n",
    "            plt.ylabel('Close Price USD ($)',fontdict=label_font)\n",
    "            plt.title(f'Historical {stock_value} Price for {symbol}',fontdict=label_font)\n",
    "            #plot = go.Scatter(x=df_single.index, y=df_single['Adj Close'])\n",
    "            \n",
    "        return df_single\n",
    "\n",
    "    except Exception as e:\n",
    "        print(\"Error occured:\", e)\n",
    "        #data = 'Incorrect Symbol'\n"
   ]
  },
  {
   "cell_type": "code",
   "execution_count": 9,
   "metadata": {},
   "outputs": [
    {
     "name": "stdout",
     "output_type": "stream",
     "text": [
      "Dataframe has 1040 rows and 6 columns\n",
      "\n"
     ]
    },
    {
     "data": {
      "image/png": "[encoded data removed]",
      "text/plain": [
       "<Figure size 864x576 with 1 Axes>"
      ]
     },
     "metadata": {
      "needs_background": "light"
     },
     "output_type": "display_data"
    }
   ],
   "source": [
    "start='01-01-2019'\n",
    "end='today'\n",
    "pfe_stock = single_stock_data('PFE', start='01-01-2017',end='today',plot=True,stock_value='Adj Close')"
   ]
  },
  {
   "cell_type": "code",
   "execution_count": 10,
   "metadata": {},
   "outputs": [
    {
     "data": {
      "text/html": [
       "<div>\n",
       "<style scoped>\n",
       "    .dataframe tbody tr th:only-of-type {\n",
       "        vertical-align: middle;\n",
       "    }\n",
       "\n",
       "    .dataframe tbody tr th {\n",
       "        vertical-align: top;\n",
       "    }\n",
       "\n",
       "    .dataframe thead th {\n",
       "        text-align: right;\n",
       "    }\n",
       "</style>\n",
       "<table border=\"1\" class=\"dataframe\">\n",
       "  <thead>\n",
       "    <tr style=\"text-align: right;\">\n",
       "      <th></th>\n",
       "      <th>High</th>\n",
       "      <th>Low</th>\n",
       "      <th>Open</th>\n",
       "      <th>Close</th>\n",
       "      <th>Volume</th>\n",
       "      <th>Adj Close</th>\n",
       "    </tr>\n",
       "    <tr>\n",
       "      <th>Date</th>\n",
       "      <th></th>\n",
       "      <th></th>\n",
       "      <th></th>\n",
       "      <th></th>\n",
       "      <th></th>\n",
       "      <th></th>\n",
       "    </tr>\n",
       "  </thead>\n",
       "  <tbody>\n",
       "    <tr>\n",
       "      <th>2017-01-03</th>\n",
       "      <td>31.309298</td>\n",
       "      <td>30.920303</td>\n",
       "      <td>31.024668</td>\n",
       "      <td>31.309298</td>\n",
       "      <td>23391844.0</td>\n",
       "      <td>26.653324</td>\n",
       "    </tr>\n",
       "    <tr>\n",
       "      <th>2017-01-04</th>\n",
       "      <td>31.641365</td>\n",
       "      <td>31.337761</td>\n",
       "      <td>31.432638</td>\n",
       "      <td>31.584440</td>\n",
       "      <td>22753963.0</td>\n",
       "      <td>26.887548</td>\n",
       "    </tr>\n",
       "    <tr>\n",
       "      <th>2017-01-05</th>\n",
       "      <td>31.963947</td>\n",
       "      <td>31.423149</td>\n",
       "      <td>31.660341</td>\n",
       "      <td>31.888046</td>\n",
       "      <td>21083584.0</td>\n",
       "      <td>27.146002</td>\n",
       "    </tr>\n",
       "    <tr>\n",
       "      <th>2017-01-06</th>\n",
       "      <td>31.973434</td>\n",
       "      <td>31.631880</td>\n",
       "      <td>31.935484</td>\n",
       "      <td>31.764706</td>\n",
       "      <td>18418228.0</td>\n",
       "      <td>27.041008</td>\n",
       "    </tr>\n",
       "    <tr>\n",
       "      <th>2017-01-09</th>\n",
       "      <td>31.944971</td>\n",
       "      <td>31.669828</td>\n",
       "      <td>31.717268</td>\n",
       "      <td>31.755219</td>\n",
       "      <td>21559886.0</td>\n",
       "      <td>27.032928</td>\n",
       "    </tr>\n",
       "    <tr>\n",
       "      <th>...</th>\n",
       "      <td>...</td>\n",
       "      <td>...</td>\n",
       "      <td>...</td>\n",
       "      <td>...</td>\n",
       "      <td>...</td>\n",
       "      <td>...</td>\n",
       "    </tr>\n",
       "    <tr>\n",
       "      <th>2021-02-12</th>\n",
       "      <td>34.950001</td>\n",
       "      <td>34.360001</td>\n",
       "      <td>34.439999</td>\n",
       "      <td>34.720001</td>\n",
       "      <td>25513100.0</td>\n",
       "      <td>34.720001</td>\n",
       "    </tr>\n",
       "    <tr>\n",
       "      <th>2021-02-16</th>\n",
       "      <td>34.860001</td>\n",
       "      <td>34.560001</td>\n",
       "      <td>34.849998</td>\n",
       "      <td>34.689999</td>\n",
       "      <td>28668400.0</td>\n",
       "      <td>34.689999</td>\n",
       "    </tr>\n",
       "    <tr>\n",
       "      <th>2021-02-17</th>\n",
       "      <td>35.000000</td>\n",
       "      <td>34.459999</td>\n",
       "      <td>34.570000</td>\n",
       "      <td>34.889999</td>\n",
       "      <td>26389400.0</td>\n",
       "      <td>34.889999</td>\n",
       "    </tr>\n",
       "    <tr>\n",
       "      <th>2021-02-18</th>\n",
       "      <td>34.880001</td>\n",
       "      <td>34.520000</td>\n",
       "      <td>34.779999</td>\n",
       "      <td>34.560001</td>\n",
       "      <td>23950700.0</td>\n",
       "      <td>34.560001</td>\n",
       "    </tr>\n",
       "    <tr>\n",
       "      <th>2021-02-19</th>\n",
       "      <td>34.680000</td>\n",
       "      <td>34.459999</td>\n",
       "      <td>34.660000</td>\n",
       "      <td>34.570000</td>\n",
       "      <td>10974058.0</td>\n",
       "      <td>34.570000</td>\n",
       "    </tr>\n",
       "  </tbody>\n",
       "</table>\n",
       "<p>1040 rows × 6 columns</p>\n",
       "</div>"
      ],
      "text/plain": [
       "                 High        Low       Open      Close      Volume  Adj Close\n",
       "Date                                                                         \n",
       "2017-01-03  31.309298  30.920303  31.024668  31.309298  23391844.0  26.653324\n",
       "2017-01-04  31.641365  31.337761  31.432638  31.584440  22753963.0  26.887548\n",
       "2017-01-05  31.963947  31.423149  31.660341  31.888046  21083584.0  27.146002\n",
       "2017-01-06  31.973434  31.631880  31.935484  31.764706  18418228.0  27.041008\n",
       "2017-01-09  31.944971  31.669828  31.717268  31.755219  21559886.0  27.032928\n",
       "...               ...        ...        ...        ...         ...        ...\n",
       "2021-02-12  34.950001  34.360001  34.439999  34.720001  25513100.0  34.720001\n",
       "2021-02-16  34.860001  34.560001  34.849998  34.689999  28668400.0  34.689999\n",
       "2021-02-17  35.000000  34.459999  34.570000  34.889999  26389400.0  34.889999\n",
       "2021-02-18  34.880001  34.520000  34.779999  34.560001  23950700.0  34.560001\n",
       "2021-02-19  34.680000  34.459999  34.660000  34.570000  10974058.0  34.570000\n",
       "\n",
       "[1040 rows x 6 columns]"
      ]
     },
     "execution_count": 10,
     "metadata": {},
     "output_type": "execute_result"
    }
   ],
   "source": [
    "#pfe_stock.to_csv('pfe_stock')\n",
    "pfe_stock_data = pd.read_csv('pfe_stock', parse_dates=True, index_col='Date')\n",
    "#single_stock['Close']['2015-04-01':'2015-12-01'].plot()\n",
    "pfe_stock_data"
   ]
  },
  {
   "cell_type": "code",
   "execution_count": 12,
   "metadata": {},
   "outputs": [
    {
     "data": {
      "text/plain": [
       "count    1040.000000\n",
       "mean       32.850950\n",
       "std         3.707581\n",
       "min        25.159119\n",
       "25%        29.999429\n",
       "50%        33.001329\n",
       "75%        36.119614\n",
       "max        42.101986\n",
       "Name: Adj Close, dtype: float64"
      ]
     },
     "execution_count": 12,
     "metadata": {},
     "output_type": "execute_result"
    }
   ],
   "source": [
    "pfe_stock_data['Adj Close'].describe()"
   ]
  },
  {
   "cell_type": "code",
   "execution_count": 13,
   "metadata": {},
   "outputs": [
    {
     "data": {
      "text/plain": [
       "-16.942866999999996"
      ]
     },
     "execution_count": 13,
     "metadata": {},
     "output_type": "execute_result"
    }
   ],
   "source": [
    "25.159119-42.101986"
   ]
  },
  {
   "cell_type": "code",
   "execution_count": 15,
   "metadata": {},
   "outputs": [
    {
     "data": {
      "text/plain": [
       "-67.3428469415006"
      ]
     },
     "execution_count": 15,
     "metadata": {},
     "output_type": "execute_result"
    }
   ],
   "source": [
    "(-16.942866999999996 / 25.159119) *100"
   ]
  },
  {
   "cell_type": "code",
   "execution_count": null,
   "metadata": {},
   "outputs": [],
   "source": []
  },
  {
   "cell_type": "markdown",
   "metadata": {},
   "source": [
    "## Technical Indicators\n",
    "The pratice of analyzing and executing stock trades is becoming increasingly automated with algorithimic trading.  The usage of technnical indicators is a part of algorithmic trading.    Technical analysis is a trading discipline used to evaluate  investments and identify trading opportunities by analyzing statistical trends gathered from trading activity, such as price movement and volume.  What are technical indicators and how are used by Technical Analyst in stock trading?  Technical indicators are approaches or pattern-based signals produced by the price, volume, and/or open interest of a stock which are used by traders who follow technical analysis.  echnical analysts believe past trading activity and price changes of a security can be valuable indicators of the security's future price movements.https://www.investopedia.com/terms/t/technicalindicator.asp<br>Technical analysts look for indicators in the historical data and use them to predict future price movements.  The analysts also use them to look for entry and exit points in markets to conduct trades.  I will discuss popular technical indicators that are used in the markets to study price movements:\n",
    "\n",
    "1. Moving Averages (MA)\n",
    "2. Exponential Moving Average (EMA)\n",
    "3. Rate of Change (ROC)"
   ]
  },
  {
   "cell_type": "markdown",
   "metadata": {},
   "source": [
    "### Moving Averages\n",
    "The moving average is also known s the rolling mean.  Moving averages smooth the curve by filtering out the noise inorder to highlight components in the data such as trends and seasonality.  The moving Average smooths out the variations in the dataset by calculating the moving average.  Three common types of moving averages are Simple Moving Average (SMA), Weighted Moving Average (WMA) and Exponential Moving Average (EMA).  The commonly used moving averages are 5, 10, 20, 50, 200 day moving averages.  A 10 period SMA would be over 10 periods and woud mean 10 trading days).\n",
    "<br>\n",
    "#### Simple Moving Average\n",
    "The Simple Moving Average is the arithmetic mean of all the stock prices or the sum of all the stock prices divided by the number of periods.  We can use the rolling method to calcualte moving averages.<br>\n",
    "<br>\n",
    "The below plot shows alot of fluctuations and noise in the stock price.  However, the plot shows the average stock price with the 10 and 20-year moving averages."
   ]
  },
  {
   "cell_type": "code",
   "execution_count": null,
   "metadata": {},
   "outputs": [],
   "source": [
    "rolling_method = pd.read_csv('pfe_stock', parse_dates=True, index_col='Date')\n",
    "#how big should the subset of data be that we're calculating the moving average on?\n",
    "rolling_method['MA_10'] = rolling_method.Close.rolling(10).mean()\n",
    "rolling_method['MA_20'] = rolling_method.Close.rolling(20).mean()\n",
    "rolling_method['2017-01-01':'2021-2-19']"
   ]
  },
  {
   "cell_type": "code",
   "execution_count": null,
   "metadata": {},
   "outputs": [],
   "source": [
    "plt.figure(figsize=(12,8))\n",
    "plt.plot(rolling_method['Close'], label='PFE')\n",
    "plt.plot(rolling_method['MA_10'], label='MA 10 Day')\n",
    "plt.plot(rolling_method['MA_20'],label='MA 20 Day')\n",
    "plt.xlabel('Dates')\n",
    "plt.ylabel('Stock Prices')\n",
    "plt.legend(loc='lower right', fontsize=14)"
   ]
  },
  {
   "cell_type": "markdown",
   "metadata": {},
   "source": [
    "#### Exponential Moving Average (EMA)\n",
    " The EMA is also referred to as the exponentially weighted moving average.  The difference between EMA and SMA is that SMA assigns equal weight to all periods.  Whereas, with EMA the latest prices are given higher weights and it assigns lesser weight to past data.  EMA is used more by short term traders because it is quicker to react to price changes compared to SMA which is slower. this technical indicator is used to produce buy and sell signals based on crossovers and divergences from the historical average.  https://www.investopedia.com/terms/e/ema.asp<b>\n",
    "When red line crosses above the green line you see a increase in the price and every time the red drops below the EMA26 you see the price decrease."
   ]
  },
  {
   "cell_type": "code",
   "execution_count": null,
   "metadata": {},
   "outputs": [],
   "source": [
    "pfe_df = pfe_stock_data.copy()"
   ]
  },
  {
   "cell_type": "code",
   "execution_count": null,
   "metadata": {},
   "outputs": [],
   "source": [
    "# #single_stock\n",
    "# #good time of when to buy stockand when to sell it\n",
    "# #three moving avrages\n",
    "# #short/fast exponential moving ma\n",
    "def create_ema_fuction(data, col='Close',span1=None,span2=None,span3=None):\n",
    "    data['shortEMA'] = data[col].ewm(span=span1, adjust=False).mean() #5 time periods\n",
    "    #calculate middle/medium exponential moving ma\n",
    "    data['middleEMA'] = data[col].ewm(span=span2, adjust=False).mean() #5 time periods\n",
    "    #calculate long/slow exponential moving ma\n",
    "    data['longEMA'] = data[col].ewm(span=span3, adjust=False).mean() #5 time periods\n",
    "    \n",
    "    #visulaize closing price and exponential moving average\n",
    "    plt.figure(figsize=(12,6))\n",
    "    plt.plot(data[col],label='Close Price', color='blue')\n",
    "    plt.plot(data['shortEMA'],label='Short/Fast EMA', color='red')\n",
    "    plt.plot(data['middleEMA'],label='Middle/medium EMA', color='orange')\n",
    "    plt.plot(data['longEMA'],label='Long/slow EMA', color='green')\n",
    "    plt.title('Exponential Moviing Average Plot')\n",
    "    plt.xlabel('Dates')\n",
    "    plt.ylabel('Closing Price')\n",
    "    plt.legend()\n",
    "    \n",
    "    return data #, shortEMA, middleEMA,longEMA"
   ]
  },
  {
   "cell_type": "code",
   "execution_count": null,
   "metadata": {},
   "outputs": [],
   "source": [
    "ewma1 = create_ema_fuction(data=pfe_df, span1=5, span2=21,span3=63)\n",
    "ewma1.head()"
   ]
  },
  {
   "cell_type": "code",
   "execution_count": null,
   "metadata": {},
   "outputs": [],
   "source": [
    "#function to buy and sell the stock\n",
    "#buy sell signals\n",
    "def buy_sell_function(data):\n",
    "    buy_list = []\n",
    "    sell_list=[]\n",
    "    flag_long = False\n",
    "    flag_short = False\n",
    "\n",
    "    for i in range(0, len(data)):\n",
    "        if data['middleEMA'][i] < data['longEMA'][i] and data['shortEMA'][i]< data['middleEMA'][i] and flag_long== False and flag_short== False:\n",
    "                #this is when to buy stock\n",
    "                buy_list.append(data['Close'][i])\n",
    "                sell_list.append(np.nan)\n",
    "                flag_short = True\n",
    "        #sell if the short/fast moving average crosses above the middle moving average\n",
    "        elif flag_short == True and data['shortEMA'][i] > data['middleEMA'][i]:\n",
    "            sell_list.append(data['Close'][i])\n",
    "            buy_list.append(np.nan)\n",
    "            flag_short = False\n",
    "            \n",
    "        elif data['middleEMA'][i] > data['longEMA'][i] and data['shortEMA'][i]> data['middleEMA'][i] and flag_long== False and flag_short== False:\n",
    "                #this is when to buy stock\n",
    "                buy_list.append(data['Close'][i])\n",
    "                sell_list.append(np.nan)\n",
    "                flag_long = True\n",
    "        #sell if the short/fast moving average crosses above the middle moving average\n",
    "        elif flag_long == True and data['shortEMA'][i] < data['middleEMA'][i]:\n",
    "            sell_list.append(data['Close'][i])\n",
    "            buy_list.append(np.nan)\n",
    "            flag_long = False \n",
    "        else:\n",
    "            #if conditions not met for any statement just append to buy, sell lists a nan value\n",
    "            buy_list.append(np.nan)\n",
    "            sell_list.append(np.nan)\n",
    "            \n",
    "           \n",
    "    return buy_list, sell_list       \n",
    "            "
   ]
  },
  {
   "cell_type": "code",
   "execution_count": null,
   "metadata": {},
   "outputs": [],
   "source": [
    "#add buy and sell signals to dataset\n",
    "ewma1['Buy'] = buy_sell_function(pfe_df)[0] #return index 0\n",
    "ewma1['Sell'] = buy_sell_function(pfe_df)[1] #return inddex 1"
   ]
  },
  {
   "cell_type": "code",
   "execution_count": null,
   "metadata": {},
   "outputs": [],
   "source": [
    "def ema_signals_function(data):\n",
    "    plt.figure(figsize=(12,8))\n",
    "    plt.plot(data['Close'],label='Close Price', color='blue',alpha=0.35)\n",
    "    plt.plot(data['shortEMA'],label='Short/Fast EMA', color='red',alpha=0.35)\n",
    "    plt.plot(data['middleEMA'],label='Middle/medium EMA', color='orange',alpha=0.35)\n",
    "    plt.plot(data['longEMA'],label='Long/slow EMA', color='green',alpha=0.35)\n",
    "    plt.scatter(data.index,data['Buy'], color='green', marker='^', alpha=1)\n",
    "    #prices are going to go down\n",
    "    plt.scatter(data.index,data['Sell'], color='red',marker='v',alpha=1)\n",
    "    plt.title('Buy and Sell Graph')\n",
    "    plt.legend() "
   ]
  },
  {
   "cell_type": "code",
   "execution_count": null,
   "metadata": {},
   "outputs": [],
   "source": [
    "ema_signals_function(data=ewma1)"
   ]
  },
  {
   "cell_type": "markdown",
   "metadata": {},
   "source": [
    "## Rate of Change\n",
    "### Historical Price Change Analysis\n",
    "volatility is the range of price change security experiences over a given period of time. If the price stays relatively stable, the security has low volatility. A highly volatile security hits new highs and lows quickly, moves erratically, and has rapid increases and dramatic falls.Is volatility in price good or bad for trading? As the price fluctuates, it provides the opportunity for investors to buy stock in a solid company when the price is very low, and then wait for cumulative growth down the road.https://www.investopedia.com/ask/answers/010915/volatility-good-thing-or-bad-thing-investors-point-view-and-why.asp"
   ]
  },
  {
   "cell_type": "markdown",
   "metadata": {},
   "source": [
    "### Price Change in Dollars\n",
    "Add column to calculate actual change in dollars<br>\n",
    "To see how big the changes were on a daily basis we subtract yesterday's closing price yesterday from today.  This will show the change in price.  For example, we can see that on 1/3 the Closing price was 39.886147 and on 1/2 the Closing price was 41.034157 so the price decreased -$1.148.<br> \n",
    "Expected change (1 std deviaiton movement in price)<br>\n",
    "Column of calculation of how big the actual changes was interms of standard deviations.<br>\n",
    "Histograms changes in standard deviaiton<br>\n",
    "Scatterplot of absolute value of magnitude change vs. actual change. Let's us see how the price changes daily.<br>"
   ]
  },
  {
   "cell_type": "code",
   "execution_count": null,
   "metadata": {},
   "outputs": [],
   "source": [
    "# sdr = multiple_stock_data(ticker=[['PFE','JNJ','NVAX','MRNA','AZN','BNTX']], start='2017',end='today',plot=False, stock_value='Adj Close')\n",
    "# sdr\n",
    "price_change = single_stock.copy()"
   ]
  },
  {
   "cell_type": "code",
   "execution_count": null,
   "metadata": {},
   "outputs": [],
   "source": [
    "#leavr off 1 b/c that's default value\n",
    "#using shift function\n",
    "#price decreased by -$1.148\n",
    "\n",
    "price_change['Actual_Changes'] = price_change['Close'] - price_change['Close'].shift(1)\n",
    "# price_change['Expected_Changes'] =price_change['Close'] * #std deviation or 21 day \n",
    "price_change"
   ]
  },
  {
   "cell_type": "markdown",
   "metadata": {},
   "source": [
    "The below graph shows that for the stated time the stock price never increased more than 3.00 and did not decrease more than -3.00.<br>"
   ]
  },
  {
   "cell_type": "code",
   "execution_count": null,
   "metadata": {},
   "outputs": [],
   "source": [
    "#the mean (average) change was less than 1 cent\n",
    "price_change['Actual_Changes'].describe() "
   ]
  },
  {
   "cell_type": "code",
   "execution_count": null,
   "metadata": {},
   "outputs": [],
   "source": [
    "plt.figure(figsize=(12,8))\n",
    "plt.plot(price_change['Actual_Changes'])"
   ]
  },
  {
   "cell_type": "markdown",
   "metadata": {},
   "source": [
    "### Price Volatility\n",
    "volatility is the range of price change security experiences over a given period of time. If the price stays relatively stable, the security has low volatility. A highly volatile security hits new highs and lows quickly, moves erratically, and has rapid increases and dramatic falls.\n",
    "For short-term traders, volatility is even more crucial. Day traders work with changes that occur second-to-second, minute-to-minute. If there is no price change, there is no profit.https://www.investopedia.com/ask/answers/010915/volatility-good-thing-or-bad-thing-investors-point-view-and-why.asp\n",
    "THe column 'change' shows how volatile the price change percentage wise.  The graph shows that the data points are now centered aound 0. The graph shows that around 3/20 was a volatile period for the stock price and it increase above 7% and decreased 7%.<br>"
   ]
  },
  {
   "cell_type": "code",
   "execution_count": null,
   "metadata": {},
   "outputs": [],
   "source": [
    "#calculate historical volatility\n",
    "prct_change = price_change.copy()\n",
    "prct_change['change'] = np.log(prct_change['Close'] / prct_change['Close'].shift()) #divide by previous days close"
   ]
  },
  {
   "cell_type": "code",
   "execution_count": null,
   "metadata": {},
   "outputs": [],
   "source": [
    "prct_change"
   ]
  },
  {
   "cell_type": "code",
   "execution_count": null,
   "metadata": {},
   "outputs": [],
   "source": [
    "#graph centered around 0\n",
    "#price only went up 7% twice and around 3/20 went down below 7% a few times\n",
    "#8/19 went below &%\n",
    "plt.figure(figsize=(12,6))\n",
    "plt.plot(prct_change['change'])"
   ]
  },
  {
   "cell_type": "markdown",
   "metadata": {},
   "source": [
    "### Historical Volatility"
   ]
  },
  {
   "cell_type": "code",
   "execution_count": null,
   "metadata": {},
   "outputs": [],
   "source": [
    "#use  rolling standard deviation to get that \n",
    "#use 21 day rolling window b/c there are 21 traing days in a month on average\n",
    "#this will include 21st observation\n",
    "#but volatility should be used from next day\n",
    "prct_change['Volatility'] = prct_change['change'].rolling(21).std().shift(1)"
   ]
  },
  {
   "cell_type": "code",
   "execution_count": null,
   "metadata": {},
   "outputs": [],
   "source": [
    "#what price volatility looks like over time\n",
    "#4/20 was a highly volatile period\n",
    "prct_change['Volatility'].plot()"
   ]
  },
  {
   "cell_type": "code",
   "execution_count": null,
   "metadata": {},
   "outputs": [],
   "source": [
    "#use rolling standard deviation to ge that. Use 21 day rolling window.\n",
    "#use today's volatility at close today to predcit a 1 std move tomorrow\n",
    "prct_change['Expected_Change'] = prct_change['Close'].shift(1) * prct_change['Volatility'] #1 std or 21 day rolling std\n",
    "prct_change = prct_change.iloc[1:]\n",
    "prct_change"
   ]
  },
  {
   "cell_type": "code",
   "execution_count": null,
   "metadata": {},
   "outputs": [],
   "source": [
    "#magnitude of change\n",
    "#divide actual change by expected change\n",
    "#end up w/values in standard deviations\n",
    "prct_change['Magnitude'] = prct_change['Actual_Changes'] / prct_change['Expected_Change']"
   ]
  },
  {
   "cell_type": "code",
   "execution_count": null,
   "metadata": {},
   "outputs": [],
   "source": [
    "#idea of typical distrubution of changes in terms of standard deviation\n",
    "#mostly w/in 3 stadnard deviaitons of mean\n",
    "#could be more of positve change\n",
    "#kind of equal happening on positve and negative side\n",
    "plt.hist(prct_change['Magnitude'], bins='auto')"
   ]
  },
  {
   "cell_type": "code",
   "execution_count": null,
   "metadata": {},
   "outputs": [],
   "source": [
    "\n",
    "sdr = multi_stocks.pct_change(1)\n",
    "sdr"
   ]
  },
  {
   "cell_type": "code",
   "execution_count": null,
   "metadata": {},
   "outputs": [],
   "source": [
    "(26.887548/26.653324) - 1"
   ]
  },
  {
   "cell_type": "code",
   "execution_count": null,
   "metadata": {},
   "outputs": [],
   "source": [
    "# #visualize stocks daily returns\n",
    "# plt.figure(figsize=(12,6))\n",
    "# #loop through each stock and plot simple returns\n",
    "# for c in d_simple_returns.columns.values:\n",
    "#     plt.plot(d_simple_returns.index, d_simple_returns[c], label=c)\n",
    "# #plt.title(title)\n",
    "# #plt.ylabel(col + ' Price', fontsize=18)\n",
    "# plt.legend(loc='upper left', fontsize=10)\n",
    "# plt.title('Volatility')\n",
    "# plt.xlabel('Date')\n",
    "# plt.ylabel('Daily Simple Returns')"
   ]
  },
  {
   "cell_type": "markdown",
   "metadata": {},
   "source": [
    "### Average Daily Return"
   ]
  },
  {
   "cell_type": "code",
   "execution_count": null,
   "metadata": {},
   "outputs": [],
   "source": [
    "# d_simple_returns.std()\n",
    "# mean_return = d_simple_returns.mean()\n",
    "# print('The Daily Mean Simple Return')\n",
    "# mean_return"
   ]
  },
  {
   "cell_type": "markdown",
   "metadata": {},
   "source": [
    "## Forecasting\n",
    "### Long Short Term Memory (LSTM)"
   ]
  },
  {
   "cell_type": "code",
   "execution_count": null,
   "metadata": {},
   "outputs": [],
   "source": [
    "#start='01-01-2019',end='today',\n",
    "#df_single = single_stock_data('PFE', start='01-01-2019',end='today',plot=True,stock_value='Adj Close')"
   ]
  },
  {
   "cell_type": "code",
   "execution_count": null,
   "metadata": {},
   "outputs": [],
   "source": [
    "#df_single.to_csv('single_stock')\n",
    "single_stock = pd.read_csv('single_stock', parse_dates=True, index_col='Date')\n",
    "single_stock"
   ]
  },
  {
   "cell_type": "code",
   "execution_count": null,
   "metadata": {},
   "outputs": [],
   "source": [
    "(24.905140 / 25.028662) -1"
   ]
  },
  {
   "cell_type": "code",
   "execution_count": null,
   "metadata": {},
   "outputs": [],
   "source": [
    "def delta_time_series(data,col=None):\n",
    "    data['Percent_Chg'] = data[col].pct_change(1)\n",
    "    #data_1 = data_1.rename(columns={\"Adj Close\": \"Percent_Chg\"})\n",
    "    #return data[1:]- data[:-1]\n",
    "    data = data.dropna()\n",
    "    return data"
   ]
  },
  {
   "cell_type": "code",
   "execution_count": null,
   "metadata": {},
   "outputs": [],
   "source": [
    "df_chnge = delta_time_series(single_stock, col='Adj Close')\n",
    "df_chnge"
   ]
  },
  {
   "cell_type": "code",
   "execution_count": null,
   "metadata": {},
   "outputs": [],
   "source": [
    "df_chnge.shape"
   ]
  },
  {
   "cell_type": "code",
   "execution_count": null,
   "metadata": {},
   "outputs": [],
   "source": [
    "def plot_delta(data,col=None,symbol=None):\n",
    "    plt.figure(figsize=(12,6))\n",
    "    #plt.plot(delta_time_series(data))\n",
    "    plt.plot(data[col])\n",
    "    label_font = {'weight':'bold','size':18}\n",
    "    plt.title('Daily Percentage Price Change',fontdict=label_font)\n",
    "    plt.xlabel('Dates',fontdict=label_font)\n",
    "    plt.ylabel('close')\n",
    "    plt.show()"
   ]
  },
  {
   "cell_type": "code",
   "execution_count": null,
   "metadata": {},
   "outputs": [],
   "source": [
    "#simple daily return\n",
    "#centered aroun d 0\n",
    "plot_delta(df_chnge, col='Percent_Chg')"
   ]
  },
  {
   "cell_type": "code",
   "execution_count": null,
   "metadata": {},
   "outputs": [],
   "source": [
    "def get_y_from_generator(gen):\n",
    "    '''\n",
    "    Get all targets y from a TimeseriesGenerator instance.\n",
    "    '''\n",
    "    y = None\n",
    "    for i in range(len(gen)):\n",
    "        batch_y = gen[i][1]\n",
    "        if y is None:\n",
    "            y = batch_y\n",
    "        else:\n",
    "            y = np.append(y, batch_y)\n",
    "    y = y.reshape((-1,1))\n",
    "    print(y.shape)\n",
    "    return y"
   ]
  },
  {
   "cell_type": "code",
   "execution_count": null,
   "metadata": {},
   "outputs": [],
   "source": [
    "def get_y_from_df(train_scaled_df, look_back, col='Adj Close', ):\n",
    "    y = train_scaled_df[col].iloc[look_back: ]\n",
    "    return y"
   ]
  },
  {
   "cell_type": "code",
   "execution_count": null,
   "metadata": {},
   "outputs": [],
   "source": []
  },
  {
   "cell_type": "code",
   "execution_count": null,
   "metadata": {},
   "outputs": [],
   "source": [
    "def binary_accuracy(a, b):\n",
    "    '''\n",
    "    Helper function to compute the match score of two \n",
    "    binary numpy arrays.\n",
    "    '''\n",
    "    assert len(a) == len(b)\n",
    "    return (a == b).sum() / len(a)"
   ]
  },
  {
   "cell_type": "code",
   "execution_count": null,
   "metadata": {},
   "outputs": [],
   "source": [
    "df_chnge"
   ]
  },
  {
   "cell_type": "code",
   "execution_count": null,
   "metadata": {},
   "outputs": [],
   "source": [
    "single_stock = df_chnge.copy()"
   ]
  },
  {
   "cell_type": "code",
   "execution_count": null,
   "metadata": {},
   "outputs": [],
   "source": [
    "single_stock"
   ]
  },
  {
   "cell_type": "code",
   "execution_count": null,
   "metadata": {},
   "outputs": [],
   "source": [
    "train_size = int(len(single_stock) * 0.80)#0.67\n",
    "test_size = len(single_stock) - train_size\n",
    "#val_size = len(dataset_delta_AMAZN)  - "
   ]
  },
  {
   "cell_type": "code",
   "execution_count": null,
   "metadata": {},
   "outputs": [],
   "source": [
    "single_stock.index[train_size]"
   ]
  },
  {
   "cell_type": "code",
   "execution_count": null,
   "metadata": {},
   "outputs": [],
   "source": [
    "single_stock.index[-test_size]\n"
   ]
  },
  {
   "cell_type": "code",
   "execution_count": null,
   "metadata": {},
   "outputs": [],
   "source": [
    "train = single_stock[:'2020-09-11']\n",
    "val = single_stock['2020-09-11':'2020-11-01']\n",
    "test = single_stock['2020-11-01':] #2021-02-12\n",
    "ax = train.plot()\n",
    "val.plot(ax=ax)\n",
    "test.plot(ax=ax)"
   ]
  },
  {
   "cell_type": "code",
   "execution_count": null,
   "metadata": {},
   "outputs": [],
   "source": [
    "def train_test_val(single_stock, date1='2020-09-11', date2='2020-11-01'):    \n",
    "    train = single_stock[:date1]#'2020-09-11'\n",
    "    val = single_stock[date1:date2]\n",
    "    test = single_stock[date2:] #2021-02-12\n",
    "    ax = train.plot()\n",
    "    val.plot(ax=ax)\n",
    "    test.plot(ax=ax)\n",
    "    \n",
    "    return train, val, test"
   ]
  },
  {
   "cell_type": "code",
   "execution_count": null,
   "metadata": {},
   "outputs": [],
   "source": [
    "train, val, test= train_test_val(single_stock)"
   ]
  },
  {
   "cell_type": "code",
   "execution_count": null,
   "metadata": {},
   "outputs": [],
   "source": [
    "# normalize the dataset\n",
    "scaler = MinMaxScaler(feature_range=(0, 1))\n",
    "train_scaled = scaler.fit_transform(train)\n",
    "test_scaled = scaler.transform(test)\n",
    "val_scaled = scaler.transform(val)"
   ]
  },
  {
   "cell_type": "code",
   "execution_count": null,
   "metadata": {},
   "outputs": [],
   "source": [
    "train_scaled_df = pd.DataFrame(train_scaled, columns=train.columns, index=train.index)\n",
    "test_scaled_df = pd.DataFrame(test_scaled, columns=test.columns, index=test.index)\n",
    "val_scaled_df = pd.DataFrame(val_scaled, columns=val.columns, index=val.index)\n"
   ]
  },
  {
   "cell_type": "code",
   "execution_count": null,
   "metadata": {},
   "outputs": [],
   "source": [
    "train_scaled_df.shape, val_scaled_df.shape, test_scaled_df.shape"
   ]
  },
  {
   "cell_type": "code",
   "execution_count": null,
   "metadata": {},
   "outputs": [],
   "source": [
    "look_back = 10\n",
    "batch_size=3\n",
    "col_index = {v:k for k,v in enumerate(train_scaled_df.columns)}\n",
    "col_index"
   ]
  },
  {
   "cell_type": "code",
   "execution_count": null,
   "metadata": {},
   "outputs": [],
   "source": [
    "col_index['Adj Close']\n"
   ]
  },
  {
   "cell_type": "code",
   "execution_count": null,
   "metadata": {},
   "outputs": [],
   "source": [
    "train_data_gen = TimeseriesGenerator(train_scaled_df.values, train_scaled_df['Adj Close'].values,\n",
    "                               length=look_back, sampling_rate=1,stride=1,\n",
    "                               batch_size=batch_size)"
   ]
  },
  {
   "cell_type": "code",
   "execution_count": null,
   "metadata": {},
   "outputs": [],
   "source": [
    "val_data_gen = TimeseriesGenerator(val_scaled_df.values, val_scaled_df['Adj Close'].values,\n",
    "                               length=look_back, sampling_rate=1,stride=1,\n",
    "                               batch_size=batch_size)"
   ]
  },
  {
   "cell_type": "code",
   "execution_count": null,
   "metadata": {},
   "outputs": [],
   "source": [
    "test_data_gen = TimeseriesGenerator(test_scaled_df.values, test_scaled_df['Adj Close'].values,\n",
    "                               length=look_back, sampling_rate=1,stride=1,\n",
    "                               batch_size=3)"
   ]
  },
  {
   "cell_type": "code",
   "execution_count": null,
   "metadata": {},
   "outputs": [],
   "source": [
    "ex_X, ex_y = train_data_gen[0]\n",
    "ex_X.shape"
   ]
  },
  {
   "cell_type": "code",
   "execution_count": null,
   "metadata": {},
   "outputs": [],
   "source": [
    "sample = ex_X[0]\n",
    "sample.shape"
   ]
  },
  {
   "cell_type": "code",
   "execution_count": null,
   "metadata": {},
   "outputs": [],
   "source": [
    "model = Sequential()\n",
    "\n",
    "model.add(LSTM(units = 50, return_sequences = True, input_shape=sample.shape))\n",
    "model.add(Dropout(0.2))\n",
    "\n",
    "model.add(LSTM(units = 50, return_sequences = True))\n",
    "model.add(Dropout(0.2))\n",
    "\n",
    "model.add(LSTM(units = 50, return_sequences = False))\n",
    "model.add(Dropout(0.2))\n",
    "\n",
    "model.add(Dense(units = 25))\n",
    "model.add(Dense(units = 1))\n",
    "\n",
    "model.compile(optimizer = 'adam', loss = 'mean_squared_error')\n",
    "\n",
    "model.summary()    "
   ]
  },
  {
   "cell_type": "code",
   "execution_count": null,
   "metadata": {},
   "outputs": [],
   "source": [
    "early_stop = EarlyStopping(monitor='val_loss', patience=3,verbose=True)\n",
    "# hist = model.fit(X_train,y_train, epochs=10,batch_size=32,callbacks=[early_stop],validation_split=0.1)     \n",
    "hist = model.fit_generator(train_data_gen, epochs=50,validation_data=val_data_gen,callbacks=[early_stop])"
   ]
  },
  {
   "cell_type": "code",
   "execution_count": null,
   "metadata": {},
   "outputs": [],
   "source": [
    "model.evaluate_generator(test_data_gen)"
   ]
  },
  {
   "cell_type": "code",
   "execution_count": null,
   "metadata": {},
   "outputs": [],
   "source": [
    "pd.DataFrame(hist.history).plot()"
   ]
  },
  {
   "cell_type": "code",
   "execution_count": null,
   "metadata": {},
   "outputs": [],
   "source": [
    "def save_model(model):\n",
    "    model.save('model_parameters')\n",
    "    model_params = keras.models.load_model('model_parameters')\n",
    "    model_params.summary()\n",
    "\n",
    "    return model_params"
   ]
  },
  {
   "cell_type": "code",
   "execution_count": null,
   "metadata": {},
   "outputs": [],
   "source": [
    "model_params = save_model(model)"
   ]
  },
  {
   "cell_type": "code",
   "execution_count": null,
   "metadata": {},
   "outputs": [],
   "source": [
    "trainPredict = model.predict_generator(train_data_gen)\n",
    "trainPredict.shape"
   ]
  },
  {
   "cell_type": "code",
   "execution_count": null,
   "metadata": {},
   "outputs": [],
   "source": [
    "testPredict = model.predict_generator(test_data_gen)\n",
    "testPredict.shape"
   ]
  },
  {
   "cell_type": "code",
   "execution_count": null,
   "metadata": {},
   "outputs": [],
   "source": [
    "trainPredict.shape"
   ]
  },
  {
   "cell_type": "code",
   "execution_count": null,
   "metadata": {},
   "outputs": [],
   "source": [
    "y_hat_train = pd.Series(trainPredict.flatten(),index=train.index[look_back:])\n",
    "len(y_hat_train)"
   ]
  },
  {
   "cell_type": "code",
   "execution_count": null,
   "metadata": {},
   "outputs": [],
   "source": [
    "y_hat_train.plot()"
   ]
  },
  {
   "cell_type": "code",
   "execution_count": null,
   "metadata": {},
   "outputs": [],
   "source": [
    "#y_hat_train = pd.Series(testPredict.\n",
    "y_hat_test = pd.Series(testPredict.flatten(),index=test.index[look_back:])\n",
    "len(y_hat_test)"
   ]
  },
  {
   "cell_type": "code",
   "execution_count": null,
   "metadata": {},
   "outputs": [],
   "source": [
    "y_train = get_y_from_df(train_scaled_df,look_back)\n",
    "y_test = get_y_from_df(test_scaled_df,look_back)\n",
    "y_train = get_y_from_df(train_scaled_df,look_back)\n",
    "y_val = get_y_from_df(val_scaled_df,look_back)"
   ]
  },
  {
   "cell_type": "code",
   "execution_count": null,
   "metadata": {},
   "outputs": [],
   "source": [
    "\n",
    "# calculate root mean squared error\n",
    "trainScore = math.sqrt(mean_squared_error(y_train, y_hat_train))\n",
    "print('Train Score: %.2f RMSE' % (trainScore))\n",
    "testScore = math.sqrt(mean_squared_error(y_test, y_hat_test))\n",
    "print('Test Score: %.2f RMSE' % (testScore))"
   ]
  },
  {
   "cell_type": "code",
   "execution_count": null,
   "metadata": {},
   "outputs": [],
   "source": [
    "plt.figure(figsize=(12,6))\n",
    "y_train.plot(label='train')\n",
    "y_test.plot(label='test')\n",
    "y_val.plot(label='val')\n",
    "y_hat_test.plot(label='Prediction')\n",
    "#lt.legend(['Valid','Train','Predictions'],loc='uppper left')\n",
    "plt.legend()"
   ]
  },
  {
   "cell_type": "code",
   "execution_count": null,
   "metadata": {},
   "outputs": [],
   "source": [
    "def get_quote(new_df):\n",
    "    #get last 60days closing values and convert datframe to an array\n",
    "    last_60_days = new_df[-60:].values #converts to array\n",
    "    #scale data\n",
    "    last_60_days_scaled = scaler.transform(last_60_days)\n",
    "    #create empty list\n",
    "    x_test = []\n",
    "    #append last 60 days to x_test\n",
    "    x_test.append(last_60_days_scaled)\n",
    "    #conert x_test to a numpy array\n",
    "    x_test = np.array(x_test)\n",
    "    # #reshape the data\n",
    "    x_test = np.reshape(x_test, (x_test.shape[0],x_test.shape[1],1))\n",
    "    #get the predicted scaled price\n",
    "    pred_price = model.predict(x_test)\n",
    "    #undo the scaling \n",
    "    pred_price = scaler.inverse_transform(pred_price) \n",
    "    #what model thinks predicted price will be for 12/18/2019\n",
    "    #the actual prcie was $69.94\n",
    "    #DAL: 58.58, 2021-1-11 40.19\n",
    "    return pred_price    "
   ]
  },
  {
   "cell_type": "code",
   "execution_count": null,
   "metadata": {},
   "outputs": [],
   "source": [
    "#get_quote(single_stock[['Adj Close']])"
   ]
  },
  {
   "cell_type": "markdown",
   "metadata": {},
   "source": [
    "### Multi-Series Forecasting"
   ]
  },
  {
   "cell_type": "code",
   "execution_count": null,
   "metadata": {},
   "outputs": [],
   "source": [
    "df_multi = multiple_stock_data(ticker=[['PFE','JNJ','NVAX','MRNA','AZN']], start='12-31-2018',end='today',plot=True, stock_value='Adj Close');\n",
    "df_multi #;"
   ]
  },
  {
   "cell_type": "code",
   "execution_count": null,
   "metadata": {},
   "outputs": [],
   "source": [
    "len(df_multi), len(dataset_delta_AMAZN)"
   ]
  },
  {
   "cell_type": "code",
   "execution_count": null,
   "metadata": {},
   "outputs": [],
   "source": [
    "dataset_x = delta_time_series(df_multi)\n",
    "dataset_x "
   ]
  },
  {
   "cell_type": "code",
   "execution_count": null,
   "metadata": {},
   "outputs": [],
   "source": [
    "dataset_y= delta_time_series(dataset_delta_AMAZN)\n",
    "dataset_y "
   ]
  },
  {
   "cell_type": "code",
   "execution_count": null,
   "metadata": {},
   "outputs": [],
   "source": [
    "# normalize the dataset\n",
    "scaler_multi = MinMaxScaler(feature_range=(0, 1))\n",
    "scaler_multi.fit_transform(dataset_x.reshape(-1, 1))\n",
    "dataset_x = scaler_multi.transform(dataset_x)\n",
    "dataset_y = scaler_multi.transform(dataset_y)\n",
    "# split into train and test sets\n",
    "train_size = int(len(dataset_x) * 0.67)\n",
    "test_size = len(dataset_x) - train_size\n",
    "train_x, test_x = dataset_x[0:train_size,:], dataset_x[train_size:len(dataset_x),:]\n",
    "train_y, test_y = dataset_y[0:train_size,:], dataset_y[train_size:len(dataset_y),:]"
   ]
  },
  {
   "cell_type": "code",
   "execution_count": null,
   "metadata": {},
   "outputs": [],
   "source": [
    "train_x.shape,train_y.shape, test_x.shape, test_y.shape"
   ]
  },
  {
   "cell_type": "code",
   "execution_count": null,
   "metadata": {},
   "outputs": [],
   "source": [
    "train_data_gen = TimeseriesGenerator(train_x, train_y,\n",
    "                               length=look_back, sampling_rate=1,stride=1,\n",
    "                               batch_size=3)"
   ]
  },
  {
   "cell_type": "code",
   "execution_count": null,
   "metadata": {},
   "outputs": [],
   "source": [
    "test_data_gen = TimeseriesGenerator(test_x, test_y,\n",
    "                               length=look_back, sampling_rate=1,stride=1,\n",
    "                               batch_size=1)"
   ]
  },
  {
   "cell_type": "code",
   "execution_count": null,
   "metadata": {},
   "outputs": [],
   "source": []
  }
 ],
 "metadata": {
  "kernelspec": {
   "display_name": "Python 3",
   "language": "python",
   "name": "python3"
  },
  "language_info": {
   "codemirror_mode": {
    "name": "ipython",
    "version": 3
   },
   "file_extension": ".py",
   "mimetype": "text/x-python",
   "name": "python",
   "nbconvert_exporter": "python",
   "pygments_lexer": "ipython3",
   "version": "3.6.9"
  },
  "toc": {
   "base_numbering": 1,
   "nav_menu": {},
   "number_sections": true,
   "sideBar": true,
   "skip_h1_title": false,
   "title_cell": "Table of Contents",
   "title_sidebar": "Contents",
   "toc_cell": false,
   "toc_position": {},
   "toc_section_display": true,
   "toc_window_display": true
  }
 },
 "nbformat": 4,
 "nbformat_minor": 4
}
