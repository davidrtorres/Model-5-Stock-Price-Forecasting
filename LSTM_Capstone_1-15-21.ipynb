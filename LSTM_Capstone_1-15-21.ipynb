{
 "cells": [
  {
   "cell_type": "code",
   "execution_count": 1,
   "metadata": {},
   "outputs": [
    {
     "name": "stderr",
     "output_type": "stream",
     "text": [
      "Using Theano backend.\n"
     ]
    }
   ],
   "source": [
    "import pandas as pd\n",
    "import numpy as np\n",
    "import matplotlib.pyplot as plt\n",
    "%matplotlib inline\n",
    "\n",
    "from sklearn.preprocessing import MinMaxScaler\n",
    "\n",
    "import pandas_datareader.data as web\n",
    "\n",
    "#from tensorflow import keras\n",
    "from keras.models import Sequential\n",
    "from keras.layers import Dense\n",
    "from keras.layers import LSTM\n",
    "from keras.layers import Dropout\n",
    "\n",
    "import warnings\n",
    "warnings.filterwarnings('ignore')"
   ]
  },
  {
   "cell_type": "code",
   "execution_count": 2,
   "metadata": {},
   "outputs": [],
   "source": [
    "#print(keras.__version__)"
   ]
  },
  {
   "cell_type": "code",
   "execution_count": 3,
   "metadata": {},
   "outputs": [],
   "source": [
    "def stockplotter(ticker, plot=True):\n",
    "    \n",
    "    try:\n",
    "        #stock = pdr.get_data_yahoo(ticker,start,end)\n",
    "        data = {}\n",
    "        for stock in ticker:\n",
    "            data = web.DataReader(stock,'yahoo','2018','2021')['Adj Close']\n",
    "        df_1 = pd.DataFrame(data)#.reset_index()\n",
    "        if plot==True:\n",
    "            df_1.plot(figsize=(12,8))\n",
    "            plt.title(\"Housing Price Trends \")\n",
    "            #plt.set(title=f'Housing Prices by Year - {zip_df.index.freq}')\n",
    "            plt.xlabel('Year')\n",
    "            plt.ylabel('Home Prices')\n",
    "            plt.legend(bbox_to_anchor=(1.05,1),loc='upper left') \n",
    "        \n",
    "        return df_1\n",
    "     \n",
    "    except Exception as e:\n",
    "        print(\"Error occured:\", e)\n",
    "        #data = 'Incorrect Symbol'\n"
   ]
  },
  {
   "cell_type": "code",
   "execution_count": 4,
   "metadata": {},
   "outputs": [
    {
     "data": {
      "text/html": [
       "<div>\n",
       "<style scoped>\n",
       "    .dataframe tbody tr th:only-of-type {\n",
       "        vertical-align: middle;\n",
       "    }\n",
       "\n",
       "    .dataframe tbody tr th {\n",
       "        vertical-align: top;\n",
       "    }\n",
       "\n",
       "    .dataframe thead th {\n",
       "        text-align: right;\n",
       "    }\n",
       "</style>\n",
       "<table border=\"1\" class=\"dataframe\">\n",
       "  <thead>\n",
       "    <tr style=\"text-align: right;\">\n",
       "      <th>Symbols</th>\n",
       "      <th>AAPL</th>\n",
       "      <th>GOOGL</th>\n",
       "      <th>AMZN</th>\n",
       "      <th>MSFT</th>\n",
       "      <th>DAL</th>\n",
       "    </tr>\n",
       "    <tr>\n",
       "      <th>Date</th>\n",
       "      <th></th>\n",
       "      <th></th>\n",
       "      <th></th>\n",
       "      <th></th>\n",
       "      <th></th>\n",
       "    </tr>\n",
       "  </thead>\n",
       "  <tbody>\n",
       "    <tr>\n",
       "      <th>2018-01-02</th>\n",
       "      <td>41.442081</td>\n",
       "      <td>1073.209961</td>\n",
       "      <td>1189.010010</td>\n",
       "      <td>82.383636</td>\n",
       "      <td>53.520050</td>\n",
       "    </tr>\n",
       "    <tr>\n",
       "      <th>2018-01-03</th>\n",
       "      <td>41.434864</td>\n",
       "      <td>1091.520020</td>\n",
       "      <td>1204.199951</td>\n",
       "      <td>82.767044</td>\n",
       "      <td>52.529640</td>\n",
       "    </tr>\n",
       "    <tr>\n",
       "      <th>2018-01-04</th>\n",
       "      <td>41.627323</td>\n",
       "      <td>1095.760010</td>\n",
       "      <td>1209.589966</td>\n",
       "      <td>83.495522</td>\n",
       "      <td>52.529640</td>\n",
       "    </tr>\n",
       "    <tr>\n",
       "      <th>2018-01-05</th>\n",
       "      <td>42.101261</td>\n",
       "      <td>1110.290039</td>\n",
       "      <td>1229.140015</td>\n",
       "      <td>84.530701</td>\n",
       "      <td>52.793751</td>\n",
       "    </tr>\n",
       "    <tr>\n",
       "      <th>2018-01-08</th>\n",
       "      <td>41.944889</td>\n",
       "      <td>1114.209961</td>\n",
       "      <td>1246.869995</td>\n",
       "      <td>84.616966</td>\n",
       "      <td>51.576958</td>\n",
       "    </tr>\n",
       "    <tr>\n",
       "      <th>...</th>\n",
       "      <td>...</td>\n",
       "      <td>...</td>\n",
       "      <td>...</td>\n",
       "      <td>...</td>\n",
       "      <td>...</td>\n",
       "    </tr>\n",
       "    <tr>\n",
       "      <th>2020-12-24</th>\n",
       "      <td>131.970001</td>\n",
       "      <td>1734.160034</td>\n",
       "      <td>3172.689941</td>\n",
       "      <td>222.750000</td>\n",
       "      <td>39.730000</td>\n",
       "    </tr>\n",
       "    <tr>\n",
       "      <th>2020-12-28</th>\n",
       "      <td>136.690002</td>\n",
       "      <td>1773.959961</td>\n",
       "      <td>3283.959961</td>\n",
       "      <td>224.960007</td>\n",
       "      <td>40.150002</td>\n",
       "    </tr>\n",
       "    <tr>\n",
       "      <th>2020-12-29</th>\n",
       "      <td>134.869995</td>\n",
       "      <td>1757.760010</td>\n",
       "      <td>3322.000000</td>\n",
       "      <td>224.149994</td>\n",
       "      <td>40.029999</td>\n",
       "    </tr>\n",
       "    <tr>\n",
       "      <th>2020-12-30</th>\n",
       "      <td>133.720001</td>\n",
       "      <td>1736.250000</td>\n",
       "      <td>3285.850098</td>\n",
       "      <td>221.679993</td>\n",
       "      <td>40.560001</td>\n",
       "    </tr>\n",
       "    <tr>\n",
       "      <th>2020-12-31</th>\n",
       "      <td>132.690002</td>\n",
       "      <td>1752.640015</td>\n",
       "      <td>3256.929932</td>\n",
       "      <td>222.419998</td>\n",
       "      <td>40.209999</td>\n",
       "    </tr>\n",
       "  </tbody>\n",
       "</table>\n",
       "<p>756 rows × 5 columns</p>\n",
       "</div>"
      ],
      "text/plain": [
       "Symbols           AAPL        GOOGL         AMZN        MSFT        DAL\n",
       "Date                                                                   \n",
       "2018-01-02   41.442081  1073.209961  1189.010010   82.383636  53.520050\n",
       "2018-01-03   41.434864  1091.520020  1204.199951   82.767044  52.529640\n",
       "2018-01-04   41.627323  1095.760010  1209.589966   83.495522  52.529640\n",
       "2018-01-05   42.101261  1110.290039  1229.140015   84.530701  52.793751\n",
       "2018-01-08   41.944889  1114.209961  1246.869995   84.616966  51.576958\n",
       "...                ...          ...          ...         ...        ...\n",
       "2020-12-24  131.970001  1734.160034  3172.689941  222.750000  39.730000\n",
       "2020-12-28  136.690002  1773.959961  3283.959961  224.960007  40.150002\n",
       "2020-12-29  134.869995  1757.760010  3322.000000  224.149994  40.029999\n",
       "2020-12-30  133.720001  1736.250000  3285.850098  221.679993  40.560001\n",
       "2020-12-31  132.690002  1752.640015  3256.929932  222.419998  40.209999\n",
       "\n",
       "[756 rows x 5 columns]"
      ]
     },
     "execution_count": 4,
     "metadata": {},
     "output_type": "execute_result"
    },
    {
     "data": {
      "image/png": "[encoded data removed]",
      "text/plain": [
       "<Figure size 864x576 with 1 Axes>"
      ]
     },
     "metadata": {
      "needs_background": "light"
     },
     "output_type": "display_data"
    }
   ],
   "source": [
    "#df_1 = stockplotter(['XYZC'])\n",
    "df_1 = stockplotter([['AAPL','GOOGL','AMZN','MSFT','DAL']], plot=True)\n",
    "df_1"
   ]
  },
  {
   "cell_type": "code",
   "execution_count": 5,
   "metadata": {},
   "outputs": [
    {
     "data": {
      "text/plain": [
       "<matplotlib.legend.Legend at 0x7f9a34107710>"
      ]
     },
     "execution_count": 5,
     "metadata": {},
     "output_type": "execute_result"
    },
    {
     "data": {
      "image/png": "[encoded data removed]",
      "text/plain": [
       "<Figure size 864x576 with 1 Axes>"
      ]
     },
     "metadata": {
      "needs_background": "light"
     },
     "output_type": "display_data"
    }
   ],
   "source": [
    "df_1.plot(figsize=(12,8))\n",
    "plt.title(\"Stock Adj Close Price Trends \")\n",
    "#plt.set(title=f'Housing Prices by Year - {zip_df.index.freq}')\n",
    "plt.xlabel('Year')\n",
    "plt.ylabel('Prices')\n",
    "plt.legend(bbox_to_anchor=(1.05,1),loc='upper left')"
   ]
  },
  {
   "cell_type": "markdown",
   "metadata": {},
   "source": [
    "## **Forecasting**"
   ]
  },
  {
   "cell_type": "code",
   "execution_count": 50,
   "metadata": {},
   "outputs": [],
   "source": [
    "def get_data(symbol, data_source,start,end):\n",
    "    df = web.DataReader(symbol,data_source, start, end) \n",
    "    print(df.shape)\n",
    "    \n",
    "    plt.figure(figsize=(12,8))\n",
    "    plt.plot(df['Close'])\n",
    "    plt.xlabel('Date', fontsize=18)\n",
    "    plt.ylabel('Close Price USD ($)', fontsize=18)\n",
    "    return df"
   ]
  },
  {
   "cell_type": "code",
   "execution_count": 51,
   "metadata": {},
   "outputs": [
    {
     "name": "stdout",
     "output_type": "stream",
     "text": [
      "(1265, 6)\n"
     ]
    },
    {
     "data": {
      "text/html": [
       "<div>\n",
       "<style scoped>\n",
       "    .dataframe tbody tr th:only-of-type {\n",
       "        vertical-align: middle;\n",
       "    }\n",
       "\n",
       "    .dataframe tbody tr th {\n",
       "        vertical-align: top;\n",
       "    }\n",
       "\n",
       "    .dataframe thead th {\n",
       "        text-align: right;\n",
       "    }\n",
       "</style>\n",
       "<table border=\"1\" class=\"dataframe\">\n",
       "  <thead>\n",
       "    <tr style=\"text-align: right;\">\n",
       "      <th></th>\n",
       "      <th>High</th>\n",
       "      <th>Low</th>\n",
       "      <th>Open</th>\n",
       "      <th>Close</th>\n",
       "      <th>Volume</th>\n",
       "      <th>Adj Close</th>\n",
       "    </tr>\n",
       "    <tr>\n",
       "      <th>Date</th>\n",
       "      <th></th>\n",
       "      <th></th>\n",
       "      <th></th>\n",
       "      <th></th>\n",
       "      <th></th>\n",
       "      <th></th>\n",
       "    </tr>\n",
       "  </thead>\n",
       "  <tbody>\n",
       "    <tr>\n",
       "      <th>2016-01-04</th>\n",
       "      <td>73.709999</td>\n",
       "      <td>71.529999</td>\n",
       "      <td>71.839996</td>\n",
       "      <td>73.550003</td>\n",
       "      <td>8233300.0</td>\n",
       "      <td>62.800835</td>\n",
       "    </tr>\n",
       "    <tr>\n",
       "      <th>2016-01-05</th>\n",
       "      <td>75.239998</td>\n",
       "      <td>73.629997</td>\n",
       "      <td>73.739998</td>\n",
       "      <td>74.839996</td>\n",
       "      <td>8191400.0</td>\n",
       "      <td>63.902309</td>\n",
       "    </tr>\n",
       "    <tr>\n",
       "      <th>2016-01-06</th>\n",
       "      <td>74.800003</td>\n",
       "      <td>73.379997</td>\n",
       "      <td>73.800003</td>\n",
       "      <td>74.080002</td>\n",
       "      <td>4921400.0</td>\n",
       "      <td>63.253376</td>\n",
       "    </tr>\n",
       "    <tr>\n",
       "      <th>2016-01-07</th>\n",
       "      <td>76.000000</td>\n",
       "      <td>73.489998</td>\n",
       "      <td>73.580002</td>\n",
       "      <td>73.879997</td>\n",
       "      <td>11289900.0</td>\n",
       "      <td>63.082607</td>\n",
       "    </tr>\n",
       "    <tr>\n",
       "      <th>2016-01-08</th>\n",
       "      <td>74.790001</td>\n",
       "      <td>71.269997</td>\n",
       "      <td>74.209999</td>\n",
       "      <td>71.379997</td>\n",
       "      <td>7749000.0</td>\n",
       "      <td>60.947964</td>\n",
       "    </tr>\n",
       "    <tr>\n",
       "      <th>...</th>\n",
       "      <td>...</td>\n",
       "      <td>...</td>\n",
       "      <td>...</td>\n",
       "      <td>...</td>\n",
       "      <td>...</td>\n",
       "      <td>...</td>\n",
       "    </tr>\n",
       "    <tr>\n",
       "      <th>2021-01-05</th>\n",
       "      <td>181.970001</td>\n",
       "      <td>176.429993</td>\n",
       "      <td>176.800003</td>\n",
       "      <td>180.369995</td>\n",
       "      <td>4843300.0</td>\n",
       "      <td>180.369995</td>\n",
       "    </tr>\n",
       "    <tr>\n",
       "      <th>2021-01-06</th>\n",
       "      <td>189.470001</td>\n",
       "      <td>180.110001</td>\n",
       "      <td>180.330002</td>\n",
       "      <td>188.919998</td>\n",
       "      <td>5610100.0</td>\n",
       "      <td>188.919998</td>\n",
       "    </tr>\n",
       "    <tr>\n",
       "      <th>2021-01-07</th>\n",
       "      <td>192.350006</td>\n",
       "      <td>189.169998</td>\n",
       "      <td>189.210007</td>\n",
       "      <td>191.100006</td>\n",
       "      <td>4226700.0</td>\n",
       "      <td>191.100006</td>\n",
       "    </tr>\n",
       "    <tr>\n",
       "      <th>2021-01-08</th>\n",
       "      <td>193.880005</td>\n",
       "      <td>190.809998</td>\n",
       "      <td>191.580002</td>\n",
       "      <td>193.600006</td>\n",
       "      <td>3320900.0</td>\n",
       "      <td>193.600006</td>\n",
       "    </tr>\n",
       "    <tr>\n",
       "      <th>2021-01-11</th>\n",
       "      <td>199.500000</td>\n",
       "      <td>192.190002</td>\n",
       "      <td>193.039993</td>\n",
       "      <td>195.279999</td>\n",
       "      <td>7222000.0</td>\n",
       "      <td>195.279999</td>\n",
       "    </tr>\n",
       "  </tbody>\n",
       "</table>\n",
       "<p>1265 rows × 6 columns</p>\n",
       "</div>"
      ],
      "text/plain": [
       "                  High         Low        Open       Close      Volume  \\\n",
       "Date                                                                     \n",
       "2016-01-04   73.709999   71.529999   71.839996   73.550003   8233300.0   \n",
       "2016-01-05   75.239998   73.629997   73.739998   74.839996   8191400.0   \n",
       "2016-01-06   74.800003   73.379997   73.800003   74.080002   4921400.0   \n",
       "2016-01-07   76.000000   73.489998   73.580002   73.879997  11289900.0   \n",
       "2016-01-08   74.790001   71.269997   74.209999   71.379997   7749000.0   \n",
       "...                ...         ...         ...         ...         ...   \n",
       "2021-01-05  181.970001  176.429993  176.800003  180.369995   4843300.0   \n",
       "2021-01-06  189.470001  180.110001  180.330002  188.919998   5610100.0   \n",
       "2021-01-07  192.350006  189.169998  189.210007  191.100006   4226700.0   \n",
       "2021-01-08  193.880005  190.809998  191.580002  193.600006   3320900.0   \n",
       "2021-01-11  199.500000  192.190002  193.039993  195.279999   7222000.0   \n",
       "\n",
       "             Adj Close  \n",
       "Date                    \n",
       "2016-01-04   62.800835  \n",
       "2016-01-05   63.902309  \n",
       "2016-01-06   63.253376  \n",
       "2016-01-07   63.082607  \n",
       "2016-01-08   60.947964  \n",
       "...                ...  \n",
       "2021-01-05  180.369995  \n",
       "2021-01-06  188.919998  \n",
       "2021-01-07  191.100006  \n",
       "2021-01-08  193.600006  \n",
       "2021-01-11  195.279999  \n",
       "\n",
       "[1265 rows x 6 columns]"
      ]
     },
     "execution_count": 51,
     "metadata": {},
     "output_type": "execute_result"
    },
    {
     "data": {
      "image/png": "[encoded data removed]",
      "text/plain": [
       "<Figure size 864x576 with 1 Axes>"
      ]
     },
     "metadata": {
      "needs_background": "light"
     },
     "output_type": "display_data"
    }
   ],
   "source": [
    "the_data = get_data('TGT',data_source='yahoo', start='2016-01-01',end='2021-1-11')\n",
    "the_data"
   ]
  },
  {
   "cell_type": "code",
   "execution_count": 52,
   "metadata": {},
   "outputs": [],
   "source": [
    "#df = pd.read_csv('data/apple_2012_1_1-2019_12_17.csv', parse_dates=True, index_col=[0])\n",
    "\n",
    "#Get the stock quote \n",
    "#df = web.DataReader('TGT', data_source='yahoo', start='2016-01-01', end='2021-1-11') "
   ]
  },
  {
   "cell_type": "code",
   "execution_count": 53,
   "metadata": {},
   "outputs": [],
   "source": [
    "#df.head()"
   ]
  },
  {
   "cell_type": "code",
   "execution_count": 54,
   "metadata": {},
   "outputs": [],
   "source": [
    "#df.shape"
   ]
  },
  {
   "cell_type": "code",
   "execution_count": 55,
   "metadata": {},
   "outputs": [],
   "source": [
    "# plt.figure(figsize=(12,8))\n",
    "# plt.plot(df['Close'])\n",
    "# plt.xlabel('Date', fontsize=18)\n",
    "# plt.ylabel('Close Price USD ($)', fontsize=18)"
   ]
  },
  {
   "cell_type": "code",
   "execution_count": 56,
   "metadata": {},
   "outputs": [],
   "source": [
    "#df = df.diff().dropna() #zip_df[11226].diff().dropna()"
   ]
  },
  {
   "cell_type": "code",
   "execution_count": 57,
   "metadata": {},
   "outputs": [],
   "source": [
    "#dataset = df['Close']\n",
    "# dataset = data.values"
   ]
  },
  {
   "cell_type": "code",
   "execution_count": 58,
   "metadata": {},
   "outputs": [],
   "source": [
    "def preprocessing(df,percentage):\n",
    "    training_data_len = int(np.round(len(df) * percentage))\n",
    "    dataset = pd.DataFrame(df)\n",
    "    scaler = MinMaxScaler(feature_range = (0, 1))\n",
    "    scaled_data = scaler.fit_transform(dataset)\n",
    "    return training_data_len, dataset, scaler, scaled_data"
   ]
  },
  {
   "cell_type": "code",
   "execution_count": 59,
   "metadata": {},
   "outputs": [],
   "source": [
    "#training_data_len, dataset, scaler, scaled_data = preprocessing(df['Close'], percentage=.8)\n",
    "training_data_len, dataset, scaler, scaled_data = preprocessing(the_data['Close'], percentage=.8)"
   ]
  },
  {
   "cell_type": "code",
   "execution_count": 60,
   "metadata": {},
   "outputs": [],
   "source": [
    "#training_data_len = int(np.round(len(dataset) * .8))"
   ]
  },
  {
   "cell_type": "code",
   "execution_count": 61,
   "metadata": {},
   "outputs": [
    {
     "data": {
      "text/plain": [
       "1012"
      ]
     },
     "execution_count": 61,
     "metadata": {},
     "output_type": "execute_result"
    }
   ],
   "source": [
    "training_data_len"
   ]
  },
  {
   "cell_type": "code",
   "execution_count": 62,
   "metadata": {},
   "outputs": [],
   "source": [
    "def create_sets(training_data_len):\n",
    "    #create training data set\n",
    "    train_data = scaled_data[0:training_data_len,:]\n",
    "    test_data = scaled_data[training_data_len -60:,:] #to 2003 which is end of dataset\n",
    "    #split data into X_train and y_train data sets\n",
    "    X_train = []\n",
    "    y_train = []\n",
    "    #create dataset X_test and y_test data sets\n",
    "    X_test = []\n",
    "    y_test = []    #dataset.iloc[training_data_len:, :]\n",
    "\n",
    "\n",
    "    for i in range(60, len(train_data)):\n",
    "        X_train.append(train_data[i-60:i])\n",
    "        y_train.append(train_data[i,0]) #will contain 61st value which will be at position 60\n",
    "\n",
    "    for i in range(60, len(test_data)):\n",
    "        X_test.append(test_data[i-60:i,0]) \n",
    "        y_test.append(test_data[i,0])\n",
    "        \n",
    "    X_train, y_train = np.array(X_train), np.array(y_train)  \n",
    "    X_test = np.array(X_test) #added\n",
    "    X_test = np.reshape(X_test,(X_test.shape[0],X_test.shape[1],1)) #added\n",
    "    y_test = np.array(y_test)\n",
    "        \n",
    "    return X_train, X_test, y_train, y_test    "
   ]
  },
  {
   "cell_type": "code",
   "execution_count": 63,
   "metadata": {},
   "outputs": [],
   "source": [
    "X_train, X_test, y_train, y_test = create_sets(training_data_len)"
   ]
  },
  {
   "cell_type": "code",
   "execution_count": 64,
   "metadata": {},
   "outputs": [
    {
     "data": {
      "text/plain": [
       "60"
      ]
     },
     "execution_count": 64,
     "metadata": {},
     "output_type": "execute_result"
    }
   ],
   "source": [
    "len(X_train[0])"
   ]
  },
  {
   "cell_type": "code",
   "execution_count": 65,
   "metadata": {},
   "outputs": [
    {
     "data": {
      "text/plain": [
       "array([[[0.16106136],\n",
       "        [0.16995173],\n",
       "        [0.164714  ],\n",
       "        ...,\n",
       "        [0.2248105 ],\n",
       "        [0.22598209],\n",
       "        [0.2303239 ]],\n",
       "\n",
       "       [[0.16995173],\n",
       "        [0.164714  ],\n",
       "        [0.16333561],\n",
       "        ...,\n",
       "        [0.22598209],\n",
       "        [0.2303239 ],\n",
       "        [0.22122673]],\n",
       "\n",
       "       [[0.164714  ],\n",
       "        [0.16333561],\n",
       "        [0.14610611],\n",
       "        ...,\n",
       "        [0.2303239 ],\n",
       "        [0.22122673],\n",
       "        [0.22453482]],\n",
       "\n",
       "       ...,\n",
       "\n",
       "       [[0.41619573],\n",
       "        [0.42487941],\n",
       "        [0.42019298],\n",
       "        ...,\n",
       "        [0.52301861],\n",
       "        [0.51399037],\n",
       "        [0.50585804]],\n",
       "\n",
       "       [[0.42487941],\n",
       "        [0.42019298],\n",
       "        [0.4252929 ],\n",
       "        ...,\n",
       "        [0.51399037],\n",
       "        [0.50585804],\n",
       "        [0.50737425]],\n",
       "\n",
       "       [[0.42019298],\n",
       "        [0.4252929 ],\n",
       "        [0.42736046],\n",
       "        ...,\n",
       "        [0.50585804],\n",
       "        [0.50737425],\n",
       "        [0.50461752]]])"
      ]
     },
     "execution_count": 65,
     "metadata": {},
     "output_type": "execute_result"
    }
   ],
   "source": [
    "X_train"
   ]
  },
  {
   "cell_type": "code",
   "execution_count": 66,
   "metadata": {},
   "outputs": [
    {
     "data": {
      "text/plain": [
       "(952, 60, 1)"
      ]
     },
     "execution_count": 66,
     "metadata": {},
     "output_type": "execute_result"
    }
   ],
   "source": [
    "X_train.shape"
   ]
  },
  {
   "cell_type": "code",
   "execution_count": 67,
   "metadata": {},
   "outputs": [],
   "source": [
    "\n",
    "model = Sequential()\n",
    "\n",
    "model.add(LSTM(units = 50, return_sequences = True, input_shape=(X_train.shape[1],1)))\n",
    "model.add(Dropout(0.2))\n",
    "\n",
    "model.add(LSTM(units = 50, return_sequences = True))\n",
    "model.add(Dropout(0.2))\n",
    "\n",
    "model.add(LSTM(units = 50, return_sequences = False))\n",
    "model.add(Dropout(0.2))\n",
    "\n",
    "model.add(Dense(units = 25))\n",
    "model.add(Dense(units = 1))\n",
    "\n",
    "model.compile(optimizer = 'adam', loss = 'mean_squared_error')\n"
   ]
  },
  {
   "cell_type": "code",
   "execution_count": 68,
   "metadata": {},
   "outputs": [
    {
     "name": "stdout",
     "output_type": "stream",
     "text": [
      "Model: \"sequential_2\"\n",
      "_________________________________________________________________\n",
      "Layer (type)                 Output Shape              Param #   \n",
      "=================================================================\n",
      "lstm_4 (LSTM)                (None, 60, 50)            10400     \n",
      "_________________________________________________________________\n",
      "dropout_4 (Dropout)          (None, 60, 50)            0         \n",
      "_________________________________________________________________\n",
      "lstm_5 (LSTM)                (None, 60, 50)            20200     \n",
      "_________________________________________________________________\n",
      "dropout_5 (Dropout)          (None, 60, 50)            0         \n",
      "_________________________________________________________________\n",
      "lstm_6 (LSTM)                (None, 50)                20200     \n",
      "_________________________________________________________________\n",
      "dropout_6 (Dropout)          (None, 50)                0         \n",
      "_________________________________________________________________\n",
      "dense_3 (Dense)              (None, 25)                1275      \n",
      "_________________________________________________________________\n",
      "dense_4 (Dense)              (None, 1)                 26        \n",
      "=================================================================\n",
      "Total params: 52,101\n",
      "Trainable params: 52,101\n",
      "Non-trainable params: 0\n",
      "_________________________________________________________________\n"
     ]
    }
   ],
   "source": [
    "model.summary()"
   ]
  },
  {
   "cell_type": "code",
   "execution_count": 69,
   "metadata": {},
   "outputs": [
    {
     "name": "stdout",
     "output_type": "stream",
     "text": [
      "Epoch 1/50\n",
      "952/952 [==============================] - 3s 3ms/step - loss: 0.0075\n",
      "Epoch 2/50\n",
      "952/952 [==============================] - 3s 4ms/step - loss: 0.0015\n",
      "Epoch 3/50\n",
      "952/952 [==============================] - 3s 3ms/step - loss: 0.0012\n",
      "Epoch 4/50\n",
      "952/952 [==============================] - 3s 3ms/step - loss: 0.0012\n",
      "Epoch 5/50\n",
      "952/952 [==============================] - 3s 4ms/step - loss: 9.8513e-04\n",
      "Epoch 6/50\n",
      "952/952 [==============================] - 3s 4ms/step - loss: 9.3939e-04\n",
      "Epoch 7/50\n",
      "952/952 [==============================] - 3s 4ms/step - loss: 9.0387e-04\n",
      "Epoch 8/50\n",
      "952/952 [==============================] - 3s 4ms/step - loss: 8.6748e-04\n",
      "Epoch 9/50\n",
      "952/952 [==============================] - 4s 4ms/step - loss: 7.9723e-04\n",
      "Epoch 10/50\n",
      "952/952 [==============================] - 3s 4ms/step - loss: 7.3242e-04\n",
      "Epoch 11/50\n",
      "952/952 [==============================] - 3s 4ms/step - loss: 7.4993e-04\n",
      "Epoch 12/50\n",
      "952/952 [==============================] - 5s 5ms/step - loss: 6.7744e-04\n",
      "Epoch 13/50\n",
      "952/952 [==============================] - 5s 5ms/step - loss: 7.0503e-04\n",
      "Epoch 14/50\n",
      "952/952 [==============================] - 5s 5ms/step - loss: 5.7554e-04\n",
      "Epoch 15/50\n",
      "952/952 [==============================] - 6s 7ms/step - loss: 6.7785e-04\n",
      "Epoch 16/50\n",
      "952/952 [==============================] - 7s 7ms/step - loss: 6.7264e-04\n",
      "Epoch 17/50\n",
      "952/952 [==============================] - 4s 4ms/step - loss: 5.9778e-04\n",
      "Epoch 18/50\n",
      "952/952 [==============================] - 3s 4ms/step - loss: 5.5811e-04\n",
      "Epoch 19/50\n",
      "952/952 [==============================] - 3s 4ms/step - loss: 5.1533e-04\n",
      "Epoch 20/50\n",
      "952/952 [==============================] - 3s 4ms/step - loss: 5.2603e-04\n",
      "Epoch 21/50\n",
      "952/952 [==============================] - 4s 4ms/step - loss: 5.9116e-04\n",
      "Epoch 22/50\n",
      "952/952 [==============================] - 4s 4ms/step - loss: 6.4337e-04\n",
      "Epoch 23/50\n",
      "952/952 [==============================] - 3s 4ms/step - loss: 5.4311e-04\n",
      "Epoch 24/50\n",
      "952/952 [==============================] - 3s 4ms/step - loss: 4.8011e-04\n",
      "Epoch 25/50\n",
      "952/952 [==============================] - 5s 5ms/step - loss: 4.9204e-04\n",
      "Epoch 26/50\n",
      "952/952 [==============================] - 4s 4ms/step - loss: 4.8556e-04\n",
      "Epoch 27/50\n",
      "952/952 [==============================] - 3s 4ms/step - loss: 4.7206e-04\n",
      "Epoch 28/50\n",
      "952/952 [==============================] - 4s 4ms/step - loss: 5.1901e-04\n",
      "Epoch 29/50\n",
      "952/952 [==============================] - 4s 4ms/step - loss: 4.3773e-04\n",
      "Epoch 30/50\n",
      "952/952 [==============================] - 4s 5ms/step - loss: 4.5233e-04\n",
      "Epoch 31/50\n",
      "952/952 [==============================] - 4s 4ms/step - loss: 4.6898e-04\n",
      "Epoch 32/50\n",
      "952/952 [==============================] - 4s 4ms/step - loss: 4.9002e-04\n",
      "Epoch 33/50\n",
      "952/952 [==============================] - 3s 4ms/step - loss: 4.3116e-04\n",
      "Epoch 34/50\n",
      "952/952 [==============================] - 3s 4ms/step - loss: 4.2832e-04\n",
      "Epoch 35/50\n",
      "952/952 [==============================] - 4s 4ms/step - loss: 4.9250e-04\n",
      "Epoch 36/50\n",
      "952/952 [==============================] - 3s 4ms/step - loss: 4.3270e-04\n",
      "Epoch 37/50\n",
      "952/952 [==============================] - 4s 5ms/step - loss: 4.0995e-04\n",
      "Epoch 38/50\n",
      "952/952 [==============================] - 7s 7ms/step - loss: 4.1795e-04\n",
      "Epoch 39/50\n",
      "952/952 [==============================] - 4s 4ms/step - loss: 4.1983e-04\n",
      "Epoch 40/50\n",
      "952/952 [==============================] - 4s 4ms/step - loss: 4.3907e-04\n",
      "Epoch 41/50\n",
      "952/952 [==============================] - 3s 4ms/step - loss: 4.0981e-04\n",
      "Epoch 42/50\n",
      "952/952 [==============================] - 3s 4ms/step - loss: 4.3228e-04\n",
      "Epoch 43/50\n",
      "952/952 [==============================] - 3s 4ms/step - loss: 3.4641e-04\n",
      "Epoch 44/50\n",
      "952/952 [==============================] - 4s 4ms/step - loss: 4.6596e-04\n",
      "Epoch 45/50\n",
      "952/952 [==============================] - 5s 5ms/step - loss: 3.9931e-04\n",
      "Epoch 46/50\n",
      "952/952 [==============================] - 5s 6ms/step - loss: 4.4461e-04\n",
      "Epoch 47/50\n",
      "952/952 [==============================] - 3s 4ms/step - loss: 3.9935e-04\n",
      "Epoch 48/50\n",
      "952/952 [==============================] - 5s 6ms/step - loss: 4.0294e-04\n",
      "Epoch 49/50\n",
      "952/952 [==============================] - 4s 4ms/step - loss: 5.6370e-04\n",
      "Epoch 50/50\n",
      "952/952 [==============================] - 4s 4ms/step - loss: 3.9398e-04\n"
     ]
    },
    {
     "data": {
      "text/plain": [
       "<keras.callbacks.callbacks.History at 0x7f9a21240f28>"
      ]
     },
     "execution_count": 69,
     "metadata": {},
     "output_type": "execute_result"
    }
   ],
   "source": [
    "#train the model\n",
    "#model checkpoint save_weights_only=True\n",
    "#fresh_model.load_weights  load_model\n",
    "#model.save(), load_model('')\n",
    "model.fit(X_train,y_train, epochs=50, batch_size=32 ) "
   ]
  },
  {
   "cell_type": "code",
   "execution_count": 70,
   "metadata": {},
   "outputs": [
    {
     "data": {
      "text/plain": [
       "'/Users/davidtorres/Flatiron_041320/Model_5/dsc-capstone-project-v2-onl01-dtsc-pt-041320'"
      ]
     },
     "execution_count": 70,
     "metadata": {},
     "output_type": "execute_result"
    }
   ],
   "source": [
    "pwd"
   ]
  },
  {
   "cell_type": "code",
   "execution_count": 71,
   "metadata": {},
   "outputs": [],
   "source": [
    "model.save('model_parameters')"
   ]
  },
  {
   "cell_type": "code",
   "execution_count": 72,
   "metadata": {},
   "outputs": [],
   "source": [
    "\n",
    "from keras.models import load_model"
   ]
  },
  {
   "cell_type": "code",
   "execution_count": 73,
   "metadata": {},
   "outputs": [],
   "source": [
    "import keras"
   ]
  },
  {
   "cell_type": "code",
   "execution_count": 74,
   "metadata": {
    "scrolled": false
   },
   "outputs": [
    {
     "name": "stdout",
     "output_type": "stream",
     "text": [
      "Model: \"sequential_2\"\n",
      "_________________________________________________________________\n",
      "Layer (type)                 Output Shape              Param #   \n",
      "=================================================================\n",
      "lstm_4 (LSTM)                (None, 60, 50)            10400     \n",
      "_________________________________________________________________\n",
      "dropout_4 (Dropout)          (None, 60, 50)            0         \n",
      "_________________________________________________________________\n",
      "lstm_5 (LSTM)                (None, 60, 50)            20200     \n",
      "_________________________________________________________________\n",
      "dropout_5 (Dropout)          (None, 60, 50)            0         \n",
      "_________________________________________________________________\n",
      "lstm_6 (LSTM)                (None, 50)                20200     \n",
      "_________________________________________________________________\n",
      "dropout_6 (Dropout)          (None, 50)                0         \n",
      "_________________________________________________________________\n",
      "dense_3 (Dense)              (None, 25)                1275      \n",
      "_________________________________________________________________\n",
      "dense_4 (Dense)              (None, 1)                 26        \n",
      "=================================================================\n",
      "Total params: 52,101\n",
      "Trainable params: 52,101\n",
      "Non-trainable params: 0\n",
      "_________________________________________________________________\n"
     ]
    }
   ],
   "source": [
    "model_params = keras.models.load_model('model_parameters')\n",
    "#model1 = load_model(model_params)\n",
    "\n",
    "# summarize model.\n",
    "model_params.summary()"
   ]
  },
  {
   "cell_type": "code",
   "execution_count": 75,
   "metadata": {},
   "outputs": [],
   "source": [
    "#convert data to a numpy array\n",
    "#X_test = np.array(X_test)"
   ]
  },
  {
   "cell_type": "code",
   "execution_count": 76,
   "metadata": {},
   "outputs": [
    {
     "data": {
      "text/plain": [
       "(253, 60, 1)"
      ]
     },
     "execution_count": 76,
     "metadata": {},
     "output_type": "execute_result"
    }
   ],
   "source": [
    "X_test.shape"
   ]
  },
  {
   "cell_type": "code",
   "execution_count": 77,
   "metadata": {},
   "outputs": [],
   "source": [
    "#number of rows, number of timeseteps, number of features\n",
    "#X_test = np.reshape(X_test,(X_test.shape[0],X_test.shape[1],1))"
   ]
  },
  {
   "cell_type": "code",
   "execution_count": 78,
   "metadata": {},
   "outputs": [
    {
     "data": {
      "text/plain": [
       "(253, 60, 1)"
      ]
     },
     "execution_count": 78,
     "metadata": {},
     "output_type": "execute_result"
    }
   ],
   "source": [
    "X_test.shape"
   ]
  },
  {
   "cell_type": "code",
   "execution_count": 79,
   "metadata": {},
   "outputs": [],
   "source": [
    "#get models predicted price values for X_test dataset\n",
    "#want predcitions to contain same values as y_test dataset once we inverse_transform\n",
    "#getting predcitiosn off of X_test\n",
    "predictions = model.predict(X_test)\n",
    "prediction_unscaled = scaler.inverse_transform(predictions) #unscaling the values"
   ]
  },
  {
   "cell_type": "code",
   "execution_count": 80,
   "metadata": {},
   "outputs": [],
   "source": [
    "#predictions_y = model.predict(X_test)\n",
    "y_test_unscaled = scaler.inverse_transform(y_test.reshape(-1,1)) #unscaling the values"
   ]
  },
  {
   "cell_type": "code",
   "execution_count": 81,
   "metadata": {},
   "outputs": [
    {
     "data": {
      "text/plain": [
       "array([0.51378362, 0.50785667, 0.51743627, 0.46051   , 0.45582357,\n",
       "       0.45995864, 0.44011028, 0.43914543, 0.45037904, 0.44203997,\n",
       "       0.45210199, 0.44975881, 0.44169536, 0.44445209, 0.41736732,\n",
       "       0.42956583, 0.43466575, 0.45037904, 0.44769125, 0.4509304 ,\n",
       "       0.46037218, 0.45837356, 0.4681599 , 0.46933149, 0.45796001,\n",
       "       0.4662302 , 0.46319779, 0.46919368, 0.46057893, 0.4383184 ,\n",
       "       0.42412131, 0.41681602, 0.38208134, 0.36402481, 0.4057891 ,\n",
       "       0.3835975 , 0.39724328, 0.38449346, 0.3843556 , 0.37112336,\n",
       "       0.40075811, 0.38180567, 0.29248796, 0.35037903, 0.30055135,\n",
       "       0.36836663, 0.36278429, 0.34679532, 0.32543075, 0.32053758,\n",
       "       0.34720881, 0.2815989 , 0.31626464, 0.30709854, 0.31585115,\n",
       "       0.29490008, 0.31075118, 0.30447967, 0.29214335, 0.32618885,\n",
       "       0.3313577 , 0.37525843, 0.37229495, 0.37560304, 0.40110267,\n",
       "       0.38635423, 0.40744317, 0.43583734, 0.40523779, 0.39090284,\n",
       "       0.39048929, 0.36995176, 0.39724328, 0.41144037, 0.426051  ,\n",
       "       0.42674017, 0.41047552, 0.40006894, 0.42405237, 0.42439698,\n",
       "       0.43694006, 0.43542385, 0.4524466 , 0.48242592, 0.47698139,\n",
       "       0.47525844, 0.4807719 , 0.4876637 , 0.51702273, 0.50303238,\n",
       "       0.47863541, 0.47208822, 0.46388696, 0.44755343, 0.46333566,\n",
       "       0.47036527, 0.4972433 , 0.47767056, 0.47325981, 0.49310823,\n",
       "       0.48090971, 0.49172984, 0.49751897, 0.4861475 , 0.48118539,\n",
       "       0.46747073, 0.45982083, 0.46843558, 0.47574086, 0.46926256,\n",
       "       0.46257756, 0.48504478, 0.49793247, 0.49152309, 0.4792557 ,\n",
       "       0.47987593, 0.46064781, 0.47133012, 0.48070297, 0.47401792,\n",
       "       0.47512063, 0.47594761, 0.46781529, 0.46533423, 0.46671263,\n",
       "       0.47332875, 0.47243283, 0.48173675, 0.49269468, 0.49462438,\n",
       "       0.49269468, 0.47994487, 0.48256373, 0.50282564, 0.49738111,\n",
       "       0.50675396, 0.49972435, 0.50385942, 0.50654721, 0.51274984,\n",
       "       0.52170915, 0.53521707, 0.55320467, 0.54576151, 0.54328046,\n",
       "       0.56216403, 0.57036529, 0.56195728, 0.5818057 , 0.58325292,\n",
       "       0.59510682, 0.60689184, 0.59765675, 0.71702276, 0.70337702,\n",
       "       0.71295662, 0.71026882, 0.70758103, 0.70661618, 0.6900758 ,\n",
       "       0.69379743, 0.69627848, 0.69172987, 0.68683664, 0.66057891,\n",
       "       0.66884905, 0.64658856, 0.67105447, 0.66064779, 0.67174359,\n",
       "       0.67718817, 0.68153003, 0.67408688, 0.67146796, 0.67980709,\n",
       "       0.68697451, 0.71605791, 0.69490004, 0.70172295, 0.71791872,\n",
       "       0.73246042, 0.73576846, 0.73907649, 0.74720887, 0.75065477,\n",
       "       0.76712616, 0.74589941, 0.76154372, 0.7696761 , 0.78242597,\n",
       "       0.78835292, 0.79572709, 0.7842178 , 0.79448661, 0.79076498,\n",
       "       0.78476915, 0.79042037, 0.77953132, 0.75410067, 0.75844243,\n",
       "       0.742867  , 0.73638869, 0.72384568, 0.7172295 , 0.70323916,\n",
       "       0.71819435, 0.73432113, 0.73356303, 0.74741561, 0.76719504,\n",
       "       0.72177811, 0.74355622, 0.7547209 , 0.75361819, 0.77670576,\n",
       "       0.79255681, 0.77780837, 0.80406621, 0.83521706, 0.84169537,\n",
       "       0.87787732, 0.87994488, 0.89345285, 0.89310824, 0.89145417,\n",
       "       0.88814613, 0.86995179, 0.85968297, 0.86044107, 0.84583049,\n",
       "       0.84452104, 0.85382501, 0.84231561, 0.83756036, 0.83259825,\n",
       "       0.8354928 , 0.83742249, 0.8343212 , 0.82866988, 0.83790486,\n",
       "       0.8419711 , 0.85961409, 0.86154379, 0.86981392, 0.86050995,\n",
       "       0.85251555, 0.87077877, 0.87835979, 0.89724325, 0.95616816,\n",
       "       0.97119233, 0.98842183, 1.        ])"
      ]
     },
     "execution_count": 81,
     "metadata": {},
     "output_type": "execute_result"
    }
   ],
   "source": [
    "y_test"
   ]
  },
  {
   "cell_type": "code",
   "execution_count": 82,
   "metadata": {},
   "outputs": [
    {
     "data": {
      "text/plain": [
       "253"
      ]
     },
     "execution_count": 82,
     "metadata": {},
     "output_type": "execute_result"
    }
   ],
   "source": [
    "len(predictions)"
   ]
  },
  {
   "cell_type": "code",
   "execution_count": 83,
   "metadata": {},
   "outputs": [
    {
     "data": {
      "text/plain": [
       "array([[0.4876453 ],\n",
       "       [0.48951107],\n",
       "       [0.49215046],\n",
       "       [0.49624896],\n",
       "       [0.48856914],\n",
       "       [0.4732706 ],\n",
       "       [0.4585772 ],\n",
       "       [0.4445014 ],\n",
       "       [0.4335666 ],\n",
       "       [0.4294384 ],\n",
       "       [0.42889267],\n",
       "       [0.43211633],\n",
       "       [0.43637505],\n",
       "       [0.43826458],\n",
       "       [0.43849447],\n",
       "       [0.43226722],\n",
       "       [0.42548496],\n",
       "       [0.4216814 ],\n",
       "       [0.4239803 ],\n",
       "       [0.4289863 ],\n",
       "       [0.43448797],\n",
       "       [0.44064954],\n",
       "       [0.44540715],\n",
       "       [0.44999263],\n",
       "       [0.4538202 ],\n",
       "       [0.45385143],\n",
       "       [0.45293918],\n",
       "       [0.4514236 ],\n",
       "       [0.45111924],\n",
       "       [0.45000005],\n",
       "       [0.44378605],\n",
       "       [0.43260103],\n",
       "       [0.41966823],\n",
       "       [0.4020437 ],\n",
       "       [0.38156146],\n",
       "       [0.3726413 ],\n",
       "       [0.37000698],\n",
       "       [0.3735205 ],\n",
       "       [0.37732407],\n",
       "       [0.37971318],\n",
       "       [0.37798518],\n",
       "       [0.37993306],\n",
       "       [0.3808397 ],\n",
       "       [0.36219442],\n",
       "       [0.34513712],\n",
       "       [0.32588506],\n",
       "       [0.32214838],\n",
       "       [0.32968238],\n",
       "       [0.3380406 ],\n",
       "       [0.33923793],\n",
       "       [0.3340549 ],\n",
       "       [0.3318689 ],\n",
       "       [0.32018954],\n",
       "       [0.31035376],\n",
       "       [0.30355605],\n",
       "       [0.30172306],\n",
       "       [0.2991986 ],\n",
       "       [0.2990474 ],\n",
       "       [0.29957855],\n",
       "       [0.29767922],\n",
       "       [0.3010671 ],\n",
       "       [0.30902687],\n",
       "       [0.32654142],\n",
       "       [0.34588665],\n",
       "       [0.36147723],\n",
       "       [0.375853  ],\n",
       "       [0.3837203 ],\n",
       "       [0.38952494],\n",
       "       [0.39919618],\n",
       "       [0.40334737],\n",
       "       [0.39900726],\n",
       "       [0.39027077],\n",
       "       [0.37738907],\n",
       "       [0.37046698],\n",
       "       [0.37286842],\n",
       "       [0.3835885 ],\n",
       "       [0.39681023],\n",
       "       [0.40455765],\n",
       "       [0.40445885],\n",
       "       [0.40468234],\n",
       "       [0.4063858 ],\n",
       "       [0.41123754],\n",
       "       [0.41669488],\n",
       "       [0.4243983 ],\n",
       "       [0.43811643],\n",
       "       [0.45158464],\n",
       "       [0.46061966],\n",
       "       [0.4657229 ],\n",
       "       [0.46898845],\n",
       "       [0.47684824],\n",
       "       [0.48342705],\n",
       "       [0.48183888],\n",
       "       [0.4737679 ],\n",
       "       [0.4624886 ],\n",
       "       [0.4490553 ],\n",
       "       [0.44080555],\n",
       "       [0.43988296],\n",
       "       [0.44926673],\n",
       "       [0.458876  ],\n",
       "       [0.4642768 ],\n",
       "       [0.4698205 ],\n",
       "       [0.4724267 ],\n",
       "       [0.47461662],\n",
       "       [0.47761518],\n",
       "       [0.4781314 ],\n",
       "       [0.47557944],\n",
       "       [0.46892777],\n",
       "       [0.4597097 ],\n",
       "       [0.4530686 ],\n",
       "       [0.4515761 ],\n",
       "       [0.45233113],\n",
       "       [0.4524193 ],\n",
       "       [0.45643404],\n",
       "       [0.46519065],\n",
       "       [0.4734551 ],\n",
       "       [0.47631112],\n",
       "       [0.4749683 ],\n",
       "       [0.46777326],\n",
       "       [0.46080697],\n",
       "       [0.458242  ],\n",
       "       [0.45783827],\n",
       "       [0.45859164],\n",
       "       [0.45988247],\n",
       "       [0.459472  ],\n",
       "       [0.45741957],\n",
       "       [0.45523986],\n",
       "       [0.45507148],\n",
       "       [0.45618317],\n",
       "       [0.45957157],\n",
       "       [0.46590066],\n",
       "       [0.47295427],\n",
       "       [0.47810546],\n",
       "       [0.47801661],\n",
       "       [0.47508174],\n",
       "       [0.47572127],\n",
       "       [0.4779237 ],\n",
       "       [0.4820848 ],\n",
       "       [0.48497817],\n",
       "       [0.48692977],\n",
       "       [0.48855597],\n",
       "       [0.4910297 ],\n",
       "       [0.4954572 ],\n",
       "       [0.50295615],\n",
       "       [0.51440424],\n",
       "       [0.523998  ],\n",
       "       [0.52906   ],\n",
       "       [0.5340968 ],\n",
       "       [0.5403157 ],\n",
       "       [0.5440977 ],\n",
       "       [0.54932624],\n",
       "       [0.55498666],\n",
       "       [0.56195056],\n",
       "       [0.5706695 ],\n",
       "       [0.5764629 ],\n",
       "       [0.60435814],\n",
       "       [0.63826144],\n",
       "       [0.6672216 ],\n",
       "       [0.684647  ],\n",
       "       [0.6903463 ],\n",
       "       [0.6881189 ],\n",
       "       [0.6789456 ],\n",
       "       [0.6690341 ],\n",
       "       [0.66237044],\n",
       "       [0.6586501 ],\n",
       "       [0.6565084 ],\n",
       "       [0.6501939 ],\n",
       "       [0.64449334],\n",
       "       [0.63664144],\n",
       "       [0.6346268 ],\n",
       "       [0.6353064 ],\n",
       "       [0.63944805],\n",
       "       [0.64594036],\n",
       "       [0.65309185],\n",
       "       [0.6571503 ],\n",
       "       [0.65754086],\n",
       "       [0.65754277],\n",
       "       [0.65921706],\n",
       "       [0.667853  ],\n",
       "       [0.6741763 ],\n",
       "       [0.6779584 ],\n",
       "       [0.68293303],\n",
       "       [0.6909644 ],\n",
       "       [0.6996089 ],\n",
       "       [0.70686835],\n",
       "       [0.71314484],\n",
       "       [0.7181753 ],\n",
       "       [0.72488755],\n",
       "       [0.72657615],\n",
       "       [0.7277798 ],\n",
       "       [0.730815  ],\n",
       "       [0.73722   ],\n",
       "       [0.74541694],\n",
       "       [0.75408876],\n",
       "       [0.758303  ],\n",
       "       [0.7608922 ],\n",
       "       [0.7615966 ],\n",
       "       [0.7598339 ],\n",
       "       [0.75841737],\n",
       "       [0.7555409 ],\n",
       "       [0.7468714 ],\n",
       "       [0.7377436 ],\n",
       "       [0.72793806],\n",
       "       [0.71879345],\n",
       "       [0.7097496 ],\n",
       "       [0.7015442 ],\n",
       "       [0.6929361 ],\n",
       "       [0.68936235],\n",
       "       [0.69365436],\n",
       "       [0.7014093 ],\n",
       "       [0.7116617 ],\n",
       "       [0.72501034],\n",
       "       [0.72686195],\n",
       "       [0.72497016],\n",
       "       [0.7247851 ],\n",
       "       [0.725776  ],\n",
       "       [0.7319402 ],\n",
       "       [0.7432169 ],\n",
       "       [0.75111914],\n",
       "       [0.7600127 ],\n",
       "       [0.77468014],\n",
       "       [0.7907755 ],\n",
       "       [0.8111419 ],\n",
       "       [0.8294441 ],\n",
       "       [0.8443375 ],\n",
       "       [0.8534496 ],\n",
       "       [0.8565849 ],\n",
       "       [0.855029  ],\n",
       "       [0.8474994 ],\n",
       "       [0.83635205],\n",
       "       [0.82664114],\n",
       "       [0.8176195 ],\n",
       "       [0.81106824],\n",
       "       [0.8100229 ],\n",
       "       [0.81026524],\n",
       "       [0.80988127],\n",
       "       [0.8082088 ],\n",
       "       [0.8070378 ],\n",
       "       [0.8071815 ],\n",
       "       [0.8074434 ],\n",
       "       [0.80631644],\n",
       "       [0.8065881 ],\n",
       "       [0.8087232 ],\n",
       "       [0.8152316 ],\n",
       "       [0.8230861 ],\n",
       "       [0.8311129 ],\n",
       "       [0.8349456 ],\n",
       "       [0.8332595 ],\n",
       "       [0.83292556],\n",
       "       [0.8357736 ],\n",
       "       [0.84392905],\n",
       "       [0.8663046 ],\n",
       "       [0.89486635],\n",
       "       [0.9223323 ]], dtype=float32)"
      ]
     },
     "execution_count": 83,
     "metadata": {},
     "output_type": "execute_result"
    }
   ],
   "source": [
    "predictions"
   ]
  },
  {
   "cell_type": "code",
   "execution_count": 84,
   "metadata": {},
   "outputs": [
    {
     "data": {
      "text/plain": [
       "0.02313540638657751"
      ]
     },
     "execution_count": 84,
     "metadata": {},
     "output_type": "execute_result"
    }
   ],
   "source": [
    "#evaluate model w/RMSE\n",
    "rmse = np.sqrt(np.mean(predictions-y_test)**2)\n",
    "rmse"
   ]
  },
  {
   "cell_type": "code",
   "execution_count": 85,
   "metadata": {},
   "outputs": [
    {
     "data": {
      "text/plain": [
       "3.3569484303591275"
      ]
     },
     "execution_count": 85,
     "metadata": {},
     "output_type": "execute_result"
    }
   ],
   "source": [
    "#this is in dollars\n",
    "rmse_predictions = np.sqrt(np.mean(prediction_unscaled -y_test_unscaled)**2)\n",
    "rmse_predictions"
   ]
  },
  {
   "cell_type": "code",
   "execution_count": 86,
   "metadata": {},
   "outputs": [],
   "source": [
    "from sklearn import metrics"
   ]
  },
  {
   "cell_type": "code",
   "execution_count": 87,
   "metadata": {},
   "outputs": [
    {
     "name": "stdout",
     "output_type": "stream",
     "text": [
      "0.03482377620048251\n"
     ]
    }
   ],
   "source": [
    "print(np.sqrt(metrics.mean_squared_error(y_test,predictions)))"
   ]
  },
  {
   "cell_type": "code",
   "execution_count": 88,
   "metadata": {},
   "outputs": [],
   "source": [
    "predictions = pd.DataFrame(prediction_unscaled, columns=['Predictions'])"
   ]
  },
  {
   "cell_type": "code",
   "execution_count": 89,
   "metadata": {},
   "outputs": [],
   "source": [
    "train = dataset[:training_data_len]\n",
    "valid = dataset[training_data_len:] #data from index training_data_len to "
   ]
  },
  {
   "cell_type": "code",
   "execution_count": 90,
   "metadata": {},
   "outputs": [
    {
     "data": {
      "text/plain": [
       "(253, 253)"
      ]
     },
     "execution_count": 90,
     "metadata": {},
     "output_type": "execute_result"
    }
   ],
   "source": [
    "len(predictions), len(valid)"
   ]
  },
  {
   "cell_type": "code",
   "execution_count": 91,
   "metadata": {},
   "outputs": [],
   "source": [
    "valid.reset_index(inplace=True)"
   ]
  },
  {
   "cell_type": "code",
   "execution_count": 92,
   "metadata": {},
   "outputs": [
    {
     "data": {
      "text/html": [
       "<div>\n",
       "<style scoped>\n",
       "    .dataframe tbody tr th:only-of-type {\n",
       "        vertical-align: middle;\n",
       "    }\n",
       "\n",
       "    .dataframe tbody tr th {\n",
       "        vertical-align: top;\n",
       "    }\n",
       "\n",
       "    .dataframe thead th {\n",
       "        text-align: right;\n",
       "    }\n",
       "</style>\n",
       "<table border=\"1\" class=\"dataframe\">\n",
       "  <thead>\n",
       "    <tr style=\"text-align: right;\">\n",
       "      <th></th>\n",
       "      <th>Date</th>\n",
       "      <th>Close</th>\n",
       "    </tr>\n",
       "  </thead>\n",
       "  <tbody>\n",
       "    <tr>\n",
       "      <th>0</th>\n",
       "      <td>2020-01-10</td>\n",
       "      <td>124.730003</td>\n",
       "    </tr>\n",
       "    <tr>\n",
       "      <th>1</th>\n",
       "      <td>2020-01-13</td>\n",
       "      <td>123.870003</td>\n",
       "    </tr>\n",
       "    <tr>\n",
       "      <th>2</th>\n",
       "      <td>2020-01-14</td>\n",
       "      <td>125.260002</td>\n",
       "    </tr>\n",
       "    <tr>\n",
       "      <th>3</th>\n",
       "      <td>2020-01-15</td>\n",
       "      <td>117.000000</td>\n",
       "    </tr>\n",
       "    <tr>\n",
       "      <th>4</th>\n",
       "      <td>2020-01-16</td>\n",
       "      <td>116.320000</td>\n",
       "    </tr>\n",
       "  </tbody>\n",
       "</table>\n",
       "</div>"
      ],
      "text/plain": [
       "        Date       Close\n",
       "0 2020-01-10  124.730003\n",
       "1 2020-01-13  123.870003\n",
       "2 2020-01-14  125.260002\n",
       "3 2020-01-15  117.000000\n",
       "4 2020-01-16  116.320000"
      ]
     },
     "execution_count": 92,
     "metadata": {},
     "output_type": "execute_result"
    }
   ],
   "source": [
    "valid.head()"
   ]
  },
  {
   "cell_type": "code",
   "execution_count": 93,
   "metadata": {},
   "outputs": [
    {
     "data": {
      "text/html": [
       "<div>\n",
       "<style scoped>\n",
       "    .dataframe tbody tr th:only-of-type {\n",
       "        vertical-align: middle;\n",
       "    }\n",
       "\n",
       "    .dataframe tbody tr th {\n",
       "        vertical-align: top;\n",
       "    }\n",
       "\n",
       "    .dataframe thead th {\n",
       "        text-align: right;\n",
       "    }\n",
       "</style>\n",
       "<table border=\"1\" class=\"dataframe\">\n",
       "  <thead>\n",
       "    <tr style=\"text-align: right;\">\n",
       "      <th></th>\n",
       "      <th>Predictions</th>\n",
       "    </tr>\n",
       "  </thead>\n",
       "  <tbody>\n",
       "    <tr>\n",
       "      <th>0</th>\n",
       "      <td>120.937332</td>\n",
       "    </tr>\n",
       "    <tr>\n",
       "      <th>1</th>\n",
       "      <td>121.208054</td>\n",
       "    </tr>\n",
       "    <tr>\n",
       "      <th>2</th>\n",
       "      <td>121.591034</td>\n",
       "    </tr>\n",
       "    <tr>\n",
       "      <th>3</th>\n",
       "      <td>122.185722</td>\n",
       "    </tr>\n",
       "    <tr>\n",
       "      <th>4</th>\n",
       "      <td>121.071381</td>\n",
       "    </tr>\n",
       "  </tbody>\n",
       "</table>\n",
       "</div>"
      ],
      "text/plain": [
       "   Predictions\n",
       "0   120.937332\n",
       "1   121.208054\n",
       "2   121.591034\n",
       "3   122.185722\n",
       "4   121.071381"
      ]
     },
     "execution_count": 93,
     "metadata": {},
     "output_type": "execute_result"
    }
   ],
   "source": [
    "predictions.head()"
   ]
  },
  {
   "cell_type": "code",
   "execution_count": 94,
   "metadata": {},
   "outputs": [],
   "source": [
    "valid['Prediction'] = predictions['Predictions']"
   ]
  },
  {
   "cell_type": "code",
   "execution_count": 95,
   "metadata": {},
   "outputs": [],
   "source": [
    "valid1 = valid.set_index('Date')"
   ]
  },
  {
   "cell_type": "code",
   "execution_count": 96,
   "metadata": {},
   "outputs": [
    {
     "data": {
      "text/html": [
       "<div>\n",
       "<style scoped>\n",
       "    .dataframe tbody tr th:only-of-type {\n",
       "        vertical-align: middle;\n",
       "    }\n",
       "\n",
       "    .dataframe tbody tr th {\n",
       "        vertical-align: top;\n",
       "    }\n",
       "\n",
       "    .dataframe thead th {\n",
       "        text-align: right;\n",
       "    }\n",
       "</style>\n",
       "<table border=\"1\" class=\"dataframe\">\n",
       "  <thead>\n",
       "    <tr style=\"text-align: right;\">\n",
       "      <th></th>\n",
       "      <th>Close</th>\n",
       "      <th>Prediction</th>\n",
       "    </tr>\n",
       "    <tr>\n",
       "      <th>Date</th>\n",
       "      <th></th>\n",
       "      <th></th>\n",
       "    </tr>\n",
       "  </thead>\n",
       "  <tbody>\n",
       "    <tr>\n",
       "      <th>2021-01-05</th>\n",
       "      <td>180.369995</td>\n",
       "      <td>171.450745</td>\n",
       "    </tr>\n",
       "    <tr>\n",
       "      <th>2021-01-06</th>\n",
       "      <td>188.919998</td>\n",
       "      <td>172.634094</td>\n",
       "    </tr>\n",
       "    <tr>\n",
       "      <th>2021-01-07</th>\n",
       "      <td>191.100006</td>\n",
       "      <td>175.880798</td>\n",
       "    </tr>\n",
       "    <tr>\n",
       "      <th>2021-01-08</th>\n",
       "      <td>193.600006</td>\n",
       "      <td>180.025101</td>\n",
       "    </tr>\n",
       "    <tr>\n",
       "      <th>2021-01-11</th>\n",
       "      <td>195.279999</td>\n",
       "      <td>184.010406</td>\n",
       "    </tr>\n",
       "  </tbody>\n",
       "</table>\n",
       "</div>"
      ],
      "text/plain": [
       "                 Close  Prediction\n",
       "Date                              \n",
       "2021-01-05  180.369995  171.450745\n",
       "2021-01-06  188.919998  172.634094\n",
       "2021-01-07  191.100006  175.880798\n",
       "2021-01-08  193.600006  180.025101\n",
       "2021-01-11  195.279999  184.010406"
      ]
     },
     "execution_count": 96,
     "metadata": {},
     "output_type": "execute_result"
    }
   ],
   "source": [
    "valid1.tail()"
   ]
  },
  {
   "cell_type": "code",
   "execution_count": 97,
   "metadata": {},
   "outputs": [
    {
     "data": {
      "text/plain": [
       "<matplotlib.legend.Legend at 0x7f9a3bbfbef0>"
      ]
     },
     "execution_count": 97,
     "metadata": {},
     "output_type": "execute_result"
    },
    {
     "data": {
      "image/png": "[encoded data removed]",
      "text/plain": [
       "<Figure size 864x576 with 1 Axes>"
      ]
     },
     "metadata": {
      "needs_background": "light"
     },
     "output_type": "display_data"
    }
   ],
   "source": [
    "\"\"\"\n",
    "blue-data model was trainined on \n",
    "orange-actual closing stock price for rest of days\n",
    "green-what model predcited values to be\n",
    "\"\"\"\n",
    "\n",
    "# train = dataset[:training_data_len]\n",
    "# valid = dataset[training_data_len:] #data from index training_data_len to \n",
    "# valid['Predictions'] = predictions\n",
    "plt.figure(figsize=(12,8))\n",
    "plt.title('Model')\n",
    "plt.xlabel('Label')\n",
    "plt.ylabel('Close Price USD ($)')\n",
    "plt.plot(train['Close'])\n",
    "#plt.plot(valid[['Close','Predictions']])\n",
    "plt.plot(valid1['Close'])\n",
    "plt.plot(valid1['Prediction'])\n",
    "# #valid[['Close','Predictions']].plot()\n",
    "plt.legend(['Train','Valid','Predictions'],loc='lower right')"
   ]
  },
  {
   "cell_type": "code",
   "execution_count": 98,
   "metadata": {},
   "outputs": [
    {
     "data": {
      "text/html": [
       "<div>\n",
       "<style scoped>\n",
       "    .dataframe tbody tr th:only-of-type {\n",
       "        vertical-align: middle;\n",
       "    }\n",
       "\n",
       "    .dataframe tbody tr th {\n",
       "        vertical-align: top;\n",
       "    }\n",
       "\n",
       "    .dataframe thead th {\n",
       "        text-align: right;\n",
       "    }\n",
       "</style>\n",
       "<table border=\"1\" class=\"dataframe\">\n",
       "  <thead>\n",
       "    <tr style=\"text-align: right;\">\n",
       "      <th></th>\n",
       "      <th>Close</th>\n",
       "    </tr>\n",
       "    <tr>\n",
       "      <th>Date</th>\n",
       "      <th></th>\n",
       "    </tr>\n",
       "  </thead>\n",
       "  <tbody>\n",
       "    <tr>\n",
       "      <th>2021-01-05</th>\n",
       "      <td>180.369995</td>\n",
       "    </tr>\n",
       "    <tr>\n",
       "      <th>2021-01-06</th>\n",
       "      <td>188.919998</td>\n",
       "    </tr>\n",
       "    <tr>\n",
       "      <th>2021-01-07</th>\n",
       "      <td>191.100006</td>\n",
       "    </tr>\n",
       "    <tr>\n",
       "      <th>2021-01-08</th>\n",
       "      <td>193.600006</td>\n",
       "    </tr>\n",
       "    <tr>\n",
       "      <th>2021-01-11</th>\n",
       "      <td>195.279999</td>\n",
       "    </tr>\n",
       "  </tbody>\n",
       "</table>\n",
       "</div>"
      ],
      "text/plain": [
       "                 Close\n",
       "Date                  \n",
       "2021-01-05  180.369995\n",
       "2021-01-06  188.919998\n",
       "2021-01-07  191.100006\n",
       "2021-01-08  193.600006\n",
       "2021-01-11  195.279999"
      ]
     },
     "execution_count": 98,
     "metadata": {},
     "output_type": "execute_result"
    }
   ],
   "source": [
    "dataset.tail()"
   ]
  },
  {
   "cell_type": "code",
   "execution_count": 99,
   "metadata": {},
   "outputs": [],
   "source": [
    "\"\"\"\n",
    "predict closing price fo apple stock for 12/18/2019\n",
    "\n",
    "get the quote\n",
    "\"\"\"\n",
    "def get_quote(new_df):\n",
    "    #get last 60days closing values and convert datframe to an array\n",
    "    last_60_days = new_df[-60:].values #converts to array\n",
    "    #scale data\n",
    "    last_60_days_scaled = scaler.transform(last_60_days)\n",
    "    #realreate empty list\n",
    "    x_test = []\n",
    "    #append last 60 days to x_test\n",
    "    x_test.append(last_60_days_scaled)\n",
    "    #conert x_test to a numpy array\n",
    "    x_test = np.array(x_test)\n",
    "    # #reshape the data\n",
    "    x_test = np.reshape(x_test, (x_test.shape[0],x_test.shape[1],1))\n",
    "    #get the predcited scaled price\n",
    "    pred_price = model.predict(x_test)\n",
    "    #undo the scaling \n",
    "    pred_price = scaler.inverse_transform(pred_price) \n",
    "    #what model thinks predicted price will be for 12/18/2019\n",
    "    #the actual prcie was $69.94\n",
    "    #DAL: 58.58, 2021-1-11 40.19\n",
    "    return pred_price                    "
   ]
  },
  {
   "cell_type": "code",
   "execution_count": 100,
   "metadata": {},
   "outputs": [
    {
     "data": {
      "text/plain": [
       "array([[187.15547]], dtype=float32)"
      ]
     },
     "execution_count": 100,
     "metadata": {},
     "output_type": "execute_result"
    }
   ],
   "source": [
    "get_quote(dataset)"
   ]
  },
  {
   "cell_type": "code",
   "execution_count": null,
   "metadata": {},
   "outputs": [],
   "source": []
  }
 ],
 "metadata": {
  "kernelspec": {
   "display_name": "Python 3",
   "language": "python",
   "name": "python3"
  },
  "language_info": {
   "codemirror_mode": {
    "name": "ipython",
    "version": 3
   },
   "file_extension": ".py",
   "mimetype": "text/x-python",
   "name": "python",
   "nbconvert_exporter": "python",
   "pygments_lexer": "ipython3",
   "version": "3.6.9"
  },
  "toc": {
   "base_numbering": 1,
   "nav_menu": {},
   "number_sections": true,
   "sideBar": true,
   "skip_h1_title": false,
   "title_cell": "Table of Contents",
   "title_sidebar": "Contents",
   "toc_cell": false,
   "toc_position": {},
   "toc_section_display": true,
   "toc_window_display": false
  }
 },
 "nbformat": 4,
 "nbformat_minor": 4
}
