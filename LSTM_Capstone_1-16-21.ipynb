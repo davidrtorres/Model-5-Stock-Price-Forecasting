{
 "cells": [
  {
   "cell_type": "code",
   "execution_count": 1,
   "metadata": {},
   "outputs": [
    {
     "name": "stderr",
     "output_type": "stream",
     "text": [
      "Using Theano backend.\n"
     ]
    }
   ],
   "source": [
    "import pandas as pd\n",
    "import numpy as np\n",
    "import matplotlib.pyplot as plt\n",
    "%matplotlib inline\n",
    "\n",
    "from sklearn.preprocessing import MinMaxScaler\n",
    "\n",
    "import pandas_datareader.data as web\n",
    "\n",
    "#from tensorflow import keras\n",
    "from keras.models import Sequential\n",
    "from keras.layers import Dense\n",
    "from keras.layers import LSTM\n",
    "from keras.layers import Dropout\n",
    "\n",
    "import warnings\n",
    "warnings.filterwarnings('ignore')"
   ]
  },
  {
   "cell_type": "code",
   "execution_count": 2,
   "metadata": {},
   "outputs": [],
   "source": [
    "#print(keras.__version__)"
   ]
  },
  {
   "cell_type": "code",
   "execution_count": 3,
   "metadata": {},
   "outputs": [],
   "source": [
    "def stockplotter(ticker, plot=True):\n",
    "    \n",
    "    try:\n",
    "        #stock = pdr.get_data_yahoo(ticker,start,end)\n",
    "        data = {}\n",
    "        for stock in ticker:\n",
    "            data = web.DataReader(stock,'yahoo','2018','2021')['Adj Close']\n",
    "        df_1 = pd.DataFrame(data)#.reset_index()\n",
    "        if plot==True:\n",
    "            df_1.plot(figsize=(12,8))\n",
    "            plt.title(\"Housing Price Trends \")\n",
    "            #plt.set(title=f'Housing Prices by Year - {zip_df.index.freq}')\n",
    "            plt.xlabel('Year')\n",
    "            plt.ylabel('Home Prices')\n",
    "            plt.legend(bbox_to_anchor=(1.05,1),loc='upper left') \n",
    "        \n",
    "        return df_1\n",
    "     \n",
    "    except Exception as e:\n",
    "        print(\"Error occured:\", e)\n",
    "        #data = 'Incorrect Symbol'\n"
   ]
  },
  {
   "cell_type": "code",
   "execution_count": 4,
   "metadata": {},
   "outputs": [
    {
     "data": {
      "text/html": [
       "<div>\n",
       "<style scoped>\n",
       "    .dataframe tbody tr th:only-of-type {\n",
       "        vertical-align: middle;\n",
       "    }\n",
       "\n",
       "    .dataframe tbody tr th {\n",
       "        vertical-align: top;\n",
       "    }\n",
       "\n",
       "    .dataframe thead th {\n",
       "        text-align: right;\n",
       "    }\n",
       "</style>\n",
       "<table border=\"1\" class=\"dataframe\">\n",
       "  <thead>\n",
       "    <tr style=\"text-align: right;\">\n",
       "      <th>Symbols</th>\n",
       "      <th>AAPL</th>\n",
       "      <th>GOOGL</th>\n",
       "      <th>AMZN</th>\n",
       "      <th>MSFT</th>\n",
       "      <th>DAL</th>\n",
       "    </tr>\n",
       "    <tr>\n",
       "      <th>Date</th>\n",
       "      <th></th>\n",
       "      <th></th>\n",
       "      <th></th>\n",
       "      <th></th>\n",
       "      <th></th>\n",
       "    </tr>\n",
       "  </thead>\n",
       "  <tbody>\n",
       "    <tr>\n",
       "      <th>2018-01-02</th>\n",
       "      <td>41.442081</td>\n",
       "      <td>1073.209961</td>\n",
       "      <td>1189.010010</td>\n",
       "      <td>82.383636</td>\n",
       "      <td>53.520050</td>\n",
       "    </tr>\n",
       "    <tr>\n",
       "      <th>2018-01-03</th>\n",
       "      <td>41.434864</td>\n",
       "      <td>1091.520020</td>\n",
       "      <td>1204.199951</td>\n",
       "      <td>82.767044</td>\n",
       "      <td>52.529640</td>\n",
       "    </tr>\n",
       "    <tr>\n",
       "      <th>2018-01-04</th>\n",
       "      <td>41.627323</td>\n",
       "      <td>1095.760010</td>\n",
       "      <td>1209.589966</td>\n",
       "      <td>83.495522</td>\n",
       "      <td>52.529640</td>\n",
       "    </tr>\n",
       "    <tr>\n",
       "      <th>2018-01-05</th>\n",
       "      <td>42.101261</td>\n",
       "      <td>1110.290039</td>\n",
       "      <td>1229.140015</td>\n",
       "      <td>84.530701</td>\n",
       "      <td>52.793751</td>\n",
       "    </tr>\n",
       "    <tr>\n",
       "      <th>2018-01-08</th>\n",
       "      <td>41.944889</td>\n",
       "      <td>1114.209961</td>\n",
       "      <td>1246.869995</td>\n",
       "      <td>84.616966</td>\n",
       "      <td>51.576958</td>\n",
       "    </tr>\n",
       "    <tr>\n",
       "      <th>...</th>\n",
       "      <td>...</td>\n",
       "      <td>...</td>\n",
       "      <td>...</td>\n",
       "      <td>...</td>\n",
       "      <td>...</td>\n",
       "    </tr>\n",
       "    <tr>\n",
       "      <th>2020-12-24</th>\n",
       "      <td>131.970001</td>\n",
       "      <td>1734.160034</td>\n",
       "      <td>3172.689941</td>\n",
       "      <td>222.750000</td>\n",
       "      <td>39.730000</td>\n",
       "    </tr>\n",
       "    <tr>\n",
       "      <th>2020-12-28</th>\n",
       "      <td>136.690002</td>\n",
       "      <td>1773.959961</td>\n",
       "      <td>3283.959961</td>\n",
       "      <td>224.960007</td>\n",
       "      <td>40.150002</td>\n",
       "    </tr>\n",
       "    <tr>\n",
       "      <th>2020-12-29</th>\n",
       "      <td>134.869995</td>\n",
       "      <td>1757.760010</td>\n",
       "      <td>3322.000000</td>\n",
       "      <td>224.149994</td>\n",
       "      <td>40.029999</td>\n",
       "    </tr>\n",
       "    <tr>\n",
       "      <th>2020-12-30</th>\n",
       "      <td>133.720001</td>\n",
       "      <td>1736.250000</td>\n",
       "      <td>3285.850098</td>\n",
       "      <td>221.679993</td>\n",
       "      <td>40.560001</td>\n",
       "    </tr>\n",
       "    <tr>\n",
       "      <th>2020-12-31</th>\n",
       "      <td>132.690002</td>\n",
       "      <td>1752.640015</td>\n",
       "      <td>3256.929932</td>\n",
       "      <td>222.419998</td>\n",
       "      <td>40.209999</td>\n",
       "    </tr>\n",
       "  </tbody>\n",
       "</table>\n",
       "<p>756 rows × 5 columns</p>\n",
       "</div>"
      ],
      "text/plain": [
       "Symbols           AAPL        GOOGL         AMZN        MSFT        DAL\n",
       "Date                                                                   \n",
       "2018-01-02   41.442081  1073.209961  1189.010010   82.383636  53.520050\n",
       "2018-01-03   41.434864  1091.520020  1204.199951   82.767044  52.529640\n",
       "2018-01-04   41.627323  1095.760010  1209.589966   83.495522  52.529640\n",
       "2018-01-05   42.101261  1110.290039  1229.140015   84.530701  52.793751\n",
       "2018-01-08   41.944889  1114.209961  1246.869995   84.616966  51.576958\n",
       "...                ...          ...          ...         ...        ...\n",
       "2020-12-24  131.970001  1734.160034  3172.689941  222.750000  39.730000\n",
       "2020-12-28  136.690002  1773.959961  3283.959961  224.960007  40.150002\n",
       "2020-12-29  134.869995  1757.760010  3322.000000  224.149994  40.029999\n",
       "2020-12-30  133.720001  1736.250000  3285.850098  221.679993  40.560001\n",
       "2020-12-31  132.690002  1752.640015  3256.929932  222.419998  40.209999\n",
       "\n",
       "[756 rows x 5 columns]"
      ]
     },
     "execution_count": 4,
     "metadata": {},
     "output_type": "execute_result"
    },
    {
     "data": {
      "image/png": "[encoded data removed]",
      "text/plain": [
       "<Figure size 864x576 with 1 Axes>"
      ]
     },
     "metadata": {
      "needs_background": "light"
     },
     "output_type": "display_data"
    }
   ],
   "source": [
    "#df_1 = stockplotter(['XYZC'])\n",
    "df_1 = stockplotter([['AAPL','GOOGL','AMZN','MSFT','DAL']], plot=True)\n",
    "df_1"
   ]
  },
  {
   "cell_type": "code",
   "execution_count": 5,
   "metadata": {},
   "outputs": [],
   "source": [
    "# df_1.plot(figsize=(12,8))\n",
    "# plt.title(\"Stock Adj Close Price Trends \")\n",
    "# #plt.set(title=f'Housing Prices by Year - {zip_df.index.freq}')\n",
    "# plt.xlabel('Year')\n",
    "# plt.ylabel('Prices')\n",
    "# plt.legend(bbox_to_anchor=(1.05,1),loc='upper left')"
   ]
  },
  {
   "cell_type": "markdown",
   "metadata": {},
   "source": [
    "## **Forecasting**"
   ]
  },
  {
   "cell_type": "code",
   "execution_count": 6,
   "metadata": {},
   "outputs": [],
   "source": [
    "def get_data(symbol, data_source,start,end):\n",
    "    df = web.DataReader(symbol,data_source, start, end) \n",
    "    print(df.shape)\n",
    "    \n",
    "    plt.figure(figsize=(12,8))\n",
    "    plt.plot(df['Close'])\n",
    "    plt.xlabel('Date', fontsize=18)\n",
    "    plt.ylabel('Close Price USD ($)', fontsize=18)\n",
    "    return df"
   ]
  },
  {
   "cell_type": "code",
   "execution_count": 7,
   "metadata": {},
   "outputs": [
    {
     "name": "stdout",
     "output_type": "stream",
     "text": [
      "(1265, 6)\n"
     ]
    },
    {
     "data": {
      "text/html": [
       "<div>\n",
       "<style scoped>\n",
       "    .dataframe tbody tr th:only-of-type {\n",
       "        vertical-align: middle;\n",
       "    }\n",
       "\n",
       "    .dataframe tbody tr th {\n",
       "        vertical-align: top;\n",
       "    }\n",
       "\n",
       "    .dataframe thead th {\n",
       "        text-align: right;\n",
       "    }\n",
       "</style>\n",
       "<table border=\"1\" class=\"dataframe\">\n",
       "  <thead>\n",
       "    <tr style=\"text-align: right;\">\n",
       "      <th></th>\n",
       "      <th>High</th>\n",
       "      <th>Low</th>\n",
       "      <th>Open</th>\n",
       "      <th>Close</th>\n",
       "      <th>Volume</th>\n",
       "      <th>Adj Close</th>\n",
       "    </tr>\n",
       "    <tr>\n",
       "      <th>Date</th>\n",
       "      <th></th>\n",
       "      <th></th>\n",
       "      <th></th>\n",
       "      <th></th>\n",
       "      <th></th>\n",
       "      <th></th>\n",
       "    </tr>\n",
       "  </thead>\n",
       "  <tbody>\n",
       "    <tr>\n",
       "      <th>2016-01-04</th>\n",
       "      <td>73.709999</td>\n",
       "      <td>71.529999</td>\n",
       "      <td>71.839996</td>\n",
       "      <td>73.550003</td>\n",
       "      <td>8233300.0</td>\n",
       "      <td>62.800835</td>\n",
       "    </tr>\n",
       "    <tr>\n",
       "      <th>2016-01-05</th>\n",
       "      <td>75.239998</td>\n",
       "      <td>73.629997</td>\n",
       "      <td>73.739998</td>\n",
       "      <td>74.839996</td>\n",
       "      <td>8191400.0</td>\n",
       "      <td>63.902309</td>\n",
       "    </tr>\n",
       "    <tr>\n",
       "      <th>2016-01-06</th>\n",
       "      <td>74.800003</td>\n",
       "      <td>73.379997</td>\n",
       "      <td>73.800003</td>\n",
       "      <td>74.080002</td>\n",
       "      <td>4921400.0</td>\n",
       "      <td>63.253376</td>\n",
       "    </tr>\n",
       "    <tr>\n",
       "      <th>2016-01-07</th>\n",
       "      <td>76.000000</td>\n",
       "      <td>73.489998</td>\n",
       "      <td>73.580002</td>\n",
       "      <td>73.879997</td>\n",
       "      <td>11289900.0</td>\n",
       "      <td>63.082607</td>\n",
       "    </tr>\n",
       "    <tr>\n",
       "      <th>2016-01-08</th>\n",
       "      <td>74.790001</td>\n",
       "      <td>71.269997</td>\n",
       "      <td>74.209999</td>\n",
       "      <td>71.379997</td>\n",
       "      <td>7749000.0</td>\n",
       "      <td>60.947964</td>\n",
       "    </tr>\n",
       "    <tr>\n",
       "      <th>...</th>\n",
       "      <td>...</td>\n",
       "      <td>...</td>\n",
       "      <td>...</td>\n",
       "      <td>...</td>\n",
       "      <td>...</td>\n",
       "      <td>...</td>\n",
       "    </tr>\n",
       "    <tr>\n",
       "      <th>2021-01-05</th>\n",
       "      <td>181.970001</td>\n",
       "      <td>176.429993</td>\n",
       "      <td>176.800003</td>\n",
       "      <td>180.369995</td>\n",
       "      <td>4843300.0</td>\n",
       "      <td>180.369995</td>\n",
       "    </tr>\n",
       "    <tr>\n",
       "      <th>2021-01-06</th>\n",
       "      <td>189.470001</td>\n",
       "      <td>180.110001</td>\n",
       "      <td>180.330002</td>\n",
       "      <td>188.919998</td>\n",
       "      <td>5610100.0</td>\n",
       "      <td>188.919998</td>\n",
       "    </tr>\n",
       "    <tr>\n",
       "      <th>2021-01-07</th>\n",
       "      <td>192.350006</td>\n",
       "      <td>189.169998</td>\n",
       "      <td>189.210007</td>\n",
       "      <td>191.100006</td>\n",
       "      <td>4226700.0</td>\n",
       "      <td>191.100006</td>\n",
       "    </tr>\n",
       "    <tr>\n",
       "      <th>2021-01-08</th>\n",
       "      <td>193.880005</td>\n",
       "      <td>190.809998</td>\n",
       "      <td>191.580002</td>\n",
       "      <td>193.600006</td>\n",
       "      <td>3320900.0</td>\n",
       "      <td>193.600006</td>\n",
       "    </tr>\n",
       "    <tr>\n",
       "      <th>2021-01-11</th>\n",
       "      <td>199.500000</td>\n",
       "      <td>192.190002</td>\n",
       "      <td>193.039993</td>\n",
       "      <td>195.279999</td>\n",
       "      <td>7222000.0</td>\n",
       "      <td>195.279999</td>\n",
       "    </tr>\n",
       "  </tbody>\n",
       "</table>\n",
       "<p>1265 rows × 6 columns</p>\n",
       "</div>"
      ],
      "text/plain": [
       "                  High         Low        Open       Close      Volume  \\\n",
       "Date                                                                     \n",
       "2016-01-04   73.709999   71.529999   71.839996   73.550003   8233300.0   \n",
       "2016-01-05   75.239998   73.629997   73.739998   74.839996   8191400.0   \n",
       "2016-01-06   74.800003   73.379997   73.800003   74.080002   4921400.0   \n",
       "2016-01-07   76.000000   73.489998   73.580002   73.879997  11289900.0   \n",
       "2016-01-08   74.790001   71.269997   74.209999   71.379997   7749000.0   \n",
       "...                ...         ...         ...         ...         ...   \n",
       "2021-01-05  181.970001  176.429993  176.800003  180.369995   4843300.0   \n",
       "2021-01-06  189.470001  180.110001  180.330002  188.919998   5610100.0   \n",
       "2021-01-07  192.350006  189.169998  189.210007  191.100006   4226700.0   \n",
       "2021-01-08  193.880005  190.809998  191.580002  193.600006   3320900.0   \n",
       "2021-01-11  199.500000  192.190002  193.039993  195.279999   7222000.0   \n",
       "\n",
       "             Adj Close  \n",
       "Date                    \n",
       "2016-01-04   62.800835  \n",
       "2016-01-05   63.902309  \n",
       "2016-01-06   63.253376  \n",
       "2016-01-07   63.082607  \n",
       "2016-01-08   60.947964  \n",
       "...                ...  \n",
       "2021-01-05  180.369995  \n",
       "2021-01-06  188.919998  \n",
       "2021-01-07  191.100006  \n",
       "2021-01-08  193.600006  \n",
       "2021-01-11  195.279999  \n",
       "\n",
       "[1265 rows x 6 columns]"
      ]
     },
     "execution_count": 7,
     "metadata": {},
     "output_type": "execute_result"
    },
    {
     "data": {
      "image/png": "[encoded data removed]",
      "text/plain": [
       "<Figure size 864x576 with 1 Axes>"
      ]
     },
     "metadata": {
      "needs_background": "light"
     },
     "output_type": "display_data"
    }
   ],
   "source": [
    "the_data = get_data('TGT',data_source='yahoo', start='2016-01-01',end='2021-1-11')\n",
    "the_data"
   ]
  },
  {
   "cell_type": "code",
   "execution_count": 8,
   "metadata": {},
   "outputs": [],
   "source": [
    "#df = pd.read_csv('data/apple_2012_1_1-2019_12_17.csv', parse_dates=True, index_col=[0])\n",
    "\n",
    "#Get the stock quote \n",
    "#df = web.DataReader('TGT', data_source='yahoo', start='2016-01-01', end='2021-1-11') "
   ]
  },
  {
   "cell_type": "code",
   "execution_count": 9,
   "metadata": {},
   "outputs": [],
   "source": [
    "#df.head()"
   ]
  },
  {
   "cell_type": "code",
   "execution_count": 10,
   "metadata": {},
   "outputs": [],
   "source": [
    "#df.shape"
   ]
  },
  {
   "cell_type": "code",
   "execution_count": 11,
   "metadata": {},
   "outputs": [],
   "source": [
    "# plt.figure(figsize=(12,8))\n",
    "# plt.plot(df['Close'])\n",
    "# plt.xlabel('Date', fontsize=18)\n",
    "# plt.ylabel('Close Price USD ($)', fontsize=18)"
   ]
  },
  {
   "cell_type": "code",
   "execution_count": 12,
   "metadata": {},
   "outputs": [],
   "source": [
    "#df = df.diff().dropna() #zip_df[11226].diff().dropna()"
   ]
  },
  {
   "cell_type": "code",
   "execution_count": 13,
   "metadata": {},
   "outputs": [],
   "source": [
    "#dataset = df['Close']\n",
    "# dataset = data.values"
   ]
  },
  {
   "cell_type": "code",
   "execution_count": 14,
   "metadata": {},
   "outputs": [],
   "source": [
    "def preprocessing(df,percentage):\n",
    "    training_data_len = int(np.round(len(df) * percentage))\n",
    "    dataset = pd.DataFrame(df)\n",
    "    scaler = MinMaxScaler(feature_range = (0, 1))\n",
    "    scaled_data = scaler.fit_transform(dataset)\n",
    "    return training_data_len, dataset, scaler, scaled_data"
   ]
  },
  {
   "cell_type": "code",
   "execution_count": 15,
   "metadata": {},
   "outputs": [],
   "source": [
    "#training_data_len, dataset, scaler, scaled_data = preprocessing(df['Close'], percentage=.8)\n",
    "training_data_len, dataset, scaler, scaled_data = preprocessing(the_data['Close'], percentage=.8)"
   ]
  },
  {
   "cell_type": "code",
   "execution_count": 16,
   "metadata": {},
   "outputs": [],
   "source": [
    "#training_data_len = int(np.round(len(dataset) * .8))"
   ]
  },
  {
   "cell_type": "code",
   "execution_count": 17,
   "metadata": {},
   "outputs": [],
   "source": [
    "#training_data_len"
   ]
  },
  {
   "cell_type": "code",
   "execution_count": 18,
   "metadata": {},
   "outputs": [],
   "source": [
    "def create_sets(training_data_len):\n",
    "    #create training data set\n",
    "    train_data = scaled_data[0:training_data_len,:]\n",
    "    test_data = scaled_data[training_data_len -60:,:] #to 2003 which is end of dataset\n",
    "    #split data into X_train and y_train data sets\n",
    "    X_train = []\n",
    "    y_train = []\n",
    "    #create dataset X_test and y_test data sets\n",
    "    X_test = []\n",
    "    y_test = []    #dataset.iloc[training_data_len:, :]\n",
    "\n",
    "\n",
    "    for i in range(60, len(train_data)):\n",
    "        X_train.append(train_data[i-60:i])\n",
    "        y_train.append(train_data[i,0]) #will contain 61st value which will be at position 60\n",
    "\n",
    "    for i in range(60, len(test_data)):\n",
    "        X_test.append(test_data[i-60:i,0]) \n",
    "        y_test.append(test_data[i,0])\n",
    "        \n",
    "    X_train, y_train = np.array(X_train), np.array(y_train)  \n",
    "    X_test = np.array(X_test) #added\n",
    "    X_test = np.reshape(X_test,(X_test.shape[0],X_test.shape[1],1)) #added\n",
    "    y_test = np.array(y_test)\n",
    "        \n",
    "    return X_train, X_test, y_train, y_test    "
   ]
  },
  {
   "cell_type": "code",
   "execution_count": 19,
   "metadata": {},
   "outputs": [],
   "source": [
    "X_train, X_test, y_train, y_test = create_sets(training_data_len)"
   ]
  },
  {
   "cell_type": "code",
   "execution_count": 20,
   "metadata": {},
   "outputs": [],
   "source": [
    "#len(X_train[0])"
   ]
  },
  {
   "cell_type": "code",
   "execution_count": 21,
   "metadata": {},
   "outputs": [],
   "source": [
    "#X_train"
   ]
  },
  {
   "cell_type": "code",
   "execution_count": 22,
   "metadata": {},
   "outputs": [],
   "source": [
    "#X_train.shape"
   ]
  },
  {
   "cell_type": "code",
   "execution_count": 23,
   "metadata": {},
   "outputs": [],
   "source": [
    "\n",
    "model = Sequential()\n",
    "\n",
    "model.add(LSTM(units = 50, return_sequences = True, input_shape=(X_train.shape[1],1)))\n",
    "model.add(Dropout(0.2))\n",
    "\n",
    "model.add(LSTM(units = 50, return_sequences = True))\n",
    "model.add(Dropout(0.2))\n",
    "\n",
    "model.add(LSTM(units = 50, return_sequences = False))\n",
    "model.add(Dropout(0.2))\n",
    "\n",
    "model.add(Dense(units = 25))\n",
    "model.add(Dense(units = 1))\n",
    "\n",
    "model.compile(optimizer = 'adam', loss = 'mean_squared_error')\n"
   ]
  },
  {
   "cell_type": "code",
   "execution_count": 24,
   "metadata": {},
   "outputs": [
    {
     "name": "stdout",
     "output_type": "stream",
     "text": [
      "Model: \"sequential_1\"\n",
      "_________________________________________________________________\n",
      "Layer (type)                 Output Shape              Param #   \n",
      "=================================================================\n",
      "lstm_1 (LSTM)                (None, 60, 50)            10400     \n",
      "_________________________________________________________________\n",
      "dropout_1 (Dropout)          (None, 60, 50)            0         \n",
      "_________________________________________________________________\n",
      "lstm_2 (LSTM)                (None, 60, 50)            20200     \n",
      "_________________________________________________________________\n",
      "dropout_2 (Dropout)          (None, 60, 50)            0         \n",
      "_________________________________________________________________\n",
      "lstm_3 (LSTM)                (None, 50)                20200     \n",
      "_________________________________________________________________\n",
      "dropout_3 (Dropout)          (None, 50)                0         \n",
      "_________________________________________________________________\n",
      "dense_1 (Dense)              (None, 25)                1275      \n",
      "_________________________________________________________________\n",
      "dense_2 (Dense)              (None, 1)                 26        \n",
      "=================================================================\n",
      "Total params: 52,101\n",
      "Trainable params: 52,101\n",
      "Non-trainable params: 0\n",
      "_________________________________________________________________\n"
     ]
    }
   ],
   "source": [
    "model.summary()"
   ]
  },
  {
   "cell_type": "code",
   "execution_count": 25,
   "metadata": {},
   "outputs": [
    {
     "name": "stdout",
     "output_type": "stream",
     "text": [
      "Epoch 1/50\n",
      "952/952 [==============================] - 3s 4ms/step - loss: 0.0075\n",
      "Epoch 2/50\n",
      "952/952 [==============================] - 3s 4ms/step - loss: 0.0015\n",
      "Epoch 3/50\n",
      "952/952 [==============================] - 4s 4ms/step - loss: 0.0013\n",
      "Epoch 4/50\n",
      "952/952 [==============================] - 3s 4ms/step - loss: 0.0012\n",
      "Epoch 5/50\n",
      "952/952 [==============================] - 4s 4ms/step - loss: 0.0011\n",
      "Epoch 6/50\n",
      "952/952 [==============================] - 4s 4ms/step - loss: 0.0010\n",
      "Epoch 7/50\n",
      "952/952 [==============================] - 3s 4ms/step - loss: 0.0011\n",
      "Epoch 8/50\n",
      "952/952 [==============================] - 4s 4ms/step - loss: 9.3110e-04\n",
      "Epoch 9/50\n",
      "952/952 [==============================] - 3s 4ms/step - loss: 8.3232e-04\n",
      "Epoch 10/50\n",
      "952/952 [==============================] - 3s 4ms/step - loss: 8.3883e-04\n",
      "Epoch 11/50\n",
      "952/952 [==============================] - 3s 4ms/step - loss: 7.7327e-04\n",
      "Epoch 12/50\n",
      "952/952 [==============================] - 3s 4ms/step - loss: 8.0151e-04\n",
      "Epoch 13/50\n",
      "952/952 [==============================] - 4s 4ms/step - loss: 6.6563e-04\n",
      "Epoch 14/50\n",
      "952/952 [==============================] - 3s 4ms/step - loss: 6.7204e-04\n",
      "Epoch 15/50\n",
      "952/952 [==============================] - 5s 5ms/step - loss: 6.4629e-04\n",
      "Epoch 16/50\n",
      "952/952 [==============================] - 7s 7ms/step - loss: 6.1622e-04\n",
      "Epoch 17/50\n",
      "952/952 [==============================] - 4s 4ms/step - loss: 6.6645e-04\n",
      "Epoch 18/50\n",
      "952/952 [==============================] - 6s 6ms/step - loss: 5.7491e-04\n",
      "Epoch 19/50\n",
      "952/952 [==============================] - 6s 7ms/step - loss: 6.2968e-04\n",
      "Epoch 20/50\n",
      "952/952 [==============================] - 3s 4ms/step - loss: 6.2934e-04\n",
      "Epoch 21/50\n",
      "952/952 [==============================] - 3s 4ms/step - loss: 5.8203e-04\n",
      "Epoch 22/50\n",
      "952/952 [==============================] - 3s 4ms/step - loss: 5.6604e-04\n",
      "Epoch 23/50\n",
      "952/952 [==============================] - 4s 4ms/step - loss: 5.4657e-04\n",
      "Epoch 24/50\n",
      "952/952 [==============================] - 3s 4ms/step - loss: 6.0695e-04\n",
      "Epoch 25/50\n",
      "952/952 [==============================] - 3s 4ms/step - loss: 5.1163e-04\n",
      "Epoch 26/50\n",
      "952/952 [==============================] - 3s 4ms/step - loss: 5.5200e-04\n",
      "Epoch 27/50\n",
      "952/952 [==============================] - 3s 4ms/step - loss: 6.1000e-04\n",
      "Epoch 28/50\n",
      "952/952 [==============================] - 3s 4ms/step - loss: 5.7924e-04\n",
      "Epoch 29/50\n",
      "952/952 [==============================] - 3s 4ms/step - loss: 4.6070e-04\n",
      "Epoch 30/50\n",
      "952/952 [==============================] - 3s 4ms/step - loss: 4.7075e-04\n",
      "Epoch 31/50\n",
      "952/952 [==============================] - 4s 4ms/step - loss: 4.6690e-04\n",
      "Epoch 32/50\n",
      "952/952 [==============================] - 4s 4ms/step - loss: 4.4875e-04\n",
      "Epoch 33/50\n",
      "952/952 [==============================] - 3s 4ms/step - loss: 4.8846e-04\n",
      "Epoch 34/50\n",
      "952/952 [==============================] - 4s 4ms/step - loss: 4.6387e-04\n",
      "Epoch 35/50\n",
      "952/952 [==============================] - 4s 4ms/step - loss: 4.9753e-04\n",
      "Epoch 36/50\n",
      "952/952 [==============================] - 4s 4ms/step - loss: 5.0443e-04\n",
      "Epoch 37/50\n",
      "952/952 [==============================] - 4s 4ms/step - loss: 4.3496e-04\n",
      "Epoch 38/50\n",
      "952/952 [==============================] - 4s 4ms/step - loss: 4.4288e-04\n",
      "Epoch 39/50\n",
      "952/952 [==============================] - 4s 4ms/step - loss: 4.8358e-04\n",
      "Epoch 40/50\n",
      "952/952 [==============================] - 4s 4ms/step - loss: 4.2358e-04\n",
      "Epoch 41/50\n",
      "952/952 [==============================] - 3s 4ms/step - loss: 4.3670e-04\n",
      "Epoch 42/50\n",
      "952/952 [==============================] - 3s 4ms/step - loss: 4.5396e-04\n",
      "Epoch 43/50\n",
      "952/952 [==============================] - 5s 5ms/step - loss: 4.6330e-04\n",
      "Epoch 44/50\n",
      "952/952 [==============================] - 4s 4ms/step - loss: 4.5671e-04\n",
      "Epoch 45/50\n",
      "952/952 [==============================] - 4s 4ms/step - loss: 4.0903e-04\n",
      "Epoch 46/50\n",
      "952/952 [==============================] - 4s 4ms/step - loss: 4.2961e-04\n",
      "Epoch 47/50\n",
      "952/952 [==============================] - 4s 4ms/step - loss: 3.7394e-04\n",
      "Epoch 48/50\n",
      "952/952 [==============================] - 4s 4ms/step - loss: 3.7635e-04\n",
      "Epoch 49/50\n",
      "952/952 [==============================] - 4s 4ms/step - loss: 4.3317e-04\n",
      "Epoch 50/50\n",
      "952/952 [==============================] - 5s 5ms/step - loss: 4.1555e-04\n"
     ]
    },
    {
     "data": {
      "text/plain": [
       "<keras.callbacks.callbacks.History at 0x7ff94f007a58>"
      ]
     },
     "execution_count": 25,
     "metadata": {},
     "output_type": "execute_result"
    }
   ],
   "source": [
    "#train the model\n",
    "#model checkpoint save_weights_only=True\n",
    "#fresh_model.load_weights  load_model\n",
    "#model.save(), load_model('')\n",
    "model.fit(X_train,y_train, epochs=50, batch_size=32 ) "
   ]
  },
  {
   "cell_type": "code",
   "execution_count": 26,
   "metadata": {},
   "outputs": [
    {
     "data": {
      "text/plain": [
       "'/Users/davidtorres/Flatiron_041320/Model_5/dsc-capstone-project-v2-onl01-dtsc-pt-041320'"
      ]
     },
     "execution_count": 26,
     "metadata": {},
     "output_type": "execute_result"
    }
   ],
   "source": [
    "pwd"
   ]
  },
  {
   "cell_type": "code",
   "execution_count": 27,
   "metadata": {},
   "outputs": [],
   "source": [
    "model.save('model_parameters')"
   ]
  },
  {
   "cell_type": "code",
   "execution_count": 28,
   "metadata": {},
   "outputs": [],
   "source": [
    "\n",
    "from keras.models import load_model"
   ]
  },
  {
   "cell_type": "code",
   "execution_count": 29,
   "metadata": {},
   "outputs": [],
   "source": [
    "import keras"
   ]
  },
  {
   "cell_type": "code",
   "execution_count": 30,
   "metadata": {
    "scrolled": false
   },
   "outputs": [
    {
     "name": "stdout",
     "output_type": "stream",
     "text": [
      "Model: \"sequential_1\"\n",
      "_________________________________________________________________\n",
      "Layer (type)                 Output Shape              Param #   \n",
      "=================================================================\n",
      "lstm_1 (LSTM)                (None, 60, 50)            10400     \n",
      "_________________________________________________________________\n",
      "dropout_1 (Dropout)          (None, 60, 50)            0         \n",
      "_________________________________________________________________\n",
      "lstm_2 (LSTM)                (None, 60, 50)            20200     \n",
      "_________________________________________________________________\n",
      "dropout_2 (Dropout)          (None, 60, 50)            0         \n",
      "_________________________________________________________________\n",
      "lstm_3 (LSTM)                (None, 50)                20200     \n",
      "_________________________________________________________________\n",
      "dropout_3 (Dropout)          (None, 50)                0         \n",
      "_________________________________________________________________\n",
      "dense_1 (Dense)              (None, 25)                1275      \n",
      "_________________________________________________________________\n",
      "dense_2 (Dense)              (None, 1)                 26        \n",
      "=================================================================\n",
      "Total params: 52,101\n",
      "Trainable params: 52,101\n",
      "Non-trainable params: 0\n",
      "_________________________________________________________________\n"
     ]
    }
   ],
   "source": [
    "model_params = keras.models.load_model('model_parameters')\n",
    "#model1 = load_model(model_params)\n",
    "\n",
    "# summarize model.\n",
    "model_params.summary()"
   ]
  },
  {
   "cell_type": "code",
   "execution_count": 31,
   "metadata": {},
   "outputs": [],
   "source": [
    "#convert data to a numpy array\n",
    "#X_test = np.array(X_test)"
   ]
  },
  {
   "cell_type": "code",
   "execution_count": 32,
   "metadata": {},
   "outputs": [],
   "source": [
    "#X_test.shape"
   ]
  },
  {
   "cell_type": "code",
   "execution_count": 33,
   "metadata": {},
   "outputs": [],
   "source": [
    "#number of rows, number of timeseteps, number of features\n",
    "#X_test = np.reshape(X_test,(X_test.shape[0],X_test.shape[1],1))"
   ]
  },
  {
   "cell_type": "code",
   "execution_count": 34,
   "metadata": {},
   "outputs": [],
   "source": [
    "#X_test.shape"
   ]
  },
  {
   "cell_type": "code",
   "execution_count": 35,
   "metadata": {},
   "outputs": [],
   "source": [
    "def make_prediction(model, X_test, y_test,training_data_len):\n",
    "    predictions = model.predict(X_test)\n",
    "    prediction_unscaled = scaler.inverse_transform(predictions) #unscaling the values\n",
    "    \n",
    "    y_test_unscaled = scaler.inverse_transform(y_test.reshape(-1,1)) #unscaling the values\n",
    "    \n",
    "    #this is in dollars\n",
    "    rmse_predictions = np.sqrt(np.mean(prediction_unscaled -y_test_unscaled)**2)\n",
    "    rmse_predictions\n",
    "    \n",
    "    predictions = pd.DataFrame(prediction_unscaled, columns=['Predictions'])\n",
    "    \n",
    "    train = dataset[:training_data_len]\n",
    "    valid = dataset[training_data_len:] #data from index training_data_len to \n",
    "    \n",
    "    valid.reset_index(inplace=True)\n",
    "    valid['Prediction'] = predictions['Predictions']\n",
    "    valid1 = valid.set_index('Date')\n",
    "    \n",
    "    plt.figure(figsize=(12,8))\n",
    "    plt.title('Model')\n",
    "    plt.xlabel('Label')\n",
    "    plt.ylabel('Close Price USD ($)')\n",
    "    plt.plot(train['Close'])\n",
    "    #plt.plot(valid[['Close','Predictions']])\n",
    "    plt.plot(valid1['Close'])\n",
    "    plt.plot(valid1['Prediction'])\n",
    "    # #valid[['Close','Predictions']].plot()\n",
    "    plt.legend(['Train','Valid','Predictions'],loc='lower right')\n",
    "    return rmse_predictions, valid1\n",
    "    "
   ]
  },
  {
   "cell_type": "code",
   "execution_count": 36,
   "metadata": {},
   "outputs": [
    {
     "data": {
      "text/plain": [
       "(0.6909273170199786,\n",
       "                  Close  Prediction\n",
       " Date                              \n",
       " 2020-01-10  124.730003  123.152542\n",
       " 2020-01-13  123.870003  123.162567\n",
       " 2020-01-14  125.260002  123.403618\n",
       " 2020-01-15  117.000000  123.926338\n",
       " 2020-01-16  116.320000  123.171593\n",
       " ...                ...         ...\n",
       " 2021-01-05  180.369995  177.037521\n",
       " 2021-01-06  188.919998  178.022476\n",
       " 2021-01-07  191.100006  180.775360\n",
       " 2021-01-08  193.600006  184.616837\n",
       " 2021-01-11  195.279999  188.713699\n",
       " \n",
       " [253 rows x 2 columns])"
      ]
     },
     "execution_count": 36,
     "metadata": {},
     "output_type": "execute_result"
    },
    {
     "data": {
      "image/png": "[encoded data removed]",
      "text/plain": [
       "<Figure size 864x576 with 1 Axes>"
      ]
     },
     "metadata": {
      "needs_background": "light"
     },
     "output_type": "display_data"
    }
   ],
   "source": [
    "make_prediction(model, X_test,y_test, training_data_len )"
   ]
  },
  {
   "cell_type": "code",
   "execution_count": 37,
   "metadata": {},
   "outputs": [],
   "source": [
    "#get models predicted price values for X_test dataset\n",
    "#want predcitions to contain same values as y_test dataset once we inverse_transform\n",
    "#getting predcitiosn off of X_test\n",
    "# predictions = model.predict(X_test)\n",
    "# prediction_unscaled = scaler.inverse_transform(predictions) #unscaling the values"
   ]
  },
  {
   "cell_type": "code",
   "execution_count": 38,
   "metadata": {},
   "outputs": [],
   "source": [
    "# #predictions_y = model.predict(X_test)\n",
    "# y_test_unscaled = scaler.inverse_transform(y_test.reshape(-1,1)) #unscaling the values"
   ]
  },
  {
   "cell_type": "code",
   "execution_count": 39,
   "metadata": {},
   "outputs": [],
   "source": [
    "#y_test"
   ]
  },
  {
   "cell_type": "code",
   "execution_count": 40,
   "metadata": {},
   "outputs": [],
   "source": [
    "#len(predictions)"
   ]
  },
  {
   "cell_type": "code",
   "execution_count": 41,
   "metadata": {},
   "outputs": [],
   "source": [
    "#predictions"
   ]
  },
  {
   "cell_type": "code",
   "execution_count": 42,
   "metadata": {},
   "outputs": [],
   "source": [
    "# #evaluate model w/RMSE\n",
    "# rmse = np.sqrt(np.mean(predictions-y_test)**2)\n",
    "# rmse"
   ]
  },
  {
   "cell_type": "code",
   "execution_count": 43,
   "metadata": {
    "code_folding": []
   },
   "outputs": [],
   "source": [
    "# #this is in dollars\n",
    "# rmse_predictions = np.sqrt(np.mean(prediction_unscaled -y_test_unscaled)**2)\n",
    "# rmse_predictions\n"
   ]
  },
  {
   "cell_type": "code",
   "execution_count": 44,
   "metadata": {},
   "outputs": [],
   "source": [
    "from sklearn import metrics"
   ]
  },
  {
   "cell_type": "code",
   "execution_count": 45,
   "metadata": {},
   "outputs": [],
   "source": [
    "# print(np.sqrt(metrics.mean_squared_error(y_test,predictions)))"
   ]
  },
  {
   "cell_type": "code",
   "execution_count": 46,
   "metadata": {},
   "outputs": [],
   "source": [
    "#predictions = pd.DataFrame(prediction_unscaled, columns=['Predictions'])"
   ]
  },
  {
   "cell_type": "code",
   "execution_count": 47,
   "metadata": {},
   "outputs": [],
   "source": [
    "# train = dataset[:training_data_len]\n",
    "# valid = dataset[training_data_len:] #data from index training_data_len to "
   ]
  },
  {
   "cell_type": "code",
   "execution_count": 48,
   "metadata": {},
   "outputs": [],
   "source": [
    "#len(predictions), len(valid)"
   ]
  },
  {
   "cell_type": "code",
   "execution_count": 49,
   "metadata": {},
   "outputs": [],
   "source": [
    "#valid.reset_index(inplace=True)"
   ]
  },
  {
   "cell_type": "code",
   "execution_count": 50,
   "metadata": {},
   "outputs": [],
   "source": [
    "#valid.head()"
   ]
  },
  {
   "cell_type": "code",
   "execution_count": 51,
   "metadata": {},
   "outputs": [],
   "source": [
    "#predictions.head()"
   ]
  },
  {
   "cell_type": "code",
   "execution_count": 52,
   "metadata": {},
   "outputs": [],
   "source": [
    "#valid['Prediction'] = predictions['Predictions']"
   ]
  },
  {
   "cell_type": "code",
   "execution_count": 53,
   "metadata": {},
   "outputs": [],
   "source": [
    "#valid1 = valid.set_index('Date')"
   ]
  },
  {
   "cell_type": "code",
   "execution_count": 54,
   "metadata": {},
   "outputs": [],
   "source": [
    "#valid1.tail()"
   ]
  },
  {
   "cell_type": "code",
   "execution_count": 55,
   "metadata": {},
   "outputs": [
    {
     "data": {
      "text/plain": [
       "'\\nblue-data model was trainined on \\norange-actual closing stock price for rest of days\\ngreen-what model predcited values to be\\n'"
      ]
     },
     "execution_count": 55,
     "metadata": {},
     "output_type": "execute_result"
    }
   ],
   "source": [
    "\"\"\"\n",
    "blue-data model was trainined on \n",
    "orange-actual closing stock price for rest of days\n",
    "green-what model predcited values to be\n",
    "\"\"\"\n",
    "\n",
    "# train = dataset[:training_data_len]\n",
    "# valid = dataset[training_data_len:] #data from index training_data_len to \n",
    "# valid['Predictions'] = predictions\n",
    "# plt.figure(figsize=(12,8))\n",
    "# plt.title('Model')\n",
    "# plt.xlabel('Label')\n",
    "# plt.ylabel('Close Price USD ($)')\n",
    "# plt.plot(train['Close'])\n",
    "# #plt.plot(valid[['Close','Predictions']])\n",
    "# plt.plot(valid1['Close'])\n",
    "# plt.plot(valid1['Prediction'])\n",
    "# # #valid[['Close','Predictions']].plot()\n",
    "# plt.legend(['Train','Valid','Predictions'],loc='lower right')"
   ]
  },
  {
   "cell_type": "code",
   "execution_count": 56,
   "metadata": {},
   "outputs": [],
   "source": [
    "#dataset.tail()"
   ]
  },
  {
   "cell_type": "code",
   "execution_count": 57,
   "metadata": {},
   "outputs": [],
   "source": [
    "\"\"\"\n",
    "predict closing price fo apple stock for 12/18/2019\n",
    "\n",
    "get the quote\n",
    "\"\"\"\n",
    "def get_quote(new_df):\n",
    "    #get last 60days closing values and convert datframe to an array\n",
    "    last_60_days = new_df[-60:].values #converts to array\n",
    "    #scale data\n",
    "    last_60_days_scaled = scaler.transform(last_60_days)\n",
    "    #realreate empty list\n",
    "    x_test = []\n",
    "    #append last 60 days to x_test\n",
    "    x_test.append(last_60_days_scaled)\n",
    "    #conert x_test to a numpy array\n",
    "    x_test = np.array(x_test)\n",
    "    # #reshape the data\n",
    "    x_test = np.reshape(x_test, (x_test.shape[0],x_test.shape[1],1))\n",
    "    #get the predcited scaled price\n",
    "    pred_price = model.predict(x_test)\n",
    "    #undo the scaling \n",
    "    pred_price = scaler.inverse_transform(pred_price) \n",
    "    #what model thinks predicted price will be for 12/18/2019\n",
    "    #the actual prcie was $69.94\n",
    "    #DAL: 58.58, 2021-1-11 40.19\n",
    "    return pred_price                    "
   ]
  },
  {
   "cell_type": "code",
   "execution_count": 58,
   "metadata": {},
   "outputs": [
    {
     "data": {
      "text/plain": [
       "array([[192.35258]], dtype=float32)"
      ]
     },
     "execution_count": 58,
     "metadata": {},
     "output_type": "execute_result"
    }
   ],
   "source": [
    "get_quote(dataset)"
   ]
  },
  {
   "cell_type": "markdown",
   "metadata": {},
   "source": [
    "## New Model"
   ]
  },
  {
   "cell_type": "code",
   "execution_count": 59,
   "metadata": {},
   "outputs": [
    {
     "name": "stdout",
     "output_type": "stream",
     "text": [
      "(1265, 6)\n"
     ]
    },
    {
     "data": {
      "text/html": [
       "<div>\n",
       "<style scoped>\n",
       "    .dataframe tbody tr th:only-of-type {\n",
       "        vertical-align: middle;\n",
       "    }\n",
       "\n",
       "    .dataframe tbody tr th {\n",
       "        vertical-align: top;\n",
       "    }\n",
       "\n",
       "    .dataframe thead th {\n",
       "        text-align: right;\n",
       "    }\n",
       "</style>\n",
       "<table border=\"1\" class=\"dataframe\">\n",
       "  <thead>\n",
       "    <tr style=\"text-align: right;\">\n",
       "      <th></th>\n",
       "      <th>High</th>\n",
       "      <th>Low</th>\n",
       "      <th>Open</th>\n",
       "      <th>Close</th>\n",
       "      <th>Volume</th>\n",
       "      <th>Adj Close</th>\n",
       "    </tr>\n",
       "    <tr>\n",
       "      <th>Date</th>\n",
       "      <th></th>\n",
       "      <th></th>\n",
       "      <th></th>\n",
       "      <th></th>\n",
       "      <th></th>\n",
       "      <th></th>\n",
       "    </tr>\n",
       "  </thead>\n",
       "  <tbody>\n",
       "    <tr>\n",
       "      <th>2016-01-04</th>\n",
       "      <td>657.719971</td>\n",
       "      <td>627.510010</td>\n",
       "      <td>656.289978</td>\n",
       "      <td>636.989990</td>\n",
       "      <td>9314500</td>\n",
       "      <td>636.989990</td>\n",
       "    </tr>\n",
       "    <tr>\n",
       "      <th>2016-01-05</th>\n",
       "      <td>646.909973</td>\n",
       "      <td>627.650024</td>\n",
       "      <td>646.859985</td>\n",
       "      <td>633.789978</td>\n",
       "      <td>5822600</td>\n",
       "      <td>633.789978</td>\n",
       "    </tr>\n",
       "    <tr>\n",
       "      <th>2016-01-06</th>\n",
       "      <td>639.789978</td>\n",
       "      <td>620.309998</td>\n",
       "      <td>622.000000</td>\n",
       "      <td>632.650024</td>\n",
       "      <td>5329200</td>\n",
       "      <td>632.650024</td>\n",
       "    </tr>\n",
       "    <tr>\n",
       "      <th>2016-01-07</th>\n",
       "      <td>630.000000</td>\n",
       "      <td>605.210022</td>\n",
       "      <td>621.799988</td>\n",
       "      <td>607.940002</td>\n",
       "      <td>7074900</td>\n",
       "      <td>607.940002</td>\n",
       "    </tr>\n",
       "    <tr>\n",
       "      <th>2016-01-08</th>\n",
       "      <td>624.140015</td>\n",
       "      <td>606.000000</td>\n",
       "      <td>619.659973</td>\n",
       "      <td>607.049988</td>\n",
       "      <td>5512900</td>\n",
       "      <td>607.049988</td>\n",
       "    </tr>\n",
       "    <tr>\n",
       "      <th>...</th>\n",
       "      <td>...</td>\n",
       "      <td>...</td>\n",
       "      <td>...</td>\n",
       "      <td>...</td>\n",
       "      <td>...</td>\n",
       "      <td>...</td>\n",
       "    </tr>\n",
       "    <tr>\n",
       "      <th>2021-01-05</th>\n",
       "      <td>3223.379883</td>\n",
       "      <td>3165.060059</td>\n",
       "      <td>3166.010010</td>\n",
       "      <td>3218.510010</td>\n",
       "      <td>2655500</td>\n",
       "      <td>3218.510010</td>\n",
       "    </tr>\n",
       "    <tr>\n",
       "      <th>2021-01-06</th>\n",
       "      <td>3197.510010</td>\n",
       "      <td>3131.159912</td>\n",
       "      <td>3146.479980</td>\n",
       "      <td>3138.379883</td>\n",
       "      <td>4394800</td>\n",
       "      <td>3138.379883</td>\n",
       "    </tr>\n",
       "    <tr>\n",
       "      <th>2021-01-07</th>\n",
       "      <td>3208.540039</td>\n",
       "      <td>3155.000000</td>\n",
       "      <td>3157.000000</td>\n",
       "      <td>3162.159912</td>\n",
       "      <td>3514500</td>\n",
       "      <td>3162.159912</td>\n",
       "    </tr>\n",
       "    <tr>\n",
       "      <th>2021-01-08</th>\n",
       "      <td>3190.639893</td>\n",
       "      <td>3142.199951</td>\n",
       "      <td>3180.000000</td>\n",
       "      <td>3182.699951</td>\n",
       "      <td>3534300</td>\n",
       "      <td>3182.699951</td>\n",
       "    </tr>\n",
       "    <tr>\n",
       "      <th>2021-01-11</th>\n",
       "      <td>3156.379883</td>\n",
       "      <td>3110.000000</td>\n",
       "      <td>3148.010010</td>\n",
       "      <td>3114.209961</td>\n",
       "      <td>3683400</td>\n",
       "      <td>3114.209961</td>\n",
       "    </tr>\n",
       "  </tbody>\n",
       "</table>\n",
       "<p>1265 rows × 6 columns</p>\n",
       "</div>"
      ],
      "text/plain": [
       "                   High          Low         Open        Close   Volume  \\\n",
       "Date                                                                      \n",
       "2016-01-04   657.719971   627.510010   656.289978   636.989990  9314500   \n",
       "2016-01-05   646.909973   627.650024   646.859985   633.789978  5822600   \n",
       "2016-01-06   639.789978   620.309998   622.000000   632.650024  5329200   \n",
       "2016-01-07   630.000000   605.210022   621.799988   607.940002  7074900   \n",
       "2016-01-08   624.140015   606.000000   619.659973   607.049988  5512900   \n",
       "...                 ...          ...          ...          ...      ...   \n",
       "2021-01-05  3223.379883  3165.060059  3166.010010  3218.510010  2655500   \n",
       "2021-01-06  3197.510010  3131.159912  3146.479980  3138.379883  4394800   \n",
       "2021-01-07  3208.540039  3155.000000  3157.000000  3162.159912  3514500   \n",
       "2021-01-08  3190.639893  3142.199951  3180.000000  3182.699951  3534300   \n",
       "2021-01-11  3156.379883  3110.000000  3148.010010  3114.209961  3683400   \n",
       "\n",
       "              Adj Close  \n",
       "Date                     \n",
       "2016-01-04   636.989990  \n",
       "2016-01-05   633.789978  \n",
       "2016-01-06   632.650024  \n",
       "2016-01-07   607.940002  \n",
       "2016-01-08   607.049988  \n",
       "...                 ...  \n",
       "2021-01-05  3218.510010  \n",
       "2021-01-06  3138.379883  \n",
       "2021-01-07  3162.159912  \n",
       "2021-01-08  3182.699951  \n",
       "2021-01-11  3114.209961  \n",
       "\n",
       "[1265 rows x 6 columns]"
      ]
     },
     "execution_count": 59,
     "metadata": {},
     "output_type": "execute_result"
    },
    {
     "data": {
      "image/png": "[encoded data removed]",
      "text/plain": [
       "<Figure size 864x576 with 1 Axes>"
      ]
     },
     "metadata": {
      "needs_background": "light"
     },
     "output_type": "display_data"
    }
   ],
   "source": [
    "the_data = get_data('AMZN',data_source='yahoo', start='2016-01-01',end='2021-1-11')\n",
    "the_data"
   ]
  },
  {
   "cell_type": "code",
   "execution_count": 60,
   "metadata": {},
   "outputs": [],
   "source": [
    "training_data_len, dataset, scaler, scaled_data = preprocessing(the_data['Close'], percentage=.8)"
   ]
  },
  {
   "cell_type": "code",
   "execution_count": 61,
   "metadata": {},
   "outputs": [],
   "source": [
    "X_train, X_test, y_train, y_test = create_sets(training_data_len)"
   ]
  },
  {
   "cell_type": "code",
   "execution_count": 62,
   "metadata": {},
   "outputs": [
    {
     "name": "stdout",
     "output_type": "stream",
     "text": [
      "Model: \"sequential_1\"\n",
      "_________________________________________________________________\n",
      "Layer (type)                 Output Shape              Param #   \n",
      "=================================================================\n",
      "lstm_1 (LSTM)                (None, 60, 50)            10400     \n",
      "_________________________________________________________________\n",
      "dropout_1 (Dropout)          (None, 60, 50)            0         \n",
      "_________________________________________________________________\n",
      "lstm_2 (LSTM)                (None, 60, 50)            20200     \n",
      "_________________________________________________________________\n",
      "dropout_2 (Dropout)          (None, 60, 50)            0         \n",
      "_________________________________________________________________\n",
      "lstm_3 (LSTM)                (None, 50)                20200     \n",
      "_________________________________________________________________\n",
      "dropout_3 (Dropout)          (None, 50)                0         \n",
      "_________________________________________________________________\n",
      "dense_1 (Dense)              (None, 25)                1275      \n",
      "_________________________________________________________________\n",
      "dense_2 (Dense)              (None, 1)                 26        \n",
      "=================================================================\n",
      "Total params: 52,101\n",
      "Trainable params: 52,101\n",
      "Non-trainable params: 0\n",
      "_________________________________________________________________\n"
     ]
    }
   ],
   "source": [
    "model_params.summary()"
   ]
  },
  {
   "cell_type": "code",
   "execution_count": 63,
   "metadata": {},
   "outputs": [
    {
     "data": {
      "text/plain": [
       "(3.6655678730237136,\n",
       "                   Close   Prediction\n",
       " Date                                \n",
       " 2020-01-10  1883.160034  1893.012085\n",
       " 2020-01-13  1891.300049  1890.583618\n",
       " 2020-01-14  1869.439941  1886.694214\n",
       " 2020-01-15  1862.020020  1879.574341\n",
       " 2020-01-16  1877.939941  1870.155151\n",
       " ...                 ...          ...\n",
       " 2021-01-05  3218.510010  3285.673340\n",
       " 2021-01-06  3138.379883  3266.913574\n",
       " 2021-01-07  3162.159912  3234.810547\n",
       " 2021-01-08  3182.699951  3204.426025\n",
       " 2021-01-11  3114.209961  3186.691650\n",
       " \n",
       " [253 rows x 2 columns])"
      ]
     },
     "execution_count": 63,
     "metadata": {},
     "output_type": "execute_result"
    },
    {
     "data": {
      "image/png": "[encoded data removed]",
      "text/plain": [
       "<Figure size 864x576 with 1 Axes>"
      ]
     },
     "metadata": {
      "needs_background": "light"
     },
     "output_type": "display_data"
    }
   ],
   "source": [
    "make_prediction(model_params, X_test,y_test, training_data_len )"
   ]
  },
  {
   "cell_type": "code",
   "execution_count": 64,
   "metadata": {},
   "outputs": [
    {
     "data": {
      "text/plain": [
       "array([[3169.3374]], dtype=float32)"
      ]
     },
     "execution_count": 64,
     "metadata": {},
     "output_type": "execute_result"
    }
   ],
   "source": [
    "get_quote(dataset)"
   ]
  },
  {
   "cell_type": "code",
   "execution_count": null,
   "metadata": {},
   "outputs": [],
   "source": []
  }
 ],
 "metadata": {
  "kernelspec": {
   "display_name": "Python 3",
   "language": "python",
   "name": "python3"
  },
  "language_info": {
   "codemirror_mode": {
    "name": "ipython",
    "version": 3
   },
   "file_extension": ".py",
   "mimetype": "text/x-python",
   "name": "python",
   "nbconvert_exporter": "python",
   "pygments_lexer": "ipython3",
   "version": "3.6.9"
  },
  "toc": {
   "base_numbering": 1,
   "nav_menu": {},
   "number_sections": true,
   "sideBar": true,
   "skip_h1_title": false,
   "title_cell": "Table of Contents",
   "title_sidebar": "Contents",
   "toc_cell": false,
   "toc_position": {},
   "toc_section_display": true,
   "toc_window_display": false
  }
 },
 "nbformat": 4,
 "nbformat_minor": 4
}
