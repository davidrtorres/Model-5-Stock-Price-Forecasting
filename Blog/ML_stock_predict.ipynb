{
 "cells": [
  {
   "cell_type": "code",
   "execution_count": 1,
   "metadata": {},
   "outputs": [],
   "source": [
    "import pandas as pd\n",
    "import numpy as np\n",
    "import matplotlib.pyplot as plt\n",
    "%matplotlib inline\n",
    "\n",
    "from sklearn.model_selection import train_test_split\n",
    "from sklearn.linear_model import LinearRegression\n",
    "from sklearn.svm import SVR\n",
    "\n",
    "import pandas_datareader.data as web\n",
    "from sklearn.metrics import mean_squared_error"
   ]
  },
  {
   "cell_type": "markdown",
   "metadata": {},
   "source": [
    "I like working with financial data and stock prices.  When building a model to predict stock prices Timeseries algorithms are generally used.  The purpose of this blog is to show you how to use Machine Learning models can be used to to predict stock prices.  I'll also show you how to use metrics to evaluate the performance of the models and how to plot the results.<br>\n",
    "I used the Pandas library DataReader to get the data from Yahoo Finance.  I have included a function which enables the user to get the data from any publicly traded company by substituting the symbol and changing the dates as needed.  The function provides the data in Pandas format and a corresponding plot.  If you don't want the plot you canset it to False.  For this blog I will be working with the column 'Adj Close' of Amazon (AMZN) stock.  The plot provides a nice overview of the price history for the stock.  We can see that the procide for AMZN has been steadily increasing from early 2017 to 2021. "
   ]
  },
  {
   "cell_type": "markdown",
   "metadata": {},
   "source": [
    "### Import the Data"
   ]
  },
  {
   "cell_type": "code",
   "execution_count": 2,
   "metadata": {},
   "outputs": [],
   "source": [
    "def single_stock_data(symbol, start,end=None,plot=True,stock_value='Adj Close'):\n",
    "    \n",
    "    try:\n",
    "        \n",
    "        df = web.DataReader(symbol,'yahoo', start, end)\n",
    "        df_single = pd.DataFrame(df)\n",
    "        print()\n",
    "        if plot==True:\n",
    "            plt.figure(figsize=(12,8))\n",
    "            plt.plot(df_single[stock_value])\n",
    "            label_font = {'weight':'bold','size':18}\n",
    "            plt.xlabel('Date',fontdict=label_font)\n",
    "            plt.ylabel('Adj Close Price',fontdict=label_font)\n",
    "            plt.title(f'Historical {stock_value} Price for {symbol}',fontdict=label_font)\n",
    "            \n",
    "        return df_single\n",
    "        \n",
    "    except Exception as e:\n",
    "        #if inccorect symbol is inputted, error message displayed\n",
    "        print(\"Error occured/Incorrect Symbol:\", e)\n",
    "       "
   ]
  },
  {
   "cell_type": "code",
   "execution_count": 3,
   "metadata": {},
   "outputs": [
    {
     "name": "stdout",
     "output_type": "stream",
     "text": [
      "\n"
     ]
    },
    {
     "data": {
      "text/html": [
       "<div>\n",
       "<style scoped>\n",
       "    .dataframe tbody tr th:only-of-type {\n",
       "        vertical-align: middle;\n",
       "    }\n",
       "\n",
       "    .dataframe tbody tr th {\n",
       "        vertical-align: top;\n",
       "    }\n",
       "\n",
       "    .dataframe thead th {\n",
       "        text-align: right;\n",
       "    }\n",
       "</style>\n",
       "<table border=\"1\" class=\"dataframe\">\n",
       "  <thead>\n",
       "    <tr style=\"text-align: right;\">\n",
       "      <th></th>\n",
       "      <th>High</th>\n",
       "      <th>Low</th>\n",
       "      <th>Open</th>\n",
       "      <th>Close</th>\n",
       "      <th>Volume</th>\n",
       "      <th>Adj Close</th>\n",
       "    </tr>\n",
       "    <tr>\n",
       "      <th>Date</th>\n",
       "      <th></th>\n",
       "      <th></th>\n",
       "      <th></th>\n",
       "      <th></th>\n",
       "      <th></th>\n",
       "      <th></th>\n",
       "    </tr>\n",
       "  </thead>\n",
       "  <tbody>\n",
       "    <tr>\n",
       "      <th>2017-01-03</th>\n",
       "      <td>758.760010</td>\n",
       "      <td>747.700012</td>\n",
       "      <td>757.919983</td>\n",
       "      <td>753.669983</td>\n",
       "      <td>3521100</td>\n",
       "      <td>753.669983</td>\n",
       "    </tr>\n",
       "    <tr>\n",
       "      <th>2017-01-04</th>\n",
       "      <td>759.679993</td>\n",
       "      <td>754.200012</td>\n",
       "      <td>758.390015</td>\n",
       "      <td>757.179993</td>\n",
       "      <td>2510500</td>\n",
       "      <td>757.179993</td>\n",
       "    </tr>\n",
       "    <tr>\n",
       "      <th>2017-01-05</th>\n",
       "      <td>782.400024</td>\n",
       "      <td>760.260010</td>\n",
       "      <td>761.549988</td>\n",
       "      <td>780.450012</td>\n",
       "      <td>5830100</td>\n",
       "      <td>780.450012</td>\n",
       "    </tr>\n",
       "    <tr>\n",
       "      <th>2017-01-06</th>\n",
       "      <td>799.440002</td>\n",
       "      <td>778.479980</td>\n",
       "      <td>782.359985</td>\n",
       "      <td>795.989990</td>\n",
       "      <td>5986200</td>\n",
       "      <td>795.989990</td>\n",
       "    </tr>\n",
       "    <tr>\n",
       "      <th>2017-01-09</th>\n",
       "      <td>801.770020</td>\n",
       "      <td>791.770020</td>\n",
       "      <td>798.000000</td>\n",
       "      <td>796.919983</td>\n",
       "      <td>3446100</td>\n",
       "      <td>796.919983</td>\n",
       "    </tr>\n",
       "    <tr>\n",
       "      <th>...</th>\n",
       "      <td>...</td>\n",
       "      <td>...</td>\n",
       "      <td>...</td>\n",
       "      <td>...</td>\n",
       "      <td>...</td>\n",
       "      <td>...</td>\n",
       "    </tr>\n",
       "    <tr>\n",
       "      <th>2021-04-08</th>\n",
       "      <td>3324.500000</td>\n",
       "      <td>3292.000000</td>\n",
       "      <td>3310.899902</td>\n",
       "      <td>3299.300049</td>\n",
       "      <td>2812100</td>\n",
       "      <td>3299.300049</td>\n",
       "    </tr>\n",
       "    <tr>\n",
       "      <th>2021-04-09</th>\n",
       "      <td>3372.199951</td>\n",
       "      <td>3288.899902</td>\n",
       "      <td>3304.699951</td>\n",
       "      <td>3372.199951</td>\n",
       "      <td>4334600</td>\n",
       "      <td>3372.199951</td>\n",
       "    </tr>\n",
       "    <tr>\n",
       "      <th>2021-04-12</th>\n",
       "      <td>3395.040039</td>\n",
       "      <td>3351.149902</td>\n",
       "      <td>3355.209961</td>\n",
       "      <td>3379.389893</td>\n",
       "      <td>3281800</td>\n",
       "      <td>3379.389893</td>\n",
       "    </tr>\n",
       "    <tr>\n",
       "      <th>2021-04-13</th>\n",
       "      <td>3432.000000</td>\n",
       "      <td>3395.629883</td>\n",
       "      <td>3400.850098</td>\n",
       "      <td>3400.000000</td>\n",
       "      <td>3315800</td>\n",
       "      <td>3400.000000</td>\n",
       "    </tr>\n",
       "    <tr>\n",
       "      <th>2021-04-14</th>\n",
       "      <td>3404.129883</td>\n",
       "      <td>3326.000000</td>\n",
       "      <td>3404.040039</td>\n",
       "      <td>3333.000000</td>\n",
       "      <td>3140300</td>\n",
       "      <td>3333.000000</td>\n",
       "    </tr>\n",
       "  </tbody>\n",
       "</table>\n",
       "<p>1077 rows × 6 columns</p>\n",
       "</div>"
      ],
      "text/plain": [
       "                   High          Low         Open        Close   Volume  \\\n",
       "Date                                                                      \n",
       "2017-01-03   758.760010   747.700012   757.919983   753.669983  3521100   \n",
       "2017-01-04   759.679993   754.200012   758.390015   757.179993  2510500   \n",
       "2017-01-05   782.400024   760.260010   761.549988   780.450012  5830100   \n",
       "2017-01-06   799.440002   778.479980   782.359985   795.989990  5986200   \n",
       "2017-01-09   801.770020   791.770020   798.000000   796.919983  3446100   \n",
       "...                 ...          ...          ...          ...      ...   \n",
       "2021-04-08  3324.500000  3292.000000  3310.899902  3299.300049  2812100   \n",
       "2021-04-09  3372.199951  3288.899902  3304.699951  3372.199951  4334600   \n",
       "2021-04-12  3395.040039  3351.149902  3355.209961  3379.389893  3281800   \n",
       "2021-04-13  3432.000000  3395.629883  3400.850098  3400.000000  3315800   \n",
       "2021-04-14  3404.129883  3326.000000  3404.040039  3333.000000  3140300   \n",
       "\n",
       "              Adj Close  \n",
       "Date                     \n",
       "2017-01-03   753.669983  \n",
       "2017-01-04   757.179993  \n",
       "2017-01-05   780.450012  \n",
       "2017-01-06   795.989990  \n",
       "2017-01-09   796.919983  \n",
       "...                 ...  \n",
       "2021-04-08  3299.300049  \n",
       "2021-04-09  3372.199951  \n",
       "2021-04-12  3379.389893  \n",
       "2021-04-13  3400.000000  \n",
       "2021-04-14  3333.000000  \n",
       "\n",
       "[1077 rows x 6 columns]"
      ]
     },
     "execution_count": 3,
     "metadata": {},
     "output_type": "execute_result"
    },
    {
     "data": {
      "image/png": "[encoded data removed]",
      "text/plain": [
       "<Figure size 864x576 with 1 Axes>"
      ]
     },
     "metadata": {
      "needs_background": "light"
     },
     "output_type": "display_data"
    }
   ],
   "source": [
    "start='01-01-2017'\n",
    "end='today'\n",
    "stock = single_stock_data('AMZN', start= start,end='today',plot=True,stock_value='Adj Close')\n",
    "stock"
   ]
  },
  {
   "cell_type": "code",
   "execution_count": 4,
   "metadata": {},
   "outputs": [
    {
     "data": {
      "text/plain": [
       "Date\n",
       "2017-01-03     753.669983\n",
       "2017-01-04     757.179993\n",
       "2017-01-05     780.450012\n",
       "2017-01-06     795.989990\n",
       "2017-01-09     796.919983\n",
       "                 ...     \n",
       "2021-04-08    3299.300049\n",
       "2021-04-09    3372.199951\n",
       "2021-04-12    3379.389893\n",
       "2021-04-13    3400.000000\n",
       "2021-04-14    3333.000000\n",
       "Name: Adj Close, Length: 1077, dtype: float64"
      ]
     },
     "execution_count": 4,
     "metadata": {},
     "output_type": "execute_result"
    }
   ],
   "source": [
    "stock['Adj Close']"
   ]
  },
  {
   "cell_type": "code",
   "execution_count": 5,
   "metadata": {},
   "outputs": [
    {
     "data": {
      "text/plain": [
       "(1077,)"
      ]
     },
     "execution_count": 5,
     "metadata": {},
     "output_type": "execute_result"
    }
   ],
   "source": [
    "#we can use the .shape function which tells us how many data points and columns there are in the dataset.\n",
    "stock['Adj Close'].shape"
   ]
  },
  {
   "cell_type": "code",
   "execution_count": 6,
   "metadata": {},
   "outputs": [
    {
     "data": {
      "text/plain": [
       "count    1077.000000\n",
       "mean     1863.764836\n",
       "std       745.243189\n",
       "min       753.669983\n",
       "25%      1362.540039\n",
       "50%      1770.719971\n",
       "75%      2039.510010\n",
       "max      3531.449951\n",
       "Name: Adj Close, dtype: float64"
      ]
     },
     "execution_count": 6,
     "metadata": {},
     "output_type": "execute_result"
    }
   ],
   "source": [
    "#.describe() function gives us a quick statistical overiew of the dataset.  With the 'Adj Close' column the lowest price of\n",
    "#of stock was $753.67 and the highest was $3531.45 \n",
    "stock['Adj Close'].describe()"
   ]
  },
  {
   "cell_type": "code",
   "execution_count": 7,
   "metadata": {},
   "outputs": [],
   "source": [
    "#how many days do you want to predict out into the future\n",
    "#this is 1 days out in the future\n",
    "forecast_out=1 \n",
    "#need a target variable that we want to predict\n",
    "#use shift method to shift our data up the number of days taht we want to predcit into the future\n",
    "#create the colun for target variable. Target is the dependent variable\n",
    "#shifted 'n' units up\n",
    "stock['Prediction'] = stock['Adj Close'].shift(-1) #use negativ b/c we want to shift it up"
   ]
  },
  {
   "cell_type": "code",
   "execution_count": 8,
   "metadata": {},
   "outputs": [
    {
     "data": {
      "text/html": [
       "<div>\n",
       "<style scoped>\n",
       "    .dataframe tbody tr th:only-of-type {\n",
       "        vertical-align: middle;\n",
       "    }\n",
       "\n",
       "    .dataframe tbody tr th {\n",
       "        vertical-align: top;\n",
       "    }\n",
       "\n",
       "    .dataframe thead th {\n",
       "        text-align: right;\n",
       "    }\n",
       "</style>\n",
       "<table border=\"1\" class=\"dataframe\">\n",
       "  <thead>\n",
       "    <tr style=\"text-align: right;\">\n",
       "      <th></th>\n",
       "      <th>High</th>\n",
       "      <th>Low</th>\n",
       "      <th>Open</th>\n",
       "      <th>Close</th>\n",
       "      <th>Volume</th>\n",
       "      <th>Adj Close</th>\n",
       "      <th>Prediction</th>\n",
       "    </tr>\n",
       "    <tr>\n",
       "      <th>Date</th>\n",
       "      <th></th>\n",
       "      <th></th>\n",
       "      <th></th>\n",
       "      <th></th>\n",
       "      <th></th>\n",
       "      <th></th>\n",
       "      <th></th>\n",
       "    </tr>\n",
       "  </thead>\n",
       "  <tbody>\n",
       "    <tr>\n",
       "      <th>2017-01-03</th>\n",
       "      <td>758.760010</td>\n",
       "      <td>747.700012</td>\n",
       "      <td>757.919983</td>\n",
       "      <td>753.669983</td>\n",
       "      <td>3521100</td>\n",
       "      <td>753.669983</td>\n",
       "      <td>757.179993</td>\n",
       "    </tr>\n",
       "    <tr>\n",
       "      <th>2017-01-04</th>\n",
       "      <td>759.679993</td>\n",
       "      <td>754.200012</td>\n",
       "      <td>758.390015</td>\n",
       "      <td>757.179993</td>\n",
       "      <td>2510500</td>\n",
       "      <td>757.179993</td>\n",
       "      <td>780.450012</td>\n",
       "    </tr>\n",
       "    <tr>\n",
       "      <th>2017-01-05</th>\n",
       "      <td>782.400024</td>\n",
       "      <td>760.260010</td>\n",
       "      <td>761.549988</td>\n",
       "      <td>780.450012</td>\n",
       "      <td>5830100</td>\n",
       "      <td>780.450012</td>\n",
       "      <td>795.989990</td>\n",
       "    </tr>\n",
       "    <tr>\n",
       "      <th>2017-01-06</th>\n",
       "      <td>799.440002</td>\n",
       "      <td>778.479980</td>\n",
       "      <td>782.359985</td>\n",
       "      <td>795.989990</td>\n",
       "      <td>5986200</td>\n",
       "      <td>795.989990</td>\n",
       "      <td>796.919983</td>\n",
       "    </tr>\n",
       "    <tr>\n",
       "      <th>2017-01-09</th>\n",
       "      <td>801.770020</td>\n",
       "      <td>791.770020</td>\n",
       "      <td>798.000000</td>\n",
       "      <td>796.919983</td>\n",
       "      <td>3446100</td>\n",
       "      <td>796.919983</td>\n",
       "      <td>795.900024</td>\n",
       "    </tr>\n",
       "  </tbody>\n",
       "</table>\n",
       "</div>"
      ],
      "text/plain": [
       "                  High         Low        Open       Close   Volume  \\\n",
       "Date                                                                  \n",
       "2017-01-03  758.760010  747.700012  757.919983  753.669983  3521100   \n",
       "2017-01-04  759.679993  754.200012  758.390015  757.179993  2510500   \n",
       "2017-01-05  782.400024  760.260010  761.549988  780.450012  5830100   \n",
       "2017-01-06  799.440002  778.479980  782.359985  795.989990  5986200   \n",
       "2017-01-09  801.770020  791.770020  798.000000  796.919983  3446100   \n",
       "\n",
       "             Adj Close  Prediction  \n",
       "Date                                \n",
       "2017-01-03  753.669983  757.179993  \n",
       "2017-01-04  757.179993  780.450012  \n",
       "2017-01-05  780.450012  795.989990  \n",
       "2017-01-06  795.989990  796.919983  \n",
       "2017-01-09  796.919983  795.900024  "
      ]
     },
     "execution_count": 8,
     "metadata": {},
     "output_type": "execute_result"
    }
   ],
   "source": [
    "stock.head()"
   ]
  },
  {
   "cell_type": "code",
   "execution_count": 9,
   "metadata": {},
   "outputs": [],
   "source": [
    "stock_df = stock[['Adj Close','Prediction']]"
   ]
  },
  {
   "cell_type": "code",
   "execution_count": 10,
   "metadata": {},
   "outputs": [
    {
     "data": {
      "text/html": [
       "<div>\n",
       "<style scoped>\n",
       "    .dataframe tbody tr th:only-of-type {\n",
       "        vertical-align: middle;\n",
       "    }\n",
       "\n",
       "    .dataframe tbody tr th {\n",
       "        vertical-align: top;\n",
       "    }\n",
       "\n",
       "    .dataframe thead th {\n",
       "        text-align: right;\n",
       "    }\n",
       "</style>\n",
       "<table border=\"1\" class=\"dataframe\">\n",
       "  <thead>\n",
       "    <tr style=\"text-align: right;\">\n",
       "      <th></th>\n",
       "      <th>Adj Close</th>\n",
       "      <th>Prediction</th>\n",
       "    </tr>\n",
       "    <tr>\n",
       "      <th>Date</th>\n",
       "      <th></th>\n",
       "      <th></th>\n",
       "    </tr>\n",
       "  </thead>\n",
       "  <tbody>\n",
       "    <tr>\n",
       "      <th>2017-01-03</th>\n",
       "      <td>753.669983</td>\n",
       "      <td>757.179993</td>\n",
       "    </tr>\n",
       "    <tr>\n",
       "      <th>2017-01-04</th>\n",
       "      <td>757.179993</td>\n",
       "      <td>780.450012</td>\n",
       "    </tr>\n",
       "    <tr>\n",
       "      <th>2017-01-05</th>\n",
       "      <td>780.450012</td>\n",
       "      <td>795.989990</td>\n",
       "    </tr>\n",
       "    <tr>\n",
       "      <th>2017-01-06</th>\n",
       "      <td>795.989990</td>\n",
       "      <td>796.919983</td>\n",
       "    </tr>\n",
       "    <tr>\n",
       "      <th>2017-01-09</th>\n",
       "      <td>796.919983</td>\n",
       "      <td>795.900024</td>\n",
       "    </tr>\n",
       "    <tr>\n",
       "      <th>...</th>\n",
       "      <td>...</td>\n",
       "      <td>...</td>\n",
       "    </tr>\n",
       "    <tr>\n",
       "      <th>2021-04-08</th>\n",
       "      <td>3299.300049</td>\n",
       "      <td>3372.199951</td>\n",
       "    </tr>\n",
       "    <tr>\n",
       "      <th>2021-04-09</th>\n",
       "      <td>3372.199951</td>\n",
       "      <td>3379.389893</td>\n",
       "    </tr>\n",
       "    <tr>\n",
       "      <th>2021-04-12</th>\n",
       "      <td>3379.389893</td>\n",
       "      <td>3400.000000</td>\n",
       "    </tr>\n",
       "    <tr>\n",
       "      <th>2021-04-13</th>\n",
       "      <td>3400.000000</td>\n",
       "      <td>3333.000000</td>\n",
       "    </tr>\n",
       "    <tr>\n",
       "      <th>2021-04-14</th>\n",
       "      <td>3333.000000</td>\n",
       "      <td>NaN</td>\n",
       "    </tr>\n",
       "  </tbody>\n",
       "</table>\n",
       "<p>1077 rows × 2 columns</p>\n",
       "</div>"
      ],
      "text/plain": [
       "              Adj Close   Prediction\n",
       "Date                                \n",
       "2017-01-03   753.669983   757.179993\n",
       "2017-01-04   757.179993   780.450012\n",
       "2017-01-05   780.450012   795.989990\n",
       "2017-01-06   795.989990   796.919983\n",
       "2017-01-09   796.919983   795.900024\n",
       "...                 ...          ...\n",
       "2021-04-08  3299.300049  3372.199951\n",
       "2021-04-09  3372.199951  3379.389893\n",
       "2021-04-12  3379.389893  3400.000000\n",
       "2021-04-13  3400.000000  3333.000000\n",
       "2021-04-14  3333.000000          NaN\n",
       "\n",
       "[1077 rows x 2 columns]"
      ]
     },
     "execution_count": 10,
     "metadata": {},
     "output_type": "execute_result"
    }
   ],
   "source": [
    "#1/3 price was 26.65, if we want to predcit price by 1 day it would be 26.887.\n",
    "#That's exactly what we got in Prediciton column \n",
    "#move up values by 1 day and put into prediciton column\n",
    "stock_df"
   ]
  },
  {
   "cell_type": "code",
   "execution_count": 11,
   "metadata": {},
   "outputs": [
    {
     "data": {
      "text/html": [
       "<div>\n",
       "<style scoped>\n",
       "    .dataframe tbody tr th:only-of-type {\n",
       "        vertical-align: middle;\n",
       "    }\n",
       "\n",
       "    .dataframe tbody tr th {\n",
       "        vertical-align: top;\n",
       "    }\n",
       "\n",
       "    .dataframe thead th {\n",
       "        text-align: right;\n",
       "    }\n",
       "</style>\n",
       "<table border=\"1\" class=\"dataframe\">\n",
       "  <thead>\n",
       "    <tr style=\"text-align: right;\">\n",
       "      <th></th>\n",
       "      <th>Adj Close</th>\n",
       "      <th>Prediction</th>\n",
       "    </tr>\n",
       "    <tr>\n",
       "      <th>Date</th>\n",
       "      <th></th>\n",
       "      <th></th>\n",
       "    </tr>\n",
       "  </thead>\n",
       "  <tbody>\n",
       "    <tr>\n",
       "      <th>2021-04-08</th>\n",
       "      <td>3299.300049</td>\n",
       "      <td>3372.199951</td>\n",
       "    </tr>\n",
       "    <tr>\n",
       "      <th>2021-04-09</th>\n",
       "      <td>3372.199951</td>\n",
       "      <td>3379.389893</td>\n",
       "    </tr>\n",
       "    <tr>\n",
       "      <th>2021-04-12</th>\n",
       "      <td>3379.389893</td>\n",
       "      <td>3400.000000</td>\n",
       "    </tr>\n",
       "    <tr>\n",
       "      <th>2021-04-13</th>\n",
       "      <td>3400.000000</td>\n",
       "      <td>3333.000000</td>\n",
       "    </tr>\n",
       "    <tr>\n",
       "      <th>2021-04-14</th>\n",
       "      <td>3333.000000</td>\n",
       "      <td>NaN</td>\n",
       "    </tr>\n",
       "  </tbody>\n",
       "</table>\n",
       "</div>"
      ],
      "text/plain": [
       "              Adj Close   Prediction\n",
       "Date                                \n",
       "2021-04-08  3299.300049  3372.199951\n",
       "2021-04-09  3372.199951  3379.389893\n",
       "2021-04-12  3379.389893  3400.000000\n",
       "2021-04-13  3400.000000  3333.000000\n",
       "2021-04-14  3333.000000          NaN"
      ]
     },
     "execution_count": 11,
     "metadata": {},
     "output_type": "execute_result"
    }
   ],
   "source": [
    "#has NaN value at end\n",
    "#if want to predcit next day of last value, we don't know what value is\n",
    "#we will eliminate NaN\n",
    "stock_df.tail()"
   ]
  },
  {
   "cell_type": "code",
   "execution_count": 12,
   "metadata": {},
   "outputs": [
    {
     "name": "stderr",
     "output_type": "stream",
     "text": [
      "/Users/davidtorres/opt/anaconda3/envs/learn-env/lib/python3.6/site-packages/ipykernel_launcher.py:1: SettingWithCopyWarning: \n",
      "A value is trying to be set on a copy of a slice from a DataFrame.\n",
      "Try using .loc[row_indexer,col_indexer] = value instead\n",
      "\n",
      "See the caveats in the documentation: https://pandas.pydata.org/pandas-docs/stable/user_guide/indexing.html#returning-a-view-versus-a-copy\n",
      "  \"\"\"Entry point for launching an IPython kernel.\n"
     ]
    }
   ],
   "source": [
    "stock_df['Prediction'] = stock_df[['Adj Close']].shift(-2) "
   ]
  },
  {
   "cell_type": "code",
   "execution_count": 13,
   "metadata": {},
   "outputs": [
    {
     "data": {
      "text/html": [
       "<div>\n",
       "<style scoped>\n",
       "    .dataframe tbody tr th:only-of-type {\n",
       "        vertical-align: middle;\n",
       "    }\n",
       "\n",
       "    .dataframe tbody tr th {\n",
       "        vertical-align: top;\n",
       "    }\n",
       "\n",
       "    .dataframe thead th {\n",
       "        text-align: right;\n",
       "    }\n",
       "</style>\n",
       "<table border=\"1\" class=\"dataframe\">\n",
       "  <thead>\n",
       "    <tr style=\"text-align: right;\">\n",
       "      <th></th>\n",
       "      <th>Adj Close</th>\n",
       "      <th>Prediction</th>\n",
       "    </tr>\n",
       "    <tr>\n",
       "      <th>Date</th>\n",
       "      <th></th>\n",
       "      <th></th>\n",
       "    </tr>\n",
       "  </thead>\n",
       "  <tbody>\n",
       "    <tr>\n",
       "      <th>2017-01-03</th>\n",
       "      <td>753.669983</td>\n",
       "      <td>780.450012</td>\n",
       "    </tr>\n",
       "    <tr>\n",
       "      <th>2017-01-04</th>\n",
       "      <td>757.179993</td>\n",
       "      <td>795.989990</td>\n",
       "    </tr>\n",
       "    <tr>\n",
       "      <th>2017-01-05</th>\n",
       "      <td>780.450012</td>\n",
       "      <td>796.919983</td>\n",
       "    </tr>\n",
       "    <tr>\n",
       "      <th>2017-01-06</th>\n",
       "      <td>795.989990</td>\n",
       "      <td>795.900024</td>\n",
       "    </tr>\n",
       "    <tr>\n",
       "      <th>2017-01-09</th>\n",
       "      <td>796.919983</td>\n",
       "      <td>799.020020</td>\n",
       "    </tr>\n",
       "    <tr>\n",
       "      <th>...</th>\n",
       "      <td>...</td>\n",
       "      <td>...</td>\n",
       "    </tr>\n",
       "    <tr>\n",
       "      <th>2021-04-08</th>\n",
       "      <td>3299.300049</td>\n",
       "      <td>3379.389893</td>\n",
       "    </tr>\n",
       "    <tr>\n",
       "      <th>2021-04-09</th>\n",
       "      <td>3372.199951</td>\n",
       "      <td>3400.000000</td>\n",
       "    </tr>\n",
       "    <tr>\n",
       "      <th>2021-04-12</th>\n",
       "      <td>3379.389893</td>\n",
       "      <td>3333.000000</td>\n",
       "    </tr>\n",
       "    <tr>\n",
       "      <th>2021-04-13</th>\n",
       "      <td>3400.000000</td>\n",
       "      <td>NaN</td>\n",
       "    </tr>\n",
       "    <tr>\n",
       "      <th>2021-04-14</th>\n",
       "      <td>3333.000000</td>\n",
       "      <td>NaN</td>\n",
       "    </tr>\n",
       "  </tbody>\n",
       "</table>\n",
       "<p>1077 rows × 2 columns</p>\n",
       "</div>"
      ],
      "text/plain": [
       "              Adj Close   Prediction\n",
       "Date                                \n",
       "2017-01-03   753.669983   780.450012\n",
       "2017-01-04   757.179993   795.989990\n",
       "2017-01-05   780.450012   796.919983\n",
       "2017-01-06   795.989990   795.900024\n",
       "2017-01-09   796.919983   799.020020\n",
       "...                 ...          ...\n",
       "2021-04-08  3299.300049  3379.389893\n",
       "2021-04-09  3372.199951  3400.000000\n",
       "2021-04-12  3379.389893  3333.000000\n",
       "2021-04-13  3400.000000          NaN\n",
       "2021-04-14  3333.000000          NaN\n",
       "\n",
       "[1077 rows x 2 columns]"
      ]
     },
     "execution_count": 13,
     "metadata": {},
     "output_type": "execute_result"
    }
   ],
   "source": [
    "#what happends if we shifted up 2 days\n",
    "#if price was 26.6533\n",
    "#if we predcited 2 daya, then price would be 27.146002\n",
    "stock_df"
   ]
  },
  {
   "cell_type": "code",
   "execution_count": 14,
   "metadata": {},
   "outputs": [
    {
     "data": {
      "text/html": [
       "<div>\n",
       "<style scoped>\n",
       "    .dataframe tbody tr th:only-of-type {\n",
       "        vertical-align: middle;\n",
       "    }\n",
       "\n",
       "    .dataframe tbody tr th {\n",
       "        vertical-align: top;\n",
       "    }\n",
       "\n",
       "    .dataframe thead th {\n",
       "        text-align: right;\n",
       "    }\n",
       "</style>\n",
       "<table border=\"1\" class=\"dataframe\">\n",
       "  <thead>\n",
       "    <tr style=\"text-align: right;\">\n",
       "      <th></th>\n",
       "      <th>High</th>\n",
       "      <th>Low</th>\n",
       "      <th>Open</th>\n",
       "      <th>Close</th>\n",
       "      <th>Volume</th>\n",
       "      <th>Adj Close</th>\n",
       "      <th>Prediction</th>\n",
       "    </tr>\n",
       "    <tr>\n",
       "      <th>Date</th>\n",
       "      <th></th>\n",
       "      <th></th>\n",
       "      <th></th>\n",
       "      <th></th>\n",
       "      <th></th>\n",
       "      <th></th>\n",
       "      <th></th>\n",
       "    </tr>\n",
       "  </thead>\n",
       "  <tbody>\n",
       "    <tr>\n",
       "      <th>2017-01-03</th>\n",
       "      <td>758.760010</td>\n",
       "      <td>747.700012</td>\n",
       "      <td>757.919983</td>\n",
       "      <td>753.669983</td>\n",
       "      <td>3521100</td>\n",
       "      <td>753.669983</td>\n",
       "      <td>757.179993</td>\n",
       "    </tr>\n",
       "    <tr>\n",
       "      <th>2017-01-04</th>\n",
       "      <td>759.679993</td>\n",
       "      <td>754.200012</td>\n",
       "      <td>758.390015</td>\n",
       "      <td>757.179993</td>\n",
       "      <td>2510500</td>\n",
       "      <td>757.179993</td>\n",
       "      <td>780.450012</td>\n",
       "    </tr>\n",
       "    <tr>\n",
       "      <th>2017-01-05</th>\n",
       "      <td>782.400024</td>\n",
       "      <td>760.260010</td>\n",
       "      <td>761.549988</td>\n",
       "      <td>780.450012</td>\n",
       "      <td>5830100</td>\n",
       "      <td>780.450012</td>\n",
       "      <td>795.989990</td>\n",
       "    </tr>\n",
       "    <tr>\n",
       "      <th>2017-01-06</th>\n",
       "      <td>799.440002</td>\n",
       "      <td>778.479980</td>\n",
       "      <td>782.359985</td>\n",
       "      <td>795.989990</td>\n",
       "      <td>5986200</td>\n",
       "      <td>795.989990</td>\n",
       "      <td>796.919983</td>\n",
       "    </tr>\n",
       "    <tr>\n",
       "      <th>2017-01-09</th>\n",
       "      <td>801.770020</td>\n",
       "      <td>791.770020</td>\n",
       "      <td>798.000000</td>\n",
       "      <td>796.919983</td>\n",
       "      <td>3446100</td>\n",
       "      <td>796.919983</td>\n",
       "      <td>795.900024</td>\n",
       "    </tr>\n",
       "    <tr>\n",
       "      <th>...</th>\n",
       "      <td>...</td>\n",
       "      <td>...</td>\n",
       "      <td>...</td>\n",
       "      <td>...</td>\n",
       "      <td>...</td>\n",
       "      <td>...</td>\n",
       "      <td>...</td>\n",
       "    </tr>\n",
       "    <tr>\n",
       "      <th>2021-04-08</th>\n",
       "      <td>3324.500000</td>\n",
       "      <td>3292.000000</td>\n",
       "      <td>3310.899902</td>\n",
       "      <td>3299.300049</td>\n",
       "      <td>2812100</td>\n",
       "      <td>3299.300049</td>\n",
       "      <td>3372.199951</td>\n",
       "    </tr>\n",
       "    <tr>\n",
       "      <th>2021-04-09</th>\n",
       "      <td>3372.199951</td>\n",
       "      <td>3288.899902</td>\n",
       "      <td>3304.699951</td>\n",
       "      <td>3372.199951</td>\n",
       "      <td>4334600</td>\n",
       "      <td>3372.199951</td>\n",
       "      <td>3379.389893</td>\n",
       "    </tr>\n",
       "    <tr>\n",
       "      <th>2021-04-12</th>\n",
       "      <td>3395.040039</td>\n",
       "      <td>3351.149902</td>\n",
       "      <td>3355.209961</td>\n",
       "      <td>3379.389893</td>\n",
       "      <td>3281800</td>\n",
       "      <td>3379.389893</td>\n",
       "      <td>3400.000000</td>\n",
       "    </tr>\n",
       "    <tr>\n",
       "      <th>2021-04-13</th>\n",
       "      <td>3432.000000</td>\n",
       "      <td>3395.629883</td>\n",
       "      <td>3400.850098</td>\n",
       "      <td>3400.000000</td>\n",
       "      <td>3315800</td>\n",
       "      <td>3400.000000</td>\n",
       "      <td>3333.000000</td>\n",
       "    </tr>\n",
       "    <tr>\n",
       "      <th>2021-04-14</th>\n",
       "      <td>3404.129883</td>\n",
       "      <td>3326.000000</td>\n",
       "      <td>3404.040039</td>\n",
       "      <td>3333.000000</td>\n",
       "      <td>3140300</td>\n",
       "      <td>3333.000000</td>\n",
       "      <td>NaN</td>\n",
       "    </tr>\n",
       "  </tbody>\n",
       "</table>\n",
       "<p>1077 rows × 7 columns</p>\n",
       "</div>"
      ],
      "text/plain": [
       "                   High          Low         Open        Close   Volume  \\\n",
       "Date                                                                      \n",
       "2017-01-03   758.760010   747.700012   757.919983   753.669983  3521100   \n",
       "2017-01-04   759.679993   754.200012   758.390015   757.179993  2510500   \n",
       "2017-01-05   782.400024   760.260010   761.549988   780.450012  5830100   \n",
       "2017-01-06   799.440002   778.479980   782.359985   795.989990  5986200   \n",
       "2017-01-09   801.770020   791.770020   798.000000   796.919983  3446100   \n",
       "...                 ...          ...          ...          ...      ...   \n",
       "2021-04-08  3324.500000  3292.000000  3310.899902  3299.300049  2812100   \n",
       "2021-04-09  3372.199951  3288.899902  3304.699951  3372.199951  4334600   \n",
       "2021-04-12  3395.040039  3351.149902  3355.209961  3379.389893  3281800   \n",
       "2021-04-13  3432.000000  3395.629883  3400.850098  3400.000000  3315800   \n",
       "2021-04-14  3404.129883  3326.000000  3404.040039  3333.000000  3140300   \n",
       "\n",
       "              Adj Close   Prediction  \n",
       "Date                                  \n",
       "2017-01-03   753.669983   757.179993  \n",
       "2017-01-04   757.179993   780.450012  \n",
       "2017-01-05   780.450012   795.989990  \n",
       "2017-01-06   795.989990   796.919983  \n",
       "2017-01-09   796.919983   795.900024  \n",
       "...                 ...          ...  \n",
       "2021-04-08  3299.300049  3372.199951  \n",
       "2021-04-09  3372.199951  3379.389893  \n",
       "2021-04-12  3379.389893  3400.000000  \n",
       "2021-04-13  3400.000000  3333.000000  \n",
       "2021-04-14  3333.000000          NaN  \n",
       "\n",
       "[1077 rows x 7 columns]"
      ]
     },
     "execution_count": 14,
     "metadata": {},
     "output_type": "execute_result"
    }
   ],
   "source": [
    "#data is shifted up by 1 day\n",
    "stock['Prediction'] = stock[['Adj Close']].shift(-forecast_out) \n",
    "stock"
   ]
  },
  {
   "cell_type": "code",
   "execution_count": 15,
   "metadata": {},
   "outputs": [
    {
     "name": "stderr",
     "output_type": "stream",
     "text": [
      "/Users/davidtorres/opt/anaconda3/envs/learn-env/lib/python3.6/site-packages/ipykernel_launcher.py:2: SettingWithCopyWarning: \n",
      "A value is trying to be set on a copy of a slice from a DataFrame.\n",
      "Try using .loc[row_indexer,col_indexer] = value instead\n",
      "\n",
      "See the caveats in the documentation: https://pandas.pydata.org/pandas-docs/stable/user_guide/indexing.html#returning-a-view-versus-a-copy\n",
      "  \n"
     ]
    },
    {
     "data": {
      "text/html": [
       "<div>\n",
       "<style scoped>\n",
       "    .dataframe tbody tr th:only-of-type {\n",
       "        vertical-align: middle;\n",
       "    }\n",
       "\n",
       "    .dataframe tbody tr th {\n",
       "        vertical-align: top;\n",
       "    }\n",
       "\n",
       "    .dataframe thead th {\n",
       "        text-align: right;\n",
       "    }\n",
       "</style>\n",
       "<table border=\"1\" class=\"dataframe\">\n",
       "  <thead>\n",
       "    <tr style=\"text-align: right;\">\n",
       "      <th></th>\n",
       "      <th>Adj Close</th>\n",
       "      <th>Prediction</th>\n",
       "    </tr>\n",
       "    <tr>\n",
       "      <th>Date</th>\n",
       "      <th></th>\n",
       "      <th></th>\n",
       "    </tr>\n",
       "  </thead>\n",
       "  <tbody>\n",
       "    <tr>\n",
       "      <th>2017-01-03</th>\n",
       "      <td>753.669983</td>\n",
       "      <td>842.700012</td>\n",
       "    </tr>\n",
       "    <tr>\n",
       "      <th>2017-01-04</th>\n",
       "      <td>757.179993</td>\n",
       "      <td>844.140015</td>\n",
       "    </tr>\n",
       "    <tr>\n",
       "      <th>2017-01-05</th>\n",
       "      <td>780.450012</td>\n",
       "      <td>845.070007</td>\n",
       "    </tr>\n",
       "    <tr>\n",
       "      <th>2017-01-06</th>\n",
       "      <td>795.989990</td>\n",
       "      <td>856.440002</td>\n",
       "    </tr>\n",
       "    <tr>\n",
       "      <th>2017-01-09</th>\n",
       "      <td>796.919983</td>\n",
       "      <td>855.609985</td>\n",
       "    </tr>\n",
       "    <tr>\n",
       "      <th>...</th>\n",
       "      <td>...</td>\n",
       "      <td>...</td>\n",
       "    </tr>\n",
       "    <tr>\n",
       "      <th>2021-04-08</th>\n",
       "      <td>3299.300049</td>\n",
       "      <td>NaN</td>\n",
       "    </tr>\n",
       "    <tr>\n",
       "      <th>2021-04-09</th>\n",
       "      <td>3372.199951</td>\n",
       "      <td>NaN</td>\n",
       "    </tr>\n",
       "    <tr>\n",
       "      <th>2021-04-12</th>\n",
       "      <td>3379.389893</td>\n",
       "      <td>NaN</td>\n",
       "    </tr>\n",
       "    <tr>\n",
       "      <th>2021-04-13</th>\n",
       "      <td>3400.000000</td>\n",
       "      <td>NaN</td>\n",
       "    </tr>\n",
       "    <tr>\n",
       "      <th>2021-04-14</th>\n",
       "      <td>3333.000000</td>\n",
       "      <td>NaN</td>\n",
       "    </tr>\n",
       "  </tbody>\n",
       "</table>\n",
       "<p>1077 rows × 2 columns</p>\n",
       "</div>"
      ],
      "text/plain": [
       "              Adj Close  Prediction\n",
       "Date                               \n",
       "2017-01-03   753.669983  842.700012\n",
       "2017-01-04   757.179993  844.140015\n",
       "2017-01-05   780.450012  845.070007\n",
       "2017-01-06   795.989990  856.440002\n",
       "2017-01-09   796.919983  855.609985\n",
       "...                 ...         ...\n",
       "2021-04-08  3299.300049         NaN\n",
       "2021-04-09  3372.199951         NaN\n",
       "2021-04-12  3379.389893         NaN\n",
       "2021-04-13  3400.000000         NaN\n",
       "2021-04-14  3333.000000         NaN\n",
       "\n",
       "[1077 rows x 2 columns]"
      ]
     },
     "execution_count": 15,
     "metadata": {},
     "output_type": "execute_result"
    }
   ],
   "source": [
    "forecast_out = 30\n",
    "stock_df['Prediction'] = stock_df[['Adj Close']].shift(-forecast_out) \n",
    "stock_df"
   ]
  },
  {
   "cell_type": "code",
   "execution_count": 16,
   "metadata": {},
   "outputs": [],
   "source": [
    "#create independt data set, X\n",
    "#a list of list\n",
    "X = np.array(stock_df['Adj Close']).reshape(-1, 1)\n",
    "#remove the last 'n' values which are nan\n",
    "X = X[:-forecast_out]"
   ]
  },
  {
   "cell_type": "code",
   "execution_count": 17,
   "metadata": {},
   "outputs": [
    {
     "data": {
      "text/plain": [
       "array([[ 753.66998291],\n",
       "       [ 757.17999268],\n",
       "       [ 780.45001221],\n",
       "       ...,\n",
       "       [3092.92993164],\n",
       "       [3146.13989258],\n",
       "       [3094.5300293 ]])"
      ]
     },
     "execution_count": 17,
     "metadata": {},
     "output_type": "execute_result"
    }
   ],
   "source": [
    "X"
   ]
  },
  {
   "cell_type": "code",
   "execution_count": 18,
   "metadata": {},
   "outputs": [
    {
     "data": {
      "text/plain": [
       "array([[ 842.70001221],\n",
       "       [ 844.14001465],\n",
       "       [ 845.07000732],\n",
       "       ...,\n",
       "       [3379.38989258],\n",
       "       [3400.        ],\n",
       "       [3333.        ]])"
      ]
     },
     "execution_count": 18,
     "metadata": {},
     "output_type": "execute_result"
    }
   ],
   "source": [
    "#create the dependent dataset\n",
    "#gives all values including NaNs\n",
    "y = np.array(stock_df['Prediction']).reshape(-1, 1)\n",
    "#get all of y values except fpr last n rows\n",
    "#y is now a numpy array\n",
    "y =y[:-forecast_out]\n",
    "y"
   ]
  },
  {
   "cell_type": "code",
   "execution_count": 19,
   "metadata": {},
   "outputs": [],
   "source": [
    "#split data, 80% train and 20 testing\n",
    "X_train, X_test, y_train, y_test = train_test_split(X, y, test_size=0.33, random_state=42)"
   ]
  },
  {
   "cell_type": "code",
   "execution_count": 20,
   "metadata": {},
   "outputs": [
    {
     "name": "stderr",
     "output_type": "stream",
     "text": [
      "/Users/davidtorres/opt/anaconda3/envs/learn-env/lib/python3.6/site-packages/sklearn/utils/validation.py:72: DataConversionWarning: A column-vector y was passed when a 1d array was expected. Please change the shape of y to (n_samples, ), for example using ravel().\n",
      "  return f(**kwargs)\n"
     ]
    },
    {
     "data": {
      "text/plain": [
       "SVR(C=1000.0, gamma=0.1)"
      ]
     },
     "execution_count": 20,
     "metadata": {},
     "output_type": "execute_result"
    }
   ],
   "source": [
    "#create and train SVM(support vector machine) algorithm (regressor)\n",
    "#vector regressor\n",
    "svr_rbf = SVR(kernel='rbf', C=1e3, gamma= 0.1)\n",
    "#train model, inpu training data\n",
    "svr_rbf.fit(X_train,y_train)"
   ]
  },
  {
   "cell_type": "code",
   "execution_count": 21,
   "metadata": {},
   "outputs": [],
   "source": [
    "from sklearn.svm import SVR"
   ]
  },
  {
   "cell_type": "code",
   "execution_count": 22,
   "metadata": {},
   "outputs": [
    {
     "name": "stdout",
     "output_type": "stream",
     "text": [
      "svm Confidence:  0.7915236618478307\n"
     ]
    }
   ],
   "source": [
    "#test how good model is\n",
    "#score returns the coeficient of determination R2 of hte prediction\n",
    "#the best possible score is 1.0\n",
    "svm_confidence = svr_rbf.score(X_test,y_test)\n",
    "print('svm Confidence: ',svm_confidence)"
   ]
  },
  {
   "cell_type": "code",
   "execution_count": 23,
   "metadata": {},
   "outputs": [
    {
     "data": {
      "text/plain": [
       "LinearRegression()"
      ]
     },
     "execution_count": 23,
     "metadata": {},
     "output_type": "execute_result"
    }
   ],
   "source": [
    "#creae and train linear regession model\n",
    "lr = LinearRegression() \n",
    "lr.fit(X_train,y_train)"
   ]
  },
  {
   "cell_type": "code",
   "execution_count": 24,
   "metadata": {},
   "outputs": [
    {
     "name": "stdout",
     "output_type": "stream",
     "text": [
      "svm Confidence:  0.9436181685480088\n"
     ]
    }
   ],
   "source": [
    "#test linear regression mdoe\n",
    "lr_confidence = lr.score(X_test,y_test)\n",
    "print('svm Confidence: ',lr_confidence)"
   ]
  },
  {
   "cell_type": "code",
   "execution_count": 25,
   "metadata": {},
   "outputs": [
    {
     "data": {
      "text/plain": [
       "array([[3005.        ],\n",
       "       [2977.57006836],\n",
       "       [3000.45996094],\n",
       "       [2951.94995117],\n",
       "       [3062.85009766],\n",
       "       [3057.63989258],\n",
       "       [3113.59008789],\n",
       "       [3089.48999023],\n",
       "       [3081.67993164],\n",
       "       [3091.86010742],\n",
       "       [3135.72998047],\n",
       "       [3027.98999023],\n",
       "       [3074.95996094],\n",
       "       [3110.87011719],\n",
       "       [3137.5       ],\n",
       "       [3087.07006836],\n",
       "       [3046.26000977],\n",
       "       [3052.0300293 ],\n",
       "       [3075.72998047],\n",
       "       [3055.29003906],\n",
       "       [3094.08007812],\n",
       "       [3161.        ],\n",
       "       [3226.72998047],\n",
       "       [3223.82006836],\n",
       "       [3279.38989258],\n",
       "       [3299.30004883],\n",
       "       [3372.19995117],\n",
       "       [3379.38989258],\n",
       "       [3400.        ],\n",
       "       [3333.        ]])"
      ]
     },
     "execution_count": 25,
     "metadata": {},
     "output_type": "execute_result"
    }
   ],
   "source": [
    "#create values that we want t oforecast on\n",
    "#set x_forecast = last 30 rows of teh orignail dataset from adjusted close price\n",
    "#gives last 30 rows of data\n",
    "x_forecast = np.array(stock['Adj Close']).reshape(-1, 1)[-forecast_out:]\n",
    "x_forecast"
   ]
  },
  {
   "cell_type": "code",
   "execution_count": 26,
   "metadata": {},
   "outputs": [
    {
     "name": "stdout",
     "output_type": "stream",
     "text": [
      "[[3062.07616488]\n",
      " [3034.98202198]\n",
      " [3057.59170357]\n",
      " [3009.67553835]\n",
      " [3119.21807952]\n",
      " [3114.07165616]\n",
      " [3169.33692648]\n",
      " [3145.53185477]\n",
      " [3137.8174045 ]\n",
      " [3147.87295771]\n",
      " [3191.20578933]\n",
      " [3084.78471876]\n",
      " [3131.1796976 ]\n",
      " [3166.65025281]\n",
      " [3192.95414083]\n",
      " [3143.14155683]\n",
      " [3102.83108236]\n",
      " [3108.53046709]\n",
      " [3131.94029079]\n",
      " [3111.75056883]\n",
      " [3150.06575222]\n",
      " [3216.1664611 ]\n",
      " [3281.09179546]\n",
      " [3278.2175056 ]\n",
      " [3333.1070612 ]\n",
      " [3352.77348348]\n",
      " [3424.78096775]\n",
      " [3431.88289212]\n",
      " [3452.24069697]\n",
      " [3386.06089026]]\n",
      "[2485.12910428 2093.17328058 3255.87525411 2092.9022328  2127.05919933\n",
      " 3092.06462381 3135.96287185 2406.47780525 3060.9130196  3135.36013888\n",
      " 3263.04170742 2099.99798327 2115.62591204 3189.75431911 3285.38173114\n",
      " 2152.22328734 2133.39287513 3125.48139481 2148.18105996 3127.10074976\n",
      " 3394.41224484 3095.47779817 2713.38590862 2996.2942303  2834.21980975\n",
      " 2242.60788224 2267.19386006 3056.32209557 3286.54994624 2750.01652995]\n"
     ]
    }
   ],
   "source": [
    "#look at predictions\n",
    "#predicitons for nexrt 'n' days\n",
    "#what lr model thinks price will be for next 30 daya based on x_forecast data\n",
    "#values that model predicted\n",
    "lr_prediction = lr.predict(x_forecast)\n",
    "print(lr_prediction)\n",
    "\n",
    "#what support vector regressor model thinks adj close price will be for next 30 days\n",
    "#predicting stock prices in the future\n",
    "#what it thinks price will be 30 days from now\n",
    "svm_prediction = svr_rbf.predict(x_forecast)\n",
    "print(svm_prediction)"
   ]
  },
  {
   "cell_type": "code",
   "execution_count": 27,
   "metadata": {},
   "outputs": [],
   "source": [
    "def plot_predictions(model_pred,data,X,model):\n",
    "    predictions =  model_pred     #lr_prediction\n",
    "    #val is actual values\n",
    "    valid = data[X.shape[0]: ]\n",
    "    valid['Predictions'] = predictions\n",
    "    plt.figure(figsize=(12,8))\n",
    "    plt.title(f'Model: {model}')\n",
    "    plt.xlabel('Dates')\n",
    "    plt.ylabel('Stock Price')\n",
    "    plt.plot(stock['Adj Close'])\n",
    "    plt.plot(valid[['Adj Close','Predictions']])\n",
    "    plt.legend(['Orig','Valid,','Predictions']) #predcited-predicted value of model\n"
   ]
  },
  {
   "cell_type": "code",
   "execution_count": 28,
   "metadata": {},
   "outputs": [
    {
     "name": "stderr",
     "output_type": "stream",
     "text": [
      "/Users/davidtorres/opt/anaconda3/envs/learn-env/lib/python3.6/site-packages/ipykernel_launcher.py:5: SettingWithCopyWarning: \n",
      "A value is trying to be set on a copy of a slice from a DataFrame.\n",
      "Try using .loc[row_indexer,col_indexer] = value instead\n",
      "\n",
      "See the caveats in the documentation: https://pandas.pydata.org/pandas-docs/stable/user_guide/indexing.html#returning-a-view-versus-a-copy\n",
      "  \"\"\"\n"
     ]
    },
    {
     "data": {
      "image/png": "[encoded data removed]",
      "text/plain": [
       "<Figure size 864x576 with 1 Axes>"
      ]
     },
     "metadata": {
      "needs_background": "light"
     },
     "output_type": "display_data"
    }
   ],
   "source": [
    "plot_predictions(lr_prediction,stock,X,lr)"
   ]
  },
  {
   "cell_type": "code",
   "execution_count": 29,
   "metadata": {},
   "outputs": [
    {
     "name": "stderr",
     "output_type": "stream",
     "text": [
      "/Users/davidtorres/opt/anaconda3/envs/learn-env/lib/python3.6/site-packages/ipykernel_launcher.py:4: SettingWithCopyWarning: \n",
      "A value is trying to be set on a copy of a slice from a DataFrame.\n",
      "Try using .loc[row_indexer,col_indexer] = value instead\n",
      "\n",
      "See the caveats in the documentation: https://pandas.pydata.org/pandas-docs/stable/user_guide/indexing.html#returning-a-view-versus-a-copy\n",
      "  after removing the cwd from sys.path.\n"
     ]
    },
    {
     "data": {
      "text/plain": [
       "<matplotlib.legend.Legend at 0x7f961408cd68>"
      ]
     },
     "execution_count": 29,
     "metadata": {},
     "output_type": "execute_result"
    },
    {
     "data": {
      "image/png": "[encoded data removed]",
      "text/plain": [
       "<Figure size 864x576 with 1 Axes>"
      ]
     },
     "metadata": {
      "needs_background": "light"
     },
     "output_type": "display_data"
    }
   ],
   "source": [
    "predictions_2 = svm_prediction\n",
    "\n",
    "valid_1 = stock[X.shape[0]: ] #X.shape[0]\n",
    "valid_1['Predictions'] = predictions_2\n",
    "plt.figure(figsize=(12,8))\n",
    "plt.plot(stock['Adj Close'])\n",
    "plt.plot(valid_1[['Adj Close','Predictions']])\n",
    "plt.legend(['Orig','Valid,','Predicted']) #predcited-predicted value of model\n"
   ]
  },
  {
   "cell_type": "code",
   "execution_count": 30,
   "metadata": {},
   "outputs": [
    {
     "data": {
      "text/plain": [
       "(1047, 1)"
      ]
     },
     "execution_count": 30,
     "metadata": {},
     "output_type": "execute_result"
    }
   ],
   "source": [
    "X.shape"
   ]
  },
  {
   "cell_type": "code",
   "execution_count": null,
   "metadata": {},
   "outputs": [],
   "source": []
  }
 ],
 "metadata": {
  "kernelspec": {
   "display_name": "Python 3",
   "language": "python",
   "name": "python3"
  },
  "language_info": {
   "codemirror_mode": {
    "name": "ipython",
    "version": 3
   },
   "file_extension": ".py",
   "mimetype": "text/x-python",
   "name": "python",
   "nbconvert_exporter": "python",
   "pygments_lexer": "ipython3",
   "version": "3.6.9"
  },
  "toc": {
   "base_numbering": 1,
   "nav_menu": {},
   "number_sections": true,
   "sideBar": true,
   "skip_h1_title": false,
   "title_cell": "Table of Contents",
   "title_sidebar": "Contents",
   "toc_cell": false,
   "toc_position": {},
   "toc_section_display": true,
   "toc_window_display": false
  }
 },
 "nbformat": 4,
 "nbformat_minor": 4
}
