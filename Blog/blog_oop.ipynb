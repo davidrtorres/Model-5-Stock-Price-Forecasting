{
 "cells": [
  {
   "cell_type": "code",
   "execution_count": 2,
   "metadata": {},
   "outputs": [],
   "source": [
    "import pandas as pd\n",
    "import numpy as np"
   ]
  },
  {
   "cell_type": "code",
   "execution_count": 5,
   "metadata": {},
   "outputs": [
    {
     "name": "stdout",
     "output_type": "stream",
     "text": [
      "<__main__.Ride object at 0x7fbc9add71d0>\n"
     ]
    }
   ],
   "source": [
    "\"\"\"\n",
    "Object-oriented programming (OOP) is a way of organizing your code write so that by writing short scripts you can callit multiple times, passing various parameters you could reuse it that can make many types of applications easier to write by combining related variables/properties and functions/methods into objects containing both behavior and state.\n",
    "Classes and Methods\n",
    "A Python class can be thought of as the blueprint for creating a code object. These objects are known as an instance objects.\n",
    "\n",
    "Let's create a ride business MyRide. All the rides have the same inforamtion: a driver, passenger(s), origin, destination, car information, and price.\n",
    "\"\"\"\n",
    "#I am going to create a Ride class\n",
    "#use the keyword class to define a Python class.\n",
    "\"\"\"\n",
    "ython has a keyword pass which you can use in this instance to tell our code to do nothing and continue executing. pass can be used for times where a block of code is syntactically necessary, like defining a class or function\n",
    "Create an instance of this class.  These instances as objects of the Ride class that contain information about a single ride.\n",
    "\n",
    "instantiated our first ride! You did this by invoking, or calling the Ride() class. You invoke a class the same way you do with functions, by adding parentheses () to the end of the class name, (i.e. Ride())\n",
    "instance of the Ride class by looking at the object you created.\n",
    "\n",
    "define classes and create instances of those classes.\n",
    "\"\"\"\n",
    "\n",
    "class Ride:\n",
    "    pass\n",
    "\n",
    "first_ride = Ride()\n",
    "print(first_ride)\n",
    "    \n",
    "    "
   ]
  },
  {
   "cell_type": "code",
   "execution_count": 86,
   "metadata": {},
   "outputs": [
    {
     "name": "stdout",
     "output_type": "stream",
     "text": [
      "<__main__.Employee object at 0x7fbc9b4592b0>\n",
      "<__main__.Employee object at 0x7fbc9b459d30>\n"
     ]
    }
   ],
   "source": [
    "class Employee():\n",
    "    pass\n",
    "\n",
    "employee1 = Employee()\n",
    "employee2 = Employee()\n",
    "\n",
    "print(employee1)\n",
    "print(employee2)"
   ]
  },
  {
   "cell_type": "code",
   "execution_count": 4,
   "metadata": {},
   "outputs": [
    {
     "name": "stdout",
     "output_type": "stream",
     "text": [
      "<__main__.Ride object at 0x7fbc9adc9f60>\n",
      "<__main__.Ride object at 0x7fbc9add7278>\n",
      "<__main__.Ride object at 0x7fbc9add72b0>\n"
     ]
    }
   ],
   "source": [
    "\"\"\"\n",
    "make a couple more and compare them:\n",
    "Classes are the blueprints for creating instance objects and they allow us to create instance objects with the \n",
    "same or similar attributes and methods. All instance objects are produced with unique IDs, making them unique objects.\n",
    "\n",
    "\"\"\"\n",
    "second_ride = Ride()\n",
    "third_ride = Ride()\n",
    "print(first_ride)\n",
    "print(second_ride)\n",
    "print(third_ride)"
   ]
  },
  {
   "cell_type": "code",
   "execution_count": 8,
   "metadata": {},
   "outputs": [],
   "source": [
    "class Driver():\n",
    "    pass"
   ]
  },
  {
   "cell_type": "code",
   "execution_count": 9,
   "metadata": {},
   "outputs": [
    {
     "name": "stdout",
     "output_type": "stream",
     "text": [
      "<__main__.Driver object at 0x7fbc9add7390>\n"
     ]
    }
   ],
   "source": [
    "# One instance of the Driver class\n",
    "flatiron_taxi = Driver()\n",
    "print(flatiron_taxi)"
   ]
  },
  {
   "cell_type": "code",
   "execution_count": 10,
   "metadata": {},
   "outputs": [
    {
     "name": "stdout",
     "output_type": "stream",
     "text": [
      "<__main__.Driver object at 0x7fbc9add7160>\n"
     ]
    }
   ],
   "source": [
    "# One instance of the Driver class\n",
    "flatiron_taxi = Driver()\n",
    "print(flatiron_taxi)"
   ]
  },
  {
   "cell_type": "code",
   "execution_count": 6,
   "metadata": {},
   "outputs": [],
   "source": [
    "# Create Passenger class\n",
    "class Passenger:\n",
    "    pass"
   ]
  },
  {
   "cell_type": "code",
   "execution_count": 7,
   "metadata": {},
   "outputs": [
    {
     "name": "stdout",
     "output_type": "stream",
     "text": [
      "<__main__.Passenger object at 0x7fbc9add74e0>\n",
      "<__main__.Passenger object at 0x7fbc9add7518>\n"
     ]
    }
   ],
   "source": [
    "\"\"\"\n",
    "using these classes to create instances. First, make two instances of the Passenger class and \n",
    "assign them to the variables meryl and daniel\n",
    "\"\"\"\n",
    "# Two instances of the Passenger class\n",
    "meryl = Passenger()\n",
    "daniel = Passenger()\n",
    "\n",
    "print(meryl)\n",
    "print(daniel)"
   ]
  },
  {
   "cell_type": "code",
   "execution_count": 11,
   "metadata": {},
   "outputs": [
    {
     "name": "stdout",
     "output_type": "stream",
     "text": [
      "<__main__.Ride object at 0x7fbc9add7668>\n",
      "<__main__.Ride object at 0x7fbc9add7630>\n"
     ]
    }
   ],
   "source": [
    "# Two instances of the Ride class\n",
    "ride_to_school = Ride()\n",
    "ride_home = Ride()\n",
    "\n",
    "print(ride_to_school)\n",
    "print(ride_home)"
   ]
  },
  {
   "cell_type": "code",
   "execution_count": 26,
   "metadata": {},
   "outputs": [],
   "source": [
    "\"\"\"\n",
    "Instance Methods\n",
    "instance method is defined inside of a class and bound to instance objects of that class. \n",
    "Instance methods can be thought of as an attribute of an instance object. \n",
    "instance methods as functions defined in a class that are really just attributes of an instance object from that class.\n",
    "instance methods, however, the action being performed is scoped directly to that instance object.\n",
    "Dog class. What are the things that all dogs do? They can bark, beg to go for a walk, chase squirrels, etc. \n",
    "    When you create a new dog instance object, the dog should be able to automatically bark, beg, and chase squirrels.\n",
    "\n",
    "a function that returns the string \"bark!\", and assign it as an attribute of rex.\n",
    "instance methods are bound to objects and they always use the object on which they are called as their first argument.\n",
    "\"\"\"\n",
    "class Dog:\n",
    "    \n",
    "    #Define an instance method\n",
    "    def bark():\n",
    "        return \"I'm an instance method! Oh and... ruff ruff!\"\n"
   ]
  },
  {
   "cell_type": "code",
   "execution_count": 27,
   "metadata": {},
   "outputs": [
    {
     "data": {
      "text/plain": [
       "<__main__.Dog at 0x7fbc9ade5668>"
      ]
     },
     "execution_count": 27,
     "metadata": {},
     "output_type": "execute_result"
    }
   ],
   "source": [
    "#create an instanceo of the class\n",
    "rex = Dog()\n",
    "rex"
   ]
  },
  {
   "cell_type": "code",
   "execution_count": 28,
   "metadata": {},
   "outputs": [
    {
     "data": {
      "text/plain": [
       "<bound method Dog.bark of <__main__.Dog object at 0x7fbc9ade5668>>"
      ]
     },
     "execution_count": 28,
     "metadata": {},
     "output_type": "execute_result"
    }
   ],
   "source": [
    "#instance object attributes are accessed using the dot (.) notation.\n",
    "#we have re-defined our Dog class, but this time we actually defined an instance method bark()\n",
    "rex.bark"
   ]
  },
  {
   "cell_type": "code",
   "execution_count": 29,
   "metadata": {},
   "outputs": [
    {
     "ename": "TypeError",
     "evalue": "bark() takes 0 positional arguments but 1 was given",
     "output_type": "error",
     "traceback": [
      "\u001b[0;31m---------------------------------------------------------------------------\u001b[0m",
      "\u001b[0;31mTypeError\u001b[0m                                 Traceback (most recent call last)",
      "\u001b[0;32m<ipython-input-29-d177611622ff>\u001b[0m in \u001b[0;36m<module>\u001b[0;34m\u001b[0m\n\u001b[0;32m----> 1\u001b[0;31m \u001b[0mrex\u001b[0m\u001b[0;34m.\u001b[0m\u001b[0mbark\u001b[0m\u001b[0;34m(\u001b[0m\u001b[0;34m)\u001b[0m\u001b[0;34m\u001b[0m\u001b[0;34m\u001b[0m\u001b[0m\n\u001b[0m",
      "\u001b[0;31mTypeError\u001b[0m: bark() takes 0 positional arguments but 1 was given"
     ]
    }
   ],
   "source": [
    "#method, bark() was defined to take 0 arguments, but when you executed it, you gave it an argument.\n",
    "#key differences between functions and methods is that a method is bound to an object and implicitly \n",
    "#   passes the object as an argument\n",
    "rex.bark()"
   ]
  },
  {
   "cell_type": "code",
   "execution_count": 30,
   "metadata": {},
   "outputs": [
    {
     "data": {
      "text/plain": [
       "'I am actually going to bark this time. bark!'"
      ]
     },
     "execution_count": 30,
     "metadata": {},
     "output_type": "execute_result"
    }
   ],
   "source": [
    "\"\"\"\n",
    "Self\n",
    "you will need to define the instance methods with an explicit first parameter.\n",
    "the convention in Python is to name this first parameter of all method classes as self, \n",
    "    which makes sense since it is the object itself on which you are calling the method.\n",
    "\n",
    "since instance methods implicitly pass in the object itself as an argument during execution, you need to define each method with at \n",
    "    least one parameter, self.\n",
    "Since instance methods use their object as an argument you looked at how to properly define an instance method by using self.    \n",
    "\"\"\"\n",
    "class Dog:\n",
    "    \n",
    "    def bark(self):\n",
    "        return 'I am actually going to bark this time. bark!'\n",
    "        \n",
    "newest_rex = Dog()\n",
    "newest_rex.bark()"
   ]
  },
  {
   "cell_type": "code",
   "execution_count": 31,
   "metadata": {},
   "outputs": [],
   "source": [
    "\"\"\"\n",
    "we need to define our instance methods with at least one argument (self) in order to call them on \n",
    "    an instance object.\n",
    "\n",
    "\"\"\"\n",
    "\n",
    "class Dog:\n",
    "    \n",
    "    def bark(self):\n",
    "        return 'I am actually going to bark this time. bark!'\n",
    "        \n",
    "    def who_am_i(self):\n",
    "        return self"
   ]
  },
  {
   "cell_type": "code",
   "execution_count": 32,
   "metadata": {},
   "outputs": [
    {
     "name": "stdout",
     "output_type": "stream",
     "text": [
      "1. <__main__.Dog object at 0x7fbc9ae8bcc0>\n",
      "2. <__main__.Dog object at 0x7fbc9ae8bcc0>\n"
     ]
    }
   ],
   "source": [
    "fido = Dog()\n",
    "print(\"1.\", fido.who_am_i()) # Check return value of method\n",
    "print(\"2.\", fido) # Comparing return of the fido instance object "
   ]
  },
  {
   "cell_type": "code",
   "execution_count": 33,
   "metadata": {},
   "outputs": [],
   "source": [
    "another_rex = Dog()"
   ]
  },
  {
   "cell_type": "code",
   "execution_count": 34,
   "metadata": {},
   "outputs": [
    {
     "data": {
      "text/plain": [
       "'I am actually going to bark this time. bark!'"
      ]
     },
     "execution_count": 34,
     "metadata": {},
     "output_type": "execute_result"
    }
   ],
   "source": [
    "another_rex.bark()"
   ]
  },
  {
   "cell_type": "code",
   "execution_count": 35,
   "metadata": {},
   "outputs": [],
   "source": [
    "\"\"\"\n",
    "Create an instance of a class\n",
    "Define and call an instance method\n",
    "\"\"\"\n",
    "class Driver:\n",
    "    \n",
    "    def greeting(self):\n",
    "        return \"Hey, how are you?\"\n",
    "    \n",
    "    def ask_for_destination(self):\n",
    "        return \"Where would you like to go today?\""
   ]
  },
  {
   "cell_type": "code",
   "execution_count": 36,
   "metadata": {},
   "outputs": [],
   "source": [
    "\"\"\"\n",
    "Define a class Passenger with two instance methods:\n",
    "\n",
    "reply_greeting: this should return the string \"I am doing well!\"\n",
    "in_a_hurry: this should return the string \"Punch it! They're on our tail!\"\n",
    "\n",
    "\n",
    "\"\"\"\n",
    "# Define Passenger class here \n",
    "class Passenger:\n",
    "    \n",
    "    def reply_greeting(self):\n",
    "        return \"I am doing well! Thanks for picking me up today!\"\n",
    "    \n",
    "    def in_a_hurry(self):\n",
    "        return \"Punch it! They're on our tail!\""
   ]
  },
  {
   "cell_type": "code",
   "execution_count": 37,
   "metadata": {},
   "outputs": [],
   "source": [
    "\"\"\"\n",
    "Instantiate classes and methods\n",
    "instantiating a driver and a passenger. Assign the driver to the variable daniel and assign the passenger to niky.\n",
    "put those instance methods to use\n",
    "\n",
    "\n",
    "\"\"\"\n",
    "daniel = Driver() # driver\n",
    "niky = Passenger() # passenger"
   ]
  },
  {
   "cell_type": "code",
   "execution_count": 38,
   "metadata": {},
   "outputs": [
    {
     "name": "stdout",
     "output_type": "stream",
     "text": [
      "Hey, how are you?\n"
     ]
    }
   ],
   "source": [
    "polite_greeting = daniel.greeting()\n",
    "print(polite_greeting)\n"
   ]
  },
  {
   "cell_type": "code",
   "execution_count": 39,
   "metadata": {},
   "outputs": [
    {
     "name": "stdout",
     "output_type": "stream",
     "text": [
      "Punch it! They're on our tail!\n"
     ]
    }
   ],
   "source": [
    "no_time_to_talk = niky.in_a_hurry()\n",
    "print(no_time_to_talk)"
   ]
  },
  {
   "cell_type": "code",
   "execution_count": 61,
   "metadata": {},
   "outputs": [],
   "source": [
    "\"\"\"\n",
    "class is a blue print for creating instances\n",
    "Each unique employee we create using our employee class will be an instance of that class\n",
    "Each will be unique instance of employee class\n",
    "\n",
    "instance variable contain data that is unique to each instance\n",
    "when we create methods w/in a class they receive the instance as 1st argument automatically\n",
    "    should call it self\n",
    "    and specify what otehrs argument we want it to accept\n",
    "    w/in intit method we will set all the instance variables\n",
    "\n",
    "self is the instance-we are saying the self.first = first\n",
    "\"\"\"\n",
    "class Employee:\n",
    "    #init method inside Employee class\n",
    "    #these varuable are set for each employee instance that we create\n",
    "    def __init__(self, first, last,pay):  #constructor\n",
    "        self.first = first                #these are intance variables\n",
    "        self.last = last\n",
    "        self.pay = pay\n",
    "        self.email = first + '.' + last + '.company.net'\n",
    "        \n",
    "    #want ability to eprform some kind of action we can add methos to our class\n",
    "    #create method w/in our class\n",
    "    #each method w/in a class automatically takes instance as hte 1st argument, always call it self\n",
    "    def fullname(self):\n",
    "        return '{} {}'.format(self.first, self.last)\n",
    "    \n",
    "    def apply_raise(self): #methods automatically take our instance, which we'll call self\n",
    "        self.pay = int(self.pay * 1.04)\n",
    "\n",
    "#when we create instnces of employee classes we can pass in valeus that we specified in our init method\n",
    "#the instance is pass automatically so we can leave off self\n",
    "#we can pass 1st, last, pay\n",
    "#what happens when we crete ths instance of class,hte init method will be run automatically\n",
    "#employee1 will be pssed in as self autmotically, then it will set all these attributes\n",
    "#name, pay are all attributes of our class\n",
    "employee1 = Employee('Michael','Jones',50000)\n",
    "employee2 = Employee('Steve','Markle', 60000)\n",
    "        "
   ]
  },
  {
   "cell_type": "code",
   "execution_count": 138,
   "metadata": {},
   "outputs": [],
   "source": [
    "class Employee:\n",
    "    \n",
    "    def __init__(self, first, last,pay): \n",
    "        self.first = first               \n",
    "        self.last = last\n",
    "        self.pay = pay\n",
    "        self.email = first + '.' + last + '.company.net'\n",
    "\n",
    "    def meeting_reminder(self):\n",
    "        return \"{}, friendly reminder that today's staff meeting is at 2:00 p.m.\".format(self.first)\n",
    "\n",
    "class Contractors(Employee): \n",
    "    \n",
    "#     def __init__(self, first,last,pay):\n",
    "#         # call super() function\n",
    "#         super().__init__()\n",
    "#         print(\"Penguin is ready\")\n",
    "     # Here we return true\n",
    "    def isEmployee(self):\n",
    "        return True\n",
    "   \n",
    "        \n",
    "        \n",
    "employee1 = Employee('Sam','Garcia',50000)\n",
    "employee2 = Employee('Steve','Markle', 60000)         "
   ]
  },
  {
   "cell_type": "code",
   "execution_count": 139,
   "metadata": {},
   "outputs": [
    {
     "name": "stdout",
     "output_type": "stream",
     "text": [
      "Sam Garcia 50000\n",
      "Steve Markle 60000\n"
     ]
    }
   ],
   "source": [
    "print(employee1.first, employee1.last, employee1.pay)\n",
    "print(employee2.first, employee2.last, employee2.pay)"
   ]
  },
  {
   "cell_type": "code",
   "execution_count": 140,
   "metadata": {},
   "outputs": [
    {
     "data": {
      "text/plain": [
       "\"Sam, friendly reminder that today's staff meeting is at 2:00 p.m.\""
      ]
     },
     "execution_count": 140,
     "metadata": {},
     "output_type": "execute_result"
    }
   ],
   "source": [
    "employee1.meeting_reminder()"
   ]
  },
  {
   "cell_type": "code",
   "execution_count": 143,
   "metadata": {},
   "outputs": [
    {
     "data": {
      "text/plain": [
       "'p'"
      ]
     },
     "execution_count": 143,
     "metadata": {},
     "output_type": "execute_result"
    }
   ],
   "source": [
    "contractors1 = Contractors('p','s',23)\n",
    "contractors1.first"
   ]
  },
  {
   "cell_type": "code",
   "execution_count": null,
   "metadata": {},
   "outputs": [],
   "source": []
  },
  {
   "cell_type": "code",
   "execution_count": null,
   "metadata": {},
   "outputs": [],
   "source": []
  },
  {
   "cell_type": "code",
   "execution_count": null,
   "metadata": {},
   "outputs": [],
   "source": [
    "employee1 = Employee('Michael','Jones',50000)\n",
    "employee2 = Employee('Steve','Markle', 60000)\n",
    " "
   ]
  },
  {
   "cell_type": "code",
   "execution_count": 62,
   "metadata": {},
   "outputs": [
    {
     "name": "stdout",
     "output_type": "stream",
     "text": [
      "Michael\n",
      "Michael Jones\n",
      "Steve Markle\n"
     ]
    }
   ],
   "source": [
    "#needs parethesis b/c it's a method\n",
    "print(employee1.first)\n",
    "\n",
    "print(employee1.fullname()) \n",
    "print(employee2.fullname()) "
   ]
  },
  {
   "cell_type": "code",
   "execution_count": 65,
   "metadata": {},
   "outputs": [
    {
     "name": "stdout",
     "output_type": "stream",
     "text": [
      "54080\n",
      "56243\n"
     ]
    }
   ],
   "source": [
    "\"\"\"\n",
    "class varibles are variables that are shared among all instances of a class\n",
    "instance valriables can be unique for aech instance like our name, pay\n",
    "class variables will be the same for each instance\n",
    "what kind of dat awol we want to be shared among all employees\n",
    "    ie, raises, amount can change form yr. to yr\n",
    "\"\"\"\n",
    "print(employee1.pay)\n",
    "employee1.apply_raise()\n",
    "print(employee1.pay)"
   ]
  },
  {
   "cell_type": "markdown",
   "metadata": {},
   "source": [
    "#### __init__() method"
   ]
  },
  {
   "cell_type": "code",
   "execution_count": 82,
   "metadata": {},
   "outputs": [],
   "source": [
    "\"\"\"\n",
    "default argument. \n",
    "This allows parameters to be specified if desired but are not required.\n",
    "job=None\n",
    "\"\"\"\n",
    "class Driver():\n",
    "    def __init__(self, first, last, occupation = 'driver'):\n",
    "        self.first = first\n",
    "        self.last = last\n",
    "        self.occupation = occupation\n",
    "\"\"\"\n",
    "ensure all instances contain the attributes first, last, email, and rides_taken for their first name\n",
    "\n",
    "Provide the __init__ method with the default argument of 0 for the rides_taken attribute since new passengers should not have taken any rides.\n",
    "\n",
    "\"\"\"\n",
    "        \n",
    "class Passenger():\n",
    "    \n",
    "    def __init__(self, first, last, email, rides_taken=0):\n",
    "        self.first = first\n",
    "        self.last = last\n",
    "        self.email = email\n",
    "        self.rides_taken = rides_taken        "
   ]
  },
  {
   "cell_type": "code",
   "execution_count": 79,
   "metadata": {},
   "outputs": [],
   "source": [
    "bob = Person('Bob','Jones')"
   ]
  },
  {
   "cell_type": "code",
   "execution_count": 80,
   "metadata": {},
   "outputs": [
    {
     "name": "stdout",
     "output_type": "stream",
     "text": [
      "Dale\n",
      "Earnhardt\n",
      "driver\n"
     ]
    }
   ],
   "source": [
    "dale_earnhardt = Driver('Dale', 'Earnhardt') # Initialize Dale Earnhardt here\n",
    "print(dale_earnhardt.first) # \"Dale\"\n",
    "print(dale_earnhardt.last) # \"Earnhardt\"\n",
    "print(dale_earnhardt.occupation) # \"driving\""
   ]
  },
  {
   "cell_type": "code",
   "execution_count": 83,
   "metadata": {},
   "outputs": [
    {
     "name": "stdout",
     "output_type": "stream",
     "text": [
      "Jerry\n",
      "Seinfeld\n",
      "jerry.seinfeld@mailinator.com\n",
      "0\n"
     ]
    }
   ],
   "source": [
    "jerry = Passenger('Jerry', 'Seinfeld', 'jerry.seinfeld@mailinator.com') # Initialize Mr. Seinfeld here\n",
    "print(jerry.first) # \"Jerry\"\n",
    "print(jerry.last) # \"Seinfeld\"\n",
    "print(jerry.email) # \"jerry.seinfeld@mailinator.com\"\n",
    "print(jerry.rides_taken) # 0"
   ]
  },
  {
   "cell_type": "code",
   "execution_count": null,
   "metadata": {},
   "outputs": [],
   "source": []
  }
 ],
 "metadata": {
  "kernelspec": {
   "display_name": "Python 3",
   "language": "python",
   "name": "python3"
  },
  "language_info": {
   "codemirror_mode": {
    "name": "ipython",
    "version": 3
   },
   "file_extension": ".py",
   "mimetype": "text/x-python",
   "name": "python",
   "nbconvert_exporter": "python",
   "pygments_lexer": "ipython3",
   "version": "3.6.9"
  },
  "toc": {
   "base_numbering": 1,
   "nav_menu": {},
   "number_sections": true,
   "sideBar": true,
   "skip_h1_title": false,
   "title_cell": "Table of Contents",
   "title_sidebar": "Contents",
   "toc_cell": false,
   "toc_position": {},
   "toc_section_display": true,
   "toc_window_display": false
  }
 },
 "nbformat": 4,
 "nbformat_minor": 4
}
