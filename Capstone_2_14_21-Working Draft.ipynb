{
 "cells": [
  {
   "cell_type": "code",
   "execution_count": 1,
   "metadata": {},
   "outputs": [
    {
     "name": "stderr",
     "output_type": "stream",
     "text": [
      "Using Theano backend.\n"
     ]
    }
   ],
   "source": [
    "import pandas as pd\n",
    "import numpy as np\n",
    "import matplotlib.pyplot as plt\n",
    "%matplotlib inline\n",
    "\n",
    "from sklearn.preprocessing import MinMaxScaler\n",
    "\n",
    "import math\n",
    "\n",
    "import plotly.express as px\n",
    "\n",
    "import pandas_datareader.data as web\n",
    "\n",
    "from keras.callbacks import EarlyStopping\n",
    "\n",
    "import keras\n",
    "from keras.models import load_model\n",
    "from keras.preprocessing.sequence import TimeseriesGenerator\n",
    "#from tensorflow import keras\n",
    "from keras.models import Sequential\n",
    "from keras.layers import Dense\n",
    "from keras.layers import LSTM\n",
    "from keras.layers import Dropout\n",
    "\n",
    "from sklearn.metrics import mean_squared_error"
   ]
  },
  {
   "cell_type": "markdown",
   "metadata": {},
   "source": [
    "## Get the Historical Stock Data"
   ]
  },
  {
   "cell_type": "markdown",
   "metadata": {},
   "source": [
    "### Multiple Stock Data"
   ]
  },
  {
   "cell_type": "code",
   "execution_count": 2,
   "metadata": {},
   "outputs": [],
   "source": [
    "from datetime import date\n",
    "today = date.today()\n",
    "def multiple_stock_data(ticker=None, start=None, end=None, plot=True, stock_value=None):\n",
    "    \n",
    "    try:\n",
    "        #stock = pdr.get_data_yahoo(ticker,start,end)\n",
    "        data = {}\n",
    "        for stock in ticker:\n",
    "            data = web.DataReader(stock,'yahoo',start,end)[stock_value]\n",
    "        df_1 = pd.DataFrame(data)#.reset_index()\n",
    "        if plot==True:\n",
    "            df_1.plot(figsize=(12,8))\n",
    "            plt.title(\"Stock Adjusted Price Historical Data\")\n",
    "            plt.xlabel('Dates')\n",
    "            plt.ylabel('Stock Prices')\n",
    "            plt.legend(bbox_to_anchor=(1.05,1),loc='upper left') \n",
    "        \n",
    "        return df_1\n",
    "     \n",
    "    except Exception as e:\n",
    "        print(\"Error occured:\", e)\n",
    "        #data = 'Incorrect Symbol'\n"
   ]
  },
  {
   "cell_type": "code",
   "execution_count": 3,
   "metadata": {},
   "outputs": [],
   "source": [
    "# multi_stock_data = multiple_stock_data(ticker=[['PFE','JNJ','NVAX','MRNA','AZN','BNTX']], start='2017',end='today',plot=True, stock_value='Adj Close')\n",
    "# multi_stock_data;"
   ]
  },
  {
   "cell_type": "code",
   "execution_count": 4,
   "metadata": {},
   "outputs": [],
   "source": [
    "#multi_stock_data.to_csv('multi_pharm_data')"
   ]
  },
  {
   "cell_type": "code",
   "execution_count": 5,
   "metadata": {},
   "outputs": [],
   "source": [
    "#start='2017',end='today'\n",
    "multi_stocks = pd.read_csv('multi_pharm_data', parse_dates=True, index_col='Date')\n",
    "#multi_stocks"
   ]
  },
  {
   "cell_type": "code",
   "execution_count": 6,
   "metadata": {},
   "outputs": [],
   "source": [
    "def get_multi_plot(df, stock_value=None):\n",
    "    #plt.figure(figsize=(12,8))\n",
    "    df.plot(figsize=(12,8))\n",
    "    label_font = {'weight':'bold','size':18}\n",
    "    plt.xlabel('Date',fontdict=label_font)\n",
    "    plt.ylabel('Close Price USD ($)',fontdict=label_font)\n",
    "    plt.title(f'Historical {stock_value} Price',fontdict=label_font)\n",
    "            #plot = go.Scatter(x=df_single.index, y=df_single['Adj Close'])\n",
    "            \n",
    "    return df\n",
    "    "
   ]
  },
  {
   "cell_type": "code",
   "execution_count": 7,
   "metadata": {},
   "outputs": [
    {
     "data": {
      "text/html": [
       "<div>\n",
       "<style scoped>\n",
       "    .dataframe tbody tr th:only-of-type {\n",
       "        vertical-align: middle;\n",
       "    }\n",
       "\n",
       "    .dataframe tbody tr th {\n",
       "        vertical-align: top;\n",
       "    }\n",
       "\n",
       "    .dataframe thead th {\n",
       "        text-align: right;\n",
       "    }\n",
       "</style>\n",
       "<table border=\"1\" class=\"dataframe\">\n",
       "  <thead>\n",
       "    <tr style=\"text-align: right;\">\n",
       "      <th></th>\n",
       "      <th>PFE</th>\n",
       "      <th>JNJ</th>\n",
       "      <th>NVAX</th>\n",
       "      <th>MRNA</th>\n",
       "      <th>AZN</th>\n",
       "      <th>BNTX</th>\n",
       "    </tr>\n",
       "    <tr>\n",
       "      <th>Date</th>\n",
       "      <th></th>\n",
       "      <th></th>\n",
       "      <th></th>\n",
       "      <th></th>\n",
       "      <th></th>\n",
       "      <th></th>\n",
       "    </tr>\n",
       "  </thead>\n",
       "  <tbody>\n",
       "    <tr>\n",
       "      <th>2017-01-03</th>\n",
       "      <td>26.653324</td>\n",
       "      <td>104.081535</td>\n",
       "      <td>25.400000</td>\n",
       "      <td>NaN</td>\n",
       "      <td>23.886580</td>\n",
       "      <td>NaN</td>\n",
       "    </tr>\n",
       "    <tr>\n",
       "      <th>2017-01-04</th>\n",
       "      <td>26.887548</td>\n",
       "      <td>103.910828</td>\n",
       "      <td>26.200001</td>\n",
       "      <td>NaN</td>\n",
       "      <td>24.076221</td>\n",
       "      <td>NaN</td>\n",
       "    </tr>\n",
       "    <tr>\n",
       "      <th>2017-01-05</th>\n",
       "      <td>27.146002</td>\n",
       "      <td>104.998009</td>\n",
       "      <td>26.400000</td>\n",
       "      <td>NaN</td>\n",
       "      <td>24.731359</td>\n",
       "      <td>NaN</td>\n",
       "    </tr>\n",
       "    <tr>\n",
       "      <th>2017-01-06</th>\n",
       "      <td>27.041008</td>\n",
       "      <td>104.494850</td>\n",
       "      <td>27.400000</td>\n",
       "      <td>NaN</td>\n",
       "      <td>24.507233</td>\n",
       "      <td>NaN</td>\n",
       "    </tr>\n",
       "    <tr>\n",
       "      <th>2017-01-09</th>\n",
       "      <td>27.032928</td>\n",
       "      <td>104.476868</td>\n",
       "      <td>28.400000</td>\n",
       "      <td>NaN</td>\n",
       "      <td>24.593435</td>\n",
       "      <td>NaN</td>\n",
       "    </tr>\n",
       "    <tr>\n",
       "      <th>...</th>\n",
       "      <td>...</td>\n",
       "      <td>...</td>\n",
       "      <td>...</td>\n",
       "      <td>...</td>\n",
       "      <td>...</td>\n",
       "      <td>...</td>\n",
       "    </tr>\n",
       "    <tr>\n",
       "      <th>2021-02-08</th>\n",
       "      <td>34.820000</td>\n",
       "      <td>164.919998</td>\n",
       "      <td>319.929993</td>\n",
       "      <td>185.979996</td>\n",
       "      <td>50.060001</td>\n",
       "      <td>119.500000</td>\n",
       "    </tr>\n",
       "    <tr>\n",
       "      <th>2021-02-09</th>\n",
       "      <td>34.970001</td>\n",
       "      <td>166.270004</td>\n",
       "      <td>315.869995</td>\n",
       "      <td>179.520004</td>\n",
       "      <td>50.410000</td>\n",
       "      <td>117.529999</td>\n",
       "    </tr>\n",
       "    <tr>\n",
       "      <th>2021-02-10</th>\n",
       "      <td>34.740002</td>\n",
       "      <td>166.809998</td>\n",
       "      <td>298.359985</td>\n",
       "      <td>179.339996</td>\n",
       "      <td>49.970001</td>\n",
       "      <td>119.349998</td>\n",
       "    </tr>\n",
       "    <tr>\n",
       "      <th>2021-02-11</th>\n",
       "      <td>34.430000</td>\n",
       "      <td>166.059998</td>\n",
       "      <td>298.260010</td>\n",
       "      <td>183.440002</td>\n",
       "      <td>50.090000</td>\n",
       "      <td>118.029999</td>\n",
       "    </tr>\n",
       "    <tr>\n",
       "      <th>2021-02-12</th>\n",
       "      <td>34.720001</td>\n",
       "      <td>166.580002</td>\n",
       "      <td>289.760010</td>\n",
       "      <td>183.740005</td>\n",
       "      <td>51.689999</td>\n",
       "      <td>117.559998</td>\n",
       "    </tr>\n",
       "  </tbody>\n",
       "</table>\n",
       "<p>1036 rows × 6 columns</p>\n",
       "</div>"
      ],
      "text/plain": [
       "                  PFE         JNJ        NVAX        MRNA        AZN  \\\n",
       "Date                                                                   \n",
       "2017-01-03  26.653324  104.081535   25.400000         NaN  23.886580   \n",
       "2017-01-04  26.887548  103.910828   26.200001         NaN  24.076221   \n",
       "2017-01-05  27.146002  104.998009   26.400000         NaN  24.731359   \n",
       "2017-01-06  27.041008  104.494850   27.400000         NaN  24.507233   \n",
       "2017-01-09  27.032928  104.476868   28.400000         NaN  24.593435   \n",
       "...               ...         ...         ...         ...        ...   \n",
       "2021-02-08  34.820000  164.919998  319.929993  185.979996  50.060001   \n",
       "2021-02-09  34.970001  166.270004  315.869995  179.520004  50.410000   \n",
       "2021-02-10  34.740002  166.809998  298.359985  179.339996  49.970001   \n",
       "2021-02-11  34.430000  166.059998  298.260010  183.440002  50.090000   \n",
       "2021-02-12  34.720001  166.580002  289.760010  183.740005  51.689999   \n",
       "\n",
       "                  BNTX  \n",
       "Date                    \n",
       "2017-01-03         NaN  \n",
       "2017-01-04         NaN  \n",
       "2017-01-05         NaN  \n",
       "2017-01-06         NaN  \n",
       "2017-01-09         NaN  \n",
       "...                ...  \n",
       "2021-02-08  119.500000  \n",
       "2021-02-09  117.529999  \n",
       "2021-02-10  119.349998  \n",
       "2021-02-11  118.029999  \n",
       "2021-02-12  117.559998  \n",
       "\n",
       "[1036 rows x 6 columns]"
      ]
     },
     "execution_count": 7,
     "metadata": {},
     "output_type": "execute_result"
    },
    {
     "data": {
      "image/png": "[encoded data removed]",
      "text/plain": [
       "<Figure size 864x576 with 1 Axes>"
      ]
     },
     "metadata": {
      "needs_background": "light"
     },
     "output_type": "display_data"
    }
   ],
   "source": [
    "get_multi_plot(multi_stocks)"
   ]
  },
  {
   "cell_type": "markdown",
   "metadata": {},
   "source": [
    "### Single Stock Data"
   ]
  },
  {
   "cell_type": "code",
   "execution_count": 8,
   "metadata": {},
   "outputs": [],
   "source": [
    "def single_stock_data(symbol, start,end=None,plot=True,stock_value='Adj Close'):\n",
    "    \n",
    "    try:\n",
    "        \n",
    "        df = web.DataReader(symbol,'yahoo', start, end)\n",
    "        df_single = pd.DataFrame(df)\n",
    "        print(\"Dataframe has {} rows and {} columns\".format(df_single.shape[0],df_single.shape[1]))\n",
    "        print()\n",
    "        if plot==True:\n",
    "            plt.figure(figsize=(12,8))\n",
    "            plt.plot(df_single[stock_value])\n",
    "            label_font = {'weight':'bold','size':18}\n",
    "            plt.xlabel('Date',fontdict=label_font)\n",
    "            plt.ylabel('Close Price USD ($)',fontdict=label_font)\n",
    "            plt.title(f'Historical {stock_value} Price for {symbol}',fontdict=label_font)\n",
    "            #plot = go.Scatter(x=df_single.index, y=df_single['Adj Close'])\n",
    "            \n",
    "        return df_single\n",
    "\n",
    "    except Exception as e:\n",
    "        print(\"Error occured:\", e)\n",
    "        #data = 'Incorrect Symbol'\n"
   ]
  },
  {
   "cell_type": "code",
   "execution_count": 9,
   "metadata": {},
   "outputs": [],
   "source": [
    "# start='01-01-2019'\n",
    "# end='today'\n",
    "# df_single = single_stock_data('PFE', start='01-01-2017',end='today',plot=True,stock_value='Adj Close')"
   ]
  },
  {
   "cell_type": "code",
   "execution_count": 10,
   "metadata": {},
   "outputs": [
    {
     "data": {
      "text/html": [
       "<div>\n",
       "<style scoped>\n",
       "    .dataframe tbody tr th:only-of-type {\n",
       "        vertical-align: middle;\n",
       "    }\n",
       "\n",
       "    .dataframe tbody tr th {\n",
       "        vertical-align: top;\n",
       "    }\n",
       "\n",
       "    .dataframe thead th {\n",
       "        text-align: right;\n",
       "    }\n",
       "</style>\n",
       "<table border=\"1\" class=\"dataframe\">\n",
       "  <thead>\n",
       "    <tr style=\"text-align: right;\">\n",
       "      <th></th>\n",
       "      <th>High</th>\n",
       "      <th>Low</th>\n",
       "      <th>Open</th>\n",
       "      <th>Close</th>\n",
       "      <th>Volume</th>\n",
       "      <th>Adj Close</th>\n",
       "    </tr>\n",
       "    <tr>\n",
       "      <th>Date</th>\n",
       "      <th></th>\n",
       "      <th></th>\n",
       "      <th></th>\n",
       "      <th></th>\n",
       "      <th></th>\n",
       "      <th></th>\n",
       "    </tr>\n",
       "  </thead>\n",
       "  <tbody>\n",
       "    <tr>\n",
       "      <th>2019-01-02</th>\n",
       "      <td>41.271347</td>\n",
       "      <td>40.455406</td>\n",
       "      <td>40.910816</td>\n",
       "      <td>41.034157</td>\n",
       "      <td>26430315.0</td>\n",
       "      <td>37.603287</td>\n",
       "    </tr>\n",
       "    <tr>\n",
       "      <th>2019-01-03</th>\n",
       "      <td>41.119545</td>\n",
       "      <td>39.800758</td>\n",
       "      <td>41.024670</td>\n",
       "      <td>39.886147</td>\n",
       "      <td>28503533.0</td>\n",
       "      <td>36.551258</td>\n",
       "    </tr>\n",
       "    <tr>\n",
       "      <th>2019-01-04</th>\n",
       "      <td>41.129032</td>\n",
       "      <td>40.094875</td>\n",
       "      <td>40.265656</td>\n",
       "      <td>40.796963</td>\n",
       "      <td>27145348.0</td>\n",
       "      <td>37.385921</td>\n",
       "    </tr>\n",
       "    <tr>\n",
       "      <th>2019-01-07</th>\n",
       "      <td>41.385201</td>\n",
       "      <td>40.664139</td>\n",
       "      <td>40.863377</td>\n",
       "      <td>41.015179</td>\n",
       "      <td>20995469.0</td>\n",
       "      <td>37.585892</td>\n",
       "    </tr>\n",
       "    <tr>\n",
       "      <th>2019-01-08</th>\n",
       "      <td>41.461102</td>\n",
       "      <td>40.939278</td>\n",
       "      <td>41.328274</td>\n",
       "      <td>41.204933</td>\n",
       "      <td>19677231.0</td>\n",
       "      <td>37.759781</td>\n",
       "    </tr>\n",
       "    <tr>\n",
       "      <th>...</th>\n",
       "      <td>...</td>\n",
       "      <td>...</td>\n",
       "      <td>...</td>\n",
       "      <td>...</td>\n",
       "      <td>...</td>\n",
       "      <td>...</td>\n",
       "    </tr>\n",
       "    <tr>\n",
       "      <th>2021-02-08</th>\n",
       "      <td>35.009998</td>\n",
       "      <td>34.740002</td>\n",
       "      <td>34.959999</td>\n",
       "      <td>34.820000</td>\n",
       "      <td>31633900.0</td>\n",
       "      <td>34.820000</td>\n",
       "    </tr>\n",
       "    <tr>\n",
       "      <th>2021-02-09</th>\n",
       "      <td>35.060001</td>\n",
       "      <td>34.759998</td>\n",
       "      <td>34.799999</td>\n",
       "      <td>34.970001</td>\n",
       "      <td>30170200.0</td>\n",
       "      <td>34.970001</td>\n",
       "    </tr>\n",
       "    <tr>\n",
       "      <th>2021-02-10</th>\n",
       "      <td>35.080002</td>\n",
       "      <td>34.700001</td>\n",
       "      <td>35.000000</td>\n",
       "      <td>34.740002</td>\n",
       "      <td>29039900.0</td>\n",
       "      <td>34.740002</td>\n",
       "    </tr>\n",
       "    <tr>\n",
       "      <th>2021-02-11</th>\n",
       "      <td>34.810001</td>\n",
       "      <td>34.279999</td>\n",
       "      <td>34.799999</td>\n",
       "      <td>34.430000</td>\n",
       "      <td>30845500.0</td>\n",
       "      <td>34.430000</td>\n",
       "    </tr>\n",
       "    <tr>\n",
       "      <th>2021-02-12</th>\n",
       "      <td>34.950001</td>\n",
       "      <td>34.360001</td>\n",
       "      <td>34.439999</td>\n",
       "      <td>34.720001</td>\n",
       "      <td>25513100.0</td>\n",
       "      <td>34.720001</td>\n",
       "    </tr>\n",
       "  </tbody>\n",
       "</table>\n",
       "<p>534 rows × 6 columns</p>\n",
       "</div>"
      ],
      "text/plain": [
       "                 High        Low       Open      Close      Volume  Adj Close\n",
       "Date                                                                         \n",
       "2019-01-02  41.271347  40.455406  40.910816  41.034157  26430315.0  37.603287\n",
       "2019-01-03  41.119545  39.800758  41.024670  39.886147  28503533.0  36.551258\n",
       "2019-01-04  41.129032  40.094875  40.265656  40.796963  27145348.0  37.385921\n",
       "2019-01-07  41.385201  40.664139  40.863377  41.015179  20995469.0  37.585892\n",
       "2019-01-08  41.461102  40.939278  41.328274  41.204933  19677231.0  37.759781\n",
       "...               ...        ...        ...        ...         ...        ...\n",
       "2021-02-08  35.009998  34.740002  34.959999  34.820000  31633900.0  34.820000\n",
       "2021-02-09  35.060001  34.759998  34.799999  34.970001  30170200.0  34.970001\n",
       "2021-02-10  35.080002  34.700001  35.000000  34.740002  29039900.0  34.740002\n",
       "2021-02-11  34.810001  34.279999  34.799999  34.430000  30845500.0  34.430000\n",
       "2021-02-12  34.950001  34.360001  34.439999  34.720001  25513100.0  34.720001\n",
       "\n",
       "[534 rows x 6 columns]"
      ]
     },
     "execution_count": 10,
     "metadata": {},
     "output_type": "execute_result"
    }
   ],
   "source": [
    "single_stock = pd.read_csv('single_stock', parse_dates=True, index_col='Date')\n",
    "#single_stock['Close']['2015-04-01':'2015-12-01'].plot()\n",
    "single_stock"
   ]
  },
  {
   "cell_type": "markdown",
   "metadata": {},
   "source": [
    "## Technical Indicators\n",
    "Through algorithmic trading the practice of conducting stock trades is becoming increasingly automated.  The usage of technnical indicators is a part of algorithmic trading.  This section of notebook will demonstrate how to perform a technical analysis of stock prices using Python code.  What are technical indicators and how are they relevant to stock trading?  Technical indicators are heuristic or pattern-based signals produced by the price, volume, and/or open interest of a stock which are used by traders who follow technical analysis. https://www.investopedia.com/terms/t/technicalindicator.asp<br>Technical analysts look for indicators in the historical data and use them to look for entry and exit points for trades.  In otherwords, by analyzing historical data, technical analysts can use indicators to predict future price movements and decide when to enter and exit markets.<br>\n",
    "I will discuss popular technical indicators that are used in the markets to study price movements:\n",
    "\n",
    "1. Moving Averages (MA)\n",
    "2. Ease of Movement (EVM)\n",
    "3. Rate of Change (ROC)"
   ]
  },
  {
   "cell_type": "markdown",
   "metadata": {},
   "source": [
    "### Moving Averages\n",
    "The moving average is also known s the rolling mean.  Moving averages smooth the curve by filtering out the noise inorder to highlight other components in the data such as trends and seasonality.  The moving Average smooths out the variations in the dataset by calculating the moving average.  Three common types of moving averages are Simple Moving Average (SMA), Weighted Moving Average (WMA) and Exponential Moving Average (EMA).  The commonly used moving averages are 5, 10, 20, 50, 200 day moving averages.  A 10 period SMA would be over 10 periods and woud mean 10 trading days).\n",
    "<br>\n",
    "#### Simple Moving Average\n",
    "The Simple Moving Average is the arithmetic mean of all the stock prices or the sum of all the stock prices divided by the number of periods.  We can use the rolling method to calcualte moving averages.<br>\n",
    "<br>\n",
    "The below plot shows alot of fluctuations and noise in the stock price.  However, the plot shows the average stock price with the 10 and 20-year moving averages."
   ]
  },
  {
   "cell_type": "code",
   "execution_count": 11,
   "metadata": {},
   "outputs": [
    {
     "data": {
      "text/html": [
       "<div>\n",
       "<style scoped>\n",
       "    .dataframe tbody tr th:only-of-type {\n",
       "        vertical-align: middle;\n",
       "    }\n",
       "\n",
       "    .dataframe tbody tr th {\n",
       "        vertical-align: top;\n",
       "    }\n",
       "\n",
       "    .dataframe thead th {\n",
       "        text-align: right;\n",
       "    }\n",
       "</style>\n",
       "<table border=\"1\" class=\"dataframe\">\n",
       "  <thead>\n",
       "    <tr style=\"text-align: right;\">\n",
       "      <th></th>\n",
       "      <th>High</th>\n",
       "      <th>Low</th>\n",
       "      <th>Open</th>\n",
       "      <th>Close</th>\n",
       "      <th>Volume</th>\n",
       "      <th>Adj Close</th>\n",
       "      <th>MA_10</th>\n",
       "      <th>MA_20</th>\n",
       "    </tr>\n",
       "    <tr>\n",
       "      <th>Date</th>\n",
       "      <th></th>\n",
       "      <th></th>\n",
       "      <th></th>\n",
       "      <th></th>\n",
       "      <th></th>\n",
       "      <th></th>\n",
       "      <th></th>\n",
       "      <th></th>\n",
       "    </tr>\n",
       "  </thead>\n",
       "  <tbody>\n",
       "    <tr>\n",
       "      <th>2019-01-02</th>\n",
       "      <td>41.271347</td>\n",
       "      <td>40.455406</td>\n",
       "      <td>40.910816</td>\n",
       "      <td>41.034157</td>\n",
       "      <td>26430315.0</td>\n",
       "      <td>37.603287</td>\n",
       "      <td>NaN</td>\n",
       "      <td>NaN</td>\n",
       "    </tr>\n",
       "    <tr>\n",
       "      <th>2019-01-03</th>\n",
       "      <td>41.119545</td>\n",
       "      <td>39.800758</td>\n",
       "      <td>41.024670</td>\n",
       "      <td>39.886147</td>\n",
       "      <td>28503533.0</td>\n",
       "      <td>36.551258</td>\n",
       "      <td>NaN</td>\n",
       "      <td>NaN</td>\n",
       "    </tr>\n",
       "    <tr>\n",
       "      <th>2019-01-04</th>\n",
       "      <td>41.129032</td>\n",
       "      <td>40.094875</td>\n",
       "      <td>40.265656</td>\n",
       "      <td>40.796963</td>\n",
       "      <td>27145348.0</td>\n",
       "      <td>37.385921</td>\n",
       "      <td>NaN</td>\n",
       "      <td>NaN</td>\n",
       "    </tr>\n",
       "    <tr>\n",
       "      <th>2019-01-07</th>\n",
       "      <td>41.385201</td>\n",
       "      <td>40.664139</td>\n",
       "      <td>40.863377</td>\n",
       "      <td>41.015179</td>\n",
       "      <td>20995469.0</td>\n",
       "      <td>37.585892</td>\n",
       "      <td>NaN</td>\n",
       "      <td>NaN</td>\n",
       "    </tr>\n",
       "    <tr>\n",
       "      <th>2019-01-08</th>\n",
       "      <td>41.461102</td>\n",
       "      <td>40.939278</td>\n",
       "      <td>41.328274</td>\n",
       "      <td>41.204933</td>\n",
       "      <td>19677231.0</td>\n",
       "      <td>37.759781</td>\n",
       "      <td>NaN</td>\n",
       "      <td>NaN</td>\n",
       "    </tr>\n",
       "    <tr>\n",
       "      <th>...</th>\n",
       "      <td>...</td>\n",
       "      <td>...</td>\n",
       "      <td>...</td>\n",
       "      <td>...</td>\n",
       "      <td>...</td>\n",
       "      <td>...</td>\n",
       "      <td>...</td>\n",
       "      <td>...</td>\n",
       "    </tr>\n",
       "    <tr>\n",
       "      <th>2021-02-08</th>\n",
       "      <td>35.009998</td>\n",
       "      <td>34.740002</td>\n",
       "      <td>34.959999</td>\n",
       "      <td>34.820000</td>\n",
       "      <td>31633900.0</td>\n",
       "      <td>34.820000</td>\n",
       "      <td>35.557</td>\n",
       "      <td>36.2185</td>\n",
       "    </tr>\n",
       "    <tr>\n",
       "      <th>2021-02-09</th>\n",
       "      <td>35.060001</td>\n",
       "      <td>34.759998</td>\n",
       "      <td>34.799999</td>\n",
       "      <td>34.970001</td>\n",
       "      <td>30170200.0</td>\n",
       "      <td>34.970001</td>\n",
       "      <td>35.323</td>\n",
       "      <td>36.0785</td>\n",
       "    </tr>\n",
       "    <tr>\n",
       "      <th>2021-02-10</th>\n",
       "      <td>35.080002</td>\n",
       "      <td>34.700001</td>\n",
       "      <td>35.000000</td>\n",
       "      <td>34.740002</td>\n",
       "      <td>29039900.0</td>\n",
       "      <td>34.740002</td>\n",
       "      <td>35.173</td>\n",
       "      <td>35.9565</td>\n",
       "    </tr>\n",
       "    <tr>\n",
       "      <th>2021-02-11</th>\n",
       "      <td>34.810001</td>\n",
       "      <td>34.279999</td>\n",
       "      <td>34.799999</td>\n",
       "      <td>34.430000</td>\n",
       "      <td>30845500.0</td>\n",
       "      <td>34.430000</td>\n",
       "      <td>35.030</td>\n",
       "      <td>35.8350</td>\n",
       "    </tr>\n",
       "    <tr>\n",
       "      <th>2021-02-12</th>\n",
       "      <td>34.950001</td>\n",
       "      <td>34.360001</td>\n",
       "      <td>34.439999</td>\n",
       "      <td>34.720001</td>\n",
       "      <td>25513100.0</td>\n",
       "      <td>34.720001</td>\n",
       "      <td>34.912</td>\n",
       "      <td>35.7335</td>\n",
       "    </tr>\n",
       "  </tbody>\n",
       "</table>\n",
       "<p>534 rows × 8 columns</p>\n",
       "</div>"
      ],
      "text/plain": [
       "                 High        Low       Open      Close      Volume  Adj Close  \\\n",
       "Date                                                                            \n",
       "2019-01-02  41.271347  40.455406  40.910816  41.034157  26430315.0  37.603287   \n",
       "2019-01-03  41.119545  39.800758  41.024670  39.886147  28503533.0  36.551258   \n",
       "2019-01-04  41.129032  40.094875  40.265656  40.796963  27145348.0  37.385921   \n",
       "2019-01-07  41.385201  40.664139  40.863377  41.015179  20995469.0  37.585892   \n",
       "2019-01-08  41.461102  40.939278  41.328274  41.204933  19677231.0  37.759781   \n",
       "...               ...        ...        ...        ...         ...        ...   \n",
       "2021-02-08  35.009998  34.740002  34.959999  34.820000  31633900.0  34.820000   \n",
       "2021-02-09  35.060001  34.759998  34.799999  34.970001  30170200.0  34.970001   \n",
       "2021-02-10  35.080002  34.700001  35.000000  34.740002  29039900.0  34.740002   \n",
       "2021-02-11  34.810001  34.279999  34.799999  34.430000  30845500.0  34.430000   \n",
       "2021-02-12  34.950001  34.360001  34.439999  34.720001  25513100.0  34.720001   \n",
       "\n",
       "             MA_10    MA_20  \n",
       "Date                         \n",
       "2019-01-02     NaN      NaN  \n",
       "2019-01-03     NaN      NaN  \n",
       "2019-01-04     NaN      NaN  \n",
       "2019-01-07     NaN      NaN  \n",
       "2019-01-08     NaN      NaN  \n",
       "...            ...      ...  \n",
       "2021-02-08  35.557  36.2185  \n",
       "2021-02-09  35.323  36.0785  \n",
       "2021-02-10  35.173  35.9565  \n",
       "2021-02-11  35.030  35.8350  \n",
       "2021-02-12  34.912  35.7335  \n",
       "\n",
       "[534 rows x 8 columns]"
      ]
     },
     "execution_count": 11,
     "metadata": {},
     "output_type": "execute_result"
    }
   ],
   "source": [
    "rolling_method = pd.read_csv('single_stock', parse_dates=True, index_col='Date')\n",
    "#how big should the subset of data be that we're calculating the moving average on?\n",
    "rolling_method['MA_10'] = rolling_method.Close.rolling(10).mean()\n",
    "rolling_method['MA_20'] = rolling_method.Close.rolling(20).mean()\n",
    "rolling_method"
   ]
  },
  {
   "cell_type": "code",
   "execution_count": 12,
   "metadata": {},
   "outputs": [
    {
     "data": {
      "text/plain": [
       "<matplotlib.legend.Legend at 0x7f8bff3e7550>"
      ]
     },
     "execution_count": 12,
     "metadata": {},
     "output_type": "execute_result"
    },
    {
     "data": {
      "image/png": "[encoded data removed]",
      "text/plain": [
       "<Figure size 864x576 with 1 Axes>"
      ]
     },
     "metadata": {
      "needs_background": "light"
     },
     "output_type": "display_data"
    }
   ],
   "source": [
    "plt.figure(figsize=(12,8))\n",
    "plt.plot(rolling_method['Close'], label='PFE')\n",
    "plt.plot(rolling_method['MA_10'], label='MA 10 Day')\n",
    "plt.plot(rolling_method['MA_20'],label='MA 20 Day')\n",
    "plt.xlabel('Dates')\n",
    "plt.ylabel('Stock Prices')\n",
    "plt.legend(loc='lower right', fontsize=14)"
   ]
  },
  {
   "cell_type": "markdown",
   "metadata": {},
   "source": [
    "## Rate of Change\n",
    "### Historical Price Change Analysis\n"
   ]
  },
  {
   "cell_type": "markdown",
   "metadata": {},
   "source": [
    "### Price Change in Dollars\n",
    "Add column to calculate actual change in dollars<br>\n",
    "To see how big the changes were on a daily basis we subtract yesterday's closing price yesterday from today.  This will show the change in price.  For example, we can see that on 1/3 the Closing price was 39.886147 and on 1/2 the Closing price was 41.034157 so the price decreased -$1.148.<br> \n",
    "Expected change (1 std deviaiton movement in price)<br>\n",
    "Column of calculation of how big the actual changes was interms of standard deviations.<br>\n",
    "Histograms changes in standard deviaiton<br>\n",
    "Scatterplot of absolute value of magnitude change vs. actual change. Let's us see how the price changes daily.<br>"
   ]
  },
  {
   "cell_type": "code",
   "execution_count": 13,
   "metadata": {},
   "outputs": [],
   "source": [
    "# sdr = multiple_stock_data(ticker=[['PFE','JNJ','NVAX','MRNA','AZN','BNTX']], start='2017',end='today',plot=False, stock_value='Adj Close')\n",
    "# sdr\n",
    "price_change = single_stock.copy()"
   ]
  },
  {
   "cell_type": "code",
   "execution_count": 14,
   "metadata": {},
   "outputs": [
    {
     "data": {
      "text/html": [
       "<div>\n",
       "<style scoped>\n",
       "    .dataframe tbody tr th:only-of-type {\n",
       "        vertical-align: middle;\n",
       "    }\n",
       "\n",
       "    .dataframe tbody tr th {\n",
       "        vertical-align: top;\n",
       "    }\n",
       "\n",
       "    .dataframe thead th {\n",
       "        text-align: right;\n",
       "    }\n",
       "</style>\n",
       "<table border=\"1\" class=\"dataframe\">\n",
       "  <thead>\n",
       "    <tr style=\"text-align: right;\">\n",
       "      <th></th>\n",
       "      <th>High</th>\n",
       "      <th>Low</th>\n",
       "      <th>Open</th>\n",
       "      <th>Close</th>\n",
       "      <th>Volume</th>\n",
       "      <th>Adj Close</th>\n",
       "      <th>Actual_Changes</th>\n",
       "    </tr>\n",
       "    <tr>\n",
       "      <th>Date</th>\n",
       "      <th></th>\n",
       "      <th></th>\n",
       "      <th></th>\n",
       "      <th></th>\n",
       "      <th></th>\n",
       "      <th></th>\n",
       "      <th></th>\n",
       "    </tr>\n",
       "  </thead>\n",
       "  <tbody>\n",
       "    <tr>\n",
       "      <th>2019-01-02</th>\n",
       "      <td>41.271347</td>\n",
       "      <td>40.455406</td>\n",
       "      <td>40.910816</td>\n",
       "      <td>41.034157</td>\n",
       "      <td>26430315.0</td>\n",
       "      <td>37.603287</td>\n",
       "      <td>NaN</td>\n",
       "    </tr>\n",
       "    <tr>\n",
       "      <th>2019-01-03</th>\n",
       "      <td>41.119545</td>\n",
       "      <td>39.800758</td>\n",
       "      <td>41.024670</td>\n",
       "      <td>39.886147</td>\n",
       "      <td>28503533.0</td>\n",
       "      <td>36.551258</td>\n",
       "      <td>-1.148010</td>\n",
       "    </tr>\n",
       "    <tr>\n",
       "      <th>2019-01-04</th>\n",
       "      <td>41.129032</td>\n",
       "      <td>40.094875</td>\n",
       "      <td>40.265656</td>\n",
       "      <td>40.796963</td>\n",
       "      <td>27145348.0</td>\n",
       "      <td>37.385921</td>\n",
       "      <td>0.910816</td>\n",
       "    </tr>\n",
       "    <tr>\n",
       "      <th>2019-01-07</th>\n",
       "      <td>41.385201</td>\n",
       "      <td>40.664139</td>\n",
       "      <td>40.863377</td>\n",
       "      <td>41.015179</td>\n",
       "      <td>20995469.0</td>\n",
       "      <td>37.585892</td>\n",
       "      <td>0.218216</td>\n",
       "    </tr>\n",
       "    <tr>\n",
       "      <th>2019-01-08</th>\n",
       "      <td>41.461102</td>\n",
       "      <td>40.939278</td>\n",
       "      <td>41.328274</td>\n",
       "      <td>41.204933</td>\n",
       "      <td>19677231.0</td>\n",
       "      <td>37.759781</td>\n",
       "      <td>0.189754</td>\n",
       "    </tr>\n",
       "    <tr>\n",
       "      <th>...</th>\n",
       "      <td>...</td>\n",
       "      <td>...</td>\n",
       "      <td>...</td>\n",
       "      <td>...</td>\n",
       "      <td>...</td>\n",
       "      <td>...</td>\n",
       "      <td>...</td>\n",
       "    </tr>\n",
       "    <tr>\n",
       "      <th>2021-02-08</th>\n",
       "      <td>35.009998</td>\n",
       "      <td>34.740002</td>\n",
       "      <td>34.959999</td>\n",
       "      <td>34.820000</td>\n",
       "      <td>31633900.0</td>\n",
       "      <td>34.820000</td>\n",
       "      <td>-0.099998</td>\n",
       "    </tr>\n",
       "    <tr>\n",
       "      <th>2021-02-09</th>\n",
       "      <td>35.060001</td>\n",
       "      <td>34.759998</td>\n",
       "      <td>34.799999</td>\n",
       "      <td>34.970001</td>\n",
       "      <td>30170200.0</td>\n",
       "      <td>34.970001</td>\n",
       "      <td>0.150002</td>\n",
       "    </tr>\n",
       "    <tr>\n",
       "      <th>2021-02-10</th>\n",
       "      <td>35.080002</td>\n",
       "      <td>34.700001</td>\n",
       "      <td>35.000000</td>\n",
       "      <td>34.740002</td>\n",
       "      <td>29039900.0</td>\n",
       "      <td>34.740002</td>\n",
       "      <td>-0.230000</td>\n",
       "    </tr>\n",
       "    <tr>\n",
       "      <th>2021-02-11</th>\n",
       "      <td>34.810001</td>\n",
       "      <td>34.279999</td>\n",
       "      <td>34.799999</td>\n",
       "      <td>34.430000</td>\n",
       "      <td>30845500.0</td>\n",
       "      <td>34.430000</td>\n",
       "      <td>-0.310001</td>\n",
       "    </tr>\n",
       "    <tr>\n",
       "      <th>2021-02-12</th>\n",
       "      <td>34.950001</td>\n",
       "      <td>34.360001</td>\n",
       "      <td>34.439999</td>\n",
       "      <td>34.720001</td>\n",
       "      <td>25513100.0</td>\n",
       "      <td>34.720001</td>\n",
       "      <td>0.290001</td>\n",
       "    </tr>\n",
       "  </tbody>\n",
       "</table>\n",
       "<p>534 rows × 7 columns</p>\n",
       "</div>"
      ],
      "text/plain": [
       "                 High        Low       Open      Close      Volume  Adj Close  \\\n",
       "Date                                                                            \n",
       "2019-01-02  41.271347  40.455406  40.910816  41.034157  26430315.0  37.603287   \n",
       "2019-01-03  41.119545  39.800758  41.024670  39.886147  28503533.0  36.551258   \n",
       "2019-01-04  41.129032  40.094875  40.265656  40.796963  27145348.0  37.385921   \n",
       "2019-01-07  41.385201  40.664139  40.863377  41.015179  20995469.0  37.585892   \n",
       "2019-01-08  41.461102  40.939278  41.328274  41.204933  19677231.0  37.759781   \n",
       "...               ...        ...        ...        ...         ...        ...   \n",
       "2021-02-08  35.009998  34.740002  34.959999  34.820000  31633900.0  34.820000   \n",
       "2021-02-09  35.060001  34.759998  34.799999  34.970001  30170200.0  34.970001   \n",
       "2021-02-10  35.080002  34.700001  35.000000  34.740002  29039900.0  34.740002   \n",
       "2021-02-11  34.810001  34.279999  34.799999  34.430000  30845500.0  34.430000   \n",
       "2021-02-12  34.950001  34.360001  34.439999  34.720001  25513100.0  34.720001   \n",
       "\n",
       "            Actual_Changes  \n",
       "Date                        \n",
       "2019-01-02             NaN  \n",
       "2019-01-03       -1.148010  \n",
       "2019-01-04        0.910816  \n",
       "2019-01-07        0.218216  \n",
       "2019-01-08        0.189754  \n",
       "...                    ...  \n",
       "2021-02-08       -0.099998  \n",
       "2021-02-09        0.150002  \n",
       "2021-02-10       -0.230000  \n",
       "2021-02-11       -0.310001  \n",
       "2021-02-12        0.290001  \n",
       "\n",
       "[534 rows x 7 columns]"
      ]
     },
     "execution_count": 14,
     "metadata": {},
     "output_type": "execute_result"
    }
   ],
   "source": [
    "\n",
    "#leavr off 1 b/c that's default value\n",
    "#using shift function\n",
    "\n",
    "price_change['Actual_Changes'] = price_change['Close'] - price_change['Close'].shift(1)\n",
    "# price_change['Expected_Changes'] =price_change['Close'] * #std deviation or 21 day \n",
    "price_change"
   ]
  },
  {
   "cell_type": "markdown",
   "metadata": {},
   "source": [
    "The below graph shows that for the stated time the stock price never increased more than 3.00 and did not decrease more than -3.00.<br>"
   ]
  },
  {
   "cell_type": "code",
   "execution_count": 15,
   "metadata": {},
   "outputs": [
    {
     "data": {
      "text/plain": [
       "[<matplotlib.lines.Line2D at 0x7f8bf96e4c88>]"
      ]
     },
     "execution_count": 15,
     "metadata": {},
     "output_type": "execute_result"
    },
    {
     "data": {
      "image/png": "[encoded data removed]",
      "text/plain": [
       "<Figure size 864x576 with 1 Axes>"
      ]
     },
     "metadata": {
      "needs_background": "light"
     },
     "output_type": "display_data"
    }
   ],
   "source": [
    "plt.figure(figsize=(12,8))\n",
    "plt.plot(price_change['Actual_Changes'])"
   ]
  },
  {
   "cell_type": "markdown",
   "metadata": {},
   "source": [
    "### Price Volatility\n",
    "THe column 'change' shows how volatile the price change percentage wise.  The graph shows that the data points are now centered aound 0. The graph shows that around 3/20 was a volatile period for the stock price and it increase above 7% and decreased 7%.<br>"
   ]
  },
  {
   "cell_type": "code",
   "execution_count": 16,
   "metadata": {},
   "outputs": [],
   "source": [
    "#calculate historical volatility\n",
    "prct_change = price_change.copy()\n",
    "prct_change['change'] = np.log(prct_change['Close'] / prct_change['Close'].shift()) #divide by previous days close"
   ]
  },
  {
   "cell_type": "code",
   "execution_count": 17,
   "metadata": {},
   "outputs": [
    {
     "data": {
      "text/html": [
       "<div>\n",
       "<style scoped>\n",
       "    .dataframe tbody tr th:only-of-type {\n",
       "        vertical-align: middle;\n",
       "    }\n",
       "\n",
       "    .dataframe tbody tr th {\n",
       "        vertical-align: top;\n",
       "    }\n",
       "\n",
       "    .dataframe thead th {\n",
       "        text-align: right;\n",
       "    }\n",
       "</style>\n",
       "<table border=\"1\" class=\"dataframe\">\n",
       "  <thead>\n",
       "    <tr style=\"text-align: right;\">\n",
       "      <th></th>\n",
       "      <th>High</th>\n",
       "      <th>Low</th>\n",
       "      <th>Open</th>\n",
       "      <th>Close</th>\n",
       "      <th>Volume</th>\n",
       "      <th>Adj Close</th>\n",
       "      <th>Actual_Changes</th>\n",
       "      <th>change</th>\n",
       "    </tr>\n",
       "    <tr>\n",
       "      <th>Date</th>\n",
       "      <th></th>\n",
       "      <th></th>\n",
       "      <th></th>\n",
       "      <th></th>\n",
       "      <th></th>\n",
       "      <th></th>\n",
       "      <th></th>\n",
       "      <th></th>\n",
       "    </tr>\n",
       "  </thead>\n",
       "  <tbody>\n",
       "    <tr>\n",
       "      <th>2019-01-02</th>\n",
       "      <td>41.271347</td>\n",
       "      <td>40.455406</td>\n",
       "      <td>40.910816</td>\n",
       "      <td>41.034157</td>\n",
       "      <td>26430315.0</td>\n",
       "      <td>37.603287</td>\n",
       "      <td>NaN</td>\n",
       "      <td>NaN</td>\n",
       "    </tr>\n",
       "    <tr>\n",
       "      <th>2019-01-03</th>\n",
       "      <td>41.119545</td>\n",
       "      <td>39.800758</td>\n",
       "      <td>41.024670</td>\n",
       "      <td>39.886147</td>\n",
       "      <td>28503533.0</td>\n",
       "      <td>36.551258</td>\n",
       "      <td>-1.148010</td>\n",
       "      <td>-0.028376</td>\n",
       "    </tr>\n",
       "    <tr>\n",
       "      <th>2019-01-04</th>\n",
       "      <td>41.129032</td>\n",
       "      <td>40.094875</td>\n",
       "      <td>40.265656</td>\n",
       "      <td>40.796963</td>\n",
       "      <td>27145348.0</td>\n",
       "      <td>37.385921</td>\n",
       "      <td>0.910816</td>\n",
       "      <td>0.022579</td>\n",
       "    </tr>\n",
       "    <tr>\n",
       "      <th>2019-01-07</th>\n",
       "      <td>41.385201</td>\n",
       "      <td>40.664139</td>\n",
       "      <td>40.863377</td>\n",
       "      <td>41.015179</td>\n",
       "      <td>20995469.0</td>\n",
       "      <td>37.585892</td>\n",
       "      <td>0.218216</td>\n",
       "      <td>0.005335</td>\n",
       "    </tr>\n",
       "    <tr>\n",
       "      <th>2019-01-08</th>\n",
       "      <td>41.461102</td>\n",
       "      <td>40.939278</td>\n",
       "      <td>41.328274</td>\n",
       "      <td>41.204933</td>\n",
       "      <td>19677231.0</td>\n",
       "      <td>37.759781</td>\n",
       "      <td>0.189754</td>\n",
       "      <td>0.004616</td>\n",
       "    </tr>\n",
       "    <tr>\n",
       "      <th>...</th>\n",
       "      <td>...</td>\n",
       "      <td>...</td>\n",
       "      <td>...</td>\n",
       "      <td>...</td>\n",
       "      <td>...</td>\n",
       "      <td>...</td>\n",
       "      <td>...</td>\n",
       "      <td>...</td>\n",
       "    </tr>\n",
       "    <tr>\n",
       "      <th>2021-02-08</th>\n",
       "      <td>35.009998</td>\n",
       "      <td>34.740002</td>\n",
       "      <td>34.959999</td>\n",
       "      <td>34.820000</td>\n",
       "      <td>31633900.0</td>\n",
       "      <td>34.820000</td>\n",
       "      <td>-0.099998</td>\n",
       "      <td>-0.002868</td>\n",
       "    </tr>\n",
       "    <tr>\n",
       "      <th>2021-02-09</th>\n",
       "      <td>35.060001</td>\n",
       "      <td>34.759998</td>\n",
       "      <td>34.799999</td>\n",
       "      <td>34.970001</td>\n",
       "      <td>30170200.0</td>\n",
       "      <td>34.970001</td>\n",
       "      <td>0.150002</td>\n",
       "      <td>0.004299</td>\n",
       "    </tr>\n",
       "    <tr>\n",
       "      <th>2021-02-10</th>\n",
       "      <td>35.080002</td>\n",
       "      <td>34.700001</td>\n",
       "      <td>35.000000</td>\n",
       "      <td>34.740002</td>\n",
       "      <td>29039900.0</td>\n",
       "      <td>34.740002</td>\n",
       "      <td>-0.230000</td>\n",
       "      <td>-0.006599</td>\n",
       "    </tr>\n",
       "    <tr>\n",
       "      <th>2021-02-11</th>\n",
       "      <td>34.810001</td>\n",
       "      <td>34.279999</td>\n",
       "      <td>34.799999</td>\n",
       "      <td>34.430000</td>\n",
       "      <td>30845500.0</td>\n",
       "      <td>34.430000</td>\n",
       "      <td>-0.310001</td>\n",
       "      <td>-0.008964</td>\n",
       "    </tr>\n",
       "    <tr>\n",
       "      <th>2021-02-12</th>\n",
       "      <td>34.950001</td>\n",
       "      <td>34.360001</td>\n",
       "      <td>34.439999</td>\n",
       "      <td>34.720001</td>\n",
       "      <td>25513100.0</td>\n",
       "      <td>34.720001</td>\n",
       "      <td>0.290001</td>\n",
       "      <td>0.008388</td>\n",
       "    </tr>\n",
       "  </tbody>\n",
       "</table>\n",
       "<p>534 rows × 8 columns</p>\n",
       "</div>"
      ],
      "text/plain": [
       "                 High        Low       Open      Close      Volume  Adj Close  \\\n",
       "Date                                                                            \n",
       "2019-01-02  41.271347  40.455406  40.910816  41.034157  26430315.0  37.603287   \n",
       "2019-01-03  41.119545  39.800758  41.024670  39.886147  28503533.0  36.551258   \n",
       "2019-01-04  41.129032  40.094875  40.265656  40.796963  27145348.0  37.385921   \n",
       "2019-01-07  41.385201  40.664139  40.863377  41.015179  20995469.0  37.585892   \n",
       "2019-01-08  41.461102  40.939278  41.328274  41.204933  19677231.0  37.759781   \n",
       "...               ...        ...        ...        ...         ...        ...   \n",
       "2021-02-08  35.009998  34.740002  34.959999  34.820000  31633900.0  34.820000   \n",
       "2021-02-09  35.060001  34.759998  34.799999  34.970001  30170200.0  34.970001   \n",
       "2021-02-10  35.080002  34.700001  35.000000  34.740002  29039900.0  34.740002   \n",
       "2021-02-11  34.810001  34.279999  34.799999  34.430000  30845500.0  34.430000   \n",
       "2021-02-12  34.950001  34.360001  34.439999  34.720001  25513100.0  34.720001   \n",
       "\n",
       "            Actual_Changes    change  \n",
       "Date                                  \n",
       "2019-01-02             NaN       NaN  \n",
       "2019-01-03       -1.148010 -0.028376  \n",
       "2019-01-04        0.910816  0.022579  \n",
       "2019-01-07        0.218216  0.005335  \n",
       "2019-01-08        0.189754  0.004616  \n",
       "...                    ...       ...  \n",
       "2021-02-08       -0.099998 -0.002868  \n",
       "2021-02-09        0.150002  0.004299  \n",
       "2021-02-10       -0.230000 -0.006599  \n",
       "2021-02-11       -0.310001 -0.008964  \n",
       "2021-02-12        0.290001  0.008388  \n",
       "\n",
       "[534 rows x 8 columns]"
      ]
     },
     "execution_count": 17,
     "metadata": {},
     "output_type": "execute_result"
    }
   ],
   "source": [
    "prct_change"
   ]
  },
  {
   "cell_type": "code",
   "execution_count": 18,
   "metadata": {},
   "outputs": [
    {
     "data": {
      "text/plain": [
       "[<matplotlib.lines.Line2D at 0x7f8bff13d9b0>]"
      ]
     },
     "execution_count": 18,
     "metadata": {},
     "output_type": "execute_result"
    },
    {
     "data": {
      "image/png": "[encoded data removed]",
      "text/plain": [
       "<Figure size 864x432 with 1 Axes>"
      ]
     },
     "metadata": {
      "needs_background": "light"
     },
     "output_type": "display_data"
    }
   ],
   "source": [
    "#graph centered around 0\n",
    "#price only went up 7% twice and around 3/20 went down below 7% a few times\n",
    "#8/19 went below &%\n",
    "plt.figure(figsize=(12,6))\n",
    "plt.plot(prct_change['change'])"
   ]
  },
  {
   "cell_type": "markdown",
   "metadata": {},
   "source": [
    "### Historical Volatility"
   ]
  },
  {
   "cell_type": "code",
   "execution_count": 19,
   "metadata": {},
   "outputs": [],
   "source": [
    "#use  rolling standard deviation to get that \n",
    "#use 21 day rolling window b/c there are 21 traing days in a month on average\n",
    "#this will include 21st observation\n",
    "#but volatility should be used from next day\n",
    "prct_change['Volatility'] = prct_change['change'].rolling(21).std().shift(1)"
   ]
  },
  {
   "cell_type": "code",
   "execution_count": 20,
   "metadata": {},
   "outputs": [
    {
     "data": {
      "text/plain": [
       "<matplotlib.axes._subplots.AxesSubplot at 0x7f8bf9710f60>"
      ]
     },
     "execution_count": 20,
     "metadata": {},
     "output_type": "execute_result"
    },
    {
     "data": {
      "image/png": "[encoded data removed]",
      "text/plain": [
       "<Figure size 432x288 with 1 Axes>"
      ]
     },
     "metadata": {
      "needs_background": "light"
     },
     "output_type": "display_data"
    }
   ],
   "source": [
    "#what price volatility looks like over time\n",
    "#4/20 was a highly volatile period\n",
    "prct_change['Volatility'].plot()"
   ]
  },
  {
   "cell_type": "code",
   "execution_count": 21,
   "metadata": {},
   "outputs": [
    {
     "data": {
      "text/html": [
       "<div>\n",
       "<style scoped>\n",
       "    .dataframe tbody tr th:only-of-type {\n",
       "        vertical-align: middle;\n",
       "    }\n",
       "\n",
       "    .dataframe tbody tr th {\n",
       "        vertical-align: top;\n",
       "    }\n",
       "\n",
       "    .dataframe thead th {\n",
       "        text-align: right;\n",
       "    }\n",
       "</style>\n",
       "<table border=\"1\" class=\"dataframe\">\n",
       "  <thead>\n",
       "    <tr style=\"text-align: right;\">\n",
       "      <th></th>\n",
       "      <th>High</th>\n",
       "      <th>Low</th>\n",
       "      <th>Open</th>\n",
       "      <th>Close</th>\n",
       "      <th>Volume</th>\n",
       "      <th>Adj Close</th>\n",
       "      <th>Actual_Changes</th>\n",
       "      <th>change</th>\n",
       "      <th>Volatility</th>\n",
       "      <th>Expected_Change</th>\n",
       "    </tr>\n",
       "    <tr>\n",
       "      <th>Date</th>\n",
       "      <th></th>\n",
       "      <th></th>\n",
       "      <th></th>\n",
       "      <th></th>\n",
       "      <th></th>\n",
       "      <th></th>\n",
       "      <th></th>\n",
       "      <th></th>\n",
       "      <th></th>\n",
       "      <th></th>\n",
       "    </tr>\n",
       "  </thead>\n",
       "  <tbody>\n",
       "    <tr>\n",
       "      <th>2019-01-03</th>\n",
       "      <td>41.119545</td>\n",
       "      <td>39.800758</td>\n",
       "      <td>41.024670</td>\n",
       "      <td>39.886147</td>\n",
       "      <td>28503533.0</td>\n",
       "      <td>36.551258</td>\n",
       "      <td>-1.148010</td>\n",
       "      <td>-0.028376</td>\n",
       "      <td>NaN</td>\n",
       "      <td>NaN</td>\n",
       "    </tr>\n",
       "    <tr>\n",
       "      <th>2019-01-04</th>\n",
       "      <td>41.129032</td>\n",
       "      <td>40.094875</td>\n",
       "      <td>40.265656</td>\n",
       "      <td>40.796963</td>\n",
       "      <td>27145348.0</td>\n",
       "      <td>37.385921</td>\n",
       "      <td>0.910816</td>\n",
       "      <td>0.022579</td>\n",
       "      <td>NaN</td>\n",
       "      <td>NaN</td>\n",
       "    </tr>\n",
       "    <tr>\n",
       "      <th>2019-01-07</th>\n",
       "      <td>41.385201</td>\n",
       "      <td>40.664139</td>\n",
       "      <td>40.863377</td>\n",
       "      <td>41.015179</td>\n",
       "      <td>20995469.0</td>\n",
       "      <td>37.585892</td>\n",
       "      <td>0.218216</td>\n",
       "      <td>0.005335</td>\n",
       "      <td>NaN</td>\n",
       "      <td>NaN</td>\n",
       "    </tr>\n",
       "    <tr>\n",
       "      <th>2019-01-08</th>\n",
       "      <td>41.461102</td>\n",
       "      <td>40.939278</td>\n",
       "      <td>41.328274</td>\n",
       "      <td>41.204933</td>\n",
       "      <td>19677231.0</td>\n",
       "      <td>37.759781</td>\n",
       "      <td>0.189754</td>\n",
       "      <td>0.004616</td>\n",
       "      <td>NaN</td>\n",
       "      <td>NaN</td>\n",
       "    </tr>\n",
       "    <tr>\n",
       "      <th>2019-01-09</th>\n",
       "      <td>41.432636</td>\n",
       "      <td>40.986717</td>\n",
       "      <td>41.233398</td>\n",
       "      <td>41.119545</td>\n",
       "      <td>20107580.0</td>\n",
       "      <td>37.681534</td>\n",
       "      <td>-0.085388</td>\n",
       "      <td>-0.002074</td>\n",
       "      <td>NaN</td>\n",
       "      <td>NaN</td>\n",
       "    </tr>\n",
       "    <tr>\n",
       "      <th>...</th>\n",
       "      <td>...</td>\n",
       "      <td>...</td>\n",
       "      <td>...</td>\n",
       "      <td>...</td>\n",
       "      <td>...</td>\n",
       "      <td>...</td>\n",
       "      <td>...</td>\n",
       "      <td>...</td>\n",
       "      <td>...</td>\n",
       "      <td>...</td>\n",
       "    </tr>\n",
       "    <tr>\n",
       "      <th>2021-02-08</th>\n",
       "      <td>35.009998</td>\n",
       "      <td>34.740002</td>\n",
       "      <td>34.959999</td>\n",
       "      <td>34.820000</td>\n",
       "      <td>31633900.0</td>\n",
       "      <td>34.820000</td>\n",
       "      <td>-0.099998</td>\n",
       "      <td>-0.002868</td>\n",
       "      <td>0.011096</td>\n",
       "      <td>0.387477</td>\n",
       "    </tr>\n",
       "    <tr>\n",
       "      <th>2021-02-09</th>\n",
       "      <td>35.060001</td>\n",
       "      <td>34.759998</td>\n",
       "      <td>34.799999</td>\n",
       "      <td>34.970001</td>\n",
       "      <td>30170200.0</td>\n",
       "      <td>34.970001</td>\n",
       "      <td>0.150002</td>\n",
       "      <td>0.004299</td>\n",
       "      <td>0.010954</td>\n",
       "      <td>0.381417</td>\n",
       "    </tr>\n",
       "    <tr>\n",
       "      <th>2021-02-10</th>\n",
       "      <td>35.080002</td>\n",
       "      <td>34.700001</td>\n",
       "      <td>35.000000</td>\n",
       "      <td>34.740002</td>\n",
       "      <td>29039900.0</td>\n",
       "      <td>34.740002</td>\n",
       "      <td>-0.230000</td>\n",
       "      <td>-0.006599</td>\n",
       "      <td>0.011020</td>\n",
       "      <td>0.385365</td>\n",
       "    </tr>\n",
       "    <tr>\n",
       "      <th>2021-02-11</th>\n",
       "      <td>34.810001</td>\n",
       "      <td>34.279999</td>\n",
       "      <td>34.799999</td>\n",
       "      <td>34.430000</td>\n",
       "      <td>30845500.0</td>\n",
       "      <td>34.430000</td>\n",
       "      <td>-0.310001</td>\n",
       "      <td>-0.008964</td>\n",
       "      <td>0.010046</td>\n",
       "      <td>0.348985</td>\n",
       "    </tr>\n",
       "    <tr>\n",
       "      <th>2021-02-12</th>\n",
       "      <td>34.950001</td>\n",
       "      <td>34.360001</td>\n",
       "      <td>34.439999</td>\n",
       "      <td>34.720001</td>\n",
       "      <td>25513100.0</td>\n",
       "      <td>34.720001</td>\n",
       "      <td>0.290001</td>\n",
       "      <td>0.008388</td>\n",
       "      <td>0.009753</td>\n",
       "      <td>0.335809</td>\n",
       "    </tr>\n",
       "  </tbody>\n",
       "</table>\n",
       "<p>533 rows × 10 columns</p>\n",
       "</div>"
      ],
      "text/plain": [
       "                 High        Low       Open      Close      Volume  Adj Close  \\\n",
       "Date                                                                            \n",
       "2019-01-03  41.119545  39.800758  41.024670  39.886147  28503533.0  36.551258   \n",
       "2019-01-04  41.129032  40.094875  40.265656  40.796963  27145348.0  37.385921   \n",
       "2019-01-07  41.385201  40.664139  40.863377  41.015179  20995469.0  37.585892   \n",
       "2019-01-08  41.461102  40.939278  41.328274  41.204933  19677231.0  37.759781   \n",
       "2019-01-09  41.432636  40.986717  41.233398  41.119545  20107580.0  37.681534   \n",
       "...               ...        ...        ...        ...         ...        ...   \n",
       "2021-02-08  35.009998  34.740002  34.959999  34.820000  31633900.0  34.820000   \n",
       "2021-02-09  35.060001  34.759998  34.799999  34.970001  30170200.0  34.970001   \n",
       "2021-02-10  35.080002  34.700001  35.000000  34.740002  29039900.0  34.740002   \n",
       "2021-02-11  34.810001  34.279999  34.799999  34.430000  30845500.0  34.430000   \n",
       "2021-02-12  34.950001  34.360001  34.439999  34.720001  25513100.0  34.720001   \n",
       "\n",
       "            Actual_Changes    change  Volatility  Expected_Change  \n",
       "Date                                                               \n",
       "2019-01-03       -1.148010 -0.028376         NaN              NaN  \n",
       "2019-01-04        0.910816  0.022579         NaN              NaN  \n",
       "2019-01-07        0.218216  0.005335         NaN              NaN  \n",
       "2019-01-08        0.189754  0.004616         NaN              NaN  \n",
       "2019-01-09       -0.085388 -0.002074         NaN              NaN  \n",
       "...                    ...       ...         ...              ...  \n",
       "2021-02-08       -0.099998 -0.002868    0.011096         0.387477  \n",
       "2021-02-09        0.150002  0.004299    0.010954         0.381417  \n",
       "2021-02-10       -0.230000 -0.006599    0.011020         0.385365  \n",
       "2021-02-11       -0.310001 -0.008964    0.010046         0.348985  \n",
       "2021-02-12        0.290001  0.008388    0.009753         0.335809  \n",
       "\n",
       "[533 rows x 10 columns]"
      ]
     },
     "execution_count": 21,
     "metadata": {},
     "output_type": "execute_result"
    }
   ],
   "source": [
    "#use rolling standard deviation to ge that. Use 21 day rolling window.\n",
    "#use today's volatility at close today to predcit a 1 std move tomorrow\n",
    "prct_change['Expected_Change'] = prct_change['Close'].shift(1) * prct_change['Volatility'] #1 std or 21 day rolling std\n",
    "prct_change = prct_change.iloc[1:]\n",
    "prct_change"
   ]
  },
  {
   "cell_type": "code",
   "execution_count": 22,
   "metadata": {},
   "outputs": [
    {
     "name": "stderr",
     "output_type": "stream",
     "text": [
      "/Users/davidtorres/opt/anaconda3/envs/learn-env/lib/python3.6/site-packages/ipykernel_launcher.py:4: SettingWithCopyWarning:\n",
      "\n",
      "\n",
      "A value is trying to be set on a copy of a slice from a DataFrame.\n",
      "Try using .loc[row_indexer,col_indexer] = value instead\n",
      "\n",
      "See the caveats in the documentation: https://pandas.pydata.org/pandas-docs/stable/user_guide/indexing.html#returning-a-view-versus-a-copy\n",
      "\n"
     ]
    }
   ],
   "source": [
    "#magnitude of change\n",
    "#divide actual change by expected change\n",
    "#end up w/values in standard deviations\n",
    "prct_change['Magnitude'] = prct_change['Actual_Changes'] / prct_change['Expected_Change']"
   ]
  },
  {
   "cell_type": "code",
   "execution_count": 23,
   "metadata": {},
   "outputs": [
    {
     "data": {
      "text/plain": [
       "(array([  3.,   4.,   8.,  23., 104., 217., 124.,  21.,   5.,   3.]),\n",
       " array([-5.34818354, -4.38031136, -3.41243918, -2.44456699, -1.47669481,\n",
       "        -0.50882263,  0.45904956,  1.42692174,  2.39479392,  3.36266611,\n",
       "         4.33053829]),\n",
       " <a list of 10 Patch objects>)"
      ]
     },
     "execution_count": 23,
     "metadata": {},
     "output_type": "execute_result"
    },
    {
     "data": {
      "image/png": "[encoded data removed]",
      "text/plain": [
       "<Figure size 432x288 with 1 Axes>"
      ]
     },
     "metadata": {
      "needs_background": "light"
     },
     "output_type": "display_data"
    }
   ],
   "source": [
    "#idea of typical distrubution of changes in terms of standard deviation\n",
    "#mostly w/in 3 stadnard deviaitons of mean\n",
    "#could be more of positve change\n",
    "#kind of equal happening on positve and negative side\n",
    "plt.hist(prct_change['Magnitude'])"
   ]
  },
  {
   "cell_type": "code",
   "execution_count": 24,
   "metadata": {},
   "outputs": [
    {
     "data": {
      "text/html": [
       "<div>\n",
       "<style scoped>\n",
       "    .dataframe tbody tr th:only-of-type {\n",
       "        vertical-align: middle;\n",
       "    }\n",
       "\n",
       "    .dataframe tbody tr th {\n",
       "        vertical-align: top;\n",
       "    }\n",
       "\n",
       "    .dataframe thead th {\n",
       "        text-align: right;\n",
       "    }\n",
       "</style>\n",
       "<table border=\"1\" class=\"dataframe\">\n",
       "  <thead>\n",
       "    <tr style=\"text-align: right;\">\n",
       "      <th></th>\n",
       "      <th>PFE</th>\n",
       "      <th>JNJ</th>\n",
       "      <th>NVAX</th>\n",
       "      <th>MRNA</th>\n",
       "      <th>AZN</th>\n",
       "      <th>BNTX</th>\n",
       "    </tr>\n",
       "    <tr>\n",
       "      <th>Date</th>\n",
       "      <th></th>\n",
       "      <th></th>\n",
       "      <th></th>\n",
       "      <th></th>\n",
       "      <th></th>\n",
       "      <th></th>\n",
       "    </tr>\n",
       "  </thead>\n",
       "  <tbody>\n",
       "    <tr>\n",
       "      <th>2017-01-03</th>\n",
       "      <td>NaN</td>\n",
       "      <td>NaN</td>\n",
       "      <td>NaN</td>\n",
       "      <td>NaN</td>\n",
       "      <td>NaN</td>\n",
       "      <td>NaN</td>\n",
       "    </tr>\n",
       "    <tr>\n",
       "      <th>2017-01-04</th>\n",
       "      <td>0.008788</td>\n",
       "      <td>-0.001640</td>\n",
       "      <td>0.031496</td>\n",
       "      <td>NaN</td>\n",
       "      <td>0.007939</td>\n",
       "      <td>NaN</td>\n",
       "    </tr>\n",
       "    <tr>\n",
       "      <th>2017-01-05</th>\n",
       "      <td>0.009612</td>\n",
       "      <td>0.010463</td>\n",
       "      <td>0.007634</td>\n",
       "      <td>NaN</td>\n",
       "      <td>0.027211</td>\n",
       "      <td>NaN</td>\n",
       "    </tr>\n",
       "    <tr>\n",
       "      <th>2017-01-06</th>\n",
       "      <td>-0.003868</td>\n",
       "      <td>-0.004792</td>\n",
       "      <td>0.037879</td>\n",
       "      <td>NaN</td>\n",
       "      <td>-0.009062</td>\n",
       "      <td>NaN</td>\n",
       "    </tr>\n",
       "    <tr>\n",
       "      <th>2017-01-09</th>\n",
       "      <td>-0.000299</td>\n",
       "      <td>-0.000172</td>\n",
       "      <td>0.036496</td>\n",
       "      <td>NaN</td>\n",
       "      <td>0.003517</td>\n",
       "      <td>NaN</td>\n",
       "    </tr>\n",
       "    <tr>\n",
       "      <th>...</th>\n",
       "      <td>...</td>\n",
       "      <td>...</td>\n",
       "      <td>...</td>\n",
       "      <td>...</td>\n",
       "      <td>...</td>\n",
       "      <td>...</td>\n",
       "    </tr>\n",
       "    <tr>\n",
       "      <th>2021-02-08</th>\n",
       "      <td>-0.002864</td>\n",
       "      <td>0.002858</td>\n",
       "      <td>0.102523</td>\n",
       "      <td>0.055265</td>\n",
       "      <td>0.006636</td>\n",
       "      <td>0.016416</td>\n",
       "    </tr>\n",
       "    <tr>\n",
       "      <th>2021-02-09</th>\n",
       "      <td>0.004308</td>\n",
       "      <td>0.008186</td>\n",
       "      <td>-0.012690</td>\n",
       "      <td>-0.034735</td>\n",
       "      <td>0.006992</td>\n",
       "      <td>-0.016485</td>\n",
       "    </tr>\n",
       "    <tr>\n",
       "      <th>2021-02-10</th>\n",
       "      <td>-0.006577</td>\n",
       "      <td>0.003248</td>\n",
       "      <td>-0.055434</td>\n",
       "      <td>-0.001003</td>\n",
       "      <td>-0.008728</td>\n",
       "      <td>0.015485</td>\n",
       "    </tr>\n",
       "    <tr>\n",
       "      <th>2021-02-11</th>\n",
       "      <td>-0.008923</td>\n",
       "      <td>-0.004496</td>\n",
       "      <td>-0.000335</td>\n",
       "      <td>0.022862</td>\n",
       "      <td>0.002401</td>\n",
       "      <td>-0.011060</td>\n",
       "    </tr>\n",
       "    <tr>\n",
       "      <th>2021-02-12</th>\n",
       "      <td>0.008423</td>\n",
       "      <td>0.003131</td>\n",
       "      <td>-0.028499</td>\n",
       "      <td>0.001635</td>\n",
       "      <td>0.031942</td>\n",
       "      <td>-0.003982</td>\n",
       "    </tr>\n",
       "  </tbody>\n",
       "</table>\n",
       "<p>1036 rows × 6 columns</p>\n",
       "</div>"
      ],
      "text/plain": [
       "                 PFE       JNJ      NVAX      MRNA       AZN      BNTX\n",
       "Date                                                                  \n",
       "2017-01-03       NaN       NaN       NaN       NaN       NaN       NaN\n",
       "2017-01-04  0.008788 -0.001640  0.031496       NaN  0.007939       NaN\n",
       "2017-01-05  0.009612  0.010463  0.007634       NaN  0.027211       NaN\n",
       "2017-01-06 -0.003868 -0.004792  0.037879       NaN -0.009062       NaN\n",
       "2017-01-09 -0.000299 -0.000172  0.036496       NaN  0.003517       NaN\n",
       "...              ...       ...       ...       ...       ...       ...\n",
       "2021-02-08 -0.002864  0.002858  0.102523  0.055265  0.006636  0.016416\n",
       "2021-02-09  0.004308  0.008186 -0.012690 -0.034735  0.006992 -0.016485\n",
       "2021-02-10 -0.006577  0.003248 -0.055434 -0.001003 -0.008728  0.015485\n",
       "2021-02-11 -0.008923 -0.004496 -0.000335  0.022862  0.002401 -0.011060\n",
       "2021-02-12  0.008423  0.003131 -0.028499  0.001635  0.031942 -0.003982\n",
       "\n",
       "[1036 rows x 6 columns]"
      ]
     },
     "execution_count": 24,
     "metadata": {},
     "output_type": "execute_result"
    }
   ],
   "source": [
    "\n",
    "sdr = multi_stocks.pct_change(1)\n",
    "sdr"
   ]
  },
  {
   "cell_type": "code",
   "execution_count": 25,
   "metadata": {},
   "outputs": [
    {
     "data": {
      "text/plain": [
       "0.008787796974216056"
      ]
     },
     "execution_count": 25,
     "metadata": {},
     "output_type": "execute_result"
    }
   ],
   "source": [
    "(26.887548/26.653324) - 1"
   ]
  },
  {
   "cell_type": "code",
   "execution_count": 26,
   "metadata": {},
   "outputs": [],
   "source": [
    "# #visualize stocks daily returns\n",
    "# plt.figure(figsize=(12,6))\n",
    "# #loop through each stock and plot simple returns\n",
    "# for c in d_simple_returns.columns.values:\n",
    "#     plt.plot(d_simple_returns.index, d_simple_returns[c], label=c)\n",
    "# #plt.title(title)\n",
    "# #plt.ylabel(col + ' Price', fontsize=18)\n",
    "# plt.legend(loc='upper left', fontsize=10)\n",
    "# plt.title('Volatility')\n",
    "# plt.xlabel('Date')\n",
    "# plt.ylabel('Daily Simple Returns')"
   ]
  },
  {
   "cell_type": "markdown",
   "metadata": {},
   "source": [
    "### Average Daily Return"
   ]
  },
  {
   "cell_type": "code",
   "execution_count": 27,
   "metadata": {},
   "outputs": [],
   "source": [
    "# d_simple_returns.std()\n",
    "# mean_return = d_simple_returns.mean()\n",
    "# print('The Daily Mean Simple Return')\n",
    "# mean_return"
   ]
  },
  {
   "cell_type": "markdown",
   "metadata": {},
   "source": [
    "## Forecasting\n",
    "### Long Short Term Memory (LSTM)"
   ]
  },
  {
   "cell_type": "code",
   "execution_count": 28,
   "metadata": {},
   "outputs": [],
   "source": [
    "#start='01-01-2019',end='today',\n",
    "#df_single = single_stock_data('PFE', start='01-01-2019',end='today',plot=True,stock_value='Adj Close')"
   ]
  },
  {
   "cell_type": "code",
   "execution_count": 29,
   "metadata": {},
   "outputs": [
    {
     "data": {
      "text/html": [
       "<div>\n",
       "<style scoped>\n",
       "    .dataframe tbody tr th:only-of-type {\n",
       "        vertical-align: middle;\n",
       "    }\n",
       "\n",
       "    .dataframe tbody tr th {\n",
       "        vertical-align: top;\n",
       "    }\n",
       "\n",
       "    .dataframe thead th {\n",
       "        text-align: right;\n",
       "    }\n",
       "</style>\n",
       "<table border=\"1\" class=\"dataframe\">\n",
       "  <thead>\n",
       "    <tr style=\"text-align: right;\">\n",
       "      <th></th>\n",
       "      <th>High</th>\n",
       "      <th>Low</th>\n",
       "      <th>Open</th>\n",
       "      <th>Close</th>\n",
       "      <th>Volume</th>\n",
       "      <th>Adj Close</th>\n",
       "    </tr>\n",
       "    <tr>\n",
       "      <th>Date</th>\n",
       "      <th></th>\n",
       "      <th></th>\n",
       "      <th></th>\n",
       "      <th></th>\n",
       "      <th></th>\n",
       "      <th></th>\n",
       "    </tr>\n",
       "  </thead>\n",
       "  <tbody>\n",
       "    <tr>\n",
       "      <th>2019-01-02</th>\n",
       "      <td>41.271347</td>\n",
       "      <td>40.455406</td>\n",
       "      <td>40.910816</td>\n",
       "      <td>41.034157</td>\n",
       "      <td>26430315.0</td>\n",
       "      <td>37.603287</td>\n",
       "    </tr>\n",
       "    <tr>\n",
       "      <th>2019-01-03</th>\n",
       "      <td>41.119545</td>\n",
       "      <td>39.800758</td>\n",
       "      <td>41.024670</td>\n",
       "      <td>39.886147</td>\n",
       "      <td>28503533.0</td>\n",
       "      <td>36.551258</td>\n",
       "    </tr>\n",
       "    <tr>\n",
       "      <th>2019-01-04</th>\n",
       "      <td>41.129032</td>\n",
       "      <td>40.094875</td>\n",
       "      <td>40.265656</td>\n",
       "      <td>40.796963</td>\n",
       "      <td>27145348.0</td>\n",
       "      <td>37.385921</td>\n",
       "    </tr>\n",
       "    <tr>\n",
       "      <th>2019-01-07</th>\n",
       "      <td>41.385201</td>\n",
       "      <td>40.664139</td>\n",
       "      <td>40.863377</td>\n",
       "      <td>41.015179</td>\n",
       "      <td>20995469.0</td>\n",
       "      <td>37.585892</td>\n",
       "    </tr>\n",
       "    <tr>\n",
       "      <th>2019-01-08</th>\n",
       "      <td>41.461102</td>\n",
       "      <td>40.939278</td>\n",
       "      <td>41.328274</td>\n",
       "      <td>41.204933</td>\n",
       "      <td>19677231.0</td>\n",
       "      <td>37.759781</td>\n",
       "    </tr>\n",
       "    <tr>\n",
       "      <th>...</th>\n",
       "      <td>...</td>\n",
       "      <td>...</td>\n",
       "      <td>...</td>\n",
       "      <td>...</td>\n",
       "      <td>...</td>\n",
       "      <td>...</td>\n",
       "    </tr>\n",
       "    <tr>\n",
       "      <th>2021-02-08</th>\n",
       "      <td>35.009998</td>\n",
       "      <td>34.740002</td>\n",
       "      <td>34.959999</td>\n",
       "      <td>34.820000</td>\n",
       "      <td>31633900.0</td>\n",
       "      <td>34.820000</td>\n",
       "    </tr>\n",
       "    <tr>\n",
       "      <th>2021-02-09</th>\n",
       "      <td>35.060001</td>\n",
       "      <td>34.759998</td>\n",
       "      <td>34.799999</td>\n",
       "      <td>34.970001</td>\n",
       "      <td>30170200.0</td>\n",
       "      <td>34.970001</td>\n",
       "    </tr>\n",
       "    <tr>\n",
       "      <th>2021-02-10</th>\n",
       "      <td>35.080002</td>\n",
       "      <td>34.700001</td>\n",
       "      <td>35.000000</td>\n",
       "      <td>34.740002</td>\n",
       "      <td>29039900.0</td>\n",
       "      <td>34.740002</td>\n",
       "    </tr>\n",
       "    <tr>\n",
       "      <th>2021-02-11</th>\n",
       "      <td>34.810001</td>\n",
       "      <td>34.279999</td>\n",
       "      <td>34.799999</td>\n",
       "      <td>34.430000</td>\n",
       "      <td>30845500.0</td>\n",
       "      <td>34.430000</td>\n",
       "    </tr>\n",
       "    <tr>\n",
       "      <th>2021-02-12</th>\n",
       "      <td>34.950001</td>\n",
       "      <td>34.360001</td>\n",
       "      <td>34.439999</td>\n",
       "      <td>34.720001</td>\n",
       "      <td>25513100.0</td>\n",
       "      <td>34.720001</td>\n",
       "    </tr>\n",
       "  </tbody>\n",
       "</table>\n",
       "<p>534 rows × 6 columns</p>\n",
       "</div>"
      ],
      "text/plain": [
       "                 High        Low       Open      Close      Volume  Adj Close\n",
       "Date                                                                         \n",
       "2019-01-02  41.271347  40.455406  40.910816  41.034157  26430315.0  37.603287\n",
       "2019-01-03  41.119545  39.800758  41.024670  39.886147  28503533.0  36.551258\n",
       "2019-01-04  41.129032  40.094875  40.265656  40.796963  27145348.0  37.385921\n",
       "2019-01-07  41.385201  40.664139  40.863377  41.015179  20995469.0  37.585892\n",
       "2019-01-08  41.461102  40.939278  41.328274  41.204933  19677231.0  37.759781\n",
       "...               ...        ...        ...        ...         ...        ...\n",
       "2021-02-08  35.009998  34.740002  34.959999  34.820000  31633900.0  34.820000\n",
       "2021-02-09  35.060001  34.759998  34.799999  34.970001  30170200.0  34.970001\n",
       "2021-02-10  35.080002  34.700001  35.000000  34.740002  29039900.0  34.740002\n",
       "2021-02-11  34.810001  34.279999  34.799999  34.430000  30845500.0  34.430000\n",
       "2021-02-12  34.950001  34.360001  34.439999  34.720001  25513100.0  34.720001\n",
       "\n",
       "[534 rows x 6 columns]"
      ]
     },
     "execution_count": 29,
     "metadata": {},
     "output_type": "execute_result"
    }
   ],
   "source": [
    "#df_single.to_csv('single_stock')\n",
    "single_stock = pd.read_csv('single_stock', parse_dates=True, index_col='Date')\n",
    "single_stock"
   ]
  },
  {
   "cell_type": "code",
   "execution_count": 30,
   "metadata": {},
   "outputs": [
    {
     "data": {
      "text/plain": [
       "-0.00493522186683415"
      ]
     },
     "execution_count": 30,
     "metadata": {},
     "output_type": "execute_result"
    }
   ],
   "source": [
    "(24.905140 / 25.028662) -1"
   ]
  },
  {
   "cell_type": "code",
   "execution_count": 31,
   "metadata": {},
   "outputs": [],
   "source": [
    "def delta_time_series(data,col=None):\n",
    "    data['Percent_Chg'] = data[col].pct_change(1)\n",
    "    #data_1 = data_1.rename(columns={\"Adj Close\": \"Percent_Chg\"})\n",
    "    #return data[1:]- data[:-1]\n",
    "    data = data.dropna()\n",
    "    return data"
   ]
  },
  {
   "cell_type": "code",
   "execution_count": 32,
   "metadata": {},
   "outputs": [
    {
     "data": {
      "text/html": [
       "<div>\n",
       "<style scoped>\n",
       "    .dataframe tbody tr th:only-of-type {\n",
       "        vertical-align: middle;\n",
       "    }\n",
       "\n",
       "    .dataframe tbody tr th {\n",
       "        vertical-align: top;\n",
       "    }\n",
       "\n",
       "    .dataframe thead th {\n",
       "        text-align: right;\n",
       "    }\n",
       "</style>\n",
       "<table border=\"1\" class=\"dataframe\">\n",
       "  <thead>\n",
       "    <tr style=\"text-align: right;\">\n",
       "      <th></th>\n",
       "      <th>High</th>\n",
       "      <th>Low</th>\n",
       "      <th>Open</th>\n",
       "      <th>Close</th>\n",
       "      <th>Volume</th>\n",
       "      <th>Adj Close</th>\n",
       "      <th>Percent_Chg</th>\n",
       "    </tr>\n",
       "    <tr>\n",
       "      <th>Date</th>\n",
       "      <th></th>\n",
       "      <th></th>\n",
       "      <th></th>\n",
       "      <th></th>\n",
       "      <th></th>\n",
       "      <th></th>\n",
       "      <th></th>\n",
       "    </tr>\n",
       "  </thead>\n",
       "  <tbody>\n",
       "    <tr>\n",
       "      <th>2019-01-03</th>\n",
       "      <td>41.119545</td>\n",
       "      <td>39.800758</td>\n",
       "      <td>41.024670</td>\n",
       "      <td>39.886147</td>\n",
       "      <td>28503533.0</td>\n",
       "      <td>36.551258</td>\n",
       "      <td>-0.027977</td>\n",
       "    </tr>\n",
       "    <tr>\n",
       "      <th>2019-01-04</th>\n",
       "      <td>41.129032</td>\n",
       "      <td>40.094875</td>\n",
       "      <td>40.265656</td>\n",
       "      <td>40.796963</td>\n",
       "      <td>27145348.0</td>\n",
       "      <td>37.385921</td>\n",
       "      <td>0.022835</td>\n",
       "    </tr>\n",
       "    <tr>\n",
       "      <th>2019-01-07</th>\n",
       "      <td>41.385201</td>\n",
       "      <td>40.664139</td>\n",
       "      <td>40.863377</td>\n",
       "      <td>41.015179</td>\n",
       "      <td>20995469.0</td>\n",
       "      <td>37.585892</td>\n",
       "      <td>0.005349</td>\n",
       "    </tr>\n",
       "    <tr>\n",
       "      <th>2019-01-08</th>\n",
       "      <td>41.461102</td>\n",
       "      <td>40.939278</td>\n",
       "      <td>41.328274</td>\n",
       "      <td>41.204933</td>\n",
       "      <td>19677231.0</td>\n",
       "      <td>37.759781</td>\n",
       "      <td>0.004626</td>\n",
       "    </tr>\n",
       "    <tr>\n",
       "      <th>2019-01-09</th>\n",
       "      <td>41.432636</td>\n",
       "      <td>40.986717</td>\n",
       "      <td>41.233398</td>\n",
       "      <td>41.119545</td>\n",
       "      <td>20107580.0</td>\n",
       "      <td>37.681534</td>\n",
       "      <td>-0.002072</td>\n",
       "    </tr>\n",
       "    <tr>\n",
       "      <th>...</th>\n",
       "      <td>...</td>\n",
       "      <td>...</td>\n",
       "      <td>...</td>\n",
       "      <td>...</td>\n",
       "      <td>...</td>\n",
       "      <td>...</td>\n",
       "      <td>...</td>\n",
       "    </tr>\n",
       "    <tr>\n",
       "      <th>2021-02-08</th>\n",
       "      <td>35.009998</td>\n",
       "      <td>34.740002</td>\n",
       "      <td>34.959999</td>\n",
       "      <td>34.820000</td>\n",
       "      <td>31633900.0</td>\n",
       "      <td>34.820000</td>\n",
       "      <td>-0.002864</td>\n",
       "    </tr>\n",
       "    <tr>\n",
       "      <th>2021-02-09</th>\n",
       "      <td>35.060001</td>\n",
       "      <td>34.759998</td>\n",
       "      <td>34.799999</td>\n",
       "      <td>34.970001</td>\n",
       "      <td>30170200.0</td>\n",
       "      <td>34.970001</td>\n",
       "      <td>0.004308</td>\n",
       "    </tr>\n",
       "    <tr>\n",
       "      <th>2021-02-10</th>\n",
       "      <td>35.080002</td>\n",
       "      <td>34.700001</td>\n",
       "      <td>35.000000</td>\n",
       "      <td>34.740002</td>\n",
       "      <td>29039900.0</td>\n",
       "      <td>34.740002</td>\n",
       "      <td>-0.006577</td>\n",
       "    </tr>\n",
       "    <tr>\n",
       "      <th>2021-02-11</th>\n",
       "      <td>34.810001</td>\n",
       "      <td>34.279999</td>\n",
       "      <td>34.799999</td>\n",
       "      <td>34.430000</td>\n",
       "      <td>30845500.0</td>\n",
       "      <td>34.430000</td>\n",
       "      <td>-0.008923</td>\n",
       "    </tr>\n",
       "    <tr>\n",
       "      <th>2021-02-12</th>\n",
       "      <td>34.950001</td>\n",
       "      <td>34.360001</td>\n",
       "      <td>34.439999</td>\n",
       "      <td>34.720001</td>\n",
       "      <td>25513100.0</td>\n",
       "      <td>34.720001</td>\n",
       "      <td>0.008423</td>\n",
       "    </tr>\n",
       "  </tbody>\n",
       "</table>\n",
       "<p>533 rows × 7 columns</p>\n",
       "</div>"
      ],
      "text/plain": [
       "                 High        Low       Open      Close      Volume  Adj Close  \\\n",
       "Date                                                                            \n",
       "2019-01-03  41.119545  39.800758  41.024670  39.886147  28503533.0  36.551258   \n",
       "2019-01-04  41.129032  40.094875  40.265656  40.796963  27145348.0  37.385921   \n",
       "2019-01-07  41.385201  40.664139  40.863377  41.015179  20995469.0  37.585892   \n",
       "2019-01-08  41.461102  40.939278  41.328274  41.204933  19677231.0  37.759781   \n",
       "2019-01-09  41.432636  40.986717  41.233398  41.119545  20107580.0  37.681534   \n",
       "...               ...        ...        ...        ...         ...        ...   \n",
       "2021-02-08  35.009998  34.740002  34.959999  34.820000  31633900.0  34.820000   \n",
       "2021-02-09  35.060001  34.759998  34.799999  34.970001  30170200.0  34.970001   \n",
       "2021-02-10  35.080002  34.700001  35.000000  34.740002  29039900.0  34.740002   \n",
       "2021-02-11  34.810001  34.279999  34.799999  34.430000  30845500.0  34.430000   \n",
       "2021-02-12  34.950001  34.360001  34.439999  34.720001  25513100.0  34.720001   \n",
       "\n",
       "            Percent_Chg  \n",
       "Date                     \n",
       "2019-01-03    -0.027977  \n",
       "2019-01-04     0.022835  \n",
       "2019-01-07     0.005349  \n",
       "2019-01-08     0.004626  \n",
       "2019-01-09    -0.002072  \n",
       "...                 ...  \n",
       "2021-02-08    -0.002864  \n",
       "2021-02-09     0.004308  \n",
       "2021-02-10    -0.006577  \n",
       "2021-02-11    -0.008923  \n",
       "2021-02-12     0.008423  \n",
       "\n",
       "[533 rows x 7 columns]"
      ]
     },
     "execution_count": 32,
     "metadata": {},
     "output_type": "execute_result"
    }
   ],
   "source": [
    "df_chnge = delta_time_series(single_stock, col='Adj Close')\n",
    "df_chnge"
   ]
  },
  {
   "cell_type": "code",
   "execution_count": 33,
   "metadata": {},
   "outputs": [
    {
     "data": {
      "text/plain": [
       "(533, 7)"
      ]
     },
     "execution_count": 33,
     "metadata": {},
     "output_type": "execute_result"
    }
   ],
   "source": [
    "df_chnge.shape"
   ]
  },
  {
   "cell_type": "code",
   "execution_count": 34,
   "metadata": {},
   "outputs": [],
   "source": [
    "def plot_delta(data,col=None,symbol=None):\n",
    "    plt.figure(figsize=(12,6))\n",
    "    #plt.plot(delta_time_series(data))\n",
    "    plt.plot(data[col])\n",
    "    label_font = {'weight':'bold','size':18}\n",
    "    plt.title('Daily Percentage Price Change',fontdict=label_font)\n",
    "    plt.xlabel('Dates',fontdict=label_font)\n",
    "    plt.ylabel('close')\n",
    "    plt.show()"
   ]
  },
  {
   "cell_type": "code",
   "execution_count": 35,
   "metadata": {},
   "outputs": [
    {
     "data": {
      "image/png": "[encoded data removed]",
      "text/plain": [
       "<Figure size 864x432 with 1 Axes>"
      ]
     },
     "metadata": {
      "needs_background": "light"
     },
     "output_type": "display_data"
    }
   ],
   "source": [
    "#simple daily return\n",
    "#centered aroun d 0\n",
    "plot_delta(df_chnge, col='Percent_Chg')"
   ]
  },
  {
   "cell_type": "code",
   "execution_count": 36,
   "metadata": {},
   "outputs": [],
   "source": [
    "def get_y_from_generator(gen):\n",
    "    '''\n",
    "    Get all targets y from a TimeseriesGenerator instance.\n",
    "    '''\n",
    "    y = None\n",
    "    for i in range(len(gen)):\n",
    "        batch_y = gen[i][1]\n",
    "        if y is None:\n",
    "            y = batch_y\n",
    "        else:\n",
    "            y = np.append(y, batch_y)\n",
    "    y = y.reshape((-1,1))\n",
    "    print(y.shape)\n",
    "    return y"
   ]
  },
  {
   "cell_type": "code",
   "execution_count": 37,
   "metadata": {},
   "outputs": [],
   "source": [
    "def binary_accuracy(a, b):\n",
    "    '''\n",
    "    Helper function to compute the match score of two \n",
    "    binary numpy arrays.\n",
    "    '''\n",
    "    assert len(a) == len(b)\n",
    "    return (a == b).sum() / len(a)"
   ]
  },
  {
   "cell_type": "code",
   "execution_count": 38,
   "metadata": {},
   "outputs": [
    {
     "data": {
      "text/html": [
       "<div>\n",
       "<style scoped>\n",
       "    .dataframe tbody tr th:only-of-type {\n",
       "        vertical-align: middle;\n",
       "    }\n",
       "\n",
       "    .dataframe tbody tr th {\n",
       "        vertical-align: top;\n",
       "    }\n",
       "\n",
       "    .dataframe thead th {\n",
       "        text-align: right;\n",
       "    }\n",
       "</style>\n",
       "<table border=\"1\" class=\"dataframe\">\n",
       "  <thead>\n",
       "    <tr style=\"text-align: right;\">\n",
       "      <th></th>\n",
       "      <th>High</th>\n",
       "      <th>Low</th>\n",
       "      <th>Open</th>\n",
       "      <th>Close</th>\n",
       "      <th>Volume</th>\n",
       "      <th>Adj Close</th>\n",
       "      <th>Percent_Chg</th>\n",
       "    </tr>\n",
       "    <tr>\n",
       "      <th>Date</th>\n",
       "      <th></th>\n",
       "      <th></th>\n",
       "      <th></th>\n",
       "      <th></th>\n",
       "      <th></th>\n",
       "      <th></th>\n",
       "      <th></th>\n",
       "    </tr>\n",
       "  </thead>\n",
       "  <tbody>\n",
       "    <tr>\n",
       "      <th>2019-01-03</th>\n",
       "      <td>41.119545</td>\n",
       "      <td>39.800758</td>\n",
       "      <td>41.024670</td>\n",
       "      <td>39.886147</td>\n",
       "      <td>28503533.0</td>\n",
       "      <td>36.551258</td>\n",
       "      <td>-0.027977</td>\n",
       "    </tr>\n",
       "    <tr>\n",
       "      <th>2019-01-04</th>\n",
       "      <td>41.129032</td>\n",
       "      <td>40.094875</td>\n",
       "      <td>40.265656</td>\n",
       "      <td>40.796963</td>\n",
       "      <td>27145348.0</td>\n",
       "      <td>37.385921</td>\n",
       "      <td>0.022835</td>\n",
       "    </tr>\n",
       "    <tr>\n",
       "      <th>2019-01-07</th>\n",
       "      <td>41.385201</td>\n",
       "      <td>40.664139</td>\n",
       "      <td>40.863377</td>\n",
       "      <td>41.015179</td>\n",
       "      <td>20995469.0</td>\n",
       "      <td>37.585892</td>\n",
       "      <td>0.005349</td>\n",
       "    </tr>\n",
       "    <tr>\n",
       "      <th>2019-01-08</th>\n",
       "      <td>41.461102</td>\n",
       "      <td>40.939278</td>\n",
       "      <td>41.328274</td>\n",
       "      <td>41.204933</td>\n",
       "      <td>19677231.0</td>\n",
       "      <td>37.759781</td>\n",
       "      <td>0.004626</td>\n",
       "    </tr>\n",
       "    <tr>\n",
       "      <th>2019-01-09</th>\n",
       "      <td>41.432636</td>\n",
       "      <td>40.986717</td>\n",
       "      <td>41.233398</td>\n",
       "      <td>41.119545</td>\n",
       "      <td>20107580.0</td>\n",
       "      <td>37.681534</td>\n",
       "      <td>-0.002072</td>\n",
       "    </tr>\n",
       "    <tr>\n",
       "      <th>...</th>\n",
       "      <td>...</td>\n",
       "      <td>...</td>\n",
       "      <td>...</td>\n",
       "      <td>...</td>\n",
       "      <td>...</td>\n",
       "      <td>...</td>\n",
       "      <td>...</td>\n",
       "    </tr>\n",
       "    <tr>\n",
       "      <th>2021-02-08</th>\n",
       "      <td>35.009998</td>\n",
       "      <td>34.740002</td>\n",
       "      <td>34.959999</td>\n",
       "      <td>34.820000</td>\n",
       "      <td>31633900.0</td>\n",
       "      <td>34.820000</td>\n",
       "      <td>-0.002864</td>\n",
       "    </tr>\n",
       "    <tr>\n",
       "      <th>2021-02-09</th>\n",
       "      <td>35.060001</td>\n",
       "      <td>34.759998</td>\n",
       "      <td>34.799999</td>\n",
       "      <td>34.970001</td>\n",
       "      <td>30170200.0</td>\n",
       "      <td>34.970001</td>\n",
       "      <td>0.004308</td>\n",
       "    </tr>\n",
       "    <tr>\n",
       "      <th>2021-02-10</th>\n",
       "      <td>35.080002</td>\n",
       "      <td>34.700001</td>\n",
       "      <td>35.000000</td>\n",
       "      <td>34.740002</td>\n",
       "      <td>29039900.0</td>\n",
       "      <td>34.740002</td>\n",
       "      <td>-0.006577</td>\n",
       "    </tr>\n",
       "    <tr>\n",
       "      <th>2021-02-11</th>\n",
       "      <td>34.810001</td>\n",
       "      <td>34.279999</td>\n",
       "      <td>34.799999</td>\n",
       "      <td>34.430000</td>\n",
       "      <td>30845500.0</td>\n",
       "      <td>34.430000</td>\n",
       "      <td>-0.008923</td>\n",
       "    </tr>\n",
       "    <tr>\n",
       "      <th>2021-02-12</th>\n",
       "      <td>34.950001</td>\n",
       "      <td>34.360001</td>\n",
       "      <td>34.439999</td>\n",
       "      <td>34.720001</td>\n",
       "      <td>25513100.0</td>\n",
       "      <td>34.720001</td>\n",
       "      <td>0.008423</td>\n",
       "    </tr>\n",
       "  </tbody>\n",
       "</table>\n",
       "<p>533 rows × 7 columns</p>\n",
       "</div>"
      ],
      "text/plain": [
       "                 High        Low       Open      Close      Volume  Adj Close  \\\n",
       "Date                                                                            \n",
       "2019-01-03  41.119545  39.800758  41.024670  39.886147  28503533.0  36.551258   \n",
       "2019-01-04  41.129032  40.094875  40.265656  40.796963  27145348.0  37.385921   \n",
       "2019-01-07  41.385201  40.664139  40.863377  41.015179  20995469.0  37.585892   \n",
       "2019-01-08  41.461102  40.939278  41.328274  41.204933  19677231.0  37.759781   \n",
       "2019-01-09  41.432636  40.986717  41.233398  41.119545  20107580.0  37.681534   \n",
       "...               ...        ...        ...        ...         ...        ...   \n",
       "2021-02-08  35.009998  34.740002  34.959999  34.820000  31633900.0  34.820000   \n",
       "2021-02-09  35.060001  34.759998  34.799999  34.970001  30170200.0  34.970001   \n",
       "2021-02-10  35.080002  34.700001  35.000000  34.740002  29039900.0  34.740002   \n",
       "2021-02-11  34.810001  34.279999  34.799999  34.430000  30845500.0  34.430000   \n",
       "2021-02-12  34.950001  34.360001  34.439999  34.720001  25513100.0  34.720001   \n",
       "\n",
       "            Percent_Chg  \n",
       "Date                     \n",
       "2019-01-03    -0.027977  \n",
       "2019-01-04     0.022835  \n",
       "2019-01-07     0.005349  \n",
       "2019-01-08     0.004626  \n",
       "2019-01-09    -0.002072  \n",
       "...                 ...  \n",
       "2021-02-08    -0.002864  \n",
       "2021-02-09     0.004308  \n",
       "2021-02-10    -0.006577  \n",
       "2021-02-11    -0.008923  \n",
       "2021-02-12     0.008423  \n",
       "\n",
       "[533 rows x 7 columns]"
      ]
     },
     "execution_count": 38,
     "metadata": {},
     "output_type": "execute_result"
    }
   ],
   "source": [
    "df_chnge"
   ]
  },
  {
   "cell_type": "code",
   "execution_count": 39,
   "metadata": {},
   "outputs": [],
   "source": [
    "single_stock = df_chnge.copy()"
   ]
  },
  {
   "cell_type": "code",
   "execution_count": 40,
   "metadata": {},
   "outputs": [
    {
     "data": {
      "text/html": [
       "<div>\n",
       "<style scoped>\n",
       "    .dataframe tbody tr th:only-of-type {\n",
       "        vertical-align: middle;\n",
       "    }\n",
       "\n",
       "    .dataframe tbody tr th {\n",
       "        vertical-align: top;\n",
       "    }\n",
       "\n",
       "    .dataframe thead th {\n",
       "        text-align: right;\n",
       "    }\n",
       "</style>\n",
       "<table border=\"1\" class=\"dataframe\">\n",
       "  <thead>\n",
       "    <tr style=\"text-align: right;\">\n",
       "      <th></th>\n",
       "      <th>High</th>\n",
       "      <th>Low</th>\n",
       "      <th>Open</th>\n",
       "      <th>Close</th>\n",
       "      <th>Volume</th>\n",
       "      <th>Adj Close</th>\n",
       "      <th>Percent_Chg</th>\n",
       "    </tr>\n",
       "    <tr>\n",
       "      <th>Date</th>\n",
       "      <th></th>\n",
       "      <th></th>\n",
       "      <th></th>\n",
       "      <th></th>\n",
       "      <th></th>\n",
       "      <th></th>\n",
       "      <th></th>\n",
       "    </tr>\n",
       "  </thead>\n",
       "  <tbody>\n",
       "    <tr>\n",
       "      <th>2019-01-03</th>\n",
       "      <td>41.119545</td>\n",
       "      <td>39.800758</td>\n",
       "      <td>41.024670</td>\n",
       "      <td>39.886147</td>\n",
       "      <td>28503533.0</td>\n",
       "      <td>36.551258</td>\n",
       "      <td>-0.027977</td>\n",
       "    </tr>\n",
       "    <tr>\n",
       "      <th>2019-01-04</th>\n",
       "      <td>41.129032</td>\n",
       "      <td>40.094875</td>\n",
       "      <td>40.265656</td>\n",
       "      <td>40.796963</td>\n",
       "      <td>27145348.0</td>\n",
       "      <td>37.385921</td>\n",
       "      <td>0.022835</td>\n",
       "    </tr>\n",
       "    <tr>\n",
       "      <th>2019-01-07</th>\n",
       "      <td>41.385201</td>\n",
       "      <td>40.664139</td>\n",
       "      <td>40.863377</td>\n",
       "      <td>41.015179</td>\n",
       "      <td>20995469.0</td>\n",
       "      <td>37.585892</td>\n",
       "      <td>0.005349</td>\n",
       "    </tr>\n",
       "    <tr>\n",
       "      <th>2019-01-08</th>\n",
       "      <td>41.461102</td>\n",
       "      <td>40.939278</td>\n",
       "      <td>41.328274</td>\n",
       "      <td>41.204933</td>\n",
       "      <td>19677231.0</td>\n",
       "      <td>37.759781</td>\n",
       "      <td>0.004626</td>\n",
       "    </tr>\n",
       "    <tr>\n",
       "      <th>2019-01-09</th>\n",
       "      <td>41.432636</td>\n",
       "      <td>40.986717</td>\n",
       "      <td>41.233398</td>\n",
       "      <td>41.119545</td>\n",
       "      <td>20107580.0</td>\n",
       "      <td>37.681534</td>\n",
       "      <td>-0.002072</td>\n",
       "    </tr>\n",
       "    <tr>\n",
       "      <th>...</th>\n",
       "      <td>...</td>\n",
       "      <td>...</td>\n",
       "      <td>...</td>\n",
       "      <td>...</td>\n",
       "      <td>...</td>\n",
       "      <td>...</td>\n",
       "      <td>...</td>\n",
       "    </tr>\n",
       "    <tr>\n",
       "      <th>2021-02-08</th>\n",
       "      <td>35.009998</td>\n",
       "      <td>34.740002</td>\n",
       "      <td>34.959999</td>\n",
       "      <td>34.820000</td>\n",
       "      <td>31633900.0</td>\n",
       "      <td>34.820000</td>\n",
       "      <td>-0.002864</td>\n",
       "    </tr>\n",
       "    <tr>\n",
       "      <th>2021-02-09</th>\n",
       "      <td>35.060001</td>\n",
       "      <td>34.759998</td>\n",
       "      <td>34.799999</td>\n",
       "      <td>34.970001</td>\n",
       "      <td>30170200.0</td>\n",
       "      <td>34.970001</td>\n",
       "      <td>0.004308</td>\n",
       "    </tr>\n",
       "    <tr>\n",
       "      <th>2021-02-10</th>\n",
       "      <td>35.080002</td>\n",
       "      <td>34.700001</td>\n",
       "      <td>35.000000</td>\n",
       "      <td>34.740002</td>\n",
       "      <td>29039900.0</td>\n",
       "      <td>34.740002</td>\n",
       "      <td>-0.006577</td>\n",
       "    </tr>\n",
       "    <tr>\n",
       "      <th>2021-02-11</th>\n",
       "      <td>34.810001</td>\n",
       "      <td>34.279999</td>\n",
       "      <td>34.799999</td>\n",
       "      <td>34.430000</td>\n",
       "      <td>30845500.0</td>\n",
       "      <td>34.430000</td>\n",
       "      <td>-0.008923</td>\n",
       "    </tr>\n",
       "    <tr>\n",
       "      <th>2021-02-12</th>\n",
       "      <td>34.950001</td>\n",
       "      <td>34.360001</td>\n",
       "      <td>34.439999</td>\n",
       "      <td>34.720001</td>\n",
       "      <td>25513100.0</td>\n",
       "      <td>34.720001</td>\n",
       "      <td>0.008423</td>\n",
       "    </tr>\n",
       "  </tbody>\n",
       "</table>\n",
       "<p>533 rows × 7 columns</p>\n",
       "</div>"
      ],
      "text/plain": [
       "                 High        Low       Open      Close      Volume  Adj Close  \\\n",
       "Date                                                                            \n",
       "2019-01-03  41.119545  39.800758  41.024670  39.886147  28503533.0  36.551258   \n",
       "2019-01-04  41.129032  40.094875  40.265656  40.796963  27145348.0  37.385921   \n",
       "2019-01-07  41.385201  40.664139  40.863377  41.015179  20995469.0  37.585892   \n",
       "2019-01-08  41.461102  40.939278  41.328274  41.204933  19677231.0  37.759781   \n",
       "2019-01-09  41.432636  40.986717  41.233398  41.119545  20107580.0  37.681534   \n",
       "...               ...        ...        ...        ...         ...        ...   \n",
       "2021-02-08  35.009998  34.740002  34.959999  34.820000  31633900.0  34.820000   \n",
       "2021-02-09  35.060001  34.759998  34.799999  34.970001  30170200.0  34.970001   \n",
       "2021-02-10  35.080002  34.700001  35.000000  34.740002  29039900.0  34.740002   \n",
       "2021-02-11  34.810001  34.279999  34.799999  34.430000  30845500.0  34.430000   \n",
       "2021-02-12  34.950001  34.360001  34.439999  34.720001  25513100.0  34.720001   \n",
       "\n",
       "            Percent_Chg  \n",
       "Date                     \n",
       "2019-01-03    -0.027977  \n",
       "2019-01-04     0.022835  \n",
       "2019-01-07     0.005349  \n",
       "2019-01-08     0.004626  \n",
       "2019-01-09    -0.002072  \n",
       "...                 ...  \n",
       "2021-02-08    -0.002864  \n",
       "2021-02-09     0.004308  \n",
       "2021-02-10    -0.006577  \n",
       "2021-02-11    -0.008923  \n",
       "2021-02-12     0.008423  \n",
       "\n",
       "[533 rows x 7 columns]"
      ]
     },
     "execution_count": 40,
     "metadata": {},
     "output_type": "execute_result"
    }
   ],
   "source": [
    "single_stock"
   ]
  },
  {
   "cell_type": "code",
   "execution_count": 41,
   "metadata": {},
   "outputs": [],
   "source": [
    "train_size = int(len(single_stock) * 0.80)#0.67\n",
    "test_size = len(single_stock) - train_size\n",
    "#val_size = len(dataset_delta_AMAZN)  - "
   ]
  },
  {
   "cell_type": "code",
   "execution_count": 42,
   "metadata": {},
   "outputs": [
    {
     "data": {
      "text/plain": [
       "Timestamp('2020-09-11 00:00:00')"
      ]
     },
     "execution_count": 42,
     "metadata": {},
     "output_type": "execute_result"
    }
   ],
   "source": [
    "single_stock.index[train_size]"
   ]
  },
  {
   "cell_type": "code",
   "execution_count": 43,
   "metadata": {},
   "outputs": [
    {
     "data": {
      "text/plain": [
       "Timestamp('2020-09-11 00:00:00')"
      ]
     },
     "execution_count": 43,
     "metadata": {},
     "output_type": "execute_result"
    }
   ],
   "source": [
    "single_stock.index[-test_size]\n"
   ]
  },
  {
   "cell_type": "code",
   "execution_count": 44,
   "metadata": {},
   "outputs": [
    {
     "data": {
      "text/plain": [
       "<matplotlib.axes._subplots.AxesSubplot at 0x7f8bff61a978>"
      ]
     },
     "execution_count": 44,
     "metadata": {},
     "output_type": "execute_result"
    },
    {
     "data": {
      "image/png": "[encoded data removed]",
      "text/plain": [
       "<Figure size 432x288 with 1 Axes>"
      ]
     },
     "metadata": {
      "needs_background": "light"
     },
     "output_type": "display_data"
    }
   ],
   "source": [
    "train = single_stock[:'2020-09-11']\n",
    "val = single_stock['2020-09-11':'2020-11-01']\n",
    "test = single_stock['2020-11-01':] #2021-02-12\n",
    "ax = train.plot()\n",
    "val.plot(ax=ax)\n",
    "test.plot(ax=ax)"
   ]
  },
  {
   "cell_type": "code",
   "execution_count": 75,
   "metadata": {},
   "outputs": [],
   "source": [
    "def train_test_val(single_stock, date1='2020-09-11', date2='2020-11-01'):    \n",
    "    train = single_stock[:date1]#'2020-09-11'\n",
    "    val = single_stock[date1:date2]\n",
    "    test = single_stock[date2:] #2021-02-12\n",
    "    ax = train.plot()\n",
    "    val.plot(ax=ax)\n",
    "    test.plot(ax=ax)\n",
    "    \n",
    "    return train, val, test"
   ]
  },
  {
   "cell_type": "code",
   "execution_count": 76,
   "metadata": {},
   "outputs": [
    {
     "data": {
      "image/png": "[encoded data removed]",
      "text/plain": [
       "<Figure size 432x288 with 1 Axes>"
      ]
     },
     "metadata": {
      "needs_background": "light"
     },
     "output_type": "display_data"
    }
   ],
   "source": [
    "train, val, test= train_test_val(single_stock)"
   ]
  },
  {
   "cell_type": "code",
   "execution_count": 47,
   "metadata": {},
   "outputs": [],
   "source": [
    "# normalize the dataset\n",
    "scaler = MinMaxScaler(feature_range=(0, 1))\n",
    "train_scaled = scaler.fit_transform(train)\n",
    "test_scaled = scaler.transform(test)\n",
    "val_scaled = scaler.transform(val)"
   ]
  },
  {
   "cell_type": "code",
   "execution_count": 48,
   "metadata": {},
   "outputs": [
    {
     "data": {
      "text/plain": [
       "((427, 7), (36, 7), (71, 7))"
      ]
     },
     "execution_count": 48,
     "metadata": {},
     "output_type": "execute_result"
    }
   ],
   "source": [
    "train_scaled.shape, val_scaled.shape, test_scaled.shape"
   ]
  },
  {
   "cell_type": "code",
   "execution_count": 49,
   "metadata": {},
   "outputs": [
    {
     "data": {
      "text/plain": [
       "{'High': 0,\n",
       " 'Low': 1,\n",
       " 'Open': 2,\n",
       " 'Close': 3,\n",
       " 'Volume': 4,\n",
       " 'Adj Close': 5,\n",
       " 'Percent_Chg': 6}"
      ]
     },
     "execution_count": 49,
     "metadata": {},
     "output_type": "execute_result"
    }
   ],
   "source": [
    "look_back = 10\n",
    "batch_size=3\n",
    "col_index = {v:k for k,v in enumerate(train.columns)}\n",
    "col_index"
   ]
  },
  {
   "cell_type": "code",
   "execution_count": 50,
   "metadata": {},
   "outputs": [
    {
     "data": {
      "text/plain": [
       "5"
      ]
     },
     "execution_count": 50,
     "metadata": {},
     "output_type": "execute_result"
    }
   ],
   "source": [
    "col_index['Adj Close']\n"
   ]
  },
  {
   "cell_type": "code",
   "execution_count": 51,
   "metadata": {},
   "outputs": [],
   "source": [
    "train_data_gen = TimeseriesGenerator(train_scaled, train_scaled[:,col_index['Adj Close']],\n",
    "                               length=look_back, sampling_rate=1,stride=1,\n",
    "                               batch_size=batch_size)"
   ]
  },
  {
   "cell_type": "code",
   "execution_count": 52,
   "metadata": {},
   "outputs": [],
   "source": [
    "val_data_gen = TimeseriesGenerator(val_scaled, val_scaled[:,col_index['Adj Close']],\n",
    "                               length=look_back, sampling_rate=1,stride=1,\n",
    "                               batch_size=batch_size)"
   ]
  },
  {
   "cell_type": "code",
   "execution_count": 53,
   "metadata": {},
   "outputs": [],
   "source": [
    "test_data_gen = TimeseriesGenerator(test_scaled, test_scaled[:,col_index['Adj Close']],\n",
    "                               length=look_back, sampling_rate=1,stride=1,\n",
    "                               batch_size=3)"
   ]
  },
  {
   "cell_type": "code",
   "execution_count": 54,
   "metadata": {},
   "outputs": [
    {
     "data": {
      "text/plain": [
       "(3, 10, 7)"
      ]
     },
     "execution_count": 54,
     "metadata": {},
     "output_type": "execute_result"
    }
   ],
   "source": [
    "ex_X, ex_y = train_data_gen[0]\n",
    "ex_X.shape"
   ]
  },
  {
   "cell_type": "code",
   "execution_count": 55,
   "metadata": {},
   "outputs": [
    {
     "data": {
      "text/plain": [
       "(10, 7)"
      ]
     },
     "execution_count": 55,
     "metadata": {},
     "output_type": "execute_result"
    }
   ],
   "source": [
    "sample = ex_X[0]\n",
    "sample.shape"
   ]
  },
  {
   "cell_type": "code",
   "execution_count": 56,
   "metadata": {},
   "outputs": [
    {
     "name": "stdout",
     "output_type": "stream",
     "text": [
      "Model: \"sequential_1\"\n",
      "_________________________________________________________________\n",
      "Layer (type)                 Output Shape              Param #   \n",
      "=================================================================\n",
      "lstm_1 (LSTM)                (None, 10, 50)            11600     \n",
      "_________________________________________________________________\n",
      "dropout_1 (Dropout)          (None, 10, 50)            0         \n",
      "_________________________________________________________________\n",
      "lstm_2 (LSTM)                (None, 10, 50)            20200     \n",
      "_________________________________________________________________\n",
      "dropout_2 (Dropout)          (None, 10, 50)            0         \n",
      "_________________________________________________________________\n",
      "lstm_3 (LSTM)                (None, 50)                20200     \n",
      "_________________________________________________________________\n",
      "dropout_3 (Dropout)          (None, 50)                0         \n",
      "_________________________________________________________________\n",
      "dense_1 (Dense)              (None, 25)                1275      \n",
      "_________________________________________________________________\n",
      "dense_2 (Dense)              (None, 1)                 26        \n",
      "=================================================================\n",
      "Total params: 53,301\n",
      "Trainable params: 53,301\n",
      "Non-trainable params: 0\n",
      "_________________________________________________________________\n"
     ]
    }
   ],
   "source": [
    "# model = Sequential()\n",
    "# model.add(LSTM(4, input_shape=(look_back, 1)))\n",
    "# model.add(Dense(1))\n",
    "# model.compile(loss='mean_squared_error', optimizer='adam')\n",
    "\n",
    "model = Sequential()\n",
    "\n",
    "model.add(LSTM(units = 50, return_sequences = True, input_shape=sample.shape))\n",
    "model.add(Dropout(0.2))\n",
    "\n",
    "model.add(LSTM(units = 50, return_sequences = True))\n",
    "model.add(Dropout(0.2))\n",
    "\n",
    "model.add(LSTM(units = 50, return_sequences = False))\n",
    "model.add(Dropout(0.2))\n",
    "\n",
    "model.add(Dense(units = 25))\n",
    "model.add(Dense(units = 1))\n",
    "\n",
    "model.compile(optimizer = 'adam', loss = 'mean_squared_error')\n",
    "\n",
    "model.summary()    "
   ]
  },
  {
   "cell_type": "code",
   "execution_count": 57,
   "metadata": {},
   "outputs": [
    {
     "name": "stdout",
     "output_type": "stream",
     "text": [
      "Epoch 1/50\n",
      "139/139 [==============================] - 3s 19ms/step - loss: 0.0240 - val_loss: 0.0012\n",
      "Epoch 2/50\n",
      "139/139 [==============================] - 2s 17ms/step - loss: 0.0142 - val_loss: 0.0314\n",
      "Epoch 3/50\n",
      "139/139 [==============================] - 3s 19ms/step - loss: 0.0135 - val_loss: 0.0241\n",
      "Epoch 4/50\n",
      "139/139 [==============================] - 2s 16ms/step - loss: 0.0124 - val_loss: 1.7368e-04\n",
      "Epoch 5/50\n",
      "139/139 [==============================] - 2s 15ms/step - loss: 0.0117 - val_loss: 0.0029\n",
      "Epoch 6/50\n",
      "139/139 [==============================] - 2s 18ms/step - loss: 0.0107 - val_loss: 0.0092\n",
      "Epoch 7/50\n",
      "139/139 [==============================] - 3s 22ms/step - loss: 0.0093 - val_loss: 0.0056\n"
     ]
    }
   ],
   "source": [
    "early_stop = EarlyStopping(monitor='val_loss', patience=3)\n",
    "# hist = model.fit(X_train,y_train, epochs=10,batch_size=32,callbacks=[early_stop],validation_split=0.1)     \n",
    "hist = model.fit_generator(train_data_gen, epochs=50,validation_data=val_data_gen,callbacks=[early_stop])"
   ]
  },
  {
   "cell_type": "code",
   "execution_count": 58,
   "metadata": {},
   "outputs": [
    {
     "data": {
      "text/plain": [
       "0.012385668233036995"
      ]
     },
     "execution_count": 58,
     "metadata": {},
     "output_type": "execute_result"
    }
   ],
   "source": [
    "model.evaluate_generator(test_data_gen)"
   ]
  },
  {
   "cell_type": "code",
   "execution_count": 59,
   "metadata": {},
   "outputs": [
    {
     "data": {
      "text/plain": [
       "<matplotlib.axes._subplots.AxesSubplot at 0x7f8bea06d710>"
      ]
     },
     "execution_count": 59,
     "metadata": {},
     "output_type": "execute_result"
    },
    {
     "data": {
      "image/png": "[encoded data removed]",
      "text/plain": [
       "<Figure size 432x288 with 1 Axes>"
      ]
     },
     "metadata": {
      "needs_background": "light"
     },
     "output_type": "display_data"
    }
   ],
   "source": [
    "pd.DataFrame(hist.history).plot()"
   ]
  },
  {
   "cell_type": "code",
   "execution_count": 60,
   "metadata": {},
   "outputs": [],
   "source": [
    "def save_model():\n",
    "    model.save('model_parameters')\n",
    "    model_params = keras.models.load_model('model_parameters')\n",
    "    model_params.summary()\n",
    "\n",
    "    return model_params"
   ]
  },
  {
   "cell_type": "code",
   "execution_count": 61,
   "metadata": {},
   "outputs": [
    {
     "name": "stdout",
     "output_type": "stream",
     "text": [
      "Model: \"sequential_1\"\n",
      "_________________________________________________________________\n",
      "Layer (type)                 Output Shape              Param #   \n",
      "=================================================================\n",
      "lstm_1 (LSTM)                (None, 10, 50)            11600     \n",
      "_________________________________________________________________\n",
      "dropout_1 (Dropout)          (None, 10, 50)            0         \n",
      "_________________________________________________________________\n",
      "lstm_2 (LSTM)                (None, 10, 50)            20200     \n",
      "_________________________________________________________________\n",
      "dropout_2 (Dropout)          (None, 10, 50)            0         \n",
      "_________________________________________________________________\n",
      "lstm_3 (LSTM)                (None, 50)                20200     \n",
      "_________________________________________________________________\n",
      "dropout_3 (Dropout)          (None, 50)                0         \n",
      "_________________________________________________________________\n",
      "dense_1 (Dense)              (None, 25)                1275      \n",
      "_________________________________________________________________\n",
      "dense_2 (Dense)              (None, 1)                 26        \n",
      "=================================================================\n",
      "Total params: 53,301\n",
      "Trainable params: 53,301\n",
      "Non-trainable params: 0\n",
      "_________________________________________________________________\n"
     ]
    }
   ],
   "source": [
    "model_params = save_model()"
   ]
  },
  {
   "cell_type": "code",
   "execution_count": 99,
   "metadata": {},
   "outputs": [
    {
     "data": {
      "text/plain": [
       "(417, 1)"
      ]
     },
     "execution_count": 99,
     "metadata": {},
     "output_type": "execute_result"
    }
   ],
   "source": [
    "trainPredict = model.predict_generator(train_data_gen)\n",
    "trainPredict.shape"
   ]
  },
  {
   "cell_type": "code",
   "execution_count": 100,
   "metadata": {},
   "outputs": [
    {
     "data": {
      "text/plain": [
       "(61, 1)"
      ]
     },
     "execution_count": 100,
     "metadata": {},
     "output_type": "execute_result"
    }
   ],
   "source": [
    "testPredict = model.predict_generator(test_data_gen)\n",
    "testPredict.shape"
   ]
  },
  {
   "cell_type": "code",
   "execution_count": 103,
   "metadata": {},
   "outputs": [],
   "source": [
    "# trainPredict = scaler.inverse_transform(trainPredict)\n",
    "# testPredict = scaler.inverse_transform(testPredict)"
   ]
  },
  {
   "cell_type": "code",
   "execution_count": 64,
   "metadata": {},
   "outputs": [
    {
     "data": {
      "text/plain": [
       "MinMaxScaler()"
      ]
     },
     "execution_count": 64,
     "metadata": {},
     "output_type": "execute_result"
    }
   ],
   "source": [
    "scaler"
   ]
  },
  {
   "cell_type": "code",
   "execution_count": 65,
   "metadata": {},
   "outputs": [],
   "source": [
    "# def invTransform(scaler, data, colName, colNames):\n",
    "#     dummy = pd.DataFrame(np.zeros((len(data), len(colNames))), columns=colNames)\n",
    "#     dummy[colName] = data\n",
    "#     dummy = pd.DataFrame(scaler.inverse_transform(dummy), columns=colNames)\n",
    "#     return dummy[colName].values"
   ]
  },
  {
   "cell_type": "code",
   "execution_count": 66,
   "metadata": {},
   "outputs": [],
   "source": [
    "# invTransform(scaler, data=df, colNames=df.columns)"
   ]
  },
  {
   "cell_type": "code",
   "execution_count": 78,
   "metadata": {},
   "outputs": [
    {
     "data": {
      "text/plain": [
       "(417, 1)"
      ]
     },
     "execution_count": 78,
     "metadata": {},
     "output_type": "execute_result"
    }
   ],
   "source": [
    "trainPredict.shape"
   ]
  },
  {
   "cell_type": "code",
   "execution_count": 104,
   "metadata": {},
   "outputs": [],
   "source": [
    "# # invert predictions, scale values back to real index/price range.\n",
    "# trainPredict = scaler.inverse_transform(trainPredict)\n",
    "# testPredict = scaler.inverse_transform(testPredict)"
   ]
  },
  {
   "cell_type": "code",
   "execution_count": 68,
   "metadata": {},
   "outputs": [
    {
     "name": "stdout",
     "output_type": "stream",
     "text": [
      "(417, 1)\n",
      "(61, 1)\n"
     ]
    }
   ],
   "source": [
    "trainY = get_y_from_generator(train_data_gen)\n",
    "testY = get_y_from_generator(test_data_gen)"
   ]
  },
  {
   "cell_type": "code",
   "execution_count": 69,
   "metadata": {},
   "outputs": [
    {
     "name": "stdout",
     "output_type": "stream",
     "text": [
      "Train Score: 0.07 RMSE\n",
      "Test Score: 0.22 RMSE\n"
     ]
    }
   ],
   "source": [
    "# calculate root mean squared error\n",
    "trainScore = math.sqrt(mean_squared_error(trainY[:,0], trainPredict[:,0]))\n",
    "print('Train Score: %.2f RMSE' % (trainScore))\n",
    "testScore = math.sqrt(mean_squared_error(testY[:, 0], testPredict[:,0]))\n",
    "print('Test Score: %.2f RMSE' % (testScore))"
   ]
  },
  {
   "cell_type": "code",
   "execution_count": 70,
   "metadata": {},
   "outputs": [
    {
     "data": {
      "text/plain": [
       "array([[ 0.00000000e+000,  6.92870109e-310,  6.92872965e-310, ...,\n",
       "         6.92870110e-310,  6.92870109e-310,  6.92870110e-310],\n",
       "       [ 6.92870110e-310,  6.92874031e-310,  6.92874025e-310, ...,\n",
       "         6.92874024e-310,  0.00000000e+000,  0.00000000e+000],\n",
       "       [ 0.00000000e+000,  0.00000000e+000,  0.00000000e+000, ...,\n",
       "         0.00000000e+000,  0.00000000e+000,  0.00000000e+000],\n",
       "       ...,\n",
       "       [-4.33046261e-311,  6.92874018e-310,  6.92870108e-310, ...,\n",
       "         6.92874018e-310,  6.92870108e-310,  4.33046261e-311],\n",
       "       [ 6.92874017e-310,  6.92870110e-310,  4.33046261e-311, ...,\n",
       "         6.92874031e-310,  4.33046261e-311,  6.92874018e-310],\n",
       "       [ 6.92870108e-310,  4.33046261e-311,  6.92874018e-310, ...,\n",
       "         4.33046261e-311,  6.92874017e-310,  6.92870108e-310]])"
      ]
     },
     "execution_count": 70,
     "metadata": {},
     "output_type": "execute_result"
    }
   ],
   "source": [
    "trainPredictPlot = np.empty_like(single_stock)\n",
    "trainPredictPlot"
   ]
  },
  {
   "cell_type": "code",
   "execution_count": 89,
   "metadata": {},
   "outputs": [],
   "source": [
    "single = single_stock.copy()\n",
    "single = pd.DataFrame(single['Adj Close'])"
   ]
  },
  {
   "cell_type": "code",
   "execution_count": 90,
   "metadata": {},
   "outputs": [],
   "source": [
    "#shift train predictions for plotting\n",
    "#look_back=\n",
    "trainPredictPlot = np.empty_like(single)\n",
    "trainPredictPlot[:, :]= np.nan\n",
    "trainPredictPlot[look_back:len(trainPredict)+look_back, :] = trainPredict"
   ]
  },
  {
   "cell_type": "code",
   "execution_count": 93,
   "metadata": {},
   "outputs": [
    {
     "data": {
      "text/plain": [
       "((417, 1), (533, 1))"
      ]
     },
     "execution_count": 93,
     "metadata": {},
     "output_type": "execute_result"
    }
   ],
   "source": [
    "trainPredict.shape, trainPredictPlot.shape"
   ]
  },
  {
   "cell_type": "code",
   "execution_count": 72,
   "metadata": {},
   "outputs": [
    {
     "data": {
      "text/plain": [
       "array([[ 0.00000000e+000,  6.08194810e-321,  0.00000000e+000, ...,\n",
       "         1.96638127e-321,  1.22379062e-307,              nan],\n",
       "       [ 2.06504564e-305,              nan,              nan, ...,\n",
       "                     nan,              nan,              nan],\n",
       "       [ 1.33504432e-306,  6.12454250e-302,              nan, ...,\n",
       "                     nan,              nan,              nan],\n",
       "       ...,\n",
       "       [ 6.92872314e-310,  4.33045196e-311,  6.92872461e-310, ...,\n",
       "         6.92872309e-310,  4.33045193e-311,  6.92872310e-310],\n",
       "       [ 4.33045194e-311,  6.92872310e-310, -4.33045194e-311, ...,\n",
       "         4.33045195e-311,  6.92872340e-310, -4.33045213e-311],\n",
       "       [ 6.92872437e-310,  4.33045273e-311,  6.92872312e-310, ...,\n",
       "         6.92872310e-310,  4.33045194e-311,  6.92872310e-310]])"
      ]
     },
     "execution_count": 72,
     "metadata": {},
     "output_type": "execute_result"
    }
   ],
   "source": [
    "testPredictPlot = np.empty_like(single_stock)\n",
    "testPredictPlot"
   ]
  },
  {
   "cell_type": "code",
   "execution_count": 73,
   "metadata": {},
   "outputs": [
    {
     "data": {
      "text/plain": [
       "array([[nan, nan, nan, ..., nan, nan, nan],\n",
       "       [nan, nan, nan, ..., nan, nan, nan],\n",
       "       [nan, nan, nan, ..., nan, nan, nan],\n",
       "       ...,\n",
       "       [nan, nan, nan, ..., nan, nan, nan],\n",
       "       [nan, nan, nan, ..., nan, nan, nan],\n",
       "       [nan, nan, nan, ..., nan, nan, nan]])"
      ]
     },
     "execution_count": 73,
     "metadata": {},
     "output_type": "execute_result"
    }
   ],
   "source": [
    "testPredictPlot[:, :]= np.nan\n",
    "testPredictPlot"
   ]
  },
  {
   "cell_type": "code",
   "execution_count": 79,
   "metadata": {},
   "outputs": [
    {
     "data": {
      "text/plain": [
       "(533, 7)"
      ]
     },
     "execution_count": 79,
     "metadata": {},
     "output_type": "execute_result"
    }
   ],
   "source": [
    "trainPredictPlot.shape"
   ]
  },
  {
   "cell_type": "code",
   "execution_count": 94,
   "metadata": {},
   "outputs": [
    {
     "ename": "ValueError",
     "evalue": "could not broadcast input array from shape (61,1) into shape (94,1)",
     "output_type": "error",
     "traceback": [
      "\u001b[0;31m---------------------------------------------------------------------------\u001b[0m",
      "\u001b[0;31mValueError\u001b[0m                                Traceback (most recent call last)",
      "\u001b[0;32m<ipython-input-94-1ba53080faee>\u001b[0m in \u001b[0;36m<module>\u001b[0;34m\u001b[0m\n\u001b[1;32m      7\u001b[0m \u001b[0mtestPredictPlot\u001b[0m \u001b[0;34m=\u001b[0m \u001b[0mnp\u001b[0m\u001b[0;34m.\u001b[0m\u001b[0mempty_like\u001b[0m\u001b[0;34m(\u001b[0m\u001b[0msingle\u001b[0m\u001b[0;34m)\u001b[0m\u001b[0;34m\u001b[0m\u001b[0;34m\u001b[0m\u001b[0m\n\u001b[1;32m      8\u001b[0m \u001b[0mtestPredictPlot\u001b[0m\u001b[0;34m[\u001b[0m\u001b[0;34m:\u001b[0m\u001b[0;34m,\u001b[0m \u001b[0;34m:\u001b[0m\u001b[0;34m]\u001b[0m\u001b[0;34m=\u001b[0m \u001b[0mnp\u001b[0m\u001b[0;34m.\u001b[0m\u001b[0mnan\u001b[0m\u001b[0;34m\u001b[0m\u001b[0;34m\u001b[0m\u001b[0m\n\u001b[0;32m----> 9\u001b[0;31m \u001b[0mtestPredictPlot\u001b[0m\u001b[0;34m[\u001b[0m\u001b[0mlen\u001b[0m\u001b[0;34m(\u001b[0m\u001b[0mtrainPredict\u001b[0m\u001b[0;34m)\u001b[0m\u001b[0;34m+\u001b[0m\u001b[0;34m(\u001b[0m\u001b[0mlook_back\u001b[0m \u001b[0;34m*\u001b[0m \u001b[0;36m2\u001b[0m\u001b[0;34m)\u001b[0m\u001b[0;34m+\u001b[0m\u001b[0;36m1\u001b[0m\u001b[0;34m:\u001b[0m \u001b[0mlen\u001b[0m\u001b[0;34m(\u001b[0m\u001b[0msingle\u001b[0m\u001b[0;34m)\u001b[0m\u001b[0;34m-\u001b[0m\u001b[0;36m1\u001b[0m\u001b[0;34m,\u001b[0m \u001b[0;34m:\u001b[0m\u001b[0;34m]\u001b[0m \u001b[0;34m=\u001b[0m \u001b[0mtestPredict\u001b[0m\u001b[0;34m\u001b[0m\u001b[0;34m\u001b[0m\u001b[0m\n\u001b[0m",
      "\u001b[0;31mValueError\u001b[0m: could not broadcast input array from shape (61,1) into shape (94,1)"
     ]
    }
   ],
   "source": [
    "# #shift train predictions for plotting\n",
    "# #look_back=\n",
    "# trainPredictPlot = np.empty_like(single_stock)\n",
    "# trainPredictPlot[:, :]= np.nan\n",
    "# trainPredictPlot[look_back:len(trainPredict)+look_back, :] = trainPredict\n",
    "# #shift test predictions for plotting\n",
    "testPredictPlot = np.empty_like(single)\n",
    "testPredictPlot[:, :]= np.nan\n",
    "testPredictPlot[len(trainPredict)+(look_back * 2)+1: len(single)-1, :] = testPredict\n"
   ]
  },
  {
   "cell_type": "code",
   "execution_count": 96,
   "metadata": {},
   "outputs": [],
   "source": [
    "training_data_len = int(np.round(len(single) * .8))"
   ]
  },
  {
   "cell_type": "code",
   "execution_count": 108,
   "metadata": {},
   "outputs": [],
   "source": [
    "def make_prediction(model, test_scaled, testY,training_data_len):\n",
    "    predictions = model.predict(test_scaled)\n",
    "    prediction_unscaled = scaler.inverse_transform(predictions) #unscaling the values\n",
    "    \n",
    "    y_test_unscaled = scaler.inverse_transform(testY.reshape(-1,1)) #unscaling the values\n",
    "    \n",
    "    #this is in dollars\n",
    "    rmse_predictions = np.sqrt(np.mean(prediction_unscaled -y_test_unscaled)**2)\n",
    "    rmse_predictions\n",
    "    \n",
    "    predictions = pd.DataFrame(prediction_unscaled, columns=['Predictions'])\n",
    "    \n",
    "    train = dataset[:training_data_len]\n",
    "    valid = dataset[training_data_len:] #data from index training_data_len to \n",
    "    \n",
    "#     valid.reset_index(inplace=True)\n",
    "#     valid['Prediction'] = predictions['Predictions']\n",
    "#     valid1 = valid.set_index('Date')\n",
    "    \n",
    "#     plt.figure(figsize=(12,8))\n",
    "#     plt.title('Model')\n",
    "#     plt.xlabel('Label')\n",
    "#     plt.ylabel('Close Price USD ($)')\n",
    "#     plt.plot(train['Adj Close'])\n",
    "#     #plt.plot(valid[['Close','Predictions']])\n",
    "#     plt.plot(valid1['Adj Close'])\n",
    "#     plt.plot(valid1['Prediction'])\n",
    "#     # #valid[['Close','Predictions']].plot()\n",
    "#     plt.legend(['Train','Valid','Predictions'],loc='lower right')\n",
    "    return rmse_predictions, valid\n",
    "    "
   ]
  },
  {
   "cell_type": "code",
   "execution_count": 109,
   "metadata": {},
   "outputs": [
    {
     "ename": "ValueError",
     "evalue": "Error when checking input: expected lstm_1_input to have 3 dimensions, but got array with shape (71, 7)",
     "output_type": "error",
     "traceback": [
      "\u001b[0;31m---------------------------------------------------------------------------\u001b[0m",
      "\u001b[0;31mValueError\u001b[0m                                Traceback (most recent call last)",
      "\u001b[0;32m<ipython-input-109-8952be7c3a88>\u001b[0m in \u001b[0;36m<module>\u001b[0;34m\u001b[0m\n\u001b[0;32m----> 1\u001b[0;31m \u001b[0mmake_prediction\u001b[0m\u001b[0;34m(\u001b[0m\u001b[0mmodel\u001b[0m\u001b[0;34m,\u001b[0m\u001b[0mtest_scaled\u001b[0m \u001b[0;34m,\u001b[0m\u001b[0mtestY\u001b[0m\u001b[0;34m,\u001b[0m \u001b[0mtraining_data_len\u001b[0m \u001b[0;34m)\u001b[0m\u001b[0;34m\u001b[0m\u001b[0;34m\u001b[0m\u001b[0m\n\u001b[0m",
      "\u001b[0;32m<ipython-input-108-bb3e426cb815>\u001b[0m in \u001b[0;36mmake_prediction\u001b[0;34m(model, test_scaled, testY, training_data_len)\u001b[0m\n\u001b[1;32m      1\u001b[0m \u001b[0;32mdef\u001b[0m \u001b[0mmake_prediction\u001b[0m\u001b[0;34m(\u001b[0m\u001b[0mmodel\u001b[0m\u001b[0;34m,\u001b[0m \u001b[0mtest_scaled\u001b[0m\u001b[0;34m,\u001b[0m \u001b[0mtestY\u001b[0m\u001b[0;34m,\u001b[0m\u001b[0mtraining_data_len\u001b[0m\u001b[0;34m)\u001b[0m\u001b[0;34m:\u001b[0m\u001b[0;34m\u001b[0m\u001b[0;34m\u001b[0m\u001b[0m\n\u001b[0;32m----> 2\u001b[0;31m     \u001b[0mpredictions\u001b[0m \u001b[0;34m=\u001b[0m \u001b[0mmodel\u001b[0m\u001b[0;34m.\u001b[0m\u001b[0mpredict\u001b[0m\u001b[0;34m(\u001b[0m\u001b[0mtest_scaled\u001b[0m\u001b[0;34m)\u001b[0m\u001b[0;34m\u001b[0m\u001b[0;34m\u001b[0m\u001b[0m\n\u001b[0m\u001b[1;32m      3\u001b[0m     \u001b[0mprediction_unscaled\u001b[0m \u001b[0;34m=\u001b[0m \u001b[0mscaler\u001b[0m\u001b[0;34m.\u001b[0m\u001b[0minverse_transform\u001b[0m\u001b[0;34m(\u001b[0m\u001b[0mpredictions\u001b[0m\u001b[0;34m)\u001b[0m \u001b[0;31m#unscaling the values\u001b[0m\u001b[0;34m\u001b[0m\u001b[0;34m\u001b[0m\u001b[0m\n\u001b[1;32m      4\u001b[0m \u001b[0;34m\u001b[0m\u001b[0m\n\u001b[1;32m      5\u001b[0m     \u001b[0my_test_unscaled\u001b[0m \u001b[0;34m=\u001b[0m \u001b[0mscaler\u001b[0m\u001b[0;34m.\u001b[0m\u001b[0minverse_transform\u001b[0m\u001b[0;34m(\u001b[0m\u001b[0mtestY\u001b[0m\u001b[0;34m.\u001b[0m\u001b[0mreshape\u001b[0m\u001b[0;34m(\u001b[0m\u001b[0;34m-\u001b[0m\u001b[0;36m1\u001b[0m\u001b[0;34m,\u001b[0m\u001b[0;36m1\u001b[0m\u001b[0;34m)\u001b[0m\u001b[0;34m)\u001b[0m \u001b[0;31m#unscaling the values\u001b[0m\u001b[0;34m\u001b[0m\u001b[0;34m\u001b[0m\u001b[0m\n",
      "\u001b[0;32m~/opt/anaconda3/envs/learn-env/lib/python3.6/site-packages/keras/engine/training.py\u001b[0m in \u001b[0;36mpredict\u001b[0;34m(self, x, batch_size, verbose, steps, callbacks, max_queue_size, workers, use_multiprocessing)\u001b[0m\n\u001b[1;32m   1439\u001b[0m \u001b[0;34m\u001b[0m\u001b[0m\n\u001b[1;32m   1440\u001b[0m         \u001b[0;31m# Case 2: Symbolic tensors or Numpy array-like.\u001b[0m\u001b[0;34m\u001b[0m\u001b[0;34m\u001b[0m\u001b[0;34m\u001b[0m\u001b[0m\n\u001b[0;32m-> 1441\u001b[0;31m         \u001b[0mx\u001b[0m\u001b[0;34m,\u001b[0m \u001b[0m_\u001b[0m\u001b[0;34m,\u001b[0m \u001b[0m_\u001b[0m \u001b[0;34m=\u001b[0m \u001b[0mself\u001b[0m\u001b[0;34m.\u001b[0m\u001b[0m_standardize_user_data\u001b[0m\u001b[0;34m(\u001b[0m\u001b[0mx\u001b[0m\u001b[0;34m)\u001b[0m\u001b[0;34m\u001b[0m\u001b[0;34m\u001b[0m\u001b[0m\n\u001b[0m\u001b[1;32m   1442\u001b[0m         \u001b[0;32mif\u001b[0m \u001b[0mself\u001b[0m\u001b[0;34m.\u001b[0m\u001b[0mstateful\u001b[0m\u001b[0;34m:\u001b[0m\u001b[0;34m\u001b[0m\u001b[0;34m\u001b[0m\u001b[0m\n\u001b[1;32m   1443\u001b[0m             \u001b[0;32mif\u001b[0m \u001b[0mx\u001b[0m\u001b[0;34m[\u001b[0m\u001b[0;36m0\u001b[0m\u001b[0;34m]\u001b[0m\u001b[0;34m.\u001b[0m\u001b[0mshape\u001b[0m\u001b[0;34m[\u001b[0m\u001b[0;36m0\u001b[0m\u001b[0;34m]\u001b[0m \u001b[0;34m>\u001b[0m \u001b[0mbatch_size\u001b[0m \u001b[0;32mand\u001b[0m \u001b[0mx\u001b[0m\u001b[0;34m[\u001b[0m\u001b[0;36m0\u001b[0m\u001b[0;34m]\u001b[0m\u001b[0;34m.\u001b[0m\u001b[0mshape\u001b[0m\u001b[0;34m[\u001b[0m\u001b[0;36m0\u001b[0m\u001b[0;34m]\u001b[0m \u001b[0;34m%\u001b[0m \u001b[0mbatch_size\u001b[0m \u001b[0;34m!=\u001b[0m \u001b[0;36m0\u001b[0m\u001b[0;34m:\u001b[0m\u001b[0;34m\u001b[0m\u001b[0;34m\u001b[0m\u001b[0m\n",
      "\u001b[0;32m~/opt/anaconda3/envs/learn-env/lib/python3.6/site-packages/keras/engine/training.py\u001b[0m in \u001b[0;36m_standardize_user_data\u001b[0;34m(self, x, y, sample_weight, class_weight, check_array_lengths, batch_size)\u001b[0m\n\u001b[1;32m    577\u001b[0m             \u001b[0mfeed_input_shapes\u001b[0m\u001b[0;34m,\u001b[0m\u001b[0;34m\u001b[0m\u001b[0;34m\u001b[0m\u001b[0m\n\u001b[1;32m    578\u001b[0m             \u001b[0mcheck_batch_axis\u001b[0m\u001b[0;34m=\u001b[0m\u001b[0;32mFalse\u001b[0m\u001b[0;34m,\u001b[0m  \u001b[0;31m# Don't enforce the batch size.\u001b[0m\u001b[0;34m\u001b[0m\u001b[0;34m\u001b[0m\u001b[0m\n\u001b[0;32m--> 579\u001b[0;31m             exception_prefix='input')\n\u001b[0m\u001b[1;32m    580\u001b[0m \u001b[0;34m\u001b[0m\u001b[0m\n\u001b[1;32m    581\u001b[0m         \u001b[0;32mif\u001b[0m \u001b[0my\u001b[0m \u001b[0;32mis\u001b[0m \u001b[0;32mnot\u001b[0m \u001b[0;32mNone\u001b[0m\u001b[0;34m:\u001b[0m\u001b[0;34m\u001b[0m\u001b[0;34m\u001b[0m\u001b[0m\n",
      "\u001b[0;32m~/opt/anaconda3/envs/learn-env/lib/python3.6/site-packages/keras/engine/training_utils.py\u001b[0m in \u001b[0;36mstandardize_input_data\u001b[0;34m(data, names, shapes, check_batch_axis, exception_prefix)\u001b[0m\n\u001b[1;32m    133\u001b[0m                         \u001b[0;34m': expected '\u001b[0m \u001b[0;34m+\u001b[0m \u001b[0mnames\u001b[0m\u001b[0;34m[\u001b[0m\u001b[0mi\u001b[0m\u001b[0;34m]\u001b[0m \u001b[0;34m+\u001b[0m \u001b[0;34m' to have '\u001b[0m \u001b[0;34m+\u001b[0m\u001b[0;34m\u001b[0m\u001b[0;34m\u001b[0m\u001b[0m\n\u001b[1;32m    134\u001b[0m                         \u001b[0mstr\u001b[0m\u001b[0;34m(\u001b[0m\u001b[0mlen\u001b[0m\u001b[0;34m(\u001b[0m\u001b[0mshape\u001b[0m\u001b[0;34m)\u001b[0m\u001b[0;34m)\u001b[0m \u001b[0;34m+\u001b[0m \u001b[0;34m' dimensions, but got array '\u001b[0m\u001b[0;34m\u001b[0m\u001b[0;34m\u001b[0m\u001b[0m\n\u001b[0;32m--> 135\u001b[0;31m                         'with shape ' + str(data_shape))\n\u001b[0m\u001b[1;32m    136\u001b[0m                 \u001b[0;32mif\u001b[0m \u001b[0;32mnot\u001b[0m \u001b[0mcheck_batch_axis\u001b[0m\u001b[0;34m:\u001b[0m\u001b[0;34m\u001b[0m\u001b[0;34m\u001b[0m\u001b[0m\n\u001b[1;32m    137\u001b[0m                     \u001b[0mdata_shape\u001b[0m \u001b[0;34m=\u001b[0m \u001b[0mdata_shape\u001b[0m\u001b[0;34m[\u001b[0m\u001b[0;36m1\u001b[0m\u001b[0;34m:\u001b[0m\u001b[0;34m]\u001b[0m\u001b[0;34m\u001b[0m\u001b[0;34m\u001b[0m\u001b[0m\n",
      "\u001b[0;31mValueError\u001b[0m: Error when checking input: expected lstm_1_input to have 3 dimensions, but got array with shape (71, 7)"
     ]
    }
   ],
   "source": [
    "make_prediction(model,test_scaled ,testY, training_data_len )"
   ]
  },
  {
   "cell_type": "code",
   "execution_count": null,
   "metadata": {},
   "outputs": [],
   "source": [
    "# dataset = scaler.inverse_transform(df) #dataset\n",
    "# dataset.shape"
   ]
  },
  {
   "cell_type": "code",
   "execution_count": null,
   "metadata": {},
   "outputs": [],
   "source": [
    "# # shift train predictions for plotting\n",
    "# trainPredictPlot = np.empty_like(dataset)\n",
    "# trainPredictPlot[:, :] = np.nan\n",
    "# trainPredictPlot[look_back:len(trainPredict)+look_back, :] = trainPredict\n",
    "# # Delta + previous close\n",
    "# trainPredictPlot = trainPredictPlot + df_data[1:]\n",
    "# set empty values\n",
    "# trainPredictPlot[0:look_back, :] = np.nan\n",
    "# trainPredictPlot[len(trainPredict)+look_back:, :] = np.nan\n",
    "\n",
    "# shift train predictions for plotting\n",
    "trainPredictPlot = np.empty_like(single_stock) #df\n",
    "trainPredictPlot[:, :] = np.nan\n",
    "trainPredictPlot[look_back:len(trainPredict)+look_back, :] = trainPredict\n",
    "# Delta + previous close\n",
    "trainPredictPlot = trainPredictPlot + single_stock #[1:] #df"
   ]
  },
  {
   "cell_type": "code",
   "execution_count": null,
   "metadata": {},
   "outputs": [],
   "source": [
    "testPredictPlot = np.empty_like(single_stock)\n",
    "testPredictPlot[:, :] = np.nan\n",
    "testPredictPlot[len(trainPredict)+(look_back*2):len(single_stock), :] = testPredict\n",
    "\n",
    "# Delta + previous close\n",
    "testPredictPlot = testPredictPlot + single_stock[1:]\n",
    "# set empty values\n",
    "# testPredictPlot[0:len(trainPredict)+(look_back*2), :] = np.nan\n",
    "# testPredictPlot[len(dataset):, :] = np.nan"
   ]
  },
  {
   "cell_type": "code",
   "execution_count": null,
   "metadata": {},
   "outputs": [],
   "source": [
    "# plot baseline and predictions\n",
    "plt.figure(figsize=(12,6))\n",
    "plt.plot(dataset + df_data[1:])\n",
    "plt.plot(trainPredictPlot)\n",
    "plt.plot(testPredictPlot)\n",
    "plt.legend(['Valid','Train','Predictions'],loc='upper left')\n",
    "#plt.show()\n"
   ]
  },
  {
   "cell_type": "code",
   "execution_count": null,
   "metadata": {},
   "outputs": [],
   "source": [
    "# plot baseline and predictions\n",
    "plt.plot(dataset + df_data[:-1])\n",
    "plt.plot(trainPredictPlot)\n",
    "plt.plot(testPredictPlot)\n",
    "plt.show()"
   ]
  },
  {
   "cell_type": "code",
   "execution_count": null,
   "metadata": {},
   "outputs": [],
   "source": [
    "def get_quote(new_df):\n",
    "    #get last 60days closing values and convert datframe to an array\n",
    "    last_60_days = new_df[-60:].values #converts to array\n",
    "    #scale data\n",
    "    last_60_days_scaled = scaler.transform(last_60_days)\n",
    "    #create empty list\n",
    "    x_test = []\n",
    "    #append last 60 days to x_test\n",
    "    x_test.append(last_60_days_scaled)\n",
    "    #conert x_test to a numpy array\n",
    "    x_test = np.array(x_test)\n",
    "    # #reshape the data\n",
    "    x_test = np.reshape(x_test, (x_test.shape[0],x_test.shape[1],1))\n",
    "    #get the predicted scaled price\n",
    "    pred_price = model.predict(x_test)\n",
    "    #undo the scaling \n",
    "    pred_price = scaler.inverse_transform(pred_price) \n",
    "    #what model thinks predicted price will be for 12/18/2019\n",
    "    #the actual prcie was $69.94\n",
    "    #DAL: 58.58, 2021-1-11 40.19\n",
    "    return pred_price    "
   ]
  },
  {
   "cell_type": "code",
   "execution_count": null,
   "metadata": {},
   "outputs": [],
   "source": [
    "#get_quote(single_stock[['Adj Close']])"
   ]
  },
  {
   "cell_type": "markdown",
   "metadata": {},
   "source": [
    "### Multi-Series Forecasting"
   ]
  },
  {
   "cell_type": "code",
   "execution_count": null,
   "metadata": {},
   "outputs": [],
   "source": [
    "df_multi = multiple_stock_data(ticker=[['PFE','JNJ','NVAX','MRNA','AZN']], start='12-31-2018',end='today',plot=True, stock_value='Adj Close');\n",
    "df_multi #;"
   ]
  },
  {
   "cell_type": "code",
   "execution_count": null,
   "metadata": {},
   "outputs": [],
   "source": [
    "len(df_multi), len(dataset_delta_AMAZN)"
   ]
  },
  {
   "cell_type": "code",
   "execution_count": null,
   "metadata": {},
   "outputs": [],
   "source": [
    "dataset_x = delta_time_series(df_multi)\n",
    "dataset_x "
   ]
  },
  {
   "cell_type": "code",
   "execution_count": null,
   "metadata": {},
   "outputs": [],
   "source": [
    "dataset_y= delta_time_series(dataset_delta_AMAZN)\n",
    "dataset_y "
   ]
  },
  {
   "cell_type": "code",
   "execution_count": null,
   "metadata": {},
   "outputs": [],
   "source": [
    "# normalize the dataset\n",
    "scaler_multi = MinMaxScaler(feature_range=(0, 1))\n",
    "scaler_multi.fit_transform(dataset_x.reshape(-1, 1))\n",
    "dataset_x = scaler_multi.transform(dataset_x)\n",
    "dataset_y = scaler_multi.transform(dataset_y)\n",
    "# split into train and test sets\n",
    "train_size = int(len(dataset_x) * 0.67)\n",
    "test_size = len(dataset_x) - train_size\n",
    "train_x, test_x = dataset_x[0:train_size,:], dataset_x[train_size:len(dataset_x),:]\n",
    "train_y, test_y = dataset_y[0:train_size,:], dataset_y[train_size:len(dataset_y),:]"
   ]
  },
  {
   "cell_type": "code",
   "execution_count": null,
   "metadata": {},
   "outputs": [],
   "source": [
    "train_x.shape,train_y.shape, test_x.shape, test_y.shape"
   ]
  },
  {
   "cell_type": "code",
   "execution_count": null,
   "metadata": {},
   "outputs": [],
   "source": [
    "train_data_gen = TimeseriesGenerator(train_x, train_y,\n",
    "                               length=look_back, sampling_rate=1,stride=1,\n",
    "                               batch_size=3)"
   ]
  },
  {
   "cell_type": "code",
   "execution_count": null,
   "metadata": {},
   "outputs": [],
   "source": [
    "test_data_gen = TimeseriesGenerator(test_x, test_y,\n",
    "                               length=look_back, sampling_rate=1,stride=1,\n",
    "                               batch_size=1)"
   ]
  },
  {
   "cell_type": "code",
   "execution_count": null,
   "metadata": {},
   "outputs": [],
   "source": []
  }
 ],
 "metadata": {
  "kernelspec": {
   "display_name": "Python 3",
   "language": "python",
   "name": "python3"
  },
  "language_info": {
   "codemirror_mode": {
    "name": "ipython",
    "version": 3
   },
   "file_extension": ".py",
   "mimetype": "text/x-python",
   "name": "python",
   "nbconvert_exporter": "python",
   "pygments_lexer": "ipython3",
   "version": "3.6.9"
  },
  "toc": {
   "base_numbering": 1,
   "nav_menu": {},
   "number_sections": true,
   "sideBar": true,
   "skip_h1_title": false,
   "title_cell": "Table of Contents",
   "title_sidebar": "Contents",
   "toc_cell": false,
   "toc_position": {},
   "toc_section_display": true,
   "toc_window_display": false
  }
 },
 "nbformat": 4,
 "nbformat_minor": 4
}
