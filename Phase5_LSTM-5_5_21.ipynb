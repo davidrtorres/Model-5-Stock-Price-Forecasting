{
 "cells": [
  {
   "cell_type": "code",
   "execution_count": 1,
   "metadata": {},
   "outputs": [],
   "source": [
    "import pandas as pd\n",
    "import numpy as np\n",
    "import matplotlib.pyplot as plt\n",
    "%matplotlib inline\n",
    "\n",
    "from sklearn.preprocessing import MinMaxScaler\n",
    "\n",
    "import pandas_datareader.data as web\n",
    "\n",
    "from tensorflow.keras.callbacks import EarlyStopping\n",
    "from tensorflow.keras.preprocessing.sequence import TimeseriesGenerator\n",
    "\n",
    "from tensorflow.keras import Sequential\n",
    "from tensorflow.keras.layers import Input, LSTM, Dense, Dropout, Activation, Flatten\n",
    "from tensorflow.keras.optimizers import Adam\n",
    "\n",
    "from sklearn.metrics import mean_squared_error\n",
    "\n",
    "import warnings\n",
    "warnings.simplefilter(action='ignore', category=FutureWarning)"
   ]
  },
  {
   "cell_type": "markdown",
   "metadata": {},
   "source": [
    "## Introduction\n",
    "Technical analysis is a trading discipline used to evaluate investments and identify trading opportunities in price trends and patterns from graphs.  Technical analysts believe past trading activity and price changes of a stock can be indicators of the security's future price movements.  The difference between \n",
    "technical analysis and fundamental analysis is that fundamental analysts focuses on a company's financials rather than historical price patterns or stock trends.  https://www.investopedia.com/terms/t/technicalanalysis.asp<br>\n",
    "This notebook will demonstrate how to perform a basic technical analysis of stock prices using Python code.  I will provide analysis and insights of stock prices that can be obtained from historical stock price data and corresponding graphs.  In addition, this notebook will demonstrate how algorithmic trading can be used to predict stock prices and how technical indicators can used with LTSM models.<br>\n",
    "I used the Pandas library DataReader to get the historical price stock data from Yahoo Finance API.  The library provides price and volume information regarding stocks. I will use mainly the Adjusted Closing Price ('Adj Close') from the datasets.<br>\n",
    "In addition, I will use the Long Short Term Memory (LSTM ) and SARIMA models to forecast the next day stock price.  I will use the calculations from the technical indicators for forecasting.  In addition, I will use  metrics to measure the performance of the models at predicting stock prices.  \n",
    "The data will consist of the following pharmaceutical companies that are developing  COVID-19 vaccines: \n",
    "* Pfizer (PFE),\n",
    "* Johnson & Johnson (JNJ)\n",
    "* Moderna (MRNA)\n",
    "* Novavax (NVAX) \n",
    "* BioNTech SE (BNTX)\n",
    "* MERCK & Co. (MRK)"
   ]
  },
  {
   "cell_type": "markdown",
   "metadata": {},
   "source": [
    "What are technical Indicators?  Technical indicators are quick methods or mathematical calculations based on the price, volume, or open interest of a security or contract used by traders who follow technical analysis. https://www.investopedia.com/terms/t/technicalindicator.asp Technical indicators are signals produced from the patterns observed in the movements of stock prices (high, low, open, close) and volumes.  These signals are in turn used to predict the future price movements. Techincal Indicators as used in this notebook will provide a historical price analysis  regarding volatility and trends of the stock.  Technical indicators are a fundamental part of technical analysis and are typically plotted as a chart pattern to try to predict the market trend.<br>\n",
    "Some basic examples of technical indicators which I will cover are:\n",
    "1. Simple Moving Averages (SMA)\n",
    "2. Exponential Moving Averages (EMA)\n",
    "3. Moving Average Convergence Divergence (MACD) Crossover Strategy\n",
    "4. Relative Strength Index (RSI)\n",
    "\n",
    "My technical analysis of the stock prices will focus on answering the following questions  which concern price trends, volatility and forecasting:\n",
    "\n",
    "### Question 1: Can technical indicators provide an investor or trader with information to make a decision of whether to buy and sell stocks?<br>\n",
    "**Answer**: Yes. \n",
    "Investment decisions are very complicted and require knowledge and consideration of many variables which are beyond the scope of this notebook.  Technical indicators are tools used by investors and traders to gain insights regarding the stock's history, volatility, trends and the direction the price may be headed.    I will use Moving Averages, price volatility, RSI and MACD crossover strategies to answer this question.  A question to always consider is what type of investment is being sought?  Are you looking for short investments with high returns or long term investment with consistent returns?<br>\n",
    "<br>\n",
    "**Model 1** A Simple Moving Average Plot with a rolling average of 10 and 50 days.<br> \n",
    "**Model 2**  An Exponential Moving Average Plot.<br>\n",
    "**Model 3**  Exponential Moving Average Crossover Stratergy<br>\n",
    "**Model 4**  Relative Strength Index Plot\n",
    "\n",
    "### Question 2: How well does the LSTM model perform in forecasting stock prices with 'Adj Close' column and only basic model parameters. \n",
    "**Answer:**  The model performed pretty well.  Regarding NVAX, the RMSE on test set is 0.13.  The model was off by \\\\$28.34 when making the predictions.  This may sound like a lot but the stock is highly volatile.  The average price of stock was \\\\$47.376.  At the high end the stock prie was \\\\$319.93 and at the low end it was \\\\$3.690.  Quite a range in price.<br>\n",
    "Regarding PFE, the RMSE on test set was \\\\$0.06.  The model was off by \\\\$0.91 when making predictions which is pretty good. The average price of the stock was \\\\$32.994.  At the low end it was \\\\$25.159 and at the high end it was \\\\$42.1019.<br>\n",
    "\n",
    "**Model 1** The loss plot of PFE stock with  technical indicator 'MA_50' values<br> \n",
    "**Model 2**  The plot of LSTM forecast predictions of PFE stock with technical indicator 'MA_50' values.<br>\n",
    "**Model 3** The loss plot of PFE stock with  technical indicator column 'Actual_Changes'.<br> \n",
    "**Model 4**  The plot of LSTM forecast predictions of PFE stock with technical indicator column 'Actual_Changes'.<br>\n",
    "### Question 3:\n",
    "How well do SARIMA algorithms perform when used to forecast future stocks prices?  I will contrast the performance of SARIMA models with data from 'Adj Close' column and data from the above technical indicators.  I will use the RMSE metric to compare the models' performances?<br>\n",
    "**Model 1** Graph of historical prices for Pfizer stock.<br>\n",
    "**Model 2** LSTM model with technical indicators to predict and graph future stock prices.<br>\n",
    "### Question 4:\n",
    "Which trading algorithms perform better at predicting stocks prices, LTSM or ARIMA?  I will compare results of both algorithms.<br> \n",
    "**Answer:** Both models performed fairly well.  What needs to be considered is the price volatility of the stock.<br>\n",
    "\n"
   ]
  },
  {
   "cell_type": "markdown",
   "metadata": {},
   "source": [
    "## Historical Stock Data"
   ]
  },
  {
   "cell_type": "markdown",
   "metadata": {},
   "source": [
    "### Multiple Stocks Data (multi_stocks)"
   ]
  },
  {
   "cell_type": "code",
   "execution_count": 2,
   "metadata": {},
   "outputs": [],
   "source": [
    "from datetime import date\n",
    "#today = date.today()\n",
    "today = '04-30-2021'\n",
    "def multiple_stock_data(ticker=None, start=None, end=None, plot=True, stock_value=None):\n",
    "    \n",
    "    try:\n",
    "        #stock = pdr.get_data_yahoo(ticker,start,end)\n",
    "        data = {}\n",
    "        for stock in ticker:\n",
    "            data = web.DataReader(stock,'yahoo',start,end)[stock_value]\n",
    "        df_1 = pd.DataFrame(data)#.reset_index()\n",
    "        if plot==True:\n",
    "            df_1.plot(figsize=(12,8))\n",
    "            label_font = {'weight':'bold','size':18}\n",
    "            plt.title(\"Historical Adjusted Price Data\",fontdict=label_font)\n",
    "            plt.xlabel('Dates')\n",
    "            plt.ylabel('Stocks Prices')\n",
    "            plt.legend(bbox_to_anchor=(1.05,1),loc='upper left') \n",
    "        \n",
    "        return df_1\n",
    "     \n",
    "    except Exception as e:\n",
    "        print(\"Error occured:\", e)\n",
    "        #data = 'Incorrect Symbol'\n"
   ]
  },
  {
   "cell_type": "code",
   "execution_count": 3,
   "metadata": {},
   "outputs": [
    {
     "data": {
      "text/html": [
       "<div>\n",
       "<style scoped>\n",
       "    .dataframe tbody tr th:only-of-type {\n",
       "        vertical-align: middle;\n",
       "    }\n",
       "\n",
       "    .dataframe tbody tr th {\n",
       "        vertical-align: top;\n",
       "    }\n",
       "\n",
       "    .dataframe thead th {\n",
       "        text-align: right;\n",
       "    }\n",
       "</style>\n",
       "<table border=\"1\" class=\"dataframe\">\n",
       "  <thead>\n",
       "    <tr style=\"text-align: right;\">\n",
       "      <th>Symbols</th>\n",
       "      <th>PFE</th>\n",
       "      <th>JNJ</th>\n",
       "      <th>NVAX</th>\n",
       "      <th>MRNA</th>\n",
       "      <th>AZN</th>\n",
       "      <th>BNTX</th>\n",
       "    </tr>\n",
       "    <tr>\n",
       "      <th>Date</th>\n",
       "      <th></th>\n",
       "      <th></th>\n",
       "      <th></th>\n",
       "      <th></th>\n",
       "      <th></th>\n",
       "      <th></th>\n",
       "    </tr>\n",
       "  </thead>\n",
       "  <tbody>\n",
       "    <tr>\n",
       "      <th>2017-01-03</th>\n",
       "      <td>26.393257</td>\n",
       "      <td>103.436539</td>\n",
       "      <td>25.400000</td>\n",
       "      <td>NaN</td>\n",
       "      <td>23.433638</td>\n",
       "      <td>NaN</td>\n",
       "    </tr>\n",
       "    <tr>\n",
       "      <th>2017-01-04</th>\n",
       "      <td>26.625195</td>\n",
       "      <td>103.266876</td>\n",
       "      <td>26.200001</td>\n",
       "      <td>NaN</td>\n",
       "      <td>23.619688</td>\n",
       "      <td>NaN</td>\n",
       "    </tr>\n",
       "    <tr>\n",
       "      <th>2017-01-05</th>\n",
       "      <td>26.881132</td>\n",
       "      <td>104.347321</td>\n",
       "      <td>26.400000</td>\n",
       "      <td>NaN</td>\n",
       "      <td>24.262403</td>\n",
       "      <td>NaN</td>\n",
       "    </tr>\n",
       "    <tr>\n",
       "      <th>2017-01-06</th>\n",
       "      <td>26.777161</td>\n",
       "      <td>103.847282</td>\n",
       "      <td>27.400000</td>\n",
       "      <td>NaN</td>\n",
       "      <td>24.042524</td>\n",
       "      <td>NaN</td>\n",
       "    </tr>\n",
       "    <tr>\n",
       "      <th>2017-01-09</th>\n",
       "      <td>26.769159</td>\n",
       "      <td>103.829422</td>\n",
       "      <td>28.400000</td>\n",
       "      <td>NaN</td>\n",
       "      <td>24.127094</td>\n",
       "      <td>NaN</td>\n",
       "    </tr>\n",
       "    <tr>\n",
       "      <th>...</th>\n",
       "      <td>...</td>\n",
       "      <td>...</td>\n",
       "      <td>...</td>\n",
       "      <td>...</td>\n",
       "      <td>...</td>\n",
       "      <td>...</td>\n",
       "    </tr>\n",
       "    <tr>\n",
       "      <th>2021-05-17</th>\n",
       "      <td>40.110001</td>\n",
       "      <td>170.389999</td>\n",
       "      <td>140.160004</td>\n",
       "      <td>160.429993</td>\n",
       "      <td>55.880001</td>\n",
       "      <td>198.300003</td>\n",
       "    </tr>\n",
       "    <tr>\n",
       "      <th>2021-05-18</th>\n",
       "      <td>40.049999</td>\n",
       "      <td>170.449997</td>\n",
       "      <td>144.550003</td>\n",
       "      <td>159.529999</td>\n",
       "      <td>55.990002</td>\n",
       "      <td>194.500000</td>\n",
       "    </tr>\n",
       "    <tr>\n",
       "      <th>2021-05-19</th>\n",
       "      <td>39.830002</td>\n",
       "      <td>170.080002</td>\n",
       "      <td>142.139999</td>\n",
       "      <td>157.990005</td>\n",
       "      <td>56.340000</td>\n",
       "      <td>199.080002</td>\n",
       "    </tr>\n",
       "    <tr>\n",
       "      <th>2021-05-20</th>\n",
       "      <td>40.119999</td>\n",
       "      <td>171.070007</td>\n",
       "      <td>146.389999</td>\n",
       "      <td>165.970001</td>\n",
       "      <td>57.439999</td>\n",
       "      <td>203.710007</td>\n",
       "    </tr>\n",
       "    <tr>\n",
       "      <th>2021-05-21</th>\n",
       "      <td>40.010101</td>\n",
       "      <td>171.100006</td>\n",
       "      <td>144.895004</td>\n",
       "      <td>162.679993</td>\n",
       "      <td>57.485001</td>\n",
       "      <td>197.669998</td>\n",
       "    </tr>\n",
       "  </tbody>\n",
       "</table>\n",
       "<p>1104 rows × 6 columns</p>\n",
       "</div>"
      ],
      "text/plain": [
       "Symbols           PFE         JNJ        NVAX        MRNA        AZN  \\\n",
       "Date                                                                   \n",
       "2017-01-03  26.393257  103.436539   25.400000         NaN  23.433638   \n",
       "2017-01-04  26.625195  103.266876   26.200001         NaN  23.619688   \n",
       "2017-01-05  26.881132  104.347321   26.400000         NaN  24.262403   \n",
       "2017-01-06  26.777161  103.847282   27.400000         NaN  24.042524   \n",
       "2017-01-09  26.769159  103.829422   28.400000         NaN  24.127094   \n",
       "...               ...         ...         ...         ...        ...   \n",
       "2021-05-17  40.110001  170.389999  140.160004  160.429993  55.880001   \n",
       "2021-05-18  40.049999  170.449997  144.550003  159.529999  55.990002   \n",
       "2021-05-19  39.830002  170.080002  142.139999  157.990005  56.340000   \n",
       "2021-05-20  40.119999  171.070007  146.389999  165.970001  57.439999   \n",
       "2021-05-21  40.010101  171.100006  144.895004  162.679993  57.485001   \n",
       "\n",
       "Symbols           BNTX  \n",
       "Date                    \n",
       "2017-01-03         NaN  \n",
       "2017-01-04         NaN  \n",
       "2017-01-05         NaN  \n",
       "2017-01-06         NaN  \n",
       "2017-01-09         NaN  \n",
       "...                ...  \n",
       "2021-05-17  198.300003  \n",
       "2021-05-18  194.500000  \n",
       "2021-05-19  199.080002  \n",
       "2021-05-20  203.710007  \n",
       "2021-05-21  197.669998  \n",
       "\n",
       "[1104 rows x 6 columns]"
      ]
     },
     "execution_count": 3,
     "metadata": {},
     "output_type": "execute_result"
    },
    {
     "data": {
      "image/png": "[encoded data removed]",
      "text/plain": [
       "<Figure size 864x576 with 1 Axes>"
      ]
     },
     "metadata": {
      "needs_background": "light"
     },
     "output_type": "display_data"
    }
   ],
   "source": [
    "multi_stock_data = multiple_stock_data(ticker=[['PFE','JNJ','NVAX','MRNA','AZN','BNTX']], start='2017',end='today',plot=True, stock_value='Adj Close')\n",
    "multi_stock_data"
   ]
  },
  {
   "cell_type": "code",
   "execution_count": 4,
   "metadata": {},
   "outputs": [],
   "source": [
    "multi_stock_data.to_csv('multi_pharm_data')"
   ]
  },
  {
   "cell_type": "code",
   "execution_count": 5,
   "metadata": {},
   "outputs": [],
   "source": [
    "#start='2017',end='today'\n",
    "multi_stocks = pd.read_csv('multi_pharm_data', parse_dates=True, index_col='Date')"
   ]
  },
  {
   "cell_type": "markdown",
   "metadata": {},
   "source": [
    "#### Multiple Stock Plot"
   ]
  },
  {
   "cell_type": "code",
   "execution_count": 6,
   "metadata": {},
   "outputs": [],
   "source": [
    "def multi_plot(df, stock_value=None):\n",
    "    #plt.figure(figsize=(12,8))\n",
    "    df.plot(figsize=(12,8))\n",
    "    label_font = {'weight':'bold','size':18}\n",
    "    plt.xlabel('Date',fontdict=label_font)\n",
    "    plt.ylabel(f'{stock_value} Price USD ($)',fontdict=label_font)\n",
    "    plt.title(f'Historical {stock_value} Price',fontdict=label_font)            "
   ]
  },
  {
   "cell_type": "code",
   "execution_count": 7,
   "metadata": {},
   "outputs": [
    {
     "data": {
      "image/png": "[encoded data removed]",
      "text/plain": [
       "<Figure size 864x576 with 1 Axes>"
      ]
     },
     "metadata": {
      "needs_background": "light"
     },
     "output_type": "display_data"
    }
   ],
   "source": [
    "multi_plot(multi_stocks, stock_value='Adj Close')"
   ]
  },
  {
   "cell_type": "code",
   "execution_count": 8,
   "metadata": {},
   "outputs": [
    {
     "data": {
      "text/html": [
       "<div>\n",
       "<style scoped>\n",
       "    .dataframe tbody tr th:only-of-type {\n",
       "        vertical-align: middle;\n",
       "    }\n",
       "\n",
       "    .dataframe tbody tr th {\n",
       "        vertical-align: top;\n",
       "    }\n",
       "\n",
       "    .dataframe thead th {\n",
       "        text-align: right;\n",
       "    }\n",
       "</style>\n",
       "<table border=\"1\" class=\"dataframe\">\n",
       "  <thead>\n",
       "    <tr style=\"text-align: right;\">\n",
       "      <th></th>\n",
       "      <th>PFE</th>\n",
       "      <th>JNJ</th>\n",
       "      <th>NVAX</th>\n",
       "      <th>MRNA</th>\n",
       "      <th>AZN</th>\n",
       "      <th>BNTX</th>\n",
       "    </tr>\n",
       "  </thead>\n",
       "  <tbody>\n",
       "    <tr>\n",
       "      <th>count</th>\n",
       "      <td>1104.000000</td>\n",
       "      <td>1104.000000</td>\n",
       "      <td>1104.000000</td>\n",
       "      <td>618.000000</td>\n",
       "      <td>1104.000000</td>\n",
       "      <td>407.000000</td>\n",
       "    </tr>\n",
       "    <tr>\n",
       "      <th>mean</th>\n",
       "      <td>32.773755</td>\n",
       "      <td>131.182766</td>\n",
       "      <td>48.981499</td>\n",
       "      <td>56.994134</td>\n",
       "      <td>39.152957</td>\n",
       "      <td>74.013317</td>\n",
       "    </tr>\n",
       "    <tr>\n",
       "      <th>std</th>\n",
       "      <td>3.735680</td>\n",
       "      <td>14.966699</td>\n",
       "      <td>57.602532</td>\n",
       "      <td>50.686512</td>\n",
       "      <td>9.361803</td>\n",
       "      <td>42.436979</td>\n",
       "    </tr>\n",
       "    <tr>\n",
       "      <th>min</th>\n",
       "      <td>24.913631</td>\n",
       "      <td>99.793396</td>\n",
       "      <td>3.690000</td>\n",
       "      <td>12.260000</td>\n",
       "      <td>22.596422</td>\n",
       "      <td>12.750000</td>\n",
       "    </tr>\n",
       "    <tr>\n",
       "      <th>25%</th>\n",
       "      <td>29.923629</td>\n",
       "      <td>120.425957</td>\n",
       "      <td>14.525000</td>\n",
       "      <td>18.185000</td>\n",
       "      <td>31.009419</td>\n",
       "      <td>39.035000</td>\n",
       "    </tr>\n",
       "    <tr>\n",
       "      <th>50%</th>\n",
       "      <td>33.154816</td>\n",
       "      <td>128.770737</td>\n",
       "      <td>27.600000</td>\n",
       "      <td>26.684999</td>\n",
       "      <td>36.836758</td>\n",
       "      <td>66.739998</td>\n",
       "    </tr>\n",
       "    <tr>\n",
       "      <th>75%</th>\n",
       "      <td>35.946949</td>\n",
       "      <td>141.736618</td>\n",
       "      <td>44.692500</td>\n",
       "      <td>74.099998</td>\n",
       "      <td>48.095181</td>\n",
       "      <td>103.255001</td>\n",
       "    </tr>\n",
       "    <tr>\n",
       "      <th>max</th>\n",
       "      <td>41.691181</td>\n",
       "      <td>171.100006</td>\n",
       "      <td>319.929993</td>\n",
       "      <td>186.020004</td>\n",
       "      <td>59.466022</td>\n",
       "      <td>208.899994</td>\n",
       "    </tr>\n",
       "  </tbody>\n",
       "</table>\n",
       "</div>"
      ],
      "text/plain": [
       "               PFE          JNJ         NVAX        MRNA          AZN  \\\n",
       "count  1104.000000  1104.000000  1104.000000  618.000000  1104.000000   \n",
       "mean     32.773755   131.182766    48.981499   56.994134    39.152957   \n",
       "std       3.735680    14.966699    57.602532   50.686512     9.361803   \n",
       "min      24.913631    99.793396     3.690000   12.260000    22.596422   \n",
       "25%      29.923629   120.425957    14.525000   18.185000    31.009419   \n",
       "50%      33.154816   128.770737    27.600000   26.684999    36.836758   \n",
       "75%      35.946949   141.736618    44.692500   74.099998    48.095181   \n",
       "max      41.691181   171.100006   319.929993  186.020004    59.466022   \n",
       "\n",
       "             BNTX  \n",
       "count  407.000000  \n",
       "mean    74.013317  \n",
       "std     42.436979  \n",
       "min     12.750000  \n",
       "25%     39.035000  \n",
       "50%     66.739998  \n",
       "75%    103.255001  \n",
       "max    208.899994  "
      ]
     },
     "execution_count": 8,
     "metadata": {},
     "output_type": "execute_result"
    }
   ],
   "source": [
    "multi_stocks.describe()"
   ]
  },
  {
   "cell_type": "markdown",
   "metadata": {},
   "source": [
    "### Single Stock Data (pfe_stock_data)"
   ]
  },
  {
   "cell_type": "code",
   "execution_count": 9,
   "metadata": {},
   "outputs": [],
   "source": [
    "def single_stock_data(symbol, start,end=None,plot=True,stock_value='Adj Close'):\n",
    "    \n",
    "    try:\n",
    "        \n",
    "        df = web.DataReader(symbol,'yahoo', start, end)\n",
    "        df_single = pd.DataFrame(df)\n",
    "        print(\"Dataframe has {} rows and {} columns\".format(df_single.shape[0],df_single.shape[1]))\n",
    "        print()\n",
    "        if plot==True:\n",
    "            plt.figure(figsize=(12,8))\n",
    "            plt.plot(df_single[stock_value])\n",
    "            label_font = {'weight':'bold','size':18}\n",
    "            plt.xlabel('Date',fontdict=label_font)\n",
    "            plt.ylabel('Price USD ($)',fontdict=label_font)\n",
    "            plt.title(f'Historical {stock_value} Price for {symbol}',fontdict=label_font)\n",
    "            #plot = go.Scatter(x=df_single.index, y=df_single['Adj Close'])\n",
    "            \n",
    "        return df_single\n",
    "        \n",
    "    except Exception as e:\n",
    "        #if inccorect symbol is inputted, error message displayed\n",
    "        print(\"Error occured/Incorrect Symbol:\", e)\n",
    "        #data = 'Incorrect Symbol'\n"
   ]
  },
  {
   "cell_type": "markdown",
   "metadata": {},
   "source": [
    "This is data for Pfizer."
   ]
  },
  {
   "cell_type": "code",
   "execution_count": 10,
   "metadata": {},
   "outputs": [
    {
     "name": "stdout",
     "output_type": "stream",
     "text": [
      "Dataframe has 1104 rows and 6 columns\n",
      "\n"
     ]
    },
    {
     "data": {
      "text/html": [
       "<div>\n",
       "<style scoped>\n",
       "    .dataframe tbody tr th:only-of-type {\n",
       "        vertical-align: middle;\n",
       "    }\n",
       "\n",
       "    .dataframe tbody tr th {\n",
       "        vertical-align: top;\n",
       "    }\n",
       "\n",
       "    .dataframe thead th {\n",
       "        text-align: right;\n",
       "    }\n",
       "</style>\n",
       "<table border=\"1\" class=\"dataframe\">\n",
       "  <thead>\n",
       "    <tr style=\"text-align: right;\">\n",
       "      <th></th>\n",
       "      <th>High</th>\n",
       "      <th>Low</th>\n",
       "      <th>Open</th>\n",
       "      <th>Close</th>\n",
       "      <th>Volume</th>\n",
       "      <th>Adj Close</th>\n",
       "    </tr>\n",
       "    <tr>\n",
       "      <th>Date</th>\n",
       "      <th></th>\n",
       "      <th></th>\n",
       "      <th></th>\n",
       "      <th></th>\n",
       "      <th></th>\n",
       "      <th></th>\n",
       "    </tr>\n",
       "  </thead>\n",
       "  <tbody>\n",
       "    <tr>\n",
       "      <th>2017-01-03</th>\n",
       "      <td>31.309298</td>\n",
       "      <td>30.920303</td>\n",
       "      <td>31.024668</td>\n",
       "      <td>31.309298</td>\n",
       "      <td>23391844.0</td>\n",
       "      <td>26.393257</td>\n",
       "    </tr>\n",
       "    <tr>\n",
       "      <th>2017-01-04</th>\n",
       "      <td>31.641365</td>\n",
       "      <td>31.337761</td>\n",
       "      <td>31.432638</td>\n",
       "      <td>31.584440</td>\n",
       "      <td>22753963.0</td>\n",
       "      <td>26.625195</td>\n",
       "    </tr>\n",
       "    <tr>\n",
       "      <th>2017-01-05</th>\n",
       "      <td>31.963947</td>\n",
       "      <td>31.423149</td>\n",
       "      <td>31.660341</td>\n",
       "      <td>31.888046</td>\n",
       "      <td>21083584.0</td>\n",
       "      <td>26.881132</td>\n",
       "    </tr>\n",
       "    <tr>\n",
       "      <th>2017-01-06</th>\n",
       "      <td>31.973434</td>\n",
       "      <td>31.631880</td>\n",
       "      <td>31.935484</td>\n",
       "      <td>31.764706</td>\n",
       "      <td>18418228.0</td>\n",
       "      <td>26.777161</td>\n",
       "    </tr>\n",
       "    <tr>\n",
       "      <th>2017-01-09</th>\n",
       "      <td>31.944971</td>\n",
       "      <td>31.669828</td>\n",
       "      <td>31.717268</td>\n",
       "      <td>31.755219</td>\n",
       "      <td>21559886.0</td>\n",
       "      <td>26.769159</td>\n",
       "    </tr>\n",
       "    <tr>\n",
       "      <th>...</th>\n",
       "      <td>...</td>\n",
       "      <td>...</td>\n",
       "      <td>...</td>\n",
       "      <td>...</td>\n",
       "      <td>...</td>\n",
       "      <td>...</td>\n",
       "    </tr>\n",
       "    <tr>\n",
       "      <th>2021-05-17</th>\n",
       "      <td>40.400002</td>\n",
       "      <td>40.009998</td>\n",
       "      <td>40.070000</td>\n",
       "      <td>40.110001</td>\n",
       "      <td>18095000.0</td>\n",
       "      <td>40.110001</td>\n",
       "    </tr>\n",
       "    <tr>\n",
       "      <th>2021-05-18</th>\n",
       "      <td>40.349998</td>\n",
       "      <td>39.830002</td>\n",
       "      <td>40.180000</td>\n",
       "      <td>40.049999</td>\n",
       "      <td>15805500.0</td>\n",
       "      <td>40.049999</td>\n",
       "    </tr>\n",
       "    <tr>\n",
       "      <th>2021-05-19</th>\n",
       "      <td>39.900002</td>\n",
       "      <td>39.430000</td>\n",
       "      <td>39.900002</td>\n",
       "      <td>39.830002</td>\n",
       "      <td>20209500.0</td>\n",
       "      <td>39.830002</td>\n",
       "    </tr>\n",
       "    <tr>\n",
       "      <th>2021-05-20</th>\n",
       "      <td>40.250000</td>\n",
       "      <td>39.720001</td>\n",
       "      <td>39.730000</td>\n",
       "      <td>40.119999</td>\n",
       "      <td>18617400.0</td>\n",
       "      <td>40.119999</td>\n",
       "    </tr>\n",
       "    <tr>\n",
       "      <th>2021-05-21</th>\n",
       "      <td>40.599998</td>\n",
       "      <td>39.970001</td>\n",
       "      <td>40.209999</td>\n",
       "      <td>40.014999</td>\n",
       "      <td>12082652.0</td>\n",
       "      <td>40.014999</td>\n",
       "    </tr>\n",
       "  </tbody>\n",
       "</table>\n",
       "<p>1104 rows × 6 columns</p>\n",
       "</div>"
      ],
      "text/plain": [
       "                 High        Low       Open      Close      Volume  Adj Close\n",
       "Date                                                                         \n",
       "2017-01-03  31.309298  30.920303  31.024668  31.309298  23391844.0  26.393257\n",
       "2017-01-04  31.641365  31.337761  31.432638  31.584440  22753963.0  26.625195\n",
       "2017-01-05  31.963947  31.423149  31.660341  31.888046  21083584.0  26.881132\n",
       "2017-01-06  31.973434  31.631880  31.935484  31.764706  18418228.0  26.777161\n",
       "2017-01-09  31.944971  31.669828  31.717268  31.755219  21559886.0  26.769159\n",
       "...               ...        ...        ...        ...         ...        ...\n",
       "2021-05-17  40.400002  40.009998  40.070000  40.110001  18095000.0  40.110001\n",
       "2021-05-18  40.349998  39.830002  40.180000  40.049999  15805500.0  40.049999\n",
       "2021-05-19  39.900002  39.430000  39.900002  39.830002  20209500.0  39.830002\n",
       "2021-05-20  40.250000  39.720001  39.730000  40.119999  18617400.0  40.119999\n",
       "2021-05-21  40.599998  39.970001  40.209999  40.014999  12082652.0  40.014999\n",
       "\n",
       "[1104 rows x 6 columns]"
      ]
     },
     "execution_count": 10,
     "metadata": {},
     "output_type": "execute_result"
    },
    {
     "data": {
      "image/png": "[encoded data removed]",
      "text/plain": [
       "<Figure size 864x576 with 1 Axes>"
      ]
     },
     "metadata": {
      "needs_background": "light"
     },
     "output_type": "display_data"
    }
   ],
   "source": [
    "start='01-01-2017'\n",
    "end='today'\n",
    "pfe_stock = single_stock_data('PFE', start= start,end='today',plot=True,stock_value='Adj Close')\n",
    "pfe_stock"
   ]
  },
  {
   "cell_type": "code",
   "execution_count": 11,
   "metadata": {},
   "outputs": [
    {
     "name": "stdout",
     "output_type": "stream",
     "text": [
      "Dataframe has 1104 rows and 6 columns\n",
      "\n"
     ]
    },
    {
     "data": {
      "text/html": [
       "<div>\n",
       "<style scoped>\n",
       "    .dataframe tbody tr th:only-of-type {\n",
       "        vertical-align: middle;\n",
       "    }\n",
       "\n",
       "    .dataframe tbody tr th {\n",
       "        vertical-align: top;\n",
       "    }\n",
       "\n",
       "    .dataframe thead th {\n",
       "        text-align: right;\n",
       "    }\n",
       "</style>\n",
       "<table border=\"1\" class=\"dataframe\">\n",
       "  <thead>\n",
       "    <tr style=\"text-align: right;\">\n",
       "      <th></th>\n",
       "      <th>High</th>\n",
       "      <th>Low</th>\n",
       "      <th>Open</th>\n",
       "      <th>Close</th>\n",
       "      <th>Volume</th>\n",
       "      <th>Adj Close</th>\n",
       "    </tr>\n",
       "    <tr>\n",
       "      <th>Date</th>\n",
       "      <th></th>\n",
       "      <th></th>\n",
       "      <th></th>\n",
       "      <th></th>\n",
       "      <th></th>\n",
       "      <th></th>\n",
       "    </tr>\n",
       "  </thead>\n",
       "  <tbody>\n",
       "    <tr>\n",
       "      <th>2017-01-03</th>\n",
       "      <td>26.400000</td>\n",
       "      <td>24.000000</td>\n",
       "      <td>25.600000</td>\n",
       "      <td>25.400000</td>\n",
       "      <td>414510.0</td>\n",
       "      <td>25.400000</td>\n",
       "    </tr>\n",
       "    <tr>\n",
       "      <th>2017-01-04</th>\n",
       "      <td>26.400000</td>\n",
       "      <td>25.400000</td>\n",
       "      <td>25.600000</td>\n",
       "      <td>26.200001</td>\n",
       "      <td>323810.0</td>\n",
       "      <td>26.200001</td>\n",
       "    </tr>\n",
       "    <tr>\n",
       "      <th>2017-01-05</th>\n",
       "      <td>26.799999</td>\n",
       "      <td>26.000000</td>\n",
       "      <td>26.799999</td>\n",
       "      <td>26.400000</td>\n",
       "      <td>263595.0</td>\n",
       "      <td>26.400000</td>\n",
       "    </tr>\n",
       "    <tr>\n",
       "      <th>2017-01-06</th>\n",
       "      <td>27.799999</td>\n",
       "      <td>26.400000</td>\n",
       "      <td>26.400000</td>\n",
       "      <td>27.400000</td>\n",
       "      <td>309010.0</td>\n",
       "      <td>27.400000</td>\n",
       "    </tr>\n",
       "    <tr>\n",
       "      <th>2017-01-09</th>\n",
       "      <td>29.000000</td>\n",
       "      <td>27.200001</td>\n",
       "      <td>27.799999</td>\n",
       "      <td>28.400000</td>\n",
       "      <td>394160.0</td>\n",
       "      <td>28.400000</td>\n",
       "    </tr>\n",
       "    <tr>\n",
       "      <th>...</th>\n",
       "      <td>...</td>\n",
       "      <td>...</td>\n",
       "      <td>...</td>\n",
       "      <td>...</td>\n",
       "      <td>...</td>\n",
       "      <td>...</td>\n",
       "    </tr>\n",
       "    <tr>\n",
       "      <th>2021-05-17</th>\n",
       "      <td>140.669998</td>\n",
       "      <td>128.580002</td>\n",
       "      <td>133.009995</td>\n",
       "      <td>140.160004</td>\n",
       "      <td>2820800.0</td>\n",
       "      <td>140.160004</td>\n",
       "    </tr>\n",
       "    <tr>\n",
       "      <th>2021-05-18</th>\n",
       "      <td>151.570007</td>\n",
       "      <td>140.289993</td>\n",
       "      <td>140.289993</td>\n",
       "      <td>144.550003</td>\n",
       "      <td>2829700.0</td>\n",
       "      <td>144.550003</td>\n",
       "    </tr>\n",
       "    <tr>\n",
       "      <th>2021-05-19</th>\n",
       "      <td>146.440002</td>\n",
       "      <td>137.889999</td>\n",
       "      <td>139.639999</td>\n",
       "      <td>142.139999</td>\n",
       "      <td>1895000.0</td>\n",
       "      <td>142.139999</td>\n",
       "    </tr>\n",
       "    <tr>\n",
       "      <th>2021-05-20</th>\n",
       "      <td>147.949997</td>\n",
       "      <td>142.139999</td>\n",
       "      <td>144.110001</td>\n",
       "      <td>146.389999</td>\n",
       "      <td>2022100.0</td>\n",
       "      <td>146.389999</td>\n",
       "    </tr>\n",
       "    <tr>\n",
       "      <th>2021-05-21</th>\n",
       "      <td>149.699997</td>\n",
       "      <td>142.580002</td>\n",
       "      <td>149.210007</td>\n",
       "      <td>144.895004</td>\n",
       "      <td>1280122.0</td>\n",
       "      <td>144.895004</td>\n",
       "    </tr>\n",
       "  </tbody>\n",
       "</table>\n",
       "<p>1104 rows × 6 columns</p>\n",
       "</div>"
      ],
      "text/plain": [
       "                  High         Low        Open       Close     Volume  \\\n",
       "Date                                                                    \n",
       "2017-01-03   26.400000   24.000000   25.600000   25.400000   414510.0   \n",
       "2017-01-04   26.400000   25.400000   25.600000   26.200001   323810.0   \n",
       "2017-01-05   26.799999   26.000000   26.799999   26.400000   263595.0   \n",
       "2017-01-06   27.799999   26.400000   26.400000   27.400000   309010.0   \n",
       "2017-01-09   29.000000   27.200001   27.799999   28.400000   394160.0   \n",
       "...                ...         ...         ...         ...        ...   \n",
       "2021-05-17  140.669998  128.580002  133.009995  140.160004  2820800.0   \n",
       "2021-05-18  151.570007  140.289993  140.289993  144.550003  2829700.0   \n",
       "2021-05-19  146.440002  137.889999  139.639999  142.139999  1895000.0   \n",
       "2021-05-20  147.949997  142.139999  144.110001  146.389999  2022100.0   \n",
       "2021-05-21  149.699997  142.580002  149.210007  144.895004  1280122.0   \n",
       "\n",
       "             Adj Close  \n",
       "Date                    \n",
       "2017-01-03   25.400000  \n",
       "2017-01-04   26.200001  \n",
       "2017-01-05   26.400000  \n",
       "2017-01-06   27.400000  \n",
       "2017-01-09   28.400000  \n",
       "...                ...  \n",
       "2021-05-17  140.160004  \n",
       "2021-05-18  144.550003  \n",
       "2021-05-19  142.139999  \n",
       "2021-05-20  146.389999  \n",
       "2021-05-21  144.895004  \n",
       "\n",
       "[1104 rows x 6 columns]"
      ]
     },
     "execution_count": 11,
     "metadata": {},
     "output_type": "execute_result"
    },
    {
     "data": {
      "image/png": "[encoded data removed]",
      "text/plain": [
       "<Figure size 864x576 with 1 Axes>"
      ]
     },
     "metadata": {
      "needs_background": "light"
     },
     "output_type": "display_data"
    }
   ],
   "source": [
    "nvax_stock = single_stock_data('NVAX', start= start,end='today',plot=True,stock_value='Adj Close')\n",
    "nvax_stock"
   ]
  },
  {
   "cell_type": "code",
   "execution_count": 12,
   "metadata": {},
   "outputs": [
    {
     "data": {
      "text/plain": [
       "count    1104.000000\n",
       "mean       48.981499\n",
       "std        57.602532\n",
       "min         3.690000\n",
       "25%        14.525000\n",
       "50%        27.600000\n",
       "75%        44.692500\n",
       "max       319.929993\n",
       "Name: Adj Close, dtype: float64"
      ]
     },
     "execution_count": 12,
     "metadata": {},
     "output_type": "execute_result"
    }
   ],
   "source": [
    "nvax_stock['Adj Close'].describe()"
   ]
  },
  {
   "cell_type": "code",
   "execution_count": 13,
   "metadata": {},
   "outputs": [],
   "source": [
    "pfe_stock.to_csv('pfe_stock')\n",
    "pfe_stock_df = pd.read_csv('pfe_stock', parse_dates=True, index_col='Date')\n",
    "#single_stock['Close']['2015-04-01':'2015-12-01'].plot()\n",
    "pfe_stock_data = pfe_stock_df[['Close','Volume','Adj Close']]"
   ]
  },
  {
   "cell_type": "code",
   "execution_count": 14,
   "metadata": {},
   "outputs": [
    {
     "data": {
      "text/html": [
       "<div>\n",
       "<style scoped>\n",
       "    .dataframe tbody tr th:only-of-type {\n",
       "        vertical-align: middle;\n",
       "    }\n",
       "\n",
       "    .dataframe tbody tr th {\n",
       "        vertical-align: top;\n",
       "    }\n",
       "\n",
       "    .dataframe thead th {\n",
       "        text-align: right;\n",
       "    }\n",
       "</style>\n",
       "<table border=\"1\" class=\"dataframe\">\n",
       "  <thead>\n",
       "    <tr style=\"text-align: right;\">\n",
       "      <th></th>\n",
       "      <th>Close</th>\n",
       "      <th>Volume</th>\n",
       "      <th>Adj Close</th>\n",
       "    </tr>\n",
       "  </thead>\n",
       "  <tbody>\n",
       "    <tr>\n",
       "      <th>count</th>\n",
       "      <td>1104.000000</td>\n",
       "      <td>1.104000e+03</td>\n",
       "      <td>1104.000000</td>\n",
       "    </tr>\n",
       "    <tr>\n",
       "      <th>mean</th>\n",
       "      <td>35.680342</td>\n",
       "      <td>2.613937e+07</td>\n",
       "      <td>32.773760</td>\n",
       "    </tr>\n",
       "    <tr>\n",
       "      <th>std</th>\n",
       "      <td>3.282248</td>\n",
       "      <td>1.359335e+07</td>\n",
       "      <td>3.735689</td>\n",
       "    </tr>\n",
       "    <tr>\n",
       "      <th>min</th>\n",
       "      <td>27.030361</td>\n",
       "      <td>5.187683e+06</td>\n",
       "      <td>24.913631</td>\n",
       "    </tr>\n",
       "    <tr>\n",
       "      <th>25%</th>\n",
       "      <td>33.527040</td>\n",
       "      <td>1.825942e+07</td>\n",
       "      <td>29.923629</td>\n",
       "    </tr>\n",
       "    <tr>\n",
       "      <th>50%</th>\n",
       "      <td>34.941536</td>\n",
       "      <td>2.304112e+07</td>\n",
       "      <td>33.154816</td>\n",
       "    </tr>\n",
       "    <tr>\n",
       "      <th>75%</th>\n",
       "      <td>38.465369</td>\n",
       "      <td>2.959864e+07</td>\n",
       "      <td>35.946949</td>\n",
       "    </tr>\n",
       "    <tr>\n",
       "      <th>max</th>\n",
       "      <td>43.861481</td>\n",
       "      <td>2.301539e+08</td>\n",
       "      <td>41.691181</td>\n",
       "    </tr>\n",
       "  </tbody>\n",
       "</table>\n",
       "</div>"
      ],
      "text/plain": [
       "             Close        Volume    Adj Close\n",
       "count  1104.000000  1.104000e+03  1104.000000\n",
       "mean     35.680342  2.613937e+07    32.773760\n",
       "std       3.282248  1.359335e+07     3.735689\n",
       "min      27.030361  5.187683e+06    24.913631\n",
       "25%      33.527040  1.825942e+07    29.923629\n",
       "50%      34.941536  2.304112e+07    33.154816\n",
       "75%      38.465369  2.959864e+07    35.946949\n",
       "max      43.861481  2.301539e+08    41.691181"
      ]
     },
     "execution_count": 14,
     "metadata": {},
     "output_type": "execute_result"
    }
   ],
   "source": [
    "pfe_stock_data.describe()"
   ]
  },
  {
   "cell_type": "markdown",
   "metadata": {},
   "source": [
    "#### Single Stock Plot"
   ]
  },
  {
   "cell_type": "code",
   "execution_count": 15,
   "metadata": {},
   "outputs": [],
   "source": [
    "def single_plot(df,stock_value=None, stock_symbol=None):\n",
    "    df[stock_value].plot(figsize=(12,8))\n",
    "    label_font = {'weight':'bold','size':18}\n",
    "    plt.xlabel('Date',fontdict=label_font)\n",
    "    plt.ylabel(f'{stock_value} Price USD ($)',fontdict=label_font)\n",
    "    plt.title(f'{stock_symbol} {stock_value} History',fontdict=label_font)                "
   ]
  },
  {
   "cell_type": "code",
   "execution_count": 16,
   "metadata": {},
   "outputs": [
    {
     "data": {
      "image/png": "[encoded data removed]",
      "text/plain": [
       "<Figure size 864x576 with 1 Axes>"
      ]
     },
     "metadata": {
      "needs_background": "light"
     },
     "output_type": "display_data"
    }
   ],
   "source": [
    "single_plot(pfe_stock_data, stock_value='Close', stock_symbol='PFE')"
   ]
  },
  {
   "cell_type": "code",
   "execution_count": 17,
   "metadata": {},
   "outputs": [],
   "source": [
    "#single_plot(pfe_stock_data, stock_value='Adj Close', stock_symbol='NVAX')"
   ]
  },
  {
   "cell_type": "code",
   "execution_count": 18,
   "metadata": {},
   "outputs": [
    {
     "data": {
      "text/plain": [
       "count    1104.000000\n",
       "mean       32.773760\n",
       "std         3.735689\n",
       "min        24.913631\n",
       "25%        29.923629\n",
       "50%        33.154816\n",
       "75%        35.946949\n",
       "max        41.691181\n",
       "Name: Adj Close, dtype: float64"
      ]
     },
     "execution_count": 18,
     "metadata": {},
     "output_type": "execute_result"
    }
   ],
   "source": [
    "pfe_stock_data['Adj Close'].describe()"
   ]
  },
  {
   "cell_type": "markdown",
   "metadata": {},
   "source": [
    "## Technical Indicators\n",
    "The practice of analyzing and executing stock trades is becoming increasingly automated with algorithimic trading.  The usage of technnical indicators is part of algorithmic trading. What are technical indicators and how are they used by Technical Analyst in stock trading?  Technical indicators are methods or pattern-based signals produced by the price, volume, and/or open interest of a stock which are used by traders who follow technical analysis.  Technical analysts believe past trading activity and price changes of a security can be valuable indicators of the security's future price movements. https://www.investopedia.com/terms/t/technicalindicator.asp<br>Technical analysts look for indicators in the historical data and use them to predict future price movements.  The analysts also use them to look for entry and exit points in markets to conduct trades.  I will discuss the below popular technical indicators which are used in the markets to study price movements:\n",
    "\n",
    "1. Moving Averages (MA)\n",
    "    > Simple Moving Average<br>\n",
    "    > Exponential Moving Average<br>\n",
    "2. Rate of Change (ROC)\n",
    "3. Relative Strength Index (RSI)"
   ]
  },
  {
   "cell_type": "markdown",
   "metadata": {},
   "source": [
    "### Moving Averages\n",
    "The moving average is also known as the rolling mean or running average.  Moving averages smooth out the curve by filtering out the noise inorder to highlight components in the data such as trends and seasonality.  The moving average smooths out the variations in the dataset by calculating the moving average.  Two common types of moving averages are Simple Moving Average (SMA), and Exponential Moving Average (EMA). <br>\n",
    "\n",
    "#### Simple Moving Average\n",
    "The Simple Moving Average is the arithmetic mean of all the stock prices or the sum of all the stock prices divided by the number of periods.  We can use the Python rolling method to calculate moving averages.  SMA calculates the average of prices over a given interval of time and is used to determine the trend of the stock. Common time periods used for moving averages are 5, 10, 20, 50, 200 days.  A 10 time period SMA would mean 10 trading days.  In this case I am  considering the past 10 and 50 days and averaging each group, so there won't be any results for these begining entries.<br>  \n",
    "The below graph pertains to Pfizer stock and looks like the stock price is volatile with lots of fluctuations and noise.  The plot shows the Adj Close price and 10 and 50-day moving averages.  The 10-day follows the Close price pretty closely but smooths out the positve and negative spikes in prices.  The 50-day eliminates most of the volatility.  The SMA smooths out the noise and gives a more accurate picture of how stock performs during volatile periods.<br><br><br>\n",
    "I would like to highlight certain time periods that highllight how this stock has performed during volatile periods.  Aound 2/18, there was a spike in price from \\\\$35.00 to almost \\\\$37.50 and then dropped quickly to almost \\\\$32.00.  What is the SMA showing us?  SMA gives a more realistic picture of what happened with stock the price. The price increased and dropped precipitously.  We may not know what precipitated such activity, but what were the 10 and 50 day averages around this time period for a more accurate picture of what the stock price was for that period?  How does this compare to performance of the stock in general?  What's interesting is that if we do subsets of for time period of 2/18 to for 10 and 50 averages we can get closer look at what the averge price was.  The average price of the stock was \\\\$35.578751.  When applying 10 and 50-day the average price is still \\\\$35.  When I subset the data the average price was \\\\$34.015994.  When I applied the 10 and 50-day Moving Averages the average price is still a \\\\$34.052809 and \\\\$34.168457, respectively.  So is the stock price really that volatile? Not really. <br><br>\n",
    "Around 8/2019, the price was pretty volatile.  "
   ]
  },
  {
   "cell_type": "markdown",
   "metadata": {},
   "source": [
    "##### Moving Average Convergence/Divergence Cross Over Stategy\n",
    "The MACD can be used for for various MAs.  Stock market analysts and investors use the Exponential Moving Average Crossover strategy to analyze price trends and predict upcoming change in trends.  A crossover occurs when a faster moving average (i.e. a shorter period moving average) crosses a slower moving average (i.e. a longer period moving average). In stock trading, this meeting point can be used as a potential indicator to buy or sell an asset. When the short term moving average crosses above the long term moving average, this indicates a buy signal. However, when the short term moving average crosses below the long term moving average, it may be a good moment to sell.  The 50-day moving average is the one that takes longer to adjust to sudden price changes, while the 10-day one is much faster to account for sudden changes.  In the code below I am defining buying and selling signals for the crossover strategy.\n",
    "The logic of the strategy is as follows:\n",
    "when the fast MA crosses the slow one upwards, we buy the asset.  When the slow MA crosses the fast one upwards, we sell the asset.\n",
    "<br>\n",
    "<br>\n",
    "For example, around 5/18 there is a signal to puchase.  Around this time the stock was selling for around \\\\$34.00 per share.  If we had puchased it we could've sold shares around 10/8 for \\\\$42.00 per share and made a nice profit.  The MACD shows us where the previous trends were with price and potential for making and losing money.  The MACD shows that there is price volatility if looking for short-term investments.  Around 8/18 the price was around \\\\$41.00. The signal indicats to sell because there is an upcoming signicant drop in price around 9/18 to \\\\$32.50    "
   ]
  },
  {
   "cell_type": "code",
   "execution_count": 19,
   "metadata": {},
   "outputs": [],
   "source": [
    "sma_func_calc = pd.read_csv('pfe_stock', parse_dates=True, index_col='Date')"
   ]
  },
  {
   "cell_type": "code",
   "execution_count": 20,
   "metadata": {},
   "outputs": [],
   "source": [
    "def sma_function(data, col1=None, col2=None, col3=None, symbol=None):\n",
    "    data[col2] = data[col1].rolling(10).mean()\n",
    "    data[col3] = data[col1].rolling(50).mean()\n",
    "\n",
    "    data['Signal'] = 0.0\n",
    "    data['Signal'] = np.where(data[col2] > data[col3], 1.0, 0.0)\n",
    "    data['Position'] = data['Signal'].diff()\n",
    "\n",
    "    data = data.dropna()\n",
    "    \n",
    "    plt.figure(figsize = (10,8))\n",
    "    # plot close price, short-term and long-term moving averages \n",
    "    data[col1].plot(color = 'blue', label= 'Close Price',alpha=0.5) \n",
    "    data[col2].plot(color = 'red',label = '10-day SMA') \n",
    "    data[col3].plot(color = 'green', label = '50-day SMA')\n",
    "    label_font = {'weight':'bold','size':18}\n",
    "    plt.title(f'{symbol} Smooth Moving Average',fontdict=label_font)\n",
    "    plt.ylabel('Stock Price', fontsize = 15,fontdict=label_font)\n",
    "    plt.xlabel('Date',fontdict=label_font)\n",
    "    plt.legend(loc='best',fontsize=14)\n",
    "\n",
    "#     plt.figure(figsize = (20,10))\n",
    "#     # plot close price, short-term and long-term moving averages \n",
    "#     data[col1].plot(color = 'blue', label= 'Adj Close Price',alpha=0.5) \n",
    "#     data[col2].plot(color = 'red',label = col2) \n",
    "#     data[col3].plot(color = 'green', label = col3)\n",
    "#     # plot ‘buy’ signals\n",
    "#     plt.plot(data[data['Position'] == 1].index, \n",
    "#              data[col2][data['Position'] == 1], \n",
    "#              '^', markersize = 10, color = 'green', label = 'buy')\n",
    "#     # plot ‘sell’ signals\n",
    "#     plt.plot(data[data['Position'] == -1].index, \n",
    "#              data[col2][data['Position'] == -1], \n",
    "#              'v', markersize = 10, color = 'red', label = 'sell')\n",
    "    \n",
    "#     plt.ylabel('Stock Price', fontsize = 15,fontdict=label_font)\n",
    "#     plt.xlabel('Date',fontdict=label_font)\n",
    "#     plt.title(f'{symbol} SMA Crossover Stategy',fontdict=label_font)\n",
    "#     plt.legend(loc='best',fontsize=14)\n",
    "#     plt.grid()\n",
    "#     plt.show()\n",
    "        \n",
    "#     return data"
   ]
  },
  {
   "cell_type": "code",
   "execution_count": 21,
   "metadata": {
    "scrolled": true
   },
   "outputs": [
    {
     "data": {
      "image/png": "[encoded data removed]",
      "text/plain": [
       "<Figure size 720x576 with 1 Axes>"
      ]
     },
     "metadata": {
      "needs_background": "light"
     },
     "output_type": "display_data"
    }
   ],
   "source": [
    "sma_data = sma_function(sma_func_calc,col1='Close',col2='MA_10',col3='MA_50',symbol='PFE')\n",
    "#sma_data"
   ]
  },
  {
   "cell_type": "code",
   "execution_count": 22,
   "metadata": {},
   "outputs": [
    {
     "ename": "TypeError",
     "evalue": "'NoneType' object is not subscriptable",
     "output_type": "error",
     "traceback": [
      "\u001b[0;31m---------------------------------------------------------------------------\u001b[0m",
      "\u001b[0;31mTypeError\u001b[0m                                 Traceback (most recent call last)",
      "\u001b[0;32m<ipython-input-22-fead65f87170>\u001b[0m in \u001b[0;36m<module>\u001b[0;34m\u001b[0m\n\u001b[0;32m----> 1\u001b[0;31m \u001b[0msma_data\u001b[0m\u001b[0;34m[\u001b[0m\u001b[0;34m[\u001b[0m\u001b[0;34m'Close'\u001b[0m\u001b[0;34m,\u001b[0m\u001b[0;34m'MA_10'\u001b[0m\u001b[0;34m,\u001b[0m\u001b[0;34m'MA_50'\u001b[0m\u001b[0;34m]\u001b[0m\u001b[0;34m]\u001b[0m\u001b[0;34m.\u001b[0m\u001b[0mdescribe\u001b[0m\u001b[0;34m(\u001b[0m\u001b[0;34m)\u001b[0m\u001b[0;34m\u001b[0m\u001b[0;34m\u001b[0m\u001b[0m\n\u001b[0m",
      "\u001b[0;31mTypeError\u001b[0m: 'NoneType' object is not subscriptable"
     ]
    }
   ],
   "source": [
    "sma_data[['Close','MA_10','MA_50']].describe()"
   ]
  },
  {
   "cell_type": "markdown",
   "metadata": {},
   "source": [
    "#### SMA Subset"
   ]
  },
  {
   "cell_type": "code",
   "execution_count": null,
   "metadata": {},
   "outputs": [],
   "source": [
    "sma_rolling_3 = sma_function(sma_func_calc['2018-01-01':'2018-06-01'],col1='Close',col2='MA_10',col3='MA_50',symbol='PFE')\n",
    "sma_rolling_3;"
   ]
  },
  {
   "cell_type": "code",
   "execution_count": null,
   "metadata": {},
   "outputs": [],
   "source": [
    "print('Close Price')\n",
    "print(sma_rolling_3['Close'].describe())\n",
    "print()\n",
    "print('10 Day Moving Average')\n",
    "print(sma_rolling_3['MA_10'].describe())\n",
    "print()\n",
    "print('50 Day Moving Average')\n",
    "print(sma_rolling_3['MA_50'].describe())"
   ]
  },
  {
   "cell_type": "markdown",
   "metadata": {},
   "source": [
    "#### Exponential Moving Average (EMA)\n",
    " The EMA is also referred to as the exponentially weighted moving average.  The difference between EMA and SMA is that SMA assigns equal weight to all periods.  Whereas, with EMA the latest prices are given higher weights and it assigns lesser weight to past data.  EMA is used more by short term traders because it is quicker to react to price changes compared to SMA which is slower. This technical indicator is used to produce buy and sell signals based on crossovers and divergences from the historical price average.  https://www.investopedia.com/terms/e/ema.asp\n",
    " <br>\n",
    "\n",
    "#### MACD Crossover\n",
    "Short term moving average usually last 12 periods and long term last 26 periods.  The Signal line is generally a 9 period exponentially smooth average of the MACD line.  This indicator uses two (or more) moving averages — a faster moving average (short-term) and a slower (long-term) moving average.  This program uses the MACD Crossover to determine when to buy and sell stocks.<br>\n",
    "A short term moving average is faster because it only considers prices over short period of time and is thus more reactive to daily price changes.  Whereas, a long-term moving average is deemed slower as it encapsulates prices over a longer period and a slower response to daily prices.<br>\n",
    "The MACD line is calculated by taking the short term exponenrial moving average minus the long term exponetial moving average.  When the red line crosses above the green line you see an increase in the price and every time the red drops below the EMA26 you see the price decrease.<br>When MACD line crosses above the signal line that indicates a good time to buy and when it is below signal line that indcates a time to sell."
   ]
  },
  {
   "cell_type": "code",
   "execution_count": null,
   "metadata": {},
   "outputs": [],
   "source": [
    "macd_df_1 = pfe_stock_data.copy()"
   ]
  },
  {
   "cell_type": "code",
   "execution_count": null,
   "metadata": {},
   "outputs": [],
   "source": [
    "#ema_function(macd_df)\n",
    "single_plot(macd_df_1, stock_value='Adj Close', stock_symbol='PFE')"
   ]
  },
  {
   "cell_type": "markdown",
   "metadata": {},
   "source": [
    "#### Exponential Moving Average Crossover Stratergy\n",
    "Stock market analysts and investors use Exponential Moving Average Crossover strategy, among other moving averages, to analyze price trends and predict upcoming change of trends.  A moving-average crossover occurs when plotting, the two moving averages each based on different time-periods tend to cross. This indicator uses two (or more) moving averages — a faster moving average (short-term) and a slower (long-term) moving average. The faster moving average may be 5-, 10- or 25-day period while the slower moving average can be 50-, 100- or 200-day period.  A short term moving average is faster because it only considers prices over short period of time and is thus more reactive to daily price changes. On the other hand, a long-term moving average is deemed slower as it encapsulates prices over a longer period and is more lethargic.<br>\n",
    "A crossover occurs when a faster moving average (i.e. a shorter period moving average) crosses a slower moving average (i.e. a longer period moving average). In stock trading, this meeting point can be used as a potential indicator to buy or sell an asset.\n",
    "When the short term moving average crosses above the long term moving average, this indicates a buy signal.\n",
    "However, when the short term moving average crosses below the long term moving average, it may be a good moment to sell.<br>"
   ]
  },
  {
   "cell_type": "code",
   "execution_count": null,
   "metadata": {},
   "outputs": [],
   "source": [
    "ewmal_2 = pfe_stock_data.copy() "
   ]
  },
  {
   "cell_type": "code",
   "execution_count": null,
   "metadata": {},
   "outputs": [],
   "source": [
    "def ema_function(data, span1=None,span2=None):    \n",
    "    # Create 20 days exponential moving average column\n",
    "    data['12_EMA'] = data['Close'].ewm(span = span1, adjust = False).mean()\n",
    "    # Create 50 days exponential moving average column\n",
    "    data['26_EMA'] = data['Close'].ewm(span = span2, adjust = False).mean()\n",
    "\n",
    "    #create a new column 'Signal' such that if 20-day EMA is greater   # than 50-day EMA then set Signal as 1 else 0\n",
    "    data['Signal'] = 0.0  \n",
    "    data['Signal'] = np.where(data['12_EMA'] > data['26_EMA'], 1.0, 0.0)\n",
    "\n",
    "    # create a new column 'Position' which is a day-to-day difference of # the 'Signal' column\n",
    "    data['Position'] = data['Signal'].diff()\n",
    "\n",
    "    plt.figure(figsize = (20,10))\n",
    "    # plot close price, short-term and long-term moving averages \n",
    "    data['Close'].plot(color = 'b', label= 'Close Price') \n",
    "    data['12_EMA'].plot(color = 'r',label = '12-day EMA') \n",
    "    data['26_EMA'].plot(color = 'g', label = '26-day EMA')\n",
    "\n",
    "    plt.figure(figsize = (20,10))\n",
    "    # plot close price, short-term and long-term moving averages \n",
    "    data['Close'].plot(color = 'b', label= 'Close Price') \n",
    "    data['12_EMA'].plot(color = 'r',label = '12-day EMA') \n",
    "    data['26_EMA'].plot(color = 'g', label = '26-day EMA')\n",
    "    # plot ‘buy’ signals\n",
    "    plt.plot(data[ewmal_2['Position'] == 1].index, \n",
    "             data['12_EMA'][ewmal_2['Position'] == 1], \n",
    "             '^', markersize = 15, color = 'g', label = 'buy')\n",
    "    # plot ‘sell’ signals\n",
    "    plt.plot(data[data['Position'] == -1].index, \n",
    "             data['12_EMA'][data['Position'] == -1], \n",
    "             'v', markersize = 15, color = 'r', label = 'sell')\n",
    "    plt.ylabel('Stock Price', fontsize = 15 )\n",
    "    plt.xlabel('Date', fontsize = 15 )\n",
    "    plt.title('Pfizer EWMA Crossover', fontsize = 20)\n",
    "    plt.legend()\n",
    "    plt.grid()\n",
    "    \n",
    "    return data"
   ]
  },
  {
   "cell_type": "code",
   "execution_count": null,
   "metadata": {},
   "outputs": [],
   "source": [
    "ewm_calc = ema_function(ewmal_2,span1 = 12,span2 = 26)\n",
    "ewm_calc"
   ]
  },
  {
   "cell_type": "code",
   "execution_count": null,
   "metadata": {},
   "outputs": [],
   "source": [
    "#ewm_calc.head()"
   ]
  },
  {
   "cell_type": "code",
   "execution_count": null,
   "metadata": {},
   "outputs": [],
   "source": [
    "ewmal_3 = ewmal_2['2018-01-01':'2018-07-01']\n",
    "plt.figure(figsize = (20,10))\n",
    "# plot close price, short-term and long-term moving averages \n",
    "ewmal_3['Close'].plot(color = 'b', label= 'Close Price') \n",
    "ewmal_3['12_EMA'].plot(color = 'r',label = '20-day EMA') \n",
    "ewmal_3['26_EMA'].plot(color = 'g', label = '50-day EMA')\n",
    "# plot ‘buy’ signals\n",
    "plt.plot(ewmal_3[ewmal_2['Position'] == 1].index, \n",
    "         ewmal_3['12_EMA'][ewmal_2['Position'] == 1], \n",
    "         '^', markersize = 15, color = 'g', label = 'buy')\n",
    "# plot ‘sell’ signals\n",
    "plt.plot(ewmal_3[ewmal_3['Position'] == -1].index, \n",
    "         ewmal_3['12_EMA'][ewmal_3['Position'] == -1], \n",
    "         'v', markersize = 15, color = 'r', label = 'sell')\n",
    "plt.ylabel('Stock Price', fontsize = 15 )\n",
    "plt.xlabel('Date', fontsize = 15 )\n",
    "plt.title('Pfizer EWMA Crossover', fontsize = 20)\n",
    "plt.legend()\n",
    "plt.grid()\n",
    "plt.show()"
   ]
  },
  {
   "cell_type": "markdown",
   "metadata": {},
   "source": [
    "### Rate of Change\n",
    "The Rate of Change (ROC) is a technical indicator that measures the percentage change between the most recent price and the specified  number of previous days. The indicator will fluctuate around the zero line.\n",
    "#### Historical Price Change Analysis\n",
    "Volatility is the range of price changes a security experiences over a given period of time. If the price stays relatively stable, the security has low volatility. A highly volatile security hits new highs and lows quickly, moves erratically, and has rapid increases and dramatic falls.  Is volatility in price good or bad for trading? This is a complex question with multiple possible answer.  One possible answer is that as the price fluctuates, it provides the opportunity for investors to buy stock in a solid company when the price is very low, and then wait for cumulative growth down the road.  https://www.investopedia.com/ask/answers/010915/volatility-good-thing-or-bad-thing-investors-point-view-and-why.asp<br>\n",
    "For short-term traders, volatility is even more crucial. Day traders work with changes that occur second-to-second, minute-to-minute. If there is no price change, there is no profit.https://www.investopedia.com/ask/answers/010915/volatility-good-thing-or-bad-thing-investors-point-view-and-why.asp The graph shows that the data points are now centered aound 0. The graph shows that around 3/20 was a volatile period for the stock price and it increase above 7% and decreased 7%.\n",
    "\n"
   ]
  },
  {
   "cell_type": "markdown",
   "metadata": {},
   "source": [
    "### Price Change in Dollars\n",
    "To see how big the changes in price were on a daily basis we subtract yesterday's closing price yesterday from today.  This will show the change in price.  A column named 'Actual_Changes' is added to calculate actual change in dollars.<br>For example, we can see that on 1/3/17 the Adj Closing price was 26.653324 and on 1/4/17 the Adj Closing price was 26.887548.  The price change $0.234224.<br> \n",
    "\n",
    "Scatterplot of absolute value of magnitude change vs. actual change. Let's us see how the price changes daily.<br>"
   ]
  },
  {
   "cell_type": "code",
   "execution_count": null,
   "metadata": {},
   "outputs": [],
   "source": [
    "# sdr = multiple_stock_data(ticker=[['PFE','JNJ','NVAX','MRNA','AZN','BNTX']], start='2017',end='today',plot=False, stock_value='Adj Close')\n",
    "# sdr\n",
    "price_change = pfe_stock_data.copy()"
   ]
  },
  {
   "cell_type": "code",
   "execution_count": null,
   "metadata": {},
   "outputs": [],
   "source": [
    "#leavr off 1 b/c that's default value\n",
    "#using shift function\n",
    "#26.887548 - 26.653324 = 0.234224\n",
    "def price_change_func(data, col1=None,stock_value=None):\n",
    "    data['Actual_Changes'] = data[col1] - data[col1].shift(1)\n",
    "    # price_change['Expected_Changes'] =price_change['Close'] * #std deviation or 21 day \n",
    "\n",
    "    data['Actual_Changes'].plot(figsize=(12,8))\n",
    "    label_font = {'weight':'bold','size':18}\n",
    "    plt.xlabel('Date',fontdict=label_font)\n",
    "    plt.ylabel(f'{stock_value} Price USD ($)',fontdict=label_font)\n",
    "    plt.title(f'Historical {stock_value} Price',fontdict=label_font) \n",
    "    \n",
    "    return data"
   ]
  },
  {
   "cell_type": "code",
   "execution_count": null,
   "metadata": {},
   "outputs": [],
   "source": [
    "price_change_data = price_change_func(price_change,col1='Adj Close',stock_value='PFE')\n",
    "price_change_data"
   ]
  },
  {
   "cell_type": "markdown",
   "metadata": {},
   "source": [
    "The below graph shows that for the stated time the stock price difference was rarely positively more than $2.627 than negatviely more than -2.511.  The average daily return was 0.007375.<br>"
   ]
  },
  {
   "cell_type": "code",
   "execution_count": null,
   "metadata": {},
   "outputs": [],
   "source": [
    "#the mean (average) change was less than 1 cent\n",
    "#absolute\n",
    "price_change_1 = price_change.copy()\n",
    "price_change_1['Actual_Changes'] = price_change_1['Actual_Changes'].abs() \n",
    "price_change_1['Actual_Changes'].describe()"
   ]
  },
  {
   "cell_type": "code",
   "execution_count": null,
   "metadata": {},
   "outputs": [],
   "source": [
    "#single_plot(price_change, stock_value='Actual_Changes',stock_symbol='PFE')"
   ]
  },
  {
   "cell_type": "code",
   "execution_count": null,
   "metadata": {},
   "outputs": [],
   "source": [
    "#multi_stocks"
   ]
  },
  {
   "cell_type": "code",
   "execution_count": null,
   "metadata": {},
   "outputs": [],
   "source": [
    "multi_price_change = multi_stocks.copy()"
   ]
  },
  {
   "cell_type": "markdown",
   "metadata": {},
   "source": [
    "MRNA, AZNA, JNJ didn't have a big daily price differece either psotively or negatively. NVAX did have spikes in daily price \n",
    "both psotively and negatively. NVAX average stock price is \\\\$41.94.  Around 2/21, the price spiked to 319.929 and 3.690000.  The price had increased \\\\$86.930 but then decreased \\\\$-34.299.<br>"
   ]
  },
  {
   "cell_type": "code",
   "execution_count": null,
   "metadata": {},
   "outputs": [],
   "source": [
    "def multi_price_change_func(data):\n",
    "    data = data - data.shift(1)\n",
    "    data.plot(figsize=(12,8))\n",
    "    label_font = {'weight':'bold','size':18}\n",
    "    plt.xlabel('Date',fontdict=label_font)\n",
    "    plt.ylabel('Price USD ($)',fontdict=label_font)\n",
    "    plt.title('Multi-Stock Actual Changes',fontdict=label_font) \n",
    "    \n",
    "    return data"
   ]
  },
  {
   "cell_type": "code",
   "execution_count": null,
   "metadata": {},
   "outputs": [],
   "source": [
    "multi_price_calc = multi_price_change_func(multi_price_change)\n",
    "multi_price_calc"
   ]
  },
  {
   "cell_type": "code",
   "execution_count": null,
   "metadata": {},
   "outputs": [],
   "source": [
    "multi_price_calc.describe()"
   ]
  },
  {
   "cell_type": "code",
   "execution_count": null,
   "metadata": {},
   "outputs": [],
   "source": [
    "def hist_func_actual(data, col=None):\n",
    "    plt.figure(figsize=(12,8))\n",
    "    data[col].hist(bins=50)\n",
    "    plt.title('Histogram of Daily Returns Distribution')\n",
    "    plt.xlabel('Actual Change')\n",
    "    plt.ylabel('Frequency')"
   ]
  },
  {
   "cell_type": "code",
   "execution_count": null,
   "metadata": {},
   "outputs": [],
   "source": [
    "hist_func_actual(multi_price_calc, col='BNTX')"
   ]
  },
  {
   "cell_type": "markdown",
   "metadata": {},
   "source": [
    "### Simple Daily Return\n",
    "Daily price change as a percentage"
   ]
  },
  {
   "cell_type": "code",
   "execution_count": null,
   "metadata": {},
   "outputs": [],
   "source": [
    "multi_stocks.head()"
   ]
  },
  {
   "cell_type": "code",
   "execution_count": null,
   "metadata": {},
   "outputs": [],
   "source": [
    "(26.887548 /26.653324) -1"
   ]
  },
  {
   "cell_type": "code",
   "execution_count": null,
   "metadata": {},
   "outputs": [],
   "source": [
    "#new price(cuurent time period) /old price - 1\n",
    "#26.887548 - 26.653324=\n",
    "#(26.200001 /25.400000) -1\n",
    "def multi_price_change_func(data):\n",
    "    daily_simple_returns = data.pct_change(1) #1 is for 1 day\n",
    "    daily_simple_returns.plot(figsize=(12,8))\n",
    "    label_font = {'weight':'bold','size':18}\n",
    "    plt.xlabel('Date',fontdict=label_font)\n",
    "    plt.ylabel('Price USD ($)',fontdict=label_font)\n",
    "    plt.title('Multi-Stock Actual Changes',fontdict=label_font) \n",
    "    \n",
    "    return daily_simple_returns"
   ]
  },
  {
   "cell_type": "code",
   "execution_count": null,
   "metadata": {},
   "outputs": [],
   "source": [
    "#percent change\n",
    "#y % change\n",
    "multi_dsr = multi_price_change_func(multi_stocks)\n",
    "multi_dsr"
   ]
  },
  {
   "cell_type": "code",
   "execution_count": null,
   "metadata": {},
   "outputs": [],
   "source": [
    "#mean of daily simple return\n",
    "#highest return should be NBTX and lowest for PFE\n",
    "mean_dsr = multi_dsr.mean()\n",
    "print('The Daily Mean Simple Return')\n",
    "mean_dsr"
   ]
  },
  {
   "cell_type": "code",
   "execution_count": null,
   "metadata": {},
   "outputs": [],
   "source": [
    "def hist_func(data, col=None):\n",
    "    plt.figure(figsize=(12,8))\n",
    "    multi_dsr[col].hist(bins=50)\n",
    "    plt.title('Histogram of Daily Returns Distribution')\n",
    "    plt.xlabel('Daily Returns')\n",
    "    plt.ylabel('Frequency')"
   ]
  },
  {
   "cell_type": "code",
   "execution_count": null,
   "metadata": {},
   "outputs": [],
   "source": [
    "hist_func(multi_dsr, col='PFE')"
   ]
  },
  {
   "cell_type": "code",
   "execution_count": null,
   "metadata": {},
   "outputs": [],
   "source": [
    "hist_func(multi_dsr, col='BNTX')"
   ]
  },
  {
   "cell_type": "code",
   "execution_count": null,
   "metadata": {},
   "outputs": [],
   "source": [
    "36.551258 - 37.603287"
   ]
  },
  {
   "cell_type": "code",
   "execution_count": null,
   "metadata": {},
   "outputs": [],
   "source": [
    "print('The Stock Volatility')\n",
    "multi_dsr.std()"
   ]
  },
  {
   "cell_type": "markdown",
   "metadata": {},
   "source": [
    "### Relative Strength Index (RSI)\n",
    "The relative strength index (RSI) is a momentum indicator used in technical analysis that measures the magnitude of recent price changes to evaluate overbought or oversold conditions in the price of a stock or other asset. The RSI is displayed as an oscillator (a line graph that moves between two extremes) and can have a reading from 0 to 100.  An asset is usually considered overbought when the value is above 70% and oversold when it is below 30%.  \n",
    "https://www.investopedia.com/terms/r/rsi.asp Overbought refers that the bubble created from the buying might pop soon, and therefore the price will drop. This creates a strong entry point.  interpretation of the RSI is that values of 70 or above indicate that a security is becoming overvalued or overbought and may be due for a trend reversal or correction in price. An RSI value of 30 or below indicates an undervalued or oversold scenario.<br>\n",
    "<br>\n",
    "7/19-RSI value dips below 10 indicator, the 10 significant level.\n",
    "    Tells us stock was oversold and presents a buying opportunity\n",
    "On Adj Close plot was see that around 7/19 the price dipped from around \\\\$40.00 to \\\\$30.00.\n",
    "    Then the price increased significantly again.\n",
    "If you followed RSI you wuold have prucahsed around \\\\$30.00 and prcie jumped to \\\\$37.5 around 1/20.    \n",
    "\n",
    "Around 7/18 to 9/18- Looks like stock was being over bought.  RSI value passed 80 level significant indicator.\n",
    "    price was around \\\\$38.00 to \\\\$40.00.\n",
    "    Pricde did drop to almost $35.00. Would have been a good time to drop prior to the drop.\n",
    "    Would have saved some money from selling"
   ]
  },
  {
   "cell_type": "code",
   "execution_count": null,
   "metadata": {},
   "outputs": [],
   "source": [
    "rsi_df = pfe_stock_data.copy()\n",
    "rsi_df"
   ]
  },
  {
   "cell_type": "code",
   "execution_count": null,
   "metadata": {},
   "outputs": [],
   "source": [
    "def rsi_function(data, col=None):\n",
    "    rsi_d = data[col].diff(1)\n",
    "    rsi_d = rsi_d.dropna()\n",
    "    #get the postive gains (up) and negative gains(down)\n",
    "    up = rsi_d.copy()\n",
    "    down = rsi_d.copy()\n",
    "    #get the postive values in delta\n",
    "    up[up < 0]=0  #for any values in up that are less than 0. Any values n up that are less than 0, we'll set to 0\n",
    "    down[down > 0]=0  #values in down that are greater than 0, they're positive. Set those values equal to 0.\n",
    "    #up only contins positve values and down only contains negative values\n",
    "    #Get the time period.  RSI is usually 14 day period\n",
    "    period=14\n",
    "    #calculate the average gain and average loss\n",
    "    AVG_gain = up.rolling(window=period).mean()\n",
    "    AVG_loss = abs(down.rolling(window=period).mean()) #going to be negative values so use absolute\n",
    "    #calcualte RSI\n",
    "    #calcualte relative strength (Rs)\n",
    "    RS = AVG_gain / AVG_loss\n",
    "    #calcualte relative strength Index (RSI)\n",
    "    RSI = 100.0 - (100.0 / (1.0 + RS))\n",
    "    #new dataframe\n",
    "    new_df = pd.DataFrame()\n",
    "    new_df[col] = rsi_df[col]\n",
    "    new_df['RSI'] = RSI\n",
    "    \n",
    "    #plot column\n",
    "    plt.figure(figsize=(12,8))\n",
    "    plt.plot(new_df.index, new_df[col])\n",
    "    plt.title(f'{col} Price History for Pfizer')\n",
    "    plt.legend(new_df.columns.values, loc='upper left')\n",
    "    #plot RSI values and signficant levels\n",
    "    plt.figure(figsize=(12,8))\n",
    "    plt.title('RSI')\n",
    "    plt.plot(new_df.index,new_df['RSI'])\n",
    "    plt.axhline(0, linestyle='--', alpha=0.5,color='gray')\n",
    "    plt.axhline(10, linestyle='--', alpha=0.5,color='orange')\n",
    "    plt.axhline(20, linestyle='--', alpha=0.5,color='green')\n",
    "    plt.axhline(30, linestyle='--', alpha=0.5,color='red')\n",
    "    plt.axhline(70, linestyle='--', alpha=0.5,color='red')\n",
    "    plt.axhline(80, linestyle='--', alpha=0.5,color='green')\n",
    "    plt.axhline(90, linestyle='--', alpha=0.5,color='orange')\n",
    "    plt.axhline(100, linestyle='--', alpha=0.5,color='gray')\n",
    "    \n",
    "    return new_df"
   ]
  },
  {
   "cell_type": "code",
   "execution_count": null,
   "metadata": {},
   "outputs": [],
   "source": [
    "rsi_function(rsi_df, col='Adj Close')"
   ]
  },
  {
   "cell_type": "markdown",
   "metadata": {},
   "source": [
    "## LSTM (Long Short Term Memory)\n"
   ]
  },
  {
   "cell_type": "markdown",
   "metadata": {},
   "source": [
    "This section pertains to creating LSTM models to predict future stock prices.  LSTM networks are a type of artificial recurrent neural network architecture used in the field of deep learning. LSTM's are capable of learning order dependence in sequence prediction problems.  The LSTM is going to use the past 3 days stock prices.\n",
    "\n",
    "This section will be in 2 parts.  The first part will show how  a dataset with multiple stocks with 'Adj Close' columns values for each can be each be used individually as inputs for the model.  The data for this section will cosist of the 'Adj Close' column.  The second part will consist only of data from Pfizer and will demonstrate technical indicator calculations can be added to the dataset and used, in addition to the existing data, as inputs to the model.  I will use the Adj Close columns and calculations from technical Indicators for the LSTMs.  "
   ]
  },
  {
   "cell_type": "markdown",
   "metadata": {},
   "source": [
    "### **Question 2:** How well does the LSTM model perform in forecasting stock prices with 'Adj Close' column and only basic model parameters"
   ]
  },
  {
   "cell_type": "markdown",
   "metadata": {},
   "source": [
    "#### Multi-Stocks\n"
   ]
  },
  {
   "cell_type": "code",
   "execution_count": null,
   "metadata": {},
   "outputs": [],
   "source": [
    "multi_stocks"
   ]
  },
  {
   "cell_type": "code",
   "execution_count": null,
   "metadata": {},
   "outputs": [],
   "source": [
    "def delta_time_series(data,col=None):\n",
    "#     data['Actual_Changes'] = data['Close'] - data['Close'].shift(1)\n",
    "#     data['Percent_Chg'] = data[col].pct_change(1)\n",
    "#     data['MA_50'] = data[col].rolling(50).mean()\n",
    "    data = data.dropna()\n",
    "    return data"
   ]
  },
  {
   "cell_type": "code",
   "execution_count": null,
   "metadata": {},
   "outputs": [],
   "source": [
    "multi = delta_time_series(multi_stocks, col='Adj Close')\n",
    "multi"
   ]
  },
  {
   "cell_type": "code",
   "execution_count": null,
   "metadata": {},
   "outputs": [],
   "source": [
    "multi.shape"
   ]
  },
  {
   "cell_type": "code",
   "execution_count": null,
   "metadata": {},
   "outputs": [],
   "source": [
    "multi.describe()"
   ]
  },
  {
   "cell_type": "code",
   "execution_count": null,
   "metadata": {},
   "outputs": [],
   "source": [
    "def plot_delta(data,col=None,symbol=None):\n",
    "    data.plot(figsize=(12,6))\n",
    "    label_font = {'weight':'bold','size':18}\n",
    "    plt.title('Pharmaceutical Stocks Price History',fontdict=label_font)\n",
    "    plt.xlabel('Dates',fontdict=label_font)\n",
    "    plt.ylabel('Adj close')\n",
    "    plt.show()"
   ]
  },
  {
   "cell_type": "code",
   "execution_count": null,
   "metadata": {},
   "outputs": [],
   "source": [
    "plot_delta(multi)"
   ]
  },
  {
   "cell_type": "markdown",
   "metadata": {},
   "source": [
    "#### Train Test Split"
   ]
  },
  {
   "cell_type": "code",
   "execution_count": null,
   "metadata": {},
   "outputs": [],
   "source": [
    "train_size = int(len(multi) * 0.80)#0.67\n",
    "test_size = len(multi) - train_size"
   ]
  },
  {
   "cell_type": "code",
   "execution_count": null,
   "metadata": {},
   "outputs": [],
   "source": [
    "multi.index[train_size]"
   ]
  },
  {
   "cell_type": "code",
   "execution_count": null,
   "metadata": {},
   "outputs": [],
   "source": [
    "multi.index[-test_size]\n"
   ]
  },
  {
   "cell_type": "markdown",
   "metadata": {},
   "source": [
    "#### Plot Train Test Sets and Create Val Set"
   ]
  },
  {
   "cell_type": "code",
   "execution_count": null,
   "metadata": {},
   "outputs": [],
   "source": [
    "def train_test_val(single_stock, date1='2020-09-11', date2='2020-11-01'):    \n",
    "    train = single_stock[:date1]#'2020-09-11'\n",
    "    val = single_stock[date1:date2]\n",
    "    test = single_stock[date2:] #2021-02-12\n",
    "    ax = train.plot(figsize=(12,8))\n",
    "    val.plot(ax=ax)\n",
    "    test.plot(ax=ax)\n",
    "    \n",
    "    return train, val, test"
   ]
  },
  {
   "cell_type": "code",
   "execution_count": null,
   "metadata": {},
   "outputs": [],
   "source": [
    "train, val, test= train_test_val(multi)"
   ]
  },
  {
   "cell_type": "markdown",
   "metadata": {},
   "source": [
    "#### Preprocessing Data\n",
    "##### Normalize Data\n",
    "We're going to normalize all the values so they range between 0 and 1. "
   ]
  },
  {
   "cell_type": "code",
   "execution_count": null,
   "metadata": {},
   "outputs": [],
   "source": [
    "def scale_function(train, test,val):\n",
    "    # normalize the dataset\n",
    "    scaler = MinMaxScaler(feature_range=(0, 1))\n",
    "    train_scaled = scaler.fit_transform(train)\n",
    "    test_scaled = scaler.transform(test)\n",
    "    val_scaled = scaler.transform(val)\n",
    "    \n",
    "    return scaler, train_scaled,test_scaled, val_scaled"
   ]
  },
  {
   "cell_type": "code",
   "execution_count": null,
   "metadata": {},
   "outputs": [],
   "source": [
    "scaler, train_scaled, test_scaled, val_scaled = scale_function(train,test,val)"
   ]
  },
  {
   "cell_type": "code",
   "execution_count": null,
   "metadata": {},
   "outputs": [],
   "source": [
    "scaler"
   ]
  },
  {
   "cell_type": "code",
   "execution_count": null,
   "metadata": {},
   "outputs": [],
   "source": [
    "train_scaled_df = pd.DataFrame(train_scaled, columns=train.columns, index=train.index)\n",
    "test_scaled_df = pd.DataFrame(test_scaled, columns=test.columns, index=test.index)\n",
    "val_scaled_df = pd.DataFrame(val_scaled, columns=val.columns, index=val.index)"
   ]
  },
  {
   "cell_type": "code",
   "execution_count": null,
   "metadata": {},
   "outputs": [],
   "source": [
    "train_scaled_df.shape, val_scaled_df.shape, test_scaled_df.shape"
   ]
  },
  {
   "cell_type": "markdown",
   "metadata": {},
   "source": [
    "How may days in the past do we want to look in the past to predict the next day price."
   ]
  },
  {
   "cell_type": "code",
   "execution_count": null,
   "metadata": {},
   "outputs": [],
   "source": [
    "look_back = 3\n",
    "batch_size=3\n",
    "col_index = {v:k for k,v in enumerate(train_scaled_df.columns)}\n",
    "col_index"
   ]
  },
  {
   "cell_type": "code",
   "execution_count": null,
   "metadata": {},
   "outputs": [],
   "source": [
    "col_index['NVAX']"
   ]
  },
  {
   "cell_type": "markdown",
   "metadata": {},
   "source": [
    "#### LSTM / Multi / NVAX"
   ]
  },
  {
   "cell_type": "markdown",
   "metadata": {},
   "source": [
    "#### Timeseries Generator"
   ]
  },
  {
   "cell_type": "code",
   "execution_count": null,
   "metadata": {},
   "outputs": [],
   "source": [
    "\n",
    "def generator_function(train_scaled_df, val_scaled_df, test_scaled_df, col=None):\n",
    "    train_data_gen = TimeseriesGenerator(train_scaled_df.values, train_scaled_df[col].values,\n",
    "                                   length=look_back, sampling_rate=1,stride=1,\n",
    "                                   batch_size=batch_size)\n",
    "\n",
    "    val_data_gen = TimeseriesGenerator(val_scaled_df.values, val_scaled_df[col].values,\n",
    "                                   length=look_back, sampling_rate=1,stride=1,\n",
    "                                   batch_size=batch_size)\n",
    "\n",
    "    test_data_gen = TimeseriesGenerator(test_scaled_df.values, test_scaled_df[col].values,\n",
    "                                   length=look_back, sampling_rate=1,stride=1,\n",
    "                                   batch_size=3)\n",
    "    \n",
    "    ex_X, ex_y = train_data_gen[0]\n",
    "    \n",
    "    return train_data_gen,val_data_gen,test_data_gen, ex_X,ex_y"
   ]
  },
  {
   "cell_type": "code",
   "execution_count": null,
   "metadata": {},
   "outputs": [],
   "source": [
    "train_data_gen,val_data_gen,test_data_gen, ex_X,ex_y = generator_function(train_scaled_df, val_scaled_df,\n",
    "                                                               test_scaled_df, col='NVAX')"
   ]
  },
  {
   "cell_type": "code",
   "execution_count": null,
   "metadata": {},
   "outputs": [],
   "source": [
    "ex_X, ex_y = train_data_gen[0]\n",
    "ex_X.shape"
   ]
  },
  {
   "cell_type": "code",
   "execution_count": null,
   "metadata": {},
   "outputs": [],
   "source": [
    "\n",
    "sample = ex_X[0]\n",
    "sample.shape"
   ]
  },
  {
   "cell_type": "code",
   "execution_count": null,
   "metadata": {},
   "outputs": [],
   "source": [
    "model = Sequential()\n",
    "\n",
    "model.add(LSTM(units = 50, return_sequences = True, input_shape=sample.shape))\n",
    "model.add(Dropout(0.2))\n",
    "\n",
    "model.add(LSTM(units = 50, return_sequences = True))\n",
    "model.add(Dropout(0.2))\n",
    "\n",
    "model.add(LSTM(units = 50, return_sequences = False))\n",
    "model.add(Dropout(0.2))\n",
    "\n",
    "model.add(Dense(units = 25))\n",
    "model.add(Dense(units = 1))\n",
    "\n",
    "model.compile(optimizer = 'adam', loss = 'mean_squared_error')\n",
    "\n",
    "model.summary()    "
   ]
  },
  {
   "cell_type": "code",
   "execution_count": null,
   "metadata": {},
   "outputs": [],
   "source": [
    "early_stop = EarlyStopping(monitor='val_loss', patience=10,verbose=True)\n",
    "hist1 = model.fit(train_data_gen, epochs=25,validation_data=val_data_gen,callbacks=[early_stop])"
   ]
  },
  {
   "cell_type": "code",
   "execution_count": null,
   "metadata": {},
   "outputs": [],
   "source": [
    "model.evaluate(test_data_gen)"
   ]
  },
  {
   "cell_type": "markdown",
   "metadata": {},
   "source": [
    "We can plot the training and validation loss at each epoch.  This will give us a good idea of whether the model is overfitting or underfitting.  The loss looks good.  The training loss and validation loss appear to be converging."
   ]
  },
  {
   "cell_type": "code",
   "execution_count": null,
   "metadata": {},
   "outputs": [],
   "source": [
    "def loss_plot(hist):#plt.plot(pd.DataFrame(hist.history))\n",
    "    plt.figure(figsize=(10,8))\n",
    "    loss = hist.history['loss']\n",
    "    val_loss = hist.history['val_loss']\n",
    "    epochs = range(1, len(loss) + 1)\n",
    "    plt.plot(epochs, loss, 'b', label='Training loss')\n",
    "    plt.plot(epochs, val_loss, 'r', label='Validation loss')\n",
    "    plt.xlabel('Epochs')\n",
    "    plt.ylabel('Loss')\n",
    "    plt.legend()"
   ]
  },
  {
   "cell_type": "markdown",
   "metadata": {},
   "source": [
    "#### Question 2 / Model 1"
   ]
  },
  {
   "cell_type": "code",
   "execution_count": null,
   "metadata": {},
   "outputs": [],
   "source": [
    "loss_plot(hist1)"
   ]
  },
  {
   "cell_type": "code",
   "execution_count": null,
   "metadata": {},
   "outputs": [],
   "source": [
    "def save_model(model):\n",
    "    model.save('model_parameters')\n",
    "    model_params = keras.models.load_model('model_parameters')\n",
    "    model_params.summary()\n",
    "\n",
    "    return model_params"
   ]
  },
  {
   "cell_type": "code",
   "execution_count": null,
   "metadata": {},
   "outputs": [],
   "source": [
    "# model_params = save_model(model)"
   ]
  },
  {
   "cell_type": "code",
   "execution_count": null,
   "metadata": {},
   "outputs": [],
   "source": [
    "trainPredict = model.predict(train_data_gen)\n",
    "trainPredict.shape"
   ]
  },
  {
   "cell_type": "code",
   "execution_count": null,
   "metadata": {},
   "outputs": [],
   "source": [
    "testPredict = model.predict(test_data_gen)\n",
    "testPredict.shape"
   ]
  },
  {
   "cell_type": "code",
   "execution_count": null,
   "metadata": {},
   "outputs": [],
   "source": [
    "y_hat_train = pd.Series(trainPredict.flatten(),index=train.index[look_back:])\n",
    "len(y_hat_train)"
   ]
  },
  {
   "cell_type": "code",
   "execution_count": null,
   "metadata": {},
   "outputs": [],
   "source": [
    "y_hat_test = pd.Series(testPredict.flatten(),index=test.index[look_back:])\n",
    "len(y_hat_test)"
   ]
  },
  {
   "cell_type": "code",
   "execution_count": null,
   "metadata": {},
   "outputs": [],
   "source": [
    "def get_y_from_df(train_scaled_df, look_back, col='NVAX', ):\n",
    "    y = train_scaled_df[col].iloc[look_back: ]\n",
    "    return y"
   ]
  },
  {
   "cell_type": "code",
   "execution_count": null,
   "metadata": {},
   "outputs": [],
   "source": [
    "y_train = get_y_from_df(train_scaled_df,look_back)\n",
    "y_test = get_y_from_df(test_scaled_df,look_back)\n",
    "y_train = get_y_from_df(train_scaled_df,look_back)\n",
    "y_val = get_y_from_df(val_scaled_df,look_back)"
   ]
  },
  {
   "cell_type": "code",
   "execution_count": null,
   "metadata": {},
   "outputs": [],
   "source": [
    "multi"
   ]
  },
  {
   "cell_type": "code",
   "execution_count": null,
   "metadata": {},
   "outputs": [],
   "source": [
    "multi['PFE']"
   ]
  },
  {
   "cell_type": "code",
   "execution_count": null,
   "metadata": {},
   "outputs": [],
   "source": [
    "def model_metrics(y_train, y_test,y_hat_train, y_hat_test):\n",
    "    # calculate root mean squared error\n",
    "    \n",
    "#     trainScore = np.sqrt(mean_squared_error(y_train, y_hat_train))\n",
    "#     print('Train Score: %.2f RMSE' % (trainScore))\n",
    "    rmse_train = np.sqrt(mean_squared_error(y_train, y_hat_train))\n",
    "    print('RMSE on Train Set: %.2f RMSE' % (rmse_train))\n",
    "    rmse = np.sqrt(mean_squared_error(y_test, y_hat_test))\n",
    "    print('RMSE on Test Set: %.2f RMSE' % (rmse))"
   ]
  },
  {
   "cell_type": "code",
   "execution_count": null,
   "metadata": {},
   "outputs": [],
   "source": [
    "#a value of 0 means predcitions were exact\n",
    "model_metrics(y_train, y_test,y_hat_train, y_hat_test)"
   ]
  },
  {
   "cell_type": "markdown",
   "metadata": {},
   "source": [
    "#### Prediction Plot"
   ]
  },
  {
   "cell_type": "code",
   "execution_count": null,
   "metadata": {},
   "outputs": [],
   "source": [
    "#red line is what model actually predicted\n",
    "def prediction_plot(y_train,y_test,y_val,y_hat_test):\n",
    "    plt.figure(figsize=(12,6))\n",
    "    y_train.plot(label='train')\n",
    "    y_test.plot(label='test')\n",
    "    y_val.plot(label='val')\n",
    "    y_hat_test.plot(label='Prediction')\n",
    "    #lt.legend(['Valid','Train','Predictions'],loc='uppper left')\n",
    "    plt.legend()    "
   ]
  },
  {
   "cell_type": "code",
   "execution_count": null,
   "metadata": {},
   "outputs": [],
   "source": [
    "prediction_plot(y_train,y_test,y_val,y_hat_test)"
   ]
  },
  {
   "cell_type": "code",
   "execution_count": null,
   "metadata": {},
   "outputs": [],
   "source": [
    "multi['NVAX'].describe()"
   ]
  },
  {
   "cell_type": "code",
   "execution_count": null,
   "metadata": {},
   "outputs": [],
   "source": [
    "def inverse_plot(train, y_test, y_hat_test, col):\n",
    "    scaler_multi = MinMaxScaler(feature_range=(0, 1))\n",
    "    scaler_multi.fit(np.array(train[col]).reshape(-1,1))\n",
    "\n",
    "    y_test_multi = scaler_multi.inverse_transform(np.array(y_test).reshape(-1,1))\n",
    "    y_hat_multi = scaler_multi.inverse_transform(np.array(y_hat_test).reshape(-1,1))\n",
    "\n",
    "    plt.figure(figsize=(12,8))\n",
    "    plt.plot(y_test_multi)\n",
    "    plt.plot(y_hat_multi)\n",
    "    \n",
    "    rmse = np.sqrt(mean_squared_error(y_test_multi, y_hat_multi))\n",
    "    print('RMSE on Test Set: %.2f RMSE' % (rmse))"
   ]
  },
  {
   "cell_type": "markdown",
   "metadata": {},
   "source": [
    "#### Question 2 / Model 2\n",
    "This plot shows how the LSTM model forecast the stock prices of 'Adj Close' values. "
   ]
  },
  {
   "cell_type": "code",
   "execution_count": null,
   "metadata": {},
   "outputs": [],
   "source": [
    "#actual prices difference\n",
    "inverse_plot(train, y_test, y_hat_test, col='NVAX')"
   ]
  },
  {
   "cell_type": "markdown",
   "metadata": {},
   "source": [
    "#### LSTM / Multi / MRNA"
   ]
  },
  {
   "cell_type": "code",
   "execution_count": null,
   "metadata": {},
   "outputs": [],
   "source": [
    "train_data_gen,val_data_gen,test_data_gen, ex_X,ex_y = generator_function(train_scaled_df, val_scaled_df,\n",
    "                                                               test_scaled_df, col='MRNA')"
   ]
  },
  {
   "cell_type": "code",
   "execution_count": null,
   "metadata": {},
   "outputs": [],
   "source": [
    "model = Sequential()\n",
    "\n",
    "model.add(LSTM(units = 50, return_sequences = True, input_shape=sample.shape))\n",
    "model.add(Dropout(0.2))\n",
    "\n",
    "model.add(LSTM(units = 50, return_sequences = True))\n",
    "model.add(Dropout(0.2))\n",
    "\n",
    "model.add(LSTM(units = 50, return_sequences = False))\n",
    "model.add(Dropout(0.2))\n",
    "\n",
    "model.add(Dense(units = 25))\n",
    "model.add(Dense(units = 1))\n",
    "\n",
    "model.compile(optimizer = 'adam', loss = 'mean_squared_error')\n",
    "\n",
    "model.summary()    "
   ]
  },
  {
   "cell_type": "code",
   "execution_count": null,
   "metadata": {},
   "outputs": [],
   "source": [
    "early_stop = EarlyStopping(monitor='val_loss', patience=10,verbose=True)\n",
    "hist2 = model.fit(train_data_gen, epochs=25,validation_data=val_data_gen,callbacks=[early_stop])"
   ]
  },
  {
   "cell_type": "code",
   "execution_count": null,
   "metadata": {},
   "outputs": [],
   "source": [
    "loss_plot(hist2)"
   ]
  },
  {
   "cell_type": "code",
   "execution_count": null,
   "metadata": {},
   "outputs": [],
   "source": [
    "#trainPredict = model.predict(train_data_gen)\n",
    "#trainPredict.shape"
   ]
  },
  {
   "cell_type": "code",
   "execution_count": null,
   "metadata": {},
   "outputs": [],
   "source": [
    "#testPredict = model.predict(test_data_gen)\n",
    "#testPredict.shape"
   ]
  },
  {
   "cell_type": "code",
   "execution_count": null,
   "metadata": {},
   "outputs": [],
   "source": [
    "def predict_func(train_data_gen,test_data_gen):    \n",
    "    trainPredict = model.predict(train_data_gen)\n",
    "    testPredict = model.predict(test_data_gen)\n",
    "\n",
    "    y_hat_train = pd.Series(trainPredict.flatten(),index=train.index[look_back:])\n",
    "    len(y_hat_train)\n",
    "    y_hat_test = pd.Series(testPredict.flatten(),index=test.index[look_back:])\n",
    "    len(y_hat_test)\n",
    "    y_train = get_y_from_df(train_scaled_df,look_back)\n",
    "    y_test = get_y_from_df(test_scaled_df,look_back)\n",
    "    \n",
    "    \n",
    "    return y_train, y_test,y_hat_train, y_hat_test "
   ]
  },
  {
   "cell_type": "code",
   "execution_count": null,
   "metadata": {},
   "outputs": [],
   "source": [
    "y_train, y_test,y_hat_train, y_hat_test = predict_func(train_data_gen, test_data_gen)"
   ]
  },
  {
   "cell_type": "code",
   "execution_count": null,
   "metadata": {},
   "outputs": [],
   "source": [
    "multi['MRNA'].describe()"
   ]
  },
  {
   "cell_type": "code",
   "execution_count": null,
   "metadata": {},
   "outputs": [],
   "source": [
    "model_metrics(y_train, y_test,y_hat_train, y_hat_test)"
   ]
  },
  {
   "cell_type": "code",
   "execution_count": null,
   "metadata": {},
   "outputs": [],
   "source": [
    "inverse_plot(train, y_test, y_hat_test, col='MRNA')"
   ]
  },
  {
   "cell_type": "markdown",
   "metadata": {},
   "source": [
    "#### LSTM / Multi /JNJ"
   ]
  },
  {
   "cell_type": "code",
   "execution_count": null,
   "metadata": {},
   "outputs": [],
   "source": [
    "train_data_gen,val_data_gen,test_data_gen, ex_X,ex_y = generator_function(train_scaled_df, val_scaled_df,\n",
    "                                                               test_scaled_df, col='JNJ')"
   ]
  },
  {
   "cell_type": "code",
   "execution_count": null,
   "metadata": {},
   "outputs": [],
   "source": [
    "model = Sequential()\n",
    "\n",
    "model.add(LSTM(units = 50, return_sequences = True, input_shape=sample.shape))\n",
    "model.add(Dropout(0.2))\n",
    "\n",
    "model.add(LSTM(units = 50, return_sequences = True))\n",
    "model.add(Dropout(0.2))\n",
    "\n",
    "model.add(LSTM(units = 50, return_sequences = False))\n",
    "model.add(Dropout(0.2))\n",
    "\n",
    "model.add(Dense(units = 25))\n",
    "model.add(Dense(units = 1))\n",
    "\n",
    "model.compile(optimizer = 'adam', loss = 'mean_squared_error')\n",
    "\n",
    "model.summary()    "
   ]
  },
  {
   "cell_type": "code",
   "execution_count": null,
   "metadata": {},
   "outputs": [],
   "source": [
    "early_stop = EarlyStopping(monitor='val_loss', patience=10,verbose=True)\n",
    "hist3 = model.fit(train_data_gen, epochs=25,validation_data=val_data_gen,callbacks=[early_stop])"
   ]
  },
  {
   "cell_type": "code",
   "execution_count": null,
   "metadata": {},
   "outputs": [],
   "source": [
    "loss_plot(hist3)"
   ]
  },
  {
   "cell_type": "code",
   "execution_count": null,
   "metadata": {},
   "outputs": [],
   "source": [
    "y_train, y_test,y_hat_train, y_hat_test = predict_func(train_data_gen, test_data_gen)"
   ]
  },
  {
   "cell_type": "code",
   "execution_count": null,
   "metadata": {},
   "outputs": [],
   "source": [
    "multi['JNJ'].describe()"
   ]
  },
  {
   "cell_type": "code",
   "execution_count": null,
   "metadata": {},
   "outputs": [],
   "source": [
    "model_metrics(y_train, y_test,y_hat_train, y_hat_test)"
   ]
  },
  {
   "cell_type": "code",
   "execution_count": null,
   "metadata": {},
   "outputs": [],
   "source": [
    "# unprecendetend\n",
    "inverse_plot(train, y_test, y_hat_test, col='JNJ')"
   ]
  },
  {
   "cell_type": "markdown",
   "metadata": {},
   "source": [
    "#### LSTM / Multi / BNTX"
   ]
  },
  {
   "cell_type": "code",
   "execution_count": null,
   "metadata": {},
   "outputs": [],
   "source": [
    "train_data_gen,val_data_gen,test_data_gen, ex_X,ex_y = generator_function(train_scaled_df, val_scaled_df,\n",
    "                                                               test_scaled_df, col='BNTX')"
   ]
  },
  {
   "cell_type": "code",
   "execution_count": null,
   "metadata": {},
   "outputs": [],
   "source": [
    "model = Sequential()\n",
    "\n",
    "model.add(LSTM(units = 50, return_sequences = True, input_shape=sample.shape))\n",
    "model.add(Dropout(0.2))\n",
    "\n",
    "model.add(LSTM(units = 50, return_sequences = True))\n",
    "model.add(Dropout(0.2))\n",
    "\n",
    "model.add(LSTM(units = 50, return_sequences = False))\n",
    "model.add(Dropout(0.2))\n",
    "\n",
    "model.add(Dense(units = 25))\n",
    "model.add(Dense(units = 1))\n",
    "\n",
    "model.compile(optimizer = 'adam', loss = 'mean_squared_error')\n",
    "\n",
    "model.summary()    "
   ]
  },
  {
   "cell_type": "code",
   "execution_count": null,
   "metadata": {},
   "outputs": [],
   "source": [
    "early_stop = EarlyStopping(monitor='val_loss', patience=10,verbose=True)\n",
    "hist4 = model.fit(train_data_gen, epochs=25,validation_data=val_data_gen,callbacks=[early_stop])"
   ]
  },
  {
   "cell_type": "code",
   "execution_count": null,
   "metadata": {},
   "outputs": [],
   "source": [
    "loss_plot(hist4)"
   ]
  },
  {
   "cell_type": "code",
   "execution_count": null,
   "metadata": {},
   "outputs": [],
   "source": [
    "y_train, y_test,y_hat_train, y_hat_test = predict_func(train_data_gen, test_data_gen)"
   ]
  },
  {
   "cell_type": "code",
   "execution_count": null,
   "metadata": {},
   "outputs": [],
   "source": [
    "multi['BNTX'].describe()"
   ]
  },
  {
   "cell_type": "code",
   "execution_count": null,
   "metadata": {},
   "outputs": [],
   "source": [
    "model_metrics(y_train, y_test,y_hat_train, y_hat_test)"
   ]
  },
  {
   "cell_type": "code",
   "execution_count": null,
   "metadata": {},
   "outputs": [],
   "source": [
    "inverse_plot(train, y_test, y_hat_test, col='BNTX')"
   ]
  },
  {
   "cell_type": "markdown",
   "metadata": {},
   "source": [
    "#### LSTM / Multi / AZN"
   ]
  },
  {
   "cell_type": "code",
   "execution_count": null,
   "metadata": {},
   "outputs": [],
   "source": [
    "train_data_gen,val_data_gen,test_data_gen, ex_X,ex_y = generator_function(train_scaled_df, val_scaled_df,\n",
    "                                                               test_scaled_df, col='AZN')"
   ]
  },
  {
   "cell_type": "code",
   "execution_count": null,
   "metadata": {},
   "outputs": [],
   "source": [
    "model = Sequential()\n",
    "\n",
    "model.add(LSTM(units = 50, return_sequences = True, input_shape=sample.shape))\n",
    "model.add(Dropout(0.2))\n",
    "\n",
    "model.add(LSTM(units = 50, return_sequences = True))\n",
    "model.add(Dropout(0.2))\n",
    "\n",
    "model.add(LSTM(units = 50, return_sequences = False))\n",
    "model.add(Dropout(0.2))\n",
    "\n",
    "model.add(Dense(units = 25))\n",
    "model.add(Dense(units = 1))\n",
    "\n",
    "model.compile(optimizer = 'adam', loss = 'mean_squared_error')\n",
    "\n",
    "model.summary()    "
   ]
  },
  {
   "cell_type": "code",
   "execution_count": null,
   "metadata": {},
   "outputs": [],
   "source": [
    "early_stop = EarlyStopping(monitor='val_loss', patience=10,verbose=True)\n",
    "hist5 = model.fit(train_data_gen, epochs=25,validation_data=val_data_gen,callbacks=[early_stop])"
   ]
  },
  {
   "cell_type": "code",
   "execution_count": null,
   "metadata": {},
   "outputs": [],
   "source": [
    "loss_plot(hist5)"
   ]
  },
  {
   "cell_type": "code",
   "execution_count": null,
   "metadata": {},
   "outputs": [],
   "source": [
    "y_train, y_test,y_hat_train, y_hat_test = predict_func(train_data_gen, test_data_gen)"
   ]
  },
  {
   "cell_type": "code",
   "execution_count": null,
   "metadata": {},
   "outputs": [],
   "source": [
    "multi['AZN'].describe()"
   ]
  },
  {
   "cell_type": "code",
   "execution_count": null,
   "metadata": {},
   "outputs": [],
   "source": [
    "inverse_plot(train, y_test, y_hat_test, col='AZN')"
   ]
  },
  {
   "cell_type": "code",
   "execution_count": null,
   "metadata": {},
   "outputs": [],
   "source": [
    "data = {'Volatility':['High', 'Low', 'High', 'Low','High',\"Low\"],\n",
    "        'Min':[3.690,25.699,  13.930,         108.2136,   12.750, 36.779],\n",
    "        'Max':[319.929, 41.691, 186.020,     169.4235, 208.899,59.466],\n",
    "        'Mean':[88.549,32.999 ,75.152 ,    145.426,   70.957,49.690],\n",
    "        'RMSE':[27.96, 0.71, 24.04,       13.34,   22.84,7.17]}\n",
    "\n",
    "df = pd.DataFrame(data, index =['NVAX',\n",
    "                                'PFE',\n",
    "                                'MRNA',\n",
    "                                'JNJ',\n",
    "                                 'BNTX',\n",
    "                                 'AZN'])"
   ]
  },
  {
   "cell_type": "code",
   "execution_count": null,
   "metadata": {},
   "outputs": [],
   "source": [
    "df"
   ]
  },
  {
   "cell_type": "markdown",
   "metadata": {},
   "source": [
    "### LTSM / Single Stock"
   ]
  },
  {
   "cell_type": "code",
   "execution_count": null,
   "metadata": {},
   "outputs": [],
   "source": [
    "#df_single.to_csv('single_stock')\n",
    "\n",
    "# single = pd.read_csv('single_stock', parse_dates=True, index_col='Date')\n",
    "# single"
   ]
  },
  {
   "cell_type": "code",
   "execution_count": null,
   "metadata": {},
   "outputs": [],
   "source": [
    "# pfe_stock_data\n",
    "pfe_stock_data"
   ]
  },
  {
   "cell_type": "code",
   "execution_count": null,
   "metadata": {},
   "outputs": [],
   "source": [
    "def delta_time_series1(data,col=None):\n",
    "    data['Actual_Changes'] = data['Close'] - data['Close'].shift(1)\n",
    "    data['Percent_Chg'] = data[col].pct_change(1)\n",
    "    data['MA_50'] = data[col].rolling(50).mean()\n",
    "    data = data.dropna()\n",
    "    return data"
   ]
  },
  {
   "cell_type": "code",
   "execution_count": null,
   "metadata": {},
   "outputs": [],
   "source": [
    "single = delta_time_series1(pfe_stock_data, col='Adj Close')\n",
    "single"
   ]
  },
  {
   "cell_type": "code",
   "execution_count": null,
   "metadata": {},
   "outputs": [],
   "source": [
    "def get_y_from_df(train_scaled_df, look_back, col='Adj Close', ):\n",
    "    y = train_scaled_df[col].iloc[look_back: ]\n",
    "    return y"
   ]
  },
  {
   "cell_type": "code",
   "execution_count": null,
   "metadata": {},
   "outputs": [],
   "source": [
    "train_size = int(len(single) * 0.80)#0.67\n",
    "test_size = len(single) - train_size"
   ]
  },
  {
   "cell_type": "code",
   "execution_count": null,
   "metadata": {},
   "outputs": [],
   "source": [
    "def train_test_val(single_stock, date1='2020-09-11', date2='2020-11-01'):    \n",
    "    train = single_stock[:date1]#'2020-09-11'\n",
    "    val = single_stock[date1:date2]\n",
    "    test = single_stock[date2:] #2021-02-12\n",
    "    ax = train.plot(figsize=(12,8))\n",
    "    val.plot(ax=ax)\n",
    "    test.plot(ax=ax)\n",
    "    \n",
    "    return train, val, test"
   ]
  },
  {
   "cell_type": "code",
   "execution_count": null,
   "metadata": {},
   "outputs": [],
   "source": [
    "train, val, test= train_test_val(single)"
   ]
  },
  {
   "cell_type": "code",
   "execution_count": null,
   "metadata": {},
   "outputs": [],
   "source": [
    "def scale_function(train, test,val):\n",
    "    # normalize the dataset\n",
    "    scaler = MinMaxScaler(feature_range=(0, 1))\n",
    "    train_scaled = scaler.fit_transform(train)\n",
    "    test_scaled = scaler.transform(test)\n",
    "    val_scaled = scaler.transform(val)\n",
    "    \n",
    "    return scaler, train_scaled,test_scaled, val_scaled"
   ]
  },
  {
   "cell_type": "code",
   "execution_count": null,
   "metadata": {},
   "outputs": [],
   "source": [
    "scaler, train_scaled, test_scaled, val_scaled = scale_function(train,test,val)"
   ]
  },
  {
   "cell_type": "code",
   "execution_count": null,
   "metadata": {},
   "outputs": [],
   "source": [
    "train_scaled_df = pd.DataFrame(train_scaled, columns=train.columns, index=train.index)\n",
    "test_scaled_df = pd.DataFrame(test_scaled, columns=test.columns, index=test.index)\n",
    "val_scaled_df = pd.DataFrame(val_scaled, columns=val.columns, index=val.index)"
   ]
  },
  {
   "cell_type": "code",
   "execution_count": null,
   "metadata": {},
   "outputs": [],
   "source": [
    "train_scaled_df.shape, val_scaled_df.shape, test_scaled_df.shape"
   ]
  },
  {
   "cell_type": "code",
   "execution_count": null,
   "metadata": {},
   "outputs": [],
   "source": [
    "look_back = 3\n",
    "batch_size=3\n",
    "col_index = {v:k for k,v in enumerate(train_scaled_df.columns)}\n",
    "col_index"
   ]
  },
  {
   "cell_type": "code",
   "execution_count": null,
   "metadata": {},
   "outputs": [],
   "source": [
    "def generator_function(train_scaled_df, val_scaled_df, test_scaled_df, col=None):\n",
    "    train_data_gen = TimeseriesGenerator(train_scaled_df.values, train_scaled_df[col].values,\n",
    "                                   length=look_back, sampling_rate=1,stride=1,\n",
    "                                   batch_size=batch_size)\n",
    "\n",
    "    val_data_gen = TimeseriesGenerator(val_scaled_df.values, val_scaled_df[col].values,\n",
    "                                   length=look_back, sampling_rate=1,stride=1,\n",
    "                                   batch_size=batch_size)\n",
    "\n",
    "    test_data_gen = TimeseriesGenerator(test_scaled_df.values, test_scaled_df[col].values,\n",
    "                                   length=look_back, sampling_rate=1,stride=1,\n",
    "                                   batch_size=3)\n",
    "    \n",
    "    ex_X, ex_y = train_data_gen[0]\n",
    "    #ex_X.shape\n",
    "    \n",
    "    return train_data_gen,val_data_gen,test_data_gen, ex_X,ex_y"
   ]
  },
  {
   "cell_type": "code",
   "execution_count": null,
   "metadata": {},
   "outputs": [],
   "source": [
    "train_data_gen,val_data_gen,test_data_gen, ex_X,ex_y = generator_function(train_scaled_df, val_scaled_df,\n",
    "                                                               test_scaled_df, col='Adj Close')"
   ]
  },
  {
   "cell_type": "code",
   "execution_count": null,
   "metadata": {},
   "outputs": [],
   "source": [
    "sample = ex_X[0]\n",
    "sample.shape"
   ]
  },
  {
   "cell_type": "markdown",
   "metadata": {},
   "source": [
    "#### Build LSTM Model"
   ]
  },
  {
   "cell_type": "code",
   "execution_count": null,
   "metadata": {},
   "outputs": [],
   "source": [
    "model1 = Sequential()\n",
    "\n",
    "model1.add(LSTM(units = 50, return_sequences = True, input_shape=sample.shape))\n",
    "model1.add(Dropout(0.2))\n",
    "\n",
    "model1.add(LSTM(units = 50, return_sequences = True))\n",
    "model1.add(Dropout(0.2))\n",
    "\n",
    "model1.add(LSTM(units = 50, return_sequences = False))\n",
    "model1.add(Dropout(0.2))\n",
    "\n",
    "model1.add(Dense(units = 25,activation='relu'))\n",
    "model1.add(Dense(units = 1))\n",
    "\n",
    "model1.compile(optimizer = 'adam', loss = 'mean_squared_error')\n",
    "\n",
    "model1.summary()    "
   ]
  },
  {
   "cell_type": "code",
   "execution_count": null,
   "metadata": {},
   "outputs": [],
   "source": [
    "early_stop = EarlyStopping(monitor='val_loss', patience=10,verbose=True)\n",
    "# hist = model.fit(X_train,y_train, epochs=10,batch_size=32,callbacks=[early_stop],validation_split=0.1)     \n",
    "hist2 = model1.fit(train_data_gen, epochs=25,validation_data=val_data_gen,callbacks=[early_stop])"
   ]
  },
  {
   "cell_type": "code",
   "execution_count": null,
   "metadata": {},
   "outputs": [],
   "source": [
    "model1.evaluate(test_data_gen)"
   ]
  },
  {
   "cell_type": "markdown",
   "metadata": {},
   "source": [
    "#### Question 2 / Model 3"
   ]
  },
  {
   "cell_type": "code",
   "execution_count": null,
   "metadata": {},
   "outputs": [],
   "source": [
    "#pd.DataFrame(hist.history).plot()\n",
    "\n",
    "loss_plot(hist2)"
   ]
  },
  {
   "cell_type": "code",
   "execution_count": null,
   "metadata": {},
   "outputs": [],
   "source": [
    "trainPredict = model1.predict(train_data_gen)\n",
    "trainPredict.shape"
   ]
  },
  {
   "cell_type": "code",
   "execution_count": null,
   "metadata": {},
   "outputs": [],
   "source": [
    "testPredict = model1.predict(test_data_gen)\n",
    "testPredict.shape"
   ]
  },
  {
   "cell_type": "code",
   "execution_count": null,
   "metadata": {},
   "outputs": [],
   "source": [
    "y_hat_train = pd.Series(trainPredict.flatten(),index=train.index[look_back:])\n",
    "len(y_hat_train)"
   ]
  },
  {
   "cell_type": "code",
   "execution_count": null,
   "metadata": {},
   "outputs": [],
   "source": [
    "#y_hat_train = pd.Series(testPredict.\n",
    "y_hat_test = pd.Series(testPredict.flatten(),index=test.index[look_back:])\n",
    "y_hat_test.shape"
   ]
  },
  {
   "cell_type": "code",
   "execution_count": null,
   "metadata": {},
   "outputs": [],
   "source": [
    "train_scaled_df.shape, test_scaled_df.shape"
   ]
  },
  {
   "cell_type": "code",
   "execution_count": null,
   "metadata": {},
   "outputs": [],
   "source": [
    "y_train = get_y_from_df(train_scaled_df, look_back)\n",
    "y_test = get_y_from_df(test_scaled_df, look_back)\n",
    "y_train = get_y_from_df(train_scaled_df, look_back)\n",
    "y_val = get_y_from_df(val_scaled_df,look_back)"
   ]
  },
  {
   "cell_type": "code",
   "execution_count": null,
   "metadata": {},
   "outputs": [],
   "source": [
    "model_metrics(y_train, y_test,y_hat_train, y_hat_test)"
   ]
  },
  {
   "cell_type": "code",
   "execution_count": null,
   "metadata": {},
   "outputs": [],
   "source": [
    "single['Adj Close'].describe()"
   ]
  },
  {
   "cell_type": "markdown",
   "metadata": {},
   "source": [
    "#### Question 2 / Model 4"
   ]
  },
  {
   "cell_type": "code",
   "execution_count": null,
   "metadata": {},
   "outputs": [],
   "source": [
    "inverse_plot(train, y_test, y_hat_test, col='Adj Close')"
   ]
  },
  {
   "cell_type": "code",
   "execution_count": null,
   "metadata": {},
   "outputs": [],
   "source": [
    "#prediction_plot(y_train,y_test,y_val,y_hat_test)\n",
    "prediction_plot(y_train,y_test,y_val,y_hat_test)"
   ]
  },
  {
   "cell_type": "markdown",
   "metadata": {},
   "source": [
    "### LTSM and Technical Indicators"
   ]
  },
  {
   "cell_type": "markdown",
   "metadata": {},
   "source": [
    "#### Moving Average 50 Days"
   ]
  },
  {
   "cell_type": "code",
   "execution_count": null,
   "metadata": {},
   "outputs": [],
   "source": [
    "col_index['MA_50']"
   ]
  },
  {
   "cell_type": "code",
   "execution_count": null,
   "metadata": {},
   "outputs": [],
   "source": [
    "pfe_ma50 = single_plot(single, stock_value='MA_50', stock_symbol='PFE')\n",
    "pfe_ma50"
   ]
  },
  {
   "cell_type": "code",
   "execution_count": null,
   "metadata": {},
   "outputs": [],
   "source": [
    "single['MA_50'].describe()"
   ]
  },
  {
   "cell_type": "code",
   "execution_count": null,
   "metadata": {},
   "outputs": [],
   "source": [
    "train_data_gen,val_data_gen,test_data_gen, ex_X,ex_y = generator_function(train_scaled_df, val_scaled_df,\n",
    "                                                               test_scaled_df, col='MA_50')"
   ]
  },
  {
   "cell_type": "code",
   "execution_count": null,
   "metadata": {},
   "outputs": [],
   "source": [
    "sample = ex_X[0]\n",
    "sample.shape"
   ]
  },
  {
   "cell_type": "code",
   "execution_count": null,
   "metadata": {},
   "outputs": [],
   "source": [
    "model2 = Sequential()\n",
    "\n",
    "model2.add(LSTM(units = 50, return_sequences = True, input_shape=sample.shape))\n",
    "model2.add(Dropout(0.2))\n",
    "\n",
    "model2.add(LSTM(units = 50, return_sequences = True))\n",
    "model2.add(Dropout(0.2))\n",
    "\n",
    "model2.add(LSTM(units = 50, return_sequences = False))\n",
    "model2.add(Dropout(0.2))\n",
    "\n",
    "model2.add(Dense(units = 25))\n",
    "model2.add(Dense(units = 1))\n",
    "\n",
    "model2.compile(optimizer = 'adam', loss = 'mean_squared_error')\n",
    "\n",
    "model2.summary()    "
   ]
  },
  {
   "cell_type": "code",
   "execution_count": null,
   "metadata": {},
   "outputs": [],
   "source": [
    "early_stop = EarlyStopping(monitor='val_loss', patience=10,verbose=True)\n",
    "# hist = model.fit(X_train,y_train, epochs=10,batch_size=32,callbacks=[early_stop],validation_split=0.1)     \n",
    "hist3 = model2.fit(train_data_gen, epochs=50,validation_data=val_data_gen,callbacks=[early_stop])"
   ]
  },
  {
   "cell_type": "code",
   "execution_count": null,
   "metadata": {},
   "outputs": [],
   "source": [
    "model2.evaluate(test_data_gen)"
   ]
  },
  {
   "cell_type": "markdown",
   "metadata": {},
   "source": [
    "#### Question 3 / Model 1"
   ]
  },
  {
   "cell_type": "code",
   "execution_count": null,
   "metadata": {},
   "outputs": [],
   "source": [
    "#pd.DataFrame(hist.history).plot()\n",
    "loss_plot(hist3)"
   ]
  },
  {
   "cell_type": "code",
   "execution_count": null,
   "metadata": {},
   "outputs": [],
   "source": [
    "def get_y_from_df(train_scaled_df, look_back, col='MA_50'):\n",
    "    y = train_scaled_df[col].iloc[look_back: ]\n",
    "    return y"
   ]
  },
  {
   "cell_type": "code",
   "execution_count": null,
   "metadata": {},
   "outputs": [],
   "source": [
    "trainPredict = model2.predict(train_data_gen)\n",
    "#trainPredict.shape\n",
    "testPredict = model2.predict(test_data_gen)\n",
    "#testPredict.shape\n",
    "y_hat_train = pd.Series(trainPredict.flatten(),index=train_scaled_df.index[look_back:])\n",
    "y_hat_test = pd.Series(testPredict.flatten(),index=test_scaled_df.index[look_back:])\n",
    "\n",
    "y_train = get_y_from_df(train_scaled_df,look_back)\n",
    "y_test = get_y_from_df(test_scaled_df,look_back)\n",
    "y_train = get_y_from_df(train_scaled_df,look_back)\n",
    "y_val = get_y_from_df(val_scaled_df,look_back)"
   ]
  },
  {
   "cell_type": "code",
   "execution_count": null,
   "metadata": {},
   "outputs": [],
   "source": [
    "model_metrics(y_train, y_test,y_hat_train, y_hat_test)"
   ]
  },
  {
   "cell_type": "code",
   "execution_count": null,
   "metadata": {},
   "outputs": [],
   "source": [
    "single['MA_50'].describe()"
   ]
  },
  {
   "cell_type": "markdown",
   "metadata": {},
   "source": [
    "#### Question 3 / Model 2"
   ]
  },
  {
   "cell_type": "code",
   "execution_count": null,
   "metadata": {},
   "outputs": [],
   "source": [
    "inverse_plot(train, y_test, y_hat_test, col='MA_50')"
   ]
  },
  {
   "cell_type": "code",
   "execution_count": null,
   "metadata": {},
   "outputs": [],
   "source": [
    "prediction_plot(y_train,y_test,y_val,y_hat_test)"
   ]
  },
  {
   "cell_type": "markdown",
   "metadata": {},
   "source": [
    "### Actual_Changes"
   ]
  },
  {
   "cell_type": "code",
   "execution_count": null,
   "metadata": {},
   "outputs": [],
   "source": [
    "#dollar amount change\n",
    "train_data_gen,val_data_gen,test_data_gen, ex_X,ex_y = generator_function(train_scaled_df, val_scaled_df,\n",
    "                                                               test_scaled_df, col='Actual_Changes')"
   ]
  },
  {
   "cell_type": "code",
   "execution_count": null,
   "metadata": {},
   "outputs": [],
   "source": [
    "model3 = Sequential()\n",
    "\n",
    "model3.add(LSTM(units = 50, return_sequences = True, input_shape=sample.shape))\n",
    "model3.add(Dropout(0.2))\n",
    "\n",
    "model3.add(LSTM(units = 50, return_sequences = True))\n",
    "model3.add(Dropout(0.2))\n",
    "\n",
    "model3.add(LSTM(units = 50, return_sequences = False))\n",
    "model3.add(Dropout(0.2))\n",
    "\n",
    "model3.add(Dense(units = 25, activation='relu'))\n",
    "model3.add(Dense(units = 1))\n",
    "\n",
    "model3.compile(optimizer = 'adam', loss = 'mean_squared_error')\n",
    "\n",
    "model3.summary()    "
   ]
  },
  {
   "cell_type": "code",
   "execution_count": null,
   "metadata": {},
   "outputs": [],
   "source": [
    "hist4 = model3.fit(train_data_gen, epochs=50,validation_data=val_data_gen,\n",
    "                           callbacks=[early_stop])"
   ]
  },
  {
   "cell_type": "code",
   "execution_count": null,
   "metadata": {},
   "outputs": [],
   "source": [
    "model3.evaluate(test_data_gen)"
   ]
  },
  {
   "cell_type": "markdown",
   "metadata": {},
   "source": [
    "#### Question 3 / Model 3"
   ]
  },
  {
   "cell_type": "code",
   "execution_count": null,
   "metadata": {},
   "outputs": [],
   "source": [
    "#pd.DataFrame(hist.history).plot()\n",
    "loss_plot(hist4)"
   ]
  },
  {
   "cell_type": "code",
   "execution_count": null,
   "metadata": {},
   "outputs": [],
   "source": [
    "def get_y_from_df(train_scaled_df, look_back, col='Actual_Changes'):\n",
    "    y = train_scaled_df[col].iloc[look_back: ]\n",
    "    return y"
   ]
  },
  {
   "cell_type": "code",
   "execution_count": null,
   "metadata": {},
   "outputs": [],
   "source": [
    "trainPredict = model3.predict(train_data_gen) #predict_generator\n",
    "#trainPredict.shape\n",
    "testPredict = model3.predict(test_data_gen) #predict_generator\n",
    "#testPredict.shape\n",
    "y_hat_train = pd.Series(trainPredict.flatten(),index=train_scaled_df.index[look_back:])\n",
    "y_hat_test = pd.Series(testPredict.flatten(),index=test_scaled_df.index[look_back:])\n",
    "\n",
    "y_train = get_y_from_df(train_scaled_df,look_back)\n",
    "y_test = get_y_from_df(test_scaled_df,look_back)\n",
    "#y_train = get_y_from_df(train_scaled_df,look_back)\n",
    "y_val = get_y_from_df(val_scaled_df,look_back)"
   ]
  },
  {
   "cell_type": "code",
   "execution_count": null,
   "metadata": {},
   "outputs": [],
   "source": [
    "model_metrics(y_train,y_test, y_hat_train,y_hat_test)"
   ]
  },
  {
   "cell_type": "code",
   "execution_count": null,
   "metadata": {},
   "outputs": [],
   "source": [
    "single['Actual_Changes'].describe()"
   ]
  },
  {
   "cell_type": "markdown",
   "metadata": {},
   "source": [
    "#### Question 3 / Model 4"
   ]
  },
  {
   "cell_type": "code",
   "execution_count": null,
   "metadata": {},
   "outputs": [],
   "source": [
    "inverse_plot(train, y_test, y_hat_test, col='Actual_Changes')"
   ]
  },
  {
   "cell_type": "code",
   "execution_count": null,
   "metadata": {},
   "outputs": [],
   "source": [
    "prediction_plot(y_train,y_test,y_val,y_hat_test)"
   ]
  },
  {
   "cell_type": "code",
   "execution_count": null,
   "metadata": {},
   "outputs": [],
   "source": [
    "data = {\n",
    "        \n",
    "        'RMSE':[0.39, 0.56 ]}\n",
    "\n",
    "df_1 = pd.DataFrame(data, index =['MA_50',\n",
    "                                  'Actual_Changes'])"
   ]
  },
  {
   "cell_type": "code",
   "execution_count": null,
   "metadata": {},
   "outputs": [],
   "source": [
    "df_1"
   ]
  },
  {
   "cell_type": "code",
   "execution_count": null,
   "metadata": {},
   "outputs": [],
   "source": [
    "df"
   ]
  },
  {
   "cell_type": "markdown",
   "metadata": {},
   "source": [
    "### Conclusion / LSTM\n",
    "This first part of this section deals with LSTM models and the 6 pharmaceutical stocks.  The data consists of the Adj Close price for each stock.  The second part I used the PFE stock with the columns 'MA_50' and 'Actual_Changes'.  Overall the models performed pretty well. The stocks performed well. As expected the stocks that were highly volatile didn't perform as well as those with low volatility stocks but that is expected given their price histories. <br>"
   ]
  },
  {
   "cell_type": "code",
   "execution_count": null,
   "metadata": {},
   "outputs": [],
   "source": []
  }
 ],
 "metadata": {
  "kernelspec": {
   "display_name": "Python 3",
   "language": "python",
   "name": "python3"
  },
  "language_info": {
   "codemirror_mode": {
    "name": "ipython",
    "version": 3
   },
   "file_extension": ".py",
   "mimetype": "text/x-python",
   "name": "python",
   "nbconvert_exporter": "python",
   "pygments_lexer": "ipython3",
   "version": "3.6.9"
  },
  "toc": {
   "base_numbering": 1,
   "nav_menu": {},
   "number_sections": true,
   "sideBar": true,
   "skip_h1_title": false,
   "title_cell": "Table of Contents",
   "title_sidebar": "Contents",
   "toc_cell": false,
   "toc_position": {
    "height": "calc(100% - 180px)",
    "left": "10px",
    "top": "150px",
    "width": "273.188px"
   },
   "toc_section_display": true,
   "toc_window_display": false
  }
 },
 "nbformat": 4,
 "nbformat_minor": 4
}
