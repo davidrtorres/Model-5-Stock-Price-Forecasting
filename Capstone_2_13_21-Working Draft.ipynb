{
 "cells": [
  {
   "cell_type": "code",
   "execution_count": 80,
   "metadata": {},
   "outputs": [],
   "source": [
    "import pandas as pd\n",
    "import numpy as np\n",
    "import matplotlib.pyplot as plt\n",
    "%matplotlib inline\n",
    "\n",
    "from sklearn.preprocessing import MinMaxScaler\n",
    "\n",
    "import math\n",
    "\n",
    "import plotly.express as px\n",
    "\n",
    "import pandas_datareader.data as web\n",
    "\n",
    "from keras.callbacks import EarlyStopping\n",
    "\n",
    "import keras\n",
    "from keras.models import load_model\n",
    "from keras.preprocessing.sequence import TimeseriesGenerator\n",
    "#from tensorflow import keras\n",
    "from keras.models import Sequential\n",
    "from keras.layers import Dense\n",
    "from keras.layers import LSTM\n",
    "from keras.layers import Dropout\n",
    "\n",
    "from sklearn.metrics import mean_squared_error"
   ]
  },
  {
   "cell_type": "code",
   "execution_count": 81,
   "metadata": {},
   "outputs": [],
   "source": [
    "from datetime import date\n",
    "today = date.today()\n",
    "def multiple_stock_data(ticker=None, start=None, end=None, plot=True, stock_value=None):\n",
    "    \n",
    "    try:\n",
    "        #stock = pdr.get_data_yahoo(ticker,start,end)\n",
    "        data = {}\n",
    "        for stock in ticker:\n",
    "            data = web.DataReader(stock,'yahoo',start,end)[stock_value]\n",
    "        df_1 = pd.DataFrame(data)#.reset_index()\n",
    "        if plot==True:\n",
    "            df_1.plot(figsize=(12,8))\n",
    "            plt.title(\"Stock Adjusted Price Historical Data\")\n",
    "            plt.xlabel('Dates')\n",
    "            plt.ylabel('Stock Prices')\n",
    "            plt.legend(bbox_to_anchor=(1.05,1),loc='upper left') \n",
    "        \n",
    "        return df_1\n",
    "     \n",
    "    except Exception as e:\n",
    "        print(\"Error occured:\", e)\n",
    "        #data = 'Incorrect Symbol'\n"
   ]
  },
  {
   "cell_type": "code",
   "execution_count": 82,
   "metadata": {},
   "outputs": [],
   "source": [
    "# multi_stock_data = multiple_stock_data(ticker=[['PFE','JNJ','NVAX','MRNA','AZN','BNTX']], start='2017',end='today',plot=True, stock_value='Adj Close')\n",
    "# multi_stock_data;"
   ]
  },
  {
   "cell_type": "code",
   "execution_count": 83,
   "metadata": {},
   "outputs": [],
   "source": [
    "multi_stock_data.to_csv('multi_pharm_data')"
   ]
  },
  {
   "cell_type": "code",
   "execution_count": 84,
   "metadata": {},
   "outputs": [
    {
     "data": {
      "text/html": [
       "<div>\n",
       "<style scoped>\n",
       "    .dataframe tbody tr th:only-of-type {\n",
       "        vertical-align: middle;\n",
       "    }\n",
       "\n",
       "    .dataframe tbody tr th {\n",
       "        vertical-align: top;\n",
       "    }\n",
       "\n",
       "    .dataframe thead th {\n",
       "        text-align: right;\n",
       "    }\n",
       "</style>\n",
       "<table border=\"1\" class=\"dataframe\">\n",
       "  <thead>\n",
       "    <tr style=\"text-align: right;\">\n",
       "      <th></th>\n",
       "      <th>PFE</th>\n",
       "      <th>JNJ</th>\n",
       "      <th>NVAX</th>\n",
       "      <th>MRNA</th>\n",
       "      <th>AZN</th>\n",
       "      <th>BNTX</th>\n",
       "    </tr>\n",
       "    <tr>\n",
       "      <th>Date</th>\n",
       "      <th></th>\n",
       "      <th></th>\n",
       "      <th></th>\n",
       "      <th></th>\n",
       "      <th></th>\n",
       "      <th></th>\n",
       "    </tr>\n",
       "  </thead>\n",
       "  <tbody>\n",
       "    <tr>\n",
       "      <th>2017-01-03</th>\n",
       "      <td>26.653324</td>\n",
       "      <td>104.081535</td>\n",
       "      <td>25.400000</td>\n",
       "      <td>NaN</td>\n",
       "      <td>23.886580</td>\n",
       "      <td>NaN</td>\n",
       "    </tr>\n",
       "    <tr>\n",
       "      <th>2017-01-04</th>\n",
       "      <td>26.887548</td>\n",
       "      <td>103.910828</td>\n",
       "      <td>26.200001</td>\n",
       "      <td>NaN</td>\n",
       "      <td>24.076221</td>\n",
       "      <td>NaN</td>\n",
       "    </tr>\n",
       "    <tr>\n",
       "      <th>2017-01-05</th>\n",
       "      <td>27.146002</td>\n",
       "      <td>104.998009</td>\n",
       "      <td>26.400000</td>\n",
       "      <td>NaN</td>\n",
       "      <td>24.731359</td>\n",
       "      <td>NaN</td>\n",
       "    </tr>\n",
       "    <tr>\n",
       "      <th>2017-01-06</th>\n",
       "      <td>27.041008</td>\n",
       "      <td>104.494850</td>\n",
       "      <td>27.400000</td>\n",
       "      <td>NaN</td>\n",
       "      <td>24.507233</td>\n",
       "      <td>NaN</td>\n",
       "    </tr>\n",
       "    <tr>\n",
       "      <th>2017-01-09</th>\n",
       "      <td>27.032928</td>\n",
       "      <td>104.476868</td>\n",
       "      <td>28.400000</td>\n",
       "      <td>NaN</td>\n",
       "      <td>24.593435</td>\n",
       "      <td>NaN</td>\n",
       "    </tr>\n",
       "    <tr>\n",
       "      <th>...</th>\n",
       "      <td>...</td>\n",
       "      <td>...</td>\n",
       "      <td>...</td>\n",
       "      <td>...</td>\n",
       "      <td>...</td>\n",
       "      <td>...</td>\n",
       "    </tr>\n",
       "    <tr>\n",
       "      <th>2021-02-08</th>\n",
       "      <td>34.820000</td>\n",
       "      <td>164.919998</td>\n",
       "      <td>319.929993</td>\n",
       "      <td>185.979996</td>\n",
       "      <td>50.060001</td>\n",
       "      <td>119.500000</td>\n",
       "    </tr>\n",
       "    <tr>\n",
       "      <th>2021-02-09</th>\n",
       "      <td>34.970001</td>\n",
       "      <td>166.270004</td>\n",
       "      <td>315.869995</td>\n",
       "      <td>179.520004</td>\n",
       "      <td>50.410000</td>\n",
       "      <td>117.529999</td>\n",
       "    </tr>\n",
       "    <tr>\n",
       "      <th>2021-02-10</th>\n",
       "      <td>34.740002</td>\n",
       "      <td>166.809998</td>\n",
       "      <td>298.359985</td>\n",
       "      <td>179.339996</td>\n",
       "      <td>49.970001</td>\n",
       "      <td>119.349998</td>\n",
       "    </tr>\n",
       "    <tr>\n",
       "      <th>2021-02-11</th>\n",
       "      <td>34.430000</td>\n",
       "      <td>166.059998</td>\n",
       "      <td>298.260010</td>\n",
       "      <td>183.440002</td>\n",
       "      <td>50.090000</td>\n",
       "      <td>118.029999</td>\n",
       "    </tr>\n",
       "    <tr>\n",
       "      <th>2021-02-12</th>\n",
       "      <td>34.720001</td>\n",
       "      <td>166.580002</td>\n",
       "      <td>289.760010</td>\n",
       "      <td>183.740005</td>\n",
       "      <td>51.689999</td>\n",
       "      <td>117.559998</td>\n",
       "    </tr>\n",
       "  </tbody>\n",
       "</table>\n",
       "<p>1036 rows × 6 columns</p>\n",
       "</div>"
      ],
      "text/plain": [
       "                  PFE         JNJ        NVAX        MRNA        AZN  \\\n",
       "Date                                                                   \n",
       "2017-01-03  26.653324  104.081535   25.400000         NaN  23.886580   \n",
       "2017-01-04  26.887548  103.910828   26.200001         NaN  24.076221   \n",
       "2017-01-05  27.146002  104.998009   26.400000         NaN  24.731359   \n",
       "2017-01-06  27.041008  104.494850   27.400000         NaN  24.507233   \n",
       "2017-01-09  27.032928  104.476868   28.400000         NaN  24.593435   \n",
       "...               ...         ...         ...         ...        ...   \n",
       "2021-02-08  34.820000  164.919998  319.929993  185.979996  50.060001   \n",
       "2021-02-09  34.970001  166.270004  315.869995  179.520004  50.410000   \n",
       "2021-02-10  34.740002  166.809998  298.359985  179.339996  49.970001   \n",
       "2021-02-11  34.430000  166.059998  298.260010  183.440002  50.090000   \n",
       "2021-02-12  34.720001  166.580002  289.760010  183.740005  51.689999   \n",
       "\n",
       "                  BNTX  \n",
       "Date                    \n",
       "2017-01-03         NaN  \n",
       "2017-01-04         NaN  \n",
       "2017-01-05         NaN  \n",
       "2017-01-06         NaN  \n",
       "2017-01-09         NaN  \n",
       "...                ...  \n",
       "2021-02-08  119.500000  \n",
       "2021-02-09  117.529999  \n",
       "2021-02-10  119.349998  \n",
       "2021-02-11  118.029999  \n",
       "2021-02-12  117.559998  \n",
       "\n",
       "[1036 rows x 6 columns]"
      ]
     },
     "execution_count": 84,
     "metadata": {},
     "output_type": "execute_result"
    }
   ],
   "source": [
    "multi_stocks = pd.read_csv('multi_pharm_data', parse_dates=True, index_col='Date')\n",
    "multi_stocks"
   ]
  },
  {
   "cell_type": "code",
   "execution_count": 85,
   "metadata": {},
   "outputs": [],
   "source": [
    "def get_plot(df, stock_value=None):\n",
    "    #plt.figure(figsize=(12,8))\n",
    "    df.plot(figsize=(12,8))\n",
    "    label_font = {'weight':'bold','size':18}\n",
    "    plt.xlabel('Date',fontdict=label_font)\n",
    "    plt.ylabel('Close Price USD ($)',fontdict=label_font)\n",
    "    plt.title(f'Historical {stock_value} Price',fontdict=label_font)\n",
    "            #plot = go.Scatter(x=df_single.index, y=df_single['Adj Close'])\n",
    "            \n",
    "    return df\n",
    "    "
   ]
  },
  {
   "cell_type": "code",
   "execution_count": null,
   "metadata": {},
   "outputs": [],
   "source": []
  },
  {
   "cell_type": "code",
   "execution_count": 86,
   "metadata": {},
   "outputs": [],
   "source": [
    "def single_stock_data(symbol, start,end=None,plot=True,stock_value='Adj Close'):\n",
    "    \n",
    "    try:\n",
    "        \n",
    "        df = web.DataReader(symbol,'yahoo', start, end)\n",
    "        df_single = pd.DataFrame(df)\n",
    "        print(\"Dataframe has {} rows and {} columns\".format(df_single.shape[0],df_single.shape[1]))\n",
    "        print()\n",
    "        if plot==True:\n",
    "            plt.figure(figsize=(12,8))\n",
    "            plt.plot(df_single[stock_value])\n",
    "            label_font = {'weight':'bold','size':18}\n",
    "            plt.xlabel('Date',fontdict=label_font)\n",
    "            plt.ylabel('Close Price USD ($)',fontdict=label_font)\n",
    "            plt.title(f'Historical {stock_value} Price for {symbol}',fontdict=label_font)\n",
    "            #plot = go.Scatter(x=df_single.index, y=df_single['Adj Close'])\n",
    "            \n",
    "        return df_single\n",
    "\n",
    "    except Exception as e:\n",
    "        print(\"Error occured:\", e)\n",
    "        #data = 'Incorrect Symbol'\n"
   ]
  },
  {
   "cell_type": "markdown",
   "metadata": {},
   "source": [
    "## Technical Indicators\n",
    "What are technical indicators and how are they relevant to stock trading?  Technical indicators are heuristic or pattern-based signals produced by the price, volume, and/or open interest of a stock which are used by traders who follow technical analysis. https://www.investopedia.com/terms/t/technicalindicator.asp<br>In otherwords, by analyzing historical data, analysts can use indicators to predict future price movements and decide when to enter and exit markets.<br>\n",
    "I will discuss popular technical indicators that are used in the markets to study price movements:\n",
    "\n",
    "1. Moving Average (MA)\n",
    "2. Ease of Movement (EVM)\n",
    "3. Rate of Change (ROC)"
   ]
  },
  {
   "cell_type": "markdown",
   "metadata": {},
   "source": [
    "### Simple Daily Return"
   ]
  },
  {
   "cell_type": "code",
   "execution_count": 87,
   "metadata": {},
   "outputs": [
    {
     "data": {
      "text/html": [
       "<div>\n",
       "<style scoped>\n",
       "    .dataframe tbody tr th:only-of-type {\n",
       "        vertical-align: middle;\n",
       "    }\n",
       "\n",
       "    .dataframe tbody tr th {\n",
       "        vertical-align: top;\n",
       "    }\n",
       "\n",
       "    .dataframe thead th {\n",
       "        text-align: right;\n",
       "    }\n",
       "</style>\n",
       "<table border=\"1\" class=\"dataframe\">\n",
       "  <thead>\n",
       "    <tr style=\"text-align: right;\">\n",
       "      <th></th>\n",
       "      <th>PFE</th>\n",
       "      <th>JNJ</th>\n",
       "      <th>NVAX</th>\n",
       "      <th>MRNA</th>\n",
       "      <th>AZN</th>\n",
       "      <th>BNTX</th>\n",
       "    </tr>\n",
       "    <tr>\n",
       "      <th>Date</th>\n",
       "      <th></th>\n",
       "      <th></th>\n",
       "      <th></th>\n",
       "      <th></th>\n",
       "      <th></th>\n",
       "      <th></th>\n",
       "    </tr>\n",
       "  </thead>\n",
       "  <tbody>\n",
       "    <tr>\n",
       "      <th>2017-01-03</th>\n",
       "      <td>26.653324</td>\n",
       "      <td>104.081535</td>\n",
       "      <td>25.400000</td>\n",
       "      <td>NaN</td>\n",
       "      <td>23.886580</td>\n",
       "      <td>NaN</td>\n",
       "    </tr>\n",
       "    <tr>\n",
       "      <th>2017-01-04</th>\n",
       "      <td>26.887548</td>\n",
       "      <td>103.910828</td>\n",
       "      <td>26.200001</td>\n",
       "      <td>NaN</td>\n",
       "      <td>24.076221</td>\n",
       "      <td>NaN</td>\n",
       "    </tr>\n",
       "    <tr>\n",
       "      <th>2017-01-05</th>\n",
       "      <td>27.146002</td>\n",
       "      <td>104.998009</td>\n",
       "      <td>26.400000</td>\n",
       "      <td>NaN</td>\n",
       "      <td>24.731359</td>\n",
       "      <td>NaN</td>\n",
       "    </tr>\n",
       "    <tr>\n",
       "      <th>2017-01-06</th>\n",
       "      <td>27.041008</td>\n",
       "      <td>104.494850</td>\n",
       "      <td>27.400000</td>\n",
       "      <td>NaN</td>\n",
       "      <td>24.507233</td>\n",
       "      <td>NaN</td>\n",
       "    </tr>\n",
       "    <tr>\n",
       "      <th>2017-01-09</th>\n",
       "      <td>27.032928</td>\n",
       "      <td>104.476868</td>\n",
       "      <td>28.400000</td>\n",
       "      <td>NaN</td>\n",
       "      <td>24.593435</td>\n",
       "      <td>NaN</td>\n",
       "    </tr>\n",
       "    <tr>\n",
       "      <th>...</th>\n",
       "      <td>...</td>\n",
       "      <td>...</td>\n",
       "      <td>...</td>\n",
       "      <td>...</td>\n",
       "      <td>...</td>\n",
       "      <td>...</td>\n",
       "    </tr>\n",
       "    <tr>\n",
       "      <th>2021-02-08</th>\n",
       "      <td>34.820000</td>\n",
       "      <td>164.919998</td>\n",
       "      <td>319.929993</td>\n",
       "      <td>185.979996</td>\n",
       "      <td>50.060001</td>\n",
       "      <td>119.500000</td>\n",
       "    </tr>\n",
       "    <tr>\n",
       "      <th>2021-02-09</th>\n",
       "      <td>34.970001</td>\n",
       "      <td>166.270004</td>\n",
       "      <td>315.869995</td>\n",
       "      <td>179.520004</td>\n",
       "      <td>50.410000</td>\n",
       "      <td>117.529999</td>\n",
       "    </tr>\n",
       "    <tr>\n",
       "      <th>2021-02-10</th>\n",
       "      <td>34.740002</td>\n",
       "      <td>166.809998</td>\n",
       "      <td>298.359985</td>\n",
       "      <td>179.339996</td>\n",
       "      <td>49.970001</td>\n",
       "      <td>119.349998</td>\n",
       "    </tr>\n",
       "    <tr>\n",
       "      <th>2021-02-11</th>\n",
       "      <td>34.430000</td>\n",
       "      <td>166.059998</td>\n",
       "      <td>298.260010</td>\n",
       "      <td>183.440002</td>\n",
       "      <td>50.090000</td>\n",
       "      <td>118.029999</td>\n",
       "    </tr>\n",
       "    <tr>\n",
       "      <th>2021-02-12</th>\n",
       "      <td>34.720001</td>\n",
       "      <td>166.580002</td>\n",
       "      <td>289.760010</td>\n",
       "      <td>183.740005</td>\n",
       "      <td>51.689999</td>\n",
       "      <td>117.559998</td>\n",
       "    </tr>\n",
       "  </tbody>\n",
       "</table>\n",
       "<p>1036 rows × 6 columns</p>\n",
       "</div>"
      ],
      "text/plain": [
       "                  PFE         JNJ        NVAX        MRNA        AZN  \\\n",
       "Date                                                                   \n",
       "2017-01-03  26.653324  104.081535   25.400000         NaN  23.886580   \n",
       "2017-01-04  26.887548  103.910828   26.200001         NaN  24.076221   \n",
       "2017-01-05  27.146002  104.998009   26.400000         NaN  24.731359   \n",
       "2017-01-06  27.041008  104.494850   27.400000         NaN  24.507233   \n",
       "2017-01-09  27.032928  104.476868   28.400000         NaN  24.593435   \n",
       "...               ...         ...         ...         ...        ...   \n",
       "2021-02-08  34.820000  164.919998  319.929993  185.979996  50.060001   \n",
       "2021-02-09  34.970001  166.270004  315.869995  179.520004  50.410000   \n",
       "2021-02-10  34.740002  166.809998  298.359985  179.339996  49.970001   \n",
       "2021-02-11  34.430000  166.059998  298.260010  183.440002  50.090000   \n",
       "2021-02-12  34.720001  166.580002  289.760010  183.740005  51.689999   \n",
       "\n",
       "                  BNTX  \n",
       "Date                    \n",
       "2017-01-03         NaN  \n",
       "2017-01-04         NaN  \n",
       "2017-01-05         NaN  \n",
       "2017-01-06         NaN  \n",
       "2017-01-09         NaN  \n",
       "...                ...  \n",
       "2021-02-08  119.500000  \n",
       "2021-02-09  117.529999  \n",
       "2021-02-10  119.349998  \n",
       "2021-02-11  118.029999  \n",
       "2021-02-12  117.559998  \n",
       "\n",
       "[1036 rows x 6 columns]"
      ]
     },
     "execution_count": 87,
     "metadata": {},
     "output_type": "execute_result"
    },
    {
     "data": {
      "image/png": "[encoded data removed]",
      "text/plain": [
       "<Figure size 864x576 with 1 Axes>"
      ]
     },
     "metadata": {
      "needs_background": "light"
     },
     "output_type": "display_data"
    }
   ],
   "source": [
    "# sdr = multiple_stock_data(ticker=[['PFE','JNJ','NVAX','MRNA','AZN','BNTX']], start='2017',end='today',plot=False, stock_value='Adj Close')\n",
    "# sdr\n",
    "df = get_plot(multi_stocks)\n",
    "df"
   ]
  },
  {
   "cell_type": "code",
   "execution_count": 88,
   "metadata": {},
   "outputs": [
    {
     "data": {
      "text/html": [
       "<div>\n",
       "<style scoped>\n",
       "    .dataframe tbody tr th:only-of-type {\n",
       "        vertical-align: middle;\n",
       "    }\n",
       "\n",
       "    .dataframe tbody tr th {\n",
       "        vertical-align: top;\n",
       "    }\n",
       "\n",
       "    .dataframe thead th {\n",
       "        text-align: right;\n",
       "    }\n",
       "</style>\n",
       "<table border=\"1\" class=\"dataframe\">\n",
       "  <thead>\n",
       "    <tr style=\"text-align: right;\">\n",
       "      <th></th>\n",
       "      <th>PFE</th>\n",
       "      <th>JNJ</th>\n",
       "      <th>NVAX</th>\n",
       "      <th>MRNA</th>\n",
       "      <th>AZN</th>\n",
       "      <th>BNTX</th>\n",
       "    </tr>\n",
       "    <tr>\n",
       "      <th>Date</th>\n",
       "      <th></th>\n",
       "      <th></th>\n",
       "      <th></th>\n",
       "      <th></th>\n",
       "      <th></th>\n",
       "      <th></th>\n",
       "    </tr>\n",
       "  </thead>\n",
       "  <tbody>\n",
       "    <tr>\n",
       "      <th>2017-01-03</th>\n",
       "      <td>NaN</td>\n",
       "      <td>NaN</td>\n",
       "      <td>NaN</td>\n",
       "      <td>NaN</td>\n",
       "      <td>NaN</td>\n",
       "      <td>NaN</td>\n",
       "    </tr>\n",
       "    <tr>\n",
       "      <th>2017-01-04</th>\n",
       "      <td>0.008788</td>\n",
       "      <td>-0.001640</td>\n",
       "      <td>0.031496</td>\n",
       "      <td>NaN</td>\n",
       "      <td>0.007939</td>\n",
       "      <td>NaN</td>\n",
       "    </tr>\n",
       "    <tr>\n",
       "      <th>2017-01-05</th>\n",
       "      <td>0.009612</td>\n",
       "      <td>0.010463</td>\n",
       "      <td>0.007634</td>\n",
       "      <td>NaN</td>\n",
       "      <td>0.027211</td>\n",
       "      <td>NaN</td>\n",
       "    </tr>\n",
       "    <tr>\n",
       "      <th>2017-01-06</th>\n",
       "      <td>-0.003868</td>\n",
       "      <td>-0.004792</td>\n",
       "      <td>0.037879</td>\n",
       "      <td>NaN</td>\n",
       "      <td>-0.009062</td>\n",
       "      <td>NaN</td>\n",
       "    </tr>\n",
       "    <tr>\n",
       "      <th>2017-01-09</th>\n",
       "      <td>-0.000299</td>\n",
       "      <td>-0.000172</td>\n",
       "      <td>0.036496</td>\n",
       "      <td>NaN</td>\n",
       "      <td>0.003517</td>\n",
       "      <td>NaN</td>\n",
       "    </tr>\n",
       "    <tr>\n",
       "      <th>...</th>\n",
       "      <td>...</td>\n",
       "      <td>...</td>\n",
       "      <td>...</td>\n",
       "      <td>...</td>\n",
       "      <td>...</td>\n",
       "      <td>...</td>\n",
       "    </tr>\n",
       "    <tr>\n",
       "      <th>2021-02-08</th>\n",
       "      <td>-0.002864</td>\n",
       "      <td>0.002858</td>\n",
       "      <td>0.102523</td>\n",
       "      <td>0.055265</td>\n",
       "      <td>0.006636</td>\n",
       "      <td>0.016416</td>\n",
       "    </tr>\n",
       "    <tr>\n",
       "      <th>2021-02-09</th>\n",
       "      <td>0.004308</td>\n",
       "      <td>0.008186</td>\n",
       "      <td>-0.012690</td>\n",
       "      <td>-0.034735</td>\n",
       "      <td>0.006992</td>\n",
       "      <td>-0.016485</td>\n",
       "    </tr>\n",
       "    <tr>\n",
       "      <th>2021-02-10</th>\n",
       "      <td>-0.006577</td>\n",
       "      <td>0.003248</td>\n",
       "      <td>-0.055434</td>\n",
       "      <td>-0.001003</td>\n",
       "      <td>-0.008728</td>\n",
       "      <td>0.015485</td>\n",
       "    </tr>\n",
       "    <tr>\n",
       "      <th>2021-02-11</th>\n",
       "      <td>-0.008923</td>\n",
       "      <td>-0.004496</td>\n",
       "      <td>-0.000335</td>\n",
       "      <td>0.022862</td>\n",
       "      <td>0.002401</td>\n",
       "      <td>-0.011060</td>\n",
       "    </tr>\n",
       "    <tr>\n",
       "      <th>2021-02-12</th>\n",
       "      <td>0.008423</td>\n",
       "      <td>0.003131</td>\n",
       "      <td>-0.028499</td>\n",
       "      <td>0.001635</td>\n",
       "      <td>0.031942</td>\n",
       "      <td>-0.003982</td>\n",
       "    </tr>\n",
       "  </tbody>\n",
       "</table>\n",
       "<p>1036 rows × 6 columns</p>\n",
       "</div>"
      ],
      "text/plain": [
       "                 PFE       JNJ      NVAX      MRNA       AZN      BNTX\n",
       "Date                                                                  \n",
       "2017-01-03       NaN       NaN       NaN       NaN       NaN       NaN\n",
       "2017-01-04  0.008788 -0.001640  0.031496       NaN  0.007939       NaN\n",
       "2017-01-05  0.009612  0.010463  0.007634       NaN  0.027211       NaN\n",
       "2017-01-06 -0.003868 -0.004792  0.037879       NaN -0.009062       NaN\n",
       "2017-01-09 -0.000299 -0.000172  0.036496       NaN  0.003517       NaN\n",
       "...              ...       ...       ...       ...       ...       ...\n",
       "2021-02-08 -0.002864  0.002858  0.102523  0.055265  0.006636  0.016416\n",
       "2021-02-09  0.004308  0.008186 -0.012690 -0.034735  0.006992 -0.016485\n",
       "2021-02-10 -0.006577  0.003248 -0.055434 -0.001003 -0.008728  0.015485\n",
       "2021-02-11 -0.008923 -0.004496 -0.000335  0.022862  0.002401 -0.011060\n",
       "2021-02-12  0.008423  0.003131 -0.028499  0.001635  0.031942 -0.003982\n",
       "\n",
       "[1036 rows x 6 columns]"
      ]
     },
     "execution_count": 88,
     "metadata": {},
     "output_type": "execute_result"
    }
   ],
   "source": [
    "\n",
    "sdr = multi_stocks.pct_change(1)\n",
    "sdr"
   ]
  },
  {
   "cell_type": "code",
   "execution_count": 89,
   "metadata": {},
   "outputs": [
    {
     "data": {
      "text/plain": [
       "0.008787796974216056"
      ]
     },
     "execution_count": 89,
     "metadata": {},
     "output_type": "execute_result"
    }
   ],
   "source": [
    "(26.887548/26.653324) - 1"
   ]
  },
  {
   "cell_type": "code",
   "execution_count": 91,
   "metadata": {},
   "outputs": [],
   "source": [
    "# #visualize stocks daily returns\n",
    "# plt.figure(figsize=(12,6))\n",
    "# #loop through each stock and plot simple returns\n",
    "# for c in d_simple_returns.columns.values:\n",
    "#     plt.plot(d_simple_returns.index, d_simple_returns[c], label=c)\n",
    "# #plt.title(title)\n",
    "# #plt.ylabel(col + ' Price', fontsize=18)\n",
    "# plt.legend(loc='upper left', fontsize=10)\n",
    "# plt.title('Volatility')\n",
    "# plt.xlabel('Date')\n",
    "# plt.ylabel('Daily Simple Returns')"
   ]
  },
  {
   "cell_type": "markdown",
   "metadata": {},
   "source": [
    "### Average Daily Return"
   ]
  },
  {
   "cell_type": "code",
   "execution_count": 104,
   "metadata": {},
   "outputs": [],
   "source": [
    "# d_simple_returns.std()\n",
    "# mean_return = d_simple_returns.mean()\n",
    "# print('The Daily Mean Simple Return')\n",
    "# mean_return"
   ]
  },
  {
   "cell_type": "markdown",
   "metadata": {},
   "source": [
    "## Forecasting\n",
    "### Long Short Term Memory (LSTM)"
   ]
  },
  {
   "cell_type": "code",
   "execution_count": 105,
   "metadata": {},
   "outputs": [
    {
     "name": "stdout",
     "output_type": "stream",
     "text": [
      "Dataframe has 534 rows and 6 columns\n",
      "\n"
     ]
    },
    {
     "data": {
      "image/png": "[encoded data removed]",
      "text/plain": [
       "<Figure size 864x576 with 1 Axes>"
      ]
     },
     "metadata": {
      "needs_background": "light"
     },
     "output_type": "display_data"
    }
   ],
   "source": [
    "#start='01-01-2019',end='today',\n",
    "df_single = single_stock_data('PFE', start='01-01-2019',end='today',plot=True,stock_value='Adj Close')"
   ]
  },
  {
   "cell_type": "code",
   "execution_count": 106,
   "metadata": {},
   "outputs": [
    {
     "data": {
      "text/html": [
       "<div>\n",
       "<style scoped>\n",
       "    .dataframe tbody tr th:only-of-type {\n",
       "        vertical-align: middle;\n",
       "    }\n",
       "\n",
       "    .dataframe tbody tr th {\n",
       "        vertical-align: top;\n",
       "    }\n",
       "\n",
       "    .dataframe thead th {\n",
       "        text-align: right;\n",
       "    }\n",
       "</style>\n",
       "<table border=\"1\" class=\"dataframe\">\n",
       "  <thead>\n",
       "    <tr style=\"text-align: right;\">\n",
       "      <th></th>\n",
       "      <th>High</th>\n",
       "      <th>Low</th>\n",
       "      <th>Open</th>\n",
       "      <th>Close</th>\n",
       "      <th>Volume</th>\n",
       "      <th>Adj Close</th>\n",
       "    </tr>\n",
       "    <tr>\n",
       "      <th>Date</th>\n",
       "      <th></th>\n",
       "      <th></th>\n",
       "      <th></th>\n",
       "      <th></th>\n",
       "      <th></th>\n",
       "      <th></th>\n",
       "    </tr>\n",
       "  </thead>\n",
       "  <tbody>\n",
       "    <tr>\n",
       "      <th>2019-01-02</th>\n",
       "      <td>41.271347</td>\n",
       "      <td>40.455406</td>\n",
       "      <td>40.910816</td>\n",
       "      <td>41.034157</td>\n",
       "      <td>26430315.0</td>\n",
       "      <td>37.603287</td>\n",
       "    </tr>\n",
       "    <tr>\n",
       "      <th>2019-01-03</th>\n",
       "      <td>41.119545</td>\n",
       "      <td>39.800758</td>\n",
       "      <td>41.024670</td>\n",
       "      <td>39.886147</td>\n",
       "      <td>28503533.0</td>\n",
       "      <td>36.551258</td>\n",
       "    </tr>\n",
       "    <tr>\n",
       "      <th>2019-01-04</th>\n",
       "      <td>41.129032</td>\n",
       "      <td>40.094875</td>\n",
       "      <td>40.265656</td>\n",
       "      <td>40.796963</td>\n",
       "      <td>27145348.0</td>\n",
       "      <td>37.385921</td>\n",
       "    </tr>\n",
       "    <tr>\n",
       "      <th>2019-01-07</th>\n",
       "      <td>41.385201</td>\n",
       "      <td>40.664139</td>\n",
       "      <td>40.863377</td>\n",
       "      <td>41.015179</td>\n",
       "      <td>20995469.0</td>\n",
       "      <td>37.585892</td>\n",
       "    </tr>\n",
       "    <tr>\n",
       "      <th>2019-01-08</th>\n",
       "      <td>41.461102</td>\n",
       "      <td>40.939278</td>\n",
       "      <td>41.328274</td>\n",
       "      <td>41.204933</td>\n",
       "      <td>19677231.0</td>\n",
       "      <td>37.759781</td>\n",
       "    </tr>\n",
       "    <tr>\n",
       "      <th>...</th>\n",
       "      <td>...</td>\n",
       "      <td>...</td>\n",
       "      <td>...</td>\n",
       "      <td>...</td>\n",
       "      <td>...</td>\n",
       "      <td>...</td>\n",
       "    </tr>\n",
       "    <tr>\n",
       "      <th>2021-02-08</th>\n",
       "      <td>35.009998</td>\n",
       "      <td>34.740002</td>\n",
       "      <td>34.959999</td>\n",
       "      <td>34.820000</td>\n",
       "      <td>31633900.0</td>\n",
       "      <td>34.820000</td>\n",
       "    </tr>\n",
       "    <tr>\n",
       "      <th>2021-02-09</th>\n",
       "      <td>35.060001</td>\n",
       "      <td>34.759998</td>\n",
       "      <td>34.799999</td>\n",
       "      <td>34.970001</td>\n",
       "      <td>30170200.0</td>\n",
       "      <td>34.970001</td>\n",
       "    </tr>\n",
       "    <tr>\n",
       "      <th>2021-02-10</th>\n",
       "      <td>35.080002</td>\n",
       "      <td>34.700001</td>\n",
       "      <td>35.000000</td>\n",
       "      <td>34.740002</td>\n",
       "      <td>29039900.0</td>\n",
       "      <td>34.740002</td>\n",
       "    </tr>\n",
       "    <tr>\n",
       "      <th>2021-02-11</th>\n",
       "      <td>34.810001</td>\n",
       "      <td>34.279999</td>\n",
       "      <td>34.799999</td>\n",
       "      <td>34.430000</td>\n",
       "      <td>30845500.0</td>\n",
       "      <td>34.430000</td>\n",
       "    </tr>\n",
       "    <tr>\n",
       "      <th>2021-02-12</th>\n",
       "      <td>34.950001</td>\n",
       "      <td>34.360001</td>\n",
       "      <td>34.439999</td>\n",
       "      <td>34.720001</td>\n",
       "      <td>25513100.0</td>\n",
       "      <td>34.720001</td>\n",
       "    </tr>\n",
       "  </tbody>\n",
       "</table>\n",
       "<p>534 rows × 6 columns</p>\n",
       "</div>"
      ],
      "text/plain": [
       "                 High        Low       Open      Close      Volume  Adj Close\n",
       "Date                                                                         \n",
       "2019-01-02  41.271347  40.455406  40.910816  41.034157  26430315.0  37.603287\n",
       "2019-01-03  41.119545  39.800758  41.024670  39.886147  28503533.0  36.551258\n",
       "2019-01-04  41.129032  40.094875  40.265656  40.796963  27145348.0  37.385921\n",
       "2019-01-07  41.385201  40.664139  40.863377  41.015179  20995469.0  37.585892\n",
       "2019-01-08  41.461102  40.939278  41.328274  41.204933  19677231.0  37.759781\n",
       "...               ...        ...        ...        ...         ...        ...\n",
       "2021-02-08  35.009998  34.740002  34.959999  34.820000  31633900.0  34.820000\n",
       "2021-02-09  35.060001  34.759998  34.799999  34.970001  30170200.0  34.970001\n",
       "2021-02-10  35.080002  34.700001  35.000000  34.740002  29039900.0  34.740002\n",
       "2021-02-11  34.810001  34.279999  34.799999  34.430000  30845500.0  34.430000\n",
       "2021-02-12  34.950001  34.360001  34.439999  34.720001  25513100.0  34.720001\n",
       "\n",
       "[534 rows x 6 columns]"
      ]
     },
     "execution_count": 106,
     "metadata": {},
     "output_type": "execute_result"
    }
   ],
   "source": [
    "df_single.to_csv('single_stock')\n",
    "single_stock = pd.read_csv('single_stock', parse_dates=True, index_col='Date')\n",
    "single_stock"
   ]
  },
  {
   "cell_type": "code",
   "execution_count": 107,
   "metadata": {},
   "outputs": [
    {
     "data": {
      "text/plain": [
       "-0.00493522186683415"
      ]
     },
     "execution_count": 107,
     "metadata": {},
     "output_type": "execute_result"
    }
   ],
   "source": [
    "(24.905140 / 25.028662) -1"
   ]
  },
  {
   "cell_type": "code",
   "execution_count": 108,
   "metadata": {},
   "outputs": [],
   "source": [
    "def delta_time_series(data):\n",
    "    data_1 = data.pct_change(1)\n",
    "    data_1 = data_1.rename(columns={\"Adj Close\": \"Percent_Chg\"})\n",
    "    #return data[1:]- data[:-1]\n",
    "    data_1 = data_1.dropna()\n",
    "    return data_1"
   ]
  },
  {
   "cell_type": "code",
   "execution_count": 109,
   "metadata": {},
   "outputs": [
    {
     "data": {
      "text/html": [
       "<div>\n",
       "<style scoped>\n",
       "    .dataframe tbody tr th:only-of-type {\n",
       "        vertical-align: middle;\n",
       "    }\n",
       "\n",
       "    .dataframe tbody tr th {\n",
       "        vertical-align: top;\n",
       "    }\n",
       "\n",
       "    .dataframe thead th {\n",
       "        text-align: right;\n",
       "    }\n",
       "</style>\n",
       "<table border=\"1\" class=\"dataframe\">\n",
       "  <thead>\n",
       "    <tr style=\"text-align: right;\">\n",
       "      <th></th>\n",
       "      <th>High</th>\n",
       "      <th>Low</th>\n",
       "      <th>Open</th>\n",
       "      <th>Close</th>\n",
       "      <th>Volume</th>\n",
       "      <th>Percent_Chg</th>\n",
       "    </tr>\n",
       "    <tr>\n",
       "      <th>Date</th>\n",
       "      <th></th>\n",
       "      <th></th>\n",
       "      <th></th>\n",
       "      <th></th>\n",
       "      <th></th>\n",
       "      <th></th>\n",
       "    </tr>\n",
       "  </thead>\n",
       "  <tbody>\n",
       "    <tr>\n",
       "      <th>2019-01-03</th>\n",
       "      <td>-0.003678</td>\n",
       "      <td>-0.016182</td>\n",
       "      <td>0.002783</td>\n",
       "      <td>-0.027977</td>\n",
       "      <td>0.078441</td>\n",
       "      <td>-0.027977</td>\n",
       "    </tr>\n",
       "    <tr>\n",
       "      <th>2019-01-04</th>\n",
       "      <td>0.000231</td>\n",
       "      <td>0.007390</td>\n",
       "      <td>-0.018501</td>\n",
       "      <td>0.022835</td>\n",
       "      <td>-0.047650</td>\n",
       "      <td>0.022835</td>\n",
       "    </tr>\n",
       "    <tr>\n",
       "      <th>2019-01-07</th>\n",
       "      <td>0.006228</td>\n",
       "      <td>0.014198</td>\n",
       "      <td>0.014844</td>\n",
       "      <td>0.005349</td>\n",
       "      <td>-0.226554</td>\n",
       "      <td>0.005349</td>\n",
       "    </tr>\n",
       "    <tr>\n",
       "      <th>2019-01-08</th>\n",
       "      <td>0.001834</td>\n",
       "      <td>0.006766</td>\n",
       "      <td>0.011377</td>\n",
       "      <td>0.004626</td>\n",
       "      <td>-0.062787</td>\n",
       "      <td>0.004626</td>\n",
       "    </tr>\n",
       "    <tr>\n",
       "      <th>2019-01-09</th>\n",
       "      <td>-0.000687</td>\n",
       "      <td>0.001159</td>\n",
       "      <td>-0.002296</td>\n",
       "      <td>-0.002072</td>\n",
       "      <td>0.021870</td>\n",
       "      <td>-0.002072</td>\n",
       "    </tr>\n",
       "    <tr>\n",
       "      <th>...</th>\n",
       "      <td>...</td>\n",
       "      <td>...</td>\n",
       "      <td>...</td>\n",
       "      <td>...</td>\n",
       "      <td>...</td>\n",
       "      <td>...</td>\n",
       "    </tr>\n",
       "    <tr>\n",
       "      <th>2021-02-08</th>\n",
       "      <td>-0.001996</td>\n",
       "      <td>-0.001150</td>\n",
       "      <td>0.001146</td>\n",
       "      <td>-0.002864</td>\n",
       "      <td>-0.000354</td>\n",
       "      <td>-0.002864</td>\n",
       "    </tr>\n",
       "    <tr>\n",
       "      <th>2021-02-09</th>\n",
       "      <td>0.001428</td>\n",
       "      <td>0.000576</td>\n",
       "      <td>-0.004577</td>\n",
       "      <td>0.004308</td>\n",
       "      <td>-0.046270</td>\n",
       "      <td>0.004308</td>\n",
       "    </tr>\n",
       "    <tr>\n",
       "      <th>2021-02-10</th>\n",
       "      <td>0.000570</td>\n",
       "      <td>-0.001726</td>\n",
       "      <td>0.005747</td>\n",
       "      <td>-0.006577</td>\n",
       "      <td>-0.037464</td>\n",
       "      <td>-0.006577</td>\n",
       "    </tr>\n",
       "    <tr>\n",
       "      <th>2021-02-11</th>\n",
       "      <td>-0.007697</td>\n",
       "      <td>-0.012104</td>\n",
       "      <td>-0.005714</td>\n",
       "      <td>-0.008923</td>\n",
       "      <td>0.062177</td>\n",
       "      <td>-0.008923</td>\n",
       "    </tr>\n",
       "    <tr>\n",
       "      <th>2021-02-12</th>\n",
       "      <td>0.004022</td>\n",
       "      <td>0.002334</td>\n",
       "      <td>-0.010345</td>\n",
       "      <td>0.008423</td>\n",
       "      <td>-0.172874</td>\n",
       "      <td>0.008423</td>\n",
       "    </tr>\n",
       "  </tbody>\n",
       "</table>\n",
       "<p>533 rows × 6 columns</p>\n",
       "</div>"
      ],
      "text/plain": [
       "                High       Low      Open     Close    Volume  Percent_Chg\n",
       "Date                                                                     \n",
       "2019-01-03 -0.003678 -0.016182  0.002783 -0.027977  0.078441    -0.027977\n",
       "2019-01-04  0.000231  0.007390 -0.018501  0.022835 -0.047650     0.022835\n",
       "2019-01-07  0.006228  0.014198  0.014844  0.005349 -0.226554     0.005349\n",
       "2019-01-08  0.001834  0.006766  0.011377  0.004626 -0.062787     0.004626\n",
       "2019-01-09 -0.000687  0.001159 -0.002296 -0.002072  0.021870    -0.002072\n",
       "...              ...       ...       ...       ...       ...          ...\n",
       "2021-02-08 -0.001996 -0.001150  0.001146 -0.002864 -0.000354    -0.002864\n",
       "2021-02-09  0.001428  0.000576 -0.004577  0.004308 -0.046270     0.004308\n",
       "2021-02-10  0.000570 -0.001726  0.005747 -0.006577 -0.037464    -0.006577\n",
       "2021-02-11 -0.007697 -0.012104 -0.005714 -0.008923  0.062177    -0.008923\n",
       "2021-02-12  0.004022  0.002334 -0.010345  0.008423 -0.172874     0.008423\n",
       "\n",
       "[533 rows x 6 columns]"
      ]
     },
     "execution_count": 109,
     "metadata": {},
     "output_type": "execute_result"
    }
   ],
   "source": [
    "dataset_delta_AMAZN = delta_time_series(single_stock)\n",
    "dataset_delta_AMAZN"
   ]
  },
  {
   "cell_type": "code",
   "execution_count": 110,
   "metadata": {},
   "outputs": [],
   "source": [
    "#df_data.shape"
   ]
  },
  {
   "cell_type": "code",
   "execution_count": 111,
   "metadata": {},
   "outputs": [],
   "source": [
    "def plot_delta(data,symbol=None):\n",
    "    plt.figure(figsize=(12,6))\n",
    "    #plt.plot(delta_time_series(data))\n",
    "    plt.plot(data)\n",
    "    label_font = {'weight':'bold','size':18}\n",
    "    plt.title('Daily Percentage Price Change',fontdict=label_font)\n",
    "    plt.xlabel('Dates',fontdict=label_font)\n",
    "    plt.ylabel('close')\n",
    "    plt.show()"
   ]
  },
  {
   "cell_type": "code",
   "execution_count": 112,
   "metadata": {},
   "outputs": [
    {
     "data": {
      "image/png": "[encoded data removed]",
      "text/plain": [
       "<Figure size 864x432 with 1 Axes>"
      ]
     },
     "metadata": {
      "needs_background": "light"
     },
     "output_type": "display_data"
    }
   ],
   "source": [
    "#simple daily return\n",
    "#centered aroun d 0\n",
    "plot_delta(dataset_delta_AMAZN)"
   ]
  },
  {
   "cell_type": "code",
   "execution_count": 113,
   "metadata": {},
   "outputs": [],
   "source": [
    "def get_y_from_generator(gen):\n",
    "    '''\n",
    "    Get all targets y from a TimeseriesGenerator instance.\n",
    "    '''\n",
    "    y = None\n",
    "    for i in range(len(gen)):\n",
    "        batch_y = gen[i][1]\n",
    "        if y is None:\n",
    "            y = batch_y\n",
    "        else:\n",
    "            y = np.append(y, batch_y)\n",
    "    y = y.reshape((-1,1))\n",
    "    print(y.shape)\n",
    "    return y"
   ]
  },
  {
   "cell_type": "code",
   "execution_count": 114,
   "metadata": {},
   "outputs": [],
   "source": [
    "def binary_accuracy(a, b):\n",
    "    '''\n",
    "    Helper function to compute the match score of two \n",
    "    binary numpy arrays.\n",
    "    '''\n",
    "    assert len(a) == len(b)\n",
    "    return (a == b).sum() / len(a)"
   ]
  },
  {
   "cell_type": "code",
   "execution_count": 115,
   "metadata": {},
   "outputs": [
    {
     "data": {
      "text/html": [
       "<div>\n",
       "<style scoped>\n",
       "    .dataframe tbody tr th:only-of-type {\n",
       "        vertical-align: middle;\n",
       "    }\n",
       "\n",
       "    .dataframe tbody tr th {\n",
       "        vertical-align: top;\n",
       "    }\n",
       "\n",
       "    .dataframe thead th {\n",
       "        text-align: right;\n",
       "    }\n",
       "</style>\n",
       "<table border=\"1\" class=\"dataframe\">\n",
       "  <thead>\n",
       "    <tr style=\"text-align: right;\">\n",
       "      <th></th>\n",
       "      <th>High</th>\n",
       "      <th>Low</th>\n",
       "      <th>Open</th>\n",
       "      <th>Close</th>\n",
       "      <th>Volume</th>\n",
       "      <th>Percent_Chg</th>\n",
       "    </tr>\n",
       "    <tr>\n",
       "      <th>Date</th>\n",
       "      <th></th>\n",
       "      <th></th>\n",
       "      <th></th>\n",
       "      <th></th>\n",
       "      <th></th>\n",
       "      <th></th>\n",
       "    </tr>\n",
       "  </thead>\n",
       "  <tbody>\n",
       "    <tr>\n",
       "      <th>2019-01-03</th>\n",
       "      <td>-0.003678</td>\n",
       "      <td>-0.016182</td>\n",
       "      <td>0.002783</td>\n",
       "      <td>-0.027977</td>\n",
       "      <td>0.078441</td>\n",
       "      <td>-0.027977</td>\n",
       "    </tr>\n",
       "    <tr>\n",
       "      <th>2019-01-04</th>\n",
       "      <td>0.000231</td>\n",
       "      <td>0.007390</td>\n",
       "      <td>-0.018501</td>\n",
       "      <td>0.022835</td>\n",
       "      <td>-0.047650</td>\n",
       "      <td>0.022835</td>\n",
       "    </tr>\n",
       "    <tr>\n",
       "      <th>2019-01-07</th>\n",
       "      <td>0.006228</td>\n",
       "      <td>0.014198</td>\n",
       "      <td>0.014844</td>\n",
       "      <td>0.005349</td>\n",
       "      <td>-0.226554</td>\n",
       "      <td>0.005349</td>\n",
       "    </tr>\n",
       "    <tr>\n",
       "      <th>2019-01-08</th>\n",
       "      <td>0.001834</td>\n",
       "      <td>0.006766</td>\n",
       "      <td>0.011377</td>\n",
       "      <td>0.004626</td>\n",
       "      <td>-0.062787</td>\n",
       "      <td>0.004626</td>\n",
       "    </tr>\n",
       "    <tr>\n",
       "      <th>2019-01-09</th>\n",
       "      <td>-0.000687</td>\n",
       "      <td>0.001159</td>\n",
       "      <td>-0.002296</td>\n",
       "      <td>-0.002072</td>\n",
       "      <td>0.021870</td>\n",
       "      <td>-0.002072</td>\n",
       "    </tr>\n",
       "    <tr>\n",
       "      <th>...</th>\n",
       "      <td>...</td>\n",
       "      <td>...</td>\n",
       "      <td>...</td>\n",
       "      <td>...</td>\n",
       "      <td>...</td>\n",
       "      <td>...</td>\n",
       "    </tr>\n",
       "    <tr>\n",
       "      <th>2021-02-08</th>\n",
       "      <td>-0.001996</td>\n",
       "      <td>-0.001150</td>\n",
       "      <td>0.001146</td>\n",
       "      <td>-0.002864</td>\n",
       "      <td>-0.000354</td>\n",
       "      <td>-0.002864</td>\n",
       "    </tr>\n",
       "    <tr>\n",
       "      <th>2021-02-09</th>\n",
       "      <td>0.001428</td>\n",
       "      <td>0.000576</td>\n",
       "      <td>-0.004577</td>\n",
       "      <td>0.004308</td>\n",
       "      <td>-0.046270</td>\n",
       "      <td>0.004308</td>\n",
       "    </tr>\n",
       "    <tr>\n",
       "      <th>2021-02-10</th>\n",
       "      <td>0.000570</td>\n",
       "      <td>-0.001726</td>\n",
       "      <td>0.005747</td>\n",
       "      <td>-0.006577</td>\n",
       "      <td>-0.037464</td>\n",
       "      <td>-0.006577</td>\n",
       "    </tr>\n",
       "    <tr>\n",
       "      <th>2021-02-11</th>\n",
       "      <td>-0.007697</td>\n",
       "      <td>-0.012104</td>\n",
       "      <td>-0.005714</td>\n",
       "      <td>-0.008923</td>\n",
       "      <td>0.062177</td>\n",
       "      <td>-0.008923</td>\n",
       "    </tr>\n",
       "    <tr>\n",
       "      <th>2021-02-12</th>\n",
       "      <td>0.004022</td>\n",
       "      <td>0.002334</td>\n",
       "      <td>-0.010345</td>\n",
       "      <td>0.008423</td>\n",
       "      <td>-0.172874</td>\n",
       "      <td>0.008423</td>\n",
       "    </tr>\n",
       "  </tbody>\n",
       "</table>\n",
       "<p>533 rows × 6 columns</p>\n",
       "</div>"
      ],
      "text/plain": [
       "                High       Low      Open     Close    Volume  Percent_Chg\n",
       "Date                                                                     \n",
       "2019-01-03 -0.003678 -0.016182  0.002783 -0.027977  0.078441    -0.027977\n",
       "2019-01-04  0.000231  0.007390 -0.018501  0.022835 -0.047650     0.022835\n",
       "2019-01-07  0.006228  0.014198  0.014844  0.005349 -0.226554     0.005349\n",
       "2019-01-08  0.001834  0.006766  0.011377  0.004626 -0.062787     0.004626\n",
       "2019-01-09 -0.000687  0.001159 -0.002296 -0.002072  0.021870    -0.002072\n",
       "...              ...       ...       ...       ...       ...          ...\n",
       "2021-02-08 -0.001996 -0.001150  0.001146 -0.002864 -0.000354    -0.002864\n",
       "2021-02-09  0.001428  0.000576 -0.004577  0.004308 -0.046270     0.004308\n",
       "2021-02-10  0.000570 -0.001726  0.005747 -0.006577 -0.037464    -0.006577\n",
       "2021-02-11 -0.007697 -0.012104 -0.005714 -0.008923  0.062177    -0.008923\n",
       "2021-02-12  0.004022  0.002334 -0.010345  0.008423 -0.172874     0.008423\n",
       "\n",
       "[533 rows x 6 columns]"
      ]
     },
     "execution_count": 115,
     "metadata": {},
     "output_type": "execute_result"
    }
   ],
   "source": [
    "dataset_delta_AMAZN"
   ]
  },
  {
   "cell_type": "code",
   "execution_count": 116,
   "metadata": {},
   "outputs": [],
   "source": [
    "train_size = int(len(dataset_delta_AMAZN) * 0.80)#0.67\n",
    "test_size = len(dataset_delta_AMAZN) - train_size\n",
    "#val_size = len(dataset_delta_AMAZN)  - "
   ]
  },
  {
   "cell_type": "code",
   "execution_count": 117,
   "metadata": {},
   "outputs": [
    {
     "data": {
      "text/plain": [
       "Timestamp('2020-09-11 00:00:00')"
      ]
     },
     "execution_count": 117,
     "metadata": {},
     "output_type": "execute_result"
    }
   ],
   "source": [
    "dataset_delta_AMAZN.index[train_size]"
   ]
  },
  {
   "cell_type": "code",
   "execution_count": 118,
   "metadata": {},
   "outputs": [
    {
     "data": {
      "text/plain": [
       "Timestamp('2020-09-11 00:00:00')"
      ]
     },
     "execution_count": 118,
     "metadata": {},
     "output_type": "execute_result"
    }
   ],
   "source": [
    "dataset_delta_AMAZN.index[-test_size]\n"
   ]
  },
  {
   "cell_type": "code",
   "execution_count": 119,
   "metadata": {},
   "outputs": [
    {
     "data": {
      "text/plain": [
       "<matplotlib.axes._subplots.AxesSubplot at 0x7f944cc9c390>"
      ]
     },
     "execution_count": 119,
     "metadata": {},
     "output_type": "execute_result"
    },
    {
     "data": {
      "image/png": "[encoded data removed]",
      "text/plain": [
       "<Figure size 432x288 with 1 Axes>"
      ]
     },
     "metadata": {
      "needs_background": "light"
     },
     "output_type": "display_data"
    }
   ],
   "source": [
    "train = dataset_delta_AMAZN[:'2020-09-11']\n",
    "val = dataset_delta_AMAZN['2020-09-11':'2020-11-01']\n",
    "test = dataset_delta_AMAZN['2020-11-01':] #2021-02-12\n",
    "ax = train.plot()\n",
    "val.plot(ax=ax)\n",
    "test.plot(ax=ax)"
   ]
  },
  {
   "cell_type": "code",
   "execution_count": 120,
   "metadata": {},
   "outputs": [],
   "source": [
    "def train_test_val(dataset_delta_AMAZN, date1='2020-09-11', date2='2020-11-01'):    \n",
    "    train = dataset_delta_AMAZN[:date1]#'2020-09-11'\n",
    "    val = dataset_delta_AMAZN[date1:date2]\n",
    "    test = dataset_delta_AMAZN[date2:] #2021-02-12\n",
    "    ax = train.plot()\n",
    "    val.plot(ax=ax)\n",
    "    test.plot(ax=ax)\n",
    "    \n",
    "    return train, val, test"
   ]
  },
  {
   "cell_type": "code",
   "execution_count": 121,
   "metadata": {},
   "outputs": [
    {
     "data": {
      "image/png": "[encoded data removed]",
      "text/plain": [
       "<Figure size 432x288 with 1 Axes>"
      ]
     },
     "metadata": {
      "needs_background": "light"
     },
     "output_type": "display_data"
    }
   ],
   "source": [
    "train, val, test= train_test_val(df)"
   ]
  },
  {
   "cell_type": "code",
   "execution_count": 122,
   "metadata": {},
   "outputs": [],
   "source": [
    "# normalize the dataset\n",
    "scaler = MinMaxScaler(feature_range=(0, 1))\n",
    "train_scaled = scaler.fit_transform(train)\n",
    "test_scaled = scaler.transform(test)\n",
    "val_scaled = scaler.transform(val)"
   ]
  },
  {
   "cell_type": "code",
   "execution_count": 123,
   "metadata": {},
   "outputs": [
    {
     "data": {
      "text/plain": [
       "((930, 6), (36, 6), (71, 6))"
      ]
     },
     "execution_count": 123,
     "metadata": {},
     "output_type": "execute_result"
    }
   ],
   "source": [
    "train_scaled.shape, val_scaled.shape, test_scaled.shape"
   ]
  },
  {
   "cell_type": "code",
   "execution_count": 124,
   "metadata": {},
   "outputs": [
    {
     "data": {
      "text/plain": [
       "{'PFE': 0, 'JNJ': 1, 'NVAX': 2, 'MRNA': 3, 'AZN': 4, 'BNTX': 5}"
      ]
     },
     "execution_count": 124,
     "metadata": {},
     "output_type": "execute_result"
    }
   ],
   "source": [
    "look_back = 10\n",
    "batch_size=3\n",
    "col_index = {v:k for k,v in enumerate(train.columns)}\n",
    "col_index"
   ]
  },
  {
   "cell_type": "code",
   "execution_count": 125,
   "metadata": {},
   "outputs": [
    {
     "ename": "KeyError",
     "evalue": "'Adj Close'",
     "output_type": "error",
     "traceback": [
      "\u001b[0;31m---------------------------------------------------------------------------\u001b[0m",
      "\u001b[0;31mKeyError\u001b[0m                                  Traceback (most recent call last)",
      "\u001b[0;32m<ipython-input-125-0bf5a73b0aac>\u001b[0m in \u001b[0;36m<module>\u001b[0;34m\u001b[0m\n\u001b[0;32m----> 1\u001b[0;31m \u001b[0mcol_index\u001b[0m\u001b[0;34m[\u001b[0m\u001b[0;34m'Adj Close'\u001b[0m\u001b[0;34m]\u001b[0m\u001b[0;34m\u001b[0m\u001b[0;34m\u001b[0m\u001b[0m\n\u001b[0m",
      "\u001b[0;31mKeyError\u001b[0m: 'Adj Close'"
     ]
    }
   ],
   "source": [
    "col_index['Adj Close']\n"
   ]
  },
  {
   "cell_type": "code",
   "execution_count": null,
   "metadata": {},
   "outputs": [],
   "source": [
    "train_data_gen = TimeseriesGenerator(train_scaled, train_scaled[:,col_index['Adj Close']],\n",
    "                               length=look_back, sampling_rate=1,stride=1,\n",
    "                               batch_size=batch_size)"
   ]
  },
  {
   "cell_type": "code",
   "execution_count": null,
   "metadata": {},
   "outputs": [],
   "source": [
    "val_data_gen = TimeseriesGenerator(val_scaled, val_scaled[:,col_index['Adj Close']],\n",
    "                               length=look_back, sampling_rate=1,stride=1,\n",
    "                               batch_size=batch_size)"
   ]
  },
  {
   "cell_type": "code",
   "execution_count": null,
   "metadata": {},
   "outputs": [],
   "source": [
    "test_data_gen = TimeseriesGenerator(test_scaled, test_scaled[:,col_index['Adj Close']],\n",
    "                               length=look_back, sampling_rate=1,stride=1,\n",
    "                               batch_size=3)"
   ]
  },
  {
   "cell_type": "code",
   "execution_count": null,
   "metadata": {},
   "outputs": [],
   "source": [
    "ex_X, ex_y = train_data_gen[0]\n",
    "ex_X.shape"
   ]
  },
  {
   "cell_type": "code",
   "execution_count": null,
   "metadata": {},
   "outputs": [],
   "source": [
    "sample = ex_X[0]\n",
    "sample.shape"
   ]
  },
  {
   "cell_type": "code",
   "execution_count": null,
   "metadata": {},
   "outputs": [],
   "source": [
    "# model = Sequential()\n",
    "# model.add(LSTM(4, input_shape=(look_back, 1)))\n",
    "# model.add(Dense(1))\n",
    "# model.compile(loss='mean_squared_error', optimizer='adam')\n",
    "\n",
    "model = Sequential()\n",
    "\n",
    "model.add(LSTM(units = 50, return_sequences = True, input_shape=sample.shape))\n",
    "model.add(Dropout(0.2))\n",
    "\n",
    "model.add(LSTM(units = 50, return_sequences = True))\n",
    "model.add(Dropout(0.2))\n",
    "\n",
    "model.add(LSTM(units = 50, return_sequences = False))\n",
    "model.add(Dropout(0.2))\n",
    "\n",
    "model.add(Dense(units = 25))\n",
    "model.add(Dense(units = 1))\n",
    "\n",
    "model.compile(optimizer = 'adam', loss = 'mean_squared_error')\n",
    "\n",
    "model.summary()    "
   ]
  },
  {
   "cell_type": "code",
   "execution_count": null,
   "metadata": {},
   "outputs": [],
   "source": [
    "early_stop = EarlyStopping(monitor='val_loss', patience=3)\n",
    "# hist = model.fit(X_train,y_train, epochs=10,batch_size=32,callbacks=[early_stop],validation_split=0.1)     \n",
    "hist = model.fit_generator(train_data_gen, epochs=50,validation_data=val_data_gen,callbacks=[early_stop])"
   ]
  },
  {
   "cell_type": "code",
   "execution_count": null,
   "metadata": {},
   "outputs": [],
   "source": [
    "model.evaluate_generator(test_data_gen)"
   ]
  },
  {
   "cell_type": "code",
   "execution_count": null,
   "metadata": {},
   "outputs": [],
   "source": [
    "pd.DataFrame(hist.history).plot()"
   ]
  },
  {
   "cell_type": "code",
   "execution_count": null,
   "metadata": {},
   "outputs": [],
   "source": [
    "def save_model():\n",
    "    model.save('model_parameters')\n",
    "    model_params = keras.models.load_model('model_parameters')\n",
    "    model_params.summary()\n",
    "\n",
    "    return model_params"
   ]
  },
  {
   "cell_type": "code",
   "execution_count": null,
   "metadata": {},
   "outputs": [],
   "source": [
    "model_params = save_model()"
   ]
  },
  {
   "cell_type": "code",
   "execution_count": null,
   "metadata": {},
   "outputs": [],
   "source": [
    "trainPredict = model.predict_generator(train_data_gen)\n",
    "trainPredict.shape"
   ]
  },
  {
   "cell_type": "code",
   "execution_count": null,
   "metadata": {},
   "outputs": [],
   "source": [
    "testPredict = model.predict_generator(test_data_gen)\n",
    "testPredict.shape"
   ]
  },
  {
   "cell_type": "code",
   "execution_count": null,
   "metadata": {},
   "outputs": [],
   "source": [
    "scaler"
   ]
  },
  {
   "cell_type": "code",
   "execution_count": null,
   "metadata": {},
   "outputs": [],
   "source": [
    "# def invTransform(scaler, data, colName, colNames):\n",
    "#     dummy = pd.DataFrame(np.zeros((len(data), len(colNames))), columns=colNames)\n",
    "#     dummy[colName] = data\n",
    "#     dummy = pd.DataFrame(scaler.inverse_transform(dummy), columns=colNames)\n",
    "#     return dummy[colName].values"
   ]
  },
  {
   "cell_type": "code",
   "execution_count": null,
   "metadata": {},
   "outputs": [],
   "source": [
    "# invTransform(scaler, data=df, colNames=df.columns)"
   ]
  },
  {
   "cell_type": "code",
   "execution_count": null,
   "metadata": {},
   "outputs": [],
   "source": [
    "# invert predictions, scale values back to real index/price range.\n",
    "# trainPredict = scaler.inverse_transform(trainPredict)\n",
    "# testPredict = scaler.inverse_transform(testPredict)"
   ]
  },
  {
   "cell_type": "code",
   "execution_count": null,
   "metadata": {},
   "outputs": [],
   "source": [
    "trainY = get_y_from_generator(train_data_gen)\n",
    "testY = get_y_from_generator(test_data_gen)"
   ]
  },
  {
   "cell_type": "code",
   "execution_count": null,
   "metadata": {},
   "outputs": [],
   "source": [
    "# calculate root mean squared error\n",
    "trainScore = math.sqrt(mean_squared_error(trainY[:,0], trainPredict[:,0]))\n",
    "print('Train Score: %.2f RMSE' % (trainScore))\n",
    "testScore = math.sqrt(mean_squared_error(testY[:, 0], testPredict[:,0]))\n",
    "print('Test Score: %.2f RMSE' % (testScore))"
   ]
  },
  {
   "cell_type": "code",
   "execution_count": null,
   "metadata": {},
   "outputs": [],
   "source": [
    "# dataset = scaler.inverse_transform(df) #dataset\n",
    "# dataset.shape"
   ]
  },
  {
   "cell_type": "code",
   "execution_count": null,
   "metadata": {},
   "outputs": [],
   "source": [
    "# # shift train predictions for plotting\n",
    "# trainPredictPlot = np.empty_like(dataset)\n",
    "# trainPredictPlot[:, :] = np.nan\n",
    "# trainPredictPlot[look_back:len(trainPredict)+look_back, :] = trainPredict\n",
    "# # Delta + previous close\n",
    "# trainPredictPlot = trainPredictPlot + df_data[1:]\n",
    "# set empty values\n",
    "# trainPredictPlot[0:look_back, :] = np.nan\n",
    "# trainPredictPlot[len(trainPredict)+look_back:, :] = np.nan\n",
    "\n",
    "# shift train predictions for plotting\n",
    "trainPredictPlot = np.empty_like(df)\n",
    "trainPredictPlot[:, :] = np.nan\n",
    "trainPredictPlot[look_back:len(trainPredict)+look_back, :] = trainPredict\n",
    "# Delta + previous close\n",
    "trainPredictPlot = trainPredictPlot + df[1:]"
   ]
  },
  {
   "cell_type": "code",
   "execution_count": null,
   "metadata": {},
   "outputs": [],
   "source": [
    "testPredictPlot = np.empty_like(dataset)\n",
    "testPredictPlot[:, :] = np.nan\n",
    "testPredictPlot[len(trainPredict)+(look_back*2):len(dataset), :] = testPredict\n",
    "\n",
    "# Delta + previous close\n",
    "testPredictPlot = testPredictPlot + df_data[1:]\n",
    "# set empty values\n",
    "# testPredictPlot[0:len(trainPredict)+(look_back*2), :] = np.nan\n",
    "# testPredictPlot[len(dataset):, :] = np.nan"
   ]
  },
  {
   "cell_type": "code",
   "execution_count": null,
   "metadata": {},
   "outputs": [],
   "source": [
    "# plot baseline and predictions\n",
    "plt.figure(figsize=(12,6))\n",
    "plt.plot(dataset + df_data[1:])\n",
    "plt.plot(trainPredictPlot)\n",
    "plt.plot(testPredictPlot)\n",
    "plt.legend(['Valid','Train','Predictions'],loc='upper left')\n",
    "#plt.show()\n"
   ]
  },
  {
   "cell_type": "code",
   "execution_count": null,
   "metadata": {},
   "outputs": [],
   "source": [
    "# plot baseline and predictions\n",
    "plt.plot(dataset + df_data[:-1])\n",
    "plt.plot(trainPredictPlot)\n",
    "plt.plot(testPredictPlot)\n",
    "plt.show()"
   ]
  },
  {
   "cell_type": "code",
   "execution_count": null,
   "metadata": {},
   "outputs": [],
   "source": [
    "# def get_quote(new_df):\n",
    "#     #get last 60days closing values and convert datframe to an array\n",
    "#     last_60_days = new_df[-60:].values #converts to array\n",
    "#     #scale data\n",
    "#     last_60_days_scaled = scaler.transform(last_60_days)\n",
    "#     #create empty list\n",
    "#     x_test = []\n",
    "#     #append last 60 days to x_test\n",
    "#     x_test.append(last_60_days_scaled)\n",
    "#     #conert x_test to a numpy array\n",
    "#     x_test = np.array(x_test)\n",
    "#     # #reshape the data\n",
    "#     x_test = np.reshape(x_test, (x_test.shape[0],x_test.shape[1],1))\n",
    "#     #get the predicted scaled price\n",
    "#     pred_price = model.predict(x_test)\n",
    "#     #undo the scaling \n",
    "#     pred_price = scaler.inverse_transform(pred_price) \n",
    "#     #what model thinks predicted price will be for 12/18/2019\n",
    "#     #the actual prcie was $69.94\n",
    "#     #DAL: 58.58, 2021-1-11 40.19\n",
    "#     return pred_price    "
   ]
  },
  {
   "cell_type": "code",
   "execution_count": null,
   "metadata": {},
   "outputs": [],
   "source": [
    "#get_quote(dataset)"
   ]
  },
  {
   "cell_type": "markdown",
   "metadata": {},
   "source": [
    "### Multi-Series Forecasting"
   ]
  },
  {
   "cell_type": "code",
   "execution_count": null,
   "metadata": {},
   "outputs": [],
   "source": [
    "df_multi = multiple_stock_data(ticker=[['PFE','JNJ','NVAX','MRNA','AZN']], start='12-31-2018',end='today',plot=True, stock_value='Adj Close');\n",
    "df_multi #;"
   ]
  },
  {
   "cell_type": "code",
   "execution_count": null,
   "metadata": {},
   "outputs": [],
   "source": [
    "len(df_multi), len(dataset_delta_AMAZN)"
   ]
  },
  {
   "cell_type": "code",
   "execution_count": null,
   "metadata": {},
   "outputs": [],
   "source": [
    "dataset_x = delta_time_series(df_multi)\n",
    "dataset_x "
   ]
  },
  {
   "cell_type": "code",
   "execution_count": null,
   "metadata": {},
   "outputs": [],
   "source": [
    "dataset_y= delta_time_series(dataset_delta_AMAZN)\n",
    "dataset_y "
   ]
  },
  {
   "cell_type": "code",
   "execution_count": null,
   "metadata": {},
   "outputs": [],
   "source": [
    "# normalize the dataset\n",
    "scaler_multi = MinMaxScaler(feature_range=(0, 1))\n",
    "scaler_multi.fit_transform(dataset_x.reshape(-1, 1))\n",
    "dataset_x = scaler_multi.transform(dataset_x)\n",
    "dataset_y = scaler_multi.transform(dataset_y)\n",
    "# split into train and test sets\n",
    "train_size = int(len(dataset_x) * 0.67)\n",
    "test_size = len(dataset_x) - train_size\n",
    "train_x, test_x = dataset_x[0:train_size,:], dataset_x[train_size:len(dataset_x),:]\n",
    "train_y, test_y = dataset_y[0:train_size,:], dataset_y[train_size:len(dataset_y),:]"
   ]
  },
  {
   "cell_type": "code",
   "execution_count": null,
   "metadata": {},
   "outputs": [],
   "source": [
    "train_x.shape,train_y.shape, test_x.shape, test_y.shape"
   ]
  },
  {
   "cell_type": "code",
   "execution_count": null,
   "metadata": {},
   "outputs": [],
   "source": [
    "train_data_gen = TimeseriesGenerator(train_x, train_y,\n",
    "                               length=look_back, sampling_rate=1,stride=1,\n",
    "                               batch_size=3)"
   ]
  },
  {
   "cell_type": "code",
   "execution_count": null,
   "metadata": {},
   "outputs": [],
   "source": [
    "test_data_gen = TimeseriesGenerator(test_x, test_y,\n",
    "                               length=look_back, sampling_rate=1,stride=1,\n",
    "                               batch_size=1)"
   ]
  },
  {
   "cell_type": "code",
   "execution_count": null,
   "metadata": {},
   "outputs": [],
   "source": []
  }
 ],
 "metadata": {
  "kernelspec": {
   "display_name": "Python 3",
   "language": "python",
   "name": "python3"
  },
  "language_info": {
   "codemirror_mode": {
    "name": "ipython",
    "version": 3
   },
   "file_extension": ".py",
   "mimetype": "text/x-python",
   "name": "python",
   "nbconvert_exporter": "python",
   "pygments_lexer": "ipython3",
   "version": "3.6.9"
  },
  "toc": {
   "base_numbering": 1,
   "nav_menu": {},
   "number_sections": true,
   "sideBar": true,
   "skip_h1_title": false,
   "title_cell": "Table of Contents",
   "title_sidebar": "Contents",
   "toc_cell": false,
   "toc_position": {},
   "toc_section_display": true,
   "toc_window_display": false
  }
 },
 "nbformat": 4,
 "nbformat_minor": 4
}
