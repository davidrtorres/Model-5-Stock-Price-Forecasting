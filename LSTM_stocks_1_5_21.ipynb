{
 "cells": [
  {
   "cell_type": "code",
   "execution_count": 1,
   "metadata": {},
   "outputs": [],
   "source": [
    "import pandas as pd\n",
    "import numpy as np\n",
    "import matplotlib.pyplot as plt\n",
    "%matplotlib inline"
   ]
  },
  {
   "cell_type": "code",
   "execution_count": 2,
   "metadata": {},
   "outputs": [
    {
     "data": {
      "text/plain": [
       "'\\nsequence data-data tht comes in a particular order\\n'"
      ]
     },
     "execution_count": 2,
     "metadata": {},
     "output_type": "execute_result"
    }
   ],
   "source": [
    "\"\"\"\n",
    "sequence data-data tht comes in a particular order\n",
    "\"\"\"\n",
    "#df_1 = pd.read_csv('apple_stock.csv', parse_dates=True, index_col=[0])"
   ]
  },
  {
   "cell_type": "code",
   "execution_count": 3,
   "metadata": {},
   "outputs": [],
   "source": [
    "#df_1.head()"
   ]
  },
  {
   "cell_type": "code",
   "execution_count": 4,
   "metadata": {},
   "outputs": [],
   "source": [
    "#df = pd.read_csv('data/apple_2012_1_1-2019_12_17.csv', parse_dates=True, index_col=[0])"
   ]
  },
  {
   "cell_type": "code",
   "execution_count": 5,
   "metadata": {},
   "outputs": [],
   "source": [
    "#df = df['Close']"
   ]
  },
  {
   "cell_type": "code",
   "execution_count": 6,
   "metadata": {},
   "outputs": [],
   "source": [
    "#df.head()"
   ]
  },
  {
   "cell_type": "code",
   "execution_count": 7,
   "metadata": {},
   "outputs": [],
   "source": [
    "#df = pd.DataFrame(df)"
   ]
  },
  {
   "cell_type": "code",
   "execution_count": 8,
   "metadata": {},
   "outputs": [],
   "source": [
    "#df.head()"
   ]
  },
  {
   "cell_type": "code",
   "execution_count": 9,
   "metadata": {},
   "outputs": [],
   "source": [
    "#df"
   ]
  },
  {
   "cell_type": "code",
   "execution_count": 10,
   "metadata": {},
   "outputs": [],
   "source": [
    "#df.shape"
   ]
  },
  {
   "cell_type": "code",
   "execution_count": 11,
   "metadata": {},
   "outputs": [],
   "source": [
    "#df.info()"
   ]
  },
  {
   "cell_type": "code",
   "execution_count": 12,
   "metadata": {},
   "outputs": [],
   "source": [
    "# df.plot(figsize=(12,8));\n",
    "# plt.title('Closing Price History');\n",
    "# plt.ylabel('Closnig Price USD ($)')"
   ]
  },
  {
   "cell_type": "markdown",
   "metadata": {},
   "source": [
    "## Train Test Split"
   ]
  },
  {
   "cell_type": "code",
   "execution_count": 13,
   "metadata": {},
   "outputs": [],
   "source": [
    "#len(df)"
   ]
  },
  {
   "cell_type": "code",
   "execution_count": 14,
   "metadata": {},
   "outputs": [],
   "source": [
    "#test_percent = 0.2 #want 20% of end of the dataset to be test set"
   ]
  },
  {
   "cell_type": "code",
   "execution_count": 15,
   "metadata": {},
   "outputs": [],
   "source": [
    "#len(df) * test_percent"
   ]
  },
  {
   "cell_type": "code",
   "execution_count": 16,
   "metadata": {},
   "outputs": [],
   "source": [
    "# test_point = np.round(len(df) * test_percent)\n",
    "# test_point"
   ]
  },
  {
   "cell_type": "code",
   "execution_count": 17,
   "metadata": {},
   "outputs": [],
   "source": [
    "# test_ind = int(len(df) - test_point)\n",
    "# test_ind"
   ]
  },
  {
   "cell_type": "code",
   "execution_count": 18,
   "metadata": {},
   "outputs": [],
   "source": [
    "#1510 * .10 = 151\n",
    "#1510 - 151= 1,359\n",
    "\n",
    "#2003 * .20 = \n",
    "#len(df) - 151"
   ]
  },
  {
   "cell_type": "code",
   "execution_count": 19,
   "metadata": {},
   "outputs": [],
   "source": [
    "# train = df.iloc[:test_ind]\n",
    "# test = df.iloc[test_ind:]"
   ]
  },
  {
   "cell_type": "code",
   "execution_count": 20,
   "metadata": {},
   "outputs": [],
   "source": [
    "#len(train), len(test)"
   ]
  },
  {
   "cell_type": "code",
   "execution_count": 21,
   "metadata": {},
   "outputs": [],
   "source": [
    "#train"
   ]
  },
  {
   "cell_type": "code",
   "execution_count": 22,
   "metadata": {},
   "outputs": [],
   "source": [
    "#test"
   ]
  },
  {
   "cell_type": "markdown",
   "metadata": {},
   "source": [
    "## Normalize Data"
   ]
  },
  {
   "cell_type": "code",
   "execution_count": 23,
   "metadata": {},
   "outputs": [],
   "source": [
    "from sklearn.preprocessing import MinMaxScaler"
   ]
  },
  {
   "cell_type": "code",
   "execution_count": 24,
   "metadata": {},
   "outputs": [],
   "source": [
    "# scaler = MinMaxScaler(feature_range=(0,1))\n",
    "# #only fit training data. Don't want to assume we have prior information about future\n",
    "# scaler.fit(train)\n",
    "# scaled_train = scaler.transform(train)\n",
    "# scaled_test = scaler.transform(test)"
   ]
  },
  {
   "cell_type": "markdown",
   "metadata": {},
   "source": [
    "## Create TimeSeriesGenerator"
   ]
  },
  {
   "cell_type": "code",
   "execution_count": 25,
   "metadata": {},
   "outputs": [
    {
     "name": "stderr",
     "output_type": "stream",
     "text": [
      "Using TensorFlow backend.\n"
     ]
    }
   ],
   "source": [
    "from keras.preprocessing.sequence import TimeseriesGenerator"
   ]
  },
  {
   "cell_type": "code",
   "execution_count": 26,
   "metadata": {},
   "outputs": [],
   "source": [
    "#len(test)"
   ]
  },
  {
   "cell_type": "code",
   "execution_count": 27,
   "metadata": {},
   "outputs": [],
   "source": [
    "#scaled_train.shape"
   ]
  },
  {
   "cell_type": "code",
   "execution_count": 28,
   "metadata": {},
   "outputs": [
    {
     "data": {
      "text/plain": [
       "\"\\nlength-lenght of output batches\\ndefining batches\\n\\n-how many sequences per batch?\\n\\nforecasting technique-predcit a timestep ahead.  Then incorporate our prediction into the next sequence we predcit off of\\n    You're forecasting on forecasts\\n\\n\\nlength of batch needs to be less than lenght of test set\\ncan't feed in a batch of 151 days and get a predicton on 152nd day\\nbatches need to be shortd than 151\\n\\nWe'll pas in 1 at a time\\ntest=400\\ncreate for training data\\n\""
      ]
     },
     "execution_count": 28,
     "metadata": {},
     "output_type": "execute_result"
    }
   ],
   "source": [
    "\"\"\"\n",
    "length-lenght of output batches\n",
    "defining batches\n",
    "\n",
    "-how many sequences per batch?\n",
    "\n",
    "forecasting technique-predcit a timestep ahead.  Then incorporate our prediction into the next sequence we predcit off of\n",
    "    You're forecasting on forecasts\n",
    "\n",
    "\n",
    "length of batch needs to be less than lenght of test set\n",
    "can't feed in a batch of 151 days and get a predicton on 152nd day\n",
    "batches need to be shortd than 151\n",
    "\n",
    "We'll pas in 1 at a time\n",
    "test=400\n",
    "create for training data\n",
    "\"\"\"\n",
    "# length = 60  #length of output sequences in the timestep. # of timeseries samples in each batch\n",
    "# batch_size = 2 #how many time series are we returning in each batch\n",
    "# #units=50\n",
    "# #generator-going to generate batches\n",
    "# #genrator is \n",
    "# generator = TimeseriesGenerator(scaled_train, scaled_train, length=length, batch_size=batch_size)#batch_size-1 array for X and 1 value for y\n",
    "#                                                                                         #if this were 2, you'd get 2 sets for X and 2 for y"
   ]
  },
  {
   "cell_type": "code",
   "execution_count": 29,
   "metadata": {},
   "outputs": [],
   "source": [
    "#len(test)"
   ]
  },
  {
   "cell_type": "code",
   "execution_count": 30,
   "metadata": {},
   "outputs": [],
   "source": [
    "# sample = pd.DataFrame(scaled_train)\n",
    "# sample.head(10)"
   ]
  },
  {
   "cell_type": "code",
   "execution_count": 31,
   "metadata": {},
   "outputs": [],
   "source": [
    "#len(scaled_train)"
   ]
  },
  {
   "cell_type": "code",
   "execution_count": 32,
   "metadata": {},
   "outputs": [],
   "source": [
    "#1603 -2 = \n",
    "#len(generator), 1603-2"
   ]
  },
  {
   "cell_type": "code",
   "execution_count": 33,
   "metadata": {},
   "outputs": [],
   "source": [
    "#1st batch that is generated\n",
    "#X,y = generator[0]"
   ]
  },
  {
   "cell_type": "code",
   "execution_count": 34,
   "metadata": {},
   "outputs": [],
   "source": [
    "#given length of 2 predict 1 into the future \n",
    "#X"
   ]
  },
  {
   "cell_type": "code",
   "execution_count": 35,
   "metadata": {},
   "outputs": [],
   "source": [
    "#predict the next value\n",
    "#givne th length of 60, go and predict 61st day\n",
    "#y"
   ]
  },
  {
   "cell_type": "code",
   "execution_count": 36,
   "metadata": {},
   "outputs": [],
   "source": [
    "#given lenght of 130, then prdict the 131st day\n",
    "#len(X[0])"
   ]
  },
  {
   "cell_type": "code",
   "execution_count": 37,
   "metadata": {},
   "outputs": [],
   "source": [
    "#scaled_train"
   ]
  },
  {
   "cell_type": "code",
   "execution_count": 38,
   "metadata": {},
   "outputs": [
    {
     "data": {
      "text/plain": [
       "1599"
      ]
     },
     "execution_count": 38,
     "metadata": {},
     "output_type": "execute_result"
    }
   ],
   "source": [
    "#can't have generator going all hte way to end of training set\n",
    "1603 -4 "
   ]
  },
  {
   "cell_type": "code",
   "execution_count": 39,
   "metadata": {},
   "outputs": [],
   "source": [
    "#1603 - 4 = \n",
    "#len(generator)"
   ]
  },
  {
   "cell_type": "markdown",
   "metadata": {},
   "source": [
    "## Create the Model"
   ]
  },
  {
   "cell_type": "code",
   "execution_count": 40,
   "metadata": {},
   "outputs": [],
   "source": [
    "from keras.models import Sequential\n",
    "from keras.layers import Dense, LSTM, Dropout"
   ]
  },
  {
   "cell_type": "code",
   "execution_count": 41,
   "metadata": {},
   "outputs": [],
   "source": [
    "\"\"\"\n",
    "len(test) = 151\n",
    "length=3  #lenght of batch\n",
    "units-25\n",
    "\"\"\"\n",
    "n_features = 1\n",
    "\n",
    "# model = Sequential()\n",
    "# model.add(LSTM(units = 100, activation='relu', input_shape=(length, n_features)))\n",
    "# #we want our prediciton to be a single number\n",
    "# model.add(Dense(1)) #1 final predcited output\n",
    "\n",
    "# model.compile(optimizer='adam',loss='mse')\n",
    "# -------\n",
    "\n",
    "# model = Sequential()\n",
    "\n",
    "# model.add(LSTM(units = units, return_sequences = True, input_shape=(length, n_features)))\n",
    "# model.add(Dropout(0.2))\n",
    "\n",
    "# model.add(LSTM(units = units, return_sequences = True))\n",
    "# model.add(Dropout(0.2))\n",
    "\n",
    "# model.add(LSTM(units = units, return_sequences = True))\n",
    "# model.add(Dropout(0.2))\n",
    "\n",
    "# model.add(LSTM(units = units))\n",
    "# model.add(Dropout(0.2))\n",
    "\n",
    "# model.add(Dense(units = 1))\n",
    "\n",
    "# model.compile(optimizer = 'adam', loss = 'mean_squared_error')\n",
    "# --------\n",
    "# model = Sequential()\n",
    "\n",
    "# model.add(LSTM(units = 50, return_sequences = True, input_shape=(length, n_features)))\n",
    "# #model.add(Dropout(0.2))\n",
    "\n",
    "# model.add(LSTM(units = 50, return_sequences = True))\n",
    "# #model.add(Dropout(0.2))\n",
    "\n",
    "# model.add(LSTM(units = 50, return_sequences = False))\n",
    "# # model.add(Dropout(0.2))\n",
    "\n",
    "# # model.add(LSTM(units = units))\n",
    "# # model.add(Dropout(0.2))\n",
    "\n",
    "# model.add(Dense(units = 25))\n",
    "# model.add(Dense(units = 1))\n",
    "\n",
    "# model.compile(optimizer = 'adam', loss = 'mean_squared_error')\n",
    "# ------\n",
    "# model = Sequential()\n",
    "\n",
    "# model.add(LSTM(units = 50, return_sequences = True, input_shape = (length, n_features)))\n",
    "# #model.add(Dropout(0.2))\n",
    "\n",
    "# model.add(LSTM(units = 50, return_sequences = False))\n",
    "# #model.add(Dropout(0.2))\n",
    "\n",
    "# # model.add(LSTM(units = 50))\n",
    "# # #model.add(Dropout(0.2))\n",
    "\n",
    "# # model.add(LSTM(units = 50))\n",
    "# # model.add(Dropout(0.2))\n",
    "# model.add(Dense(units = 25))\n",
    "# model.add(Dense(units = 1))\n",
    "\n",
    "# model.compile(optimizer = 'adam', loss = 'mean_squared_error')\n"
   ]
  },
  {
   "cell_type": "code",
   "execution_count": 42,
   "metadata": {},
   "outputs": [],
   "source": [
    "#model.summary()"
   ]
  },
  {
   "cell_type": "code",
   "execution_count": 43,
   "metadata": {},
   "outputs": [],
   "source": [
    "from keras.callbacks import EarlyStopping"
   ]
  },
  {
   "cell_type": "code",
   "execution_count": 44,
   "metadata": {},
   "outputs": [],
   "source": [
    "#early_stop = EarlyStopping(monitor='val_loss', patience=2)"
   ]
  },
  {
   "cell_type": "code",
   "execution_count": 45,
   "metadata": {},
   "outputs": [],
   "source": [
    "#len(scaled_test), length"
   ]
  },
  {
   "cell_type": "code",
   "execution_count": 46,
   "metadata": {},
   "outputs": [],
   "source": [
    "#create generator for scaled_test/validation set\n",
    "#lenght must be shorter than scaled_test\n",
    "#length = 300\n",
    "\n",
    "#validation_generator = TimeseriesGenerator(scaled_test, scaled_test, length=length, batch_size=batch_size)"
   ]
  },
  {
   "cell_type": "code",
   "execution_count": 47,
   "metadata": {},
   "outputs": [],
   "source": [
    "#model.fit_generator(generator, epochs=1, validation_data=validation_generator,callbacks=[early_stop] ) #,callbacks=[early_stop]"
   ]
  },
  {
   "cell_type": "code",
   "execution_count": 48,
   "metadata": {},
   "outputs": [],
   "source": [
    "#losses = pd.DataFrame(model.history.history)"
   ]
  },
  {
   "cell_type": "code",
   "execution_count": 49,
   "metadata": {},
   "outputs": [
    {
     "data": {
      "text/plain": [
       "'\\n\\n'"
      ]
     },
     "execution_count": 49,
     "metadata": {},
     "output_type": "execute_result"
    }
   ],
   "source": [
    "\"\"\"\n",
    "\n",
    "\"\"\"\n",
    "#losses.plot()"
   ]
  },
  {
   "cell_type": "markdown",
   "metadata": {},
   "source": [
    "### Evaluate on Test Data\n",
    "Forecast predictions for the test data range(-- days of the entire dataset).<br>\n",
    "Final result will be DataFrame with 2 columns, true test values and the predictions.<br>"
   ]
  },
  {
   "cell_type": "code",
   "execution_count": 50,
   "metadata": {},
   "outputs": [],
   "source": [
    "# test_predictions = []\n",
    "\n",
    "# #last 60 days of train set to predcit 1 day in the future, which is 1st point in test set\n",
    "# #ie 24, would be last 24 days of training data. 24 days to predict 1 day into the future\n",
    "# first_eval_batch = scaled_train[-length:] #should be in last batch if training data\n",
    "# #change 1\n",
    "# # 1 time series per batch(batch_size), length, n_features=1\n",
    "# current_batch = first_eval_batch.reshape((1,length, n_features)) #reshape to correct format. 1 item per batch\n",
    "\n",
    "# for i in range(len(test)): #only forecasting on test set\n",
    "#     #get hte predcition 1 timestamp ahead.\n",
    "#     current_pred = model.predict(current_batch)[0] #to be current prediction\n",
    "    \n",
    "#     test_predictions.append(current_pred) #take current_pred and append to list\n",
    "#     #in order to keep predicintg into future need to move current batch forward 1 timestep\n",
    "#     #gets rid of 1st item and replaces it with current prediction all the way to the very end\n",
    "#     #drops 1st value in current_batch\n",
    "#     #append curent predcition value. Moves current_batch 1 value into the future\n",
    "#     #true forecast is predciting off predictions\n",
    "#     #1-grab everythin but index 0\n",
    "#     current_batch = np.append(current_batch[:,1:,:],[[current_pred]], axis=1)\n"
   ]
  },
  {
   "cell_type": "code",
   "execution_count": 51,
   "metadata": {},
   "outputs": [],
   "source": [
    "#current_batch.shape"
   ]
  },
  {
   "cell_type": "code",
   "execution_count": 52,
   "metadata": {},
   "outputs": [],
   "source": [
    "#true_predictions = scaler.inverse_transform(test_predictions)"
   ]
  },
  {
   "cell_type": "code",
   "execution_count": 53,
   "metadata": {},
   "outputs": [],
   "source": [
    "#test['Predictions'] = true_predictions"
   ]
  },
  {
   "cell_type": "code",
   "execution_count": 54,
   "metadata": {},
   "outputs": [],
   "source": [
    "#test.head(25)"
   ]
  },
  {
   "cell_type": "code",
   "execution_count": 55,
   "metadata": {},
   "outputs": [],
   "source": [
    "#test.plot(figsize=(12,8))"
   ]
  },
  {
   "cell_type": "markdown",
   "metadata": {},
   "source": [
    "#### Calculate RMSE"
   ]
  },
  {
   "cell_type": "code",
   "execution_count": 56,
   "metadata": {},
   "outputs": [],
   "source": [
    "from sklearn.metrics import mean_squared_error"
   ]
  },
  {
   "cell_type": "code",
   "execution_count": 57,
   "metadata": {},
   "outputs": [],
   "source": [
    "#how accurate model predicts reponse\n",
    "# rmse = np.sqrt(mean_squared_error(test['Close'],test['Predictions']))\n",
    "# rmse"
   ]
  },
  {
   "cell_type": "markdown",
   "metadata": {},
   "source": [
    "## Forecast into Unknown Future"
   ]
  },
  {
   "cell_type": "code",
   "execution_count": 58,
   "metadata": {},
   "outputs": [],
   "source": [
    "\n",
    "# full_scaler = MinMaxScaler()\n",
    "# scaled_full_data = full_scaler.fit_transform(df)\n"
   ]
  },
  {
   "cell_type": "code",
   "execution_count": 59,
   "metadata": {},
   "outputs": [],
   "source": [
    "#length = 201\n",
    "#generator = TimeseriesGenerator(scaled_full_data, scaled_full_data, length=length, batch_size=batch_size)"
   ]
  },
  {
   "cell_type": "code",
   "execution_count": 60,
   "metadata": {},
   "outputs": [],
   "source": [
    "n_features = 1\n",
    "\n",
    "# model = Sequential()\n",
    "# model.add(LSTM(units = units, input_shape=(length, n_features)))\n",
    "# #we want our prediciton to be a single number\n",
    "# model.add(Dense(1)) #1 final predcited output\n",
    "\n",
    "# model.compile(optimizer='adam',loss='mse')\n",
    "# ------\n",
    "\n",
    "# model.compile(optimizer='adam',loss='mse')\n",
    "# model = Sequential()\n",
    "\n",
    "# model.add(LSTM(units = units, return_sequences = True, input_shape=(length, n_features)))\n",
    "# model.add(Dropout(0.2))\n",
    "\n",
    "# model.add(LSTM(units = units, return_sequences = True))\n",
    "# model.add(Dropout(0.2))\n",
    "\n",
    "# model.add(LSTM(units = units, return_sequences = True))\n",
    "# model.add(Dropout(0.2))\n",
    "\n",
    "# model.add(LSTM(units = units))\n",
    "# model.add(Dropout(0.2))\n",
    "\n",
    "# model.add(Dense(units = 1))\n",
    "\n",
    "# model.compile(optimizer = 'adam', loss = 'mean_squared_error')\n",
    "#-----\n",
    "\n",
    "# model = Sequential()\n",
    "\n",
    "# model.add(LSTM(units = 50, return_sequences = True, input_shape = (length, n_features)))\n",
    "# model.add(Dropout(0.2))\n",
    "\n",
    "# model.add(LSTM(units = 50, return_sequences = True))\n",
    "# model.add(Dropout(0.2))\n",
    "\n",
    "# model.add(LSTM(units = 50, return_sequences = True))\n",
    "# model.add(Dropout(0.2))\n",
    "\n",
    "# model.add(LSTM(units = 50))\n",
    "# model.add(Dropout(0.2))\n",
    "\n",
    "# model.add(Dense(units = 1))\n",
    "\n",
    "# model.compile(optimizer = 'adam', loss = 'mean_squared_error')\n"
   ]
  },
  {
   "cell_type": "code",
   "execution_count": 61,
   "metadata": {},
   "outputs": [],
   "source": [
    "#model.fit_generator(generator, epochs=100, validation_data=validation_generator)"
   ]
  },
  {
   "cell_type": "code",
   "execution_count": 62,
   "metadata": {},
   "outputs": [],
   "source": [
    "# forecast = []\n",
    "# periods = 10 #forecasting off predeiciotns, adding in more predictions\n",
    "#              #forecast length should be the same as test length\n",
    "#             #should equal intial batch length\n",
    "\n",
    "# first_eval_batch = scaled_full_data[-length:]\n",
    "# current_batch = first_eval_batch.reshape((1, length, n_features))\n",
    "\n",
    "# for i in range(periods):\n",
    "#     current_pred = model.predict(current_batch)[0] #to be current prediction\n",
    "    \n",
    "#     forecast.append(current_pred) #take current_pred and append to list\n",
    "#     #in order to keep predicintg into future need to move current batch forward 1 timestep\n",
    "#     #gets rid of 1st item and replaces it with current prediction all the way to the very end\n",
    "#     current_batch = np.append(current_batch[:,1:,:],[[current_pred]], axis=1)\n"
   ]
  },
  {
   "cell_type": "code",
   "execution_count": 63,
   "metadata": {},
   "outputs": [],
   "source": [
    "# #inverse scale \n",
    "# forecast = scaler.inverse_transform(forecast)"
   ]
  },
  {
   "cell_type": "code",
   "execution_count": 64,
   "metadata": {},
   "outputs": [],
   "source": [
    "# df"
   ]
  },
  {
   "cell_type": "code",
   "execution_count": 65,
   "metadata": {},
   "outputs": [],
   "source": [
    "# #going into 2020\n",
    "# forecast"
   ]
  },
  {
   "cell_type": "code",
   "execution_count": 66,
   "metadata": {},
   "outputs": [],
   "source": [
    "#len(forecast)"
   ]
  },
  {
   "cell_type": "code",
   "execution_count": 67,
   "metadata": {},
   "outputs": [],
   "source": [
    "# #build forecast index\n",
    "# #forecasting off predictions\n",
    "# #period should be equal to intial batch ength\n",
    "# forecast_index = pd.date_range(start='2020-01-01',periods=periods, freq='B')"
   ]
  },
  {
   "cell_type": "code",
   "execution_count": 68,
   "metadata": {},
   "outputs": [],
   "source": [
    "#forecast_index"
   ]
  },
  {
   "cell_type": "code",
   "execution_count": 69,
   "metadata": {},
   "outputs": [],
   "source": [
    "#forecast_df = pd.DataFrame(data=forecast,index=forecast_index, columns=['Forecast'])"
   ]
  },
  {
   "cell_type": "code",
   "execution_count": 70,
   "metadata": {},
   "outputs": [],
   "source": [
    "#forecast_df.plot()"
   ]
  },
  {
   "cell_type": "code",
   "execution_count": 71,
   "metadata": {},
   "outputs": [],
   "source": [
    "# ax=df.plot()\n",
    "# forecast_df.plot(ax=ax)"
   ]
  },
  {
   "cell_type": "code",
   "execution_count": 72,
   "metadata": {},
   "outputs": [],
   "source": [
    "# ax=df.plot()\n",
    "# forecast_df.plot(ax=ax)\n",
    "# plt.xlim('2020-01-01','2020-04-01')"
   ]
  },
  {
   "cell_type": "code",
   "execution_count": 73,
   "metadata": {},
   "outputs": [],
   "source": [
    "import pandas_datareader.data as web\n",
    "\n",
    "from datetime import date"
   ]
  },
  {
   "cell_type": "code",
   "execution_count": 74,
   "metadata": {},
   "outputs": [],
   "source": [
    "#df = pd.read_csv('data/air_passengers.csv', parse_dates=True, index_col=[0])"
   ]
  },
  {
   "cell_type": "code",
   "execution_count": 75,
   "metadata": {},
   "outputs": [],
   "source": [
    "#df.head()"
   ]
  },
  {
   "cell_type": "code",
   "execution_count": 76,
   "metadata": {},
   "outputs": [],
   "source": [
    "# #Get the stock quote\n",
    "# start_date = '2012-01-01'\n",
    "# end_date = '2019-12-17'\n",
    "# df = web.DataReader('AAPL', data_source='yahoo', start=start_date, end=end_date) \n",
    "# #Show the data \n",
    "# df.tail()"
   ]
  },
  {
   "cell_type": "code",
   "execution_count": 77,
   "metadata": {},
   "outputs": [],
   "source": [
    "#df.to_csv('data/apple_2012_1_1-2019_12_17.csv')"
   ]
  },
  {
   "cell_type": "code",
   "execution_count": 78,
   "metadata": {},
   "outputs": [],
   "source": [
    "df_1 = pd.read_csv('data/apple_2012_1_1-2019_12_17.csv', parse_dates=True, index_col=[0])"
   ]
  },
  {
   "cell_type": "code",
   "execution_count": 79,
   "metadata": {},
   "outputs": [
    {
     "data": {
      "text/plain": [
       "(2003, 6)"
      ]
     },
     "execution_count": 79,
     "metadata": {},
     "output_type": "execute_result"
    }
   ],
   "source": [
    "df_1.shape"
   ]
  },
  {
   "cell_type": "code",
   "execution_count": 80,
   "metadata": {},
   "outputs": [],
   "source": [
    "#test_percent = 0.2 \n",
    "#len(df) * test_percent\n",
    "#test_point = np.round(len(df) * test_percent)\n",
    "#test_ind = int(len(df) - test_point)\n",
    "#train = df.iloc[:test_ind]\n",
    "#test = df.iloc[test_ind:]\n",
    "#train.shape, test.shape"
   ]
  },
  {
   "cell_type": "code",
   "execution_count": 81,
   "metadata": {},
   "outputs": [],
   "source": [
    "df = df_1['Close']"
   ]
  },
  {
   "cell_type": "code",
   "execution_count": 82,
   "metadata": {},
   "outputs": [
    {
     "data": {
      "text/html": [
       "<div>\n",
       "<style scoped>\n",
       "    .dataframe tbody tr th:only-of-type {\n",
       "        vertical-align: middle;\n",
       "    }\n",
       "\n",
       "    .dataframe tbody tr th {\n",
       "        vertical-align: top;\n",
       "    }\n",
       "\n",
       "    .dataframe thead th {\n",
       "        text-align: right;\n",
       "    }\n",
       "</style>\n",
       "<table border=\"1\" class=\"dataframe\">\n",
       "  <thead>\n",
       "    <tr style=\"text-align: right;\">\n",
       "      <th></th>\n",
       "      <th>Close</th>\n",
       "    </tr>\n",
       "    <tr>\n",
       "      <th>Date</th>\n",
       "      <th></th>\n",
       "    </tr>\n",
       "  </thead>\n",
       "  <tbody>\n",
       "    <tr>\n",
       "      <th>2012-01-03</th>\n",
       "      <td>14.686786</td>\n",
       "    </tr>\n",
       "    <tr>\n",
       "      <th>2012-01-04</th>\n",
       "      <td>14.765715</td>\n",
       "    </tr>\n",
       "    <tr>\n",
       "      <th>2012-01-05</th>\n",
       "      <td>14.929643</td>\n",
       "    </tr>\n",
       "    <tr>\n",
       "      <th>2012-01-06</th>\n",
       "      <td>15.085714</td>\n",
       "    </tr>\n",
       "    <tr>\n",
       "      <th>2012-01-09</th>\n",
       "      <td>15.061786</td>\n",
       "    </tr>\n",
       "  </tbody>\n",
       "</table>\n",
       "</div>"
      ],
      "text/plain": [
       "                Close\n",
       "Date                 \n",
       "2012-01-03  14.686786\n",
       "2012-01-04  14.765715\n",
       "2012-01-05  14.929643\n",
       "2012-01-06  15.085714\n",
       "2012-01-09  15.061786"
      ]
     },
     "execution_count": 82,
     "metadata": {},
     "output_type": "execute_result"
    }
   ],
   "source": [
    "df = pd.DataFrame(df)\n",
    "df.head()"
   ]
  },
  {
   "cell_type": "code",
   "execution_count": 83,
   "metadata": {},
   "outputs": [
    {
     "data": {
      "text/plain": [
       "(2003, 1)"
      ]
     },
     "execution_count": 83,
     "metadata": {},
     "output_type": "execute_result"
    }
   ],
   "source": [
    "df.shape"
   ]
  },
  {
   "cell_type": "code",
   "execution_count": 84,
   "metadata": {},
   "outputs": [
    {
     "data": {
      "text/plain": [
       "((1602, 1), (401, 1))"
      ]
     },
     "execution_count": 84,
     "metadata": {},
     "output_type": "execute_result"
    }
   ],
   "source": [
    "# train=df[:132]\n",
    "# test=df[132:]\n",
    "# scaler=MinMaxScaler()\n",
    "# scaled_train=scaler.fit_transform(train)\n",
    "# scaled_test=scaler.transform(test)\n",
    "test_percent = 0.2 \n",
    "len(df) * test_percent\n",
    "test_point = np.round(len(df) * test_percent)\n",
    "test_ind = int(len(df) - test_point)\n",
    "train = df.iloc[:test_ind]\n",
    "test = df.iloc[test_ind:]\n",
    "train.shape, test.shape"
   ]
  },
  {
   "cell_type": "code",
   "execution_count": 85,
   "metadata": {},
   "outputs": [
    {
     "data": {
      "text/plain": [
       "((1602, 1), (401, 1))"
      ]
     },
     "execution_count": 85,
     "metadata": {},
     "output_type": "execute_result"
    }
   ],
   "source": [
    "scaler=MinMaxScaler()\n",
    "scaled_train=scaler.fit_transform(train)\n",
    "scaled_test=scaler.transform(test)\n",
    "scaled_train.shape, scaled_test.shape"
   ]
  },
  {
   "cell_type": "code",
   "execution_count": 86,
   "metadata": {},
   "outputs": [],
   "source": [
    "n_input=60    #use last 12 months data to predict the next month data.\n",
    "n_features=1  #we have 1 feature\n",
    "batch_size=32"
   ]
  },
  {
   "cell_type": "code",
   "execution_count": 87,
   "metadata": {},
   "outputs": [],
   "source": [
    "#TimeSeries generator that would give us the data in the 3D format\n",
    "# format needs to be (#batch_size,#inputs,#features), so here this would be (1,12,1)\n",
    "train_generator=TimeseriesGenerator(scaled_train,\n",
    "                                     scaled_train,\n",
    "                                     length=n_input, \n",
    "                                    batch_size=batch_size)\n",
    "                                     "
   ]
  },
  {
   "cell_type": "code",
   "execution_count": 88,
   "metadata": {},
   "outputs": [
    {
     "data": {
      "text/plain": [
       "49"
      ]
     },
     "execution_count": 88,
     "metadata": {},
     "output_type": "execute_result"
    }
   ],
   "source": [
    "len(train_generator)"
   ]
  },
  {
   "cell_type": "code",
   "execution_count": 89,
   "metadata": {},
   "outputs": [
    {
     "data": {
      "text/plain": [
       "(1602, 1)"
      ]
     },
     "execution_count": 89,
     "metadata": {},
     "output_type": "execute_result"
    }
   ],
   "source": [
    "scaled_train.shape"
   ]
  },
  {
   "cell_type": "code",
   "execution_count": 90,
   "metadata": {},
   "outputs": [],
   "source": [
    "model=Sequential()\n",
    "# model.add(LSTM(50,activation='relu',input_shape=(n_input,n_features),return_sequences=True))\n",
    "# #model.add(Dropout(0.2))\n",
    "# model.add(LSTM(50,activation='relu',return_sequences=False))\n",
    "# #model.add(Dropout(0.2))\n",
    "# #model.add(LSTM(10,activation='relu'))\n",
    "# model.add(Dense(25))\n",
    "# model.add(Dense(1))\n",
    "\n",
    "model.add(LSTM(units = 50, return_sequences = True, input_shape = (n_input, n_features)))\n",
    "#model.add(Dropout(0.2))\n",
    "\n",
    "model.add(LSTM(units = 50, return_sequences = True))\n",
    "#model.add(Dropout(0.2))\n",
    "\n",
    "model.add(LSTM(units = 50, return_sequences = True))\n",
    "#model.add(Dropout(0.2))\n",
    "\n",
    "model.add(LSTM(units = 50))\n",
    "#model.add(Dropout(0.2))\n",
    "\n",
    "model.add(Dense(units = 1))\n",
    "\n",
    "model.compile(optimizer = 'adam', loss = 'mean_squared_error')\n"
   ]
  },
  {
   "cell_type": "code",
   "execution_count": 91,
   "metadata": {},
   "outputs": [
    {
     "name": "stdout",
     "output_type": "stream",
     "text": [
      "_________________________________________________________________\n",
      "Layer (type)                 Output Shape              Param #   \n",
      "=================================================================\n",
      "lstm_1 (LSTM)                (None, 60, 50)            10400     \n",
      "_________________________________________________________________\n",
      "lstm_2 (LSTM)                (None, 60, 50)            20200     \n",
      "_________________________________________________________________\n",
      "lstm_3 (LSTM)                (None, 60, 50)            20200     \n",
      "_________________________________________________________________\n",
      "lstm_4 (LSTM)                (None, 50)                20200     \n",
      "_________________________________________________________________\n",
      "dense_1 (Dense)              (None, 1)                 51        \n",
      "=================================================================\n",
      "Total params: 71,051\n",
      "Trainable params: 71,051\n",
      "Non-trainable params: 0\n",
      "_________________________________________________________________\n"
     ]
    }
   ],
   "source": [
    "model.compile(optimizer='adam',loss='mse')\n",
    "model.summary()"
   ]
  },
  {
   "cell_type": "code",
   "execution_count": 92,
   "metadata": {},
   "outputs": [
    {
     "name": "stdout",
     "output_type": "stream",
     "text": [
      "Epoch 1/100\n",
      "49/49 [==============================] - 16s 327ms/step - loss: 0.0391\n",
      "Epoch 2/100\n",
      "49/49 [==============================] - 14s 294ms/step - loss: 0.0090\n",
      "Epoch 3/100\n",
      "49/49 [==============================] - 12s 254ms/step - loss: 0.0073\n",
      "Epoch 4/100\n",
      "49/49 [==============================] - 13s 259ms/step - loss: 0.0044\n",
      "Epoch 5/100\n",
      "49/49 [==============================] - 13s 273ms/step - loss: 0.0028\n",
      "Epoch 6/100\n",
      "49/49 [==============================] - 12s 250ms/step - loss: 0.0069\n",
      "Epoch 7/100\n",
      "49/49 [==============================] - 13s 258ms/step - loss: 0.0046\n",
      "Epoch 8/100\n",
      "49/49 [==============================] - 15s 306ms/step - loss: 0.0031\n",
      "Epoch 9/100\n",
      "49/49 [==============================] - 12s 252ms/step - loss: 0.0023\n",
      "Epoch 10/100\n",
      "49/49 [==============================] - 14s 291ms/step - loss: 0.0027\n",
      "Epoch 11/100\n",
      "49/49 [==============================] - 13s 273ms/step - loss: 0.0033\n",
      "Epoch 12/100\n",
      "49/49 [==============================] - 20s 402ms/step - loss: 0.0035\n",
      "Epoch 13/100\n",
      "49/49 [==============================] - 19s 398ms/step - loss: 0.0024\n",
      "Epoch 14/100\n",
      "49/49 [==============================] - 17s 338ms/step - loss: 0.0016\n",
      "Epoch 15/100\n",
      "49/49 [==============================] - 16s 333ms/step - loss: 0.0030\n",
      "Epoch 16/100\n",
      "49/49 [==============================] - 14s 276ms/step - loss: 0.0024\n",
      "Epoch 17/100\n",
      "49/49 [==============================] - 14s 291ms/step - loss: 0.0029\n",
      "Epoch 18/100\n",
      "49/49 [==============================] - 13s 272ms/step - loss: 0.0020\n",
      "Epoch 19/100\n",
      "49/49 [==============================] - 13s 256ms/step - loss: 0.0015\n",
      "Epoch 20/100\n",
      "49/49 [==============================] - 16s 326ms/step - loss: 0.0060\n",
      "Epoch 21/100\n",
      "49/49 [==============================] - 13s 269ms/step - loss: 0.0017\n",
      "Epoch 22/100\n",
      "49/49 [==============================] - 12s 251ms/step - loss: 0.0017\n",
      "Epoch 23/100\n",
      "49/49 [==============================] - 12s 252ms/step - loss: 0.0015\n",
      "Epoch 24/100\n",
      "49/49 [==============================] - 15s 314ms/step - loss: 0.0017\n",
      "Epoch 25/100\n",
      "49/49 [==============================] - 16s 320ms/step - loss: 0.0015\n",
      "Epoch 26/100\n",
      "49/49 [==============================] - 17s 349ms/step - loss: 0.0014\n",
      "Epoch 27/100\n",
      "49/49 [==============================] - 17s 341ms/step - loss: 0.0020\n",
      "Epoch 28/100\n",
      "49/49 [==============================] - 17s 348ms/step - loss: 0.0021\n",
      "Epoch 29/100\n",
      "49/49 [==============================] - 15s 300ms/step - loss: 0.0016\n",
      "Epoch 30/100\n",
      "49/49 [==============================] - 12s 250ms/step - loss: 0.0013\n",
      "Epoch 31/100\n",
      "49/49 [==============================] - 13s 272ms/step - loss: 0.0013\n",
      "Epoch 32/100\n",
      "49/49 [==============================] - 12s 250ms/step - loss: 0.0020\n",
      "Epoch 33/100\n",
      "49/49 [==============================] - 13s 258ms/step - loss: 0.0022\n",
      "Epoch 34/100\n",
      "49/49 [==============================] - 16s 323ms/step - loss: 0.0010\n",
      "Epoch 35/100\n",
      "49/49 [==============================] - 14s 291ms/step - loss: 0.0014\n",
      "Epoch 36/100\n",
      "49/49 [==============================] - 12s 251ms/step - loss: 8.7335e-04\n",
      "Epoch 37/100\n",
      "49/49 [==============================] - 15s 300ms/step - loss: 0.0013\n",
      "Epoch 38/100\n",
      "49/49 [==============================] - 16s 332ms/step - loss: 0.0012\n",
      "Epoch 39/100\n",
      "49/49 [==============================] - 16s 319ms/step - loss: 9.4664e-04\n",
      "Epoch 40/100\n",
      "49/49 [==============================] - 15s 305ms/step - loss: 7.2549e-04\n",
      "Epoch 41/100\n",
      "49/49 [==============================] - 14s 282ms/step - loss: 8.3093e-04\n",
      "Epoch 42/100\n",
      "49/49 [==============================] - 15s 307ms/step - loss: 7.6543e-04\n",
      "Epoch 43/100\n",
      "49/49 [==============================] - 13s 268ms/step - loss: 6.4900e-04\n",
      "Epoch 44/100\n",
      "49/49 [==============================] - 13s 265ms/step - loss: 6.3836e-04\n",
      "Epoch 45/100\n",
      "49/49 [==============================] - 13s 275ms/step - loss: 5.9848e-04\n",
      "Epoch 46/100\n",
      "49/49 [==============================] - 13s 275ms/step - loss: 5.7852e-04\n",
      "Epoch 47/100\n",
      "49/49 [==============================] - 14s 276ms/step - loss: 7.2426e-04\n",
      "Epoch 48/100\n",
      "49/49 [==============================] - 14s 280ms/step - loss: 8.5765e-04\n",
      "Epoch 49/100\n",
      "49/49 [==============================] - 14s 278ms/step - loss: 6.1796e-04\n",
      "Epoch 50/100\n",
      "49/49 [==============================] - 14s 285ms/step - loss: 8.0071e-04\n",
      "Epoch 51/100\n",
      "49/49 [==============================] - 13s 261ms/step - loss: 4.7762e-04\n",
      "Epoch 52/100\n",
      "49/49 [==============================] - 13s 268ms/step - loss: 8.3793e-04\n",
      "Epoch 53/100\n",
      "49/49 [==============================] - 13s 269ms/step - loss: 7.2390e-04\n",
      "Epoch 54/100\n",
      "49/49 [==============================] - 14s 286ms/step - loss: 5.4849e-04\n",
      "Epoch 55/100\n",
      "49/49 [==============================] - 13s 271ms/step - loss: 5.8196e-04\n",
      "Epoch 56/100\n",
      "49/49 [==============================] - 15s 303ms/step - loss: 4.8529e-04\n",
      "Epoch 57/100\n",
      "49/49 [==============================] - 14s 280ms/step - loss: 6.7573e-04\n",
      "Epoch 58/100\n",
      "49/49 [==============================] - 17s 355ms/step - loss: 4.0933e-04\n",
      "Epoch 59/100\n",
      "49/49 [==============================] - 17s 340ms/step - loss: 4.1740e-04\n",
      "Epoch 60/100\n",
      "49/49 [==============================] - 16s 322ms/step - loss: 0.0019\n",
      "Epoch 61/100\n",
      "49/49 [==============================] - 15s 311ms/step - loss: 0.0069\n",
      "Epoch 62/100\n",
      "49/49 [==============================] - 16s 328ms/step - loss: 0.0035\n",
      "Epoch 63/100\n",
      "49/49 [==============================] - 13s 269ms/step - loss: 0.0010\n",
      "Epoch 64/100\n",
      "49/49 [==============================] - 13s 260ms/step - loss: 5.7847e-04\n",
      "Epoch 65/100\n",
      "49/49 [==============================] - 15s 299ms/step - loss: 4.6311e-04\n",
      "Epoch 66/100\n",
      "49/49 [==============================] - 14s 289ms/step - loss: 4.2660e-04\n",
      "Epoch 67/100\n",
      "49/49 [==============================] - 14s 292ms/step - loss: 5.0999e-04\n",
      "Epoch 68/100\n",
      "49/49 [==============================] - 13s 265ms/step - loss: 3.9013e-04\n",
      "Epoch 69/100\n",
      "49/49 [==============================] - 13s 266ms/step - loss: 3.8749e-04\n",
      "Epoch 70/100\n",
      "49/49 [==============================] - 14s 279ms/step - loss: 3.7340e-04\n",
      "Epoch 71/100\n",
      "49/49 [==============================] - 14s 284ms/step - loss: 3.8981e-04\n",
      "Epoch 72/100\n",
      "49/49 [==============================] - 13s 273ms/step - loss: 4.0459e-04\n",
      "Epoch 73/100\n",
      "49/49 [==============================] - 13s 266ms/step - loss: 3.5125e-04\n",
      "Epoch 74/100\n",
      "49/49 [==============================] - 13s 261ms/step - loss: 3.6977e-04\n",
      "Epoch 75/100\n",
      "49/49 [==============================] - 13s 273ms/step - loss: 3.5531e-04\n",
      "Epoch 76/100\n",
      "49/49 [==============================] - 14s 276ms/step - loss: 9.0703e-04\n",
      "Epoch 77/100\n",
      "49/49 [==============================] - 14s 287ms/step - loss: 8.1361e-04\n",
      "Epoch 78/100\n",
      "49/49 [==============================] - 14s 282ms/step - loss: 4.1858e-04\n",
      "Epoch 79/100\n",
      "49/49 [==============================] - 12s 248ms/step - loss: 3.8437e-04\n",
      "Epoch 80/100\n",
      "49/49 [==============================] - 12s 250ms/step - loss: 6.2407e-04\n",
      "Epoch 81/100\n",
      "49/49 [==============================] - 12s 251ms/step - loss: 4.7073e-04\n",
      "Epoch 82/100\n",
      "49/49 [==============================] - 12s 248ms/step - loss: 4.4738e-04\n",
      "Epoch 83/100\n",
      "49/49 [==============================] - 12s 254ms/step - loss: 6.8454e-04\n",
      "Epoch 84/100\n",
      "49/49 [==============================] - 15s 303ms/step - loss: 3.6023e-04\n",
      "Epoch 85/100\n",
      "49/49 [==============================] - 13s 272ms/step - loss: 5.3566e-04\n",
      "Epoch 86/100\n",
      "49/49 [==============================] - 14s 286ms/step - loss: 4.8331e-04\n",
      "Epoch 87/100\n",
      "49/49 [==============================] - 16s 323ms/step - loss: 5.7549e-04\n",
      "Epoch 88/100\n",
      "49/49 [==============================] - 14s 294ms/step - loss: 4.4925e-04\n",
      "Epoch 89/100\n",
      "49/49 [==============================] - 14s 292ms/step - loss: 3.8053e-04\n",
      "Epoch 90/100\n",
      "49/49 [==============================] - 12s 253ms/step - loss: 3.3702e-04\n",
      "Epoch 91/100\n",
      "49/49 [==============================] - 12s 251ms/step - loss: 5.4301e-04\n",
      "Epoch 92/100\n",
      "49/49 [==============================] - 12s 254ms/step - loss: 3.1516e-04\n",
      "Epoch 93/100\n",
      "49/49 [==============================] - 12s 250ms/step - loss: 3.1742e-04\n",
      "Epoch 94/100\n",
      "49/49 [==============================] - 12s 250ms/step - loss: 3.2847e-04\n",
      "Epoch 95/100\n",
      "49/49 [==============================] - 12s 253ms/step - loss: 7.2166e-04\n",
      "Epoch 96/100\n"
     ]
    },
    {
     "name": "stdout",
     "output_type": "stream",
     "text": [
      "49/49 [==============================] - 12s 250ms/step - loss: 9.1247e-04\n",
      "Epoch 97/100\n",
      "49/49 [==============================] - 12s 249ms/step - loss: 3.9325e-04\n",
      "Epoch 98/100\n",
      "49/49 [==============================] - 13s 267ms/step - loss: 3.6297e-04\n",
      "Epoch 99/100\n",
      "49/49 [==============================] - 12s 254ms/step - loss: 3.4751e-04\n",
      "Epoch 100/100\n",
      "49/49 [==============================] - 12s 252ms/step - loss: 3.4721e-04\n"
     ]
    },
    {
     "data": {
      "text/plain": [
       "<keras.callbacks.History at 0x7f99992950b8>"
      ]
     },
     "execution_count": 92,
     "metadata": {},
     "output_type": "execute_result"
    }
   ],
   "source": [
    "##model.fit_generator(generator, epochs=1, validation_data=validation_generator,callbacks=[early_stop] ) #,callbacks=[early_stop]\n",
    "model.fit_generator(train_generator,epochs=100)"
   ]
  },
  {
   "cell_type": "code",
   "execution_count": 93,
   "metadata": {},
   "outputs": [
    {
     "data": {
      "image/png": "[encoded data removed]",
      "text/plain": [
       "<Figure size 432x288 with 1 Axes>"
      ]
     },
     "metadata": {
      "needs_background": "light"
     },
     "output_type": "display_data"
    }
   ],
   "source": [
    "my_loss= model.history.history['loss']\n",
    "plt.plot(range(len(my_loss)),my_loss);"
   ]
  },
  {
   "cell_type": "code",
   "execution_count": 94,
   "metadata": {},
   "outputs": [
    {
     "data": {
      "text/plain": [
       "'\\ntest_predictions = []\\n#Select last n_input values from the train data\\nfirst_eval_batch = scaled_train[-n_input:]\\n#reshape the data into LSTM required (#batch,#timesteps,#features)\\ncurrent_batch = first_eval_batch.reshape((1, n_input, n_features))\\nfor i in range(len(test)):\\n# get prediction, grab the exact number using the [0]\\n  pred = model.predict(current_batch)[0]\\n# Add this prediction to the list\\n  test_predictions.append(pred)\\n# The most critical part, update the (#batch,#timesteps,#features\\n# using np.append(\\n# current_batch[:        ,1:   ,:] ---------> read this as\\n# current_batch[no_change,1:end,no_change]\\n# (Do note the second part has the timesteps)\\n# [[pred]] need the double brackets as current_batch is a 3D array\\n# axis=1, remember we need to add to the second part i.e. 1st axis\\n  current_batch = np.append(current_batch[:,1:,:],\\n                          [[current_pred]],\\n                          axis=1)\\n'"
      ]
     },
     "execution_count": 94,
     "metadata": {},
     "output_type": "execute_result"
    }
   ],
   "source": [
    "test_predictions = []\n",
    "\n",
    "#last 60 days of train set to predcit 1 day in the future, which is 1st point in test set\n",
    "#ie 24, would be last 24 days of training data. 24 days to predict 1 day into the future\n",
    "first_eval_batch = scaled_train[-n_input:] #should be in last batch if training data\n",
    "#change 1\n",
    "# 1 time series per batch(batch_size), length, n_features=1\n",
    "current_batch = first_eval_batch.reshape((1,n_input,n_features)) #reshape to correct format. 1 item per batch\n",
    "\n",
    "for i in range(len(test)): #only forecasting on test set\n",
    "    #get hte predcition 1 timestamp ahead.\n",
    "    current_pred = model.predict(current_batch)[0] #to be current prediction\n",
    "    \n",
    "    test_predictions.append(current_pred) #take current_pred and append to list\n",
    "    #in order to keep predicintg into future need to move current batch forward 1 timestep\n",
    "    #gets rid of 1st item and replaces it with current prediction all the way to the very end\n",
    "    #drops 1st value in current_batch\n",
    "    #append curent predcition value. Moves current_batch 1 value into the future\n",
    "    #true forecast is predciting off predictions\n",
    "    #1-grab everythin but index 0\n",
    "    current_batch = np.append(current_batch[:,1:,:],[[current_pred]], axis=1)\n",
    "\n",
    "\n",
    "\"\"\"\n",
    "test_predictions = []\n",
    "#Select last n_input values from the train data\n",
    "first_eval_batch = scaled_train[-n_input:]\n",
    "#reshape the data into LSTM required (#batch,#timesteps,#features)\n",
    "current_batch = first_eval_batch.reshape((1, n_input, n_features))\n",
    "for i in range(len(test)):\n",
    "# get prediction, grab the exact number using the [0]\n",
    "  pred = model.predict(current_batch)[0]\n",
    "# Add this prediction to the list\n",
    "  test_predictions.append(pred)\n",
    "# The most critical part, update the (#batch,#timesteps,#features\n",
    "# using np.append(\n",
    "# current_batch[:        ,1:   ,:] ---------> read this as\n",
    "# current_batch[no_change,1:end,no_change]\n",
    "# (Do note the second part has the timesteps)\n",
    "# [[pred]] need the double brackets as current_batch is a 3D array\n",
    "# axis=1, remember we need to add to the second part i.e. 1st axis\n",
    "  current_batch = np.append(current_batch[:,1:,:],\n",
    "                          [[current_pred]],\n",
    "                          axis=1)\n",
    "\"\"\"                          "
   ]
  },
  {
   "cell_type": "code",
   "execution_count": 95,
   "metadata": {},
   "outputs": [
    {
     "data": {
      "text/plain": [
       "[array([0.9887669], dtype=float32),\n",
       " array([0.9912856], dtype=float32),\n",
       " array([1.0030783], dtype=float32),\n",
       " array([1.0191666], dtype=float32),\n",
       " array([1.0382482], dtype=float32),\n",
       " array([1.0596939], dtype=float32),\n",
       " array([1.0827491], dtype=float32),\n",
       " array([1.1066207], dtype=float32),\n",
       " array([1.1305614], dtype=float32),\n",
       " array([1.1524647], dtype=float32),\n",
       " array([1.1720723], dtype=float32),\n",
       " array([1.1897554], dtype=float32),\n",
       " array([1.2048717], dtype=float32),\n",
       " array([1.2175462], dtype=float32),\n",
       " array([1.2279454], dtype=float32),\n",
       " array([1.2362885], dtype=float32),\n",
       " array([1.2428528], dtype=float32),\n",
       " array([1.2479537], dtype=float32),\n",
       " array([1.2519236], dtype=float32),\n",
       " array([1.2550929], dtype=float32),\n",
       " array([1.2577735], dtype=float32),\n",
       " array([1.2602441], dtype=float32),\n",
       " array([1.2627368], dtype=float32),\n",
       " array([1.2654289], dtype=float32),\n",
       " array([1.2684383], dtype=float32),\n",
       " array([1.2718223], dtype=float32),\n",
       " array([1.2755817], dtype=float32),\n",
       " array([1.2796679], dtype=float32),\n",
       " array([1.2839935], dtype=float32),\n",
       " array([1.2884431], dtype=float32),\n",
       " array([1.2928855], dtype=float32),\n",
       " array([1.2971876], dtype=float32),\n",
       " array([1.3012241], dtype=float32),\n",
       " array([1.304889], dtype=float32),\n",
       " array([1.3081014], dtype=float32),\n",
       " array([1.3108118], dtype=float32),\n",
       " array([1.3130023], dtype=float32),\n",
       " array([1.3146886], dtype=float32),\n",
       " array([1.3159132], dtype=float32),\n",
       " array([1.316742], dtype=float32),\n",
       " array([1.3172563], dtype=float32),\n",
       " array([1.3175465], dtype=float32),\n",
       " array([1.3177027], dtype=float32),\n",
       " array([1.3178086], dtype=float32),\n",
       " array([1.3179369], dtype=float32),\n",
       " array([1.3181436], dtype=float32),\n",
       " array([1.3184667], dtype=float32),\n",
       " array([1.3189254], dtype=float32),\n",
       " array([1.3195207], dtype=float32),\n",
       " array([1.3202388], dtype=float32),\n",
       " array([1.3210527], dtype=float32),\n",
       " array([1.3219281], dtype=float32),\n",
       " array([1.3228253], dtype=float32),\n",
       " array([1.3237046], dtype=float32),\n",
       " array([1.3244879], dtype=float32),\n",
       " array([1.3251594], dtype=float32),\n",
       " array([1.3256943], dtype=float32),\n",
       " array([1.326087], dtype=float32),\n",
       " array([1.326345], dtype=float32),\n",
       " array([1.3264858], dtype=float32),\n",
       " array([1.326533], dtype=float32),\n",
       " array([1.3265138], dtype=float32),\n",
       " array([1.3264557], dtype=float32),\n",
       " array([1.3263848], dtype=float32),\n",
       " array([1.3263226], dtype=float32),\n",
       " array([1.3262858], dtype=float32),\n",
       " array([1.3262858], dtype=float32),\n",
       " array([1.3263276], dtype=float32),\n",
       " array([1.3264116], dtype=float32),\n",
       " array([1.3265327], dtype=float32),\n",
       " array([1.3266832], dtype=float32),\n",
       " array([1.326853], dtype=float32),\n",
       " array([1.327031], dtype=float32),\n",
       " array([1.327206], dtype=float32),\n",
       " array([1.3273687], dtype=float32),\n",
       " array([1.3275114], dtype=float32),\n",
       " array([1.3276285], dtype=float32),\n",
       " array([1.3277179], dtype=float32),\n",
       " array([1.3277785], dtype=float32),\n",
       " array([1.3278123], dtype=float32),\n",
       " array([1.3278236], dtype=float32),\n",
       " array([1.3278182], dtype=float32),\n",
       " array([1.3278015], dtype=float32),\n",
       " array([1.327779], dtype=float32),\n",
       " array([1.3277566], dtype=float32),\n",
       " array([1.3277377], dtype=float32),\n",
       " array([1.3277256], dtype=float32),\n",
       " array([1.3277225], dtype=float32),\n",
       " array([1.3277287], dtype=float32),\n",
       " array([1.327744], dtype=float32),\n",
       " array([1.3277673], dtype=float32),\n",
       " array([1.3277963], dtype=float32),\n",
       " array([1.3278291], dtype=float32),\n",
       " array([1.3278632], dtype=float32),\n",
       " array([1.3278965], dtype=float32),\n",
       " array([1.3279268], dtype=float32),\n",
       " array([1.3279529], dtype=float32),\n",
       " array([1.3279736], dtype=float32),\n",
       " array([1.3279884], dtype=float32),\n",
       " array([1.3279978], dtype=float32),\n",
       " array([1.3280016], dtype=float32),\n",
       " array([1.3280015], dtype=float32),\n",
       " array([1.3279984], dtype=float32),\n",
       " array([1.3279929], dtype=float32),\n",
       " array([1.327987], dtype=float32),\n",
       " array([1.3279811], dtype=float32),\n",
       " array([1.3279762], dtype=float32),\n",
       " array([1.327973], dtype=float32),\n",
       " array([1.3279718], dtype=float32),\n",
       " array([1.3279725], dtype=float32),\n",
       " array([1.3279754], dtype=float32),\n",
       " array([1.3279799], dtype=float32),\n",
       " array([1.3279856], dtype=float32),\n",
       " array([1.3279923], dtype=float32),\n",
       " array([1.327999], dtype=float32),\n",
       " array([1.3280057], dtype=float32),\n",
       " array([1.3280118], dtype=float32),\n",
       " array([1.3280166], dtype=float32),\n",
       " array([1.3280206], dtype=float32),\n",
       " array([1.3280233], dtype=float32),\n",
       " array([1.3280245], dtype=float32),\n",
       " array([1.328025], dtype=float32),\n",
       " array([1.3280243], dtype=float32),\n",
       " array([1.328023], dtype=float32),\n",
       " array([1.3280214], dtype=float32),\n",
       " array([1.3280197], dtype=float32),\n",
       " array([1.3280183], dtype=float32),\n",
       " array([1.3280172], dtype=float32),\n",
       " array([1.3280164], dtype=float32),\n",
       " array([1.3280164], dtype=float32),\n",
       " array([1.3280165], dtype=float32),\n",
       " array([1.3280174], dtype=float32),\n",
       " array([1.3280184], dtype=float32),\n",
       " array([1.3280196], dtype=float32),\n",
       " array([1.3280209], dtype=float32),\n",
       " array([1.3280219], dtype=float32),\n",
       " array([1.3280231], dtype=float32),\n",
       " array([1.3280238], dtype=float32),\n",
       " array([1.3280245], dtype=float32),\n",
       " array([1.3280249], dtype=float32),\n",
       " array([1.3280252], dtype=float32),\n",
       " array([1.3280255], dtype=float32),\n",
       " array([1.3280253], dtype=float32),\n",
       " array([1.3280252], dtype=float32),\n",
       " array([1.3280249], dtype=float32),\n",
       " array([1.3280246], dtype=float32),\n",
       " array([1.3280244], dtype=float32),\n",
       " array([1.3280241], dtype=float32),\n",
       " array([1.3280239], dtype=float32),\n",
       " array([1.3280238], dtype=float32),\n",
       " array([1.3280236], dtype=float32),\n",
       " array([1.3280236], dtype=float32),\n",
       " array([1.3280237], dtype=float32),\n",
       " array([1.3280236], dtype=float32),\n",
       " array([1.3280238], dtype=float32),\n",
       " array([1.3280238], dtype=float32),\n",
       " array([1.3280239], dtype=float32),\n",
       " array([1.3280241], dtype=float32),\n",
       " array([1.3280243], dtype=float32),\n",
       " array([1.3280244], dtype=float32),\n",
       " array([1.3280247], dtype=float32),\n",
       " array([1.328025], dtype=float32),\n",
       " array([1.3280251], dtype=float32),\n",
       " array([1.3280253], dtype=float32),\n",
       " array([1.3280253], dtype=float32),\n",
       " array([1.3280253], dtype=float32),\n",
       " array([1.3280253], dtype=float32),\n",
       " array([1.3280256], dtype=float32),\n",
       " array([1.3280256], dtype=float32),\n",
       " array([1.3280256], dtype=float32),\n",
       " array([1.3280257], dtype=float32),\n",
       " array([1.3280258], dtype=float32),\n",
       " array([1.3280256], dtype=float32),\n",
       " array([1.3280257], dtype=float32),\n",
       " array([1.3280256], dtype=float32),\n",
       " array([1.3280255], dtype=float32),\n",
       " array([1.3280253], dtype=float32),\n",
       " array([1.3280252], dtype=float32),\n",
       " array([1.3280251], dtype=float32),\n",
       " array([1.328025], dtype=float32),\n",
       " array([1.3280249], dtype=float32),\n",
       " array([1.3280246], dtype=float32),\n",
       " array([1.3280246], dtype=float32),\n",
       " array([1.3280245], dtype=float32),\n",
       " array([1.3280244], dtype=float32),\n",
       " array([1.3280243], dtype=float32),\n",
       " array([1.3280243], dtype=float32),\n",
       " array([1.3280244], dtype=float32),\n",
       " array([1.3280244], dtype=float32),\n",
       " array([1.3280244], dtype=float32),\n",
       " array([1.3280246], dtype=float32),\n",
       " array([1.3280246], dtype=float32),\n",
       " array([1.3280247], dtype=float32),\n",
       " array([1.3280249], dtype=float32),\n",
       " array([1.3280249], dtype=float32),\n",
       " array([1.3280251], dtype=float32),\n",
       " array([1.3280251], dtype=float32),\n",
       " array([1.3280252], dtype=float32),\n",
       " array([1.3280253], dtype=float32),\n",
       " array([1.3280253], dtype=float32),\n",
       " array([1.3280253], dtype=float32),\n",
       " array([1.3280255], dtype=float32),\n",
       " array([1.3280253], dtype=float32),\n",
       " array([1.3280253], dtype=float32),\n",
       " array([1.3280253], dtype=float32),\n",
       " array([1.3280255], dtype=float32),\n",
       " array([1.3280256], dtype=float32),\n",
       " array([1.3280256], dtype=float32),\n",
       " array([1.3280257], dtype=float32),\n",
       " array([1.3280256], dtype=float32),\n",
       " array([1.3280257], dtype=float32),\n",
       " array([1.3280256], dtype=float32),\n",
       " array([1.3280255], dtype=float32),\n",
       " array([1.3280253], dtype=float32),\n",
       " array([1.3280251], dtype=float32),\n",
       " array([1.3280249], dtype=float32),\n",
       " array([1.3280249], dtype=float32),\n",
       " array([1.3280247], dtype=float32),\n",
       " array([1.3280245], dtype=float32),\n",
       " array([1.3280245], dtype=float32),\n",
       " array([1.3280244], dtype=float32),\n",
       " array([1.3280244], dtype=float32),\n",
       " array([1.3280244], dtype=float32),\n",
       " array([1.3280244], dtype=float32),\n",
       " array([1.3280245], dtype=float32),\n",
       " array([1.3280245], dtype=float32),\n",
       " array([1.3280246], dtype=float32),\n",
       " array([1.3280247], dtype=float32),\n",
       " array([1.3280249], dtype=float32),\n",
       " array([1.328025], dtype=float32),\n",
       " array([1.3280251], dtype=float32),\n",
       " array([1.3280253], dtype=float32),\n",
       " array([1.3280253], dtype=float32),\n",
       " array([1.3280253], dtype=float32),\n",
       " array([1.3280256], dtype=float32),\n",
       " array([1.3280253], dtype=float32),\n",
       " array([1.3280253], dtype=float32),\n",
       " array([1.3280253], dtype=float32),\n",
       " array([1.3280253], dtype=float32),\n",
       " array([1.3280253], dtype=float32),\n",
       " array([1.3280253], dtype=float32),\n",
       " array([1.3280253], dtype=float32),\n",
       " array([1.3280255], dtype=float32),\n",
       " array([1.3280253], dtype=float32),\n",
       " array([1.3280253], dtype=float32),\n",
       " array([1.3280255], dtype=float32),\n",
       " array([1.3280255], dtype=float32),\n",
       " array([1.3280256], dtype=float32),\n",
       " array([1.3280256], dtype=float32),\n",
       " array([1.3280255], dtype=float32),\n",
       " array([1.3280253], dtype=float32),\n",
       " array([1.3280253], dtype=float32),\n",
       " array([1.3280251], dtype=float32),\n",
       " array([1.3280251], dtype=float32),\n",
       " array([1.3280251], dtype=float32),\n",
       " array([1.3280252], dtype=float32),\n",
       " array([1.3280252], dtype=float32),\n",
       " array([1.3280252], dtype=float32),\n",
       " array([1.3280252], dtype=float32),\n",
       " array([1.3280251], dtype=float32),\n",
       " array([1.3280252], dtype=float32),\n",
       " array([1.3280252], dtype=float32),\n",
       " array([1.3280252], dtype=float32),\n",
       " array([1.3280252], dtype=float32),\n",
       " array([1.3280252], dtype=float32),\n",
       " array([1.3280252], dtype=float32),\n",
       " array([1.3280251], dtype=float32),\n",
       " array([1.3280251], dtype=float32),\n",
       " array([1.3280251], dtype=float32),\n",
       " array([1.3280251], dtype=float32),\n",
       " array([1.3280253], dtype=float32),\n",
       " array([1.3280251], dtype=float32),\n",
       " array([1.3280252], dtype=float32),\n",
       " array([1.3280253], dtype=float32),\n",
       " array([1.3280252], dtype=float32),\n",
       " array([1.3280251], dtype=float32),\n",
       " array([1.3280251], dtype=float32),\n",
       " array([1.3280251], dtype=float32),\n",
       " array([1.3280251], dtype=float32),\n",
       " array([1.3280251], dtype=float32),\n",
       " array([1.3280251], dtype=float32),\n",
       " array([1.3280251], dtype=float32),\n",
       " array([1.3280251], dtype=float32),\n",
       " array([1.3280251], dtype=float32),\n",
       " array([1.328025], dtype=float32),\n",
       " array([1.328025], dtype=float32),\n",
       " array([1.328025], dtype=float32),\n",
       " array([1.3280251], dtype=float32),\n",
       " array([1.328025], dtype=float32),\n",
       " array([1.328025], dtype=float32),\n",
       " array([1.3280251], dtype=float32),\n",
       " array([1.3280251], dtype=float32),\n",
       " array([1.3280251], dtype=float32),\n",
       " array([1.3280251], dtype=float32),\n",
       " array([1.3280251], dtype=float32),\n",
       " array([1.3280251], dtype=float32),\n",
       " array([1.3280251], dtype=float32),\n",
       " array([1.328025], dtype=float32),\n",
       " array([1.3280251], dtype=float32),\n",
       " array([1.3280251], dtype=float32),\n",
       " array([1.3280251], dtype=float32),\n",
       " array([1.3280251], dtype=float32),\n",
       " array([1.3280252], dtype=float32),\n",
       " array([1.3280252], dtype=float32),\n",
       " array([1.3280252], dtype=float32),\n",
       " array([1.3280251], dtype=float32),\n",
       " array([1.3280251], dtype=float32),\n",
       " array([1.3280251], dtype=float32),\n",
       " array([1.3280251], dtype=float32),\n",
       " array([1.3280251], dtype=float32),\n",
       " array([1.3280251], dtype=float32),\n",
       " array([1.3280251], dtype=float32),\n",
       " array([1.3280251], dtype=float32),\n",
       " array([1.3280251], dtype=float32),\n",
       " array([1.328025], dtype=float32),\n",
       " array([1.3280249], dtype=float32),\n",
       " array([1.3280249], dtype=float32),\n",
       " array([1.3280247], dtype=float32),\n",
       " array([1.3280246], dtype=float32),\n",
       " array([1.3280247], dtype=float32),\n",
       " array([1.3280246], dtype=float32),\n",
       " array([1.3280247], dtype=float32),\n",
       " array([1.3280247], dtype=float32),\n",
       " array([1.3280249], dtype=float32),\n",
       " array([1.3280249], dtype=float32),\n",
       " array([1.328025], dtype=float32),\n",
       " array([1.328025], dtype=float32),\n",
       " array([1.3280251], dtype=float32),\n",
       " array([1.3280251], dtype=float32),\n",
       " array([1.3280252], dtype=float32),\n",
       " array([1.3280252], dtype=float32),\n",
       " array([1.3280253], dtype=float32),\n",
       " array([1.3280253], dtype=float32),\n",
       " array([1.3280256], dtype=float32),\n",
       " array([1.3280257], dtype=float32),\n",
       " array([1.3280257], dtype=float32),\n",
       " array([1.3280258], dtype=float32),\n",
       " array([1.3280258], dtype=float32),\n",
       " array([1.3280258], dtype=float32),\n",
       " array([1.3280258], dtype=float32),\n",
       " array([1.3280256], dtype=float32),\n",
       " array([1.3280256], dtype=float32),\n",
       " array([1.3280255], dtype=float32),\n",
       " array([1.3280252], dtype=float32),\n",
       " array([1.3280251], dtype=float32),\n",
       " array([1.3280249], dtype=float32),\n",
       " array([1.3280247], dtype=float32),\n",
       " array([1.3280246], dtype=float32),\n",
       " array([1.3280246], dtype=float32),\n",
       " array([1.3280246], dtype=float32),\n",
       " array([1.3280245], dtype=float32),\n",
       " array([1.3280245], dtype=float32),\n",
       " array([1.3280246], dtype=float32),\n",
       " array([1.3280246], dtype=float32),\n",
       " array([1.3280247], dtype=float32),\n",
       " array([1.3280249], dtype=float32),\n",
       " array([1.328025], dtype=float32),\n",
       " array([1.328025], dtype=float32),\n",
       " array([1.3280251], dtype=float32),\n",
       " array([1.3280251], dtype=float32),\n",
       " array([1.3280251], dtype=float32),\n",
       " array([1.3280251], dtype=float32),\n",
       " array([1.3280251], dtype=float32),\n",
       " array([1.3280251], dtype=float32),\n",
       " array([1.3280251], dtype=float32),\n",
       " array([1.3280251], dtype=float32),\n",
       " array([1.3280251], dtype=float32),\n",
       " array([1.3280251], dtype=float32),\n",
       " array([1.328025], dtype=float32),\n",
       " array([1.328025], dtype=float32),\n",
       " array([1.328025], dtype=float32),\n",
       " array([1.328025], dtype=float32),\n",
       " array([1.3280251], dtype=float32),\n",
       " array([1.3280251], dtype=float32),\n",
       " array([1.3280251], dtype=float32),\n",
       " array([1.3280252], dtype=float32),\n",
       " array([1.3280253], dtype=float32),\n",
       " array([1.3280256], dtype=float32),\n",
       " array([1.3280257], dtype=float32),\n",
       " array([1.3280257], dtype=float32),\n",
       " array([1.3280258], dtype=float32),\n",
       " array([1.3280259], dtype=float32),\n",
       " array([1.3280258], dtype=float32),\n",
       " array([1.3280259], dtype=float32),\n",
       " array([1.3280259], dtype=float32),\n",
       " array([1.3280259], dtype=float32),\n",
       " array([1.3280258], dtype=float32),\n",
       " array([1.3280259], dtype=float32),\n",
       " array([1.3280259], dtype=float32),\n",
       " array([1.3280259], dtype=float32),\n",
       " array([1.3280262], dtype=float32),\n",
       " array([1.3280262], dtype=float32),\n",
       " array([1.3280263], dtype=float32),\n",
       " array([1.3280264], dtype=float32),\n",
       " array([1.3280263], dtype=float32),\n",
       " array([1.3280265], dtype=float32),\n",
       " array([1.3280264], dtype=float32),\n",
       " array([1.3280264], dtype=float32),\n",
       " array([1.3280265], dtype=float32),\n",
       " array([1.3280267], dtype=float32),\n",
       " array([1.3280268], dtype=float32)]"
      ]
     },
     "execution_count": 95,
     "metadata": {},
     "output_type": "execute_result"
    }
   ],
   "source": [
    "test_predictions"
   ]
  },
  {
   "cell_type": "code",
   "execution_count": 96,
   "metadata": {},
   "outputs": [
    {
     "data": {
      "text/plain": [
       "array([[47.13298771],\n",
       "       [47.21752203],\n",
       "       [47.61331515],\n",
       "       [48.15327692],\n",
       "       [48.79370283],\n",
       "       [49.51347582],\n",
       "       [50.28726578],\n",
       "       [51.08845433],\n",
       "       [51.89196344],\n",
       "       [52.62709612],\n",
       "       [53.28517427],\n",
       "       [53.87866491],\n",
       "       [54.38600284],\n",
       "       [54.81139307],\n",
       "       [55.16041695],\n",
       "       [55.44043225],\n",
       "       [55.66074519],\n",
       "       [55.83194234],\n",
       "       [55.96518236],\n",
       "       [56.07155192],\n",
       "       [56.16152155],\n",
       "       [56.24444147],\n",
       "       [56.32810158],\n",
       "       [56.4184553 ],\n",
       "       [56.51945957],\n",
       "       [56.63303487],\n",
       "       [56.75920919],\n",
       "       [56.89635015],\n",
       "       [57.04152904],\n",
       "       [57.19086893],\n",
       "       [57.33996876],\n",
       "       [57.48435546],\n",
       "       [57.61983202],\n",
       "       [57.74283358],\n",
       "       [57.8506515 ],\n",
       "       [57.94161736],\n",
       "       [58.01513903],\n",
       "       [58.07173263],\n",
       "       [58.11283451],\n",
       "       [58.14064919],\n",
       "       [58.15791334],\n",
       "       [58.16765168],\n",
       "       [58.17289294],\n",
       "       [58.1764498 ],\n",
       "       [58.18075483],\n",
       "       [58.1876925 ],\n",
       "       [58.1985351 ],\n",
       "       [58.2139308 ],\n",
       "       [58.23391161],\n",
       "       [58.2580134 ],\n",
       "       [58.28532796],\n",
       "       [58.31471102],\n",
       "       [58.34482226],\n",
       "       [58.37433335],\n",
       "       [58.40062367],\n",
       "       [58.42316109],\n",
       "       [58.4411134 ],\n",
       "       [58.45429257],\n",
       "       [58.46295065],\n",
       "       [58.46767579],\n",
       "       [58.46926017],\n",
       "       [58.46861601],\n",
       "       [58.46666754],\n",
       "       [58.46428697],\n",
       "       [58.46219847],\n",
       "       [58.46096617],\n",
       "       [58.46096617],\n",
       "       [58.46236651],\n",
       "       [58.46518719],\n",
       "       [58.46925216],\n",
       "       [58.47430138],\n",
       "       [58.48000275],\n",
       "       [58.48597618],\n",
       "       [58.4918496 ],\n",
       "       [58.49731091],\n",
       "       [58.50210006],\n",
       "       [58.506029  ],\n",
       "       [58.50902972],\n",
       "       [58.51106221],\n",
       "       [58.51219849],\n",
       "       [58.51257858],\n",
       "       [58.51239453],\n",
       "       [58.5118344 ],\n",
       "       [58.51108222],\n",
       "       [58.51033004],\n",
       "       [58.50969388],\n",
       "       [58.50928979],\n",
       "       [58.50918576],\n",
       "       [58.50939381],\n",
       "       [58.50990594],\n",
       "       [58.51068612],\n",
       "       [58.51166236],\n",
       "       [58.51276262],\n",
       "       [58.5139069 ],\n",
       "       [58.51502316],\n",
       "       [58.51603941],\n",
       "       [58.51691562],\n",
       "       [58.51761179],\n",
       "       [58.51810791],\n",
       "       [58.51842398],\n",
       "       [58.51855201],\n",
       "       [58.51854801],\n",
       "       [58.51844399],\n",
       "       [58.51825994],\n",
       "       [58.51805989],\n",
       "       [58.51786385],\n",
       "       [58.51769981],\n",
       "       [58.51759178],\n",
       "       [58.51755177],\n",
       "       [58.51757578],\n",
       "       [58.5176718 ],\n",
       "       [58.51782384],\n",
       "       [58.51801588],\n",
       "       [58.51823994],\n",
       "       [58.51846399],\n",
       "       [58.51868805],\n",
       "       [58.51889209],\n",
       "       [58.51905613],\n",
       "       [58.51918817],\n",
       "       [58.51928019],\n",
       "       [58.5193202 ],\n",
       "       [58.5193362 ],\n",
       "       [58.5193122 ],\n",
       "       [58.51926819],\n",
       "       [58.51921617],\n",
       "       [58.51916016],\n",
       "       [58.51911215],\n",
       "       [58.51907614],\n",
       "       [58.51904813],\n",
       "       [58.51904813],\n",
       "       [58.51905213],\n",
       "       [58.51908014],\n",
       "       [58.51911615],\n",
       "       [58.51915616],\n",
       "       [58.51920017],\n",
       "       [58.51923218],\n",
       "       [58.51927219],\n",
       "       [58.51929619],\n",
       "       [58.5193202 ],\n",
       "       [58.5193322 ],\n",
       "       [58.5193442 ],\n",
       "       [58.51935221],\n",
       "       [58.5193482 ],\n",
       "       [58.5193442 ],\n",
       "       [58.5193322 ],\n",
       "       [58.5193242 ],\n",
       "       [58.5193162 ],\n",
       "       [58.51930819],\n",
       "       [58.51930019],\n",
       "       [58.51929619],\n",
       "       [58.51928819],\n",
       "       [58.51928819],\n",
       "       [58.51929219],\n",
       "       [58.51928819],\n",
       "       [58.51929619],\n",
       "       [58.51929619],\n",
       "       [58.51930019],\n",
       "       [58.51930819],\n",
       "       [58.5193122 ],\n",
       "       [58.5193162 ],\n",
       "       [58.5193282 ],\n",
       "       [58.5193362 ],\n",
       "       [58.5193402 ],\n",
       "       [58.5193482 ],\n",
       "       [58.5193482 ],\n",
       "       [58.5193482 ],\n",
       "       [58.5193482 ],\n",
       "       [58.51935621],\n",
       "       [58.51935621],\n",
       "       [58.51935621],\n",
       "       [58.51936021],\n",
       "       [58.51936421],\n",
       "       [58.51935621],\n",
       "       [58.51936021],\n",
       "       [58.51935621],\n",
       "       [58.51935221],\n",
       "       [58.5193482 ],\n",
       "       [58.5193442 ],\n",
       "       [58.5193402 ],\n",
       "       [58.5193362 ],\n",
       "       [58.5193322 ],\n",
       "       [58.5193242 ],\n",
       "       [58.5193242 ],\n",
       "       [58.5193202 ],\n",
       "       [58.5193162 ],\n",
       "       [58.5193122 ],\n",
       "       [58.5193122 ],\n",
       "       [58.5193162 ],\n",
       "       [58.5193162 ],\n",
       "       [58.5193162 ],\n",
       "       [58.5193242 ],\n",
       "       [58.5193242 ],\n",
       "       [58.5193282 ],\n",
       "       [58.5193322 ],\n",
       "       [58.5193322 ],\n",
       "       [58.5193402 ],\n",
       "       [58.5193402 ],\n",
       "       [58.5193442 ],\n",
       "       [58.5193482 ],\n",
       "       [58.5193482 ],\n",
       "       [58.5193482 ],\n",
       "       [58.51935221],\n",
       "       [58.5193482 ],\n",
       "       [58.5193482 ],\n",
       "       [58.5193482 ],\n",
       "       [58.51935221],\n",
       "       [58.51935621],\n",
       "       [58.51935621],\n",
       "       [58.51936021],\n",
       "       [58.51935621],\n",
       "       [58.51936021],\n",
       "       [58.51935621],\n",
       "       [58.51935221],\n",
       "       [58.5193482 ],\n",
       "       [58.5193402 ],\n",
       "       [58.5193322 ],\n",
       "       [58.5193322 ],\n",
       "       [58.5193282 ],\n",
       "       [58.5193202 ],\n",
       "       [58.5193202 ],\n",
       "       [58.5193162 ],\n",
       "       [58.5193162 ],\n",
       "       [58.5193162 ],\n",
       "       [58.5193162 ],\n",
       "       [58.5193202 ],\n",
       "       [58.5193202 ],\n",
       "       [58.5193242 ],\n",
       "       [58.5193282 ],\n",
       "       [58.5193322 ],\n",
       "       [58.5193362 ],\n",
       "       [58.5193402 ],\n",
       "       [58.5193482 ],\n",
       "       [58.5193482 ],\n",
       "       [58.5193482 ],\n",
       "       [58.51935621],\n",
       "       [58.5193482 ],\n",
       "       [58.5193482 ],\n",
       "       [58.5193482 ],\n",
       "       [58.5193482 ],\n",
       "       [58.5193482 ],\n",
       "       [58.5193482 ],\n",
       "       [58.5193482 ],\n",
       "       [58.51935221],\n",
       "       [58.5193482 ],\n",
       "       [58.5193482 ],\n",
       "       [58.51935221],\n",
       "       [58.51935221],\n",
       "       [58.51935621],\n",
       "       [58.51935621],\n",
       "       [58.51935221],\n",
       "       [58.5193482 ],\n",
       "       [58.5193482 ],\n",
       "       [58.5193402 ],\n",
       "       [58.5193402 ],\n",
       "       [58.5193402 ],\n",
       "       [58.5193442 ],\n",
       "       [58.5193442 ],\n",
       "       [58.5193442 ],\n",
       "       [58.5193442 ],\n",
       "       [58.5193402 ],\n",
       "       [58.5193442 ],\n",
       "       [58.5193442 ],\n",
       "       [58.5193442 ],\n",
       "       [58.5193442 ],\n",
       "       [58.5193442 ],\n",
       "       [58.5193442 ],\n",
       "       [58.5193402 ],\n",
       "       [58.5193402 ],\n",
       "       [58.5193402 ],\n",
       "       [58.5193402 ],\n",
       "       [58.5193482 ],\n",
       "       [58.5193402 ],\n",
       "       [58.5193442 ],\n",
       "       [58.5193482 ],\n",
       "       [58.5193442 ],\n",
       "       [58.5193402 ],\n",
       "       [58.5193402 ],\n",
       "       [58.5193402 ],\n",
       "       [58.5193402 ],\n",
       "       [58.5193402 ],\n",
       "       [58.5193402 ],\n",
       "       [58.5193402 ],\n",
       "       [58.5193402 ],\n",
       "       [58.5193402 ],\n",
       "       [58.5193362 ],\n",
       "       [58.5193362 ],\n",
       "       [58.5193362 ],\n",
       "       [58.5193402 ],\n",
       "       [58.5193362 ],\n",
       "       [58.5193362 ],\n",
       "       [58.5193402 ],\n",
       "       [58.5193402 ],\n",
       "       [58.5193402 ],\n",
       "       [58.5193402 ],\n",
       "       [58.5193402 ],\n",
       "       [58.5193402 ],\n",
       "       [58.5193402 ],\n",
       "       [58.5193362 ],\n",
       "       [58.5193402 ],\n",
       "       [58.5193402 ],\n",
       "       [58.5193402 ],\n",
       "       [58.5193402 ],\n",
       "       [58.5193442 ],\n",
       "       [58.5193442 ],\n",
       "       [58.5193442 ],\n",
       "       [58.5193402 ],\n",
       "       [58.5193402 ],\n",
       "       [58.5193402 ],\n",
       "       [58.5193402 ],\n",
       "       [58.5193402 ],\n",
       "       [58.5193402 ],\n",
       "       [58.5193402 ],\n",
       "       [58.5193402 ],\n",
       "       [58.5193402 ],\n",
       "       [58.5193362 ],\n",
       "       [58.5193322 ],\n",
       "       [58.5193322 ],\n",
       "       [58.5193282 ],\n",
       "       [58.5193242 ],\n",
       "       [58.5193282 ],\n",
       "       [58.5193242 ],\n",
       "       [58.5193282 ],\n",
       "       [58.5193282 ],\n",
       "       [58.5193322 ],\n",
       "       [58.5193322 ],\n",
       "       [58.5193362 ],\n",
       "       [58.5193362 ],\n",
       "       [58.5193402 ],\n",
       "       [58.5193402 ],\n",
       "       [58.5193442 ],\n",
       "       [58.5193442 ],\n",
       "       [58.5193482 ],\n",
       "       [58.5193482 ],\n",
       "       [58.51935621],\n",
       "       [58.51936021],\n",
       "       [58.51936021],\n",
       "       [58.51936421],\n",
       "       [58.51936421],\n",
       "       [58.51936421],\n",
       "       [58.51936421],\n",
       "       [58.51935621],\n",
       "       [58.51935621],\n",
       "       [58.51935221],\n",
       "       [58.5193442 ],\n",
       "       [58.5193402 ],\n",
       "       [58.5193322 ],\n",
       "       [58.5193282 ],\n",
       "       [58.5193242 ],\n",
       "       [58.5193242 ],\n",
       "       [58.5193242 ],\n",
       "       [58.5193202 ],\n",
       "       [58.5193202 ],\n",
       "       [58.5193242 ],\n",
       "       [58.5193242 ],\n",
       "       [58.5193282 ],\n",
       "       [58.5193322 ],\n",
       "       [58.5193362 ],\n",
       "       [58.5193362 ],\n",
       "       [58.5193402 ],\n",
       "       [58.5193402 ],\n",
       "       [58.5193402 ],\n",
       "       [58.5193402 ],\n",
       "       [58.5193402 ],\n",
       "       [58.5193402 ],\n",
       "       [58.5193402 ],\n",
       "       [58.5193402 ],\n",
       "       [58.5193402 ],\n",
       "       [58.5193402 ],\n",
       "       [58.5193362 ],\n",
       "       [58.5193362 ],\n",
       "       [58.5193362 ],\n",
       "       [58.5193362 ],\n",
       "       [58.5193402 ],\n",
       "       [58.5193402 ],\n",
       "       [58.5193402 ],\n",
       "       [58.5193442 ],\n",
       "       [58.5193482 ],\n",
       "       [58.51935621],\n",
       "       [58.51936021],\n",
       "       [58.51936021],\n",
       "       [58.51936421],\n",
       "       [58.51936821],\n",
       "       [58.51936421],\n",
       "       [58.51936821],\n",
       "       [58.51936821],\n",
       "       [58.51936821],\n",
       "       [58.51936421],\n",
       "       [58.51936821],\n",
       "       [58.51936821],\n",
       "       [58.51936821],\n",
       "       [58.51937621],\n",
       "       [58.51937621],\n",
       "       [58.51938021],\n",
       "       [58.51938421],\n",
       "       [58.51938021],\n",
       "       [58.51938821],\n",
       "       [58.51938421],\n",
       "       [58.51938421],\n",
       "       [58.51938821],\n",
       "       [58.51939221],\n",
       "       [58.51939622]])"
      ]
     },
     "execution_count": 96,
     "metadata": {},
     "output_type": "execute_result"
    }
   ],
   "source": [
    "actual_predictions = scaler.inverse_transform(test_predictions)\n",
    "actual_predictions"
   ]
  },
  {
   "cell_type": "code",
   "execution_count": 97,
   "metadata": {},
   "outputs": [
    {
     "name": "stderr",
     "output_type": "stream",
     "text": [
      "/Users/davidtorres/opt/anaconda3/envs/learn-env/lib/python3.6/site-packages/ipykernel_launcher.py:1: SettingWithCopyWarning: \n",
      "A value is trying to be set on a copy of a slice from a DataFrame.\n",
      "Try using .loc[row_indexer,col_indexer] = value instead\n",
      "\n",
      "See the caveats in the documentation: https://pandas.pydata.org/pandas-docs/stable/user_guide/indexing.html#returning-a-view-versus-a-copy\n",
      "  \"\"\"Entry point for launching an IPython kernel.\n"
     ]
    }
   ],
   "source": [
    "test['Predictions'] = actual_predictions\n",
    "#test.plot(figsize=(12,8));"
   ]
  },
  {
   "cell_type": "code",
   "execution_count": 98,
   "metadata": {},
   "outputs": [
    {
     "data": {
      "text/html": [
       "<div>\n",
       "<style scoped>\n",
       "    .dataframe tbody tr th:only-of-type {\n",
       "        vertical-align: middle;\n",
       "    }\n",
       "\n",
       "    .dataframe tbody tr th {\n",
       "        vertical-align: top;\n",
       "    }\n",
       "\n",
       "    .dataframe thead th {\n",
       "        text-align: right;\n",
       "    }\n",
       "</style>\n",
       "<table border=\"1\" class=\"dataframe\">\n",
       "  <thead>\n",
       "    <tr style=\"text-align: right;\">\n",
       "      <th></th>\n",
       "      <th>Close</th>\n",
       "      <th>Predictions</th>\n",
       "    </tr>\n",
       "    <tr>\n",
       "      <th>Date</th>\n",
       "      <th></th>\n",
       "      <th></th>\n",
       "    </tr>\n",
       "  </thead>\n",
       "  <tbody>\n",
       "    <tr>\n",
       "      <th>2019-11-19</th>\n",
       "      <td>66.572502</td>\n",
       "      <td>58.519368</td>\n",
       "    </tr>\n",
       "    <tr>\n",
       "      <th>2019-11-20</th>\n",
       "      <td>65.797501</td>\n",
       "      <td>58.519364</td>\n",
       "    </tr>\n",
       "    <tr>\n",
       "      <th>2019-11-21</th>\n",
       "      <td>65.502502</td>\n",
       "      <td>58.519368</td>\n",
       "    </tr>\n",
       "    <tr>\n",
       "      <th>2019-11-22</th>\n",
       "      <td>65.445000</td>\n",
       "      <td>58.519368</td>\n",
       "    </tr>\n",
       "    <tr>\n",
       "      <th>2019-11-25</th>\n",
       "      <td>66.592499</td>\n",
       "      <td>58.519368</td>\n",
       "    </tr>\n",
       "    <tr>\n",
       "      <th>2019-11-26</th>\n",
       "      <td>66.072502</td>\n",
       "      <td>58.519364</td>\n",
       "    </tr>\n",
       "    <tr>\n",
       "      <th>2019-11-27</th>\n",
       "      <td>66.959999</td>\n",
       "      <td>58.519368</td>\n",
       "    </tr>\n",
       "    <tr>\n",
       "      <th>2019-11-29</th>\n",
       "      <td>66.812500</td>\n",
       "      <td>58.519368</td>\n",
       "    </tr>\n",
       "    <tr>\n",
       "      <th>2019-12-02</th>\n",
       "      <td>66.040001</td>\n",
       "      <td>58.519368</td>\n",
       "    </tr>\n",
       "    <tr>\n",
       "      <th>2019-12-03</th>\n",
       "      <td>64.862503</td>\n",
       "      <td>58.519376</td>\n",
       "    </tr>\n",
       "    <tr>\n",
       "      <th>2019-12-04</th>\n",
       "      <td>65.434998</td>\n",
       "      <td>58.519376</td>\n",
       "    </tr>\n",
       "    <tr>\n",
       "      <th>2019-12-05</th>\n",
       "      <td>66.394997</td>\n",
       "      <td>58.519380</td>\n",
       "    </tr>\n",
       "    <tr>\n",
       "      <th>2019-12-06</th>\n",
       "      <td>67.677498</td>\n",
       "      <td>58.519384</td>\n",
       "    </tr>\n",
       "    <tr>\n",
       "      <th>2019-12-09</th>\n",
       "      <td>66.730003</td>\n",
       "      <td>58.519380</td>\n",
       "    </tr>\n",
       "    <tr>\n",
       "      <th>2019-12-10</th>\n",
       "      <td>67.120003</td>\n",
       "      <td>58.519388</td>\n",
       "    </tr>\n",
       "    <tr>\n",
       "      <th>2019-12-11</th>\n",
       "      <td>67.692497</td>\n",
       "      <td>58.519384</td>\n",
       "    </tr>\n",
       "    <tr>\n",
       "      <th>2019-12-12</th>\n",
       "      <td>67.864998</td>\n",
       "      <td>58.519384</td>\n",
       "    </tr>\n",
       "    <tr>\n",
       "      <th>2019-12-13</th>\n",
       "      <td>68.787498</td>\n",
       "      <td>58.519388</td>\n",
       "    </tr>\n",
       "    <tr>\n",
       "      <th>2019-12-16</th>\n",
       "      <td>69.964996</td>\n",
       "      <td>58.519392</td>\n",
       "    </tr>\n",
       "    <tr>\n",
       "      <th>2019-12-17</th>\n",
       "      <td>70.102501</td>\n",
       "      <td>58.519396</td>\n",
       "    </tr>\n",
       "  </tbody>\n",
       "</table>\n",
       "</div>"
      ],
      "text/plain": [
       "                Close  Predictions\n",
       "Date                              \n",
       "2019-11-19  66.572502    58.519368\n",
       "2019-11-20  65.797501    58.519364\n",
       "2019-11-21  65.502502    58.519368\n",
       "2019-11-22  65.445000    58.519368\n",
       "2019-11-25  66.592499    58.519368\n",
       "2019-11-26  66.072502    58.519364\n",
       "2019-11-27  66.959999    58.519368\n",
       "2019-11-29  66.812500    58.519368\n",
       "2019-12-02  66.040001    58.519368\n",
       "2019-12-03  64.862503    58.519376\n",
       "2019-12-04  65.434998    58.519376\n",
       "2019-12-05  66.394997    58.519380\n",
       "2019-12-06  67.677498    58.519384\n",
       "2019-12-09  66.730003    58.519380\n",
       "2019-12-10  67.120003    58.519388\n",
       "2019-12-11  67.692497    58.519384\n",
       "2019-12-12  67.864998    58.519384\n",
       "2019-12-13  68.787498    58.519388\n",
       "2019-12-16  69.964996    58.519392\n",
       "2019-12-17  70.102501    58.519396"
      ]
     },
     "execution_count": 98,
     "metadata": {},
     "output_type": "execute_result"
    }
   ],
   "source": [
    "test.tail(20)"
   ]
  },
  {
   "cell_type": "code",
   "execution_count": 99,
   "metadata": {},
   "outputs": [
    {
     "data": {
      "text/plain": [
       "<AxesSubplot:xlabel='Date'>"
      ]
     },
     "execution_count": 99,
     "metadata": {},
     "output_type": "execute_result"
    },
    {
     "data": {
      "image/png": "[encoded data removed]",
      "text/plain": [
       "<Figure size 864x576 with 1 Axes>"
      ]
     },
     "metadata": {
      "needs_background": "light"
     },
     "output_type": "display_data"
    }
   ],
   "source": [
    "test.plot(figsize=(12,8))"
   ]
  },
  {
   "cell_type": "code",
   "execution_count": 100,
   "metadata": {},
   "outputs": [
    {
     "data": {
      "text/plain": [
       "10.185701625342949"
      ]
     },
     "execution_count": 100,
     "metadata": {},
     "output_type": "execute_result"
    }
   ],
   "source": [
    "#how accurate model predicts reponse\n",
    "rmse = np.sqrt(mean_squared_error(test['Predictions'],test['Close'],))\n",
    "rmse"
   ]
  },
  {
   "cell_type": "code",
   "execution_count": 101,
   "metadata": {},
   "outputs": [
    {
     "data": {
      "text/plain": [
       "[<matplotlib.lines.Line2D at 0x7f99807cb2b0>]"
      ]
     },
     "execution_count": 101,
     "metadata": {},
     "output_type": "execute_result"
    },
    {
     "data": {
      "image/png": "[encoded data removed]",
      "text/plain": [
       "<Figure size 1152x576 with 1 Axes>"
      ]
     },
     "metadata": {
      "needs_background": "light"
     },
     "output_type": "display_data"
    }
   ],
   "source": [
    "\"\"\"\n",
    "test_percent = 0.2 \n",
    "len(df) * test_percent\n",
    "test_point = np.round(len(df) * test_percent)\n",
    "test_ind = int(len(df) - test_point)\n",
    "train = df.iloc[:test_ind]\n",
    "test = df.iloc[test_ind:]\n",
    "train.shape, test.shape\n",
    "\n",
    "\"\"\"\n",
    "plt.figure(figsize=(16,8))\n",
    "plt.plot(train['Close'])\n",
    "plt.plot(test['Close'])\n",
    "plt.plot(test['Predictions'])\n",
    "#plt.plot(test['Close'], test['Predictions'])"
   ]
  },
  {
   "cell_type": "code",
   "execution_count": null,
   "metadata": {},
   "outputs": [],
   "source": []
  }
 ],
 "metadata": {
  "kernelspec": {
   "display_name": "Python 3",
   "language": "python",
   "name": "python3"
  },
  "language_info": {
   "codemirror_mode": {
    "name": "ipython",
    "version": 3
   },
   "file_extension": ".py",
   "mimetype": "text/x-python",
   "name": "python",
   "nbconvert_exporter": "python",
   "pygments_lexer": "ipython3",
   "version": "3.6.9"
  },
  "toc": {
   "base_numbering": 1,
   "nav_menu": {},
   "number_sections": true,
   "sideBar": true,
   "skip_h1_title": false,
   "title_cell": "Table of Contents",
   "title_sidebar": "Contents",
   "toc_cell": false,
   "toc_position": {},
   "toc_section_display": true,
   "toc_window_display": false
  }
 },
 "nbformat": 4,
 "nbformat_minor": 4
}
