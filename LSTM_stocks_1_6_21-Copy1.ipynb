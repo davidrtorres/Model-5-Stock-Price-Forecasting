{
 "cells": [
  {
   "cell_type": "code",
   "execution_count": 1,
   "metadata": {},
   "outputs": [],
   "source": [
    "import pandas as pd\n",
    "import numpy as np\n",
    "import matplotlib.pyplot as plt\n",
    "%matplotlib inline"
   ]
  },
  {
   "cell_type": "code",
   "execution_count": 2,
   "metadata": {},
   "outputs": [
    {
     "data": {
      "text/plain": [
       "'\\nsequence data-data tht comes in a particular order\\n'"
      ]
     },
     "execution_count": 2,
     "metadata": {},
     "output_type": "execute_result"
    }
   ],
   "source": [
    "\"\"\"\n",
    "sequence data-data tht comes in a particular order\n",
    "\"\"\"\n",
    "#df_1 = pd.read_csv('apple_stock.csv', parse_dates=True, index_col=[0])"
   ]
  },
  {
   "cell_type": "code",
   "execution_count": 3,
   "metadata": {},
   "outputs": [],
   "source": [
    "#df_1.head()"
   ]
  },
  {
   "cell_type": "code",
   "execution_count": 4,
   "metadata": {},
   "outputs": [],
   "source": [
    "#df_1 = pd.read_csv('apple_2012_1_1-2019_12_17.csv', parse_dates=True, index_col=[0])"
   ]
  },
  {
   "cell_type": "code",
   "execution_count": 5,
   "metadata": {},
   "outputs": [],
   "source": [
    "#apple_training = df_1['2012-1-1':'2018-1-1']"
   ]
  },
  {
   "cell_type": "code",
   "execution_count": 6,
   "metadata": {},
   "outputs": [],
   "source": [
    "#apple_training.head()"
   ]
  },
  {
   "cell_type": "code",
   "execution_count": 7,
   "metadata": {},
   "outputs": [],
   "source": [
    "df_1 = pd.read_csv('data/vinda.csv', parse_dates=True, index_col=[0])\n",
    "df_data = df_1.sort_index(ascending=True, axis=0)"
   ]
  },
  {
   "cell_type": "code",
   "execution_count": 8,
   "metadata": {},
   "outputs": [],
   "source": [
    "apple_training_processed = df_data['Close']"
   ]
  },
  {
   "cell_type": "code",
   "execution_count": 9,
   "metadata": {},
   "outputs": [],
   "source": [
    "df = pd.DataFrame(apple_training_processed)"
   ]
  },
  {
   "cell_type": "code",
   "execution_count": 10,
   "metadata": {},
   "outputs": [
    {
     "name": "stdout",
     "output_type": "stream",
     "text": [
      "(1235, 1)\n",
      "247.0\n"
     ]
    }
   ],
   "source": [
    "print(df.shape)\n",
    "print(len(df) *0.2) "
   ]
  },
  {
   "cell_type": "markdown",
   "metadata": {},
   "source": [
    "## Train Test Split"
   ]
  },
  {
   "cell_type": "code",
   "execution_count": 11,
   "metadata": {},
   "outputs": [
    {
     "data": {
      "text/plain": [
       "((988, 1), (247, 1))"
      ]
     },
     "execution_count": 11,
     "metadata": {},
     "output_type": "execute_result"
    }
   ],
   "source": [
    "test_percent = 0.2 \n",
    "len(df) * test_percent\n",
    "test_point = np.round(len(df) * test_percent)\n",
    "test_ind = int(len(df) - test_point)\n",
    "train = df.iloc[:test_ind]\n",
    "test = df.iloc[test_ind:] #test_ind point and go to end\n",
    "train.shape, test.shape"
   ]
  },
  {
   "cell_type": "markdown",
   "metadata": {},
   "source": [
    "## Normalize Data"
   ]
  },
  {
   "cell_type": "code",
   "execution_count": 12,
   "metadata": {},
   "outputs": [],
   "source": [
    "#nned to scale label b/c it's being fed back into neuron\n",
    "from sklearn.preprocessing import MinMaxScaler\n",
    "\n",
    "scaler = MinMaxScaler(feature_range = (0, 1))\n",
    "scaler.fit_transform(train)\n",
    "scaled_train = scaler.transform(train)\n",
    "scaled_test = scaler.transform(test)"
   ]
  },
  {
   "cell_type": "code",
   "execution_count": 13,
   "metadata": {},
   "outputs": [
    {
     "name": "stderr",
     "output_type": "stream",
     "text": [
      "Using TensorFlow backend.\n"
     ]
    }
   ],
   "source": [
    "from keras.models import Sequential\n",
    "from keras.layers import Dense\n",
    "from keras.layers import LSTM\n",
    "from keras.layers import Dropout"
   ]
  },
  {
   "cell_type": "code",
   "execution_count": 14,
   "metadata": {},
   "outputs": [],
   "source": [
    "# df.plot(figsize=(12,8));\n",
    "# plt.title('Closing Price History');\n",
    "# plt.ylabel('Closnig Price USD ($)')"
   ]
  },
  {
   "cell_type": "markdown",
   "metadata": {},
   "source": [
    "## Create TimeSeriesGenerator\n",
    "Creating 2 generators 1 for training data and 1 for validation or test data.<br>"
   ]
  },
  {
   "cell_type": "code",
   "execution_count": 15,
   "metadata": {},
   "outputs": [],
   "source": [
    "from keras.callbacks import EarlyStopping"
   ]
  },
  {
   "cell_type": "code",
   "execution_count": 16,
   "metadata": {},
   "outputs": [],
   "source": [
    "\"\"\"\n",
    "take train batches and tansform them into sequences\n",
    "\n",
    "\n",
    "\"\"\"\n",
    "from keras.preprocessing.sequence import TimeseriesGenerator"
   ]
  },
  {
   "cell_type": "code",
   "execution_count": 17,
   "metadata": {},
   "outputs": [],
   "source": [
    "early_stop = EarlyStopping(monitor='val_loss', patience=2)"
   ]
  },
  {
   "cell_type": "code",
   "execution_count": 18,
   "metadata": {},
   "outputs": [
    {
     "name": "stdout",
     "output_type": "stream",
     "text": [
      "(988, 1)\n",
      "(247, 1)\n"
     ]
    }
   ],
   "source": [
    "print(scaled_train.shape)\n",
    "print(scaled_test.shape)"
   ]
  },
  {
   "cell_type": "code",
   "execution_count": 19,
   "metadata": {},
   "outputs": [],
   "source": [
    "\"\"\"\n",
    "-take training data and create batches for training purposes off of it\n",
    "-it generates batches for sequence data\n",
    "\n",
    "-length-lenght of output sequences. Number of time steps.\n",
    "-batch_size -number of time series sample in each batch\n",
    "\n",
    "-how many sequences per batch?\n",
    "\n",
    "forecasting technique-predcit a timestep ahead.  Then incorporate our prediction into the next sequence we predcit off of\n",
    "    You're forecasting on forecasts\n",
    "\n",
    "\n",
    "length of batch needs to be less than lenght of test set\n",
    "can't feed in a batch of 151 days and get a predicton on 152nd day\n",
    "batches need to be shortd than 151\n",
    "\n",
    "We'll pas in 1 at a time\n",
    "test=400\n",
    "create for training data\n",
    "\"\"\"\n",
    "length =30  #length of output sequences in the number of timestep. # of timeseries samples in each batch\n",
    "batch_size = 1 #how many time series samples are we returning in each batch\n",
    "\n",
    "generator = TimeseriesGenerator(scaled_train, scaled_train, length=length, batch_size=batch_size)#batch_size-1 array for X and 1 value for y\n",
    "                                                                                         #if this were 2, you'd get 2 sets for X and 2 for y\n",
    "    \n",
    "    \n",
    "validation_generator = TimeseriesGenerator(scaled_test, scaled_test, length=length, batch_size=batch_size)    "
   ]
  },
  {
   "cell_type": "code",
   "execution_count": 20,
   "metadata": {},
   "outputs": [
    {
     "data": {
      "text/plain": [
       "988"
      ]
     },
     "execution_count": 20,
     "metadata": {},
     "output_type": "execute_result"
    }
   ],
   "source": [
    "len(scaled_train)"
   ]
  },
  {
   "cell_type": "code",
   "execution_count": 21,
   "metadata": {},
   "outputs": [
    {
     "data": {
      "text/plain": [
       "958"
      ]
     },
     "execution_count": 21,
     "metadata": {},
     "output_type": "execute_result"
    }
   ],
   "source": [
    "\"\"\"\n",
    "generator object is going to geneate batches for us\n",
    "ie. if length =2, then 1207-2 = 1205\n",
    "ie, if length=60, thrn 1207-60=1147\n",
    "\"\"\"\n",
    "len(generator)"
   ]
  },
  {
   "cell_type": "code",
   "execution_count": 22,
   "metadata": {},
   "outputs": [],
   "source": [
    "X,y = generator[0]"
   ]
  },
  {
   "cell_type": "code",
   "execution_count": 23,
   "metadata": {},
   "outputs": [
    {
     "data": {
      "text/plain": [
       "array([[[0.46807574],\n",
       "        [0.46587406],\n",
       "        [0.50638485],\n",
       "        [0.50550418],\n",
       "        [0.50022017],\n",
       "        [0.4878908 ],\n",
       "        [0.52267723],\n",
       "        [0.54205196],\n",
       "        [0.50154117],\n",
       "        [0.52135623],\n",
       "        [0.49405548],\n",
       "        [0.55306033],\n",
       "        [0.53896962],\n",
       "        [0.5336856 ],\n",
       "        [0.52619991],\n",
       "        [0.54909731],\n",
       "        [0.54029062],\n",
       "        [0.57287539],\n",
       "        [0.58872743],\n",
       "        [0.57199472],\n",
       "        [0.53632761],\n",
       "        [0.50814619],\n",
       "        [0.50594452],\n",
       "        [0.47468076],\n",
       "        [0.45706737],\n",
       "        [0.36679877],\n",
       "        [0.36371642],\n",
       "        [0.39674152],\n",
       "        [0.36900044],\n",
       "        [0.37604579]]])"
      ]
     },
     "execution_count": 23,
     "metadata": {},
     "output_type": "execute_result"
    }
   ],
   "source": [
    "#30 lists of length 30\n",
    "X"
   ]
  },
  {
   "cell_type": "code",
   "execution_count": 24,
   "metadata": {},
   "outputs": [
    {
     "data": {
      "text/plain": [
       "1"
      ]
     },
     "execution_count": 24,
     "metadata": {},
     "output_type": "execute_result"
    }
   ],
   "source": [
    "len(y)"
   ]
  },
  {
   "cell_type": "markdown",
   "metadata": {},
   "source": [
    "## Create the Model"
   ]
  },
  {
   "cell_type": "code",
   "execution_count": 25,
   "metadata": {},
   "outputs": [],
   "source": [
    "from keras.models import Sequential\n",
    "from keras.layers import Dense, LSTM, Dropout"
   ]
  },
  {
   "cell_type": "code",
   "execution_count": 26,
   "metadata": {},
   "outputs": [],
   "source": [
    "\n",
    "n_features = 1\n",
    "\n",
    "# model = Sequential()\n",
    "\n",
    "# model.add(LSTM(units = 50, return_sequences = True, input_shape=(length, n_features)))\n",
    "# model.add(Dropout(0.2))\n",
    "\n",
    "# model.add(LSTM(units = 50, return_sequences = True))\n",
    "# model.add(Dropout(0.2))\n",
    "\n",
    "# model.add(LSTM(units = 50, return_sequences = False))\n",
    "# model.add(Dropout(0.2))\n",
    "\n",
    "# model.add(Dense(units = 25))\n",
    "# model.add(Dense(units = 1))\n",
    "\n",
    "# model.compile(optimizer = 'adam', loss = 'mean_squared_error')\n",
    "\n",
    "model = Sequential()\n",
    "model.add(LSTM(units=50, return_sequences=True, input_shape=(length, n_features)))\n",
    "model.add(LSTM(units=50))\n",
    "model.add(Dense(1))\n",
    "\n",
    "model.compile(loss='mean_squared_error', optimizer='adam')\n"
   ]
  },
  {
   "cell_type": "code",
   "execution_count": 27,
   "metadata": {},
   "outputs": [
    {
     "name": "stdout",
     "output_type": "stream",
     "text": [
      "_________________________________________________________________\n",
      "Layer (type)                 Output Shape              Param #   \n",
      "=================================================================\n",
      "lstm_1 (LSTM)                (None, 30, 50)            10400     \n",
      "_________________________________________________________________\n",
      "lstm_2 (LSTM)                (None, 50)                20200     \n",
      "_________________________________________________________________\n",
      "dense_1 (Dense)              (None, 1)                 51        \n",
      "=================================================================\n",
      "Total params: 30,651\n",
      "Trainable params: 30,651\n",
      "Non-trainable params: 0\n",
      "_________________________________________________________________\n"
     ]
    }
   ],
   "source": [
    "model.summary()"
   ]
  },
  {
   "cell_type": "code",
   "execution_count": 28,
   "metadata": {},
   "outputs": [],
   "source": [
    "from keras.callbacks import EarlyStopping"
   ]
  },
  {
   "cell_type": "code",
   "execution_count": 29,
   "metadata": {},
   "outputs": [],
   "source": [
    "#early_stop = EarlyStopping(monitor='val_loss', patience=2)"
   ]
  },
  {
   "cell_type": "code",
   "execution_count": 30,
   "metadata": {},
   "outputs": [
    {
     "data": {
      "text/plain": [
       "(247, 30)"
      ]
     },
     "execution_count": 30,
     "metadata": {},
     "output_type": "execute_result"
    }
   ],
   "source": [
    "len(scaled_test), length"
   ]
  },
  {
   "cell_type": "code",
   "execution_count": 31,
   "metadata": {},
   "outputs": [
    {
     "data": {
      "text/plain": [
       "\"\\nscaled data test set must be greater than the length of the batches\\nlenght of batches can't be same size as test set. must be at least 1 shorter than scaled_test data\\n\\n\""
      ]
     },
     "execution_count": 31,
     "metadata": {},
     "output_type": "execute_result"
    }
   ],
   "source": [
    "#create generator for scaled_test/validation set\n",
    "\n",
    "#length = 300\n",
    "\"\"\"\n",
    "scaled data test set must be greater than the length of the batches\n",
    "lenght of batches can't be same size as test set. must be at least 1 shorter than scaled_test data\n",
    "\n",
    "\"\"\"\n",
    "\n",
    "#validation_generator = TimeseriesGenerator(scaled_test, scaled_test, length=length, batch_size=batch_size)"
   ]
  },
  {
   "cell_type": "code",
   "execution_count": 32,
   "metadata": {},
   "outputs": [
    {
     "name": "stdout",
     "output_type": "stream",
     "text": [
      "Epoch 1/10\n",
      "958/958 [==============================] - 80s 84ms/step - loss: 0.0043 - val_loss: 0.0066\n",
      "Epoch 2/10\n",
      "958/958 [==============================] - 71s 75ms/step - loss: 0.0017 - val_loss: 0.0042\n",
      "Epoch 3/10\n",
      "958/958 [==============================] - 72s 76ms/step - loss: 0.0012 - val_loss: 0.0032\n",
      "Epoch 4/10\n",
      "958/958 [==============================] - 77s 81ms/step - loss: 0.0011 - val_loss: 0.0038\n",
      "Epoch 5/10\n",
      "958/958 [==============================] - 75s 78ms/step - loss: 8.6315e-04 - val_loss: 0.0046\n"
     ]
    },
    {
     "data": {
      "text/plain": [
       "<keras.callbacks.History at 0x7f97dba8afd0>"
      ]
     },
     "execution_count": 32,
     "metadata": {},
     "output_type": "execute_result"
    }
   ],
   "source": [
    "model.fit_generator(generator, epochs=10, validation_data=validation_generator,callbacks=[early_stop]) #,callbacks=[early_stop]"
   ]
  },
  {
   "cell_type": "code",
   "execution_count": 33,
   "metadata": {},
   "outputs": [],
   "source": [
    "losses = pd.DataFrame(model.history.history)"
   ]
  },
  {
   "cell_type": "code",
   "execution_count": 34,
   "metadata": {},
   "outputs": [
    {
     "data": {
      "text/plain": [
       "<AxesSubplot:>"
      ]
     },
     "execution_count": 34,
     "metadata": {},
     "output_type": "execute_result"
    },
    {
     "data": {
      "image/png": "[encoded data removed]",
      "text/plain": [
       "<Figure size 432x288 with 1 Axes>"
      ]
     },
     "metadata": {
      "needs_background": "light"
     },
     "output_type": "display_data"
    }
   ],
   "source": [
    "losses.plot()"
   ]
  },
  {
   "cell_type": "markdown",
   "metadata": {},
   "source": [
    "### Evaluate on Test Data\n",
    "Forecast predictions for the test data range(-- days of the entire dataset).<br>\n",
    "Final result will be DataFrame with 2 columns, true test values and the predictions.<br>"
   ]
  },
  {
   "cell_type": "code",
   "execution_count": 35,
   "metadata": {},
   "outputs": [],
   "source": [
    "\"\"\"\n",
    "evaluate test predictions\n",
    "\"\"\"\n",
    "\n",
    "test_predictions = []\n",
    "\n",
    "#last 60 days of train set to predcit 1 day in the future, which is 1st point in test set\n",
    "#ie 24, would be last 24 days of training data. 24 days to predict 1 day into the future\n",
    "first_eval_batch = scaled_train[-length:] #should be in last batch if training data\n",
    "#change 1\n",
    "# 1 time series per batch(batch_size), length, n_features=1\n",
    "current_batch = first_eval_batch.reshape((1,length, n_features)) #reshape to correct format. 1 item per batch\n",
    "\n",
    "for i in range(len(test)): #only forecasting on test set\n",
    "    #get hte predcition 1 timestamp ahead.\n",
    "    current_pred = model.predict(current_batch)[0] #to be current prediction\n",
    "    \n",
    "    test_predictions.append(current_pred) #take current_pred and append to list\n",
    "    #in order to keep predicintg into future need to move current batch forward 1 timestep\n",
    "    #gets rid of 1st item and replaces it with current prediction all the way to the very end\n",
    "    #drops 1st value in current_batch\n",
    "    #append curent predcition value. Moves current_batch 1 value into the future\n",
    "    #true forecast is predciting off predictions\n",
    "    #1-grab everythin but index 0\n",
    "    current_batch = np.append(current_batch[:,1:,:],[[current_pred]], axis=1)\n"
   ]
  },
  {
   "cell_type": "code",
   "execution_count": 36,
   "metadata": {},
   "outputs": [
    {
     "name": "stderr",
     "output_type": "stream",
     "text": [
      "/Users/davidtorres/opt/anaconda3/envs/learn-env/lib/python3.6/site-packages/ipykernel_launcher.py:2: SettingWithCopyWarning: \n",
      "A value is trying to be set on a copy of a slice from a DataFrame.\n",
      "Try using .loc[row_indexer,col_indexer] = value instead\n",
      "\n",
      "See the caveats in the documentation: https://pandas.pydata.org/pandas-docs/stable/user_guide/indexing.html#returning-a-view-versus-a-copy\n",
      "  \n"
     ]
    }
   ],
   "source": [
    "true_predictions = scaler.inverse_transform(test_predictions)\n",
    "test['LSTM Predictions'] = true_predictions"
   ]
  },
  {
   "cell_type": "code",
   "execution_count": 37,
   "metadata": {},
   "outputs": [],
   "source": [
    "#test['LSTM Predictions'] = true_predictions"
   ]
  },
  {
   "cell_type": "code",
   "execution_count": 38,
   "metadata": {},
   "outputs": [
    {
     "data": {
      "text/html": [
       "<div>\n",
       "<style scoped>\n",
       "    .dataframe tbody tr th:only-of-type {\n",
       "        vertical-align: middle;\n",
       "    }\n",
       "\n",
       "    .dataframe tbody tr th {\n",
       "        vertical-align: top;\n",
       "    }\n",
       "\n",
       "    .dataframe thead th {\n",
       "        text-align: right;\n",
       "    }\n",
       "</style>\n",
       "<table border=\"1\" class=\"dataframe\">\n",
       "  <thead>\n",
       "    <tr style=\"text-align: right;\">\n",
       "      <th></th>\n",
       "      <th>Close</th>\n",
       "      <th>LSTM Predictions</th>\n",
       "    </tr>\n",
       "    <tr>\n",
       "      <th>Date</th>\n",
       "      <th></th>\n",
       "      <th></th>\n",
       "    </tr>\n",
       "  </thead>\n",
       "  <tbody>\n",
       "    <tr>\n",
       "      <th>2017-10-10</th>\n",
       "      <td>208.45</td>\n",
       "      <td>205.458614</td>\n",
       "    </tr>\n",
       "    <tr>\n",
       "      <th>2017-10-11</th>\n",
       "      <td>209.40</td>\n",
       "      <td>202.355708</td>\n",
       "    </tr>\n",
       "    <tr>\n",
       "      <th>2017-10-12</th>\n",
       "      <td>212.00</td>\n",
       "      <td>199.498402</td>\n",
       "    </tr>\n",
       "    <tr>\n",
       "      <th>2017-10-13</th>\n",
       "      <td>210.25</td>\n",
       "      <td>197.057755</td>\n",
       "    </tr>\n",
       "    <tr>\n",
       "      <th>2017-10-16</th>\n",
       "      <td>209.60</td>\n",
       "      <td>194.981970</td>\n",
       "    </tr>\n",
       "    <tr>\n",
       "      <th>2017-10-17</th>\n",
       "      <td>210.30</td>\n",
       "      <td>193.151718</td>\n",
       "    </tr>\n",
       "    <tr>\n",
       "      <th>2017-10-18</th>\n",
       "      <td>206.80</td>\n",
       "      <td>191.454669</td>\n",
       "    </tr>\n",
       "    <tr>\n",
       "      <th>2017-10-19</th>\n",
       "      <td>204.60</td>\n",
       "      <td>189.811102</td>\n",
       "    </tr>\n",
       "    <tr>\n",
       "      <th>2017-10-23</th>\n",
       "      <td>203.10</td>\n",
       "      <td>188.170452</td>\n",
       "    </tr>\n",
       "    <tr>\n",
       "      <th>2017-10-24</th>\n",
       "      <td>209.65</td>\n",
       "      <td>186.520042</td>\n",
       "    </tr>\n",
       "    <tr>\n",
       "      <th>2017-10-25</th>\n",
       "      <td>205.30</td>\n",
       "      <td>184.857984</td>\n",
       "    </tr>\n",
       "    <tr>\n",
       "      <th>2017-10-26</th>\n",
       "      <td>209.80</td>\n",
       "      <td>183.186756</td>\n",
       "    </tr>\n",
       "    <tr>\n",
       "      <th>2017-10-27</th>\n",
       "      <td>220.50</td>\n",
       "      <td>181.509348</td>\n",
       "    </tr>\n",
       "    <tr>\n",
       "      <th>2017-10-30</th>\n",
       "      <td>226.80</td>\n",
       "      <td>179.828292</td>\n",
       "    </tr>\n",
       "    <tr>\n",
       "      <th>2017-10-31</th>\n",
       "      <td>226.95</td>\n",
       "      <td>178.137416</td>\n",
       "    </tr>\n",
       "    <tr>\n",
       "      <th>2017-11-01</th>\n",
       "      <td>227.80</td>\n",
       "      <td>176.440394</td>\n",
       "    </tr>\n",
       "    <tr>\n",
       "      <th>2017-11-02</th>\n",
       "      <td>226.35</td>\n",
       "      <td>174.745944</td>\n",
       "    </tr>\n",
       "    <tr>\n",
       "      <th>2017-11-03</th>\n",
       "      <td>225.30</td>\n",
       "      <td>173.052320</td>\n",
       "    </tr>\n",
       "    <tr>\n",
       "      <th>2017-11-06</th>\n",
       "      <td>234.70</td>\n",
       "      <td>171.358892</td>\n",
       "    </tr>\n",
       "    <tr>\n",
       "      <th>2017-11-07</th>\n",
       "      <td>225.00</td>\n",
       "      <td>169.665580</td>\n",
       "    </tr>\n",
       "    <tr>\n",
       "      <th>2017-11-08</th>\n",
       "      <td>224.50</td>\n",
       "      <td>167.973661</td>\n",
       "    </tr>\n",
       "    <tr>\n",
       "      <th>2017-11-09</th>\n",
       "      <td>240.45</td>\n",
       "      <td>166.284247</td>\n",
       "    </tr>\n",
       "    <tr>\n",
       "      <th>2017-11-10</th>\n",
       "      <td>236.15</td>\n",
       "      <td>164.597878</td>\n",
       "    </tr>\n",
       "    <tr>\n",
       "      <th>2017-11-13</th>\n",
       "      <td>234.40</td>\n",
       "      <td>162.916281</td>\n",
       "    </tr>\n",
       "    <tr>\n",
       "      <th>2017-11-14</th>\n",
       "      <td>246.70</td>\n",
       "      <td>161.240409</td>\n",
       "    </tr>\n",
       "  </tbody>\n",
       "</table>\n",
       "</div>"
      ],
      "text/plain": [
       "             Close  LSTM Predictions\n",
       "Date                                \n",
       "2017-10-10  208.45        205.458614\n",
       "2017-10-11  209.40        202.355708\n",
       "2017-10-12  212.00        199.498402\n",
       "2017-10-13  210.25        197.057755\n",
       "2017-10-16  209.60        194.981970\n",
       "2017-10-17  210.30        193.151718\n",
       "2017-10-18  206.80        191.454669\n",
       "2017-10-19  204.60        189.811102\n",
       "2017-10-23  203.10        188.170452\n",
       "2017-10-24  209.65        186.520042\n",
       "2017-10-25  205.30        184.857984\n",
       "2017-10-26  209.80        183.186756\n",
       "2017-10-27  220.50        181.509348\n",
       "2017-10-30  226.80        179.828292\n",
       "2017-10-31  226.95        178.137416\n",
       "2017-11-01  227.80        176.440394\n",
       "2017-11-02  226.35        174.745944\n",
       "2017-11-03  225.30        173.052320\n",
       "2017-11-06  234.70        171.358892\n",
       "2017-11-07  225.00        169.665580\n",
       "2017-11-08  224.50        167.973661\n",
       "2017-11-09  240.45        166.284247\n",
       "2017-11-10  236.15        164.597878\n",
       "2017-11-13  234.40        162.916281\n",
       "2017-11-14  246.70        161.240409"
      ]
     },
     "execution_count": 38,
     "metadata": {},
     "output_type": "execute_result"
    }
   ],
   "source": [
    "\"\"\"\n",
    "true and predictions\n",
    "\"\"\"\n",
    "test.head(25)"
   ]
  },
  {
   "cell_type": "code",
   "execution_count": 39,
   "metadata": {},
   "outputs": [
    {
     "data": {
      "text/plain": [
       "<AxesSubplot:xlabel='Date'>"
      ]
     },
     "execution_count": 39,
     "metadata": {},
     "output_type": "execute_result"
    },
    {
     "data": {
      "image/png": "[encoded data removed]",
      "text/plain": [
       "<Figure size 432x288 with 1 Axes>"
      ]
     },
     "metadata": {
      "needs_background": "light"
     },
     "output_type": "display_data"
    }
   ],
   "source": [
    "\"\"\"\n",
    "blue is what we know true values for\n",
    "\"\"\"\n",
    "# test['Close'].plot(figsize=(12,8))\n",
    "# test['LSTM Predictions'].plot()\n",
    "test.plot()"
   ]
  },
  {
   "cell_type": "markdown",
   "metadata": {},
   "source": [
    "#### Calculate RMSE"
   ]
  },
  {
   "cell_type": "code",
   "execution_count": 40,
   "metadata": {},
   "outputs": [],
   "source": [
    "from sklearn.metrics import mean_squared_error"
   ]
  },
  {
   "cell_type": "code",
   "execution_count": 41,
   "metadata": {},
   "outputs": [
    {
     "data": {
      "text/plain": [
       "160.96996427784612"
      ]
     },
     "execution_count": 41,
     "metadata": {},
     "output_type": "execute_result"
    }
   ],
   "source": [
    "#how accurate model predicts reponse\n",
    "rmse = np.sqrt(mean_squared_error(test['Close'],test['LSTM Predictions']))\n",
    "rmse"
   ]
  },
  {
   "cell_type": "markdown",
   "metadata": {},
   "source": [
    "## Forecast into Unknown Future\n",
    "Need to retrain on all the data.<br>"
   ]
  },
  {
   "cell_type": "code",
   "execution_count": 42,
   "metadata": {},
   "outputs": [],
   "source": [
    "\"\"\"\n",
    "full dataframe transformed\n",
    "\"\"\"\n",
    "full_scaler = MinMaxScaler()\n",
    "scaled_full_data = full_scaler.fit_transform(df)"
   ]
  },
  {
   "cell_type": "code",
   "execution_count": 43,
   "metadata": {},
   "outputs": [
    {
     "data": {
      "text/plain": [
       "array([[0.46807574],\n",
       "       [0.46587406],\n",
       "       [0.50638485],\n",
       "       [0.50550418],\n",
       "       [0.50022017],\n",
       "       [0.4878908 ],\n",
       "       [0.52267723],\n",
       "       [0.54205196],\n",
       "       [0.50154117],\n",
       "       [0.52135623],\n",
       "       [0.49405548],\n",
       "       [0.55306033],\n",
       "       [0.53896962],\n",
       "       [0.5336856 ],\n",
       "       [0.52619991],\n",
       "       [0.54909731],\n",
       "       [0.54029062],\n",
       "       [0.57287539],\n",
       "       [0.58872743],\n",
       "       [0.57199472],\n",
       "       [0.53632761],\n",
       "       [0.50814619],\n",
       "       [0.50594452],\n",
       "       [0.47468076],\n",
       "       [0.45706737],\n",
       "       [0.36679877],\n",
       "       [0.36371642],\n",
       "       [0.39674152],\n",
       "       [0.36900044],\n",
       "       [0.37604579],\n",
       "       [0.36107442],\n",
       "       [0.34478203],\n",
       "       [0.35006605],\n",
       "       [0.3773668 ],\n",
       "       [0.37340379],\n",
       "       [0.39630119],\n",
       "       [0.40730956],\n",
       "       [0.41083223],\n",
       "       [0.3888155 ],\n",
       "       [0.37780713],\n",
       "       [0.3874945 ],\n",
       "       [0.38353148],\n",
       "       [0.38793483],\n",
       "       [0.39453985],\n",
       "       [0.39057684],\n",
       "       [0.38837517],\n",
       "       [0.37428446],\n",
       "       [0.35931308],\n",
       "       [0.37076178],\n",
       "       [0.40114487],\n",
       "       [0.39498018],\n",
       "       [0.44429767],\n",
       "       [0.45838838],\n",
       "       [0.48084544],\n",
       "       [0.51431088],\n",
       "       [0.4878908 ],\n",
       "       [0.50330251],\n",
       "       [0.50902686],\n",
       "       [0.5094672 ],\n",
       "       [0.46059005],\n",
       "       [0.47291942],\n",
       "       [0.47688243],\n",
       "       [0.47424042],\n",
       "       [0.47952444],\n",
       "       [0.48084544],\n",
       "       [0.46939674],\n",
       "       [0.44253633],\n",
       "       [0.43505064],\n",
       "       [0.43505064],\n",
       "       [0.40863056],\n",
       "       [0.38353148],\n",
       "       [0.40202554],\n",
       "       [0.39806253],\n",
       "       [0.41567591],\n",
       "       [0.40114487],\n",
       "       [0.36635843],\n",
       "       [0.34081902],\n",
       "       [0.31968296],\n",
       "       [0.34786438],\n",
       "       [0.332893  ],\n",
       "       [0.33773668],\n",
       "       [0.33509467],\n",
       "       [0.35667107],\n",
       "       [0.3557904 ],\n",
       "       [0.33905768],\n",
       "       [0.35843241],\n",
       "       [0.36063408],\n",
       "       [0.37164245],\n",
       "       [0.36459709],\n",
       "       [0.3443417 ],\n",
       "       [0.33377367],\n",
       "       [0.31924262],\n",
       "       [0.33069133],\n",
       "       [0.33201233],\n",
       "       [0.33861735],\n",
       "       [0.34654337],\n",
       "       [0.35270806],\n",
       "       [0.33949802],\n",
       "       [0.32716865],\n",
       "       [0.32628798],\n",
       "       [0.29326288],\n",
       "       [0.33245266],\n",
       "       [0.33685601],\n",
       "       [0.35138705],\n",
       "       [0.35799207],\n",
       "       [0.36239542],\n",
       "       [0.37428446],\n",
       "       [0.3786878 ],\n",
       "       [0.35138705],\n",
       "       [0.35270806],\n",
       "       [0.35667107],\n",
       "       [0.34037869],\n",
       "       [0.34125936],\n",
       "       [0.35887274],\n",
       "       [0.36107442],\n",
       "       [0.35402906],\n",
       "       [0.3544694 ],\n",
       "       [0.35314839],\n",
       "       [0.34478203],\n",
       "       [0.39938353],\n",
       "       [0.41743725],\n",
       "       [0.45442536],\n",
       "       [0.44782034],\n",
       "       [0.43064729],\n",
       "       [0.43637164],\n",
       "       [0.42976662],\n",
       "       [0.45574637],\n",
       "       [0.44429767],\n",
       "       [0.44121532],\n",
       "       [0.44385733],\n",
       "       [0.42140026],\n",
       "       [0.48260678],\n",
       "       [0.47115808],\n",
       "       [0.48612946],\n",
       "       [0.47071775],\n",
       "       [0.44297666],\n",
       "       [0.44209599],\n",
       "       [0.42844562],\n",
       "       [0.41215324],\n",
       "       [0.40246587],\n",
       "       [0.38793483],\n",
       "       [0.37384412],\n",
       "       [0.36944077],\n",
       "       [0.35050638],\n",
       "       [0.37296345],\n",
       "       [0.36900044],\n",
       "       [0.38529282],\n",
       "       [0.39321885],\n",
       "       [0.3659181 ],\n",
       "       [0.37076178],\n",
       "       [0.4231616 ],\n",
       "       [0.44738001],\n",
       "       [0.44429767],\n",
       "       [0.46587406],\n",
       "       [0.48348745],\n",
       "       [0.47380009],\n",
       "       [0.47335975],\n",
       "       [0.47203875],\n",
       "       [0.40730956],\n",
       "       [0.40907089],\n",
       "       [0.39498018],\n",
       "       [0.41963893],\n",
       "       [0.443417  ],\n",
       "       [0.45266402],\n",
       "       [0.60281814],\n",
       "       [0.60369881],\n",
       "       [0.63584324],\n",
       "       [0.58740643],\n",
       "       [0.58124174],\n",
       "       [0.53764861],\n",
       "       [0.55790401],\n",
       "       [0.56715103],\n",
       "       [0.53632761],\n",
       "       [0.53060326],\n",
       "       [0.52575958],\n",
       "       [0.57507706],\n",
       "       [0.56935271],\n",
       "       [0.58872743],\n",
       "       [0.57375605],\n",
       "       [0.60281814],\n",
       "       [0.61734919],\n",
       "       [0.63540291],\n",
       "       [0.63143989],\n",
       "       [0.58608542],\n",
       "       [0.57419639],\n",
       "       [0.56715103],\n",
       "       [0.49361515],\n",
       "       [0.46059005],\n",
       "       [0.46499339],\n",
       "       [0.41523558],\n",
       "       [0.43284897],\n",
       "       [0.45002202],\n",
       "       [0.48040511],\n",
       "       [0.50814619],\n",
       "       [0.5107882 ],\n",
       "       [0.49801849],\n",
       "       [0.49361515],\n",
       "       [0.47688243],\n",
       "       [0.47468076],\n",
       "       [0.44782034],\n",
       "       [0.46279172],\n",
       "       [0.44253633],\n",
       "       [0.44782034],\n",
       "       [0.4548657 ],\n",
       "       [0.46543373],\n",
       "       [0.46014971],\n",
       "       [0.45046235],\n",
       "       [0.45354469],\n",
       "       [0.42272127],\n",
       "       [0.43372963],\n",
       "       [0.4561867 ],\n",
       "       [0.42712461],\n",
       "       [0.43549097],\n",
       "       [0.45574637],\n",
       "       [0.47424042],\n",
       "       [0.49185381],\n",
       "       [0.47952444],\n",
       "       [0.46499339],\n",
       "       [0.46499339],\n",
       "       [0.44297666],\n",
       "       [0.44429767],\n",
       "       [0.42140026],\n",
       "       [0.45134302],\n",
       "       [0.46455306],\n",
       "       [0.45442536],\n",
       "       [0.52443857],\n",
       "       [0.52487891],\n",
       "       [0.54557464],\n",
       "       [0.55085865],\n",
       "       [0.52752092],\n",
       "       [0.57023338],\n",
       "       [0.58916777],\n",
       "       [0.56847204],\n",
       "       [0.50022017],\n",
       "       [0.51915456],\n",
       "       [0.54777631],\n",
       "       [0.58080141],\n",
       "       [0.5984148 ],\n",
       "       [0.54425363],\n",
       "       [0.54689564],\n",
       "       [0.50770586],\n",
       "       [0.50198151],\n",
       "       [0.49625716],\n",
       "       [0.4993395 ],\n",
       "       [0.49493615],\n",
       "       [0.49449582],\n",
       "       [0.50726552],\n",
       "       [0.51607221],\n",
       "       [0.50726552],\n",
       "       [0.48304712],\n",
       "       [0.47335975],\n",
       "       [0.43769265],\n",
       "       [0.44649934],\n",
       "       [0.45838838],\n",
       "       [0.46587406],\n",
       "       [0.47424042],\n",
       "       [0.4905328 ],\n",
       "       [0.47247908],\n",
       "       [0.47291942],\n",
       "       [0.48128578],\n",
       "       [0.48260678],\n",
       "       [0.50594452],\n",
       "       [0.53808895],\n",
       "       [0.51959489],\n",
       "       [0.51298987],\n",
       "       [0.48524879],\n",
       "       [0.48965214],\n",
       "       [0.46851607],\n",
       "       [0.45398503],\n",
       "       [0.46323206],\n",
       "       [0.50418318],\n",
       "       [0.49977983],\n",
       "       [0.48612946],\n",
       "       [0.47820343],\n",
       "       [0.4764421 ],\n",
       "       [0.47820343],\n",
       "       [0.45398503],\n",
       "       [0.46367239],\n",
       "       [0.51387054],\n",
       "       [0.51651255],\n",
       "       [0.50110084],\n",
       "       [0.53456627],\n",
       "       [0.5336856 ],\n",
       "       [0.53500661],\n",
       "       [0.51475121],\n",
       "       [0.49009247],\n",
       "       [0.45970938],\n",
       "       [0.46983708],\n",
       "       [0.46675473],\n",
       "       [0.44297666],\n",
       "       [0.43108763],\n",
       "       [0.36635843],\n",
       "       [0.37296345],\n",
       "       [0.39498018],\n",
       "       [0.39409952],\n",
       "       [0.39498018],\n",
       "       [0.40202554],\n",
       "       [0.38969617],\n",
       "       [0.38925583],\n",
       "       [0.40510788],\n",
       "       [0.40863056],\n",
       "       [0.42536328],\n",
       "       [0.4231616 ],\n",
       "       [0.43901365],\n",
       "       [0.44297666],\n",
       "       [0.40070454],\n",
       "       [0.40334654],\n",
       "       [0.44958168],\n",
       "       [0.4663144 ],\n",
       "       [0.48172611],\n",
       "       [0.46323206],\n",
       "       [0.45970938],\n",
       "       [0.46675473],\n",
       "       [0.4548657 ],\n",
       "       [0.47468076],\n",
       "       [0.47291942],\n",
       "       [0.48745046],\n",
       "       [0.49493615],\n",
       "       [0.51519155],\n",
       "       [0.49977983],\n",
       "       [0.49405548],\n",
       "       [0.48965214],\n",
       "       [0.49361515],\n",
       "       [0.53676794],\n",
       "       [0.50902686],\n",
       "       [0.49229414],\n",
       "       [0.45882871],\n",
       "       [0.43813298],\n",
       "       [0.41303391],\n",
       "       [0.43064729],\n",
       "       [0.45530603],\n",
       "       [0.46279172],\n",
       "       [0.48216645],\n",
       "       [0.46235139],\n",
       "       [0.47732277],\n",
       "       [0.47864377],\n",
       "       [0.50242184],\n",
       "       [0.46939674],\n",
       "       [0.46587406],\n",
       "       [0.44782034],\n",
       "       [0.43945399],\n",
       "       [0.47027741],\n",
       "       [0.46014971],\n",
       "       [0.4905328 ],\n",
       "       [0.53632761],\n",
       "       [0.4905328 ],\n",
       "       [0.49889916],\n",
       "       [0.49669749],\n",
       "       [0.48084544],\n",
       "       [0.48612946],\n",
       "       [0.50506385],\n",
       "       [0.45970938],\n",
       "       [0.45882871],\n",
       "       [0.47600176],\n",
       "       [0.46851607],\n",
       "       [0.45090269],\n",
       "       [0.41655658],\n",
       "       [0.39233818],\n",
       "       [0.3989432 ],\n",
       "       [0.40819022],\n",
       "       [0.39321885],\n",
       "       [0.37956847],\n",
       "       [0.41479524],\n",
       "       [0.40642889],\n",
       "       [0.42668428],\n",
       "       [0.42976662],\n",
       "       [0.42668428],\n",
       "       [0.43108763],\n",
       "       [0.43505064],\n",
       "       [0.51563188],\n",
       "       [0.51827389],\n",
       "       [0.49581682],\n",
       "       [0.49889916],\n",
       "       [0.48348745],\n",
       "       [0.44561867],\n",
       "       [0.41875826],\n",
       "       [0.41391458],\n",
       "       [0.41875826],\n",
       "       [0.39277851],\n",
       "       [0.34786438],\n",
       "       [0.34610304],\n",
       "       [0.35138705],\n",
       "       [0.34742404],\n",
       "       [0.36019375],\n",
       "       [0.36900044],\n",
       "       [0.32716865],\n",
       "       [0.30911493],\n",
       "       [0.33817701],\n",
       "       [0.35843241],\n",
       "       [0.35402906],\n",
       "       [0.36900044],\n",
       "       [0.38441215],\n",
       "       [0.39409952],\n",
       "       [0.3989432 ],\n",
       "       [0.39542052],\n",
       "       [0.38132981],\n",
       "       [0.3874945 ],\n",
       "       [0.3989432 ],\n",
       "       [0.39453985],\n",
       "       [0.40642889],\n",
       "       [0.40554822],\n",
       "       [0.37208278],\n",
       "       [0.38397182],\n",
       "       [0.37428446],\n",
       "       [0.33597534],\n",
       "       [0.30559225],\n",
       "       [0.30911493],\n",
       "       [0.31571995],\n",
       "       [0.28357552],\n",
       "       [0.30735359],\n",
       "       [0.29898723],\n",
       "       [0.27961251],\n",
       "       [0.22457067],\n",
       "       [0.23293703],\n",
       "       [0.22941435],\n",
       "       [0.26155878],\n",
       "       [0.26376046],\n",
       "       [0.27388815],\n",
       "       [0.28489652],\n",
       "       [0.27476882],\n",
       "       [0.26904447],\n",
       "       [0.29106121],\n",
       "       [0.27476882],\n",
       "       [0.23690004],\n",
       "       [0.26023778],\n",
       "       [0.2897402 ],\n",
       "       [0.30339058],\n",
       "       [0.29458388],\n",
       "       [0.28489652],\n",
       "       [0.31307794],\n",
       "       [0.28401585],\n",
       "       [0.27564949],\n",
       "       [0.28093351],\n",
       "       [0.30074857],\n",
       "       [0.30295024],\n",
       "       [0.3126376 ],\n",
       "       [0.3113166 ],\n",
       "       [0.32012329],\n",
       "       [0.3443417 ],\n",
       "       [0.30691325],\n",
       "       [0.32452664],\n",
       "       [0.33641568],\n",
       "       [0.33597534],\n",
       "       [0.30735359],\n",
       "       [0.30647292],\n",
       "       [0.31704095],\n",
       "       [0.30383091],\n",
       "       [0.33069133],\n",
       "       [0.33641568],\n",
       "       [0.35799207],\n",
       "       [0.34786438],\n",
       "       [0.36195509],\n",
       "       [0.34610304],\n",
       "       [0.31968296],\n",
       "       [0.30867459],\n",
       "       [0.26772347],\n",
       "       [0.24086306],\n",
       "       [0.25935711],\n",
       "       [0.24966975],\n",
       "       [0.27741083],\n",
       "       [0.27432849],\n",
       "       [0.26640247],\n",
       "       [0.24438573],\n",
       "       [0.10744166],\n",
       "       [0.13121973],\n",
       "       [0.12901805],\n",
       "       [0.1206517 ],\n",
       "       [0.13650374],\n",
       "       [0.14927345],\n",
       "       [0.110524  ],\n",
       "       [0.14266843],\n",
       "       [0.1893439 ],\n",
       "       [0.15455746],\n",
       "       [0.15675914],\n",
       "       [0.16116248],\n",
       "       [0.18494055],\n",
       "       [0.18582122],\n",
       "       [0.18141788],\n",
       "       [0.18846323],\n",
       "       [0.20035227],\n",
       "       [0.18009687],\n",
       "       [0.2007926 ],\n",
       "       [0.20123294],\n",
       "       [0.18714223],\n",
       "       [0.19682959],\n",
       "       [0.18978424],\n",
       "       [0.21532365],\n",
       "       [0.2109203 ],\n",
       "       [0.22148833],\n",
       "       [0.24130339],\n",
       "       [0.25715544],\n",
       "       [0.24570674],\n",
       "       [0.26772347],\n",
       "       [0.27036548],\n",
       "       [0.28225451],\n",
       "       [0.28093351],\n",
       "       [0.26111845],\n",
       "       [0.27608983],\n",
       "       [0.28225451],\n",
       "       [0.27608983],\n",
       "       [0.28225451],\n",
       "       [0.32364597],\n",
       "       [0.30735359],\n",
       "       [0.30955526],\n",
       "       [0.31924262],\n",
       "       [0.29194188],\n",
       "       [0.29018054],\n",
       "       [0.29282255],\n",
       "       [0.27124615],\n",
       "       [0.26420079],\n",
       "       [0.25627477],\n",
       "       [0.25627477],\n",
       "       [0.22324967],\n",
       "       [0.20431528],\n",
       "       [0.23029502],\n",
       "       [0.20299428],\n",
       "       [0.222369  ],\n",
       "       [0.22324967],\n",
       "       [0.22457067],\n",
       "       [0.26287979],\n",
       "       [0.22985469],\n",
       "       [0.24878908],\n",
       "       [0.27432849],\n",
       "       [0.2668428 ],\n",
       "       [0.27917217],\n",
       "       [0.28445619],\n",
       "       [0.30206957],\n",
       "       [0.30735359],\n",
       "       [0.29590489],\n",
       "       [0.29546455],\n",
       "       [0.28401585],\n",
       "       [0.27300749],\n",
       "       [0.28797886],\n",
       "       [0.28489652],\n",
       "       [0.25979745],\n",
       "       [0.28753853],\n",
       "       [0.26904447],\n",
       "       [0.27917217],\n",
       "       [0.27476882],\n",
       "       [0.2985469 ],\n",
       "       [0.34830471],\n",
       "       [0.3456627 ],\n",
       "       [0.3544694 ],\n",
       "       [0.33949802],\n",
       "       [0.34654337],\n",
       "       [0.37120211],\n",
       "       [0.36459709],\n",
       "       [0.3456627 ],\n",
       "       [0.38485249],\n",
       "       [0.38353148],\n",
       "       [0.38529282],\n",
       "       [0.36151475],\n",
       "       [0.40246587],\n",
       "       [0.37516513],\n",
       "       [0.32937032],\n",
       "       [0.36811977],\n",
       "       [0.3456627 ],\n",
       "       [0.32452664],\n",
       "       [0.29018054],\n",
       "       [0.27653016],\n",
       "       [0.22765302],\n",
       "       [0.16908851],\n",
       "       [0.20915896],\n",
       "       [0.17525319],\n",
       "       [0.16820784],\n",
       "       [0.20167327],\n",
       "       [0.19066491],\n",
       "       [0.19198591],\n",
       "       [0.18053721],\n",
       "       [0.21003963],\n",
       "       [0.2109203 ],\n",
       "       [0.19022457],\n",
       "       [0.16820784],\n",
       "       [0.16688683],\n",
       "       [0.17481286],\n",
       "       [0.18714223],\n",
       "       [0.15940114],\n",
       "       [0.13826508],\n",
       "       [0.0228974 ],\n",
       "       [0.01453104],\n",
       "       [0.02950242],\n",
       "       [0.        ],\n",
       "       [0.01188904],\n",
       "       [0.01673272],\n",
       "       [0.04095112],\n",
       "       [0.05680317],\n",
       "       [0.03522677],\n",
       "       [0.03566711],\n",
       "       [0.03126376],\n",
       "       [0.01849406],\n",
       "       [0.00792602],\n",
       "       [0.05504183],\n",
       "       [0.06384852],\n",
       "       [0.06032585],\n",
       "       [0.09335095],\n",
       "       [0.11448701],\n",
       "       [0.12505504],\n",
       "       [0.12153236],\n",
       "       [0.11624835],\n",
       "       [0.11448701],\n",
       "       [0.11272567],\n",
       "       [0.10964333],\n",
       "       [0.11580801],\n",
       "       [0.14310876],\n",
       "       [0.15191546],\n",
       "       [0.1651255 ],\n",
       "       [0.14795244],\n",
       "       [0.14751211],\n",
       "       [0.14663144],\n",
       "       [0.1651255 ],\n",
       "       [0.16380449],\n",
       "       [0.17525319],\n",
       "       [0.16336416],\n",
       "       [0.13738441],\n",
       "       [0.14266843],\n",
       "       [0.14134742],\n",
       "       [0.13254073],\n",
       "       [0.14839278],\n",
       "       [0.13826508],\n",
       "       [0.15852048],\n",
       "       [0.15279613],\n",
       "       [0.16908851],\n",
       "       [0.15367679],\n",
       "       [0.1549978 ],\n",
       "       [0.16336416],\n",
       "       [0.16864817],\n",
       "       [0.17393219],\n",
       "       [0.15543813],\n",
       "       [0.15323646],\n",
       "       [0.16248349],\n",
       "       [0.14795244],\n",
       "       [0.12593571],\n",
       "       [0.1206517 ],\n",
       "       [0.13606341],\n",
       "       [0.14178776],\n",
       "       [0.13694408],\n",
       "       [0.12901805],\n",
       "       [0.1435491 ],\n",
       "       [0.14883311],\n",
       "       [0.15852048],\n",
       "       [0.15587847],\n",
       "       [0.16116248],\n",
       "       [0.15235579],\n",
       "       [0.15323646],\n",
       "       [0.1563188 ],\n",
       "       [0.16820784],\n",
       "       [0.14839278],\n",
       "       [0.14046675],\n",
       "       [0.12901805],\n",
       "       [0.1347424 ],\n",
       "       [0.13298107],\n",
       "       [0.13562307],\n",
       "       [0.14619111],\n",
       "       [0.15455746],\n",
       "       [0.14663144],\n",
       "       [0.14707177],\n",
       "       [0.19154557],\n",
       "       [0.19638926],\n",
       "       [0.18494055],\n",
       "       [0.22457067],\n",
       "       [0.21003963],\n",
       "       [0.21444298],\n",
       "       [0.20651695],\n",
       "       [0.20299428],\n",
       "       [0.20695729],\n",
       "       [0.2007926 ],\n",
       "       [0.21664465],\n",
       "       [0.2122413 ],\n",
       "       [0.19022457],\n",
       "       [0.20519595],\n",
       "       [0.22192867],\n",
       "       [0.23822105],\n",
       "       [0.25143109],\n",
       "       [0.28401585],\n",
       "       [0.2769705 ],\n",
       "       [0.27520916],\n",
       "       [0.28005284],\n",
       "       [0.26376046],\n",
       "       [0.2681638 ],\n",
       "       [0.26640247],\n",
       "       [0.25979745],\n",
       "       [0.26376046],\n",
       "       [0.26376046],\n",
       "       [0.24042272],\n",
       "       [0.24130339],\n",
       "       [0.27476882],\n",
       "       [0.2567151 ],\n",
       "       [0.2540731 ],\n",
       "       [0.27124615],\n",
       "       [0.25099075],\n",
       "       [0.30647292],\n",
       "       [0.33025099],\n",
       "       [0.34786438],\n",
       "       [0.33773668],\n",
       "       [0.31483928],\n",
       "       [0.29150154],\n",
       "       [0.31395861],\n",
       "       [0.32100396],\n",
       "       [0.3544694 ],\n",
       "       [0.35755174],\n",
       "       [0.30911493],\n",
       "       [0.30515192],\n",
       "       [0.30206957],\n",
       "       [0.31175694],\n",
       "       [0.30823426],\n",
       "       [0.31880229],\n",
       "       [0.33993835],\n",
       "       [0.31483928],\n",
       "       [0.32540731],\n",
       "       [0.33113166],\n",
       "       [0.332893  ],\n",
       "       [0.32804932],\n",
       "       [0.32012329],\n",
       "       [0.33069133],\n",
       "       [0.33113166],\n",
       "       [0.33861735],\n",
       "       [0.3430207 ],\n",
       "       [0.3443417 ],\n",
       "       [0.34830471],\n",
       "       [0.34830471],\n",
       "       [0.32628798],\n",
       "       [0.28753853],\n",
       "       [0.30647292],\n",
       "       [0.30250991],\n",
       "       [0.32760898],\n",
       "       [0.32804932],\n",
       "       [0.3113166 ],\n",
       "       [0.31175694],\n",
       "       [0.31924262],\n",
       "       [0.35006605],\n",
       "       [0.33465434],\n",
       "       [0.36900044],\n",
       "       [0.38837517],\n",
       "       [0.30250991],\n",
       "       [0.32540731],\n",
       "       [0.34962572],\n",
       "       [0.34478203],\n",
       "       [0.446059  ],\n",
       "       [0.42492294],\n",
       "       [0.42800528],\n",
       "       [0.43152796],\n",
       "       [0.39806253],\n",
       "       [0.44517834],\n",
       "       [0.41919859],\n",
       "       [0.43372963],\n",
       "       [0.45750771],\n",
       "       [0.43769265],\n",
       "       [0.43901365],\n",
       "       [0.45266402],\n",
       "       [0.41699692],\n",
       "       [0.37648613],\n",
       "       [0.30911493],\n",
       "       [0.32848965],\n",
       "       [0.32364597],\n",
       "       [0.31660062],\n",
       "       [0.28445619],\n",
       "       [0.25275209],\n",
       "       [0.21312197],\n",
       "       [0.22324967],\n",
       "       [0.21840599],\n",
       "       [0.16952884],\n",
       "       [0.20035227],\n",
       "       [0.14090709],\n",
       "       [0.12637605],\n",
       "       [0.16424483],\n",
       "       [0.14046675],\n",
       "       [0.15367679],\n",
       "       [0.11448701],\n",
       "       [0.12901805],\n",
       "       [0.1321004 ],\n",
       "       [0.10964333],\n",
       "       [0.13958609],\n",
       "       [0.16116248],\n",
       "       [0.16996918],\n",
       "       [0.18670189],\n",
       "       [0.16952884],\n",
       "       [0.1664465 ],\n",
       "       [0.18494055],\n",
       "       [0.18273888],\n",
       "       [0.17305152],\n",
       "       [0.18670189],\n",
       "       [0.18714223],\n",
       "       [0.18229855],\n",
       "       [0.18229855],\n",
       "       [0.17701453],\n",
       "       [0.19198591],\n",
       "       [0.19066491],\n",
       "       [0.19066491],\n",
       "       [0.16380449],\n",
       "       [0.16688683],\n",
       "       [0.14751211],\n",
       "       [0.14266843],\n",
       "       [0.12637605],\n",
       "       [0.15763981],\n",
       "       [0.14927345],\n",
       "       [0.16248349],\n",
       "       [0.17040951],\n",
       "       [0.18405989],\n",
       "       [0.19198591],\n",
       "       [0.19198591],\n",
       "       [0.19859093],\n",
       "       [0.19374725],\n",
       "       [0.19462792],\n",
       "       [0.19198591],\n",
       "       [0.21928666],\n",
       "       [0.19815059],\n",
       "       [0.22633201],\n",
       "       [0.22016733],\n",
       "       [0.21972699],\n",
       "       [0.22897402],\n",
       "       [0.2452664 ],\n",
       "       [0.20915896],\n",
       "       [0.222369  ],\n",
       "       [0.22721268],\n",
       "       [0.22633201],\n",
       "       [0.2338177 ],\n",
       "       [0.24482607],\n",
       "       [0.23073536],\n",
       "       [0.24174373],\n",
       "       [0.30823426],\n",
       "       [0.34522237],\n",
       "       [0.35314839],\n",
       "       [0.34346103],\n",
       "       [0.38309115],\n",
       "       [0.36327609],\n",
       "       [0.36371642],\n",
       "       [0.34610304],\n",
       "       [0.33949802],\n",
       "       [0.31792162],\n",
       "       [0.32981066],\n",
       "       [0.33025099],\n",
       "       [0.3430207 ],\n",
       "       [0.3430207 ],\n",
       "       [0.32892999],\n",
       "       [0.32232497],\n",
       "       [0.31924262],\n",
       "       [0.31175694],\n",
       "       [0.36063408],\n",
       "       [0.33861735],\n",
       "       [0.35843241],\n",
       "       [0.35755174],\n",
       "       [0.35314839],\n",
       "       [0.34125936],\n",
       "       [0.33597534],\n",
       "       [0.30339058],\n",
       "       [0.32452664],\n",
       "       [0.33685601],\n",
       "       [0.37032144],\n",
       "       [0.37120211],\n",
       "       [0.38573316],\n",
       "       [0.38088948],\n",
       "       [0.35623074],\n",
       "       [0.43108763],\n",
       "       [0.42712461],\n",
       "       [0.40466755],\n",
       "       [0.4218406 ],\n",
       "       [0.42228093],\n",
       "       [0.41831792],\n",
       "       [0.4218406 ],\n",
       "       [0.43372963],\n",
       "       [0.44033465],\n",
       "       [0.44385733],\n",
       "       [0.42228093],\n",
       "       [0.42536328],\n",
       "       [0.44693967],\n",
       "       [0.43240863],\n",
       "       [0.42140026],\n",
       "       [0.41215324],\n",
       "       [0.40070454],\n",
       "       [0.41875826],\n",
       "       [0.43593131],\n",
       "       [0.42844562],\n",
       "       [0.43416997],\n",
       "       [0.4319683 ],\n",
       "       [0.45002202],\n",
       "       [0.43549097],\n",
       "       [0.44429767],\n",
       "       [0.48480845],\n",
       "       [0.47159841],\n",
       "       [0.46411273],\n",
       "       [0.43725231],\n",
       "       [0.43989432],\n",
       "       [0.45266402],\n",
       "       [0.45970938],\n",
       "       [0.45222369],\n",
       "       [0.44033465],\n",
       "       [0.45750771],\n",
       "       [0.4561867 ],\n",
       "       [0.44209599],\n",
       "       [0.39498018],\n",
       "       [0.41259357],\n",
       "       [0.39762219],\n",
       "       [0.37076178],\n",
       "       [0.34390137],\n",
       "       [0.3557904 ],\n",
       "       [0.38969617],\n",
       "       [0.37648613],\n",
       "       [0.37780713],\n",
       "       [0.4117129 ],\n",
       "       [0.43813298],\n",
       "       [0.45970938],\n",
       "       [0.46059005],\n",
       "       [0.443417  ],\n",
       "       [0.46587406],\n",
       "       [0.45750771],\n",
       "       [0.45574637],\n",
       "       [0.43549097],\n",
       "       [0.47380009],\n",
       "       [0.49141347],\n",
       "       [0.49713782],\n",
       "       [0.4892118 ],\n",
       "       [0.47335975],\n",
       "       [0.47732277],\n",
       "       [0.47688243],\n",
       "       [0.45882871],\n",
       "       [0.42712461],\n",
       "       [0.39365918],\n",
       "       [0.40951123],\n",
       "       [0.40378688],\n",
       "       [0.42272127],\n",
       "       [0.43108763],\n",
       "       [0.41743725],\n",
       "       [0.47115808],\n",
       "       [0.44649934],\n",
       "       [0.48524879],\n",
       "       [0.56274769],\n",
       "       [0.58872743],\n",
       "       [0.62615588],\n",
       "       [0.64068692],\n",
       "       [0.63011889],\n",
       "       [0.65477763],\n",
       "       [0.62615588],\n",
       "       [0.63848525],\n",
       "       [0.60457948],\n",
       "       [0.6125055 ],\n",
       "       [0.59313078],\n",
       "       [0.60325848],\n",
       "       [0.6125055 ],\n",
       "       [0.57904007],\n",
       "       [0.58564509],\n",
       "       [0.58916777],\n",
       "       [0.57111405],\n",
       "       [0.54997798],\n",
       "       [0.56362836],\n",
       "       [0.56186702],\n",
       "       [0.59709379],\n",
       "       [0.55790401],\n",
       "       [0.5235579 ],\n",
       "       [0.46983708],\n",
       "       [0.54205196],\n",
       "       [0.67018934],\n",
       "       [0.80317041],\n",
       "       [0.77454866],\n",
       "       [0.80801409],\n",
       "       [0.8234258 ],\n",
       "       [0.76794364],\n",
       "       [0.82694848],\n",
       "       [0.80669309],\n",
       "       [0.79832673],\n",
       "       [0.77234698],\n",
       "       [0.83135183],\n",
       "       [0.83971819],\n",
       "       [0.83619551],\n",
       "       [0.79832673],\n",
       "       [0.82826948],\n",
       "       [0.9097314 ],\n",
       "       [0.90797006],\n",
       "       [0.91809775],\n",
       "       [0.93879348],\n",
       "       [0.96345222],\n",
       "       [0.92162043],\n",
       "       [0.96345222],\n",
       "       [0.95024218],\n",
       "       [0.97446059],\n",
       "       [1.        ],\n",
       "       [0.97798327],\n",
       "       [0.96477323],\n",
       "       [0.86745927],\n",
       "       [0.82782915],\n",
       "       [0.89828269],\n",
       "       [0.8450022 ],\n",
       "       [0.88507266],\n",
       "       [0.90841039],\n",
       "       [0.91413474],\n",
       "       [0.9009247 ],\n",
       "       [0.94055482],\n",
       "       [0.94187583],\n",
       "       [0.93042712]])"
      ]
     },
     "execution_count": 43,
     "metadata": {},
     "output_type": "execute_result"
    }
   ],
   "source": [
    "scaled_train"
   ]
  },
  {
   "cell_type": "code",
   "execution_count": null,
   "metadata": {},
   "outputs": [],
   "source": []
  },
  {
   "cell_type": "code",
   "execution_count": 44,
   "metadata": {},
   "outputs": [],
   "source": [
    "generator = TimeseriesGenerator(scaled_full_data, scaled_full_data, length=length, batch_size=batch_size)"
   ]
  },
  {
   "cell_type": "code",
   "execution_count": 45,
   "metadata": {},
   "outputs": [],
   "source": [
    "\n",
    "n_features = 1\n",
    "\n",
    "# model = Sequential()\n",
    "\n",
    "# model.add(LSTM(units = 50, return_sequences = True, input_shape=(length, n_features)))\n",
    "# model.add(Dropout(0.2))\n",
    "\n",
    "# model.add(LSTM(units = 50, return_sequences = True))\n",
    "# model.add(Dropout(0.2))\n",
    "\n",
    "# model.add(LSTM(units = 50, return_sequences = False))\n",
    "# model.add(Dropout(0.2))\n",
    "\n",
    "# model.add(Dense(units = 25))\n",
    "# model.add(Dense(units = 1))\n",
    "\n",
    "# model.compile(optimizer = 'adam', loss = 'mean_squared_error')\n",
    "\n",
    "model = Sequential()\n",
    "model.add(LSTM(units=50, return_sequences=True, input_shape=(length, n_features)))\n",
    "model.add(LSTM(units=50))\n",
    "model.add(Dense(1))\n",
    "\n",
    "model.compile(loss='mean_squared_error', optimizer='adam')\n"
   ]
  },
  {
   "cell_type": "code",
   "execution_count": 46,
   "metadata": {},
   "outputs": [
    {
     "name": "stdout",
     "output_type": "stream",
     "text": [
      "Epoch 1/2\n",
      "1205/1205 [==============================] - 81s 67ms/step - loss: 0.0025\n",
      "Epoch 2/2\n",
      "1205/1205 [==============================] - 76s 63ms/step - loss: 0.0013\n"
     ]
    },
    {
     "data": {
      "text/plain": [
       "<keras.callbacks.History at 0x7f97c1183320>"
      ]
     },
     "execution_count": 46,
     "metadata": {},
     "output_type": "execute_result"
    }
   ],
   "source": [
    "model.fit_generator(generator, epochs=2)"
   ]
  },
  {
   "cell_type": "code",
   "execution_count": 47,
   "metadata": {},
   "outputs": [],
   "source": [
    "forecast = []\n",
    "periods = 30 #forecasting off predeiciotns, adding in more predictions\n",
    "             #forecast length should be the same as test length\n",
    "            #should equal intial batch length\n",
    "\n",
    "first_eval_batch = scaled_full_data[-length:]\n",
    "current_batch = first_eval_batch.reshape((1, length, n_features))\n",
    "\n",
    "for i in range(periods): #how many spaces do I want to prdict into the future\n",
    "    current_pred = model.predict(current_batch)[0] #to be current prediction\n",
    "    \n",
    "    forecast.append(current_pred) #take current_pred and append to list\n",
    "    #in order to keep predicintg into future need to move current batch forward 1 timestep\n",
    "    #gets rid of 1st item and replaces it with current prediction all the way to the very end\n",
    "    current_batch = np.append(current_batch[:,1:,:],[[current_pred]], axis=1)\n"
   ]
  },
  {
   "cell_type": "code",
   "execution_count": 48,
   "metadata": {},
   "outputs": [],
   "source": [
    "#inverse scale \n",
    "forecast = scaler.inverse_transform(forecast)"
   ]
  },
  {
   "cell_type": "code",
   "execution_count": 49,
   "metadata": {},
   "outputs": [
    {
     "data": {
      "text/html": [
       "<div>\n",
       "<style scoped>\n",
       "    .dataframe tbody tr th:only-of-type {\n",
       "        vertical-align: middle;\n",
       "    }\n",
       "\n",
       "    .dataframe tbody tr th {\n",
       "        vertical-align: top;\n",
       "    }\n",
       "\n",
       "    .dataframe thead th {\n",
       "        text-align: right;\n",
       "    }\n",
       "</style>\n",
       "<table border=\"1\" class=\"dataframe\">\n",
       "  <thead>\n",
       "    <tr style=\"text-align: right;\">\n",
       "      <th></th>\n",
       "      <th>Close</th>\n",
       "    </tr>\n",
       "    <tr>\n",
       "      <th>Date</th>\n",
       "      <th></th>\n",
       "    </tr>\n",
       "  </thead>\n",
       "  <tbody>\n",
       "    <tr>\n",
       "      <th>2013-10-08</th>\n",
       "      <td>155.80</td>\n",
       "    </tr>\n",
       "    <tr>\n",
       "      <th>2013-10-09</th>\n",
       "      <td>155.55</td>\n",
       "    </tr>\n",
       "    <tr>\n",
       "      <th>2013-10-10</th>\n",
       "      <td>160.15</td>\n",
       "    </tr>\n",
       "    <tr>\n",
       "      <th>2013-10-11</th>\n",
       "      <td>160.05</td>\n",
       "    </tr>\n",
       "    <tr>\n",
       "      <th>2013-10-14</th>\n",
       "      <td>159.45</td>\n",
       "    </tr>\n",
       "    <tr>\n",
       "      <th>...</th>\n",
       "      <td>...</td>\n",
       "    </tr>\n",
       "    <tr>\n",
       "      <th>2018-10-01</th>\n",
       "      <td>230.90</td>\n",
       "    </tr>\n",
       "    <tr>\n",
       "      <th>2018-10-03</th>\n",
       "      <td>227.60</td>\n",
       "    </tr>\n",
       "    <tr>\n",
       "      <th>2018-10-04</th>\n",
       "      <td>218.20</td>\n",
       "    </tr>\n",
       "    <tr>\n",
       "      <th>2018-10-05</th>\n",
       "      <td>209.20</td>\n",
       "    </tr>\n",
       "    <tr>\n",
       "      <th>2018-10-08</th>\n",
       "      <td>215.15</td>\n",
       "    </tr>\n",
       "  </tbody>\n",
       "</table>\n",
       "<p>1235 rows × 1 columns</p>\n",
       "</div>"
      ],
      "text/plain": [
       "             Close\n",
       "Date              \n",
       "2013-10-08  155.80\n",
       "2013-10-09  155.55\n",
       "2013-10-10  160.15\n",
       "2013-10-11  160.05\n",
       "2013-10-14  159.45\n",
       "...            ...\n",
       "2018-10-01  230.90\n",
       "2018-10-03  227.60\n",
       "2018-10-04  218.20\n",
       "2018-10-05  209.20\n",
       "2018-10-08  215.15\n",
       "\n",
       "[1235 rows x 1 columns]"
      ]
     },
     "execution_count": 49,
     "metadata": {},
     "output_type": "execute_result"
    }
   ],
   "source": [
    "df"
   ]
  },
  {
   "cell_type": "code",
   "execution_count": 50,
   "metadata": {},
   "outputs": [
    {
     "data": {
      "text/plain": [
       "array([[162.10305889],\n",
       "       [161.57014488],\n",
       "       [161.53776625],\n",
       "       [161.72617683],\n",
       "       [162.01501935],\n",
       "       [162.34831479],\n",
       "       [162.69702123],\n",
       "       [163.04478012],\n",
       "       [163.38248161],\n",
       "       [163.70465706],\n",
       "       [164.0097295 ],\n",
       "       [164.29775308],\n",
       "       [164.57024385],\n",
       "       [164.82936761],\n",
       "       [165.07752704],\n",
       "       [165.3178896 ],\n",
       "       [165.55325054],\n",
       "       [165.78561997],\n",
       "       [166.01685236],\n",
       "       [166.24851114],\n",
       "       [166.4817875 ],\n",
       "       [166.71750038],\n",
       "       [166.95629951],\n",
       "       [167.19834734],\n",
       "       [167.44377922],\n",
       "       [167.69260868],\n",
       "       [167.94459209],\n",
       "       [168.19951286],\n",
       "       [168.45694459],\n",
       "       [168.71661657]])"
      ]
     },
     "execution_count": 50,
     "metadata": {},
     "output_type": "execute_result"
    }
   ],
   "source": [
    "#going into 2020\n",
    "forecast"
   ]
  },
  {
   "cell_type": "code",
   "execution_count": 51,
   "metadata": {},
   "outputs": [
    {
     "data": {
      "text/html": [
       "<div>\n",
       "<style scoped>\n",
       "    .dataframe tbody tr th:only-of-type {\n",
       "        vertical-align: middle;\n",
       "    }\n",
       "\n",
       "    .dataframe tbody tr th {\n",
       "        vertical-align: top;\n",
       "    }\n",
       "\n",
       "    .dataframe thead th {\n",
       "        text-align: right;\n",
       "    }\n",
       "</style>\n",
       "<table border=\"1\" class=\"dataframe\">\n",
       "  <thead>\n",
       "    <tr style=\"text-align: right;\">\n",
       "      <th></th>\n",
       "      <th>Close</th>\n",
       "    </tr>\n",
       "    <tr>\n",
       "      <th>Date</th>\n",
       "      <th></th>\n",
       "    </tr>\n",
       "  </thead>\n",
       "  <tbody>\n",
       "    <tr>\n",
       "      <th>2018-10-01</th>\n",
       "      <td>230.90</td>\n",
       "    </tr>\n",
       "    <tr>\n",
       "      <th>2018-10-03</th>\n",
       "      <td>227.60</td>\n",
       "    </tr>\n",
       "    <tr>\n",
       "      <th>2018-10-04</th>\n",
       "      <td>218.20</td>\n",
       "    </tr>\n",
       "    <tr>\n",
       "      <th>2018-10-05</th>\n",
       "      <td>209.20</td>\n",
       "    </tr>\n",
       "    <tr>\n",
       "      <th>2018-10-08</th>\n",
       "      <td>215.15</td>\n",
       "    </tr>\n",
       "  </tbody>\n",
       "</table>\n",
       "</div>"
      ],
      "text/plain": [
       "             Close\n",
       "Date              \n",
       "2018-10-01  230.90\n",
       "2018-10-03  227.60\n",
       "2018-10-04  218.20\n",
       "2018-10-05  209.20\n",
       "2018-10-08  215.15"
      ]
     },
     "execution_count": 51,
     "metadata": {},
     "output_type": "execute_result"
    }
   ],
   "source": [
    "df.tail()"
   ]
  },
  {
   "cell_type": "code",
   "execution_count": 52,
   "metadata": {},
   "outputs": [],
   "source": [
    "#build forecast index\n",
    "#forecasting off predictions\n",
    "#period should be equal to intial batch ength\n",
    "forecast_index = pd.date_range(start='2018-10-09',periods=periods, freq='B')"
   ]
  },
  {
   "cell_type": "code",
   "execution_count": 53,
   "metadata": {},
   "outputs": [
    {
     "data": {
      "text/plain": [
       "DatetimeIndex(['2018-10-09', '2018-10-10', '2018-10-11', '2018-10-12',\n",
       "               '2018-10-15', '2018-10-16', '2018-10-17', '2018-10-18',\n",
       "               '2018-10-19', '2018-10-22', '2018-10-23', '2018-10-24',\n",
       "               '2018-10-25', '2018-10-26', '2018-10-29', '2018-10-30',\n",
       "               '2018-10-31', '2018-11-01', '2018-11-02', '2018-11-05',\n",
       "               '2018-11-06', '2018-11-07', '2018-11-08', '2018-11-09',\n",
       "               '2018-11-12', '2018-11-13', '2018-11-14', '2018-11-15',\n",
       "               '2018-11-16', '2018-11-19'],\n",
       "              dtype='datetime64[ns]', freq='B')"
      ]
     },
     "execution_count": 53,
     "metadata": {},
     "output_type": "execute_result"
    }
   ],
   "source": [
    "forecast_index"
   ]
  },
  {
   "cell_type": "code",
   "execution_count": 54,
   "metadata": {},
   "outputs": [],
   "source": [
    "forecast_df = pd.DataFrame(data=forecast,index=forecast_index, columns=['Forecast'])"
   ]
  },
  {
   "cell_type": "code",
   "execution_count": 55,
   "metadata": {},
   "outputs": [
    {
     "data": {
      "text/plain": [
       "[<matplotlib.lines.Line2D at 0x7f97c144ef60>]"
      ]
     },
     "execution_count": 55,
     "metadata": {},
     "output_type": "execute_result"
    },
    {
     "data": {
      "image/png": "[encoded data removed]",
      "text/plain": [
       "<Figure size 432x288 with 1 Axes>"
      ]
     },
     "metadata": {
      "needs_background": "light"
     },
     "output_type": "display_data"
    }
   ],
   "source": [
    "plt.plot(df.index, df['Close'])\n",
    "plt.plot(forecast_index, forecast)\n",
    "#forecast_df.plot()"
   ]
  },
  {
   "cell_type": "code",
   "execution_count": 56,
   "metadata": {},
   "outputs": [],
   "source": [
    "# ax=df.plot()\n",
    "# forecast_df.plot(ax=ax)"
   ]
  },
  {
   "cell_type": "code",
   "execution_count": 57,
   "metadata": {},
   "outputs": [
    {
     "data": {
      "text/plain": [
       "<AxesSubplot:xlabel='Date'>"
      ]
     },
     "execution_count": 57,
     "metadata": {},
     "output_type": "execute_result"
    },
    {
     "data": {
      "image/png": "[encoded data removed]",
      "text/plain": [
       "<Figure size 432x288 with 1 Axes>"
      ]
     },
     "metadata": {
      "needs_background": "light"
     },
     "output_type": "display_data"
    }
   ],
   "source": [
    "ax=df.plot()\n",
    "forecast_df.plot(ax=ax)\n",
    "#plt.xlim('2019-12-18','2020-04-01')"
   ]
  },
  {
   "cell_type": "markdown",
   "metadata": {},
   "source": [
    "## New Model"
   ]
  },
  {
   "cell_type": "code",
   "execution_count": 58,
   "metadata": {},
   "outputs": [],
   "source": [
    "df_1 = pd.read_csv('data/vinda.csv', parse_dates=True, index_col=[0])\n",
    "df_data = df_1.sort_index(ascending=True, axis=0)"
   ]
  },
  {
   "cell_type": "code",
   "execution_count": 59,
   "metadata": {},
   "outputs": [
    {
     "data": {
      "text/html": [
       "<div>\n",
       "<style scoped>\n",
       "    .dataframe tbody tr th:only-of-type {\n",
       "        vertical-align: middle;\n",
       "    }\n",
       "\n",
       "    .dataframe tbody tr th {\n",
       "        vertical-align: top;\n",
       "    }\n",
       "\n",
       "    .dataframe thead th {\n",
       "        text-align: right;\n",
       "    }\n",
       "</style>\n",
       "<table border=\"1\" class=\"dataframe\">\n",
       "  <thead>\n",
       "    <tr style=\"text-align: right;\">\n",
       "      <th></th>\n",
       "      <th>Open</th>\n",
       "      <th>High</th>\n",
       "      <th>Low</th>\n",
       "      <th>Last</th>\n",
       "      <th>Close</th>\n",
       "      <th>Total Trade Quantity</th>\n",
       "      <th>Turnover (Lacs)</th>\n",
       "    </tr>\n",
       "    <tr>\n",
       "      <th>Date</th>\n",
       "      <th></th>\n",
       "      <th></th>\n",
       "      <th></th>\n",
       "      <th></th>\n",
       "      <th></th>\n",
       "      <th></th>\n",
       "      <th></th>\n",
       "    </tr>\n",
       "  </thead>\n",
       "  <tbody>\n",
       "    <tr>\n",
       "      <th>2013-10-08</th>\n",
       "      <td>157.00</td>\n",
       "      <td>157.80</td>\n",
       "      <td>155.20</td>\n",
       "      <td>155.8</td>\n",
       "      <td>155.80</td>\n",
       "      <td>1720413.0</td>\n",
       "      <td>2688.94</td>\n",
       "    </tr>\n",
       "    <tr>\n",
       "      <th>2013-10-09</th>\n",
       "      <td>155.70</td>\n",
       "      <td>158.20</td>\n",
       "      <td>154.15</td>\n",
       "      <td>155.3</td>\n",
       "      <td>155.55</td>\n",
       "      <td>2049580.0</td>\n",
       "      <td>3204.49</td>\n",
       "    </tr>\n",
       "    <tr>\n",
       "      <th>2013-10-10</th>\n",
       "      <td>156.00</td>\n",
       "      <td>160.80</td>\n",
       "      <td>155.85</td>\n",
       "      <td>160.3</td>\n",
       "      <td>160.15</td>\n",
       "      <td>3124853.0</td>\n",
       "      <td>4978.80</td>\n",
       "    </tr>\n",
       "    <tr>\n",
       "      <th>2013-10-11</th>\n",
       "      <td>161.15</td>\n",
       "      <td>163.45</td>\n",
       "      <td>159.00</td>\n",
       "      <td>159.8</td>\n",
       "      <td>160.05</td>\n",
       "      <td>1880046.0</td>\n",
       "      <td>3030.76</td>\n",
       "    </tr>\n",
       "    <tr>\n",
       "      <th>2013-10-14</th>\n",
       "      <td>160.85</td>\n",
       "      <td>161.45</td>\n",
       "      <td>157.70</td>\n",
       "      <td>159.3</td>\n",
       "      <td>159.45</td>\n",
       "      <td>1281419.0</td>\n",
       "      <td>2039.09</td>\n",
       "    </tr>\n",
       "  </tbody>\n",
       "</table>\n",
       "</div>"
      ],
      "text/plain": [
       "              Open    High     Low   Last   Close  Total Trade Quantity  \\\n",
       "Date                                                                      \n",
       "2013-10-08  157.00  157.80  155.20  155.8  155.80             1720413.0   \n",
       "2013-10-09  155.70  158.20  154.15  155.3  155.55             2049580.0   \n",
       "2013-10-10  156.00  160.80  155.85  160.3  160.15             3124853.0   \n",
       "2013-10-11  161.15  163.45  159.00  159.8  160.05             1880046.0   \n",
       "2013-10-14  160.85  161.45  157.70  159.3  159.45             1281419.0   \n",
       "\n",
       "            Turnover (Lacs)  \n",
       "Date                         \n",
       "2013-10-08          2688.94  \n",
       "2013-10-09          3204.49  \n",
       "2013-10-10          4978.80  \n",
       "2013-10-11          3030.76  \n",
       "2013-10-14          2039.09  "
      ]
     },
     "execution_count": 59,
     "metadata": {},
     "output_type": "execute_result"
    }
   ],
   "source": [
    "df_data.head()"
   ]
  },
  {
   "cell_type": "code",
   "execution_count": 60,
   "metadata": {},
   "outputs": [
    {
     "data": {
      "text/html": [
       "<div>\n",
       "<style scoped>\n",
       "    .dataframe tbody tr th:only-of-type {\n",
       "        vertical-align: middle;\n",
       "    }\n",
       "\n",
       "    .dataframe tbody tr th {\n",
       "        vertical-align: top;\n",
       "    }\n",
       "\n",
       "    .dataframe thead th {\n",
       "        text-align: right;\n",
       "    }\n",
       "</style>\n",
       "<table border=\"1\" class=\"dataframe\">\n",
       "  <thead>\n",
       "    <tr style=\"text-align: right;\">\n",
       "      <th></th>\n",
       "      <th>Open</th>\n",
       "      <th>High</th>\n",
       "      <th>Low</th>\n",
       "      <th>Last</th>\n",
       "      <th>Close</th>\n",
       "      <th>Total Trade Quantity</th>\n",
       "      <th>Turnover (Lacs)</th>\n",
       "    </tr>\n",
       "    <tr>\n",
       "      <th>Date</th>\n",
       "      <th></th>\n",
       "      <th></th>\n",
       "      <th></th>\n",
       "      <th></th>\n",
       "      <th></th>\n",
       "      <th></th>\n",
       "      <th></th>\n",
       "    </tr>\n",
       "  </thead>\n",
       "  <tbody>\n",
       "    <tr>\n",
       "      <th>2018-10-01</th>\n",
       "      <td>234.55</td>\n",
       "      <td>234.60</td>\n",
       "      <td>221.05</td>\n",
       "      <td>230.30</td>\n",
       "      <td>230.90</td>\n",
       "      <td>1534749.0</td>\n",
       "      <td>3486.05</td>\n",
       "    </tr>\n",
       "    <tr>\n",
       "      <th>2018-10-03</th>\n",
       "      <td>230.00</td>\n",
       "      <td>237.50</td>\n",
       "      <td>225.75</td>\n",
       "      <td>226.45</td>\n",
       "      <td>227.60</td>\n",
       "      <td>1708590.0</td>\n",
       "      <td>3960.27</td>\n",
       "    </tr>\n",
       "    <tr>\n",
       "      <th>2018-10-04</th>\n",
       "      <td>223.50</td>\n",
       "      <td>227.80</td>\n",
       "      <td>216.15</td>\n",
       "      <td>217.25</td>\n",
       "      <td>218.20</td>\n",
       "      <td>1728786.0</td>\n",
       "      <td>3815.79</td>\n",
       "    </tr>\n",
       "    <tr>\n",
       "      <th>2018-10-05</th>\n",
       "      <td>217.00</td>\n",
       "      <td>218.60</td>\n",
       "      <td>205.90</td>\n",
       "      <td>210.25</td>\n",
       "      <td>209.20</td>\n",
       "      <td>3519515.0</td>\n",
       "      <td>7407.06</td>\n",
       "    </tr>\n",
       "    <tr>\n",
       "      <th>2018-10-08</th>\n",
       "      <td>208.00</td>\n",
       "      <td>222.25</td>\n",
       "      <td>206.85</td>\n",
       "      <td>216.00</td>\n",
       "      <td>215.15</td>\n",
       "      <td>4642146.0</td>\n",
       "      <td>10062.83</td>\n",
       "    </tr>\n",
       "  </tbody>\n",
       "</table>\n",
       "</div>"
      ],
      "text/plain": [
       "              Open    High     Low    Last   Close  Total Trade Quantity  \\\n",
       "Date                                                                       \n",
       "2018-10-01  234.55  234.60  221.05  230.30  230.90             1534749.0   \n",
       "2018-10-03  230.00  237.50  225.75  226.45  227.60             1708590.0   \n",
       "2018-10-04  223.50  227.80  216.15  217.25  218.20             1728786.0   \n",
       "2018-10-05  217.00  218.60  205.90  210.25  209.20             3519515.0   \n",
       "2018-10-08  208.00  222.25  206.85  216.00  215.15             4642146.0   \n",
       "\n",
       "            Turnover (Lacs)  \n",
       "Date                         \n",
       "2018-10-01          3486.05  \n",
       "2018-10-03          3960.27  \n",
       "2018-10-04          3815.79  \n",
       "2018-10-05          7407.06  \n",
       "2018-10-08         10062.83  "
      ]
     },
     "execution_count": 60,
     "metadata": {},
     "output_type": "execute_result"
    }
   ],
   "source": [
    "df_data.tail()"
   ]
  },
  {
   "cell_type": "code",
   "execution_count": 61,
   "metadata": {},
   "outputs": [
    {
     "data": {
      "text/plain": [
       "(1235, 7)"
      ]
     },
     "execution_count": 61,
     "metadata": {},
     "output_type": "execute_result"
    }
   ],
   "source": [
    "df_data.shape"
   ]
  },
  {
   "cell_type": "code",
   "execution_count": 62,
   "metadata": {},
   "outputs": [],
   "source": [
    "df_tataglobal = df_data['Close']\n",
    "df_tataglobal = pd.DataFrame(df_tataglobal)"
   ]
  },
  {
   "cell_type": "code",
   "execution_count": 63,
   "metadata": {},
   "outputs": [
    {
     "data": {
      "text/plain": [
       "247.0"
      ]
     },
     "execution_count": 63,
     "metadata": {},
     "output_type": "execute_result"
    }
   ],
   "source": [
    "len(df_tataglobal) * .20"
   ]
  },
  {
   "cell_type": "code",
   "execution_count": 64,
   "metadata": {},
   "outputs": [
    {
     "data": {
      "text/plain": [
       "248"
      ]
     },
     "execution_count": 64,
     "metadata": {},
     "output_type": "execute_result"
    }
   ],
   "source": [
    "1235 - 987"
   ]
  },
  {
   "cell_type": "code",
   "execution_count": 65,
   "metadata": {},
   "outputs": [
    {
     "data": {
      "text/plain": [
       "((988, 1), (247, 1))"
      ]
     },
     "execution_count": 65,
     "metadata": {},
     "output_type": "execute_result"
    }
   ],
   "source": [
    "test_percent = 0.2 \n",
    "len(df_tataglobal) * test_percent\n",
    "test_point = np.round(len(df_tataglobal) * test_percent)\n",
    "test_ind = int(len(df_tataglobal) - test_point)\n",
    "train = df_tataglobal.iloc[:test_ind]\n",
    "valid = df_tataglobal.iloc[test_ind:] #test_ind point and go to end\n",
    "train.shape, valid.shape"
   ]
  },
  {
   "cell_type": "code",
   "execution_count": 66,
   "metadata": {},
   "outputs": [],
   "source": [
    "#converting dataset into x_train and y_train\n",
    "scaler = MinMaxScaler(feature_range=(0, 1))\n",
    "scaled_data = scaler.fit_transform(df_tataglobal)\n"
   ]
  },
  {
   "cell_type": "code",
   "execution_count": 67,
   "metadata": {},
   "outputs": [],
   "source": [
    "x_train, y_train = [], []\n",
    "for i in range(60,len(train)):\n",
    "    x_train.append(scaled_data[i-60:i,0])\n",
    "    y_train.append(scaled_data[i,0])\n",
    "x_train, y_train = np.array(x_train), np.array(y_train)\n",
    "\n",
    "x_train = np.reshape(x_train, (x_train.shape[0],x_train.shape[1],1))\n"
   ]
  },
  {
   "cell_type": "code",
   "execution_count": 68,
   "metadata": {},
   "outputs": [],
   "source": [
    "# create and fit the LSTM network\n",
    "model = Sequential()\n",
    "model.add(LSTM(units=50, return_sequences=True, input_shape=(x_train.shape[1],1)))\n",
    "model.add(LSTM(units=50))\n",
    "model.add(Dense(1))\n",
    "\n",
    "model.compile(loss='mean_squared_error', optimizer='adam')"
   ]
  },
  {
   "cell_type": "code",
   "execution_count": 69,
   "metadata": {},
   "outputs": [
    {
     "name": "stdout",
     "output_type": "stream",
     "text": [
      "Epoch 1/2\n",
      " - 121s - loss: 0.0011\n",
      "Epoch 2/2\n",
      " - 124s - loss: 4.9171e-04\n"
     ]
    },
    {
     "data": {
      "text/plain": [
       "<keras.callbacks.History at 0x7f97c55e17f0>"
      ]
     },
     "execution_count": 69,
     "metadata": {},
     "output_type": "execute_result"
    }
   ],
   "source": [
    "model.fit(x_train, y_train, epochs=2, batch_size=1, verbose=2)"
   ]
  },
  {
   "cell_type": "code",
   "execution_count": 70,
   "metadata": {},
   "outputs": [],
   "source": [
    "#predicting 246 values, using past 60 from the train data\n",
    "inputs = df_tataglobal[len(df_tataglobal) - len(valid) - 60:].values\n",
    "inputs = inputs.reshape(-1,1)\n",
    "inputs  = scaler.transform(inputs)\n",
    "\n",
    "X_test = []\n",
    "for i in range(60,inputs.shape[0]):\n",
    "    X_test.append(inputs[i-60:i,0])\n",
    "X_test = np.array(X_test)\n",
    "\n",
    "X_test = np.reshape(X_test, (X_test.shape[0],X_test.shape[1],1))\n",
    "closing_price = model.predict(X_test)\n",
    "closing_price = scaler.inverse_transform(closing_price)\n"
   ]
  },
  {
   "cell_type": "code",
   "execution_count": 71,
   "metadata": {},
   "outputs": [
    {
     "data": {
      "text/plain": [
       "Close    16.225262\n",
       "dtype: float64"
      ]
     },
     "execution_count": 71,
     "metadata": {},
     "output_type": "execute_result"
    }
   ],
   "source": [
    "rms=np.sqrt(np.mean(np.power((valid-closing_price),2)))\n",
    "rms"
   ]
  },
  {
   "cell_type": "code",
   "execution_count": 72,
   "metadata": {},
   "outputs": [
    {
     "name": "stderr",
     "output_type": "stream",
     "text": [
      "/Users/davidtorres/opt/anaconda3/envs/learn-env/lib/python3.6/site-packages/ipykernel_launcher.py:6: SettingWithCopyWarning: \n",
      "A value is trying to be set on a copy of a slice from a DataFrame.\n",
      "Try using .loc[row_indexer,col_indexer] = value instead\n",
      "\n",
      "See the caveats in the documentation: https://pandas.pydata.org/pandas-docs/stable/user_guide/indexing.html#returning-a-view-versus-a-copy\n",
      "  \n"
     ]
    },
    {
     "data": {
      "text/plain": [
       "[<matplotlib.lines.Line2D at 0x7f97c58a1be0>,\n",
       " <matplotlib.lines.Line2D at 0x7f97c36e6588>]"
      ]
     },
     "execution_count": 72,
     "metadata": {},
     "output_type": "execute_result"
    },
    {
     "data": {
      "image/png": "[encoded data removed]",
      "text/plain": [
       "<Figure size 432x288 with 1 Axes>"
      ]
     },
     "metadata": {
      "needs_background": "light"
     },
     "output_type": "display_data"
    }
   ],
   "source": [
    "#for plotting\n",
    "train = df_tataglobal.iloc[:test_ind]\n",
    "valid = df_tataglobal.iloc[test_ind:] #test_ind point and go to end\n",
    "# train = df_tataglobal[:987]\n",
    "# valid = df_tataglobal[987:]\n",
    "valid['Predictions'] = closing_price\n",
    "plt.plot(train['Close'])\n",
    "plt.plot(valid[['Close','Predictions']])"
   ]
  },
  {
   "cell_type": "code",
   "execution_count": null,
   "metadata": {},
   "outputs": [],
   "source": []
  },
  {
   "cell_type": "code",
   "execution_count": null,
   "metadata": {},
   "outputs": [],
   "source": [
    "#df_ = pd.read_csv('apple_2012_1_1-2019_12_17.csv', parse_dates=True, index_col=[0])"
   ]
  }
 ],
 "metadata": {
  "kernelspec": {
   "display_name": "Python 3",
   "language": "python",
   "name": "python3"
  },
  "language_info": {
   "codemirror_mode": {
    "name": "ipython",
    "version": 3
   },
   "file_extension": ".py",
   "mimetype": "text/x-python",
   "name": "python",
   "nbconvert_exporter": "python",
   "pygments_lexer": "ipython3",
   "version": "3.6.9"
  },
  "toc": {
   "base_numbering": 1,
   "nav_menu": {},
   "number_sections": true,
   "sideBar": true,
   "skip_h1_title": false,
   "title_cell": "Table of Contents",
   "title_sidebar": "Contents",
   "toc_cell": false,
   "toc_position": {},
   "toc_section_display": true,
   "toc_window_display": false
  }
 },
 "nbformat": 4,
 "nbformat_minor": 4
}
